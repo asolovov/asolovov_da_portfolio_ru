{
 "cells": [
  {
   "cell_type": "markdown",
   "metadata": {
    "toc": true
   },
   "source": [
    "<h1>Оглавление<span class=\"tocSkip\"></span></h1>\n",
    "<div class=\"toc\"><ul class=\"toc-item\"><li><span><a href=\"#Исследование-данных-о-российском-кинопрокате\" data-toc-modified-id=\"Исследование-данных-о-российском-кинопрокате-1\"><span class=\"toc-item-num\">1&nbsp;&nbsp;</span>Исследование данных о российском кинопрокате</a></span><ul class=\"toc-item\"><li><span><a href=\"#Шаг-1.-Откройте-файлы-с-данными-и-объедините-их-в-один-датафрейм.\" data-toc-modified-id=\"Шаг-1.-Откройте-файлы-с-данными-и-объедините-их-в-один-датафрейм.-1.1\"><span class=\"toc-item-num\">1.1&nbsp;&nbsp;</span>Шаг 1. Откройте файлы с данными и объедините их в один датафрейм.</a></span><ul class=\"toc-item\"><li><span><a href=\"#Вывод\" data-toc-modified-id=\"Вывод-1.1.1\"><span class=\"toc-item-num\">1.1.1&nbsp;&nbsp;</span>Вывод</a></span></li></ul></li><li><span><a href=\"#Шаг-2.-Предобработка-данных\" data-toc-modified-id=\"Шаг-2.-Предобработка-данных-1.2\"><span class=\"toc-item-num\">1.2&nbsp;&nbsp;</span>Шаг 2. Предобработка данных</a></span><ul class=\"toc-item\"><li><span><a href=\"#Шаг-2.1.-Проверьте-типы-данных\" data-toc-modified-id=\"Шаг-2.1.-Проверьте-типы-данных-1.2.1\"><span class=\"toc-item-num\">1.2.1&nbsp;&nbsp;</span>Шаг 2.1. Проверьте типы данных</a></span></li><li><span><a href=\"#Шаг-2.2.-Изучите-пропуски-в-датафрейме\" data-toc-modified-id=\"Шаг-2.2.-Изучите-пропуски-в-датафрейме-1.2.2\"><span class=\"toc-item-num\">1.2.2&nbsp;&nbsp;</span>Шаг 2.2. Изучите пропуски в датафрейме</a></span></li><li><span><a href=\"#Шаг-2.3.-Изучите-дубликаты-в-датафрейме\" data-toc-modified-id=\"Шаг-2.3.-Изучите-дубликаты-в-датафрейме-1.2.3\"><span class=\"toc-item-num\">1.2.3&nbsp;&nbsp;</span>Шаг 2.3. Изучите дубликаты в датафрейме</a></span></li><li><span><a href=\"#Шаг-2.4.-Изучите-категориальные-значения\" data-toc-modified-id=\"Шаг-2.4.-Изучите-категориальные-значения-1.2.4\"><span class=\"toc-item-num\">1.2.4&nbsp;&nbsp;</span>Шаг 2.4. Изучите категориальные значения</a></span></li><li><span><a href=\"#Шаг-2.5.-Проверьте-количественные-значения\" data-toc-modified-id=\"Шаг-2.5.-Проверьте-количественные-значения-1.2.5\"><span class=\"toc-item-num\">1.2.5&nbsp;&nbsp;</span>Шаг 2.5. Проверьте количественные значения</a></span></li><li><span><a href=\"#Шаг-2.6.-Добавьте-новые-столбцы\" data-toc-modified-id=\"Шаг-2.6.-Добавьте-новые-столбцы-1.2.6\"><span class=\"toc-item-num\">1.2.6&nbsp;&nbsp;</span>Шаг 2.6. Добавьте новые столбцы</a></span></li><li><span><a href=\"#Вывод\" data-toc-modified-id=\"Вывод-1.2.7\"><span class=\"toc-item-num\">1.2.7&nbsp;&nbsp;</span>Вывод</a></span></li></ul></li><li><span><a href=\"#Шаг-3.-Проведите-исследовательский-анализ-данных\" data-toc-modified-id=\"Шаг-3.-Проведите-исследовательский-анализ-данных-1.3\"><span class=\"toc-item-num\">1.3&nbsp;&nbsp;</span>Шаг 3. Проведите исследовательский анализ данных</a></span><ul class=\"toc-item\"><li><span><a href=\"#Количество-фильмов-и-качество-данных\" data-toc-modified-id=\"Количество-фильмов-и-качество-данных-1.3.1\"><span class=\"toc-item-num\">1.3.1&nbsp;&nbsp;</span>Количество фильмов и качество данных</a></span></li><li><span><a href=\"#Динамика-проката-по-годам\" data-toc-modified-id=\"Динамика-проката-по-годам-1.3.2\"><span class=\"toc-item-num\">1.3.2&nbsp;&nbsp;</span>Динамика проката по годам</a></span></li><li><span><a href=\"#Средняя-и-медиана-по-сумме-сборов-по-годам\" data-toc-modified-id=\"Средняя-и-медиана-по-сумме-сборов-по-годам-1.3.3\"><span class=\"toc-item-num\">1.3.3&nbsp;&nbsp;</span>Средняя и медиана по сумме сборов по годам</a></span></li><li><span><a href=\"#Исследование-влияния-возрастных-ограничений\" data-toc-modified-id=\"Исследование-влияния-возрастных-ограничений-1.3.4\"><span class=\"toc-item-num\">1.3.4&nbsp;&nbsp;</span>Исследование влияния возрастных ограничений</a></span></li><li><span><a href=\"#Выводы\" data-toc-modified-id=\"Выводы-1.3.5\"><span class=\"toc-item-num\">1.3.5&nbsp;&nbsp;</span>Выводы</a></span></li></ul></li><li><span><a href=\"#Шаг-4.-Исследуйте-фильмы,-которые-получили-государственную-поддержку\" data-toc-modified-id=\"Шаг-4.-Исследуйте-фильмы,-которые-получили-государственную-поддержку-1.4\"><span class=\"toc-item-num\">1.4&nbsp;&nbsp;</span>Шаг 4. Исследуйте фильмы, которые получили государственную поддержку</a></span><ul class=\"toc-item\"><li><span><a href=\"#Дополнительная-обработка-данных\" data-toc-modified-id=\"Дополнительная-обработка-данных-1.4.1\"><span class=\"toc-item-num\">1.4.1&nbsp;&nbsp;</span>Дополнительная обработка данных</a></span></li><li><span><a href=\"#Исследовательский-анализ\" data-toc-modified-id=\"Исследовательский-анализ-1.4.2\"><span class=\"toc-item-num\">1.4.2&nbsp;&nbsp;</span>Исследовательский анализ</a></span></li><li><span><a href=\"#Вывод\" data-toc-modified-id=\"Вывод-1.4.3\"><span class=\"toc-item-num\">1.4.3&nbsp;&nbsp;</span>Вывод</a></span></li></ul></li><li><span><a href=\"#Шаг-5.-Напишите-общий-вывод\" data-toc-modified-id=\"Шаг-5.-Напишите-общий-вывод-1.5\"><span class=\"toc-item-num\">1.5&nbsp;&nbsp;</span>Шаг 5. Напишите общий вывод</a></span></li></ul></li></ul></div>"
   ]
  },
  {
   "cell_type": "markdown",
   "metadata": {
    "id": "sIfNaMOxgFyK"
   },
   "source": [
    "## Исследование данных о российском кинопрокате\n",
    "\n"
   ]
  },
  {
   "cell_type": "markdown",
   "metadata": {
    "id": "3bSlkCsbgFyL"
   },
   "source": [
    "### Шаг 1. Откройте файлы с данными и объедините их в один датафрейм. \n"
   ]
  },
  {
   "cell_type": "code",
   "execution_count": 1,
   "metadata": {
    "id": "dw87FlzMgFyM"
   },
   "outputs": [],
   "source": [
    "import pandas as pd\n",
    "import matplotlib.pyplot as plt\n",
    "import numpy as np\n",
    "import warnings"
   ]
  },
  {
   "cell_type": "code",
   "execution_count": 2,
   "metadata": {},
   "outputs": [],
   "source": [
    "df_movies = pd.read_csv('/datasets/mkrf_movies.csv')\n",
    "df_shows = pd.read_csv('/datasets/mkrf_shows.csv')"
   ]
  },
  {
   "cell_type": "code",
   "execution_count": 3,
   "metadata": {},
   "outputs": [
    {
     "name": "stdout",
     "output_type": "stream",
     "text": [
      "<class 'pandas.core.frame.DataFrame'>\n",
      "RangeIndex: 7486 entries, 0 to 7485\n",
      "Data columns (total 15 columns):\n",
      "title                    7486 non-null object\n",
      "puNumber                 7486 non-null object\n",
      "show_start_date          7486 non-null object\n",
      "type                     7486 non-null object\n",
      "film_studio              7468 non-null object\n",
      "production_country       7484 non-null object\n",
      "director                 7477 non-null object\n",
      "producer                 6918 non-null object\n",
      "age_restriction          7486 non-null object\n",
      "refundable_support       332 non-null float64\n",
      "nonrefundable_support    332 non-null float64\n",
      "budget                   332 non-null float64\n",
      "financing_source         332 non-null object\n",
      "ratings                  6519 non-null object\n",
      "genres                   6510 non-null object\n",
      "dtypes: float64(3), object(12)\n",
      "memory usage: 877.4+ KB\n"
     ]
    },
    {
     "data": {
      "text/html": [
       "<div>\n",
       "<style scoped>\n",
       "    .dataframe tbody tr th:only-of-type {\n",
       "        vertical-align: middle;\n",
       "    }\n",
       "\n",
       "    .dataframe tbody tr th {\n",
       "        vertical-align: top;\n",
       "    }\n",
       "\n",
       "    .dataframe thead th {\n",
       "        text-align: right;\n",
       "    }\n",
       "</style>\n",
       "<table border=\"1\" class=\"dataframe\">\n",
       "  <thead>\n",
       "    <tr style=\"text-align: right;\">\n",
       "      <th></th>\n",
       "      <th>title</th>\n",
       "      <th>puNumber</th>\n",
       "      <th>show_start_date</th>\n",
       "      <th>type</th>\n",
       "      <th>film_studio</th>\n",
       "      <th>production_country</th>\n",
       "      <th>director</th>\n",
       "      <th>producer</th>\n",
       "      <th>age_restriction</th>\n",
       "      <th>refundable_support</th>\n",
       "      <th>nonrefundable_support</th>\n",
       "      <th>budget</th>\n",
       "      <th>financing_source</th>\n",
       "      <th>ratings</th>\n",
       "      <th>genres</th>\n",
       "    </tr>\n",
       "  </thead>\n",
       "  <tbody>\n",
       "    <tr>\n",
       "      <td>0</td>\n",
       "      <td>Открытый простор</td>\n",
       "      <td>221048915</td>\n",
       "      <td>2015-11-27T12:00:00.000Z</td>\n",
       "      <td>Художественный</td>\n",
       "      <td>Тачстоун Пикчерз, Кобальт Пикчерз, Бикон Пикче...</td>\n",
       "      <td>США</td>\n",
       "      <td>Кевин Костнер</td>\n",
       "      <td>Дэвид Валдес, Кевин Костнер, Джейк Эбертс</td>\n",
       "      <td>«18+» - запрещено для детей</td>\n",
       "      <td>NaN</td>\n",
       "      <td>NaN</td>\n",
       "      <td>NaN</td>\n",
       "      <td>NaN</td>\n",
       "      <td>7.2</td>\n",
       "      <td>боевик,драма,мелодрама</td>\n",
       "    </tr>\n",
       "    <tr>\n",
       "      <td>1</td>\n",
       "      <td>Особо важное задание</td>\n",
       "      <td>111013716</td>\n",
       "      <td>2016-09-13T12:00:00.000Z</td>\n",
       "      <td>Художественный</td>\n",
       "      <td>Киностудия \"Мосфильм\"</td>\n",
       "      <td>СССР</td>\n",
       "      <td>Е.Матвеев</td>\n",
       "      <td>NaN</td>\n",
       "      <td>«6+» - для детей старше 6 лет</td>\n",
       "      <td>NaN</td>\n",
       "      <td>NaN</td>\n",
       "      <td>NaN</td>\n",
       "      <td>NaN</td>\n",
       "      <td>6.6</td>\n",
       "      <td>драма,военный</td>\n",
       "    </tr>\n",
       "    <tr>\n",
       "      <td>2</td>\n",
       "      <td>Особо опасен</td>\n",
       "      <td>221038416</td>\n",
       "      <td>2016-10-10T12:00:00.000Z</td>\n",
       "      <td>Художественный</td>\n",
       "      <td>Юниверсал Пикчерз, Кикстарт Продакшнз, Марк Пл...</td>\n",
       "      <td>США</td>\n",
       "      <td>Тимур Бекмамбетов</td>\n",
       "      <td>Джим Лемли, Джейсон Нетер, Марк Е.Платт, Яйн Смит</td>\n",
       "      <td>«18+» - запрещено для детей</td>\n",
       "      <td>NaN</td>\n",
       "      <td>NaN</td>\n",
       "      <td>NaN</td>\n",
       "      <td>NaN</td>\n",
       "      <td>6.8</td>\n",
       "      <td>фантастика,боевик,триллер</td>\n",
       "    </tr>\n",
       "    <tr>\n",
       "      <td>3</td>\n",
       "      <td>Особо опасен</td>\n",
       "      <td>221026916</td>\n",
       "      <td>2016-06-10T12:00:00.000Z</td>\n",
       "      <td>Художественный</td>\n",
       "      <td>Юниверсал Пикчерз, Кикстарт Продакшнз, Марк Пл...</td>\n",
       "      <td>США</td>\n",
       "      <td>Тимур Бекмамбетов</td>\n",
       "      <td>Джим Лемли, Джейсон Нетер, Марк Е.Платт, Яйн Смит</td>\n",
       "      <td>«18+» - запрещено для детей</td>\n",
       "      <td>NaN</td>\n",
       "      <td>NaN</td>\n",
       "      <td>NaN</td>\n",
       "      <td>NaN</td>\n",
       "      <td>6.8</td>\n",
       "      <td>фантастика,боевик,триллер</td>\n",
       "    </tr>\n",
       "    <tr>\n",
       "      <td>4</td>\n",
       "      <td>Особо опасен</td>\n",
       "      <td>221030815</td>\n",
       "      <td>2015-07-29T12:00:00.000Z</td>\n",
       "      <td>Художественный</td>\n",
       "      <td>Юниверсал Пикчерз, Кикстарт Продакшнз, Марк Пл...</td>\n",
       "      <td>США</td>\n",
       "      <td>Тимур Бекмамбетов</td>\n",
       "      <td>Джим Лемли, Джейсон Нетер, Марк Е.Платт, Яйн Смит</td>\n",
       "      <td>«18+» - запрещено для детей</td>\n",
       "      <td>NaN</td>\n",
       "      <td>NaN</td>\n",
       "      <td>NaN</td>\n",
       "      <td>NaN</td>\n",
       "      <td>6.8</td>\n",
       "      <td>фантастика,боевик,триллер</td>\n",
       "    </tr>\n",
       "  </tbody>\n",
       "</table>\n",
       "</div>"
      ],
      "text/plain": [
       "                  title   puNumber           show_start_date            type  \\\n",
       "0      Открытый простор  221048915  2015-11-27T12:00:00.000Z  Художественный   \n",
       "1  Особо важное задание  111013716  2016-09-13T12:00:00.000Z  Художественный   \n",
       "2          Особо опасен  221038416  2016-10-10T12:00:00.000Z  Художественный   \n",
       "3          Особо опасен  221026916  2016-06-10T12:00:00.000Z  Художественный   \n",
       "4          Особо опасен  221030815  2015-07-29T12:00:00.000Z  Художественный   \n",
       "\n",
       "                                         film_studio production_country  \\\n",
       "0  Тачстоун Пикчерз, Кобальт Пикчерз, Бикон Пикче...                США   \n",
       "1                              Киностудия \"Мосфильм\"               СССР   \n",
       "2  Юниверсал Пикчерз, Кикстарт Продакшнз, Марк Пл...                США   \n",
       "3  Юниверсал Пикчерз, Кикстарт Продакшнз, Марк Пл...                США   \n",
       "4  Юниверсал Пикчерз, Кикстарт Продакшнз, Марк Пл...                США   \n",
       "\n",
       "            director                                           producer  \\\n",
       "0      Кевин Костнер          Дэвид Валдес, Кевин Костнер, Джейк Эбертс   \n",
       "1          Е.Матвеев                                                NaN   \n",
       "2  Тимур Бекмамбетов  Джим Лемли, Джейсон Нетер, Марк Е.Платт, Яйн Смит   \n",
       "3  Тимур Бекмамбетов  Джим Лемли, Джейсон Нетер, Марк Е.Платт, Яйн Смит   \n",
       "4  Тимур Бекмамбетов  Джим Лемли, Джейсон Нетер, Марк Е.Платт, Яйн Смит   \n",
       "\n",
       "                 age_restriction  refundable_support  nonrefundable_support  \\\n",
       "0    «18+» - запрещено для детей                 NaN                    NaN   \n",
       "1  «6+» - для детей старше 6 лет                 NaN                    NaN   \n",
       "2    «18+» - запрещено для детей                 NaN                    NaN   \n",
       "3    «18+» - запрещено для детей                 NaN                    NaN   \n",
       "4    «18+» - запрещено для детей                 NaN                    NaN   \n",
       "\n",
       "   budget financing_source ratings                     genres  \n",
       "0     NaN              NaN     7.2     боевик,драма,мелодрама  \n",
       "1     NaN              NaN     6.6              драма,военный  \n",
       "2     NaN              NaN     6.8  фантастика,боевик,триллер  \n",
       "3     NaN              NaN     6.8  фантастика,боевик,триллер  \n",
       "4     NaN              NaN     6.8  фантастика,боевик,триллер  "
      ]
     },
     "execution_count": 3,
     "metadata": {},
     "output_type": "execute_result"
    }
   ],
   "source": [
    "df_movies.info()\n",
    "df_movies.head(5)"
   ]
  },
  {
   "cell_type": "code",
   "execution_count": 4,
   "metadata": {},
   "outputs": [
    {
     "name": "stdout",
     "output_type": "stream",
     "text": [
      "<class 'pandas.core.frame.DataFrame'>\n",
      "RangeIndex: 3158 entries, 0 to 3157\n",
      "Data columns (total 2 columns):\n",
      "puNumber      3158 non-null int64\n",
      "box_office    3158 non-null float64\n",
      "dtypes: float64(1), int64(1)\n",
      "memory usage: 49.5 KB\n"
     ]
    },
    {
     "data": {
      "text/html": [
       "<div>\n",
       "<style scoped>\n",
       "    .dataframe tbody tr th:only-of-type {\n",
       "        vertical-align: middle;\n",
       "    }\n",
       "\n",
       "    .dataframe tbody tr th {\n",
       "        vertical-align: top;\n",
       "    }\n",
       "\n",
       "    .dataframe thead th {\n",
       "        text-align: right;\n",
       "    }\n",
       "</style>\n",
       "<table border=\"1\" class=\"dataframe\">\n",
       "  <thead>\n",
       "    <tr style=\"text-align: right;\">\n",
       "      <th></th>\n",
       "      <th>puNumber</th>\n",
       "      <th>box_office</th>\n",
       "    </tr>\n",
       "  </thead>\n",
       "  <tbody>\n",
       "    <tr>\n",
       "      <td>0</td>\n",
       "      <td>111000113</td>\n",
       "      <td>2.450000e+03</td>\n",
       "    </tr>\n",
       "    <tr>\n",
       "      <td>1</td>\n",
       "      <td>111000115</td>\n",
       "      <td>6.104000e+04</td>\n",
       "    </tr>\n",
       "    <tr>\n",
       "      <td>2</td>\n",
       "      <td>111000116</td>\n",
       "      <td>1.530300e+08</td>\n",
       "    </tr>\n",
       "    <tr>\n",
       "      <td>3</td>\n",
       "      <td>111000117</td>\n",
       "      <td>1.226096e+07</td>\n",
       "    </tr>\n",
       "    <tr>\n",
       "      <td>4</td>\n",
       "      <td>111000118</td>\n",
       "      <td>1.636841e+08</td>\n",
       "    </tr>\n",
       "  </tbody>\n",
       "</table>\n",
       "</div>"
      ],
      "text/plain": [
       "    puNumber    box_office\n",
       "0  111000113  2.450000e+03\n",
       "1  111000115  6.104000e+04\n",
       "2  111000116  1.530300e+08\n",
       "3  111000117  1.226096e+07\n",
       "4  111000118  1.636841e+08"
      ]
     },
     "execution_count": 4,
     "metadata": {},
     "output_type": "execute_result"
    }
   ],
   "source": [
    "df_shows.info()\n",
    "df_shows.head(5)"
   ]
  },
  {
   "cell_type": "markdown",
   "metadata": {},
   "source": [
    "Необходимо объединить данные по столбцу `puNumber`. В датафрейме `shows` типа данных этого столбца int64, а в датафрейме `movies` srting. Приведем столбцы к единому виду и используем метод `merge`."
   ]
  },
  {
   "cell_type": "code",
   "execution_count": 5,
   "metadata": {},
   "outputs": [],
   "source": [
    "df_shows['puNumber'] = df_shows['puNumber'].astype('str')\n",
    "df = df_movies.merge(df_shows, on = 'puNumber', how = 'left')"
   ]
  },
  {
   "cell_type": "markdown",
   "metadata": {},
   "source": [
    "Требуется проверить, что объединение выполнено верно. В датафрейме `df_shows` количество строк равняется 3158. Посмотрим на объединенный датафрейм, если все верно, количество строк в столбце `box_office` будет равнятся тому же числу."
   ]
  },
  {
   "cell_type": "code",
   "execution_count": 6,
   "metadata": {},
   "outputs": [
    {
     "name": "stdout",
     "output_type": "stream",
     "text": [
      "<class 'pandas.core.frame.DataFrame'>\n",
      "Int64Index: 7486 entries, 0 to 7485\n",
      "Data columns (total 16 columns):\n",
      "title                    7486 non-null object\n",
      "puNumber                 7486 non-null object\n",
      "show_start_date          7486 non-null object\n",
      "type                     7486 non-null object\n",
      "film_studio              7468 non-null object\n",
      "production_country       7484 non-null object\n",
      "director                 7477 non-null object\n",
      "producer                 6918 non-null object\n",
      "age_restriction          7486 non-null object\n",
      "refundable_support       332 non-null float64\n",
      "nonrefundable_support    332 non-null float64\n",
      "budget                   332 non-null float64\n",
      "financing_source         332 non-null object\n",
      "ratings                  6519 non-null object\n",
      "genres                   6510 non-null object\n",
      "box_office               3158 non-null float64\n",
      "dtypes: float64(4), object(12)\n",
      "memory usage: 994.2+ KB\n"
     ]
    }
   ],
   "source": [
    "df.info()"
   ]
  },
  {
   "cell_type": "markdown",
   "metadata": {},
   "source": [
    "Объединене выполнено верно. Идем дальше."
   ]
  },
  {
   "cell_type": "markdown",
   "metadata": {},
   "source": [
    "#### Вывод"
   ]
  },
  {
   "cell_type": "markdown",
   "metadata": {},
   "source": [
    "- Выборка небольшая, придется очень осторожно удалять и изменять данные, что бы не испортить их качество\n",
    "- Данных по фильмам, которым оказана поддержка критически мало\n",
    "- Наблюдается большое количество пропусков в информации о сборах. Очевидно, что данных из датафрейма `shows` неплоные\n",
    "- Категориальные столбцы будет сложно анализировать, так как информация там представлена в виде единой строки с несколькими значениями\n",
    "- В данных присутствует два основных идентификатора - номер прокатного удостоверения и название фильма, один из которых необходимо определить как уникальный и основывать дальнейший анализ именно на нем"
   ]
  },
  {
   "cell_type": "markdown",
   "metadata": {
    "id": "KLDGpPG0gFyM"
   },
   "source": [
    "### Шаг 2. Предобработка данных"
   ]
  },
  {
   "cell_type": "markdown",
   "metadata": {
    "id": "ssWwKXsxgFyO"
   },
   "source": [
    "#### Шаг 2.1. Проверьте типы данных\n",
    "\n",
    "- Проверьте типы данных в датафрейме и преобразуйте их там, где это необходимо."
   ]
  },
  {
   "cell_type": "code",
   "execution_count": 7,
   "metadata": {
    "id": "kVGSplJOgFyO"
   },
   "outputs": [
    {
     "name": "stdout",
     "output_type": "stream",
     "text": [
      "<class 'pandas.core.frame.DataFrame'>\n",
      "Int64Index: 7486 entries, 0 to 7485\n",
      "Data columns (total 16 columns):\n",
      "title                    7486 non-null object\n",
      "puNumber                 7486 non-null object\n",
      "show_start_date          7486 non-null object\n",
      "type                     7486 non-null object\n",
      "film_studio              7468 non-null object\n",
      "production_country       7484 non-null object\n",
      "director                 7477 non-null object\n",
      "producer                 6918 non-null object\n",
      "age_restriction          7486 non-null object\n",
      "refundable_support       332 non-null float64\n",
      "nonrefundable_support    332 non-null float64\n",
      "budget                   332 non-null float64\n",
      "financing_source         332 non-null object\n",
      "ratings                  6519 non-null object\n",
      "genres                   6510 non-null object\n",
      "box_office               3158 non-null float64\n",
      "dtypes: float64(4), object(12)\n",
      "memory usage: 994.2+ KB\n"
     ]
    }
   ],
   "source": [
    "df.info()"
   ]
  },
  {
   "cell_type": "markdown",
   "metadata": {},
   "source": [
    "Первое и самое очевидное - изменить типа данных в столбце `show_start_date` с `object` на `datetime`"
   ]
  },
  {
   "cell_type": "code",
   "execution_count": 8,
   "metadata": {},
   "outputs": [
    {
     "data": {
      "text/html": [
       "<div>\n",
       "<style scoped>\n",
       "    .dataframe tbody tr th:only-of-type {\n",
       "        vertical-align: middle;\n",
       "    }\n",
       "\n",
       "    .dataframe tbody tr th {\n",
       "        vertical-align: top;\n",
       "    }\n",
       "\n",
       "    .dataframe thead th {\n",
       "        text-align: right;\n",
       "    }\n",
       "</style>\n",
       "<table border=\"1\" class=\"dataframe\">\n",
       "  <thead>\n",
       "    <tr style=\"text-align: right;\">\n",
       "      <th></th>\n",
       "      <th>title</th>\n",
       "      <th>puNumber</th>\n",
       "      <th>show_start_date</th>\n",
       "      <th>type</th>\n",
       "      <th>film_studio</th>\n",
       "      <th>production_country</th>\n",
       "      <th>director</th>\n",
       "      <th>producer</th>\n",
       "      <th>age_restriction</th>\n",
       "      <th>refundable_support</th>\n",
       "      <th>nonrefundable_support</th>\n",
       "      <th>budget</th>\n",
       "      <th>financing_source</th>\n",
       "      <th>ratings</th>\n",
       "      <th>genres</th>\n",
       "      <th>box_office</th>\n",
       "    </tr>\n",
       "  </thead>\n",
       "  <tbody>\n",
       "    <tr>\n",
       "      <td>0</td>\n",
       "      <td>Открытый простор</td>\n",
       "      <td>221048915</td>\n",
       "      <td>2015-11-27</td>\n",
       "      <td>Художественный</td>\n",
       "      <td>Тачстоун Пикчерз, Кобальт Пикчерз, Бикон Пикче...</td>\n",
       "      <td>США</td>\n",
       "      <td>Кевин Костнер</td>\n",
       "      <td>Дэвид Валдес, Кевин Костнер, Джейк Эбертс</td>\n",
       "      <td>«18+» - запрещено для детей</td>\n",
       "      <td>NaN</td>\n",
       "      <td>NaN</td>\n",
       "      <td>NaN</td>\n",
       "      <td>NaN</td>\n",
       "      <td>7.2</td>\n",
       "      <td>боевик,драма,мелодрама</td>\n",
       "      <td>NaN</td>\n",
       "    </tr>\n",
       "    <tr>\n",
       "      <td>1</td>\n",
       "      <td>Особо важное задание</td>\n",
       "      <td>111013716</td>\n",
       "      <td>2016-09-13</td>\n",
       "      <td>Художественный</td>\n",
       "      <td>Киностудия \"Мосфильм\"</td>\n",
       "      <td>СССР</td>\n",
       "      <td>Е.Матвеев</td>\n",
       "      <td>NaN</td>\n",
       "      <td>«6+» - для детей старше 6 лет</td>\n",
       "      <td>NaN</td>\n",
       "      <td>NaN</td>\n",
       "      <td>NaN</td>\n",
       "      <td>NaN</td>\n",
       "      <td>6.6</td>\n",
       "      <td>драма,военный</td>\n",
       "      <td>NaN</td>\n",
       "    </tr>\n",
       "    <tr>\n",
       "      <td>2</td>\n",
       "      <td>Особо опасен</td>\n",
       "      <td>221038416</td>\n",
       "      <td>2016-10-10</td>\n",
       "      <td>Художественный</td>\n",
       "      <td>Юниверсал Пикчерз, Кикстарт Продакшнз, Марк Пл...</td>\n",
       "      <td>США</td>\n",
       "      <td>Тимур Бекмамбетов</td>\n",
       "      <td>Джим Лемли, Джейсон Нетер, Марк Е.Платт, Яйн Смит</td>\n",
       "      <td>«18+» - запрещено для детей</td>\n",
       "      <td>NaN</td>\n",
       "      <td>NaN</td>\n",
       "      <td>NaN</td>\n",
       "      <td>NaN</td>\n",
       "      <td>6.8</td>\n",
       "      <td>фантастика,боевик,триллер</td>\n",
       "      <td>NaN</td>\n",
       "    </tr>\n",
       "    <tr>\n",
       "      <td>3</td>\n",
       "      <td>Особо опасен</td>\n",
       "      <td>221026916</td>\n",
       "      <td>2016-06-10</td>\n",
       "      <td>Художественный</td>\n",
       "      <td>Юниверсал Пикчерз, Кикстарт Продакшнз, Марк Пл...</td>\n",
       "      <td>США</td>\n",
       "      <td>Тимур Бекмамбетов</td>\n",
       "      <td>Джим Лемли, Джейсон Нетер, Марк Е.Платт, Яйн Смит</td>\n",
       "      <td>«18+» - запрещено для детей</td>\n",
       "      <td>NaN</td>\n",
       "      <td>NaN</td>\n",
       "      <td>NaN</td>\n",
       "      <td>NaN</td>\n",
       "      <td>6.8</td>\n",
       "      <td>фантастика,боевик,триллер</td>\n",
       "      <td>NaN</td>\n",
       "    </tr>\n",
       "    <tr>\n",
       "      <td>4</td>\n",
       "      <td>Особо опасен</td>\n",
       "      <td>221030815</td>\n",
       "      <td>2015-07-29</td>\n",
       "      <td>Художественный</td>\n",
       "      <td>Юниверсал Пикчерз, Кикстарт Продакшнз, Марк Пл...</td>\n",
       "      <td>США</td>\n",
       "      <td>Тимур Бекмамбетов</td>\n",
       "      <td>Джим Лемли, Джейсон Нетер, Марк Е.Платт, Яйн Смит</td>\n",
       "      <td>«18+» - запрещено для детей</td>\n",
       "      <td>NaN</td>\n",
       "      <td>NaN</td>\n",
       "      <td>NaN</td>\n",
       "      <td>NaN</td>\n",
       "      <td>6.8</td>\n",
       "      <td>фантастика,боевик,триллер</td>\n",
       "      <td>NaN</td>\n",
       "    </tr>\n",
       "  </tbody>\n",
       "</table>\n",
       "</div>"
      ],
      "text/plain": [
       "                  title   puNumber show_start_date            type  \\\n",
       "0      Открытый простор  221048915      2015-11-27  Художественный   \n",
       "1  Особо важное задание  111013716      2016-09-13  Художественный   \n",
       "2          Особо опасен  221038416      2016-10-10  Художественный   \n",
       "3          Особо опасен  221026916      2016-06-10  Художественный   \n",
       "4          Особо опасен  221030815      2015-07-29  Художественный   \n",
       "\n",
       "                                         film_studio production_country  \\\n",
       "0  Тачстоун Пикчерз, Кобальт Пикчерз, Бикон Пикче...                США   \n",
       "1                              Киностудия \"Мосфильм\"               СССР   \n",
       "2  Юниверсал Пикчерз, Кикстарт Продакшнз, Марк Пл...                США   \n",
       "3  Юниверсал Пикчерз, Кикстарт Продакшнз, Марк Пл...                США   \n",
       "4  Юниверсал Пикчерз, Кикстарт Продакшнз, Марк Пл...                США   \n",
       "\n",
       "            director                                           producer  \\\n",
       "0      Кевин Костнер          Дэвид Валдес, Кевин Костнер, Джейк Эбертс   \n",
       "1          Е.Матвеев                                                NaN   \n",
       "2  Тимур Бекмамбетов  Джим Лемли, Джейсон Нетер, Марк Е.Платт, Яйн Смит   \n",
       "3  Тимур Бекмамбетов  Джим Лемли, Джейсон Нетер, Марк Е.Платт, Яйн Смит   \n",
       "4  Тимур Бекмамбетов  Джим Лемли, Джейсон Нетер, Марк Е.Платт, Яйн Смит   \n",
       "\n",
       "                 age_restriction  refundable_support  nonrefundable_support  \\\n",
       "0    «18+» - запрещено для детей                 NaN                    NaN   \n",
       "1  «6+» - для детей старше 6 лет                 NaN                    NaN   \n",
       "2    «18+» - запрещено для детей                 NaN                    NaN   \n",
       "3    «18+» - запрещено для детей                 NaN                    NaN   \n",
       "4    «18+» - запрещено для детей                 NaN                    NaN   \n",
       "\n",
       "   budget financing_source ratings                     genres  box_office  \n",
       "0     NaN              NaN     7.2     боевик,драма,мелодрама         NaN  \n",
       "1     NaN              NaN     6.6              драма,военный         NaN  \n",
       "2     NaN              NaN     6.8  фантастика,боевик,триллер         NaN  \n",
       "3     NaN              NaN     6.8  фантастика,боевик,триллер         NaN  \n",
       "4     NaN              NaN     6.8  фантастика,боевик,триллер         NaN  "
      ]
     },
     "execution_count": 8,
     "metadata": {},
     "output_type": "execute_result"
    }
   ],
   "source": [
    "df['show_start_date'] = pd.to_datetime(df['show_start_date'], format = '%Y-%m-%dT12:00:00.000Z')\n",
    "df.head(5)"
   ]
  },
  {
   "cell_type": "markdown",
   "metadata": {},
   "source": [
    "Что бы мы могли исследовать рейтинг, необходимо перевести тип данных в `float`. Так мы сможем посчитать средний и / или медианный рейтинг по выборке. Посмотрим, почему данные имеют тип `object`"
   ]
  },
  {
   "cell_type": "code",
   "execution_count": 9,
   "metadata": {},
   "outputs": [
    {
     "data": {
      "text/plain": [
       "array(['7.2', '6.6', '6.8', '7.7', '8.3', '8.0', '7.8', '8.1', '7.1',\n",
       "       '6.0', '7.4', '5.8', '8.7', '6.3', '6.9', '5.0', '4.3', '7.3',\n",
       "       '7.0', '6.4', nan, '8.2', '7.5', '6.7', '7.9', '5.9', '6.2', '5.6',\n",
       "       '6.5', '2.4', '7.6', '6.1', '8.6', '8.5', '8.8', '5.5', '5.1',\n",
       "       '5.7', '5.4', '99%', '4.4', '4.5', '5.3', '4.1', '8.4', '2.6',\n",
       "       '3.8', '4.6', '4.8', '4.0', '3.0', '1.6', '4.2', '5.2', '4.7',\n",
       "       '4.9', '3.9', '2.7', '3.3', '2.9', '28%', '3.7', '1.4', '3.1',\n",
       "       '97%', '3.5', '3.2', '2.8', '1.5', '2.1', '2.5', '9.2', '3.4',\n",
       "       '1.1', '3.6', '83%', '64%', '91%', '94%', '62%', '79%', '90%',\n",
       "       '19%', '88%', '1.0', '89%', '1.3', '1.9', '1.8', '1.2', '1.7',\n",
       "       '9.0', '98%', '8.9', '9.1'], dtype=object)"
      ]
     },
     "execution_count": 9,
     "metadata": {},
     "output_type": "execute_result"
    }
   ],
   "source": [
    "df['ratings'].unique()"
   ]
  },
  {
   "cell_type": "markdown",
   "metadata": {},
   "source": [
    "Часть рейтинга указана в цифрах от 1 до 9.1, а часть в процентах от 0.19 до 0.99. В данном случае проценты считываются как `string`. Первое предположеие заключается в том, что рейтинг в процентах это тот же рейтинг в цифрах, только не от 1 до 10, а от 0.1 до 1. Посмотрим на эти данные поближе"
   ]
  },
  {
   "cell_type": "code",
   "execution_count": 10,
   "metadata": {
    "scrolled": false
   },
   "outputs": [
    {
     "data": {
      "text/html": [
       "<div>\n",
       "<style scoped>\n",
       "    .dataframe tbody tr th:only-of-type {\n",
       "        vertical-align: middle;\n",
       "    }\n",
       "\n",
       "    .dataframe tbody tr th {\n",
       "        vertical-align: top;\n",
       "    }\n",
       "\n",
       "    .dataframe thead th {\n",
       "        text-align: right;\n",
       "    }\n",
       "</style>\n",
       "<table border=\"1\" class=\"dataframe\">\n",
       "  <thead>\n",
       "    <tr style=\"text-align: right;\">\n",
       "      <th></th>\n",
       "      <th>title</th>\n",
       "      <th>puNumber</th>\n",
       "      <th>show_start_date</th>\n",
       "      <th>type</th>\n",
       "      <th>film_studio</th>\n",
       "      <th>production_country</th>\n",
       "      <th>director</th>\n",
       "      <th>producer</th>\n",
       "      <th>age_restriction</th>\n",
       "      <th>refundable_support</th>\n",
       "      <th>nonrefundable_support</th>\n",
       "      <th>budget</th>\n",
       "      <th>financing_source</th>\n",
       "      <th>ratings</th>\n",
       "      <th>genres</th>\n",
       "      <th>box_office</th>\n",
       "    </tr>\n",
       "  </thead>\n",
       "  <tbody>\n",
       "    <tr>\n",
       "      <td>259</td>\n",
       "      <td>Прошлое</td>\n",
       "      <td>221030715</td>\n",
       "      <td>2015-07-29</td>\n",
       "      <td>Художественный</td>\n",
       "      <td>20 Сенчюри Фокс де Архентина, Чемо, ЭйчБи Филм...</td>\n",
       "      <td>Аргентина - Бразилия</td>\n",
       "      <td>Эктор Бабенко</td>\n",
       "      <td>Эктор Бабенко, Оскар Крамер, Хуго Сидмэн</td>\n",
       "      <td>«16+» - для детей старше 16 лет</td>\n",
       "      <td>NaN</td>\n",
       "      <td>NaN</td>\n",
       "      <td>NaN</td>\n",
       "      <td>NaN</td>\n",
       "      <td>99%</td>\n",
       "      <td>ужасы,триллер,драма</td>\n",
       "      <td>NaN</td>\n",
       "    </tr>\n",
       "    <tr>\n",
       "      <td>811</td>\n",
       "      <td>От винта!</td>\n",
       "      <td>114000212</td>\n",
       "      <td>2012-08-06</td>\n",
       "      <td>Анимационный</td>\n",
       "      <td>ЗАО \"Продюсерский центр \"Парадиз\"</td>\n",
       "      <td>Россия</td>\n",
       "      <td>О.Лопато</td>\n",
       "      <td>Г.Нерсисян, А.Манасарян, А.Нерсесян</td>\n",
       "      <td>«12+» - для детей старше 12 лет</td>\n",
       "      <td>NaN</td>\n",
       "      <td>NaN</td>\n",
       "      <td>NaN</td>\n",
       "      <td>NaN</td>\n",
       "      <td>28%</td>\n",
       "      <td>детский,приключения,комедия</td>\n",
       "      <td>1.740000e+03</td>\n",
       "    </tr>\n",
       "    <tr>\n",
       "      <td>1053</td>\n",
       "      <td>Песочный человек</td>\n",
       "      <td>121029212</td>\n",
       "      <td>2012-11-29</td>\n",
       "      <td>Художественный</td>\n",
       "      <td>Спотлайт Медиа Продакшн</td>\n",
       "      <td>Швейцария</td>\n",
       "      <td>Питер Луизи</td>\n",
       "      <td>Дэвид Луизи, Питер Луизи</td>\n",
       "      <td>«16+» - для детей старше 16 лет</td>\n",
       "      <td>NaN</td>\n",
       "      <td>NaN</td>\n",
       "      <td>NaN</td>\n",
       "      <td>NaN</td>\n",
       "      <td>97%</td>\n",
       "      <td>ужасы,фантастика,фэнтези</td>\n",
       "      <td>NaN</td>\n",
       "    </tr>\n",
       "    <tr>\n",
       "      <td>1341</td>\n",
       "      <td>Сказка о добре и Вре</td>\n",
       "      <td>111008913</td>\n",
       "      <td>2013-11-15</td>\n",
       "      <td>Художественный</td>\n",
       "      <td>НП \"Студия игрового кино \"Лик\"</td>\n",
       "      <td>Россия</td>\n",
       "      <td>Е.Шиляева</td>\n",
       "      <td>К.Терещенко</td>\n",
       "      <td>«6+» - для детей старше 6 лет</td>\n",
       "      <td>NaN</td>\n",
       "      <td>NaN</td>\n",
       "      <td>NaN</td>\n",
       "      <td>NaN</td>\n",
       "      <td>99%</td>\n",
       "      <td>триллер,драма,детектив</td>\n",
       "      <td>NaN</td>\n",
       "    </tr>\n",
       "    <tr>\n",
       "      <td>1805</td>\n",
       "      <td>Спираль.</td>\n",
       "      <td>111001014</td>\n",
       "      <td>2014-01-30</td>\n",
       "      <td>Художественный</td>\n",
       "      <td>ООО \"Компания Питон\"</td>\n",
       "      <td>Россия</td>\n",
       "      <td>А.Волгин</td>\n",
       "      <td>Е.Ковалева</td>\n",
       "      <td>«12+» - для детей старше 12 лет</td>\n",
       "      <td>NaN</td>\n",
       "      <td>NaN</td>\n",
       "      <td>NaN</td>\n",
       "      <td>NaN</td>\n",
       "      <td>99%</td>\n",
       "      <td>аниме,мультфильм,ужасы</td>\n",
       "      <td>4.295000e+03</td>\n",
       "    </tr>\n",
       "    <tr>\n",
       "      <td>1874</td>\n",
       "      <td>Короткие истории о любви 2</td>\n",
       "      <td>121002615</td>\n",
       "      <td>2015-02-13</td>\n",
       "      <td>Художественный</td>\n",
       "      <td>Кавиар, Курт 13, СтритЛайт Филмз, Нэйер Дойче ...</td>\n",
       "      <td>Нидерланды - США - Германия - Канада - Франция...</td>\n",
       "      <td>Мэтью Аувро, Лео Брайдл, Бен Бренд, Ден Кларк,...</td>\n",
       "      <td>Мэри Пэт Бентел, Бен Бренд, Сиара Гиллан, Джор...</td>\n",
       "      <td>«18+» - запрещено для детей</td>\n",
       "      <td>NaN</td>\n",
       "      <td>NaN</td>\n",
       "      <td>NaN</td>\n",
       "      <td>NaN</td>\n",
       "      <td>83%</td>\n",
       "      <td>NaN</td>\n",
       "      <td>1.429859e+06</td>\n",
       "    </tr>\n",
       "    <tr>\n",
       "      <td>1899</td>\n",
       "      <td>Золушка /По сказке Шарля Перро/. Холодное торж...</td>\n",
       "      <td>121003615</td>\n",
       "      <td>2015-02-27</td>\n",
       "      <td>Художественный</td>\n",
       "      <td>Женр Филмз, Уолт Дисней Пикчерз</td>\n",
       "      <td>США</td>\n",
       "      <td>Кеннет Брана</td>\n",
       "      <td>Дэвид Бэррон, Саймон Кинберг, Эллисон Ширмур</td>\n",
       "      <td>«6+» - для детей старше 6 лет</td>\n",
       "      <td>NaN</td>\n",
       "      <td>NaN</td>\n",
       "      <td>NaN</td>\n",
       "      <td>NaN</td>\n",
       "      <td>64%</td>\n",
       "      <td>мюзикл,фэнтези,мелодрама</td>\n",
       "      <td>5.287326e+08</td>\n",
       "    </tr>\n",
       "    <tr>\n",
       "      <td>2126</td>\n",
       "      <td>Поездка к матери</td>\n",
       "      <td>111002015</td>\n",
       "      <td>2015-03-02</td>\n",
       "      <td>Художественный</td>\n",
       "      <td>ЗАО \"Киностудия \"М\"-Фильм\"</td>\n",
       "      <td>Россия</td>\n",
       "      <td>М.Косырев-Нестеров</td>\n",
       "      <td>М.Косырев-Нестеров</td>\n",
       "      <td>«16+» - для детей старше 16 лет</td>\n",
       "      <td>NaN</td>\n",
       "      <td>NaN</td>\n",
       "      <td>NaN</td>\n",
       "      <td>NaN</td>\n",
       "      <td>91%</td>\n",
       "      <td>драма,семейный</td>\n",
       "      <td>0.000000e+00</td>\n",
       "    </tr>\n",
       "    <tr>\n",
       "      <td>2146</td>\n",
       "      <td>Главный</td>\n",
       "      <td>111003415</td>\n",
       "      <td>2015-03-27</td>\n",
       "      <td>Художественный</td>\n",
       "      <td>ООО \"Киностудия \"МАСТЕР\"</td>\n",
       "      <td>Россия</td>\n",
       "      <td>Ю.Кара</td>\n",
       "      <td>Ю.Кара</td>\n",
       "      <td>«6+» - для детей старше 6 лет</td>\n",
       "      <td>0.0</td>\n",
       "      <td>10000000.0</td>\n",
       "      <td>40000000.0</td>\n",
       "      <td>Министерство культуры</td>\n",
       "      <td>94%</td>\n",
       "      <td>фантастика,боевик,комедия</td>\n",
       "      <td>3.347500e+05</td>\n",
       "    </tr>\n",
       "    <tr>\n",
       "      <td>2438</td>\n",
       "      <td>Самый рыжий Лис</td>\n",
       "      <td>111012715</td>\n",
       "      <td>2015-07-30</td>\n",
       "      <td>Художественный</td>\n",
       "      <td>ООО \"Продюсерский центр \"Ленфильм\"</td>\n",
       "      <td>Россия</td>\n",
       "      <td>А.Стреляная</td>\n",
       "      <td>А.Котелевский, Э.Пичугин</td>\n",
       "      <td>«6+» - для детей старше 6 лет</td>\n",
       "      <td>NaN</td>\n",
       "      <td>NaN</td>\n",
       "      <td>NaN</td>\n",
       "      <td>NaN</td>\n",
       "      <td>62%</td>\n",
       "      <td>фэнтези,семейный</td>\n",
       "      <td>NaN</td>\n",
       "    </tr>\n",
       "    <tr>\n",
       "      <td>2680</td>\n",
       "      <td>Год Белого Слона</td>\n",
       "      <td>111003915</td>\n",
       "      <td>2015-04-08</td>\n",
       "      <td>Художественный</td>\n",
       "      <td>ООО \"Творческое объединение ЮГ\"</td>\n",
       "      <td>Россия</td>\n",
       "      <td>Ю.Грымов</td>\n",
       "      <td>П.Поляков</td>\n",
       "      <td>«6+» - для детей старше 6 лет</td>\n",
       "      <td>NaN</td>\n",
       "      <td>NaN</td>\n",
       "      <td>NaN</td>\n",
       "      <td>NaN</td>\n",
       "      <td>79%</td>\n",
       "      <td>семейный</td>\n",
       "      <td>NaN</td>\n",
       "    </tr>\n",
       "    <tr>\n",
       "      <td>3139</td>\n",
       "      <td>Я умею вязать</td>\n",
       "      <td>111019615</td>\n",
       "      <td>2015-11-27</td>\n",
       "      <td>Художественный</td>\n",
       "      <td>ООО \"Белое Зеркало\"</td>\n",
       "      <td>Россия</td>\n",
       "      <td>Н.Степанова при участии С.Иванова</td>\n",
       "      <td>С.Кикнавелидзе, Д.Улюкаев</td>\n",
       "      <td>«16+» - для детей старше 16 лет</td>\n",
       "      <td>0.0</td>\n",
       "      <td>4700000.0</td>\n",
       "      <td>14462464.0</td>\n",
       "      <td>Министерство культуры</td>\n",
       "      <td>90%</td>\n",
       "      <td>драма</td>\n",
       "      <td>8.013700e+05</td>\n",
       "    </tr>\n",
       "    <tr>\n",
       "      <td>3431</td>\n",
       "      <td>Наурыз</td>\n",
       "      <td>131000217</td>\n",
       "      <td>2017-03-09</td>\n",
       "      <td>Художественный</td>\n",
       "      <td>Эс Джи</td>\n",
       "      <td>Республика Казахстан</td>\n",
       "      <td>Аскар Бисембин</td>\n",
       "      <td>Олег Головашкин, Алмас Султангазин</td>\n",
       "      <td>«12+» - для детей старше 12 лет</td>\n",
       "      <td>NaN</td>\n",
       "      <td>NaN</td>\n",
       "      <td>NaN</td>\n",
       "      <td>NaN</td>\n",
       "      <td>19%</td>\n",
       "      <td>комедия</td>\n",
       "      <td>3.796000e+04</td>\n",
       "    </tr>\n",
       "    <tr>\n",
       "      <td>3439</td>\n",
       "      <td>Семь диких историй</td>\n",
       "      <td>126005916</td>\n",
       "      <td>2016-11-28</td>\n",
       "      <td>Прочие</td>\n",
       "      <td>Макс Бэйкер, Джон Е.Брайан, Пьер-Луи Гарнон,  ...</td>\n",
       "      <td>США - Пуэрто-Рико - Франция</td>\n",
       "      <td>М.Бэйкер, Д.Е.Брайант, Д.Рондот, Я.Серсар, Д.С...</td>\n",
       "      <td>М.Бэйкер, Д.Е.Брайан, П.-Л.Гарнон, М.Х.Дельгад...</td>\n",
       "      <td>«18+» - запрещено для детей</td>\n",
       "      <td>NaN</td>\n",
       "      <td>NaN</td>\n",
       "      <td>NaN</td>\n",
       "      <td>NaN</td>\n",
       "      <td>88%</td>\n",
       "      <td>NaN</td>\n",
       "      <td>1.025937e+06</td>\n",
       "    </tr>\n",
       "    <tr>\n",
       "      <td>3446</td>\n",
       "      <td>Короткие истории о любви - 4</td>\n",
       "      <td>126006316</td>\n",
       "      <td>2016-12-30</td>\n",
       "      <td>Прочие</td>\n",
       "      <td>Нетворг Айлэнд Телевижн, Магнетфильм, Шорткатс...</td>\n",
       "      <td>Великобритания - Аргентина - США - Франция - Р...</td>\n",
       "      <td>Д.Адар, П.Антохин, М.Биасин, А.Бурунова, К.Кол...</td>\n",
       "      <td>Д.Адар, Д.Амсон, П.Антохин, А.Армстронг, С.Бил...</td>\n",
       "      <td>«18+» - запрещено для детей</td>\n",
       "      <td>NaN</td>\n",
       "      <td>NaN</td>\n",
       "      <td>NaN</td>\n",
       "      <td>NaN</td>\n",
       "      <td>83%</td>\n",
       "      <td>NaN</td>\n",
       "      <td>2.266408e+06</td>\n",
       "    </tr>\n",
       "    <tr>\n",
       "      <td>3514</td>\n",
       "      <td>Чужой дом</td>\n",
       "      <td>111015516</td>\n",
       "      <td>2016-09-14</td>\n",
       "      <td>Художественный</td>\n",
       "      <td>ООО \"Лига Продакшн\"</td>\n",
       "      <td>Россия, Грузия, Хорватия, Испания</td>\n",
       "      <td>Р.Глурджидзе</td>\n",
       "      <td>З.Магалашвили, К.Гечмен-Вальдек, Н.Горшкова</td>\n",
       "      <td>«12+» - для детей старше 12 лет</td>\n",
       "      <td>NaN</td>\n",
       "      <td>NaN</td>\n",
       "      <td>NaN</td>\n",
       "      <td>NaN</td>\n",
       "      <td>91%</td>\n",
       "      <td>драма</td>\n",
       "      <td>NaN</td>\n",
       "    </tr>\n",
       "    <tr>\n",
       "      <td>3585</td>\n",
       "      <td>Машины Страшилки. Серия \"Жутчайшая повесть о п...</td>\n",
       "      <td>114003916</td>\n",
       "      <td>2016-12-09</td>\n",
       "      <td>Анимационный</td>\n",
       "      <td>ООО Студия \"АНИМАККОРД\", АНИМАККОРД ЛТД.</td>\n",
       "      <td>Россия, Республика Кипр</td>\n",
       "      <td>Д.Червяцов</td>\n",
       "      <td>Д.Ловейко, О.Кузовков</td>\n",
       "      <td>«0+» - для любой зрительской аудитории</td>\n",
       "      <td>NaN</td>\n",
       "      <td>NaN</td>\n",
       "      <td>NaN</td>\n",
       "      <td>NaN</td>\n",
       "      <td>97%</td>\n",
       "      <td>мультфильм,ужасы,фэнтези</td>\n",
       "      <td>NaN</td>\n",
       "    </tr>\n",
       "    <tr>\n",
       "      <td>3786</td>\n",
       "      <td>Охотники</td>\n",
       "      <td>111017816</td>\n",
       "      <td>2016-02-06</td>\n",
       "      <td>Художественный</td>\n",
       "      <td>Селиверстов Александр Александрович</td>\n",
       "      <td>Россия</td>\n",
       "      <td>А.Селиверстов</td>\n",
       "      <td>Е.Тарковская, Т.Лагода, Д.Степанян</td>\n",
       "      <td>«16+» - для детей старше 16 лет</td>\n",
       "      <td>NaN</td>\n",
       "      <td>NaN</td>\n",
       "      <td>NaN</td>\n",
       "      <td>NaN</td>\n",
       "      <td>89%</td>\n",
       "      <td>фантастика,комедия,боевик</td>\n",
       "      <td>8.284000e+04</td>\n",
       "    </tr>\n",
       "    <tr>\n",
       "      <td>3948</td>\n",
       "      <td>Круиз.</td>\n",
       "      <td>211038210</td>\n",
       "      <td>2010-09-03</td>\n",
       "      <td>Художественный</td>\n",
       "      <td>ООО \"ЮНАЙТЕД МУЛЬТИМЕДИА ПРОДЖЕКТС\"</td>\n",
       "      <td>Россия</td>\n",
       "      <td>И.Ромащенко</td>\n",
       "      <td>Р.Атамалибеков</td>\n",
       "      <td>«16+» - для детей старше 16 лет</td>\n",
       "      <td>NaN</td>\n",
       "      <td>NaN</td>\n",
       "      <td>NaN</td>\n",
       "      <td>NaN</td>\n",
       "      <td>97%</td>\n",
       "      <td>приключения,комедия,фэнтези</td>\n",
       "      <td>NaN</td>\n",
       "    </tr>\n",
       "    <tr>\n",
       "      <td>5332</td>\n",
       "      <td>Добыча.</td>\n",
       "      <td>121009411</td>\n",
       "      <td>2011-06-15</td>\n",
       "      <td>Художественный</td>\n",
       "      <td>Афтер Дарк Филмз</td>\n",
       "      <td>США</td>\n",
       "      <td>Патрик Сиверсен</td>\n",
       "      <td>Закари Ти Брайан, Кристофер</td>\n",
       "      <td>«18+» - запрещено для детей</td>\n",
       "      <td>NaN</td>\n",
       "      <td>NaN</td>\n",
       "      <td>NaN</td>\n",
       "      <td>NaN</td>\n",
       "      <td>88%</td>\n",
       "      <td>фантастика,боевик,триллер</td>\n",
       "      <td>NaN</td>\n",
       "    </tr>\n",
       "    <tr>\n",
       "      <td>5455</td>\n",
       "      <td>Вечный холод</td>\n",
       "      <td>111006417</td>\n",
       "      <td>2017-08-28</td>\n",
       "      <td>Художественный</td>\n",
       "      <td>ЗАО \"Производственный комплекс \"ГЛАВКИНО\", ООО...</td>\n",
       "      <td>Россия</td>\n",
       "      <td>А.Мигачев</td>\n",
       "      <td>И.Бачурин</td>\n",
       "      <td>«18+» - запрещено для детей</td>\n",
       "      <td>NaN</td>\n",
       "      <td>NaN</td>\n",
       "      <td>NaN</td>\n",
       "      <td>NaN</td>\n",
       "      <td>83%</td>\n",
       "      <td>фэнтези,боевик,триллер</td>\n",
       "      <td>NaN</td>\n",
       "    </tr>\n",
       "    <tr>\n",
       "      <td>5821</td>\n",
       "      <td>Свинья</td>\n",
       "      <td>121007018</td>\n",
       "      <td>2018-04-11</td>\n",
       "      <td>Художественный</td>\n",
       "      <td>Дарк Прекёрсор Продакшен, Филмиран, Хедейт Филм</td>\n",
       "      <td>Иран</td>\n",
       "      <td>Мани Хагиги</td>\n",
       "      <td>Мани Хагиги</td>\n",
       "      <td>«18+» - запрещено для детей</td>\n",
       "      <td>NaN</td>\n",
       "      <td>NaN</td>\n",
       "      <td>NaN</td>\n",
       "      <td>NaN</td>\n",
       "      <td>94%</td>\n",
       "      <td>триллер,драма</td>\n",
       "      <td>1.587222e+06</td>\n",
       "    </tr>\n",
       "    <tr>\n",
       "      <td>5910</td>\n",
       "      <td>Мира</td>\n",
       "      <td>112000118</td>\n",
       "      <td>2018-06-04</td>\n",
       "      <td>Документальный</td>\n",
       "      <td>ООО \"Компания \"Новые люди\"</td>\n",
       "      <td>Россия</td>\n",
       "      <td>Д.Шабаев</td>\n",
       "      <td>Н.Мокрицкая</td>\n",
       "      <td>«18+» - запрещено для детей</td>\n",
       "      <td>NaN</td>\n",
       "      <td>NaN</td>\n",
       "      <td>NaN</td>\n",
       "      <td>NaN</td>\n",
       "      <td>94%</td>\n",
       "      <td>драма</td>\n",
       "      <td>NaN</td>\n",
       "    </tr>\n",
       "    <tr>\n",
       "      <td>6426</td>\n",
       "      <td>Памятные даты России. Партизаны и подпольщики</td>\n",
       "      <td>112013018</td>\n",
       "      <td>2018-11-28</td>\n",
       "      <td>Документальный</td>\n",
       "      <td>ООО Кинокомпания \"Вектор\"</td>\n",
       "      <td>Россия</td>\n",
       "      <td>Н.Иванова, А.Кузнецова</td>\n",
       "      <td>В.Коханович</td>\n",
       "      <td>«12+» - для детей старше 12 лет</td>\n",
       "      <td>NaN</td>\n",
       "      <td>NaN</td>\n",
       "      <td>NaN</td>\n",
       "      <td>NaN</td>\n",
       "      <td>91%</td>\n",
       "      <td>драма,биография</td>\n",
       "      <td>NaN</td>\n",
       "    </tr>\n",
       "    <tr>\n",
       "      <td>6616</td>\n",
       "      <td>ОТ ВОЙНЫ ДО НАШИХ ДНЕЙ</td>\n",
       "      <td>111026518</td>\n",
       "      <td>2019-01-21</td>\n",
       "      <td>Художественный</td>\n",
       "      <td>ИП Вайсман Анатолий Александрович</td>\n",
       "      <td>Россия</td>\n",
       "      <td>А.Сазонов, Е.Климович, А.Коломеец, С.Черникова...</td>\n",
       "      <td>Д.Руюежин, Л.Пятницкая, Д.Колеров, Э.Ким, А.Хомич</td>\n",
       "      <td>«12+» - для детей старше 12 лет</td>\n",
       "      <td>NaN</td>\n",
       "      <td>NaN</td>\n",
       "      <td>NaN</td>\n",
       "      <td>NaN</td>\n",
       "      <td>98%</td>\n",
       "      <td>фантастика,боевик</td>\n",
       "      <td>NaN</td>\n",
       "    </tr>\n",
       "    <tr>\n",
       "      <td>6737</td>\n",
       "      <td>Колесо времени</td>\n",
       "      <td>111003219</td>\n",
       "      <td>2019-03-01</td>\n",
       "      <td>Художественный</td>\n",
       "      <td>ООО \"БестМедиа\"</td>\n",
       "      <td>Россия</td>\n",
       "      <td>Б.Куломзин</td>\n",
       "      <td>Б.Куломзин</td>\n",
       "      <td>«6+» - для детей старше 6 лет</td>\n",
       "      <td>NaN</td>\n",
       "      <td>NaN</td>\n",
       "      <td>NaN</td>\n",
       "      <td>NaN</td>\n",
       "      <td>98%</td>\n",
       "      <td>фэнтези,приключения</td>\n",
       "      <td>3.499200e+04</td>\n",
       "    </tr>\n",
       "    <tr>\n",
       "      <td>6882</td>\n",
       "      <td>Животные рядом со Святыми</td>\n",
       "      <td>112003719</td>\n",
       "      <td>2019-05-03</td>\n",
       "      <td>Документальный</td>\n",
       "      <td>ООО \"Кинопрограмма \"XXI век\"</td>\n",
       "      <td>Россия</td>\n",
       "      <td>Т.Мирошник</td>\n",
       "      <td>В.Есинов, Е.Калинина</td>\n",
       "      <td>«0+» - для любой зрительской аудитории</td>\n",
       "      <td>NaN</td>\n",
       "      <td>NaN</td>\n",
       "      <td>NaN</td>\n",
       "      <td>NaN</td>\n",
       "      <td>99%</td>\n",
       "      <td>криминал,драма</td>\n",
       "      <td>NaN</td>\n",
       "    </tr>\n",
       "    <tr>\n",
       "      <td>7159</td>\n",
       "      <td>Анна Каренина. Интимный дневник</td>\n",
       "      <td>111013919</td>\n",
       "      <td>2019-10-23</td>\n",
       "      <td>Художественный</td>\n",
       "      <td>ООО \"РТВ\"</td>\n",
       "      <td>Россия</td>\n",
       "      <td>Ю.Грымов</td>\n",
       "      <td>Ю.Грымов</td>\n",
       "      <td>«16+» - для детей старше 16 лет</td>\n",
       "      <td>NaN</td>\n",
       "      <td>NaN</td>\n",
       "      <td>NaN</td>\n",
       "      <td>NaN</td>\n",
       "      <td>79%</td>\n",
       "      <td>драма</td>\n",
       "      <td>1.828825e+05</td>\n",
       "    </tr>\n",
       "    <tr>\n",
       "      <td>7277</td>\n",
       "      <td>Добыча</td>\n",
       "      <td>121028319</td>\n",
       "      <td>2019-10-03</td>\n",
       "      <td>Художественный</td>\n",
       "      <td>Блумхаус Продакшнз, Хайд Парк Интертейнмент, Т...</td>\n",
       "      <td>США</td>\n",
       "      <td>Франк Халфун</td>\n",
       "      <td>Ашок Амритрадж, Джейсон Блум, Трэвис Клафф</td>\n",
       "      <td>«16+» - для детей старше 16 лет</td>\n",
       "      <td>NaN</td>\n",
       "      <td>NaN</td>\n",
       "      <td>NaN</td>\n",
       "      <td>NaN</td>\n",
       "      <td>88%</td>\n",
       "      <td>фантастика,боевик,триллер</td>\n",
       "      <td>4.416590e+06</td>\n",
       "    </tr>\n",
       "  </tbody>\n",
       "</table>\n",
       "</div>"
      ],
      "text/plain": [
       "                                                  title   puNumber  \\\n",
       "259                                             Прошлое  221030715   \n",
       "811                                           От винта!  114000212   \n",
       "1053                                   Песочный человек  121029212   \n",
       "1341                               Сказка о добре и Вре  111008913   \n",
       "1805                                           Спираль.  111001014   \n",
       "1874                         Короткие истории о любви 2  121002615   \n",
       "1899  Золушка /По сказке Шарля Перро/. Холодное торж...  121003615   \n",
       "2126                                   Поездка к матери  111002015   \n",
       "2146                                            Главный  111003415   \n",
       "2438                                    Самый рыжий Лис  111012715   \n",
       "2680                                   Год Белого Слона  111003915   \n",
       "3139                                      Я умею вязать  111019615   \n",
       "3431                                             Наурыз  131000217   \n",
       "3439                                 Семь диких историй  126005916   \n",
       "3446                       Короткие истории о любви - 4  126006316   \n",
       "3514                                          Чужой дом  111015516   \n",
       "3585  Машины Страшилки. Серия \"Жутчайшая повесть о п...  114003916   \n",
       "3786                                           Охотники  111017816   \n",
       "3948                                             Круиз.  211038210   \n",
       "5332                                            Добыча.  121009411   \n",
       "5455                                       Вечный холод  111006417   \n",
       "5821                                             Свинья  121007018   \n",
       "5910                                               Мира  112000118   \n",
       "6426      Памятные даты России. Партизаны и подпольщики  112013018   \n",
       "6616                             ОТ ВОЙНЫ ДО НАШИХ ДНЕЙ  111026518   \n",
       "6737                                     Колесо времени  111003219   \n",
       "6882                          Животные рядом со Святыми  112003719   \n",
       "7159                    Анна Каренина. Интимный дневник  111013919   \n",
       "7277                                             Добыча  121028319   \n",
       "\n",
       "     show_start_date             type  \\\n",
       "259       2015-07-29   Художественный   \n",
       "811       2012-08-06     Анимационный   \n",
       "1053      2012-11-29   Художественный   \n",
       "1341      2013-11-15   Художественный   \n",
       "1805      2014-01-30   Художественный   \n",
       "1874      2015-02-13   Художественный   \n",
       "1899      2015-02-27   Художественный   \n",
       "2126      2015-03-02   Художественный   \n",
       "2146      2015-03-27   Художественный   \n",
       "2438      2015-07-30   Художественный   \n",
       "2680      2015-04-08   Художественный   \n",
       "3139      2015-11-27   Художественный   \n",
       "3431      2017-03-09   Художественный   \n",
       "3439      2016-11-28           Прочие   \n",
       "3446      2016-12-30           Прочие   \n",
       "3514      2016-09-14   Художественный   \n",
       "3585      2016-12-09     Анимационный   \n",
       "3786      2016-02-06   Художественный   \n",
       "3948      2010-09-03   Художественный   \n",
       "5332      2011-06-15   Художественный   \n",
       "5455      2017-08-28   Художественный   \n",
       "5821      2018-04-11   Художественный   \n",
       "5910      2018-06-04   Документальный   \n",
       "6426      2018-11-28   Документальный   \n",
       "6616      2019-01-21   Художественный   \n",
       "6737      2019-03-01   Художественный   \n",
       "6882      2019-05-03   Документальный   \n",
       "7159      2019-10-23   Художественный   \n",
       "7277      2019-10-03   Художественный   \n",
       "\n",
       "                                            film_studio  \\\n",
       "259   20 Сенчюри Фокс де Архентина, Чемо, ЭйчБи Филм...   \n",
       "811                   ЗАО \"Продюсерский центр \"Парадиз\"   \n",
       "1053                            Спотлайт Медиа Продакшн   \n",
       "1341                     НП \"Студия игрового кино \"Лик\"   \n",
       "1805                               ООО \"Компания Питон\"   \n",
       "1874  Кавиар, Курт 13, СтритЛайт Филмз, Нэйер Дойче ...   \n",
       "1899                    Женр Филмз, Уолт Дисней Пикчерз   \n",
       "2126                         ЗАО \"Киностудия \"М\"-Фильм\"   \n",
       "2146                           ООО \"Киностудия \"МАСТЕР\"   \n",
       "2438                 ООО \"Продюсерский центр \"Ленфильм\"   \n",
       "2680                    ООО \"Творческое объединение ЮГ\"   \n",
       "3139                                ООО \"Белое Зеркало\"   \n",
       "3431                                             Эс Джи   \n",
       "3439  Макс Бэйкер, Джон Е.Брайан, Пьер-Луи Гарнон,  ...   \n",
       "3446  Нетворг Айлэнд Телевижн, Магнетфильм, Шорткатс...   \n",
       "3514                                ООО \"Лига Продакшн\"   \n",
       "3585           ООО Студия \"АНИМАККОРД\", АНИМАККОРД ЛТД.   \n",
       "3786                Селиверстов Александр Александрович   \n",
       "3948                ООО \"ЮНАЙТЕД МУЛЬТИМЕДИА ПРОДЖЕКТС\"   \n",
       "5332                                   Афтер Дарк Филмз   \n",
       "5455  ЗАО \"Производственный комплекс \"ГЛАВКИНО\", ООО...   \n",
       "5821    Дарк Прекёрсор Продакшен, Филмиран, Хедейт Филм   \n",
       "5910                         ООО \"Компания \"Новые люди\"   \n",
       "6426                          ООО Кинокомпания \"Вектор\"   \n",
       "6616                  ИП Вайсман Анатолий Александрович   \n",
       "6737                                    ООО \"БестМедиа\"   \n",
       "6882                       ООО \"Кинопрограмма \"XXI век\"   \n",
       "7159                                          ООО \"РТВ\"   \n",
       "7277  Блумхаус Продакшнз, Хайд Парк Интертейнмент, Т...   \n",
       "\n",
       "                                     production_country  \\\n",
       "259                                Аргентина - Бразилия   \n",
       "811                                              Россия   \n",
       "1053                                          Швейцария   \n",
       "1341                                             Россия   \n",
       "1805                                             Россия   \n",
       "1874  Нидерланды - США - Германия - Канада - Франция...   \n",
       "1899                                                США   \n",
       "2126                                             Россия   \n",
       "2146                                             Россия   \n",
       "2438                                             Россия   \n",
       "2680                                             Россия   \n",
       "3139                                             Россия   \n",
       "3431                               Республика Казахстан   \n",
       "3439                       США - Пуэрто-Рико - Франция    \n",
       "3446  Великобритания - Аргентина - США - Франция - Р...   \n",
       "3514                  Россия, Грузия, Хорватия, Испания   \n",
       "3585                            Россия, Республика Кипр   \n",
       "3786                                             Россия   \n",
       "3948                                             Россия   \n",
       "5332                                                США   \n",
       "5455                                             Россия   \n",
       "5821                                               Иран   \n",
       "5910                                             Россия   \n",
       "6426                                             Россия   \n",
       "6616                                             Россия   \n",
       "6737                                             Россия   \n",
       "6882                                             Россия   \n",
       "7159                                             Россия   \n",
       "7277                                                США   \n",
       "\n",
       "                                               director  \\\n",
       "259                                       Эктор Бабенко   \n",
       "811                                            О.Лопато   \n",
       "1053                                        Питер Луизи   \n",
       "1341                                          Е.Шиляева   \n",
       "1805                                           А.Волгин   \n",
       "1874  Мэтью Аувро, Лео Брайдл, Бен Бренд, Ден Кларк,...   \n",
       "1899                                       Кеннет Брана   \n",
       "2126                                 М.Косырев-Нестеров   \n",
       "2146                                             Ю.Кара   \n",
       "2438                                        А.Стреляная   \n",
       "2680                                           Ю.Грымов   \n",
       "3139                  Н.Степанова при участии С.Иванова   \n",
       "3431                                     Аскар Бисембин   \n",
       "3439  М.Бэйкер, Д.Е.Брайант, Д.Рондот, Я.Серсар, Д.С...   \n",
       "3446  Д.Адар, П.Антохин, М.Биасин, А.Бурунова, К.Кол...   \n",
       "3514                                       Р.Глурджидзе   \n",
       "3585                                         Д.Червяцов   \n",
       "3786                                      А.Селиверстов   \n",
       "3948                                        И.Ромащенко   \n",
       "5332                                    Патрик Сиверсен   \n",
       "5455                                          А.Мигачев   \n",
       "5821                                        Мани Хагиги   \n",
       "5910                                           Д.Шабаев   \n",
       "6426                             Н.Иванова, А.Кузнецова   \n",
       "6616  А.Сазонов, Е.Климович, А.Коломеец, С.Черникова...   \n",
       "6737                                         Б.Куломзин   \n",
       "6882                                         Т.Мирошник   \n",
       "7159                                           Ю.Грымов   \n",
       "7277                                       Франк Халфун   \n",
       "\n",
       "                                               producer  \\\n",
       "259            Эктор Бабенко, Оскар Крамер, Хуго Сидмэн   \n",
       "811                 Г.Нерсисян, А.Манасарян, А.Нерсесян   \n",
       "1053                           Дэвид Луизи, Питер Луизи   \n",
       "1341                                        К.Терещенко   \n",
       "1805                                         Е.Ковалева   \n",
       "1874  Мэри Пэт Бентел, Бен Бренд, Сиара Гиллан, Джор...   \n",
       "1899       Дэвид Бэррон, Саймон Кинберг, Эллисон Ширмур   \n",
       "2126                                 М.Косырев-Нестеров   \n",
       "2146                                             Ю.Кара   \n",
       "2438                           А.Котелевский, Э.Пичугин   \n",
       "2680                                          П.Поляков   \n",
       "3139                          С.Кикнавелидзе, Д.Улюкаев   \n",
       "3431                 Олег Головашкин, Алмас Султангазин   \n",
       "3439  М.Бэйкер, Д.Е.Брайан, П.-Л.Гарнон, М.Х.Дельгад...   \n",
       "3446  Д.Адар, Д.Амсон, П.Антохин, А.Армстронг, С.Бил...   \n",
       "3514        З.Магалашвили, К.Гечмен-Вальдек, Н.Горшкова   \n",
       "3585                              Д.Ловейко, О.Кузовков   \n",
       "3786                 Е.Тарковская, Т.Лагода, Д.Степанян   \n",
       "3948                                     Р.Атамалибеков   \n",
       "5332                        Закари Ти Брайан, Кристофер   \n",
       "5455                                          И.Бачурин   \n",
       "5821                                        Мани Хагиги   \n",
       "5910                                        Н.Мокрицкая   \n",
       "6426                                        В.Коханович   \n",
       "6616  Д.Руюежин, Л.Пятницкая, Д.Колеров, Э.Ким, А.Хомич   \n",
       "6737                                         Б.Куломзин   \n",
       "6882                               В.Есинов, Е.Калинина   \n",
       "7159                                           Ю.Грымов   \n",
       "7277         Ашок Амритрадж, Джейсон Блум, Трэвис Клафф   \n",
       "\n",
       "                             age_restriction  refundable_support  \\\n",
       "259          «16+» - для детей старше 16 лет                 NaN   \n",
       "811          «12+» - для детей старше 12 лет                 NaN   \n",
       "1053         «16+» - для детей старше 16 лет                 NaN   \n",
       "1341           «6+» - для детей старше 6 лет                 NaN   \n",
       "1805         «12+» - для детей старше 12 лет                 NaN   \n",
       "1874             «18+» - запрещено для детей                 NaN   \n",
       "1899           «6+» - для детей старше 6 лет                 NaN   \n",
       "2126         «16+» - для детей старше 16 лет                 NaN   \n",
       "2146           «6+» - для детей старше 6 лет                 0.0   \n",
       "2438           «6+» - для детей старше 6 лет                 NaN   \n",
       "2680           «6+» - для детей старше 6 лет                 NaN   \n",
       "3139         «16+» - для детей старше 16 лет                 0.0   \n",
       "3431         «12+» - для детей старше 12 лет                 NaN   \n",
       "3439             «18+» - запрещено для детей                 NaN   \n",
       "3446             «18+» - запрещено для детей                 NaN   \n",
       "3514         «12+» - для детей старше 12 лет                 NaN   \n",
       "3585  «0+» - для любой зрительской аудитории                 NaN   \n",
       "3786         «16+» - для детей старше 16 лет                 NaN   \n",
       "3948         «16+» - для детей старше 16 лет                 NaN   \n",
       "5332             «18+» - запрещено для детей                 NaN   \n",
       "5455             «18+» - запрещено для детей                 NaN   \n",
       "5821             «18+» - запрещено для детей                 NaN   \n",
       "5910             «18+» - запрещено для детей                 NaN   \n",
       "6426         «12+» - для детей старше 12 лет                 NaN   \n",
       "6616         «12+» - для детей старше 12 лет                 NaN   \n",
       "6737           «6+» - для детей старше 6 лет                 NaN   \n",
       "6882  «0+» - для любой зрительской аудитории                 NaN   \n",
       "7159         «16+» - для детей старше 16 лет                 NaN   \n",
       "7277         «16+» - для детей старше 16 лет                 NaN   \n",
       "\n",
       "      nonrefundable_support      budget       financing_source ratings  \\\n",
       "259                     NaN         NaN                    NaN     99%   \n",
       "811                     NaN         NaN                    NaN     28%   \n",
       "1053                    NaN         NaN                    NaN     97%   \n",
       "1341                    NaN         NaN                    NaN     99%   \n",
       "1805                    NaN         NaN                    NaN     99%   \n",
       "1874                    NaN         NaN                    NaN     83%   \n",
       "1899                    NaN         NaN                    NaN     64%   \n",
       "2126                    NaN         NaN                    NaN     91%   \n",
       "2146             10000000.0  40000000.0  Министерство культуры     94%   \n",
       "2438                    NaN         NaN                    NaN     62%   \n",
       "2680                    NaN         NaN                    NaN     79%   \n",
       "3139              4700000.0  14462464.0  Министерство культуры     90%   \n",
       "3431                    NaN         NaN                    NaN     19%   \n",
       "3439                    NaN         NaN                    NaN     88%   \n",
       "3446                    NaN         NaN                    NaN     83%   \n",
       "3514                    NaN         NaN                    NaN     91%   \n",
       "3585                    NaN         NaN                    NaN     97%   \n",
       "3786                    NaN         NaN                    NaN     89%   \n",
       "3948                    NaN         NaN                    NaN     97%   \n",
       "5332                    NaN         NaN                    NaN     88%   \n",
       "5455                    NaN         NaN                    NaN     83%   \n",
       "5821                    NaN         NaN                    NaN     94%   \n",
       "5910                    NaN         NaN                    NaN     94%   \n",
       "6426                    NaN         NaN                    NaN     91%   \n",
       "6616                    NaN         NaN                    NaN     98%   \n",
       "6737                    NaN         NaN                    NaN     98%   \n",
       "6882                    NaN         NaN                    NaN     99%   \n",
       "7159                    NaN         NaN                    NaN     79%   \n",
       "7277                    NaN         NaN                    NaN     88%   \n",
       "\n",
       "                           genres    box_office  \n",
       "259           ужасы,триллер,драма           NaN  \n",
       "811   детский,приключения,комедия  1.740000e+03  \n",
       "1053     ужасы,фантастика,фэнтези           NaN  \n",
       "1341       триллер,драма,детектив           NaN  \n",
       "1805       аниме,мультфильм,ужасы  4.295000e+03  \n",
       "1874                          NaN  1.429859e+06  \n",
       "1899     мюзикл,фэнтези,мелодрама  5.287326e+08  \n",
       "2126               драма,семейный  0.000000e+00  \n",
       "2146    фантастика,боевик,комедия  3.347500e+05  \n",
       "2438             фэнтези,семейный           NaN  \n",
       "2680                     семейный           NaN  \n",
       "3139                        драма  8.013700e+05  \n",
       "3431                      комедия  3.796000e+04  \n",
       "3439                          NaN  1.025937e+06  \n",
       "3446                          NaN  2.266408e+06  \n",
       "3514                        драма           NaN  \n",
       "3585     мультфильм,ужасы,фэнтези           NaN  \n",
       "3786    фантастика,комедия,боевик  8.284000e+04  \n",
       "3948  приключения,комедия,фэнтези           NaN  \n",
       "5332    фантастика,боевик,триллер           NaN  \n",
       "5455       фэнтези,боевик,триллер           NaN  \n",
       "5821                триллер,драма  1.587222e+06  \n",
       "5910                        драма           NaN  \n",
       "6426              драма,биография           NaN  \n",
       "6616            фантастика,боевик           NaN  \n",
       "6737          фэнтези,приключения  3.499200e+04  \n",
       "6882               криминал,драма           NaN  \n",
       "7159                        драма  1.828825e+05  \n",
       "7277    фантастика,боевик,триллер  4.416590e+06  "
      ]
     },
     "execution_count": 10,
     "metadata": {},
     "output_type": "execute_result"
    }
   ],
   "source": [
    "df[df.ratings.str.contains('%') & df.ratings.notna()]"
   ]
  },
  {
   "cell_type": "markdown",
   "metadata": {},
   "source": [
    "Фильмы малоизвестные и вряд ли могут иметь рейтинг в 9.9, короткий ресерч показал, что некоторые из этих фильмов вовсе не имеют рейтинга на Кинопоиске. Вторая гипотеза заключается в том, что данные рейтинга с процентами - это технические данные от алгоритмов Кинопоиска. В любом случае для анализа безопаснее всего заменить данные на `NaN`"
   ]
  },
  {
   "cell_type": "code",
   "execution_count": 11,
   "metadata": {},
   "outputs": [
    {
     "data": {
      "text/plain": [
       "count    6490.000000\n",
       "mean        6.479245\n",
       "std         1.101665\n",
       "min         1.000000\n",
       "25%         5.900000\n",
       "50%         6.600000\n",
       "75%         7.200000\n",
       "max         9.200000\n",
       "Name: ratings, dtype: float64"
      ]
     },
     "execution_count": 11,
     "metadata": {},
     "output_type": "execute_result"
    }
   ],
   "source": [
    "df['ratings'] = pd.to_numeric(df['ratings'], errors = 'coerce')\n",
    "df.ratings.describe()"
   ]
  },
  {
   "cell_type": "markdown",
   "metadata": {
    "id": "i0MOLbF-gFyP"
   },
   "source": [
    "#### Шаг 2.2. Изучите пропуски в датафрейме\n",
    "\n",
    "- Объясните, почему заполнили пропуски определённым образом или почему не стали этого делать."
   ]
  },
  {
   "cell_type": "code",
   "execution_count": 12,
   "metadata": {
    "id": "8MJD_lkngFyP"
   },
   "outputs": [
    {
     "name": "stdout",
     "output_type": "stream",
     "text": [
      "<class 'pandas.core.frame.DataFrame'>\n",
      "Int64Index: 7486 entries, 0 to 7485\n",
      "Data columns (total 16 columns):\n",
      "title                    7486 non-null object\n",
      "puNumber                 7486 non-null object\n",
      "show_start_date          7486 non-null datetime64[ns]\n",
      "type                     7486 non-null object\n",
      "film_studio              7468 non-null object\n",
      "production_country       7484 non-null object\n",
      "director                 7477 non-null object\n",
      "producer                 6918 non-null object\n",
      "age_restriction          7486 non-null object\n",
      "refundable_support       332 non-null float64\n",
      "nonrefundable_support    332 non-null float64\n",
      "budget                   332 non-null float64\n",
      "financing_source         332 non-null object\n",
      "ratings                  6490 non-null float64\n",
      "genres                   6510 non-null object\n",
      "box_office               3158 non-null float64\n",
      "dtypes: datetime64[ns](1), float64(5), object(10)\n",
      "memory usage: 994.2+ KB\n"
     ]
    }
   ],
   "source": [
    "df.info()"
   ]
  },
  {
   "cell_type": "markdown",
   "metadata": {},
   "source": [
    "В данных довольно много пропусков, особенно в столбце `box_office`. Удалять данные с пропусками нет возможности, так как в таком случае останется очень мало данных для анализа. Подставлять значения также не представляется возможным, каждый фильм индивидуален и нет возможности взять статистику из большой выборки. Более того, для нас представляет исследовательский интерес как наличие данных, так и их отсутствие.\n",
    "\n",
    "Есть смысл заменить значения `NaN` в категориальных столбцах на значения типа `string`, например на `no_info`. При этом зачения в столбце `financing_source` оставим как есть, так как анализ по этому столбцу будет осуществляться только внутри выборки по фильмам, которые получили государственную поддержку и внутри этой выборки судя по данным пропусков нет."
   ]
  },
  {
   "cell_type": "code",
   "execution_count": 13,
   "metadata": {},
   "outputs": [
    {
     "name": "stdout",
     "output_type": "stream",
     "text": [
      "<class 'pandas.core.frame.DataFrame'>\n",
      "Int64Index: 7486 entries, 0 to 7485\n",
      "Data columns (total 16 columns):\n",
      "title                    7486 non-null object\n",
      "puNumber                 7486 non-null object\n",
      "show_start_date          7486 non-null datetime64[ns]\n",
      "type                     7486 non-null object\n",
      "film_studio              7486 non-null object\n",
      "production_country       7486 non-null object\n",
      "director                 7486 non-null object\n",
      "producer                 7486 non-null object\n",
      "age_restriction          7486 non-null object\n",
      "refundable_support       332 non-null float64\n",
      "nonrefundable_support    332 non-null float64\n",
      "budget                   332 non-null float64\n",
      "financing_source         332 non-null object\n",
      "ratings                  6490 non-null float64\n",
      "genres                   7486 non-null object\n",
      "box_office               3158 non-null float64\n",
      "dtypes: datetime64[ns](1), float64(5), object(10)\n",
      "memory usage: 994.2+ KB\n"
     ]
    }
   ],
   "source": [
    "df = df.fillna({\n",
    "    'film_studio': 'no_info',\n",
    "    'production_country': 'no_info',\n",
    "    'director': 'no_info',\n",
    "    'producer': 'no_info',\n",
    "    'genres': 'no_info'\n",
    "})\n",
    "df.info()"
   ]
  },
  {
   "cell_type": "markdown",
   "metadata": {
    "id": "4c6k1t9ygFyQ"
   },
   "source": [
    "#### Шаг 2.3. Изучите дубликаты в датафрейме\n",
    "- Проверьте, есть ли в данных дубликаты. Опишите причины, которые могли повлиять на появление дублей."
   ]
  },
  {
   "cell_type": "code",
   "execution_count": 14,
   "metadata": {
    "id": "aKck8RIdgFyQ"
   },
   "outputs": [
    {
     "data": {
      "text/html": [
       "<div>\n",
       "<style scoped>\n",
       "    .dataframe tbody tr th:only-of-type {\n",
       "        vertical-align: middle;\n",
       "    }\n",
       "\n",
       "    .dataframe tbody tr th {\n",
       "        vertical-align: top;\n",
       "    }\n",
       "\n",
       "    .dataframe thead th {\n",
       "        text-align: right;\n",
       "    }\n",
       "</style>\n",
       "<table border=\"1\" class=\"dataframe\">\n",
       "  <thead>\n",
       "    <tr style=\"text-align: right;\">\n",
       "      <th></th>\n",
       "      <th>title</th>\n",
       "      <th>puNumber</th>\n",
       "      <th>show_start_date</th>\n",
       "      <th>type</th>\n",
       "      <th>film_studio</th>\n",
       "      <th>production_country</th>\n",
       "      <th>director</th>\n",
       "      <th>producer</th>\n",
       "      <th>age_restriction</th>\n",
       "      <th>refundable_support</th>\n",
       "      <th>nonrefundable_support</th>\n",
       "      <th>budget</th>\n",
       "      <th>financing_source</th>\n",
       "      <th>ratings</th>\n",
       "      <th>genres</th>\n",
       "      <th>box_office</th>\n",
       "    </tr>\n",
       "  </thead>\n",
       "  <tbody>\n",
       "  </tbody>\n",
       "</table>\n",
       "</div>"
      ],
      "text/plain": [
       "Empty DataFrame\n",
       "Columns: [title, puNumber, show_start_date, type, film_studio, production_country, director, producer, age_restriction, refundable_support, nonrefundable_support, budget, financing_source, ratings, genres, box_office]\n",
       "Index: []"
      ]
     },
     "execution_count": 14,
     "metadata": {},
     "output_type": "execute_result"
    }
   ],
   "source": [
    "df[df.duplicated()]"
   ]
  },
  {
   "cell_type": "markdown",
   "metadata": {},
   "source": [
    "Явных дубликатов нет. Проверим на не явные дубликаты два столбца, которые потенциально могут иметь уникальные значения - название фильма и номер прокатного удостоверения."
   ]
  },
  {
   "cell_type": "code",
   "execution_count": 15,
   "metadata": {},
   "outputs": [
    {
     "data": {
      "text/plain": [
       "День святого Валентина_                                          5\n",
       "Код доступа \"Кейптаун\"                                           4\n",
       "Гарри Поттер и Дары Смерти - Часть 1/По роману Дж.К.Ролинг/      4\n",
       "Белая мгла /По комиксу Грега Рукка и Стива Либера/               4\n",
       "Робин Гуд (Robin Hood)                                           4\n",
       "                                                                ..\n",
       "Золушка /По сказке Шарля Перро/. Холодное торжество              1\n",
       "Проект \"Динозавр\" /По рассказу Тома Придхэма и Сида Беннетта/    1\n",
       "Блэйд: Троица                                                    1\n",
       "Уже не дети                                                      1\n",
       "Дела сердечные.                                                  1\n",
       "Name: title, Length: 6772, dtype: int64"
      ]
     },
     "execution_count": 15,
     "metadata": {},
     "output_type": "execute_result"
    }
   ],
   "source": [
    "df.title.value_counts()"
   ]
  },
  {
   "cell_type": "markdown",
   "metadata": {},
   "source": [
    "Дубликатов названий фильмов довольно много. В описании кейса сказано, что один фильм может иметь несколько прокатных удостоверений. Видимо из-за этого и возникают дубликаты в столбце `title`. Проверим данные по столбцу с названием прокатного удостоверения."
   ]
  },
  {
   "cell_type": "code",
   "execution_count": 16,
   "metadata": {},
   "outputs": [
    {
     "data": {
      "text/plain": [
       "221154310    2\n",
       "221054410    2\n",
       "111008218    1\n",
       "124001117    1\n",
       "112002218    1\n",
       "            ..\n",
       "112000117    1\n",
       "121024010    1\n",
       "126002211    1\n",
       "124001812    1\n",
       "111002816    1\n",
       "Name: puNumber, Length: 7484, dtype: int64"
      ]
     },
     "execution_count": 16,
     "metadata": {},
     "output_type": "execute_result"
    }
   ],
   "source": [
    "df.puNumber.value_counts()"
   ]
  },
  {
   "cell_type": "markdown",
   "metadata": {},
   "source": [
    "Всего два дубликата и это явная ошибка. Избавимся от них и далее будем основывать анализ считая уникальным идентификатором значения столбца `puNumber`, а `title` будем считать категориальным столбцом."
   ]
  },
  {
   "cell_type": "code",
   "execution_count": 17,
   "metadata": {},
   "outputs": [
    {
     "data": {
      "text/html": [
       "<div>\n",
       "<style scoped>\n",
       "    .dataframe tbody tr th:only-of-type {\n",
       "        vertical-align: middle;\n",
       "    }\n",
       "\n",
       "    .dataframe tbody tr th {\n",
       "        vertical-align: top;\n",
       "    }\n",
       "\n",
       "    .dataframe thead th {\n",
       "        text-align: right;\n",
       "    }\n",
       "</style>\n",
       "<table border=\"1\" class=\"dataframe\">\n",
       "  <thead>\n",
       "    <tr style=\"text-align: right;\">\n",
       "      <th></th>\n",
       "      <th>title</th>\n",
       "      <th>puNumber</th>\n",
       "      <th>show_start_date</th>\n",
       "      <th>type</th>\n",
       "      <th>film_studio</th>\n",
       "      <th>production_country</th>\n",
       "      <th>director</th>\n",
       "      <th>producer</th>\n",
       "      <th>age_restriction</th>\n",
       "      <th>refundable_support</th>\n",
       "      <th>nonrefundable_support</th>\n",
       "      <th>budget</th>\n",
       "      <th>financing_source</th>\n",
       "      <th>ratings</th>\n",
       "      <th>genres</th>\n",
       "      <th>box_office</th>\n",
       "    </tr>\n",
       "  </thead>\n",
       "  <tbody>\n",
       "    <tr>\n",
       "      <td>4638</td>\n",
       "      <td>Как жениться и остаться холостым</td>\n",
       "      <td>221154310</td>\n",
       "      <td>2010-12-17</td>\n",
       "      <td>Художественный</td>\n",
       "      <td>Ше Вам, Скрипт Ассосье, Тэ Фэ 1 Фильм Продюксь...</td>\n",
       "      <td>Франция</td>\n",
       "      <td>Эрик Лартиго</td>\n",
       "      <td>Амандин Било, Алан Шаба</td>\n",
       "      <td>«16+» - для детей старше 16 лет</td>\n",
       "      <td>NaN</td>\n",
       "      <td>NaN</td>\n",
       "      <td>NaN</td>\n",
       "      <td>NaN</td>\n",
       "      <td>7.0</td>\n",
       "      <td>мелодрама,комедия</td>\n",
       "      <td>NaN</td>\n",
       "    </tr>\n",
       "    <tr>\n",
       "      <td>4639</td>\n",
       "      <td>Иоанна - женщина на папском престоле /По роман...</td>\n",
       "      <td>221154310</td>\n",
       "      <td>2010-12-17</td>\n",
       "      <td>Художественный</td>\n",
       "      <td>Константин Фильм, А Эр Ди Дегето Фильм, Дюне ...</td>\n",
       "      <td>Германия - Великобритания - Италия - Испания</td>\n",
       "      <td>Зенке Вортманн</td>\n",
       "      <td>Оливер Бербен, Дорис Д.Хайнце, Фарук Элтан</td>\n",
       "      <td>«16+» - для детей старше 16 лет</td>\n",
       "      <td>NaN</td>\n",
       "      <td>NaN</td>\n",
       "      <td>NaN</td>\n",
       "      <td>NaN</td>\n",
       "      <td>7.6</td>\n",
       "      <td>драма,мелодрама,история</td>\n",
       "      <td>NaN</td>\n",
       "    </tr>\n",
       "    <tr>\n",
       "      <td>5067</td>\n",
       "      <td>Анализируй это!</td>\n",
       "      <td>221054410</td>\n",
       "      <td>2010-05-25</td>\n",
       "      <td>Художественный</td>\n",
       "      <td>Уорнер Бразерс, Вилладж Роудшоу Филмз ЛТД</td>\n",
       "      <td>США-Австралия</td>\n",
       "      <td>ХЭрольд Рэмис</td>\n",
       "      <td>Джейн Розенталь, Пола Уейнстейн</td>\n",
       "      <td>«16+» - для детей старше 16 лет</td>\n",
       "      <td>NaN</td>\n",
       "      <td>NaN</td>\n",
       "      <td>NaN</td>\n",
       "      <td>NaN</td>\n",
       "      <td>7.4</td>\n",
       "      <td>комедия,криминал</td>\n",
       "      <td>NaN</td>\n",
       "    </tr>\n",
       "    <tr>\n",
       "      <td>5068</td>\n",
       "      <td>Анализируй то!</td>\n",
       "      <td>221054410</td>\n",
       "      <td>2010-05-25</td>\n",
       "      <td>Художественный</td>\n",
       "      <td>Уорнер Бразерс, Виллидж Роадшоу Пикчерз, Эн-Пи...</td>\n",
       "      <td>США</td>\n",
       "      <td>Гарольд Реймис</td>\n",
       "      <td>Джейн Розенталь, Паул Уэйнстейн</td>\n",
       "      <td>«12+» - для детей старше 12 лет</td>\n",
       "      <td>NaN</td>\n",
       "      <td>NaN</td>\n",
       "      <td>NaN</td>\n",
       "      <td>NaN</td>\n",
       "      <td>6.8</td>\n",
       "      <td>комедия,криминал</td>\n",
       "      <td>NaN</td>\n",
       "    </tr>\n",
       "  </tbody>\n",
       "</table>\n",
       "</div>"
      ],
      "text/plain": [
       "                                                  title   puNumber  \\\n",
       "4638                   Как жениться и остаться холостым  221154310   \n",
       "4639  Иоанна - женщина на папском престоле /По роман...  221154310   \n",
       "5067                                    Анализируй это!  221054410   \n",
       "5068                                     Анализируй то!  221054410   \n",
       "\n",
       "     show_start_date            type  \\\n",
       "4638      2010-12-17  Художественный   \n",
       "4639      2010-12-17  Художественный   \n",
       "5067      2010-05-25  Художественный   \n",
       "5068      2010-05-25  Художественный   \n",
       "\n",
       "                                            film_studio  \\\n",
       "4638  Ше Вам, Скрипт Ассосье, Тэ Фэ 1 Фильм Продюксь...   \n",
       "4639   Константин Фильм, А Эр Ди Дегето Фильм, Дюне ...   \n",
       "5067          Уорнер Бразерс, Вилладж Роудшоу Филмз ЛТД   \n",
       "5068  Уорнер Бразерс, Виллидж Роадшоу Пикчерз, Эн-Пи...   \n",
       "\n",
       "                                production_country        director  \\\n",
       "4638                                       Франция    Эрик Лартиго   \n",
       "4639  Германия - Великобритания - Италия - Испания  Зенке Вортманн   \n",
       "5067                                 США-Австралия   ХЭрольд Рэмис   \n",
       "5068                                           США  Гарольд Реймис   \n",
       "\n",
       "                                        producer  \\\n",
       "4638                     Амандин Било, Алан Шаба   \n",
       "4639  Оливер Бербен, Дорис Д.Хайнце, Фарук Элтан   \n",
       "5067             Джейн Розенталь, Пола Уейнстейн   \n",
       "5068             Джейн Розенталь, Паул Уэйнстейн   \n",
       "\n",
       "                      age_restriction  refundable_support  \\\n",
       "4638  «16+» - для детей старше 16 лет                 NaN   \n",
       "4639  «16+» - для детей старше 16 лет                 NaN   \n",
       "5067  «16+» - для детей старше 16 лет                 NaN   \n",
       "5068  «12+» - для детей старше 12 лет                 NaN   \n",
       "\n",
       "      nonrefundable_support  budget financing_source  ratings  \\\n",
       "4638                    NaN     NaN              NaN      7.0   \n",
       "4639                    NaN     NaN              NaN      7.6   \n",
       "5067                    NaN     NaN              NaN      7.4   \n",
       "5068                    NaN     NaN              NaN      6.8   \n",
       "\n",
       "                       genres  box_office  \n",
       "4638        мелодрама,комедия         NaN  \n",
       "4639  драма,мелодрама,история         NaN  \n",
       "5067         комедия,криминал         NaN  \n",
       "5068         комедия,криминал         NaN  "
      ]
     },
     "execution_count": 17,
     "metadata": {},
     "output_type": "execute_result"
    }
   ],
   "source": [
    "df.query('puNumber == \"221054410\" or puNumber == \"221154310\"')"
   ]
  },
  {
   "cell_type": "code",
   "execution_count": 18,
   "metadata": {},
   "outputs": [
    {
     "data": {
      "text/plain": [
       "111008218    1\n",
       "121008014    1\n",
       "124001117    1\n",
       "112002218    1\n",
       "111005317    1\n",
       "            ..\n",
       "112000117    1\n",
       "121024010    1\n",
       "126002211    1\n",
       "124001812    1\n",
       "111002816    1\n",
       "Name: puNumber, Length: 7484, dtype: int64"
      ]
     },
     "execution_count": 18,
     "metadata": {},
     "output_type": "execute_result"
    }
   ],
   "source": [
    "df = df.drop([4639, 5068])\n",
    "df.puNumber.value_counts()"
   ]
  },
  {
   "cell_type": "markdown",
   "metadata": {
    "id": "52fOPrEBgFyQ"
   },
   "source": [
    "#### Шаг 2.4. Изучите категориальные значения\n"
   ]
  },
  {
   "cell_type": "code",
   "execution_count": 19,
   "metadata": {},
   "outputs": [
    {
     "name": "stdout",
     "output_type": "stream",
     "text": [
      "<class 'pandas.core.frame.DataFrame'>\n",
      "Int64Index: 7484 entries, 0 to 7485\n",
      "Data columns (total 16 columns):\n",
      "title                    7484 non-null object\n",
      "puNumber                 7484 non-null object\n",
      "show_start_date          7484 non-null datetime64[ns]\n",
      "type                     7484 non-null object\n",
      "film_studio              7484 non-null object\n",
      "production_country       7484 non-null object\n",
      "director                 7484 non-null object\n",
      "producer                 7484 non-null object\n",
      "age_restriction          7484 non-null object\n",
      "refundable_support       332 non-null float64\n",
      "nonrefundable_support    332 non-null float64\n",
      "budget                   332 non-null float64\n",
      "financing_source         332 non-null object\n",
      "ratings                  6488 non-null float64\n",
      "genres                   7484 non-null object\n",
      "box_office               3158 non-null float64\n",
      "dtypes: datetime64[ns](1), float64(5), object(10)\n",
      "memory usage: 994.0+ KB\n"
     ]
    }
   ],
   "source": [
    "df.info()"
   ]
  },
  {
   "cell_type": "markdown",
   "metadata": {},
   "source": [
    "Самая большая проблема категориальных значений это то, что они представляют из себя массив множества значений в одной ячейке. Это делает их сложным для технического анализа. Техническим заданием к кейсу требуется проанализировать данные по столбцу `age_restriction`, изменим данные этого столбца на более простые, убрав все лишнее."
   ]
  },
  {
   "cell_type": "code",
   "execution_count": 20,
   "metadata": {
    "id": "PnXKIVdFgFyR"
   },
   "outputs": [
    {
     "data": {
      "text/plain": [
       "«16+» - для детей старше 16 лет           2850\n",
       "«18+» - запрещено для детей               1605\n",
       "«12+» - для детей старше 12 лет           1592\n",
       "«0+» - для любой зрительской аудитории     811\n",
       "«6+» - для детей старше 6 лет              626\n",
       "Name: age_restriction, dtype: int64"
      ]
     },
     "execution_count": 20,
     "metadata": {},
     "output_type": "execute_result"
    }
   ],
   "source": [
    "df.age_restriction.value_counts()"
   ]
  },
  {
   "cell_type": "code",
   "execution_count": 21,
   "metadata": {},
   "outputs": [
    {
     "data": {
      "text/plain": [
       "16+    2850\n",
       "18+    1605\n",
       "12+    1592\n",
       "0+      811\n",
       "6+      626\n",
       "Name: age_restriction, dtype: int64"
      ]
     },
     "execution_count": 21,
     "metadata": {},
     "output_type": "execute_result"
    }
   ],
   "source": [
    "df = df.replace({\n",
    "    '«16+» - для детей старше 16 лет': '16+',\n",
    "    '«18+» - запрещено для детей': '18+',\n",
    "    '«12+» - для детей старше 12 лет': '12+',\n",
    "    '«0+» - для любой зрительской аудитории': '0+',\n",
    "    '«6+» - для детей старше 6 лет': '6+'\n",
    "})\n",
    "\n",
    "df.age_restriction.value_counts()"
   ]
  },
  {
   "cell_type": "markdown",
   "metadata": {},
   "source": [
    "Столбец `type` также довольно просто анализировать. Посмотрим на значения."
   ]
  },
  {
   "cell_type": "code",
   "execution_count": 22,
   "metadata": {},
   "outputs": [
    {
     "data": {
      "text/plain": [
       "Художественный                4518\n",
       " Художественный               1389\n",
       "Анимационный                   828\n",
       "Прочие                         406\n",
       "Документальный                 288\n",
       "Научно-популярный               53\n",
       " Анимационный                    1\n",
       "Музыкально-развлекательный       1\n",
       "Name: type, dtype: int64"
      ]
     },
     "execution_count": 22,
     "metadata": {},
     "output_type": "execute_result"
    }
   ],
   "source": [
    "df.type.value_counts()"
   ]
  },
  {
   "cell_type": "markdown",
   "metadata": {},
   "source": [
    "В названии категорий обаружены пробелы, избавимся от них."
   ]
  },
  {
   "cell_type": "code",
   "execution_count": 23,
   "metadata": {},
   "outputs": [
    {
     "data": {
      "text/plain": [
       "Художественный                5907\n",
       "Анимационный                   829\n",
       "Прочие                         406\n",
       "Документальный                 288\n",
       "Научно-популярный               53\n",
       "Музыкально-развлекательный       1\n",
       "Name: type, dtype: int64"
      ]
     },
     "execution_count": 23,
     "metadata": {},
     "output_type": "execute_result"
    }
   ],
   "source": [
    "df['type'] = df['type'].str.strip()\n",
    "df.type.value_counts()"
   ]
  },
  {
   "cell_type": "code",
   "execution_count": 24,
   "metadata": {},
   "outputs": [
    {
     "data": {
      "text/plain": [
       "Министерство культуры               164\n",
       "Фонд кино                           146\n",
       "Министерство культуры, Фонд кино     22\n",
       "Name: financing_source, dtype: int64"
      ]
     },
     "execution_count": 24,
     "metadata": {},
     "output_type": "execute_result"
    }
   ],
   "source": [
    "df.financing_source.value_counts()"
   ]
  },
  {
   "cell_type": "code",
   "execution_count": 25,
   "metadata": {},
   "outputs": [
    {
     "data": {
      "text/plain": [
       "Министерство культуры               164\n",
       "Фонд кино                           146\n",
       "Министерство культуры, Фонд кино     22\n",
       "Name: financing_source, dtype: int64"
      ]
     },
     "execution_count": 25,
     "metadata": {},
     "output_type": "execute_result"
    }
   ],
   "source": [
    "df.financing_source.value_counts()"
   ]
  },
  {
   "cell_type": "markdown",
   "metadata": {},
   "source": [
    "Столбец `financing_source` является единственным категориальным столбцом, с которым практически нет проблем. Двойное упоминание Министерства культуры и Фонда кино можно считать категорией \"*совместное финансирование*\""
   ]
  },
  {
   "cell_type": "markdown",
   "metadata": {
    "id": "XFSN5lrEgFyR"
   },
   "source": [
    "#### Шаг 2.5. Проверьте количественные значения\n",
    "\n"
   ]
  },
  {
   "cell_type": "markdown",
   "metadata": {},
   "source": [
    "В техническом задании к исследованию сказано о том, что необходимо особо тщательно исследовать данные по фильмам, которые получили поддержку от государства. Также в примечаниях сказано о том, что бюджет фильма уже должен содержать сумму поддержки. Проверим выполняется ли это требование."
   ]
  },
  {
   "cell_type": "code",
   "execution_count": 26,
   "metadata": {
    "id": "YbzClBxagFyS"
   },
   "outputs": [
    {
     "data": {
      "text/plain": [
       "False    7467\n",
       "True       17\n",
       "Name: wrong_budget, dtype: int64"
      ]
     },
     "execution_count": 26,
     "metadata": {},
     "output_type": "execute_result"
    }
   ],
   "source": [
    "df['wrong_budget'] = (df['refundable_support'] + df['nonrefundable_support']) > df['budget']\n",
    "df.wrong_budget.value_counts()"
   ]
  },
  {
   "cell_type": "markdown",
   "metadata": {},
   "source": [
    "Обнаружено 17 строк, где значение бюджета меньше значения суммы государственной поддержки, что является очевидной ошибкой. Посмотрим на эти значения"
   ]
  },
  {
   "cell_type": "code",
   "execution_count": 27,
   "metadata": {},
   "outputs": [
    {
     "data": {
      "text/html": [
       "<div>\n",
       "<style scoped>\n",
       "    .dataframe tbody tr th:only-of-type {\n",
       "        vertical-align: middle;\n",
       "    }\n",
       "\n",
       "    .dataframe tbody tr th {\n",
       "        vertical-align: top;\n",
       "    }\n",
       "\n",
       "    .dataframe thead th {\n",
       "        text-align: right;\n",
       "    }\n",
       "</style>\n",
       "<table border=\"1\" class=\"dataframe\">\n",
       "  <thead>\n",
       "    <tr style=\"text-align: right;\">\n",
       "      <th></th>\n",
       "      <th>title</th>\n",
       "      <th>puNumber</th>\n",
       "      <th>show_start_date</th>\n",
       "      <th>type</th>\n",
       "      <th>film_studio</th>\n",
       "      <th>production_country</th>\n",
       "      <th>director</th>\n",
       "      <th>producer</th>\n",
       "      <th>age_restriction</th>\n",
       "      <th>refundable_support</th>\n",
       "      <th>nonrefundable_support</th>\n",
       "      <th>budget</th>\n",
       "      <th>financing_source</th>\n",
       "      <th>ratings</th>\n",
       "      <th>genres</th>\n",
       "      <th>box_office</th>\n",
       "      <th>wrong_budget</th>\n",
       "    </tr>\n",
       "  </thead>\n",
       "  <tbody>\n",
       "    <tr>\n",
       "      <td>2053</td>\n",
       "      <td>14+</td>\n",
       "      <td>111023614</td>\n",
       "      <td>2014-12-19</td>\n",
       "      <td>Художественный</td>\n",
       "      <td>ООО Киностудия  \"Сентябрь\"</td>\n",
       "      <td>Россия</td>\n",
       "      <td>А.Зайцев</td>\n",
       "      <td>О.Гранина, А.Зайцев</td>\n",
       "      <td>16+</td>\n",
       "      <td>0.0</td>\n",
       "      <td>23000000.0</td>\n",
       "      <td>0.0</td>\n",
       "      <td>Министерство культуры, Фонд кино</td>\n",
       "      <td>6.6</td>\n",
       "      <td>мелодрама</td>\n",
       "      <td>1.023402e+07</td>\n",
       "      <td>True</td>\n",
       "    </tr>\n",
       "    <tr>\n",
       "      <td>2058</td>\n",
       "      <td>Дуxless 2</td>\n",
       "      <td>111000415</td>\n",
       "      <td>2015-01-26</td>\n",
       "      <td>Художественный</td>\n",
       "      <td>ООО \"Киностудия \"Слово\", ООО \"Арт Пикчерс Студия\"</td>\n",
       "      <td>Россия</td>\n",
       "      <td>Р.Прыгунов</td>\n",
       "      <td>П.Ануров, Ф.Бондарчук, Д.Рудовский</td>\n",
       "      <td>16+</td>\n",
       "      <td>0.0</td>\n",
       "      <td>75000000.0</td>\n",
       "      <td>0.0</td>\n",
       "      <td>Фонд кино</td>\n",
       "      <td>6.6</td>\n",
       "      <td>драма</td>\n",
       "      <td>4.461635e+08</td>\n",
       "      <td>True</td>\n",
       "    </tr>\n",
       "    <tr>\n",
       "      <td>2472</td>\n",
       "      <td>Воин (2015)</td>\n",
       "      <td>111017315</td>\n",
       "      <td>2015-09-28</td>\n",
       "      <td>Художественный</td>\n",
       "      <td>ООО \"Форпост Продакшн\", ООО \"Арт Пикчерс Студия\"</td>\n",
       "      <td>Россия</td>\n",
       "      <td>А.Андрианов</td>\n",
       "      <td>ООО \"Арт Пикчерс Студия\"</td>\n",
       "      <td>12+</td>\n",
       "      <td>10000000.0</td>\n",
       "      <td>70000000.0</td>\n",
       "      <td>0.0</td>\n",
       "      <td>Фонд кино</td>\n",
       "      <td>7.8</td>\n",
       "      <td>боевик,драма,криминал</td>\n",
       "      <td>1.965724e+08</td>\n",
       "      <td>True</td>\n",
       "    </tr>\n",
       "    <tr>\n",
       "      <td>2532</td>\n",
       "      <td>Бармен.</td>\n",
       "      <td>111009615</td>\n",
       "      <td>2015-05-26</td>\n",
       "      <td>Художественный</td>\n",
       "      <td>АО \"ВайТ Медиа\", ООО \"Арт Пикчерс Студия\"</td>\n",
       "      <td>Россия</td>\n",
       "      <td>Д.Штурманова</td>\n",
       "      <td>Т.Вайнштейн</td>\n",
       "      <td>16+</td>\n",
       "      <td>20000000.0</td>\n",
       "      <td>0.0</td>\n",
       "      <td>0.0</td>\n",
       "      <td>Фонд кино</td>\n",
       "      <td>6.2</td>\n",
       "      <td>комедия,фэнтези</td>\n",
       "      <td>6.741897e+07</td>\n",
       "      <td>True</td>\n",
       "    </tr>\n",
       "    <tr>\n",
       "      <td>2615</td>\n",
       "      <td>Савва. Сердце воина</td>\n",
       "      <td>114001715</td>\n",
       "      <td>2015-07-21</td>\n",
       "      <td>Анимационный</td>\n",
       "      <td>ООО \"Глюкоза Продакшн\", ООО \"Арт Пикчерс Студия\"</td>\n",
       "      <td>Россия</td>\n",
       "      <td>М.Фадеев</td>\n",
       "      <td>А.Чистяков</td>\n",
       "      <td>6+</td>\n",
       "      <td>60000000.0</td>\n",
       "      <td>100000000.0</td>\n",
       "      <td>0.0</td>\n",
       "      <td>Фонд кино</td>\n",
       "      <td>4.6</td>\n",
       "      <td>мультфильм,приключения,фэнтези</td>\n",
       "      <td>1.844876e+08</td>\n",
       "      <td>True</td>\n",
       "    </tr>\n",
       "    <tr>\n",
       "      <td>2684</td>\n",
       "      <td>Тряпичный союз</td>\n",
       "      <td>111010215</td>\n",
       "      <td>2015-06-08</td>\n",
       "      <td>Художественный</td>\n",
       "      <td>ООО \"Кинокомпания \"КОКТЕБЕЛЬ\"</td>\n",
       "      <td>Россия</td>\n",
       "      <td>М.Местецкий</td>\n",
       "      <td>Р.Борисевич, А.Кушаев</td>\n",
       "      <td>18+</td>\n",
       "      <td>0.0</td>\n",
       "      <td>59000000.0</td>\n",
       "      <td>0.0</td>\n",
       "      <td>Фонд кино</td>\n",
       "      <td>6.3</td>\n",
       "      <td>комедия,драма</td>\n",
       "      <td>1.957739e+06</td>\n",
       "      <td>True</td>\n",
       "    </tr>\n",
       "    <tr>\n",
       "      <td>2788</td>\n",
       "      <td>Срочно выйду замуж</td>\n",
       "      <td>111017115</td>\n",
       "      <td>2015-09-30</td>\n",
       "      <td>Художественный</td>\n",
       "      <td>АО \"ВайТ Медиа\", ООО \"Арт Пикчерс Студия\"</td>\n",
       "      <td>Россия</td>\n",
       "      <td>С Чекалов</td>\n",
       "      <td>Ф.Бондарчук, Т.Вайнштейн, Д.Рудовский</td>\n",
       "      <td>16+</td>\n",
       "      <td>0.0</td>\n",
       "      <td>35000000.0</td>\n",
       "      <td>0.0</td>\n",
       "      <td>Фонд кино</td>\n",
       "      <td>5.1</td>\n",
       "      <td>комедия,мелодрама</td>\n",
       "      <td>7.293778e+07</td>\n",
       "      <td>True</td>\n",
       "    </tr>\n",
       "    <tr>\n",
       "      <td>2874</td>\n",
       "      <td>Помню - не помню!</td>\n",
       "      <td>111004916</td>\n",
       "      <td>2016-03-01</td>\n",
       "      <td>Художественный</td>\n",
       "      <td>ООО \"КиноФирма\"</td>\n",
       "      <td>Россия</td>\n",
       "      <td>В.Ровенский</td>\n",
       "      <td>ООО \"КиноФирма\"</td>\n",
       "      <td>12+</td>\n",
       "      <td>0.0</td>\n",
       "      <td>6000000.0</td>\n",
       "      <td>0.0</td>\n",
       "      <td>Министерство культуры</td>\n",
       "      <td>4.3</td>\n",
       "      <td>комедия</td>\n",
       "      <td>1.536293e+07</td>\n",
       "      <td>True</td>\n",
       "    </tr>\n",
       "    <tr>\n",
       "      <td>3047</td>\n",
       "      <td>Любовь с ограничениями</td>\n",
       "      <td>111008216</td>\n",
       "      <td>2016-04-29</td>\n",
       "      <td>Художественный</td>\n",
       "      <td>АО \"ВайТ Медиа\", ООО \"Арт Пикчерс Студия\"</td>\n",
       "      <td>Россия</td>\n",
       "      <td>Д.Тюрин</td>\n",
       "      <td>Ф.Бондарчук, Т.Вайнштейн, Д.Рудовский</td>\n",
       "      <td>16+</td>\n",
       "      <td>19000000.0</td>\n",
       "      <td>51000000.0</td>\n",
       "      <td>0.0</td>\n",
       "      <td>Фонд кино</td>\n",
       "      <td>6.3</td>\n",
       "      <td>комедия,мелодрама</td>\n",
       "      <td>7.029905e+07</td>\n",
       "      <td>True</td>\n",
       "    </tr>\n",
       "    <tr>\n",
       "      <td>3565</td>\n",
       "      <td>Притяжение (2016)</td>\n",
       "      <td>111018116</td>\n",
       "      <td>2016-12-16</td>\n",
       "      <td>Художественный</td>\n",
       "      <td>ООО \"Водород 2011\",  ООО \"Арт Пикчерс Студия\"</td>\n",
       "      <td>Россия</td>\n",
       "      <td>Ф.Бондарчук</td>\n",
       "      <td>ООО \"Арт Пикчерс Студия\"</td>\n",
       "      <td>12+</td>\n",
       "      <td>0.0</td>\n",
       "      <td>250000000.0</td>\n",
       "      <td>0.0</td>\n",
       "      <td>Фонд кино</td>\n",
       "      <td>5.6</td>\n",
       "      <td>фантастика</td>\n",
       "      <td>1.038321e+09</td>\n",
       "      <td>True</td>\n",
       "    </tr>\n",
       "    <tr>\n",
       "      <td>3675</td>\n",
       "      <td>Чудо-юдо</td>\n",
       "      <td>114001817</td>\n",
       "      <td>2017-06-27</td>\n",
       "      <td>Анимационный</td>\n",
       "      <td>ООО \"КиноФирма\"</td>\n",
       "      <td>Россия</td>\n",
       "      <td>А.Лукичев</td>\n",
       "      <td>ООО \"КиноФирма\"</td>\n",
       "      <td>6+</td>\n",
       "      <td>20000000.0</td>\n",
       "      <td>20000000.0</td>\n",
       "      <td>0.0</td>\n",
       "      <td>Фонд кино</td>\n",
       "      <td>5.2</td>\n",
       "      <td>мультфильм,фэнтези,семейный</td>\n",
       "      <td>5.510801e+07</td>\n",
       "      <td>True</td>\n",
       "    </tr>\n",
       "    <tr>\n",
       "      <td>3739</td>\n",
       "      <td>Мифы</td>\n",
       "      <td>111004317</td>\n",
       "      <td>2017-06-07</td>\n",
       "      <td>Художественный</td>\n",
       "      <td>ООО \"ХАЙПФИЛМ\", ООО \"Арт Пикчерс Студия\"</td>\n",
       "      <td>Россия</td>\n",
       "      <td>А.Молочников</td>\n",
       "      <td>Ф.Бондарчук, Д.Рудовский, И.Стюарт, М.Османн, ...</td>\n",
       "      <td>16+</td>\n",
       "      <td>25000000.0</td>\n",
       "      <td>20000000.0</td>\n",
       "      <td>0.0</td>\n",
       "      <td>Фонд кино</td>\n",
       "      <td>4.8</td>\n",
       "      <td>комедия</td>\n",
       "      <td>5.045195e+07</td>\n",
       "      <td>True</td>\n",
       "    </tr>\n",
       "    <tr>\n",
       "      <td>5673</td>\n",
       "      <td>Селфи</td>\n",
       "      <td>111012117</td>\n",
       "      <td>2018-02-01</td>\n",
       "      <td>Художественный</td>\n",
       "      <td>ООО \"Киностудия \"Слово\", ООО \"Арт Пикчерс Студия\"</td>\n",
       "      <td>Россия</td>\n",
       "      <td>Н.Хомерики</td>\n",
       "      <td>П.Ануров, Ф.Бондарчук, Д.Рудовский</td>\n",
       "      <td>16+</td>\n",
       "      <td>20000000.0</td>\n",
       "      <td>40000000.0</td>\n",
       "      <td>0.0</td>\n",
       "      <td>Фонд кино</td>\n",
       "      <td>5.8</td>\n",
       "      <td>триллер,драма</td>\n",
       "      <td>2.251964e+08</td>\n",
       "      <td>True</td>\n",
       "    </tr>\n",
       "    <tr>\n",
       "      <td>5806</td>\n",
       "      <td>Два хвоста</td>\n",
       "      <td>114001018</td>\n",
       "      <td>2018-05-31</td>\n",
       "      <td>Анимационный</td>\n",
       "      <td>ООО \"ЛИЦЕНЗИОННЫЕ БРЕНДЫ\"</td>\n",
       "      <td>Россия</td>\n",
       "      <td>В.Ровенский, Н.Лопато, В.Азеев</td>\n",
       "      <td>ООО \"ЛИЦЕНЗИОННЫЕ БРЕНДЫ\"</td>\n",
       "      <td>6+</td>\n",
       "      <td>10000000.0</td>\n",
       "      <td>60000000.0</td>\n",
       "      <td>0.0</td>\n",
       "      <td>Фонд кино</td>\n",
       "      <td>5.0</td>\n",
       "      <td>мультфильм,детский</td>\n",
       "      <td>1.065143e+08</td>\n",
       "      <td>True</td>\n",
       "    </tr>\n",
       "    <tr>\n",
       "      <td>6008</td>\n",
       "      <td>Принцесса и дракон</td>\n",
       "      <td>114003018</td>\n",
       "      <td>2018-08-23</td>\n",
       "      <td>Анимационный</td>\n",
       "      <td>ООО \"ЛИЦЕНЗИОННЫЕ БРЕНДЫ\"</td>\n",
       "      <td>Россия</td>\n",
       "      <td>М.Нефедова</td>\n",
       "      <td>ООО \"ЛИЦЕНЗИОННЫЕ БРЕНДЫ\"</td>\n",
       "      <td>6+</td>\n",
       "      <td>40000000.0</td>\n",
       "      <td>40000000.0</td>\n",
       "      <td>0.0</td>\n",
       "      <td>Фонд кино</td>\n",
       "      <td>5.2</td>\n",
       "      <td>мультфильм,фэнтези,детский</td>\n",
       "      <td>8.336633e+07</td>\n",
       "      <td>True</td>\n",
       "    </tr>\n",
       "    <tr>\n",
       "      <td>6323</td>\n",
       "      <td>Баба Яга</td>\n",
       "      <td>114006518</td>\n",
       "      <td>2018-11-08</td>\n",
       "      <td>Анимационный</td>\n",
       "      <td>ООО \"Арт Пикчерс Студия\"</td>\n",
       "      <td>Россия</td>\n",
       "      <td>В.Саков</td>\n",
       "      <td>ООО \"Арт Пикчерс Студия\", ООО \"КРИЭЙТИВ АНИМЭЙ...</td>\n",
       "      <td>6+</td>\n",
       "      <td>0.0</td>\n",
       "      <td>138969465.0</td>\n",
       "      <td>0.0</td>\n",
       "      <td>Фонд кино</td>\n",
       "      <td>NaN</td>\n",
       "      <td>no_info</td>\n",
       "      <td>1.334699e+06</td>\n",
       "      <td>True</td>\n",
       "    </tr>\n",
       "    <tr>\n",
       "      <td>6823</td>\n",
       "      <td>Большое путешествие</td>\n",
       "      <td>114002419</td>\n",
       "      <td>2019-04-20</td>\n",
       "      <td>Анимационный</td>\n",
       "      <td>ООО \"ЛИЦЕНЗИОННЫЕ БРЕНДЫ\"</td>\n",
       "      <td>Россия</td>\n",
       "      <td>Н.Лопато, В.Ровенский</td>\n",
       "      <td>ООО \"ЛИЦЕНЗИОННЫЕ БРЕНДЫ\"</td>\n",
       "      <td>6+</td>\n",
       "      <td>60000000.0</td>\n",
       "      <td>120000000.0</td>\n",
       "      <td>0.0</td>\n",
       "      <td>Фонд кино</td>\n",
       "      <td>6.2</td>\n",
       "      <td>мультфильм,комедия,приключения</td>\n",
       "      <td>1.476068e+08</td>\n",
       "      <td>True</td>\n",
       "    </tr>\n",
       "  </tbody>\n",
       "</table>\n",
       "</div>"
      ],
      "text/plain": [
       "                       title   puNumber show_start_date            type  \\\n",
       "2053                     14+  111023614      2014-12-19  Художественный   \n",
       "2058               Дуxless 2  111000415      2015-01-26  Художественный   \n",
       "2472             Воин (2015)  111017315      2015-09-28  Художественный   \n",
       "2532                 Бармен.  111009615      2015-05-26  Художественный   \n",
       "2615     Савва. Сердце воина  114001715      2015-07-21    Анимационный   \n",
       "2684          Тряпичный союз  111010215      2015-06-08  Художественный   \n",
       "2788      Срочно выйду замуж  111017115      2015-09-30  Художественный   \n",
       "2874       Помню - не помню!  111004916      2016-03-01  Художественный   \n",
       "3047  Любовь с ограничениями  111008216      2016-04-29  Художественный   \n",
       "3565       Притяжение (2016)  111018116      2016-12-16  Художественный   \n",
       "3675                Чудо-юдо  114001817      2017-06-27    Анимационный   \n",
       "3739                    Мифы  111004317      2017-06-07  Художественный   \n",
       "5673                   Селфи  111012117      2018-02-01  Художественный   \n",
       "5806              Два хвоста  114001018      2018-05-31    Анимационный   \n",
       "6008      Принцесса и дракон  114003018      2018-08-23    Анимационный   \n",
       "6323                Баба Яга  114006518      2018-11-08    Анимационный   \n",
       "6823     Большое путешествие  114002419      2019-04-20    Анимационный   \n",
       "\n",
       "                                            film_studio production_country  \\\n",
       "2053                         ООО Киностудия  \"Сентябрь\"             Россия   \n",
       "2058  ООО \"Киностудия \"Слово\", ООО \"Арт Пикчерс Студия\"             Россия   \n",
       "2472   ООО \"Форпост Продакшн\", ООО \"Арт Пикчерс Студия\"             Россия   \n",
       "2532          АО \"ВайТ Медиа\", ООО \"Арт Пикчерс Студия\"             Россия   \n",
       "2615   ООО \"Глюкоза Продакшн\", ООО \"Арт Пикчерс Студия\"             Россия   \n",
       "2684                      ООО \"Кинокомпания \"КОКТЕБЕЛЬ\"             Россия   \n",
       "2788          АО \"ВайТ Медиа\", ООО \"Арт Пикчерс Студия\"             Россия   \n",
       "2874                                    ООО \"КиноФирма\"             Россия   \n",
       "3047          АО \"ВайТ Медиа\", ООО \"Арт Пикчерс Студия\"             Россия   \n",
       "3565      ООО \"Водород 2011\",  ООО \"Арт Пикчерс Студия\"             Россия   \n",
       "3675                                    ООО \"КиноФирма\"             Россия   \n",
       "3739           ООО \"ХАЙПФИЛМ\", ООО \"Арт Пикчерс Студия\"             Россия   \n",
       "5673  ООО \"Киностудия \"Слово\", ООО \"Арт Пикчерс Студия\"             Россия   \n",
       "5806                          ООО \"ЛИЦЕНЗИОННЫЕ БРЕНДЫ\"             Россия   \n",
       "6008                          ООО \"ЛИЦЕНЗИОННЫЕ БРЕНДЫ\"             Россия   \n",
       "6323                           ООО \"Арт Пикчерс Студия\"             Россия   \n",
       "6823                          ООО \"ЛИЦЕНЗИОННЫЕ БРЕНДЫ\"             Россия   \n",
       "\n",
       "                            director  \\\n",
       "2053                        А.Зайцев   \n",
       "2058                      Р.Прыгунов   \n",
       "2472                     А.Андрианов   \n",
       "2532                    Д.Штурманова   \n",
       "2615                        М.Фадеев   \n",
       "2684                     М.Местецкий   \n",
       "2788                       С Чекалов   \n",
       "2874                     В.Ровенский   \n",
       "3047                         Д.Тюрин   \n",
       "3565                     Ф.Бондарчук   \n",
       "3675                       А.Лукичев   \n",
       "3739                    А.Молочников   \n",
       "5673                      Н.Хомерики   \n",
       "5806  В.Ровенский, Н.Лопато, В.Азеев   \n",
       "6008                      М.Нефедова   \n",
       "6323                         В.Саков   \n",
       "6823           Н.Лопато, В.Ровенский   \n",
       "\n",
       "                                               producer age_restriction  \\\n",
       "2053                                О.Гранина, А.Зайцев             16+   \n",
       "2058                 П.Ануров, Ф.Бондарчук, Д.Рудовский             16+   \n",
       "2472                           ООО \"Арт Пикчерс Студия\"             12+   \n",
       "2532                                        Т.Вайнштейн             16+   \n",
       "2615                                         А.Чистяков              6+   \n",
       "2684                              Р.Борисевич, А.Кушаев             18+   \n",
       "2788              Ф.Бондарчук, Т.Вайнштейн, Д.Рудовский             16+   \n",
       "2874                                    ООО \"КиноФирма\"             12+   \n",
       "3047              Ф.Бондарчук, Т.Вайнштейн, Д.Рудовский             16+   \n",
       "3565                           ООО \"Арт Пикчерс Студия\"             12+   \n",
       "3675                                    ООО \"КиноФирма\"              6+   \n",
       "3739  Ф.Бондарчук, Д.Рудовский, И.Стюарт, М.Османн, ...             16+   \n",
       "5673                 П.Ануров, Ф.Бондарчук, Д.Рудовский             16+   \n",
       "5806                          ООО \"ЛИЦЕНЗИОННЫЕ БРЕНДЫ\"              6+   \n",
       "6008                          ООО \"ЛИЦЕНЗИОННЫЕ БРЕНДЫ\"              6+   \n",
       "6323  ООО \"Арт Пикчерс Студия\", ООО \"КРИЭЙТИВ АНИМЭЙ...              6+   \n",
       "6823                          ООО \"ЛИЦЕНЗИОННЫЕ БРЕНДЫ\"              6+   \n",
       "\n",
       "      refundable_support  nonrefundable_support  budget  \\\n",
       "2053                 0.0             23000000.0     0.0   \n",
       "2058                 0.0             75000000.0     0.0   \n",
       "2472          10000000.0             70000000.0     0.0   \n",
       "2532          20000000.0                    0.0     0.0   \n",
       "2615          60000000.0            100000000.0     0.0   \n",
       "2684                 0.0             59000000.0     0.0   \n",
       "2788                 0.0             35000000.0     0.0   \n",
       "2874                 0.0              6000000.0     0.0   \n",
       "3047          19000000.0             51000000.0     0.0   \n",
       "3565                 0.0            250000000.0     0.0   \n",
       "3675          20000000.0             20000000.0     0.0   \n",
       "3739          25000000.0             20000000.0     0.0   \n",
       "5673          20000000.0             40000000.0     0.0   \n",
       "5806          10000000.0             60000000.0     0.0   \n",
       "6008          40000000.0             40000000.0     0.0   \n",
       "6323                 0.0            138969465.0     0.0   \n",
       "6823          60000000.0            120000000.0     0.0   \n",
       "\n",
       "                      financing_source  ratings  \\\n",
       "2053  Министерство культуры, Фонд кино      6.6   \n",
       "2058                         Фонд кино      6.6   \n",
       "2472                         Фонд кино      7.8   \n",
       "2532                         Фонд кино      6.2   \n",
       "2615                         Фонд кино      4.6   \n",
       "2684                         Фонд кино      6.3   \n",
       "2788                         Фонд кино      5.1   \n",
       "2874             Министерство культуры      4.3   \n",
       "3047                         Фонд кино      6.3   \n",
       "3565                         Фонд кино      5.6   \n",
       "3675                         Фонд кино      5.2   \n",
       "3739                         Фонд кино      4.8   \n",
       "5673                         Фонд кино      5.8   \n",
       "5806                         Фонд кино      5.0   \n",
       "6008                         Фонд кино      5.2   \n",
       "6323                         Фонд кино      NaN   \n",
       "6823                         Фонд кино      6.2   \n",
       "\n",
       "                              genres    box_office  wrong_budget  \n",
       "2053                       мелодрама  1.023402e+07          True  \n",
       "2058                           драма  4.461635e+08          True  \n",
       "2472           боевик,драма,криминал  1.965724e+08          True  \n",
       "2532                 комедия,фэнтези  6.741897e+07          True  \n",
       "2615  мультфильм,приключения,фэнтези  1.844876e+08          True  \n",
       "2684                   комедия,драма  1.957739e+06          True  \n",
       "2788               комедия,мелодрама  7.293778e+07          True  \n",
       "2874                         комедия  1.536293e+07          True  \n",
       "3047               комедия,мелодрама  7.029905e+07          True  \n",
       "3565                      фантастика  1.038321e+09          True  \n",
       "3675     мультфильм,фэнтези,семейный  5.510801e+07          True  \n",
       "3739                         комедия  5.045195e+07          True  \n",
       "5673                   триллер,драма  2.251964e+08          True  \n",
       "5806              мультфильм,детский  1.065143e+08          True  \n",
       "6008      мультфильм,фэнтези,детский  8.336633e+07          True  \n",
       "6323                         no_info  1.334699e+06          True  \n",
       "6823  мультфильм,комедия,приключения  1.476068e+08          True  "
      ]
     },
     "execution_count": 27,
     "metadata": {},
     "output_type": "execute_result"
    }
   ],
   "source": [
    "df.query('wrong_budget == True')"
   ]
  },
  {
   "cell_type": "markdown",
   "metadata": {},
   "source": [
    "Все значения столбца `budget` равны нулю. Это ошибка, которая похожа либо на пропуски, либо на техническую ошибку и имеется в виду, что бюджет фильма имеет только государственную поддержку. Так или иначе лучше всего с точки зрения анализа заполнить значения бюджета значениями суммы столбцов `refundable_support` и `nonrefandable_support`"
   ]
  },
  {
   "cell_type": "code",
   "execution_count": 28,
   "metadata": {},
   "outputs": [
    {
     "data": {
      "text/html": [
       "<div>\n",
       "<style scoped>\n",
       "    .dataframe tbody tr th:only-of-type {\n",
       "        vertical-align: middle;\n",
       "    }\n",
       "\n",
       "    .dataframe tbody tr th {\n",
       "        vertical-align: top;\n",
       "    }\n",
       "\n",
       "    .dataframe thead th {\n",
       "        text-align: right;\n",
       "    }\n",
       "</style>\n",
       "<table border=\"1\" class=\"dataframe\">\n",
       "  <thead>\n",
       "    <tr style=\"text-align: right;\">\n",
       "      <th></th>\n",
       "      <th>title</th>\n",
       "      <th>puNumber</th>\n",
       "      <th>show_start_date</th>\n",
       "      <th>type</th>\n",
       "      <th>film_studio</th>\n",
       "      <th>production_country</th>\n",
       "      <th>director</th>\n",
       "      <th>producer</th>\n",
       "      <th>age_restriction</th>\n",
       "      <th>refundable_support</th>\n",
       "      <th>nonrefundable_support</th>\n",
       "      <th>budget</th>\n",
       "      <th>financing_source</th>\n",
       "      <th>ratings</th>\n",
       "      <th>genres</th>\n",
       "      <th>box_office</th>\n",
       "      <th>wrong_budget</th>\n",
       "    </tr>\n",
       "  </thead>\n",
       "  <tbody>\n",
       "    <tr>\n",
       "      <td>2053</td>\n",
       "      <td>14+</td>\n",
       "      <td>111023614</td>\n",
       "      <td>2014-12-19</td>\n",
       "      <td>Художественный</td>\n",
       "      <td>ООО Киностудия  \"Сентябрь\"</td>\n",
       "      <td>Россия</td>\n",
       "      <td>А.Зайцев</td>\n",
       "      <td>О.Гранина, А.Зайцев</td>\n",
       "      <td>16+</td>\n",
       "      <td>0.0</td>\n",
       "      <td>23000000.0</td>\n",
       "      <td>23000000.0</td>\n",
       "      <td>Министерство культуры, Фонд кино</td>\n",
       "      <td>6.6</td>\n",
       "      <td>мелодрама</td>\n",
       "      <td>1.023402e+07</td>\n",
       "      <td>True</td>\n",
       "    </tr>\n",
       "    <tr>\n",
       "      <td>2058</td>\n",
       "      <td>Дуxless 2</td>\n",
       "      <td>111000415</td>\n",
       "      <td>2015-01-26</td>\n",
       "      <td>Художественный</td>\n",
       "      <td>ООО \"Киностудия \"Слово\", ООО \"Арт Пикчерс Студия\"</td>\n",
       "      <td>Россия</td>\n",
       "      <td>Р.Прыгунов</td>\n",
       "      <td>П.Ануров, Ф.Бондарчук, Д.Рудовский</td>\n",
       "      <td>16+</td>\n",
       "      <td>0.0</td>\n",
       "      <td>75000000.0</td>\n",
       "      <td>75000000.0</td>\n",
       "      <td>Фонд кино</td>\n",
       "      <td>6.6</td>\n",
       "      <td>драма</td>\n",
       "      <td>4.461635e+08</td>\n",
       "      <td>True</td>\n",
       "    </tr>\n",
       "    <tr>\n",
       "      <td>2472</td>\n",
       "      <td>Воин (2015)</td>\n",
       "      <td>111017315</td>\n",
       "      <td>2015-09-28</td>\n",
       "      <td>Художественный</td>\n",
       "      <td>ООО \"Форпост Продакшн\", ООО \"Арт Пикчерс Студия\"</td>\n",
       "      <td>Россия</td>\n",
       "      <td>А.Андрианов</td>\n",
       "      <td>ООО \"Арт Пикчерс Студия\"</td>\n",
       "      <td>12+</td>\n",
       "      <td>10000000.0</td>\n",
       "      <td>70000000.0</td>\n",
       "      <td>80000000.0</td>\n",
       "      <td>Фонд кино</td>\n",
       "      <td>7.8</td>\n",
       "      <td>боевик,драма,криминал</td>\n",
       "      <td>1.965724e+08</td>\n",
       "      <td>True</td>\n",
       "    </tr>\n",
       "    <tr>\n",
       "      <td>2532</td>\n",
       "      <td>Бармен.</td>\n",
       "      <td>111009615</td>\n",
       "      <td>2015-05-26</td>\n",
       "      <td>Художественный</td>\n",
       "      <td>АО \"ВайТ Медиа\", ООО \"Арт Пикчерс Студия\"</td>\n",
       "      <td>Россия</td>\n",
       "      <td>Д.Штурманова</td>\n",
       "      <td>Т.Вайнштейн</td>\n",
       "      <td>16+</td>\n",
       "      <td>20000000.0</td>\n",
       "      <td>0.0</td>\n",
       "      <td>20000000.0</td>\n",
       "      <td>Фонд кино</td>\n",
       "      <td>6.2</td>\n",
       "      <td>комедия,фэнтези</td>\n",
       "      <td>6.741897e+07</td>\n",
       "      <td>True</td>\n",
       "    </tr>\n",
       "    <tr>\n",
       "      <td>2615</td>\n",
       "      <td>Савва. Сердце воина</td>\n",
       "      <td>114001715</td>\n",
       "      <td>2015-07-21</td>\n",
       "      <td>Анимационный</td>\n",
       "      <td>ООО \"Глюкоза Продакшн\", ООО \"Арт Пикчерс Студия\"</td>\n",
       "      <td>Россия</td>\n",
       "      <td>М.Фадеев</td>\n",
       "      <td>А.Чистяков</td>\n",
       "      <td>6+</td>\n",
       "      <td>60000000.0</td>\n",
       "      <td>100000000.0</td>\n",
       "      <td>160000000.0</td>\n",
       "      <td>Фонд кино</td>\n",
       "      <td>4.6</td>\n",
       "      <td>мультфильм,приключения,фэнтези</td>\n",
       "      <td>1.844876e+08</td>\n",
       "      <td>True</td>\n",
       "    </tr>\n",
       "    <tr>\n",
       "      <td>2684</td>\n",
       "      <td>Тряпичный союз</td>\n",
       "      <td>111010215</td>\n",
       "      <td>2015-06-08</td>\n",
       "      <td>Художественный</td>\n",
       "      <td>ООО \"Кинокомпания \"КОКТЕБЕЛЬ\"</td>\n",
       "      <td>Россия</td>\n",
       "      <td>М.Местецкий</td>\n",
       "      <td>Р.Борисевич, А.Кушаев</td>\n",
       "      <td>18+</td>\n",
       "      <td>0.0</td>\n",
       "      <td>59000000.0</td>\n",
       "      <td>59000000.0</td>\n",
       "      <td>Фонд кино</td>\n",
       "      <td>6.3</td>\n",
       "      <td>комедия,драма</td>\n",
       "      <td>1.957739e+06</td>\n",
       "      <td>True</td>\n",
       "    </tr>\n",
       "    <tr>\n",
       "      <td>2788</td>\n",
       "      <td>Срочно выйду замуж</td>\n",
       "      <td>111017115</td>\n",
       "      <td>2015-09-30</td>\n",
       "      <td>Художественный</td>\n",
       "      <td>АО \"ВайТ Медиа\", ООО \"Арт Пикчерс Студия\"</td>\n",
       "      <td>Россия</td>\n",
       "      <td>С Чекалов</td>\n",
       "      <td>Ф.Бондарчук, Т.Вайнштейн, Д.Рудовский</td>\n",
       "      <td>16+</td>\n",
       "      <td>0.0</td>\n",
       "      <td>35000000.0</td>\n",
       "      <td>35000000.0</td>\n",
       "      <td>Фонд кино</td>\n",
       "      <td>5.1</td>\n",
       "      <td>комедия,мелодрама</td>\n",
       "      <td>7.293778e+07</td>\n",
       "      <td>True</td>\n",
       "    </tr>\n",
       "    <tr>\n",
       "      <td>2874</td>\n",
       "      <td>Помню - не помню!</td>\n",
       "      <td>111004916</td>\n",
       "      <td>2016-03-01</td>\n",
       "      <td>Художественный</td>\n",
       "      <td>ООО \"КиноФирма\"</td>\n",
       "      <td>Россия</td>\n",
       "      <td>В.Ровенский</td>\n",
       "      <td>ООО \"КиноФирма\"</td>\n",
       "      <td>12+</td>\n",
       "      <td>0.0</td>\n",
       "      <td>6000000.0</td>\n",
       "      <td>6000000.0</td>\n",
       "      <td>Министерство культуры</td>\n",
       "      <td>4.3</td>\n",
       "      <td>комедия</td>\n",
       "      <td>1.536293e+07</td>\n",
       "      <td>True</td>\n",
       "    </tr>\n",
       "    <tr>\n",
       "      <td>3047</td>\n",
       "      <td>Любовь с ограничениями</td>\n",
       "      <td>111008216</td>\n",
       "      <td>2016-04-29</td>\n",
       "      <td>Художественный</td>\n",
       "      <td>АО \"ВайТ Медиа\", ООО \"Арт Пикчерс Студия\"</td>\n",
       "      <td>Россия</td>\n",
       "      <td>Д.Тюрин</td>\n",
       "      <td>Ф.Бондарчук, Т.Вайнштейн, Д.Рудовский</td>\n",
       "      <td>16+</td>\n",
       "      <td>19000000.0</td>\n",
       "      <td>51000000.0</td>\n",
       "      <td>70000000.0</td>\n",
       "      <td>Фонд кино</td>\n",
       "      <td>6.3</td>\n",
       "      <td>комедия,мелодрама</td>\n",
       "      <td>7.029905e+07</td>\n",
       "      <td>True</td>\n",
       "    </tr>\n",
       "    <tr>\n",
       "      <td>3565</td>\n",
       "      <td>Притяжение (2016)</td>\n",
       "      <td>111018116</td>\n",
       "      <td>2016-12-16</td>\n",
       "      <td>Художественный</td>\n",
       "      <td>ООО \"Водород 2011\",  ООО \"Арт Пикчерс Студия\"</td>\n",
       "      <td>Россия</td>\n",
       "      <td>Ф.Бондарчук</td>\n",
       "      <td>ООО \"Арт Пикчерс Студия\"</td>\n",
       "      <td>12+</td>\n",
       "      <td>0.0</td>\n",
       "      <td>250000000.0</td>\n",
       "      <td>250000000.0</td>\n",
       "      <td>Фонд кино</td>\n",
       "      <td>5.6</td>\n",
       "      <td>фантастика</td>\n",
       "      <td>1.038321e+09</td>\n",
       "      <td>True</td>\n",
       "    </tr>\n",
       "    <tr>\n",
       "      <td>3675</td>\n",
       "      <td>Чудо-юдо</td>\n",
       "      <td>114001817</td>\n",
       "      <td>2017-06-27</td>\n",
       "      <td>Анимационный</td>\n",
       "      <td>ООО \"КиноФирма\"</td>\n",
       "      <td>Россия</td>\n",
       "      <td>А.Лукичев</td>\n",
       "      <td>ООО \"КиноФирма\"</td>\n",
       "      <td>6+</td>\n",
       "      <td>20000000.0</td>\n",
       "      <td>20000000.0</td>\n",
       "      <td>40000000.0</td>\n",
       "      <td>Фонд кино</td>\n",
       "      <td>5.2</td>\n",
       "      <td>мультфильм,фэнтези,семейный</td>\n",
       "      <td>5.510801e+07</td>\n",
       "      <td>True</td>\n",
       "    </tr>\n",
       "    <tr>\n",
       "      <td>3739</td>\n",
       "      <td>Мифы</td>\n",
       "      <td>111004317</td>\n",
       "      <td>2017-06-07</td>\n",
       "      <td>Художественный</td>\n",
       "      <td>ООО \"ХАЙПФИЛМ\", ООО \"Арт Пикчерс Студия\"</td>\n",
       "      <td>Россия</td>\n",
       "      <td>А.Молочников</td>\n",
       "      <td>Ф.Бондарчук, Д.Рудовский, И.Стюарт, М.Османн, ...</td>\n",
       "      <td>16+</td>\n",
       "      <td>25000000.0</td>\n",
       "      <td>20000000.0</td>\n",
       "      <td>45000000.0</td>\n",
       "      <td>Фонд кино</td>\n",
       "      <td>4.8</td>\n",
       "      <td>комедия</td>\n",
       "      <td>5.045195e+07</td>\n",
       "      <td>True</td>\n",
       "    </tr>\n",
       "    <tr>\n",
       "      <td>5673</td>\n",
       "      <td>Селфи</td>\n",
       "      <td>111012117</td>\n",
       "      <td>2018-02-01</td>\n",
       "      <td>Художественный</td>\n",
       "      <td>ООО \"Киностудия \"Слово\", ООО \"Арт Пикчерс Студия\"</td>\n",
       "      <td>Россия</td>\n",
       "      <td>Н.Хомерики</td>\n",
       "      <td>П.Ануров, Ф.Бондарчук, Д.Рудовский</td>\n",
       "      <td>16+</td>\n",
       "      <td>20000000.0</td>\n",
       "      <td>40000000.0</td>\n",
       "      <td>60000000.0</td>\n",
       "      <td>Фонд кино</td>\n",
       "      <td>5.8</td>\n",
       "      <td>триллер,драма</td>\n",
       "      <td>2.251964e+08</td>\n",
       "      <td>True</td>\n",
       "    </tr>\n",
       "    <tr>\n",
       "      <td>5806</td>\n",
       "      <td>Два хвоста</td>\n",
       "      <td>114001018</td>\n",
       "      <td>2018-05-31</td>\n",
       "      <td>Анимационный</td>\n",
       "      <td>ООО \"ЛИЦЕНЗИОННЫЕ БРЕНДЫ\"</td>\n",
       "      <td>Россия</td>\n",
       "      <td>В.Ровенский, Н.Лопато, В.Азеев</td>\n",
       "      <td>ООО \"ЛИЦЕНЗИОННЫЕ БРЕНДЫ\"</td>\n",
       "      <td>6+</td>\n",
       "      <td>10000000.0</td>\n",
       "      <td>60000000.0</td>\n",
       "      <td>70000000.0</td>\n",
       "      <td>Фонд кино</td>\n",
       "      <td>5.0</td>\n",
       "      <td>мультфильм,детский</td>\n",
       "      <td>1.065143e+08</td>\n",
       "      <td>True</td>\n",
       "    </tr>\n",
       "    <tr>\n",
       "      <td>6008</td>\n",
       "      <td>Принцесса и дракон</td>\n",
       "      <td>114003018</td>\n",
       "      <td>2018-08-23</td>\n",
       "      <td>Анимационный</td>\n",
       "      <td>ООО \"ЛИЦЕНЗИОННЫЕ БРЕНДЫ\"</td>\n",
       "      <td>Россия</td>\n",
       "      <td>М.Нефедова</td>\n",
       "      <td>ООО \"ЛИЦЕНЗИОННЫЕ БРЕНДЫ\"</td>\n",
       "      <td>6+</td>\n",
       "      <td>40000000.0</td>\n",
       "      <td>40000000.0</td>\n",
       "      <td>80000000.0</td>\n",
       "      <td>Фонд кино</td>\n",
       "      <td>5.2</td>\n",
       "      <td>мультфильм,фэнтези,детский</td>\n",
       "      <td>8.336633e+07</td>\n",
       "      <td>True</td>\n",
       "    </tr>\n",
       "    <tr>\n",
       "      <td>6323</td>\n",
       "      <td>Баба Яга</td>\n",
       "      <td>114006518</td>\n",
       "      <td>2018-11-08</td>\n",
       "      <td>Анимационный</td>\n",
       "      <td>ООО \"Арт Пикчерс Студия\"</td>\n",
       "      <td>Россия</td>\n",
       "      <td>В.Саков</td>\n",
       "      <td>ООО \"Арт Пикчерс Студия\", ООО \"КРИЭЙТИВ АНИМЭЙ...</td>\n",
       "      <td>6+</td>\n",
       "      <td>0.0</td>\n",
       "      <td>138969465.0</td>\n",
       "      <td>138969465.0</td>\n",
       "      <td>Фонд кино</td>\n",
       "      <td>NaN</td>\n",
       "      <td>no_info</td>\n",
       "      <td>1.334699e+06</td>\n",
       "      <td>True</td>\n",
       "    </tr>\n",
       "    <tr>\n",
       "      <td>6823</td>\n",
       "      <td>Большое путешествие</td>\n",
       "      <td>114002419</td>\n",
       "      <td>2019-04-20</td>\n",
       "      <td>Анимационный</td>\n",
       "      <td>ООО \"ЛИЦЕНЗИОННЫЕ БРЕНДЫ\"</td>\n",
       "      <td>Россия</td>\n",
       "      <td>Н.Лопато, В.Ровенский</td>\n",
       "      <td>ООО \"ЛИЦЕНЗИОННЫЕ БРЕНДЫ\"</td>\n",
       "      <td>6+</td>\n",
       "      <td>60000000.0</td>\n",
       "      <td>120000000.0</td>\n",
       "      <td>180000000.0</td>\n",
       "      <td>Фонд кино</td>\n",
       "      <td>6.2</td>\n",
       "      <td>мультфильм,комедия,приключения</td>\n",
       "      <td>1.476068e+08</td>\n",
       "      <td>True</td>\n",
       "    </tr>\n",
       "  </tbody>\n",
       "</table>\n",
       "</div>"
      ],
      "text/plain": [
       "                       title   puNumber show_start_date            type  \\\n",
       "2053                     14+  111023614      2014-12-19  Художественный   \n",
       "2058               Дуxless 2  111000415      2015-01-26  Художественный   \n",
       "2472             Воин (2015)  111017315      2015-09-28  Художественный   \n",
       "2532                 Бармен.  111009615      2015-05-26  Художественный   \n",
       "2615     Савва. Сердце воина  114001715      2015-07-21    Анимационный   \n",
       "2684          Тряпичный союз  111010215      2015-06-08  Художественный   \n",
       "2788      Срочно выйду замуж  111017115      2015-09-30  Художественный   \n",
       "2874       Помню - не помню!  111004916      2016-03-01  Художественный   \n",
       "3047  Любовь с ограничениями  111008216      2016-04-29  Художественный   \n",
       "3565       Притяжение (2016)  111018116      2016-12-16  Художественный   \n",
       "3675                Чудо-юдо  114001817      2017-06-27    Анимационный   \n",
       "3739                    Мифы  111004317      2017-06-07  Художественный   \n",
       "5673                   Селфи  111012117      2018-02-01  Художественный   \n",
       "5806              Два хвоста  114001018      2018-05-31    Анимационный   \n",
       "6008      Принцесса и дракон  114003018      2018-08-23    Анимационный   \n",
       "6323                Баба Яга  114006518      2018-11-08    Анимационный   \n",
       "6823     Большое путешествие  114002419      2019-04-20    Анимационный   \n",
       "\n",
       "                                            film_studio production_country  \\\n",
       "2053                         ООО Киностудия  \"Сентябрь\"             Россия   \n",
       "2058  ООО \"Киностудия \"Слово\", ООО \"Арт Пикчерс Студия\"             Россия   \n",
       "2472   ООО \"Форпост Продакшн\", ООО \"Арт Пикчерс Студия\"             Россия   \n",
       "2532          АО \"ВайТ Медиа\", ООО \"Арт Пикчерс Студия\"             Россия   \n",
       "2615   ООО \"Глюкоза Продакшн\", ООО \"Арт Пикчерс Студия\"             Россия   \n",
       "2684                      ООО \"Кинокомпания \"КОКТЕБЕЛЬ\"             Россия   \n",
       "2788          АО \"ВайТ Медиа\", ООО \"Арт Пикчерс Студия\"             Россия   \n",
       "2874                                    ООО \"КиноФирма\"             Россия   \n",
       "3047          АО \"ВайТ Медиа\", ООО \"Арт Пикчерс Студия\"             Россия   \n",
       "3565      ООО \"Водород 2011\",  ООО \"Арт Пикчерс Студия\"             Россия   \n",
       "3675                                    ООО \"КиноФирма\"             Россия   \n",
       "3739           ООО \"ХАЙПФИЛМ\", ООО \"Арт Пикчерс Студия\"             Россия   \n",
       "5673  ООО \"Киностудия \"Слово\", ООО \"Арт Пикчерс Студия\"             Россия   \n",
       "5806                          ООО \"ЛИЦЕНЗИОННЫЕ БРЕНДЫ\"             Россия   \n",
       "6008                          ООО \"ЛИЦЕНЗИОННЫЕ БРЕНДЫ\"             Россия   \n",
       "6323                           ООО \"Арт Пикчерс Студия\"             Россия   \n",
       "6823                          ООО \"ЛИЦЕНЗИОННЫЕ БРЕНДЫ\"             Россия   \n",
       "\n",
       "                            director  \\\n",
       "2053                        А.Зайцев   \n",
       "2058                      Р.Прыгунов   \n",
       "2472                     А.Андрианов   \n",
       "2532                    Д.Штурманова   \n",
       "2615                        М.Фадеев   \n",
       "2684                     М.Местецкий   \n",
       "2788                       С Чекалов   \n",
       "2874                     В.Ровенский   \n",
       "3047                         Д.Тюрин   \n",
       "3565                     Ф.Бондарчук   \n",
       "3675                       А.Лукичев   \n",
       "3739                    А.Молочников   \n",
       "5673                      Н.Хомерики   \n",
       "5806  В.Ровенский, Н.Лопато, В.Азеев   \n",
       "6008                      М.Нефедова   \n",
       "6323                         В.Саков   \n",
       "6823           Н.Лопато, В.Ровенский   \n",
       "\n",
       "                                               producer age_restriction  \\\n",
       "2053                                О.Гранина, А.Зайцев             16+   \n",
       "2058                 П.Ануров, Ф.Бондарчук, Д.Рудовский             16+   \n",
       "2472                           ООО \"Арт Пикчерс Студия\"             12+   \n",
       "2532                                        Т.Вайнштейн             16+   \n",
       "2615                                         А.Чистяков              6+   \n",
       "2684                              Р.Борисевич, А.Кушаев             18+   \n",
       "2788              Ф.Бондарчук, Т.Вайнштейн, Д.Рудовский             16+   \n",
       "2874                                    ООО \"КиноФирма\"             12+   \n",
       "3047              Ф.Бондарчук, Т.Вайнштейн, Д.Рудовский             16+   \n",
       "3565                           ООО \"Арт Пикчерс Студия\"             12+   \n",
       "3675                                    ООО \"КиноФирма\"              6+   \n",
       "3739  Ф.Бондарчук, Д.Рудовский, И.Стюарт, М.Османн, ...             16+   \n",
       "5673                 П.Ануров, Ф.Бондарчук, Д.Рудовский             16+   \n",
       "5806                          ООО \"ЛИЦЕНЗИОННЫЕ БРЕНДЫ\"              6+   \n",
       "6008                          ООО \"ЛИЦЕНЗИОННЫЕ БРЕНДЫ\"              6+   \n",
       "6323  ООО \"Арт Пикчерс Студия\", ООО \"КРИЭЙТИВ АНИМЭЙ...              6+   \n",
       "6823                          ООО \"ЛИЦЕНЗИОННЫЕ БРЕНДЫ\"              6+   \n",
       "\n",
       "      refundable_support  nonrefundable_support       budget  \\\n",
       "2053                 0.0             23000000.0   23000000.0   \n",
       "2058                 0.0             75000000.0   75000000.0   \n",
       "2472          10000000.0             70000000.0   80000000.0   \n",
       "2532          20000000.0                    0.0   20000000.0   \n",
       "2615          60000000.0            100000000.0  160000000.0   \n",
       "2684                 0.0             59000000.0   59000000.0   \n",
       "2788                 0.0             35000000.0   35000000.0   \n",
       "2874                 0.0              6000000.0    6000000.0   \n",
       "3047          19000000.0             51000000.0   70000000.0   \n",
       "3565                 0.0            250000000.0  250000000.0   \n",
       "3675          20000000.0             20000000.0   40000000.0   \n",
       "3739          25000000.0             20000000.0   45000000.0   \n",
       "5673          20000000.0             40000000.0   60000000.0   \n",
       "5806          10000000.0             60000000.0   70000000.0   \n",
       "6008          40000000.0             40000000.0   80000000.0   \n",
       "6323                 0.0            138969465.0  138969465.0   \n",
       "6823          60000000.0            120000000.0  180000000.0   \n",
       "\n",
       "                      financing_source  ratings  \\\n",
       "2053  Министерство культуры, Фонд кино      6.6   \n",
       "2058                         Фонд кино      6.6   \n",
       "2472                         Фонд кино      7.8   \n",
       "2532                         Фонд кино      6.2   \n",
       "2615                         Фонд кино      4.6   \n",
       "2684                         Фонд кино      6.3   \n",
       "2788                         Фонд кино      5.1   \n",
       "2874             Министерство культуры      4.3   \n",
       "3047                         Фонд кино      6.3   \n",
       "3565                         Фонд кино      5.6   \n",
       "3675                         Фонд кино      5.2   \n",
       "3739                         Фонд кино      4.8   \n",
       "5673                         Фонд кино      5.8   \n",
       "5806                         Фонд кино      5.0   \n",
       "6008                         Фонд кино      5.2   \n",
       "6323                         Фонд кино      NaN   \n",
       "6823                         Фонд кино      6.2   \n",
       "\n",
       "                              genres    box_office  wrong_budget  \n",
       "2053                       мелодрама  1.023402e+07          True  \n",
       "2058                           драма  4.461635e+08          True  \n",
       "2472           боевик,драма,криминал  1.965724e+08          True  \n",
       "2532                 комедия,фэнтези  6.741897e+07          True  \n",
       "2615  мультфильм,приключения,фэнтези  1.844876e+08          True  \n",
       "2684                   комедия,драма  1.957739e+06          True  \n",
       "2788               комедия,мелодрама  7.293778e+07          True  \n",
       "2874                         комедия  1.536293e+07          True  \n",
       "3047               комедия,мелодрама  7.029905e+07          True  \n",
       "3565                      фантастика  1.038321e+09          True  \n",
       "3675     мультфильм,фэнтези,семейный  5.510801e+07          True  \n",
       "3739                         комедия  5.045195e+07          True  \n",
       "5673                   триллер,драма  2.251964e+08          True  \n",
       "5806              мультфильм,детский  1.065143e+08          True  \n",
       "6008      мультфильм,фэнтези,детский  8.336633e+07          True  \n",
       "6323                         no_info  1.334699e+06          True  \n",
       "6823  мультфильм,комедия,приключения  1.476068e+08          True  "
      ]
     },
     "execution_count": 28,
     "metadata": {},
     "output_type": "execute_result"
    }
   ],
   "source": [
    "df['budget'] = df['budget'].mask(df['budget'] == 0, df['refundable_support'] + df['nonrefundable_support'])\n",
    "df.query('wrong_budget == True')"
   ]
  },
  {
   "cell_type": "markdown",
   "metadata": {},
   "source": [
    "Теперь посмотрим на остальные количественные значения (и удалим столбец `wrong_budget`, так как он нам больше не нужен)"
   ]
  },
  {
   "cell_type": "code",
   "execution_count": 29,
   "metadata": {},
   "outputs": [
    {
     "data": {
      "text/html": [
       "<div>\n",
       "<style scoped>\n",
       "    .dataframe tbody tr th:only-of-type {\n",
       "        vertical-align: middle;\n",
       "    }\n",
       "\n",
       "    .dataframe tbody tr th {\n",
       "        vertical-align: top;\n",
       "    }\n",
       "\n",
       "    .dataframe thead th {\n",
       "        text-align: right;\n",
       "    }\n",
       "</style>\n",
       "<table border=\"1\" class=\"dataframe\">\n",
       "  <thead>\n",
       "    <tr style=\"text-align: right;\">\n",
       "      <th></th>\n",
       "      <th>count</th>\n",
       "      <th>mean</th>\n",
       "      <th>std</th>\n",
       "      <th>min</th>\n",
       "      <th>25%</th>\n",
       "      <th>50%</th>\n",
       "      <th>75%</th>\n",
       "      <th>max</th>\n",
       "    </tr>\n",
       "  </thead>\n",
       "  <tbody>\n",
       "    <tr>\n",
       "      <td>refundable_support</td>\n",
       "      <td>332.0</td>\n",
       "      <td>1.186446e+07</td>\n",
       "      <td>2.491656e+07</td>\n",
       "      <td>0.0</td>\n",
       "      <td>0.0</td>\n",
       "      <td>0.00</td>\n",
       "      <td>1.500000e+07</td>\n",
       "      <td>1.800000e+08</td>\n",
       "    </tr>\n",
       "    <tr>\n",
       "      <td>nonrefundable_support</td>\n",
       "      <td>332.0</td>\n",
       "      <td>4.898099e+07</td>\n",
       "      <td>5.998012e+07</td>\n",
       "      <td>0.0</td>\n",
       "      <td>25000000.0</td>\n",
       "      <td>30000000.00</td>\n",
       "      <td>4.037500e+07</td>\n",
       "      <td>4.000000e+08</td>\n",
       "    </tr>\n",
       "    <tr>\n",
       "      <td>budget</td>\n",
       "      <td>332.0</td>\n",
       "      <td>1.314224e+08</td>\n",
       "      <td>1.871482e+08</td>\n",
       "      <td>6000000.0</td>\n",
       "      <td>45524799.5</td>\n",
       "      <td>71196901.50</td>\n",
       "      <td>1.500000e+08</td>\n",
       "      <td>2.305074e+09</td>\n",
       "    </tr>\n",
       "    <tr>\n",
       "      <td>ratings</td>\n",
       "      <td>6488.0</td>\n",
       "      <td>6.479023e+00</td>\n",
       "      <td>1.101740e+00</td>\n",
       "      <td>1.0</td>\n",
       "      <td>5.9</td>\n",
       "      <td>6.60</td>\n",
       "      <td>7.200000e+00</td>\n",
       "      <td>9.200000e+00</td>\n",
       "    </tr>\n",
       "    <tr>\n",
       "      <td>box_office</td>\n",
       "      <td>3158.0</td>\n",
       "      <td>7.647870e+07</td>\n",
       "      <td>2.403531e+08</td>\n",
       "      <td>0.0</td>\n",
       "      <td>86239.0</td>\n",
       "      <td>2327987.55</td>\n",
       "      <td>2.397967e+07</td>\n",
       "      <td>3.073569e+09</td>\n",
       "    </tr>\n",
       "  </tbody>\n",
       "</table>\n",
       "</div>"
      ],
      "text/plain": [
       "                        count          mean           std        min  \\\n",
       "refundable_support      332.0  1.186446e+07  2.491656e+07        0.0   \n",
       "nonrefundable_support   332.0  4.898099e+07  5.998012e+07        0.0   \n",
       "budget                  332.0  1.314224e+08  1.871482e+08  6000000.0   \n",
       "ratings                6488.0  6.479023e+00  1.101740e+00        1.0   \n",
       "box_office             3158.0  7.647870e+07  2.403531e+08        0.0   \n",
       "\n",
       "                              25%          50%           75%           max  \n",
       "refundable_support            0.0         0.00  1.500000e+07  1.800000e+08  \n",
       "nonrefundable_support  25000000.0  30000000.00  4.037500e+07  4.000000e+08  \n",
       "budget                 45524799.5  71196901.50  1.500000e+08  2.305074e+09  \n",
       "ratings                       5.9         6.60  7.200000e+00  9.200000e+00  \n",
       "box_office                86239.0   2327987.55  2.397967e+07  3.073569e+09  "
      ]
     },
     "execution_count": 29,
     "metadata": {},
     "output_type": "execute_result"
    }
   ],
   "source": [
    "df = df.drop(columns = ['wrong_budget'])\n",
    "df.describe().T"
   ]
  },
  {
   "cell_type": "markdown",
   "metadata": {},
   "source": [
    "Научный способ записывать большие цифры нам тут не требуется, изменим отображение цифр на лучший с точки зрения восприятия способ"
   ]
  },
  {
   "cell_type": "code",
   "execution_count": 30,
   "metadata": {},
   "outputs": [
    {
     "data": {
      "text/html": [
       "<div>\n",
       "<style scoped>\n",
       "    .dataframe tbody tr th:only-of-type {\n",
       "        vertical-align: middle;\n",
       "    }\n",
       "\n",
       "    .dataframe tbody tr th {\n",
       "        vertical-align: top;\n",
       "    }\n",
       "\n",
       "    .dataframe thead th {\n",
       "        text-align: right;\n",
       "    }\n",
       "</style>\n",
       "<table border=\"1\" class=\"dataframe\">\n",
       "  <thead>\n",
       "    <tr style=\"text-align: right;\">\n",
       "      <th></th>\n",
       "      <th>count</th>\n",
       "      <th>mean</th>\n",
       "      <th>std</th>\n",
       "      <th>min</th>\n",
       "      <th>25%</th>\n",
       "      <th>50%</th>\n",
       "      <th>75%</th>\n",
       "      <th>max</th>\n",
       "    </tr>\n",
       "  </thead>\n",
       "  <tbody>\n",
       "    <tr>\n",
       "      <td>refundable_support</td>\n",
       "      <td>332.0</td>\n",
       "      <td>11,864,457.8</td>\n",
       "      <td>24,916,555.3</td>\n",
       "      <td>0.0</td>\n",
       "      <td>0.0</td>\n",
       "      <td>0.0</td>\n",
       "      <td>15,000,000.0</td>\n",
       "      <td>180,000,000.0</td>\n",
       "    </tr>\n",
       "    <tr>\n",
       "      <td>nonrefundable_support</td>\n",
       "      <td>332.0</td>\n",
       "      <td>48,980,988.9</td>\n",
       "      <td>59,980,117.9</td>\n",
       "      <td>0.0</td>\n",
       "      <td>25,000,000.0</td>\n",
       "      <td>30,000,000.0</td>\n",
       "      <td>40,375,000.0</td>\n",
       "      <td>400,000,000.0</td>\n",
       "    </tr>\n",
       "    <tr>\n",
       "      <td>budget</td>\n",
       "      <td>332.0</td>\n",
       "      <td>131,422,395.8</td>\n",
       "      <td>187,148,242.7</td>\n",
       "      <td>6,000,000.0</td>\n",
       "      <td>45,524,799.5</td>\n",
       "      <td>71,196,901.5</td>\n",
       "      <td>150,000,000.0</td>\n",
       "      <td>2,305,074,303.0</td>\n",
       "    </tr>\n",
       "    <tr>\n",
       "      <td>ratings</td>\n",
       "      <td>6,488.0</td>\n",
       "      <td>6.5</td>\n",
       "      <td>1.1</td>\n",
       "      <td>1.0</td>\n",
       "      <td>5.9</td>\n",
       "      <td>6.6</td>\n",
       "      <td>7.2</td>\n",
       "      <td>9.2</td>\n",
       "    </tr>\n",
       "    <tr>\n",
       "      <td>box_office</td>\n",
       "      <td>3,158.0</td>\n",
       "      <td>76,478,696.2</td>\n",
       "      <td>240,353,122.8</td>\n",
       "      <td>0.0</td>\n",
       "      <td>86,239.0</td>\n",
       "      <td>2,327,987.5</td>\n",
       "      <td>23,979,671.0</td>\n",
       "      <td>3,073,568,690.8</td>\n",
       "    </tr>\n",
       "  </tbody>\n",
       "</table>\n",
       "</div>"
      ],
      "text/plain": [
       "                        count          mean           std         min  \\\n",
       "refundable_support      332.0  11,864,457.8  24,916,555.3         0.0   \n",
       "nonrefundable_support   332.0  48,980,988.9  59,980,117.9         0.0   \n",
       "budget                  332.0 131,422,395.8 187,148,242.7 6,000,000.0   \n",
       "ratings               6,488.0           6.5           1.1         1.0   \n",
       "box_office            3,158.0  76,478,696.2 240,353,122.8         0.0   \n",
       "\n",
       "                               25%          50%           75%             max  \n",
       "refundable_support             0.0          0.0  15,000,000.0   180,000,000.0  \n",
       "nonrefundable_support 25,000,000.0 30,000,000.0  40,375,000.0   400,000,000.0  \n",
       "budget                45,524,799.5 71,196,901.5 150,000,000.0 2,305,074,303.0  \n",
       "ratings                        5.9          6.6           7.2             9.2  \n",
       "box_office                86,239.0  2,327,987.5  23,979,671.0 3,073,568,690.8  "
      ]
     },
     "execution_count": 30,
     "metadata": {},
     "output_type": "execute_result"
    }
   ],
   "source": [
    "pd.options.display.float_format = '{:,.1f}'.format\n",
    "df.describe().T"
   ]
  },
  {
   "cell_type": "markdown",
   "metadata": {},
   "source": [
    "Так гораздо лучше. Столбцы про государственную поддержку будем воспринимать as is, столбец с рейтингами показывает довольно адекватные значения. А вот столбец с данными о сборах ведет себя странно.\n",
    "\n",
    "- Указаны нулевые сборы, это странно, похоже на пропуски\n",
    "- Среднее от медианы отличается более чем в 30 раз\n",
    "\n",
    "Посмотрим на нулевые значения"
   ]
  },
  {
   "cell_type": "markdown",
   "metadata": {},
   "source": [
    "Фильмы малоизвестные, возможно прокатные удостоверения получены не для коммерческих показов или тут есть ошибка в заполнении данных. Не будем удалть строки, так как остальные данные могут представлять интерес при анализе. При этом заменять нулевые значения на `NaN` нельзя, это исказит статистику по предоставлению данных о прокате. Остановимся на гипотезе о том, что нулевые значения указывают на прокатные удостоверения полученные для некоммерческих показов. "
   ]
  },
  {
   "cell_type": "code",
   "execution_count": 31,
   "metadata": {},
   "outputs": [
    {
     "data": {
      "text/html": [
       "<div>\n",
       "<style scoped>\n",
       "    .dataframe tbody tr th:only-of-type {\n",
       "        vertical-align: middle;\n",
       "    }\n",
       "\n",
       "    .dataframe tbody tr th {\n",
       "        vertical-align: top;\n",
       "    }\n",
       "\n",
       "    .dataframe thead th {\n",
       "        text-align: right;\n",
       "    }\n",
       "</style>\n",
       "<table border=\"1\" class=\"dataframe\">\n",
       "  <thead>\n",
       "    <tr style=\"text-align: right;\">\n",
       "      <th></th>\n",
       "      <th>count</th>\n",
       "      <th>mean</th>\n",
       "      <th>std</th>\n",
       "      <th>min</th>\n",
       "      <th>25%</th>\n",
       "      <th>50%</th>\n",
       "      <th>75%</th>\n",
       "      <th>max</th>\n",
       "    </tr>\n",
       "  </thead>\n",
       "  <tbody>\n",
       "    <tr>\n",
       "      <td>refundable_support</td>\n",
       "      <td>318.0</td>\n",
       "      <td>11,946,540.9</td>\n",
       "      <td>24,817,662.2</td>\n",
       "      <td>0.0</td>\n",
       "      <td>0.0</td>\n",
       "      <td>0.0</td>\n",
       "      <td>15,000,000.0</td>\n",
       "      <td>180,000,000.0</td>\n",
       "    </tr>\n",
       "    <tr>\n",
       "      <td>nonrefundable_support</td>\n",
       "      <td>318.0</td>\n",
       "      <td>48,780,403.5</td>\n",
       "      <td>57,792,390.6</td>\n",
       "      <td>0.0</td>\n",
       "      <td>25,000,000.0</td>\n",
       "      <td>30,000,000.0</td>\n",
       "      <td>44,125,000.0</td>\n",
       "      <td>400,000,000.0</td>\n",
       "    </tr>\n",
       "    <tr>\n",
       "      <td>budget</td>\n",
       "      <td>318.0</td>\n",
       "      <td>132,006,722.1</td>\n",
       "      <td>184,957,591.6</td>\n",
       "      <td>6,000,000.0</td>\n",
       "      <td>46,153,856.2</td>\n",
       "      <td>74,955,000.0</td>\n",
       "      <td>150,006,429.8</td>\n",
       "      <td>2,305,074,303.0</td>\n",
       "    </tr>\n",
       "    <tr>\n",
       "      <td>ratings</td>\n",
       "      <td>2,880.0</td>\n",
       "      <td>6.3</td>\n",
       "      <td>1.1</td>\n",
       "      <td>1.0</td>\n",
       "      <td>5.7</td>\n",
       "      <td>6.4</td>\n",
       "      <td>7.1</td>\n",
       "      <td>9.2</td>\n",
       "    </tr>\n",
       "    <tr>\n",
       "      <td>box_office</td>\n",
       "      <td>3,134.0</td>\n",
       "      <td>77,064,365.8</td>\n",
       "      <td>241,178,383.8</td>\n",
       "      <td>40.0</td>\n",
       "      <td>101,028.8</td>\n",
       "      <td>2,409,099.4</td>\n",
       "      <td>24,569,794.9</td>\n",
       "      <td>3,073,568,690.8</td>\n",
       "    </tr>\n",
       "  </tbody>\n",
       "</table>\n",
       "</div>"
      ],
      "text/plain": [
       "                        count          mean           std         min  \\\n",
       "refundable_support      318.0  11,946,540.9  24,817,662.2         0.0   \n",
       "nonrefundable_support   318.0  48,780,403.5  57,792,390.6         0.0   \n",
       "budget                  318.0 132,006,722.1 184,957,591.6 6,000,000.0   \n",
       "ratings               2,880.0           6.3           1.1         1.0   \n",
       "box_office            3,134.0  77,064,365.8 241,178,383.8        40.0   \n",
       "\n",
       "                               25%          50%           75%             max  \n",
       "refundable_support             0.0          0.0  15,000,000.0   180,000,000.0  \n",
       "nonrefundable_support 25,000,000.0 30,000,000.0  44,125,000.0   400,000,000.0  \n",
       "budget                46,153,856.2 74,955,000.0 150,006,429.8 2,305,074,303.0  \n",
       "ratings                        5.7          6.4           7.1             9.2  \n",
       "box_office               101,028.8  2,409,099.4  24,569,794.9 3,073,568,690.8  "
      ]
     },
     "execution_count": 31,
     "metadata": {},
     "output_type": "execute_result"
    }
   ],
   "source": [
    "df.query('box_office > 0').describe().T"
   ]
  },
  {
   "cell_type": "markdown",
   "metadata": {},
   "source": [
    "Яснее не стало. Сборы фильмов имеют диапозон от 40 до 3 млрд рублей. Посмотрим на значения в первом и последнем квантилях, попробуем понять, из-за чего данные так себя ведут"
   ]
  },
  {
   "cell_type": "code",
   "execution_count": 32,
   "metadata": {},
   "outputs": [
    {
     "data": {
      "text/html": [
       "<div>\n",
       "<style scoped>\n",
       "    .dataframe tbody tr th:only-of-type {\n",
       "        vertical-align: middle;\n",
       "    }\n",
       "\n",
       "    .dataframe tbody tr th {\n",
       "        vertical-align: top;\n",
       "    }\n",
       "\n",
       "    .dataframe thead th {\n",
       "        text-align: right;\n",
       "    }\n",
       "</style>\n",
       "<table border=\"1\" class=\"dataframe\">\n",
       "  <thead>\n",
       "    <tr style=\"text-align: right;\">\n",
       "      <th></th>\n",
       "      <th>title</th>\n",
       "      <th>puNumber</th>\n",
       "      <th>show_start_date</th>\n",
       "      <th>type</th>\n",
       "      <th>film_studio</th>\n",
       "      <th>production_country</th>\n",
       "      <th>director</th>\n",
       "      <th>producer</th>\n",
       "      <th>age_restriction</th>\n",
       "      <th>refundable_support</th>\n",
       "      <th>nonrefundable_support</th>\n",
       "      <th>budget</th>\n",
       "      <th>financing_source</th>\n",
       "      <th>ratings</th>\n",
       "      <th>genres</th>\n",
       "      <th>box_office</th>\n",
       "    </tr>\n",
       "  </thead>\n",
       "  <tbody>\n",
       "    <tr>\n",
       "      <td>6</td>\n",
       "      <td>Любовь и голуби</td>\n",
       "      <td>111007013</td>\n",
       "      <td>2013-10-18</td>\n",
       "      <td>Художественный</td>\n",
       "      <td>Киностудия \"Мосфильм\"</td>\n",
       "      <td>СССР</td>\n",
       "      <td>В.Меньшов</td>\n",
       "      <td>no_info</td>\n",
       "      <td>12+</td>\n",
       "      <td>nan</td>\n",
       "      <td>nan</td>\n",
       "      <td>nan</td>\n",
       "      <td>NaN</td>\n",
       "      <td>8.3</td>\n",
       "      <td>мелодрама,комедия</td>\n",
       "      <td>2,700.0</td>\n",
       "    </tr>\n",
       "    <tr>\n",
       "      <td>18</td>\n",
       "      <td>Неподдающиеся</td>\n",
       "      <td>111003616</td>\n",
       "      <td>2016-02-12</td>\n",
       "      <td>Художественный</td>\n",
       "      <td>Киностудия \"Мосфильм\"</td>\n",
       "      <td>СССР</td>\n",
       "      <td>Ю.Чулюкин</td>\n",
       "      <td>no_info</td>\n",
       "      <td>6+</td>\n",
       "      <td>nan</td>\n",
       "      <td>nan</td>\n",
       "      <td>nan</td>\n",
       "      <td>NaN</td>\n",
       "      <td>8.0</td>\n",
       "      <td>мелодрама,комедия</td>\n",
       "      <td>360.0</td>\n",
       "    </tr>\n",
       "    <tr>\n",
       "      <td>19</td>\n",
       "      <td>Неподсуден</td>\n",
       "      <td>111003716</td>\n",
       "      <td>2016-02-12</td>\n",
       "      <td>Художественный</td>\n",
       "      <td>Киностудия \"Мосфильм\"</td>\n",
       "      <td>СССР</td>\n",
       "      <td>В.Краснопольский, В.Усков</td>\n",
       "      <td>no_info</td>\n",
       "      <td>6+</td>\n",
       "      <td>nan</td>\n",
       "      <td>nan</td>\n",
       "      <td>nan</td>\n",
       "      <td>NaN</td>\n",
       "      <td>7.7</td>\n",
       "      <td>драма</td>\n",
       "      <td>420.0</td>\n",
       "    </tr>\n",
       "    <tr>\n",
       "      <td>22</td>\n",
       "      <td>Операция \"Ы\" и другие приключения Шурика</td>\n",
       "      <td>111007413</td>\n",
       "      <td>2013-10-18</td>\n",
       "      <td>Художественный</td>\n",
       "      <td>Киностудия \"Мосфильм\"</td>\n",
       "      <td>СССР</td>\n",
       "      <td>Л.Гайдай</td>\n",
       "      <td>no_info</td>\n",
       "      <td>6+</td>\n",
       "      <td>nan</td>\n",
       "      <td>nan</td>\n",
       "      <td>nan</td>\n",
       "      <td>NaN</td>\n",
       "      <td>8.7</td>\n",
       "      <td>комедия,мелодрама,криминал</td>\n",
       "      <td>380.0</td>\n",
       "    </tr>\n",
       "    <tr>\n",
       "      <td>38</td>\n",
       "      <td>Мужики!..</td>\n",
       "      <td>111007213</td>\n",
       "      <td>2013-10-18</td>\n",
       "      <td>Художественный</td>\n",
       "      <td>Киностудия \"Мосфильм\"</td>\n",
       "      <td>СССР</td>\n",
       "      <td>И.Бабич</td>\n",
       "      <td>no_info</td>\n",
       "      <td>6+</td>\n",
       "      <td>nan</td>\n",
       "      <td>nan</td>\n",
       "      <td>nan</td>\n",
       "      <td>NaN</td>\n",
       "      <td>8.1</td>\n",
       "      <td>драма</td>\n",
       "      <td>1,165.0</td>\n",
       "    </tr>\n",
       "    <tr>\n",
       "      <td>...</td>\n",
       "      <td>...</td>\n",
       "      <td>...</td>\n",
       "      <td>...</td>\n",
       "      <td>...</td>\n",
       "      <td>...</td>\n",
       "      <td>...</td>\n",
       "      <td>...</td>\n",
       "      <td>...</td>\n",
       "      <td>...</td>\n",
       "      <td>...</td>\n",
       "      <td>...</td>\n",
       "      <td>...</td>\n",
       "      <td>...</td>\n",
       "      <td>...</td>\n",
       "      <td>...</td>\n",
       "      <td>...</td>\n",
       "    </tr>\n",
       "    <tr>\n",
       "      <td>7154</td>\n",
       "      <td>Созданный в Бездне - Блуждающие сумерки</td>\n",
       "      <td>124006219</td>\n",
       "      <td>2019-08-15</td>\n",
       "      <td>Анимационный</td>\n",
       "      <td>Кинема Цитрус Ко.</td>\n",
       "      <td>Япония</td>\n",
       "      <td>Масаюки Кодзима</td>\n",
       "      <td>Мунэки Огасавара</td>\n",
       "      <td>18+</td>\n",
       "      <td>nan</td>\n",
       "      <td>nan</td>\n",
       "      <td>nan</td>\n",
       "      <td>NaN</td>\n",
       "      <td>8.0</td>\n",
       "      <td>аниме,мультфильм,детектив</td>\n",
       "      <td>73,700.0</td>\n",
       "    </tr>\n",
       "    <tr>\n",
       "      <td>7155</td>\n",
       "      <td>Созданный в Бездне - Рассвет путешествия</td>\n",
       "      <td>124006319</td>\n",
       "      <td>2019-08-15</td>\n",
       "      <td>Анимационный</td>\n",
       "      <td>Кинема Цитрус Ко.</td>\n",
       "      <td>Япония</td>\n",
       "      <td>Масаюки Кодзима</td>\n",
       "      <td>Мунэки Огасавара</td>\n",
       "      <td>16+</td>\n",
       "      <td>nan</td>\n",
       "      <td>nan</td>\n",
       "      <td>nan</td>\n",
       "      <td>NaN</td>\n",
       "      <td>7.9</td>\n",
       "      <td>аниме,мультфильм,детектив</td>\n",
       "      <td>75,300.0</td>\n",
       "    </tr>\n",
       "    <tr>\n",
       "      <td>7205</td>\n",
       "      <td>Диего Марадона</td>\n",
       "      <td>126003519</td>\n",
       "      <td>2019-09-14</td>\n",
       "      <td>Прочие</td>\n",
       "      <td>Филм Фо, Лортон Интертейнмент, Корнер Филмз</td>\n",
       "      <td>Великобритания</td>\n",
       "      <td>Азиф Кападиа</td>\n",
       "      <td>Джеймс Гэй-Рис, Пол Мартин</td>\n",
       "      <td>16+</td>\n",
       "      <td>nan</td>\n",
       "      <td>nan</td>\n",
       "      <td>nan</td>\n",
       "      <td>NaN</td>\n",
       "      <td>7.7</td>\n",
       "      <td>документальный,спорт,биография</td>\n",
       "      <td>38,330.0</td>\n",
       "    </tr>\n",
       "    <tr>\n",
       "      <td>7421</td>\n",
       "      <td>Балет сегодня</td>\n",
       "      <td>126007219</td>\n",
       "      <td>2019-12-01</td>\n",
       "      <td>Прочие</td>\n",
       "      <td>Догвуф Фильм Дистрибьюшн, Лексикат Артистс, Ст...</td>\n",
       "      <td>США</td>\n",
       "      <td>Стивен Кантор</td>\n",
       "      <td>П.Дж.Аллен, А.Блаватник, О.Блаватник, Д.Гарги,...</td>\n",
       "      <td>16+</td>\n",
       "      <td>nan</td>\n",
       "      <td>nan</td>\n",
       "      <td>nan</td>\n",
       "      <td>NaN</td>\n",
       "      <td>nan</td>\n",
       "      <td>no_info</td>\n",
       "      <td>59,829.0</td>\n",
       "    </tr>\n",
       "    <tr>\n",
       "      <td>7422</td>\n",
       "      <td>Лил Бак: Настоящий Лебедь</td>\n",
       "      <td>126007319</td>\n",
       "      <td>2019-12-01</td>\n",
       "      <td>Прочие</td>\n",
       "      <td>Версатий Фильм</td>\n",
       "      <td>Франция</td>\n",
       "      <td>Луи Валлекан</td>\n",
       "      <td>К.Арммер мл., Л.Бак, Ч.Райли, М.Хейдельбергер,...</td>\n",
       "      <td>16+</td>\n",
       "      <td>nan</td>\n",
       "      <td>nan</td>\n",
       "      <td>nan</td>\n",
       "      <td>NaN</td>\n",
       "      <td>nan</td>\n",
       "      <td>no_info</td>\n",
       "      <td>83,285.0</td>\n",
       "    </tr>\n",
       "  </tbody>\n",
       "</table>\n",
       "<p>806 rows × 16 columns</p>\n",
       "</div>"
      ],
      "text/plain": [
       "                                         title   puNumber show_start_date  \\\n",
       "6                              Любовь и голуби  111007013      2013-10-18   \n",
       "18                               Неподдающиеся  111003616      2016-02-12   \n",
       "19                                  Неподсуден  111003716      2016-02-12   \n",
       "22    Операция \"Ы\" и другие приключения Шурика  111007413      2013-10-18   \n",
       "38                                   Мужики!..  111007213      2013-10-18   \n",
       "...                                        ...        ...             ...   \n",
       "7154   Созданный в Бездне - Блуждающие сумерки  124006219      2019-08-15   \n",
       "7155  Созданный в Бездне - Рассвет путешествия  124006319      2019-08-15   \n",
       "7205                            Диего Марадона  126003519      2019-09-14   \n",
       "7421                             Балет сегодня  126007219      2019-12-01   \n",
       "7422                 Лил Бак: Настоящий Лебедь  126007319      2019-12-01   \n",
       "\n",
       "                type                                        film_studio  \\\n",
       "6     Художественный                              Киностудия \"Мосфильм\"   \n",
       "18    Художественный                              Киностудия \"Мосфильм\"   \n",
       "19    Художественный                              Киностудия \"Мосфильм\"   \n",
       "22    Художественный                              Киностудия \"Мосфильм\"   \n",
       "38    Художественный                              Киностудия \"Мосфильм\"   \n",
       "...              ...                                                ...   \n",
       "7154    Анимационный                                  Кинема Цитрус Ко.   \n",
       "7155    Анимационный                                  Кинема Цитрус Ко.   \n",
       "7205          Прочие        Филм Фо, Лортон Интертейнмент, Корнер Филмз   \n",
       "7421          Прочие  Догвуф Фильм Дистрибьюшн, Лексикат Артистс, Ст...   \n",
       "7422          Прочие                                     Версатий Фильм   \n",
       "\n",
       "     production_country                   director  \\\n",
       "6                  СССР                  В.Меньшов   \n",
       "18                 СССР                  Ю.Чулюкин   \n",
       "19                 СССР  В.Краснопольский, В.Усков   \n",
       "22                 СССР                   Л.Гайдай   \n",
       "38                 СССР                    И.Бабич   \n",
       "...                 ...                        ...   \n",
       "7154             Япония            Масаюки Кодзима   \n",
       "7155             Япония            Масаюки Кодзима   \n",
       "7205     Великобритания               Азиф Кападиа   \n",
       "7421                США              Стивен Кантор   \n",
       "7422            Франция               Луи Валлекан   \n",
       "\n",
       "                                               producer age_restriction  \\\n",
       "6                                               no_info             12+   \n",
       "18                                              no_info              6+   \n",
       "19                                              no_info              6+   \n",
       "22                                              no_info              6+   \n",
       "38                                              no_info              6+   \n",
       "...                                                 ...             ...   \n",
       "7154                                   Мунэки Огасавара             18+   \n",
       "7155                                   Мунэки Огасавара             16+   \n",
       "7205                         Джеймс Гэй-Рис, Пол Мартин             16+   \n",
       "7421  П.Дж.Аллен, А.Блаватник, О.Блаватник, Д.Гарги,...             16+   \n",
       "7422  К.Арммер мл., Л.Бак, Ч.Райли, М.Хейдельбергер,...             16+   \n",
       "\n",
       "      refundable_support  nonrefundable_support  budget financing_source  \\\n",
       "6                    nan                    nan     nan              NaN   \n",
       "18                   nan                    nan     nan              NaN   \n",
       "19                   nan                    nan     nan              NaN   \n",
       "22                   nan                    nan     nan              NaN   \n",
       "38                   nan                    nan     nan              NaN   \n",
       "...                  ...                    ...     ...              ...   \n",
       "7154                 nan                    nan     nan              NaN   \n",
       "7155                 nan                    nan     nan              NaN   \n",
       "7205                 nan                    nan     nan              NaN   \n",
       "7421                 nan                    nan     nan              NaN   \n",
       "7422                 nan                    nan     nan              NaN   \n",
       "\n",
       "      ratings                          genres  box_office  \n",
       "6         8.3               мелодрама,комедия     2,700.0  \n",
       "18        8.0               мелодрама,комедия       360.0  \n",
       "19        7.7                           драма       420.0  \n",
       "22        8.7      комедия,мелодрама,криминал       380.0  \n",
       "38        8.1                           драма     1,165.0  \n",
       "...       ...                             ...         ...  \n",
       "7154      8.0       аниме,мультфильм,детектив    73,700.0  \n",
       "7155      7.9       аниме,мультфильм,детектив    75,300.0  \n",
       "7205      7.7  документальный,спорт,биография    38,330.0  \n",
       "7421      nan                         no_info    59,829.0  \n",
       "7422      nan                         no_info    83,285.0  \n",
       "\n",
       "[806 rows x 16 columns]"
      ]
     },
     "execution_count": 32,
     "metadata": {},
     "output_type": "execute_result"
    }
   ],
   "source": [
    "df.query('box_office < 100000')"
   ]
  },
  {
   "cell_type": "code",
   "execution_count": 33,
   "metadata": {},
   "outputs": [
    {
     "data": {
      "text/html": [
       "<div>\n",
       "<style scoped>\n",
       "    .dataframe tbody tr th:only-of-type {\n",
       "        vertical-align: middle;\n",
       "    }\n",
       "\n",
       "    .dataframe tbody tr th {\n",
       "        vertical-align: top;\n",
       "    }\n",
       "\n",
       "    .dataframe thead th {\n",
       "        text-align: right;\n",
       "    }\n",
       "</style>\n",
       "<table border=\"1\" class=\"dataframe\">\n",
       "  <thead>\n",
       "    <tr style=\"text-align: right;\">\n",
       "      <th></th>\n",
       "      <th>title</th>\n",
       "      <th>puNumber</th>\n",
       "      <th>show_start_date</th>\n",
       "      <th>type</th>\n",
       "      <th>film_studio</th>\n",
       "      <th>production_country</th>\n",
       "      <th>director</th>\n",
       "      <th>producer</th>\n",
       "      <th>age_restriction</th>\n",
       "      <th>refundable_support</th>\n",
       "      <th>nonrefundable_support</th>\n",
       "      <th>budget</th>\n",
       "      <th>financing_source</th>\n",
       "      <th>ratings</th>\n",
       "      <th>genres</th>\n",
       "      <th>box_office</th>\n",
       "    </tr>\n",
       "  </thead>\n",
       "  <tbody>\n",
       "    <tr>\n",
       "      <td>1857</td>\n",
       "      <td>Барашек Шон.</td>\n",
       "      <td>124000815</td>\n",
       "      <td>2015-02-17</td>\n",
       "      <td>Анимационный</td>\n",
       "      <td>Ардман Анимейшн, Антон Кэпитал Интертейнмент, ...</td>\n",
       "      <td>Великобритания - Франция</td>\n",
       "      <td>Марк Бертон</td>\n",
       "      <td>Джули Локхарт, Питер Лорд, Ник Парк</td>\n",
       "      <td>6+</td>\n",
       "      <td>nan</td>\n",
       "      <td>nan</td>\n",
       "      <td>nan</td>\n",
       "      <td>NaN</td>\n",
       "      <td>7.4</td>\n",
       "      <td>мультфильм,фэнтези,комедия</td>\n",
       "      <td>57,395,723.1</td>\n",
       "    </tr>\n",
       "    <tr>\n",
       "      <td>1865</td>\n",
       "      <td>Вселенная Стивена Хокинга /По книге Джейн Хокинг/</td>\n",
       "      <td>121002415</td>\n",
       "      <td>2015-02-11</td>\n",
       "      <td>Художественный</td>\n",
       "      <td>Уоркинг Тайтл Филмз</td>\n",
       "      <td>Великобритания</td>\n",
       "      <td>Джеймс Марш</td>\n",
       "      <td>Тим Беван, Лиза Брюс</td>\n",
       "      <td>16+</td>\n",
       "      <td>nan</td>\n",
       "      <td>nan</td>\n",
       "      <td>nan</td>\n",
       "      <td>NaN</td>\n",
       "      <td>7.9</td>\n",
       "      <td>биография,мелодрама,драма</td>\n",
       "      <td>39,229,270.6</td>\n",
       "    </tr>\n",
       "    <tr>\n",
       "      <td>1869</td>\n",
       "      <td>Женщины против мужчин</td>\n",
       "      <td>111002415</td>\n",
       "      <td>2015-03-12</td>\n",
       "      <td>Художественный</td>\n",
       "      <td>ООО \"Энджой мувиз\"</td>\n",
       "      <td>Россия</td>\n",
       "      <td>Т.Мамедов, С.Андреасян</td>\n",
       "      <td>Г.Андреасян, С.Андреасян, В.Поляков</td>\n",
       "      <td>18+</td>\n",
       "      <td>nan</td>\n",
       "      <td>nan</td>\n",
       "      <td>nan</td>\n",
       "      <td>NaN</td>\n",
       "      <td>3.7</td>\n",
       "      <td>комедия</td>\n",
       "      <td>126,148,703.6</td>\n",
       "    </tr>\n",
       "    <tr>\n",
       "      <td>1870</td>\n",
       "      <td>А зори здесь тихие..._</td>\n",
       "      <td>111002915</td>\n",
       "      <td>2015-03-16</td>\n",
       "      <td>Художественный</td>\n",
       "      <td>ООО \"Компания \"Реал-Дакота\"</td>\n",
       "      <td>Россия</td>\n",
       "      <td>Р.Давлетьяров</td>\n",
       "      <td>no_info</td>\n",
       "      <td>12+</td>\n",
       "      <td>50,000,000.0</td>\n",
       "      <td>100,000,000.0</td>\n",
       "      <td>220,588,394.0</td>\n",
       "      <td>Фонд кино</td>\n",
       "      <td>8.5</td>\n",
       "      <td>драма,военный,история</td>\n",
       "      <td>249,166,767.7</td>\n",
       "    </tr>\n",
       "    <tr>\n",
       "      <td>1877</td>\n",
       "      <td>Снайпер /По книге Криса Кайла, Скотта МакЭвена...</td>\n",
       "      <td>121003115</td>\n",
       "      <td>2015-02-20</td>\n",
       "      <td>Художественный</td>\n",
       "      <td>Уорнер Бразерс, Виллидж Роадшоу Пикчерз, Мэд Ч...</td>\n",
       "      <td>США</td>\n",
       "      <td>Клинт Иствуд</td>\n",
       "      <td>Клинт Иствуд, Эндрю Лазар, Пи Джей Эй</td>\n",
       "      <td>18+</td>\n",
       "      <td>nan</td>\n",
       "      <td>nan</td>\n",
       "      <td>nan</td>\n",
       "      <td>NaN</td>\n",
       "      <td>7.0</td>\n",
       "      <td>боевик,драма,военный</td>\n",
       "      <td>44,279,440.2</td>\n",
       "    </tr>\n",
       "    <tr>\n",
       "      <td>...</td>\n",
       "      <td>...</td>\n",
       "      <td>...</td>\n",
       "      <td>...</td>\n",
       "      <td>...</td>\n",
       "      <td>...</td>\n",
       "      <td>...</td>\n",
       "      <td>...</td>\n",
       "      <td>...</td>\n",
       "      <td>...</td>\n",
       "      <td>...</td>\n",
       "      <td>...</td>\n",
       "      <td>...</td>\n",
       "      <td>...</td>\n",
       "      <td>...</td>\n",
       "      <td>...</td>\n",
       "      <td>...</td>\n",
       "    </tr>\n",
       "    <tr>\n",
       "      <td>7435</td>\n",
       "      <td>Сиротский Бруклин</td>\n",
       "      <td>121036119</td>\n",
       "      <td>2019-12-05</td>\n",
       "      <td>Художественный</td>\n",
       "      <td>Класс 5 Филмз, Эм Дабл Ю Эм Стьюдиоз, Уорнер Б...</td>\n",
       "      <td>США</td>\n",
       "      <td>Эдвард Нортон</td>\n",
       "      <td>Майкл Бедерман, Билл Миглиор, Эдвард Нортон, Г...</td>\n",
       "      <td>18+</td>\n",
       "      <td>nan</td>\n",
       "      <td>nan</td>\n",
       "      <td>nan</td>\n",
       "      <td>NaN</td>\n",
       "      <td>7.0</td>\n",
       "      <td>драма,криминал,детектив</td>\n",
       "      <td>64,137,345.0</td>\n",
       "    </tr>\n",
       "    <tr>\n",
       "      <td>7453</td>\n",
       "      <td>Фиксики против кработов</td>\n",
       "      <td>114004819</td>\n",
       "      <td>2019-12-21</td>\n",
       "      <td>Анимационный</td>\n",
       "      <td>АО \"Аэроплан\"</td>\n",
       "      <td>Россия</td>\n",
       "      <td>В.Бедошвили, О.Ужинов, И.Пшонкин, Д.Цыбулькин</td>\n",
       "      <td>Г.Васильев, С.Саркисов, И.Попов</td>\n",
       "      <td>6+</td>\n",
       "      <td>80,000,000.0</td>\n",
       "      <td>40,000,000.0</td>\n",
       "      <td>270,000,000.0</td>\n",
       "      <td>Фонд кино</td>\n",
       "      <td>7.5</td>\n",
       "      <td>мультфильм,детский,приключения</td>\n",
       "      <td>387,590,521.7</td>\n",
       "    </tr>\n",
       "    <tr>\n",
       "      <td>7456</td>\n",
       "      <td>Холоп</td>\n",
       "      <td>111021719</td>\n",
       "      <td>2019-12-19</td>\n",
       "      <td>Художественный</td>\n",
       "      <td>ООО \"МЕМ-МЕДИА\" по заказу АО \"ВБД Груп\"</td>\n",
       "      <td>Россия</td>\n",
       "      <td>К.Шипенко</td>\n",
       "      <td>Э.Илоян, Д.Жалинский, В.Дусмухаметов, Т.Бадзие...</td>\n",
       "      <td>12+</td>\n",
       "      <td>25,000,000.0</td>\n",
       "      <td>35,000,000.0</td>\n",
       "      <td>160,000,000.0</td>\n",
       "      <td>Фонд кино</td>\n",
       "      <td>6.8</td>\n",
       "      <td>комедия</td>\n",
       "      <td>3,073,568,690.8</td>\n",
       "    </tr>\n",
       "    <tr>\n",
       "      <td>7464</td>\n",
       "      <td>Союз спасения</td>\n",
       "      <td>111022019</td>\n",
       "      <td>2019-12-26</td>\n",
       "      <td>Художественный</td>\n",
       "      <td>ЗАО \"Дирекция кино\"</td>\n",
       "      <td>Россия</td>\n",
       "      <td>А.Кравчук</td>\n",
       "      <td>А.Максимов, К.Эрнст</td>\n",
       "      <td>12+</td>\n",
       "      <td>100,000,000.0</td>\n",
       "      <td>400,000,000.0</td>\n",
       "      <td>980,000,000.0</td>\n",
       "      <td>Фонд кино</td>\n",
       "      <td>6.0</td>\n",
       "      <td>история,биография,драма</td>\n",
       "      <td>717,703,185.5</td>\n",
       "    </tr>\n",
       "    <tr>\n",
       "      <td>7466</td>\n",
       "      <td>Иван Царевич и Серый Волк 4</td>\n",
       "      <td>114005019</td>\n",
       "      <td>2019-12-20</td>\n",
       "      <td>Анимационный</td>\n",
       "      <td>ООО \"Студия анимационного кино \"Мельница\"</td>\n",
       "      <td>Россия</td>\n",
       "      <td>Д.Шмидт, К.Феоктистов</td>\n",
       "      <td>С.Сельянов, А.Боярский</td>\n",
       "      <td>6+</td>\n",
       "      <td>100,000,000.0</td>\n",
       "      <td>0.0</td>\n",
       "      <td>190,000,000.0</td>\n",
       "      <td>Фонд кино</td>\n",
       "      <td>6.7</td>\n",
       "      <td>мультфильм,приключения,семейный</td>\n",
       "      <td>501,069,235.0</td>\n",
       "    </tr>\n",
       "  </tbody>\n",
       "</table>\n",
       "<p>738 rows × 16 columns</p>\n",
       "</div>"
      ],
      "text/plain": [
       "                                                  title   puNumber  \\\n",
       "1857                                       Барашек Шон.  124000815   \n",
       "1865  Вселенная Стивена Хокинга /По книге Джейн Хокинг/  121002415   \n",
       "1869                              Женщины против мужчин  111002415   \n",
       "1870                             А зори здесь тихие..._  111002915   \n",
       "1877  Снайпер /По книге Криса Кайла, Скотта МакЭвена...  121003115   \n",
       "...                                                 ...        ...   \n",
       "7435                                  Сиротский Бруклин  121036119   \n",
       "7453                            Фиксики против кработов  114004819   \n",
       "7456                                              Холоп  111021719   \n",
       "7464                                      Союз спасения  111022019   \n",
       "7466                        Иван Царевич и Серый Волк 4  114005019   \n",
       "\n",
       "     show_start_date            type  \\\n",
       "1857      2015-02-17    Анимационный   \n",
       "1865      2015-02-11  Художественный   \n",
       "1869      2015-03-12  Художественный   \n",
       "1870      2015-03-16  Художественный   \n",
       "1877      2015-02-20  Художественный   \n",
       "...              ...             ...   \n",
       "7435      2019-12-05  Художественный   \n",
       "7453      2019-12-21    Анимационный   \n",
       "7456      2019-12-19  Художественный   \n",
       "7464      2019-12-26  Художественный   \n",
       "7466      2019-12-20    Анимационный   \n",
       "\n",
       "                                            film_studio  \\\n",
       "1857  Ардман Анимейшн, Антон Кэпитал Интертейнмент, ...   \n",
       "1865                                Уоркинг Тайтл Филмз   \n",
       "1869                                 ООО \"Энджой мувиз\"   \n",
       "1870                        ООО \"Компания \"Реал-Дакота\"   \n",
       "1877  Уорнер Бразерс, Виллидж Роадшоу Пикчерз, Мэд Ч...   \n",
       "...                                                 ...   \n",
       "7435  Класс 5 Филмз, Эм Дабл Ю Эм Стьюдиоз, Уорнер Б...   \n",
       "7453                                      АО \"Аэроплан\"   \n",
       "7456            ООО \"МЕМ-МЕДИА\" по заказу АО \"ВБД Груп\"   \n",
       "7464                                ЗАО \"Дирекция кино\"   \n",
       "7466          ООО \"Студия анимационного кино \"Мельница\"   \n",
       "\n",
       "            production_country                                       director  \\\n",
       "1857  Великобритания - Франция                                    Марк Бертон   \n",
       "1865            Великобритания                                    Джеймс Марш   \n",
       "1869                    Россия                         Т.Мамедов, С.Андреасян   \n",
       "1870                    Россия                                  Р.Давлетьяров   \n",
       "1877                       США                                   Клинт Иствуд   \n",
       "...                        ...                                            ...   \n",
       "7435                       США                                  Эдвард Нортон   \n",
       "7453                    Россия  В.Бедошвили, О.Ужинов, И.Пшонкин, Д.Цыбулькин   \n",
       "7456                    Россия                                      К.Шипенко   \n",
       "7464                    Россия                                      А.Кравчук   \n",
       "7466                    Россия                          Д.Шмидт, К.Феоктистов   \n",
       "\n",
       "                                               producer age_restriction  \\\n",
       "1857                Джули Локхарт, Питер Лорд, Ник Парк              6+   \n",
       "1865                               Тим Беван, Лиза Брюс             16+   \n",
       "1869                Г.Андреасян, С.Андреасян, В.Поляков             18+   \n",
       "1870                                            no_info             12+   \n",
       "1877              Клинт Иствуд, Эндрю Лазар, Пи Джей Эй             18+   \n",
       "...                                                 ...             ...   \n",
       "7435  Майкл Бедерман, Билл Миглиор, Эдвард Нортон, Г...             18+   \n",
       "7453                    Г.Васильев, С.Саркисов, И.Попов              6+   \n",
       "7456  Э.Илоян, Д.Жалинский, В.Дусмухаметов, Т.Бадзие...             12+   \n",
       "7464                                А.Максимов, К.Эрнст             12+   \n",
       "7466                             С.Сельянов, А.Боярский              6+   \n",
       "\n",
       "      refundable_support  nonrefundable_support        budget  \\\n",
       "1857                 nan                    nan           nan   \n",
       "1865                 nan                    nan           nan   \n",
       "1869                 nan                    nan           nan   \n",
       "1870        50,000,000.0          100,000,000.0 220,588,394.0   \n",
       "1877                 nan                    nan           nan   \n",
       "...                  ...                    ...           ...   \n",
       "7435                 nan                    nan           nan   \n",
       "7453        80,000,000.0           40,000,000.0 270,000,000.0   \n",
       "7456        25,000,000.0           35,000,000.0 160,000,000.0   \n",
       "7464       100,000,000.0          400,000,000.0 980,000,000.0   \n",
       "7466       100,000,000.0                    0.0 190,000,000.0   \n",
       "\n",
       "     financing_source  ratings                           genres  \\\n",
       "1857              NaN      7.4       мультфильм,фэнтези,комедия   \n",
       "1865              NaN      7.9        биография,мелодрама,драма   \n",
       "1869              NaN      3.7                          комедия   \n",
       "1870        Фонд кино      8.5            драма,военный,история   \n",
       "1877              NaN      7.0             боевик,драма,военный   \n",
       "...               ...      ...                              ...   \n",
       "7435              NaN      7.0          драма,криминал,детектив   \n",
       "7453        Фонд кино      7.5   мультфильм,детский,приключения   \n",
       "7456        Фонд кино      6.8                          комедия   \n",
       "7464        Фонд кино      6.0          история,биография,драма   \n",
       "7466        Фонд кино      6.7  мультфильм,приключения,семейный   \n",
       "\n",
       "          box_office  \n",
       "1857    57,395,723.1  \n",
       "1865    39,229,270.6  \n",
       "1869   126,148,703.6  \n",
       "1870   249,166,767.7  \n",
       "1877    44,279,440.2  \n",
       "...              ...  \n",
       "7435    64,137,345.0  \n",
       "7453   387,590,521.7  \n",
       "7456 3,073,568,690.8  \n",
       "7464   717,703,185.5  \n",
       "7466   501,069,235.0  \n",
       "\n",
       "[738 rows x 16 columns]"
      ]
     },
     "execution_count": 33,
     "metadata": {},
     "output_type": "execute_result"
    }
   ],
   "source": [
    "df.query('box_office > 30000000')"
   ]
  },
  {
   "cell_type": "markdown",
   "metadata": {},
   "source": [
    "Все логично, в первом квантиле старые и малоизвестные фильмы, в последнем - современные и популярные. Судя по всему на рынке проката существуют правила и категории фильмов, которые нам неизвестны, безопаснее оставить данные как есть и продолжить анализ этого показателя в Шаге 3."
   ]
  },
  {
   "cell_type": "markdown",
   "metadata": {
    "id": "Eu6oWp2CgFyS"
   },
   "source": [
    "#### Шаг 2.6. Добавьте новые столбцы\n",
    "\n",
    "\n",
    "\n"
   ]
  },
  {
   "cell_type": "markdown",
   "metadata": {
    "id": "7GgW-UpAgFyS"
   },
   "source": [
    "- Создайте столбец с информацией о годе проката. Выделите год из даты премьеры фильма."
   ]
  },
  {
   "cell_type": "code",
   "execution_count": 34,
   "metadata": {
    "id": "I-yd1DkWgFyT"
   },
   "outputs": [
    {
     "data": {
      "text/html": [
       "<div>\n",
       "<style scoped>\n",
       "    .dataframe tbody tr th:only-of-type {\n",
       "        vertical-align: middle;\n",
       "    }\n",
       "\n",
       "    .dataframe tbody tr th {\n",
       "        vertical-align: top;\n",
       "    }\n",
       "\n",
       "    .dataframe thead th {\n",
       "        text-align: right;\n",
       "    }\n",
       "</style>\n",
       "<table border=\"1\" class=\"dataframe\">\n",
       "  <thead>\n",
       "    <tr style=\"text-align: right;\">\n",
       "      <th></th>\n",
       "      <th>title</th>\n",
       "      <th>puNumber</th>\n",
       "      <th>show_start_date</th>\n",
       "      <th>type</th>\n",
       "      <th>film_studio</th>\n",
       "      <th>production_country</th>\n",
       "      <th>director</th>\n",
       "      <th>producer</th>\n",
       "      <th>age_restriction</th>\n",
       "      <th>refundable_support</th>\n",
       "      <th>nonrefundable_support</th>\n",
       "      <th>budget</th>\n",
       "      <th>financing_source</th>\n",
       "      <th>ratings</th>\n",
       "      <th>genres</th>\n",
       "      <th>box_office</th>\n",
       "      <th>year</th>\n",
       "    </tr>\n",
       "  </thead>\n",
       "  <tbody>\n",
       "    <tr>\n",
       "      <td>0</td>\n",
       "      <td>Открытый простор</td>\n",
       "      <td>221048915</td>\n",
       "      <td>2015-11-27</td>\n",
       "      <td>Художественный</td>\n",
       "      <td>Тачстоун Пикчерз, Кобальт Пикчерз, Бикон Пикче...</td>\n",
       "      <td>США</td>\n",
       "      <td>Кевин Костнер</td>\n",
       "      <td>Дэвид Валдес, Кевин Костнер, Джейк Эбертс</td>\n",
       "      <td>18+</td>\n",
       "      <td>nan</td>\n",
       "      <td>nan</td>\n",
       "      <td>nan</td>\n",
       "      <td>NaN</td>\n",
       "      <td>7.2</td>\n",
       "      <td>боевик,драма,мелодрама</td>\n",
       "      <td>nan</td>\n",
       "      <td>2015</td>\n",
       "    </tr>\n",
       "    <tr>\n",
       "      <td>1</td>\n",
       "      <td>Особо важное задание</td>\n",
       "      <td>111013716</td>\n",
       "      <td>2016-09-13</td>\n",
       "      <td>Художественный</td>\n",
       "      <td>Киностудия \"Мосфильм\"</td>\n",
       "      <td>СССР</td>\n",
       "      <td>Е.Матвеев</td>\n",
       "      <td>no_info</td>\n",
       "      <td>6+</td>\n",
       "      <td>nan</td>\n",
       "      <td>nan</td>\n",
       "      <td>nan</td>\n",
       "      <td>NaN</td>\n",
       "      <td>6.6</td>\n",
       "      <td>драма,военный</td>\n",
       "      <td>nan</td>\n",
       "      <td>2016</td>\n",
       "    </tr>\n",
       "    <tr>\n",
       "      <td>2</td>\n",
       "      <td>Особо опасен</td>\n",
       "      <td>221038416</td>\n",
       "      <td>2016-10-10</td>\n",
       "      <td>Художественный</td>\n",
       "      <td>Юниверсал Пикчерз, Кикстарт Продакшнз, Марк Пл...</td>\n",
       "      <td>США</td>\n",
       "      <td>Тимур Бекмамбетов</td>\n",
       "      <td>Джим Лемли, Джейсон Нетер, Марк Е.Платт, Яйн Смит</td>\n",
       "      <td>18+</td>\n",
       "      <td>nan</td>\n",
       "      <td>nan</td>\n",
       "      <td>nan</td>\n",
       "      <td>NaN</td>\n",
       "      <td>6.8</td>\n",
       "      <td>фантастика,боевик,триллер</td>\n",
       "      <td>nan</td>\n",
       "      <td>2016</td>\n",
       "    </tr>\n",
       "    <tr>\n",
       "      <td>3</td>\n",
       "      <td>Особо опасен</td>\n",
       "      <td>221026916</td>\n",
       "      <td>2016-06-10</td>\n",
       "      <td>Художественный</td>\n",
       "      <td>Юниверсал Пикчерз, Кикстарт Продакшнз, Марк Пл...</td>\n",
       "      <td>США</td>\n",
       "      <td>Тимур Бекмамбетов</td>\n",
       "      <td>Джим Лемли, Джейсон Нетер, Марк Е.Платт, Яйн Смит</td>\n",
       "      <td>18+</td>\n",
       "      <td>nan</td>\n",
       "      <td>nan</td>\n",
       "      <td>nan</td>\n",
       "      <td>NaN</td>\n",
       "      <td>6.8</td>\n",
       "      <td>фантастика,боевик,триллер</td>\n",
       "      <td>nan</td>\n",
       "      <td>2016</td>\n",
       "    </tr>\n",
       "    <tr>\n",
       "      <td>4</td>\n",
       "      <td>Особо опасен</td>\n",
       "      <td>221030815</td>\n",
       "      <td>2015-07-29</td>\n",
       "      <td>Художественный</td>\n",
       "      <td>Юниверсал Пикчерз, Кикстарт Продакшнз, Марк Пл...</td>\n",
       "      <td>США</td>\n",
       "      <td>Тимур Бекмамбетов</td>\n",
       "      <td>Джим Лемли, Джейсон Нетер, Марк Е.Платт, Яйн Смит</td>\n",
       "      <td>18+</td>\n",
       "      <td>nan</td>\n",
       "      <td>nan</td>\n",
       "      <td>nan</td>\n",
       "      <td>NaN</td>\n",
       "      <td>6.8</td>\n",
       "      <td>фантастика,боевик,триллер</td>\n",
       "      <td>nan</td>\n",
       "      <td>2015</td>\n",
       "    </tr>\n",
       "  </tbody>\n",
       "</table>\n",
       "</div>"
      ],
      "text/plain": [
       "                  title   puNumber show_start_date            type  \\\n",
       "0      Открытый простор  221048915      2015-11-27  Художественный   \n",
       "1  Особо важное задание  111013716      2016-09-13  Художественный   \n",
       "2          Особо опасен  221038416      2016-10-10  Художественный   \n",
       "3          Особо опасен  221026916      2016-06-10  Художественный   \n",
       "4          Особо опасен  221030815      2015-07-29  Художественный   \n",
       "\n",
       "                                         film_studio production_country  \\\n",
       "0  Тачстоун Пикчерз, Кобальт Пикчерз, Бикон Пикче...                США   \n",
       "1                              Киностудия \"Мосфильм\"               СССР   \n",
       "2  Юниверсал Пикчерз, Кикстарт Продакшнз, Марк Пл...                США   \n",
       "3  Юниверсал Пикчерз, Кикстарт Продакшнз, Марк Пл...                США   \n",
       "4  Юниверсал Пикчерз, Кикстарт Продакшнз, Марк Пл...                США   \n",
       "\n",
       "            director                                           producer  \\\n",
       "0      Кевин Костнер          Дэвид Валдес, Кевин Костнер, Джейк Эбертс   \n",
       "1          Е.Матвеев                                            no_info   \n",
       "2  Тимур Бекмамбетов  Джим Лемли, Джейсон Нетер, Марк Е.Платт, Яйн Смит   \n",
       "3  Тимур Бекмамбетов  Джим Лемли, Джейсон Нетер, Марк Е.Платт, Яйн Смит   \n",
       "4  Тимур Бекмамбетов  Джим Лемли, Джейсон Нетер, Марк Е.Платт, Яйн Смит   \n",
       "\n",
       "  age_restriction  refundable_support  nonrefundable_support  budget  \\\n",
       "0             18+                 nan                    nan     nan   \n",
       "1              6+                 nan                    nan     nan   \n",
       "2             18+                 nan                    nan     nan   \n",
       "3             18+                 nan                    nan     nan   \n",
       "4             18+                 nan                    nan     nan   \n",
       "\n",
       "  financing_source  ratings                     genres  box_office  year  \n",
       "0              NaN      7.2     боевик,драма,мелодрама         nan  2015  \n",
       "1              NaN      6.6              драма,военный         nan  2016  \n",
       "2              NaN      6.8  фантастика,боевик,триллер         nan  2016  \n",
       "3              NaN      6.8  фантастика,боевик,триллер         nan  2016  \n",
       "4              NaN      6.8  фантастика,боевик,триллер         nan  2015  "
      ]
     },
     "execution_count": 34,
     "metadata": {},
     "output_type": "execute_result"
    }
   ],
   "source": [
    "df['year'] = df['show_start_date'].dt.year\n",
    "df.head(5)"
   ]
  },
  {
   "cell_type": "markdown",
   "metadata": {
    "id": "nFTDLDYOgFyT"
   },
   "source": [
    "- Создайте два столбца: с именем и фамилией главного режиссёра и основным жанром фильма. В столбцы войдут первые значения из списка режиссёров и жанров соответственно.\n",
    "\n"
   ]
  },
  {
   "cell_type": "code",
   "execution_count": 35,
   "metadata": {},
   "outputs": [
    {
     "data": {
      "text/html": [
       "<div>\n",
       "<style scoped>\n",
       "    .dataframe tbody tr th:only-of-type {\n",
       "        vertical-align: middle;\n",
       "    }\n",
       "\n",
       "    .dataframe tbody tr th {\n",
       "        vertical-align: top;\n",
       "    }\n",
       "\n",
       "    .dataframe thead th {\n",
       "        text-align: right;\n",
       "    }\n",
       "</style>\n",
       "<table border=\"1\" class=\"dataframe\">\n",
       "  <thead>\n",
       "    <tr style=\"text-align: right;\">\n",
       "      <th></th>\n",
       "      <th>title</th>\n",
       "      <th>puNumber</th>\n",
       "      <th>show_start_date</th>\n",
       "      <th>type</th>\n",
       "      <th>film_studio</th>\n",
       "      <th>production_country</th>\n",
       "      <th>director</th>\n",
       "      <th>producer</th>\n",
       "      <th>age_restriction</th>\n",
       "      <th>refundable_support</th>\n",
       "      <th>nonrefundable_support</th>\n",
       "      <th>budget</th>\n",
       "      <th>financing_source</th>\n",
       "      <th>ratings</th>\n",
       "      <th>genres</th>\n",
       "      <th>box_office</th>\n",
       "      <th>year</th>\n",
       "      <th>main_genre</th>\n",
       "      <th>main_director</th>\n",
       "    </tr>\n",
       "  </thead>\n",
       "  <tbody>\n",
       "    <tr>\n",
       "      <td>0</td>\n",
       "      <td>Открытый простор</td>\n",
       "      <td>221048915</td>\n",
       "      <td>2015-11-27</td>\n",
       "      <td>Художественный</td>\n",
       "      <td>Тачстоун Пикчерз, Кобальт Пикчерз, Бикон Пикче...</td>\n",
       "      <td>США</td>\n",
       "      <td>Кевин Костнер</td>\n",
       "      <td>Дэвид Валдес, Кевин Костнер, Джейк Эбертс</td>\n",
       "      <td>18+</td>\n",
       "      <td>nan</td>\n",
       "      <td>nan</td>\n",
       "      <td>nan</td>\n",
       "      <td>NaN</td>\n",
       "      <td>7.2</td>\n",
       "      <td>боевик,драма,мелодрама</td>\n",
       "      <td>nan</td>\n",
       "      <td>2015</td>\n",
       "      <td>боевик</td>\n",
       "      <td>Кевин Костнер</td>\n",
       "    </tr>\n",
       "    <tr>\n",
       "      <td>1</td>\n",
       "      <td>Особо важное задание</td>\n",
       "      <td>111013716</td>\n",
       "      <td>2016-09-13</td>\n",
       "      <td>Художественный</td>\n",
       "      <td>Киностудия \"Мосфильм\"</td>\n",
       "      <td>СССР</td>\n",
       "      <td>Е.Матвеев</td>\n",
       "      <td>no_info</td>\n",
       "      <td>6+</td>\n",
       "      <td>nan</td>\n",
       "      <td>nan</td>\n",
       "      <td>nan</td>\n",
       "      <td>NaN</td>\n",
       "      <td>6.6</td>\n",
       "      <td>драма,военный</td>\n",
       "      <td>nan</td>\n",
       "      <td>2016</td>\n",
       "      <td>драма</td>\n",
       "      <td>Е.Матвеев</td>\n",
       "    </tr>\n",
       "    <tr>\n",
       "      <td>2</td>\n",
       "      <td>Особо опасен</td>\n",
       "      <td>221038416</td>\n",
       "      <td>2016-10-10</td>\n",
       "      <td>Художественный</td>\n",
       "      <td>Юниверсал Пикчерз, Кикстарт Продакшнз, Марк Пл...</td>\n",
       "      <td>США</td>\n",
       "      <td>Тимур Бекмамбетов</td>\n",
       "      <td>Джим Лемли, Джейсон Нетер, Марк Е.Платт, Яйн Смит</td>\n",
       "      <td>18+</td>\n",
       "      <td>nan</td>\n",
       "      <td>nan</td>\n",
       "      <td>nan</td>\n",
       "      <td>NaN</td>\n",
       "      <td>6.8</td>\n",
       "      <td>фантастика,боевик,триллер</td>\n",
       "      <td>nan</td>\n",
       "      <td>2016</td>\n",
       "      <td>фантастика</td>\n",
       "      <td>Тимур Бекмамбетов</td>\n",
       "    </tr>\n",
       "    <tr>\n",
       "      <td>3</td>\n",
       "      <td>Особо опасен</td>\n",
       "      <td>221026916</td>\n",
       "      <td>2016-06-10</td>\n",
       "      <td>Художественный</td>\n",
       "      <td>Юниверсал Пикчерз, Кикстарт Продакшнз, Марк Пл...</td>\n",
       "      <td>США</td>\n",
       "      <td>Тимур Бекмамбетов</td>\n",
       "      <td>Джим Лемли, Джейсон Нетер, Марк Е.Платт, Яйн Смит</td>\n",
       "      <td>18+</td>\n",
       "      <td>nan</td>\n",
       "      <td>nan</td>\n",
       "      <td>nan</td>\n",
       "      <td>NaN</td>\n",
       "      <td>6.8</td>\n",
       "      <td>фантастика,боевик,триллер</td>\n",
       "      <td>nan</td>\n",
       "      <td>2016</td>\n",
       "      <td>фантастика</td>\n",
       "      <td>Тимур Бекмамбетов</td>\n",
       "    </tr>\n",
       "    <tr>\n",
       "      <td>4</td>\n",
       "      <td>Особо опасен</td>\n",
       "      <td>221030815</td>\n",
       "      <td>2015-07-29</td>\n",
       "      <td>Художественный</td>\n",
       "      <td>Юниверсал Пикчерз, Кикстарт Продакшнз, Марк Пл...</td>\n",
       "      <td>США</td>\n",
       "      <td>Тимур Бекмамбетов</td>\n",
       "      <td>Джим Лемли, Джейсон Нетер, Марк Е.Платт, Яйн Смит</td>\n",
       "      <td>18+</td>\n",
       "      <td>nan</td>\n",
       "      <td>nan</td>\n",
       "      <td>nan</td>\n",
       "      <td>NaN</td>\n",
       "      <td>6.8</td>\n",
       "      <td>фантастика,боевик,триллер</td>\n",
       "      <td>nan</td>\n",
       "      <td>2015</td>\n",
       "      <td>фантастика</td>\n",
       "      <td>Тимур Бекмамбетов</td>\n",
       "    </tr>\n",
       "  </tbody>\n",
       "</table>\n",
       "</div>"
      ],
      "text/plain": [
       "                  title   puNumber show_start_date            type  \\\n",
       "0      Открытый простор  221048915      2015-11-27  Художественный   \n",
       "1  Особо важное задание  111013716      2016-09-13  Художественный   \n",
       "2          Особо опасен  221038416      2016-10-10  Художественный   \n",
       "3          Особо опасен  221026916      2016-06-10  Художественный   \n",
       "4          Особо опасен  221030815      2015-07-29  Художественный   \n",
       "\n",
       "                                         film_studio production_country  \\\n",
       "0  Тачстоун Пикчерз, Кобальт Пикчерз, Бикон Пикче...                США   \n",
       "1                              Киностудия \"Мосфильм\"               СССР   \n",
       "2  Юниверсал Пикчерз, Кикстарт Продакшнз, Марк Пл...                США   \n",
       "3  Юниверсал Пикчерз, Кикстарт Продакшнз, Марк Пл...                США   \n",
       "4  Юниверсал Пикчерз, Кикстарт Продакшнз, Марк Пл...                США   \n",
       "\n",
       "            director                                           producer  \\\n",
       "0      Кевин Костнер          Дэвид Валдес, Кевин Костнер, Джейк Эбертс   \n",
       "1          Е.Матвеев                                            no_info   \n",
       "2  Тимур Бекмамбетов  Джим Лемли, Джейсон Нетер, Марк Е.Платт, Яйн Смит   \n",
       "3  Тимур Бекмамбетов  Джим Лемли, Джейсон Нетер, Марк Е.Платт, Яйн Смит   \n",
       "4  Тимур Бекмамбетов  Джим Лемли, Джейсон Нетер, Марк Е.Платт, Яйн Смит   \n",
       "\n",
       "  age_restriction  refundable_support  nonrefundable_support  budget  \\\n",
       "0             18+                 nan                    nan     nan   \n",
       "1              6+                 nan                    nan     nan   \n",
       "2             18+                 nan                    nan     nan   \n",
       "3             18+                 nan                    nan     nan   \n",
       "4             18+                 nan                    nan     nan   \n",
       "\n",
       "  financing_source  ratings                     genres  box_office  year  \\\n",
       "0              NaN      7.2     боевик,драма,мелодрама         nan  2015   \n",
       "1              NaN      6.6              драма,военный         nan  2016   \n",
       "2              NaN      6.8  фантастика,боевик,триллер         nan  2016   \n",
       "3              NaN      6.8  фантастика,боевик,триллер         nan  2016   \n",
       "4              NaN      6.8  фантастика,боевик,триллер         nan  2015   \n",
       "\n",
       "   main_genre      main_director  \n",
       "0      боевик      Кевин Костнер  \n",
       "1       драма          Е.Матвеев  \n",
       "2  фантастика  Тимур Бекмамбетов  \n",
       "3  фантастика  Тимур Бекмамбетов  \n",
       "4  фантастика  Тимур Бекмамбетов  "
      ]
     },
     "execution_count": 35,
     "metadata": {},
     "output_type": "execute_result"
    }
   ],
   "source": [
    "df['main_genre'] = df['genres'].apply(lambda x: x.split(r',')[0])\n",
    "df['main_director'] = df['director'].apply(lambda x: x.split(r',')[0])\n",
    "df.head(5)"
   ]
  },
  {
   "cell_type": "markdown",
   "metadata": {
    "id": "1FsCXHwdgFyU"
   },
   "source": [
    "- Посчитайте, какую долю от общего бюджета фильма составляет государственная поддержка."
   ]
  },
  {
   "cell_type": "code",
   "execution_count": 36,
   "metadata": {
    "id": "LV6qFuZLgFyV"
   },
   "outputs": [
    {
     "data": {
      "text/html": [
       "<div>\n",
       "<style scoped>\n",
       "    .dataframe tbody tr th:only-of-type {\n",
       "        vertical-align: middle;\n",
       "    }\n",
       "\n",
       "    .dataframe tbody tr th {\n",
       "        vertical-align: top;\n",
       "    }\n",
       "\n",
       "    .dataframe thead th {\n",
       "        text-align: right;\n",
       "    }\n",
       "</style>\n",
       "<table border=\"1\" class=\"dataframe\">\n",
       "  <thead>\n",
       "    <tr style=\"text-align: right;\">\n",
       "      <th></th>\n",
       "      <th>title</th>\n",
       "      <th>puNumber</th>\n",
       "      <th>show_start_date</th>\n",
       "      <th>type</th>\n",
       "      <th>film_studio</th>\n",
       "      <th>production_country</th>\n",
       "      <th>director</th>\n",
       "      <th>producer</th>\n",
       "      <th>age_restriction</th>\n",
       "      <th>refundable_support</th>\n",
       "      <th>nonrefundable_support</th>\n",
       "      <th>budget</th>\n",
       "      <th>financing_source</th>\n",
       "      <th>ratings</th>\n",
       "      <th>genres</th>\n",
       "      <th>box_office</th>\n",
       "      <th>year</th>\n",
       "      <th>main_genre</th>\n",
       "      <th>main_director</th>\n",
       "      <th>support_ratio</th>\n",
       "    </tr>\n",
       "  </thead>\n",
       "  <tbody>\n",
       "    <tr>\n",
       "      <td>1281</td>\n",
       "      <td>Пока еще жива</td>\n",
       "      <td>111005313</td>\n",
       "      <td>2013-10-11</td>\n",
       "      <td>Художественный</td>\n",
       "      <td>АНО содействия развитию кинематографии \"Ангел-...</td>\n",
       "      <td>Россия</td>\n",
       "      <td>А.Атанесян</td>\n",
       "      <td>А.Атанесян, М.Бабаханов, Р.Бутко</td>\n",
       "      <td>16+</td>\n",
       "      <td>0.0</td>\n",
       "      <td>26,500,000.0</td>\n",
       "      <td>79,411,900.0</td>\n",
       "      <td>Министерство культуры</td>\n",
       "      <td>8.1</td>\n",
       "      <td>драма,мелодрама</td>\n",
       "      <td>365,353.6</td>\n",
       "      <td>2013</td>\n",
       "      <td>драма</td>\n",
       "      <td>А.Атанесян</td>\n",
       "      <td>33.4</td>\n",
       "    </tr>\n",
       "    <tr>\n",
       "      <td>1448</td>\n",
       "      <td>Бесславные придурки</td>\n",
       "      <td>111003314</td>\n",
       "      <td>2014-03-28</td>\n",
       "      <td>Художественный</td>\n",
       "      <td>ООО \"Компания \"АТК-Студио\"</td>\n",
       "      <td>Россия</td>\n",
       "      <td>А.Якимчук</td>\n",
       "      <td>А.Тютрюмов</td>\n",
       "      <td>12+</td>\n",
       "      <td>0.0</td>\n",
       "      <td>26,000,000.0</td>\n",
       "      <td>37,142,857.0</td>\n",
       "      <td>Министерство культуры</td>\n",
       "      <td>nan</td>\n",
       "      <td>no_info</td>\n",
       "      <td>28,140.0</td>\n",
       "      <td>2014</td>\n",
       "      <td>no_info</td>\n",
       "      <td>А.Якимчук</td>\n",
       "      <td>70.0</td>\n",
       "    </tr>\n",
       "    <tr>\n",
       "      <td>1498</td>\n",
       "      <td>Невидимки</td>\n",
       "      <td>111004213</td>\n",
       "      <td>2013-09-10</td>\n",
       "      <td>Художественный</td>\n",
       "      <td>ООО \"Компания \"РЕАЛ-ДАКОТА\"</td>\n",
       "      <td>Россия</td>\n",
       "      <td>Р.Давлетьяров, С.Комаров</td>\n",
       "      <td>Р.Давлетьяров, А.Котелевский, А.Олейников</td>\n",
       "      <td>12+</td>\n",
       "      <td>0.0</td>\n",
       "      <td>107,847,945.0</td>\n",
       "      <td>176,023,490.0</td>\n",
       "      <td>Фонд кино</td>\n",
       "      <td>5.3</td>\n",
       "      <td>комедия,фантастика</td>\n",
       "      <td>19,957,031.5</td>\n",
       "      <td>2013</td>\n",
       "      <td>комедия</td>\n",
       "      <td>Р.Давлетьяров</td>\n",
       "      <td>61.3</td>\n",
       "    </tr>\n",
       "    <tr>\n",
       "      <td>1524</td>\n",
       "      <td>БЕРЦЫ</td>\n",
       "      <td>111004314</td>\n",
       "      <td>2014-05-05</td>\n",
       "      <td>Художественный</td>\n",
       "      <td>ООО \"Студия \"Пассажир\"</td>\n",
       "      <td>Россия</td>\n",
       "      <td>Е.Миндадзе (псевдоним Катя Шагалова)</td>\n",
       "      <td>Л.Антонова</td>\n",
       "      <td>16+</td>\n",
       "      <td>0.0</td>\n",
       "      <td>28,000,000.0</td>\n",
       "      <td>40,574,140.0</td>\n",
       "      <td>Министерство культуры</td>\n",
       "      <td>4.2</td>\n",
       "      <td>драма</td>\n",
       "      <td>55,917.5</td>\n",
       "      <td>2014</td>\n",
       "      <td>драма</td>\n",
       "      <td>Е.Миндадзе (псевдоним Катя Шагалова)</td>\n",
       "      <td>69.0</td>\n",
       "    </tr>\n",
       "    <tr>\n",
       "      <td>1792</td>\n",
       "      <td>Братья Ч</td>\n",
       "      <td>111004414</td>\n",
       "      <td>2014-04-23</td>\n",
       "      <td>Художественный</td>\n",
       "      <td>ООО \"Студия \"Пассажир\"</td>\n",
       "      <td>Россия</td>\n",
       "      <td>М.Угаров</td>\n",
       "      <td>А.Миндадзе, Л.Антонова</td>\n",
       "      <td>16+</td>\n",
       "      <td>0.0</td>\n",
       "      <td>25,000,000.0</td>\n",
       "      <td>40,015,122.0</td>\n",
       "      <td>Министерство культуры</td>\n",
       "      <td>6.4</td>\n",
       "      <td>драма</td>\n",
       "      <td>232,100.0</td>\n",
       "      <td>2014</td>\n",
       "      <td>драма</td>\n",
       "      <td>М.Угаров</td>\n",
       "      <td>62.5</td>\n",
       "    </tr>\n",
       "  </tbody>\n",
       "</table>\n",
       "</div>"
      ],
      "text/plain": [
       "                    title   puNumber show_start_date            type  \\\n",
       "1281        Пока еще жива  111005313      2013-10-11  Художественный   \n",
       "1448  Бесславные придурки  111003314      2014-03-28  Художественный   \n",
       "1498            Невидимки  111004213      2013-09-10  Художественный   \n",
       "1524                БЕРЦЫ  111004314      2014-05-05  Художественный   \n",
       "1792             Братья Ч  111004414      2014-04-23  Художественный   \n",
       "\n",
       "                                            film_studio production_country  \\\n",
       "1281  АНО содействия развитию кинематографии \"Ангел-...             Россия   \n",
       "1448                         ООО \"Компания \"АТК-Студио\"             Россия   \n",
       "1498                        ООО \"Компания \"РЕАЛ-ДАКОТА\"             Россия   \n",
       "1524                             ООО \"Студия \"Пассажир\"             Россия   \n",
       "1792                             ООО \"Студия \"Пассажир\"             Россия   \n",
       "\n",
       "                                  director  \\\n",
       "1281                            А.Атанесян   \n",
       "1448                             А.Якимчук   \n",
       "1498              Р.Давлетьяров, С.Комаров   \n",
       "1524  Е.Миндадзе (псевдоним Катя Шагалова)   \n",
       "1792                              М.Угаров   \n",
       "\n",
       "                                       producer age_restriction  \\\n",
       "1281           А.Атанесян, М.Бабаханов, Р.Бутко             16+   \n",
       "1448                                 А.Тютрюмов             12+   \n",
       "1498  Р.Давлетьяров, А.Котелевский, А.Олейников             12+   \n",
       "1524                                 Л.Антонова             16+   \n",
       "1792                     А.Миндадзе, Л.Антонова             16+   \n",
       "\n",
       "      refundable_support  nonrefundable_support        budget  \\\n",
       "1281                 0.0           26,500,000.0  79,411,900.0   \n",
       "1448                 0.0           26,000,000.0  37,142,857.0   \n",
       "1498                 0.0          107,847,945.0 176,023,490.0   \n",
       "1524                 0.0           28,000,000.0  40,574,140.0   \n",
       "1792                 0.0           25,000,000.0  40,015,122.0   \n",
       "\n",
       "           financing_source  ratings              genres   box_office  year  \\\n",
       "1281  Министерство культуры      8.1     драма,мелодрама    365,353.6  2013   \n",
       "1448  Министерство культуры      nan             no_info     28,140.0  2014   \n",
       "1498              Фонд кино      5.3  комедия,фантастика 19,957,031.5  2013   \n",
       "1524  Министерство культуры      4.2               драма     55,917.5  2014   \n",
       "1792  Министерство культуры      6.4               драма    232,100.0  2014   \n",
       "\n",
       "     main_genre                         main_director  support_ratio  \n",
       "1281      драма                            А.Атанесян           33.4  \n",
       "1448    no_info                             А.Якимчук           70.0  \n",
       "1498    комедия                         Р.Давлетьяров           61.3  \n",
       "1524      драма  Е.Миндадзе (псевдоним Катя Шагалова)           69.0  \n",
       "1792      драма                              М.Угаров           62.5  "
      ]
     },
     "execution_count": 36,
     "metadata": {},
     "output_type": "execute_result"
    }
   ],
   "source": [
    "df['support_ratio'] = (df['refundable_support'] + df['nonrefundable_support']) / df['budget'] * 100\n",
    "df['support_ratio'] = df['support_ratio'].round(1)\n",
    "df.query('budget.notna()').head(5)"
   ]
  },
  {
   "cell_type": "markdown",
   "metadata": {},
   "source": [
    "#### Вывод"
   ]
  },
  {
   "cell_type": "markdown",
   "metadata": {},
   "source": [
    "- В столбце `show_start_date` тип данных заменен на `datetime`\n",
    "- В столбце `ratings` обнаружены странные данные с процентами, которые отличались от остальных. Принято решение удалить значения не удаляя строки\n",
    "- В столбцах `film_studio` `production_country` `director producer` `genres` пропуски заменены на `no_info`. В количественных столбцах пропуски оставлены зачениями `NaN`\n",
    "- Столбец `title` имеет дубликаты из-за того, что один фильм может иметь несколько прокатных удостоверений. Принято решение считать этот столбец категориальным\n",
    "- Столбец `puNumber` считаем столбцом с уникальныи идентификатором проката. Удалено два дубликата.\n",
    "- В столбце `age_restricion` данные заменены на скращенный вариант, для более простого анализа\n",
    "- В столбце `type` в названии категорий удалены пробелы\n",
    "- В столбце `budget` нулевые значения заменены суммой значения из столбцов государственной поддержки\n",
    "- В столбце `box_office` обнаружены странные значения. Не удалось обнаружить причины такого поведения данных, принято решение продолжить анализ в Шаге 3\n",
    "- Добавлен столбец `year` - с годом начала проката \n",
    "- Добавлен столбец `main_director` - с именем и фамилией первого режиссера\n",
    "- Добавлен столбец `main_genre` - с первым названием жанра фильма\n",
    "- Добавлен столбец `support_ratio` - доля государственной поддержки в общем бюджете фильма"
   ]
  },
  {
   "cell_type": "markdown",
   "metadata": {
    "id": "6t4EukPLgFyV"
   },
   "source": [
    "### Шаг 3. Проведите исследовательский анализ данных\n"
   ]
  },
  {
   "cell_type": "markdown",
   "metadata": {
    "id": "vAH8WCzugFyV"
   },
   "source": [
    "#### Количество фильмов и качество данных\n",
    "\n",
    "*Посмотрите, сколько фильмов выходило в прокат каждый год. Обратите внимание, что данные о прокате в кинотеатрах известны не для всех фильмов. Посчитайте, какую долю составляют фильмы с указанной информацией о прокате в кинотеатрах.*"
   ]
  },
  {
   "cell_type": "markdown",
   "metadata": {},
   "source": [
    "Выполним задачу через построение столбчатой диаграммы"
   ]
  },
  {
   "cell_type": "code",
   "execution_count": 37,
   "metadata": {},
   "outputs": [
    {
     "data": {
      "text/plain": [
       "<matplotlib.axes._subplots.AxesSubplot at 0x7f82e8b4cf90>"
      ]
     },
     "execution_count": 37,
     "metadata": {},
     "output_type": "execute_result"
    },
    {
     "data": {
      "image/png": "[encoded data removed]",
      "text/plain": [
       "<Figure size 720x360 with 1 Axes>"
      ]
     },
     "metadata": {
      "needs_background": "light"
     },
     "output_type": "display_data"
    }
   ],
   "source": [
    "#отключим часть увеломлений об ошибках, которые не влияют на работу кода сейчас\n",
    "warnings.filterwarnings(action='ignore', category=FutureWarning)\n",
    "\n",
    "# берем столбцы, которые имели пропуски\n",
    "df_for_barplot = df[['year', 'film_studio', 'production_country', 'director', 'producer', 'ratings', 'genres', 'box_office']].copy()\n",
    "\n",
    "# создаем столбец, чье значение будет обозначать количество пропущенных данных в строке\n",
    "df_for_barplot['check'] = df_for_barplot.apply(lambda x: x.isna() if x.dtype == 'float64' else x == 'no_info').sum(axis = 1)\n",
    "\n",
    "#создаем столбцы, которые являются маркерами полноты информации о прокате\n",
    "df_for_barplot.loc[df_for_barplot.check == 0, 'good_info'] = 1\n",
    "df_for_barplot.loc[df_for_barplot.check > 0, 'bad_info'] = 1\n",
    "\n",
    "# создаем столбчатую диаграмму по сводной таблице\n",
    "df_for_barplot.pivot_table(index = 'year', values = ['good_info', 'bad_info'], aggfunc = 'sum').plot.bar(stacked=True, figsize = (10, 5), title =  'Количество прокатных удостоверений по годам, разбитое на количество полных и неполных данных о прокате')\n"
   ]
  },
  {
   "cell_type": "markdown",
   "metadata": {},
   "source": [
    "- Больше всего прокатных удостоверений выдано в 2010-ом году, меньше всего в 2017-ом году\n",
    "- С 2014-ого года очевиден скачок качества данных о фильмах, больше половины прокатов в диапозоне с 2015-ого по 2019-ый год имеют полные данные, до 2015-ого года этот показатель менее 25%"
   ]
  },
  {
   "cell_type": "markdown",
   "metadata": {},
   "source": [
    "Техническим заданием также требуется посчитать сколько фильмов выходило в прокат каждый год, для этого посчитаем количество строк по годам, где показатель `box_office` больше 0"
   ]
  },
  {
   "cell_type": "code",
   "execution_count": 39,
   "metadata": {},
   "outputs": [
    {
     "data": {
      "text/html": [
       "<div>\n",
       "<style scoped>\n",
       "    .dataframe tbody tr th:only-of-type {\n",
       "        vertical-align: middle;\n",
       "    }\n",
       "\n",
       "    .dataframe tbody tr th {\n",
       "        vertical-align: top;\n",
       "    }\n",
       "\n",
       "    .dataframe thead th {\n",
       "        text-align: right;\n",
       "    }\n",
       "</style>\n",
       "<table border=\"1\" class=\"dataframe\">\n",
       "  <thead>\n",
       "    <tr style=\"text-align: right;\">\n",
       "      <th>year</th>\n",
       "      <th>2010</th>\n",
       "      <th>2011</th>\n",
       "      <th>2012</th>\n",
       "      <th>2013</th>\n",
       "      <th>2014</th>\n",
       "      <th>2015</th>\n",
       "      <th>2016</th>\n",
       "      <th>2017</th>\n",
       "      <th>2018</th>\n",
       "      <th>2019</th>\n",
       "    </tr>\n",
       "  </thead>\n",
       "  <tbody>\n",
       "    <tr>\n",
       "      <td>title</td>\n",
       "      <td>101</td>\n",
       "      <td>109</td>\n",
       "      <td>123</td>\n",
       "      <td>179</td>\n",
       "      <td>273</td>\n",
       "      <td>462</td>\n",
       "      <td>525</td>\n",
       "      <td>357</td>\n",
       "      <td>475</td>\n",
       "      <td>530</td>\n",
       "    </tr>\n",
       "  </tbody>\n",
       "</table>\n",
       "</div>"
      ],
      "text/plain": [
       "year   2010  2011  2012  2013  2014  2015  2016  2017  2018  2019\n",
       "title   101   109   123   179   273   462   525   357   475   530"
      ]
     },
     "metadata": {},
     "output_type": "display_data"
    },
    {
     "data": {
      "text/plain": [
       "<matplotlib.axes._subplots.AxesSubplot at 0x7f82e89fcb90>"
      ]
     },
     "execution_count": 39,
     "metadata": {},
     "output_type": "execute_result"
    },
    {
     "data": {
      "image/png": "[encoded data removed]",
      "text/plain": [
       "<Figure size 432x288 with 1 Axes>"
      ]
     },
     "metadata": {
      "needs_background": "light"
     },
     "output_type": "display_data"
    }
   ],
   "source": [
    "display(df.query('box_office > 0').pivot_table(index = 'year', values = 'title', aggfunc = 'count').T)\n",
    "df.query('box_office > 0').pivot_table(index = 'year', values = 'title', aggfunc = 'count').plot.bar()"
   ]
  },
  {
   "cell_type": "markdown",
   "metadata": {},
   "source": [
    "Меньше всего фильмов, получивших прокатное удостоверение и имеющих сборы было в 2010 - 2012 годах. Наблюдается рост сборов с 2010 по 2016 год с 101 фильма до 525 соответственно. "
   ]
  },
  {
   "cell_type": "markdown",
   "metadata": {
    "id": "BEOdcIrIgFyW"
   },
   "source": [
    "#### Динамика проката по годам\n",
    "\n",
    "*Изучите, как менялась динамика проката по годам. В каком году сумма сборов была минимальной? А максимальной?*"
   ]
  },
  {
   "cell_type": "markdown",
   "metadata": {},
   "source": [
    "Построим столбчатую диаграмму по сводной таблице"
   ]
  },
  {
   "cell_type": "code",
   "execution_count": 40,
   "metadata": {
    "id": "tfEhofYvgFyX"
   },
   "outputs": [
    {
     "data": {
      "text/plain": [
       "<matplotlib.axes._subplots.AxesSubplot at 0x7f82e82a53d0>"
      ]
     },
     "execution_count": 40,
     "metadata": {},
     "output_type": "execute_result"
    },
    {
     "data": {
      "image/png": "[encoded data removed]",
      "text/plain": [
       "<Figure size 720x360 with 1 Axes>"
      ]
     },
     "metadata": {
      "needs_background": "light"
     },
     "output_type": "display_data"
    }
   ],
   "source": [
    "df.pivot_table(index = 'year', values = 'box_office', aggfunc = 'sum').plot.bar(figsize = (10, 5), title = 'Сумма сборов по годам')"
   ]
  },
  {
   "cell_type": "markdown",
   "metadata": {},
   "source": [
    "Учитывая предыдущее исследование похоже нашелся ответ на вопрос о странных данных `box_office`. До 2014-ого года данные о фильмах плохие, наблюдается много пропусков и данные о сборах показывают ту же динамику. Изучим данные до 2014-ого и после."
   ]
  },
  {
   "cell_type": "code",
   "execution_count": 41,
   "metadata": {},
   "outputs": [
    {
     "data": {
      "text/plain": [
       "count             785.0\n",
       "mean        9,551,896.1\n",
       "std        73,209,935.8\n",
       "min                40.0\n",
       "25%             1,000.0\n",
       "50%             5,250.0\n",
       "75%            37,985.0\n",
       "max     1,016,410,635.3\n",
       "Name: box_office, dtype: float64"
      ]
     },
     "execution_count": 41,
     "metadata": {},
     "output_type": "execute_result"
    }
   ],
   "source": [
    "df.query('year < 2015 and box_office > 0').box_office.describe()"
   ]
  },
  {
   "cell_type": "code",
   "execution_count": 42,
   "metadata": {},
   "outputs": [
    {
     "data": {
      "text/plain": [
       "count           2,349.0\n",
       "mean       99,626,004.3\n",
       "std       271,645,223.2\n",
       "min               100.0\n",
       "25%         1,255,719.0\n",
       "50%         5,872,718.3\n",
       "75%        46,319,097.4\n",
       "max     3,073,568,690.8\n",
       "Name: box_office, dtype: float64"
      ]
     },
     "execution_count": 42,
     "metadata": {},
     "output_type": "execute_result"
    }
   ],
   "source": [
    "df.query('year > 2014 and box_office > 0').box_office.describe()"
   ]
  },
  {
   "cell_type": "markdown",
   "metadata": {},
   "source": [
    "Похоже на то, что где-то в течении 2014-ого года произошло изменение способа сбора информации и данные, которые указывались в тысячах рублей стали указываться просто в рублях. Но это не объясняет необычно низких показателей сборов. Похоже часть прокатных удостоверений не было использовано или же показы были не коммерческими. Так или иначе на сумму сборов которую мы изучаем в данный момент это не влияет. \n",
    "\n",
    "Посмотрим данные о сборах с 2015-ого по 2019-ый года"
   ]
  },
  {
   "cell_type": "code",
   "execution_count": 43,
   "metadata": {},
   "outputs": [
    {
     "data": {
      "text/html": [
       "<div>\n",
       "<style scoped>\n",
       "    .dataframe tbody tr th:only-of-type {\n",
       "        vertical-align: middle;\n",
       "    }\n",
       "\n",
       "    .dataframe tbody tr th {\n",
       "        vertical-align: top;\n",
       "    }\n",
       "\n",
       "    .dataframe thead th {\n",
       "        text-align: right;\n",
       "    }\n",
       "</style>\n",
       "<table border=\"1\" class=\"dataframe\">\n",
       "  <thead>\n",
       "    <tr style=\"text-align: right;\">\n",
       "      <th></th>\n",
       "      <th>box_office</th>\n",
       "    </tr>\n",
       "    <tr>\n",
       "      <th>year</th>\n",
       "      <th></th>\n",
       "    </tr>\n",
       "  </thead>\n",
       "  <tbody>\n",
       "    <tr>\n",
       "      <td>2015</td>\n",
       "      <td>39,497,365,196.4</td>\n",
       "    </tr>\n",
       "    <tr>\n",
       "      <td>2016</td>\n",
       "      <td>47,866,299,741.9</td>\n",
       "    </tr>\n",
       "    <tr>\n",
       "      <td>2017</td>\n",
       "      <td>48,563,707,217.5</td>\n",
       "    </tr>\n",
       "    <tr>\n",
       "      <td>2018</td>\n",
       "      <td>49,668,403,134.3</td>\n",
       "    </tr>\n",
       "    <tr>\n",
       "      <td>2019</td>\n",
       "      <td>48,425,708,779.6</td>\n",
       "    </tr>\n",
       "  </tbody>\n",
       "</table>\n",
       "</div>"
      ],
      "text/plain": [
       "           box_office\n",
       "year                 \n",
       "2015 39,497,365,196.4\n",
       "2016 47,866,299,741.9\n",
       "2017 48,563,707,217.5\n",
       "2018 49,668,403,134.3\n",
       "2019 48,425,708,779.6"
      ]
     },
     "execution_count": 43,
     "metadata": {},
     "output_type": "execute_result"
    }
   ],
   "source": [
    "df.query('year > 2014').pivot_table(index = 'year', values = 'box_office', aggfunc = 'sum')"
   ]
  },
  {
   "cell_type": "markdown",
   "metadata": {},
   "source": [
    "Минимальная сумма сборов наблюдается в 2015-ом году, максимальная в 2018-ом."
   ]
  },
  {
   "cell_type": "markdown",
   "metadata": {
    "id": "G-7qS-N-gFyY"
   },
   "source": [
    "#### Средняя и медиана по сумме сборов по годам\n",
    "\n",
    "*С помощью сводной таблицы посчитайте среднюю и медианную сумму сборов для каждого года.*"
   ]
  },
  {
   "cell_type": "code",
   "execution_count": 44,
   "metadata": {
    "id": "jmp-rgg9gFyY"
   },
   "outputs": [
    {
     "data": {
      "text/html": [
       "<div>\n",
       "<style scoped>\n",
       "    .dataframe tbody tr th:only-of-type {\n",
       "        vertical-align: middle;\n",
       "    }\n",
       "\n",
       "    .dataframe tbody tr th {\n",
       "        vertical-align: top;\n",
       "    }\n",
       "\n",
       "    .dataframe thead th {\n",
       "        text-align: right;\n",
       "    }\n",
       "</style>\n",
       "<table border=\"1\" class=\"dataframe\">\n",
       "  <thead>\n",
       "    <tr style=\"text-align: right;\">\n",
       "      <th></th>\n",
       "      <th>mean_box_office</th>\n",
       "      <th>median_box_office</th>\n",
       "      <th>dev</th>\n",
       "      <th>dev%</th>\n",
       "    </tr>\n",
       "    <tr>\n",
       "      <th>year</th>\n",
       "      <th></th>\n",
       "      <th></th>\n",
       "      <th></th>\n",
       "      <th></th>\n",
       "    </tr>\n",
       "  </thead>\n",
       "  <tbody>\n",
       "    <tr>\n",
       "      <td>2010</td>\n",
       "      <td>23,130.0</td>\n",
       "      <td>1,700.0</td>\n",
       "      <td>21,430.0</td>\n",
       "      <td>92.7</td>\n",
       "    </tr>\n",
       "    <tr>\n",
       "      <td>2011</td>\n",
       "      <td>129,383.2</td>\n",
       "      <td>3,000.0</td>\n",
       "      <td>126,383.2</td>\n",
       "      <td>97.7</td>\n",
       "    </tr>\n",
       "    <tr>\n",
       "      <td>2012</td>\n",
       "      <td>54,339.2</td>\n",
       "      <td>5,660.0</td>\n",
       "      <td>48,679.2</td>\n",
       "      <td>89.6</td>\n",
       "    </tr>\n",
       "    <tr>\n",
       "      <td>2013</td>\n",
       "      <td>161,954.9</td>\n",
       "      <td>3,522.5</td>\n",
       "      <td>158,432.4</td>\n",
       "      <td>97.8</td>\n",
       "    </tr>\n",
       "    <tr>\n",
       "      <td>2014</td>\n",
       "      <td>26,684,415.3</td>\n",
       "      <td>18,160.0</td>\n",
       "      <td>26,666,255.3</td>\n",
       "      <td>99.9</td>\n",
       "    </tr>\n",
       "    <tr>\n",
       "      <td>2015</td>\n",
       "      <td>84,940,570.3</td>\n",
       "      <td>4,920,933.0</td>\n",
       "      <td>80,019,637.3</td>\n",
       "      <td>94.2</td>\n",
       "    </tr>\n",
       "    <tr>\n",
       "      <td>2016</td>\n",
       "      <td>91,000,569.9</td>\n",
       "      <td>3,846,679.4</td>\n",
       "      <td>87,153,890.4</td>\n",
       "      <td>95.8</td>\n",
       "    </tr>\n",
       "    <tr>\n",
       "      <td>2017</td>\n",
       "      <td>136,032,793.3</td>\n",
       "      <td>9,968,340.0</td>\n",
       "      <td>126,064,453.3</td>\n",
       "      <td>92.7</td>\n",
       "    </tr>\n",
       "    <tr>\n",
       "      <td>2018</td>\n",
       "      <td>104,565,059.2</td>\n",
       "      <td>8,891,102.2</td>\n",
       "      <td>95,673,957.0</td>\n",
       "      <td>91.5</td>\n",
       "    </tr>\n",
       "    <tr>\n",
       "      <td>2019</td>\n",
       "      <td>91,369,261.8</td>\n",
       "      <td>4,627,798.3</td>\n",
       "      <td>86,741,463.5</td>\n",
       "      <td>94.9</td>\n",
       "    </tr>\n",
       "  </tbody>\n",
       "</table>\n",
       "</div>"
      ],
      "text/plain": [
       "      mean_box_office  median_box_office           dev  dev%\n",
       "year                                                        \n",
       "2010         23,130.0            1,700.0      21,430.0  92.7\n",
       "2011        129,383.2            3,000.0     126,383.2  97.7\n",
       "2012         54,339.2            5,660.0      48,679.2  89.6\n",
       "2013        161,954.9            3,522.5     158,432.4  97.8\n",
       "2014     26,684,415.3           18,160.0  26,666,255.3  99.9\n",
       "2015     84,940,570.3        4,920,933.0  80,019,637.3  94.2\n",
       "2016     91,000,569.9        3,846,679.4  87,153,890.4  95.8\n",
       "2017    136,032,793.3        9,968,340.0 126,064,453.3  92.7\n",
       "2018    104,565,059.2        8,891,102.2  95,673,957.0  91.5\n",
       "2019     91,369,261.8        4,627,798.3  86,741,463.5  94.9"
      ]
     },
     "execution_count": 44,
     "metadata": {},
     "output_type": "execute_result"
    }
   ],
   "source": [
    "df_box_office = df.pivot_table(index = 'year', values = 'box_office', aggfunc = ['mean', 'median'])\n",
    "df_box_office.columns = ['mean_box_office', 'median_box_office']\n",
    "df_box_office['dev'] = df_box_office['mean_box_office'] - df_box_office['median_box_office']\n",
    "df_box_office['dev%'] = df_box_office['dev'] / df_box_office['mean_box_office'] * 100\n",
    "df_box_office"
   ]
  },
  {
   "cell_type": "markdown",
   "metadata": {},
   "source": [
    "Процент отклонения медианы от средней по каждому году очень похожи, это подтверждает гипотезу об изменении способа ввода данных где-то в течении 2014-ого года. Это знание пригодится нам в исследовании фильмов получивших государственную поддержку. Судя по данным все же присутствуют различные типы прокатных удостоверений и их использования, о которых мы не знаем.\n",
    "\n",
    "По среднему и медиане экономическую эффективность проката можно градировать так: \n",
    "\n",
    "1-ое место 2017-ый\n",
    "\n",
    "2-ое место 2018-ый\n",
    "\n",
    "3-е место 2016-ый и 2019-ый\n",
    "\n",
    "4-ое место 2015-ый"
   ]
  },
  {
   "cell_type": "markdown",
   "metadata": {
    "id": "Ok89WFwJgFyZ"
   },
   "source": [
    "#### Исследование влияния возрастных ограничений\n",
    "\n",
    "*Определите, влияет ли возрастное ограничение аудитории («6+», «12+», «16+», «18+» и т. д.) на сборы фильма в прокате в период с 2015 по 2019 год? Фильмы с каким возрастным ограничением собрали больше всего денег в прокате? Меняется ли картина в зависимости от года? Если да, предположите, с чем это может быть связано.*"
   ]
  },
  {
   "cell_type": "code",
   "execution_count": 45,
   "metadata": {},
   "outputs": [
    {
     "data": {
      "text/html": [
       "<div>\n",
       "<style scoped>\n",
       "    .dataframe tbody tr th:only-of-type {\n",
       "        vertical-align: middle;\n",
       "    }\n",
       "\n",
       "    .dataframe tbody tr th {\n",
       "        vertical-align: top;\n",
       "    }\n",
       "\n",
       "    .dataframe thead th {\n",
       "        text-align: right;\n",
       "    }\n",
       "</style>\n",
       "<table border=\"1\" class=\"dataframe\">\n",
       "  <thead>\n",
       "    <tr style=\"text-align: right;\">\n",
       "      <th></th>\n",
       "      <th>box_office</th>\n",
       "      <th>ratio</th>\n",
       "    </tr>\n",
       "    <tr>\n",
       "      <th>age_restriction</th>\n",
       "      <th></th>\n",
       "      <th></th>\n",
       "    </tr>\n",
       "  </thead>\n",
       "  <tbody>\n",
       "    <tr>\n",
       "      <td>0+</td>\n",
       "      <td>809,077,426.0</td>\n",
       "      <td>0.3</td>\n",
       "    </tr>\n",
       "    <tr>\n",
       "      <td>18+</td>\n",
       "      <td>40,759,615,572.1</td>\n",
       "      <td>17.4</td>\n",
       "    </tr>\n",
       "    <tr>\n",
       "      <td>6+</td>\n",
       "      <td>55,798,610,799.7</td>\n",
       "      <td>23.8</td>\n",
       "    </tr>\n",
       "    <tr>\n",
       "      <td>12+</td>\n",
       "      <td>60,619,446,628.3</td>\n",
       "      <td>25.9</td>\n",
       "    </tr>\n",
       "    <tr>\n",
       "      <td>16+</td>\n",
       "      <td>76,034,733,643.6</td>\n",
       "      <td>32.5</td>\n",
       "    </tr>\n",
       "  </tbody>\n",
       "</table>\n",
       "</div>"
      ],
      "text/plain": [
       "                      box_office  ratio\n",
       "age_restriction                        \n",
       "0+                 809,077,426.0    0.3\n",
       "18+             40,759,615,572.1   17.4\n",
       "6+              55,798,610,799.7   23.8\n",
       "12+             60,619,446,628.3   25.9\n",
       "16+             76,034,733,643.6   32.5"
      ]
     },
     "execution_count": 45,
     "metadata": {},
     "output_type": "execute_result"
    },
    {
     "data": {
      "image/png": "[encoded data removed]",
      "text/plain": [
       "<Figure size 504x504 with 1 Axes>"
      ]
     },
     "metadata": {},
     "output_type": "display_data"
    }
   ],
   "source": [
    "df_age = df.query('year > 2014').pivot_table(index = 'age_restriction', values = 'box_office', aggfunc = sum).sort_values(by = 'box_office')\n",
    "df_age.plot.pie(y = 'box_office', figsize = (7, 7), title = 'Сумма сборов по возврастным ограничениям с 2015 по 2019')\n",
    "df_age['ratio'] = df_age['box_office'] / df_age.box_office.sum() * 100\n",
    "df_age"
   ]
  },
  {
   "cell_type": "markdown",
   "metadata": {},
   "source": [
    "Больше всего с 2015-ый по 2019-ый годы собрали фильмы с возврастным ограничением 16+ - 76 млрд или 32% от всех сборов, а меньше всего фильмы с ограничением 0+ всего 0.3%. Фильмы с ограничениями 6+ и 12+ имеют похожие сборы 24% и 26% соответственно. Фильмы с ограничением 18+ сорали 17.4% или 40 млрд. \n",
    "\n",
    "Такое распределение объясняется довольно логично. Фильмы 16+ самые популярные, так как именно это ограничение стараются получить все создатели \"взрослого\" контента, что бы не получить ограничения на показ, которые накладываются в случае с категорией 18+. По этой же причине фильмы 18+ имеют довольно небольшие сборы. Фильмы 6+ и 12+ относятся к тем категориям фильмов, которые можно показывать детям, которые уже могут и любят ходить в кинотеатры. Фильмы 0+ имеют небольшую целевую аудиторию в кинотеатрах и поэтому наименее популярны."
   ]
  },
  {
   "cell_type": "code",
   "execution_count": 46,
   "metadata": {
    "id": "jsSbEqfjgFya"
   },
   "outputs": [
    {
     "data": {
      "text/html": [
       "<div>\n",
       "<style scoped>\n",
       "    .dataframe tbody tr th:only-of-type {\n",
       "        vertical-align: middle;\n",
       "    }\n",
       "\n",
       "    .dataframe tbody tr th {\n",
       "        vertical-align: top;\n",
       "    }\n",
       "\n",
       "    .dataframe thead th {\n",
       "        text-align: right;\n",
       "    }\n",
       "</style>\n",
       "<table border=\"1\" class=\"dataframe\">\n",
       "  <thead>\n",
       "    <tr style=\"text-align: right;\">\n",
       "      <th></th>\n",
       "      <th>2015 sum</th>\n",
       "      <th>2015 %</th>\n",
       "      <th>2016 sum</th>\n",
       "      <th>2016 %</th>\n",
       "      <th>2017 sum</th>\n",
       "      <th>2017 %</th>\n",
       "      <th>2018 sum</th>\n",
       "      <th>2018 %</th>\n",
       "      <th>2019 sum</th>\n",
       "      <th>2019 %</th>\n",
       "    </tr>\n",
       "    <tr>\n",
       "      <th>age_restriction</th>\n",
       "      <th></th>\n",
       "      <th></th>\n",
       "      <th></th>\n",
       "      <th></th>\n",
       "      <th></th>\n",
       "      <th></th>\n",
       "      <th></th>\n",
       "      <th></th>\n",
       "      <th></th>\n",
       "      <th></th>\n",
       "    </tr>\n",
       "  </thead>\n",
       "  <tbody>\n",
       "    <tr>\n",
       "      <td>0+</td>\n",
       "      <td>379,054,578.4</td>\n",
       "      <td>1.0</td>\n",
       "      <td>150,228,848.7</td>\n",
       "      <td>0.3</td>\n",
       "      <td>229,598,930.0</td>\n",
       "      <td>0.5</td>\n",
       "      <td>32,449,002.1</td>\n",
       "      <td>0.1</td>\n",
       "      <td>17,746,066.8</td>\n",
       "      <td>0.0</td>\n",
       "    </tr>\n",
       "    <tr>\n",
       "      <td>12+</td>\n",
       "      <td>13,616,082,008.9</td>\n",
       "      <td>34.5</td>\n",
       "      <td>12,204,446,524.4</td>\n",
       "      <td>25.5</td>\n",
       "      <td>7,851,427,660.7</td>\n",
       "      <td>16.2</td>\n",
       "      <td>14,267,291,660.7</td>\n",
       "      <td>28.7</td>\n",
       "      <td>12,680,198,773.7</td>\n",
       "      <td>26.2</td>\n",
       "    </tr>\n",
       "    <tr>\n",
       "      <td>16+</td>\n",
       "      <td>11,368,120,870.3</td>\n",
       "      <td>28.8</td>\n",
       "      <td>16,664,548,541.7</td>\n",
       "      <td>34.8</td>\n",
       "      <td>18,745,042,900.1</td>\n",
       "      <td>38.6</td>\n",
       "      <td>16,503,602,347.0</td>\n",
       "      <td>33.2</td>\n",
       "      <td>12,753,418,984.6</td>\n",
       "      <td>26.3</td>\n",
       "    </tr>\n",
       "    <tr>\n",
       "      <td>18+</td>\n",
       "      <td>5,432,308,367.4</td>\n",
       "      <td>13.8</td>\n",
       "      <td>6,793,929,818.9</td>\n",
       "      <td>14.2</td>\n",
       "      <td>9,651,495,581.0</td>\n",
       "      <td>19.9</td>\n",
       "      <td>8,760,085,501.1</td>\n",
       "      <td>17.6</td>\n",
       "      <td>10,121,796,303.6</td>\n",
       "      <td>20.9</td>\n",
       "    </tr>\n",
       "    <tr>\n",
       "      <td>6+</td>\n",
       "      <td>8,701,799,371.4</td>\n",
       "      <td>22.0</td>\n",
       "      <td>12,053,146,008.2</td>\n",
       "      <td>25.2</td>\n",
       "      <td>12,086,142,145.8</td>\n",
       "      <td>24.9</td>\n",
       "      <td>10,104,974,623.4</td>\n",
       "      <td>20.3</td>\n",
       "      <td>12,852,548,650.9</td>\n",
       "      <td>26.5</td>\n",
       "    </tr>\n",
       "  </tbody>\n",
       "</table>\n",
       "</div>"
      ],
      "text/plain": [
       "                        2015 sum  2015 %         2016 sum  2016 %  \\\n",
       "age_restriction                                                     \n",
       "0+                 379,054,578.4     1.0    150,228,848.7     0.3   \n",
       "12+             13,616,082,008.9    34.5 12,204,446,524.4    25.5   \n",
       "16+             11,368,120,870.3    28.8 16,664,548,541.7    34.8   \n",
       "18+              5,432,308,367.4    13.8  6,793,929,818.9    14.2   \n",
       "6+               8,701,799,371.4    22.0 12,053,146,008.2    25.2   \n",
       "\n",
       "                        2017 sum  2017 %         2018 sum  2018 %  \\\n",
       "age_restriction                                                     \n",
       "0+                 229,598,930.0     0.5     32,449,002.1     0.1   \n",
       "12+              7,851,427,660.7    16.2 14,267,291,660.7    28.7   \n",
       "16+             18,745,042,900.1    38.6 16,503,602,347.0    33.2   \n",
       "18+              9,651,495,581.0    19.9  8,760,085,501.1    17.6   \n",
       "6+              12,086,142,145.8    24.9 10,104,974,623.4    20.3   \n",
       "\n",
       "                        2019 sum  2019 %  \n",
       "age_restriction                           \n",
       "0+                  17,746,066.8     0.0  \n",
       "12+             12,680,198,773.7    26.2  \n",
       "16+             12,753,418,984.6    26.3  \n",
       "18+             10,121,796,303.6    20.9  \n",
       "6+              12,852,548,650.9    26.5  "
      ]
     },
     "execution_count": 46,
     "metadata": {},
     "output_type": "execute_result"
    },
    {
     "data": {
      "image/png": "[encoded data removed]",
      "text/plain": [
       "<Figure size 720x360 with 1 Axes>"
      ]
     },
     "metadata": {
      "needs_background": "light"
     },
     "output_type": "display_data"
    }
   ],
   "source": [
    "df_age_year = df.query('year > 2014').pivot_table(index = 'age_restriction', columns = 'year', values = 'box_office', aggfunc = sum)\n",
    "df_age_year.T.plot.bar(stacked=True, figsize = (10, 5), title = 'Сумма сборов по годам и возрастным ограничениям')\n",
    "df_age_year.columns = ['2015 sum', '2016 sum', '2017 sum', '2018 sum', '2019 sum']\n",
    "\n",
    "for y in range(2015, 2020):\n",
    "    name1 = str(y) + ' %'\n",
    "    name2 = str(y) + ' sum'\n",
    "    df_age_year[name1] = df_age_year[name2] / df_age_year[name2].sum() * 100\n",
    "    \n",
    "df_age_year = df_age_year[['2015 sum', \n",
    "                           '2015 %', \n",
    "                           '2016 sum', \n",
    "                           '2016 %',\n",
    "                           '2017 sum', \n",
    "                           '2017 %',\n",
    "                           '2018 sum', \n",
    "                           '2018 %',\n",
    "                           '2019 sum', \n",
    "                           '2019 %']]\n",
    "df_age_year"
   ]
  },
  {
   "cell_type": "markdown",
   "metadata": {},
   "source": [
    "- Самой стабильной категорией оказалась категория 6+. С 2016-ого года сборы ни разу не падали ниже 10 млрд и они держатся на уровне 10 - 12 млрд на протяжении всех лет.\n",
    "- Сборы фильмов 18+ стабильно растут с 5 млрд в 2015-ом до 10 млрд в 2019-ом \n",
    "- Сборы фильмов 0+ наоброт, стабильно падают. С почти 400 млн в 2015-ом к 17 млн в 2019-ом\n",
    "- Фильмы категории 12+ имеют более менее стабильный показатель в 12 - 14 млрд в год, за исключением 2017-ого, где показатель составляет 7 млрд\n",
    "- Фильмы категории 16+ имели наибольшие сборы в период с 2016-ого по 2018-ый, при этом самый большой показатель из всей выборки почти 19 млрд эта категория показала в 2017-ом. Возможно мы имеем дело с сериалом по типу \"Мстителей\" или \"Пратов Карбиского Моря\" где один из фильмов получил другое возрастное ограничение, чем обычно"
   ]
  },
  {
   "cell_type": "markdown",
   "metadata": {},
   "source": [
    "#### Выводы"
   ]
  },
  {
   "cell_type": "markdown",
   "metadata": {},
   "source": [
    "- Больше всего прокатных удостоверений выдано в 2010-ом году, меньше всего в 2017-ом году\n",
    "- С 2014-ого года очевиден скачок качества данных о фильмах, больше половины прокатов в диапозоне с 2015-ого по 2019-ый год имеют полные данные, до 2015-ого года этот показатель менее 25%\n",
    "- Похоже на то, что где-то в течении 2014-ого года произошло изменение способа сбора информации и данные, которые указывались в тысячах рублей стали указываться просто в рублях\n",
    "- По среднему и медиане экономическую эффективность проката можно градировать так: \n",
    "\n",
    "1-ое место 2017-ый\n",
    "\n",
    "2-ое место 2018-ый\n",
    "\n",
    "3-е место 2016-ый и 2019-ый\n",
    "\n",
    "4-ое место 2015-ый\n",
    "- Максимальная сумма сборов наблюдалась в 2018-ом году 49.6 млрд, а минимальная в 2015-ом 39.5 млрд\n",
    "- Больше всего с 2015-ый по 2019-ый годы собрали фильмы с возврастным ограничением 16+ - 76 млрд или 32% от всех сборов, а меньше всего фильмы с ограничением 0+ всего 0.3%. Фильмы с ограничениями 6+ и 12+ имеют похожие сборы 24% и 26% соответственно. Фильмы с ограничением 18+ сорали 17.4% или 40 млрд. \n",
    "- Самой стабильной категорией оказалась категория 6+. С 2016-ого года сборы ни разу не падали ниже 10 млрд и они держатся на уровне 10 - 12 млрд на протяжении всех лет.\n",
    "- Сборы фильмов 18+ стабильно растут с 5 млрд в 2015-ом до 10 млрд в 2019-ом \n",
    "- Сборы фильмов 0+ наоброт, стабильно падают. С почти 400 млн в 2015-ом к 17 млн в 2019-ом\n",
    "- Фильмы категории 12+ имеют более менее стабильный показатель в 12 - 14 млрд в год, за исключением 2017-ого, где показатель составляет 7 млрд\n",
    "- Фильмы категории 16+ имели наибольшие сборы в период с 2016-ого по 2018-ый, при этом самый большой показатель из всей выборки почти 19 млрд эта категория показала в 2017-ом. Возможно мы имеем дело с сериалом по типу \"Мстителей\" или \"Пратов Карбиского Моря\" где один из фильмов получил другое возрастное ограничение, чем обычно"
   ]
  },
  {
   "cell_type": "markdown",
   "metadata": {
    "id": "l_Kg6Ku4gFya"
   },
   "source": [
    "### Шаг 4. Исследуйте фильмы, которые получили государственную поддержку\n",
    "\n",
    "На этом этапе нет конкретных инструкций и заданий — поищите интересные закономерности в данных. Посмотрите, сколько выделяют средств на поддержку кино. Проверьте, хорошо ли окупаются такие фильмы, какой у них рейтинг."
   ]
  },
  {
   "cell_type": "markdown",
   "metadata": {},
   "source": [
    "#### Дополнительная обработка данных"
   ]
  },
  {
   "cell_type": "markdown",
   "metadata": {},
   "source": [
    "Создадим выборку фильмов, которые будем исследовать"
   ]
  },
  {
   "cell_type": "code",
   "execution_count": 47,
   "metadata": {
    "id": "W9QKpjUdgFyb"
   },
   "outputs": [
    {
     "name": "stdout",
     "output_type": "stream",
     "text": [
      "<class 'pandas.core.frame.DataFrame'>\n",
      "Int64Index: 332 entries, 1281 to 7478\n",
      "Data columns (total 20 columns):\n",
      "title                    332 non-null object\n",
      "puNumber                 332 non-null object\n",
      "show_start_date          332 non-null datetime64[ns]\n",
      "type                     332 non-null object\n",
      "film_studio              332 non-null object\n",
      "production_country       332 non-null object\n",
      "director                 332 non-null object\n",
      "producer                 332 non-null object\n",
      "age_restriction          332 non-null object\n",
      "refundable_support       332 non-null float64\n",
      "nonrefundable_support    332 non-null float64\n",
      "budget                   332 non-null float64\n",
      "financing_source         332 non-null object\n",
      "ratings                  314 non-null float64\n",
      "genres                   332 non-null object\n",
      "box_office               318 non-null float64\n",
      "year                     332 non-null int64\n",
      "main_genre               332 non-null object\n",
      "main_director            332 non-null object\n",
      "support_ratio            332 non-null float64\n",
      "dtypes: datetime64[ns](1), float64(6), int64(1), object(12)\n",
      "memory usage: 54.5+ KB\n"
     ]
    }
   ],
   "source": [
    "df_mk = df.query('budget.notna()')\n",
    "df_mk.info()"
   ]
  },
  {
   "cell_type": "markdown",
   "metadata": {},
   "source": [
    "Начнем с исследования годов. Мы знаем, что в период с 2010 по 2014 данные скорее всего испорчены"
   ]
  },
  {
   "cell_type": "code",
   "execution_count": 48,
   "metadata": {},
   "outputs": [
    {
     "data": {
      "text/plain": [
       "2015    86\n",
       "2019    70\n",
       "2016    61\n",
       "2018    56\n",
       "2017    41\n",
       "2014    16\n",
       "2013     2\n",
       "Name: year, dtype: int64"
      ]
     },
     "execution_count": 48,
     "metadata": {},
     "output_type": "execute_result"
    }
   ],
   "source": [
    "df_mk.year.value_counts()"
   ]
  },
  {
   "cell_type": "markdown",
   "metadata": {},
   "source": [
    "Всего 18 фильмов. Избавимся от них и продолжим анализ"
   ]
  },
  {
   "cell_type": "code",
   "execution_count": 49,
   "metadata": {},
   "outputs": [],
   "source": [
    "df_mk = df_mk.query('year > 2014')"
   ]
  },
  {
   "cell_type": "markdown",
   "metadata": {},
   "source": [
    "В данном исследовании нас интересуют именно фильмы, а не проектные удостоверения. Посмотрим, есть ли в с списке дубликаты"
   ]
  },
  {
   "cell_type": "code",
   "execution_count": 50,
   "metadata": {},
   "outputs": [
    {
     "data": {
      "text/plain": [
       "Савва. Сердце воина              1\n",
       "Дикая Лига (авторская версия)    1\n",
       "Киноальманах \"Свидетели\"         1\n",
       "Притяжение (2016)                1\n",
       "Иван Царевич и Серый Волк 4      1\n",
       "                                ..\n",
       "ВСЯ НАША НАДЕЖДА...              1\n",
       "Команда мечты                    1\n",
       "ТЕНЬ                             1\n",
       "(Не)идеальный мужчина            1\n",
       "Ночные стражи                    1\n",
       "Name: title, Length: 314, dtype: int64"
      ]
     },
     "execution_count": 50,
     "metadata": {},
     "output_type": "execute_result"
    }
   ],
   "source": [
    "df_mk.title.value_counts()"
   ]
  },
  {
   "cell_type": "markdown",
   "metadata": {},
   "source": [
    "Дубликатов не обнаружено. Добавим столбцы с прибылью и рентабельностью и удалим лишнее"
   ]
  },
  {
   "cell_type": "code",
   "execution_count": 51,
   "metadata": {},
   "outputs": [
    {
     "data": {
      "text/html": [
       "<div>\n",
       "<style scoped>\n",
       "    .dataframe tbody tr th:only-of-type {\n",
       "        vertical-align: middle;\n",
       "    }\n",
       "\n",
       "    .dataframe tbody tr th {\n",
       "        vertical-align: top;\n",
       "    }\n",
       "\n",
       "    .dataframe thead th {\n",
       "        text-align: right;\n",
       "    }\n",
       "</style>\n",
       "<table border=\"1\" class=\"dataframe\">\n",
       "  <thead>\n",
       "    <tr style=\"text-align: right;\">\n",
       "      <th></th>\n",
       "      <th>title</th>\n",
       "      <th>type</th>\n",
       "      <th>film_studio</th>\n",
       "      <th>producer</th>\n",
       "      <th>age_restriction</th>\n",
       "      <th>refundable_support</th>\n",
       "      <th>nonrefundable_support</th>\n",
       "      <th>budget</th>\n",
       "      <th>financing_source</th>\n",
       "      <th>ratings</th>\n",
       "      <th>box_office</th>\n",
       "      <th>year</th>\n",
       "      <th>main_genre</th>\n",
       "      <th>main_director</th>\n",
       "      <th>support_ratio</th>\n",
       "      <th>profit</th>\n",
       "      <th>profit%</th>\n",
       "    </tr>\n",
       "  </thead>\n",
       "  <tbody>\n",
       "    <tr>\n",
       "      <td>1854</td>\n",
       "      <td>Тайна Сухаревой башни. Чародей равновесия</td>\n",
       "      <td>Анимационный</td>\n",
       "      <td>ООО \"Студия \"Мастер-Фильм\"</td>\n",
       "      <td>А.Герасимов</td>\n",
       "      <td>6+</td>\n",
       "      <td>0.0</td>\n",
       "      <td>25,000,000.0</td>\n",
       "      <td>51,850,000.0</td>\n",
       "      <td>Министерство культуры</td>\n",
       "      <td>6.1</td>\n",
       "      <td>15,078,858.6</td>\n",
       "      <td>2015</td>\n",
       "      <td>мультфильм</td>\n",
       "      <td>С.Серегин</td>\n",
       "      <td>48.2</td>\n",
       "      <td>-36,771,141.4</td>\n",
       "      <td>-243.9</td>\n",
       "    </tr>\n",
       "    <tr>\n",
       "      <td>1870</td>\n",
       "      <td>А зори здесь тихие..._</td>\n",
       "      <td>Художественный</td>\n",
       "      <td>ООО \"Компания \"Реал-Дакота\"</td>\n",
       "      <td>no_info</td>\n",
       "      <td>12+</td>\n",
       "      <td>50,000,000.0</td>\n",
       "      <td>100,000,000.0</td>\n",
       "      <td>220,588,394.0</td>\n",
       "      <td>Фонд кино</td>\n",
       "      <td>8.5</td>\n",
       "      <td>249,166,767.7</td>\n",
       "      <td>2015</td>\n",
       "      <td>драма</td>\n",
       "      <td>Р.Давлетьяров</td>\n",
       "      <td>68.0</td>\n",
       "      <td>28,578,373.7</td>\n",
       "      <td>11.5</td>\n",
       "    </tr>\n",
       "    <tr>\n",
       "      <td>1903</td>\n",
       "      <td>Призрак_.</td>\n",
       "      <td>Художественный</td>\n",
       "      <td>ООО \"Водород 2011\"</td>\n",
       "      <td>С.Сельянов</td>\n",
       "      <td>6+</td>\n",
       "      <td>0.0</td>\n",
       "      <td>75,000,000.0</td>\n",
       "      <td>139,551,503.0</td>\n",
       "      <td>Фонд кино</td>\n",
       "      <td>7.0</td>\n",
       "      <td>352,804,320.4</td>\n",
       "      <td>2015</td>\n",
       "      <td>триллер</td>\n",
       "      <td>А.Войтинский</td>\n",
       "      <td>53.7</td>\n",
       "      <td>213,252,817.4</td>\n",
       "      <td>60.4</td>\n",
       "    </tr>\n",
       "    <tr>\n",
       "      <td>1912</td>\n",
       "      <td>Ведьма .</td>\n",
       "      <td>Художественный</td>\n",
       "      <td>ООО \"Кинокомпания \"Ракурс\"</td>\n",
       "      <td>В.Сидоренко</td>\n",
       "      <td>16+</td>\n",
       "      <td>0.0</td>\n",
       "      <td>34,000,000.0</td>\n",
       "      <td>48,571,430.0</td>\n",
       "      <td>Министерство культуры</td>\n",
       "      <td>7.4</td>\n",
       "      <td>51,907.5</td>\n",
       "      <td>2015</td>\n",
       "      <td>фэнтези</td>\n",
       "      <td>Д.Федоров</td>\n",
       "      <td>70.0</td>\n",
       "      <td>-48,519,522.5</td>\n",
       "      <td>-93,473.0</td>\n",
       "    </tr>\n",
       "    <tr>\n",
       "      <td>2058</td>\n",
       "      <td>Дуxless 2</td>\n",
       "      <td>Художественный</td>\n",
       "      <td>ООО \"Киностудия \"Слово\", ООО \"Арт Пикчерс Студия\"</td>\n",
       "      <td>П.Ануров, Ф.Бондарчук, Д.Рудовский</td>\n",
       "      <td>16+</td>\n",
       "      <td>0.0</td>\n",
       "      <td>75,000,000.0</td>\n",
       "      <td>75,000,000.0</td>\n",
       "      <td>Фонд кино</td>\n",
       "      <td>6.6</td>\n",
       "      <td>446,163,511.0</td>\n",
       "      <td>2015</td>\n",
       "      <td>драма</td>\n",
       "      <td>Р.Прыгунов</td>\n",
       "      <td>100.0</td>\n",
       "      <td>371,163,511.0</td>\n",
       "      <td>83.2</td>\n",
       "    </tr>\n",
       "  </tbody>\n",
       "</table>\n",
       "</div>"
      ],
      "text/plain": [
       "                                          title            type  \\\n",
       "1854  Тайна Сухаревой башни. Чародей равновесия    Анимационный   \n",
       "1870                     А зори здесь тихие..._  Художественный   \n",
       "1903                                  Призрак_.  Художественный   \n",
       "1912                                   Ведьма .  Художественный   \n",
       "2058                                  Дуxless 2  Художественный   \n",
       "\n",
       "                                            film_studio  \\\n",
       "1854                        ООО \"Студия \"Мастер-Фильм\"    \n",
       "1870                        ООО \"Компания \"Реал-Дакота\"   \n",
       "1903                                 ООО \"Водород 2011\"   \n",
       "1912                         ООО \"Кинокомпания \"Ракурс\"   \n",
       "2058  ООО \"Киностудия \"Слово\", ООО \"Арт Пикчерс Студия\"   \n",
       "\n",
       "                                producer age_restriction  refundable_support  \\\n",
       "1854                         А.Герасимов              6+                 0.0   \n",
       "1870                             no_info             12+        50,000,000.0   \n",
       "1903                          С.Сельянов              6+                 0.0   \n",
       "1912                         В.Сидоренко             16+                 0.0   \n",
       "2058  П.Ануров, Ф.Бондарчук, Д.Рудовский             16+                 0.0   \n",
       "\n",
       "      nonrefundable_support        budget       financing_source  ratings  \\\n",
       "1854           25,000,000.0  51,850,000.0  Министерство культуры      6.1   \n",
       "1870          100,000,000.0 220,588,394.0              Фонд кино      8.5   \n",
       "1903           75,000,000.0 139,551,503.0              Фонд кино      7.0   \n",
       "1912           34,000,000.0  48,571,430.0  Министерство культуры      7.4   \n",
       "2058           75,000,000.0  75,000,000.0              Фонд кино      6.6   \n",
       "\n",
       "        box_office  year  main_genre  main_director  support_ratio  \\\n",
       "1854  15,078,858.6  2015  мультфильм      С.Серегин           48.2   \n",
       "1870 249,166,767.7  2015       драма  Р.Давлетьяров           68.0   \n",
       "1903 352,804,320.4  2015     триллер   А.Войтинский           53.7   \n",
       "1912      51,907.5  2015     фэнтези      Д.Федоров           70.0   \n",
       "2058 446,163,511.0  2015       драма     Р.Прыгунов          100.0   \n",
       "\n",
       "            profit   profit%  \n",
       "1854 -36,771,141.4    -243.9  \n",
       "1870  28,578,373.7      11.5  \n",
       "1903 213,252,817.4      60.4  \n",
       "1912 -48,519,522.5 -93,473.0  \n",
       "2058 371,163,511.0      83.2  "
      ]
     },
     "execution_count": 51,
     "metadata": {},
     "output_type": "execute_result"
    }
   ],
   "source": [
    "df_mk['profit'] = df_mk['box_office'] - df_mk['budget']\n",
    "df_mk['profit%'] = df_mk['profit'] / df_mk['box_office'] * 100\n",
    "df_mk = df_mk.drop(columns = ['puNumber', 'show_start_date', 'genres', 'director', 'production_country'])\n",
    "df_mk.head(5)"
   ]
  },
  {
   "cell_type": "markdown",
   "metadata": {},
   "source": [
    "#### Исследовательский анализ"
   ]
  },
  {
   "cell_type": "markdown",
   "metadata": {},
   "source": [
    "С точки зрения эффективности фильмов, нас могут интересовать следующие показатели: \n",
    "- Сумма выручка (сборы)\n",
    "- Сумма расходов (бюджет)\n",
    "- Сумма прибыли\n",
    "- Средний рейтинг\n",
    "- Количество фильмов"
   ]
  },
  {
   "cell_type": "code",
   "execution_count": 52,
   "metadata": {},
   "outputs": [
    {
     "data": {
      "text/html": [
       "<div>\n",
       "<style scoped>\n",
       "    .dataframe tbody tr th:only-of-type {\n",
       "        vertical-align: middle;\n",
       "    }\n",
       "\n",
       "    .dataframe tbody tr th {\n",
       "        vertical-align: top;\n",
       "    }\n",
       "\n",
       "    .dataframe thead th {\n",
       "        text-align: right;\n",
       "    }\n",
       "</style>\n",
       "<table border=\"1\" class=\"dataframe\">\n",
       "  <thead>\n",
       "    <tr style=\"text-align: right;\">\n",
       "      <th></th>\n",
       "      <th>box_office</th>\n",
       "      <th>budget</th>\n",
       "      <th>profit</th>\n",
       "      <th>ratings</th>\n",
       "      <th>title</th>\n",
       "    </tr>\n",
       "    <tr>\n",
       "      <th>year</th>\n",
       "      <th></th>\n",
       "      <th></th>\n",
       "      <th></th>\n",
       "      <th></th>\n",
       "      <th></th>\n",
       "    </tr>\n",
       "  </thead>\n",
       "  <tbody>\n",
       "    <tr>\n",
       "      <td>2015</td>\n",
       "      <td>5,785,285,418.1</td>\n",
       "      <td>7,738,669,207.0</td>\n",
       "      <td>-1,911,384,804.9</td>\n",
       "      <td>6.1</td>\n",
       "      <td>86</td>\n",
       "    </tr>\n",
       "    <tr>\n",
       "      <td>2016</td>\n",
       "      <td>6,081,707,839.1</td>\n",
       "      <td>7,554,942,748.0</td>\n",
       "      <td>-1,454,528,828.9</td>\n",
       "      <td>5.7</td>\n",
       "      <td>61</td>\n",
       "    </tr>\n",
       "    <tr>\n",
       "      <td>2017</td>\n",
       "      <td>10,865,075,301.0</td>\n",
       "      <td>7,057,172,568.0</td>\n",
       "      <td>3,913,502,733.0</td>\n",
       "      <td>6.0</td>\n",
       "      <td>41</td>\n",
       "    </tr>\n",
       "    <tr>\n",
       "      <td>2018</td>\n",
       "      <td>9,934,069,010.2</td>\n",
       "      <td>7,000,664,099.0</td>\n",
       "      <td>2,933,404,911.3</td>\n",
       "      <td>6.0</td>\n",
       "      <td>56</td>\n",
       "    </tr>\n",
       "    <tr>\n",
       "      <td>2019</td>\n",
       "      <td>8,409,627,454.6</td>\n",
       "      <td>12,722,866,609.0</td>\n",
       "      <td>-2,825,446,437.4</td>\n",
       "      <td>6.2</td>\n",
       "      <td>70</td>\n",
       "    </tr>\n",
       "    <tr>\n",
       "      <td>TOTAL</td>\n",
       "      <td>39,592,908,318.4</td>\n",
       "      <td>39,368,700,974.0</td>\n",
       "      <td>224,207,344.4</td>\n",
       "      <td>6.0</td>\n",
       "      <td>284</td>\n",
       "    </tr>\n",
       "  </tbody>\n",
       "</table>\n",
       "</div>"
      ],
      "text/plain": [
       "            box_office           budget           profit  ratings  title\n",
       "year                                                                    \n",
       "2015   5,785,285,418.1  7,738,669,207.0 -1,911,384,804.9      6.1     86\n",
       "2016   6,081,707,839.1  7,554,942,748.0 -1,454,528,828.9      5.7     61\n",
       "2017  10,865,075,301.0  7,057,172,568.0  3,913,502,733.0      6.0     41\n",
       "2018   9,934,069,010.2  7,000,664,099.0  2,933,404,911.3      6.0     56\n",
       "2019   8,409,627,454.6 12,722,866,609.0 -2,825,446,437.4      6.2     70\n",
       "TOTAL 39,592,908,318.4 39,368,700,974.0    224,207,344.4      6.0    284"
      ]
     },
     "execution_count": 52,
     "metadata": {},
     "output_type": "execute_result"
    }
   ],
   "source": [
    "df_mk.pivot_table(index = 'year',\n",
    "                  values = ['box_office', 'budget', 'profit', 'ratings', 'title'],\n",
    "                  margins = True,\n",
    "                  margins_name = 'TOTAL',\n",
    "                  aggfunc = {\n",
    "                      'box_office': sum,\n",
    "                      'budget': sum,\n",
    "                      'profit': sum,\n",
    "                      'ratings': 'mean',\n",
    "                      'title': 'count'\n",
    "                  })"
   ]
  },
  {
   "cell_type": "markdown",
   "metadata": {},
   "source": [
    "Как видно из таблицы, только 2017-ый, 2018-ый и 2018-ый года показали прибыль, остальные уботочны. При этом за весь рассматриваемый период показал финансовый результат близкий к нулю, рентабельность ниже 1%. Средний рейтинг фильмов держится на уровне 6 из 10 за весь период. Больше всего фильмов было поддержано в 2015-ом году, в этот же год наблюдается наибольший убыток, меньше всего в 2017-ом и в этот же год наблюдается наибольшая прибыль.\n",
    "\n",
    "Посмотрим на эффективность с точки зрения источников государственного финансирования"
   ]
  },
  {
   "cell_type": "code",
   "execution_count": 53,
   "metadata": {},
   "outputs": [
    {
     "data": {
      "text/html": [
       "<div>\n",
       "<style scoped>\n",
       "    .dataframe tbody tr th:only-of-type {\n",
       "        vertical-align: middle;\n",
       "    }\n",
       "\n",
       "    .dataframe tbody tr th {\n",
       "        vertical-align: top;\n",
       "    }\n",
       "\n",
       "    .dataframe thead th {\n",
       "        text-align: right;\n",
       "    }\n",
       "</style>\n",
       "<table border=\"1\" class=\"dataframe\">\n",
       "  <thead>\n",
       "    <tr style=\"text-align: right;\">\n",
       "      <th></th>\n",
       "      <th>box_office</th>\n",
       "      <th>budget</th>\n",
       "      <th>profit</th>\n",
       "      <th>ratings</th>\n",
       "      <th>title</th>\n",
       "    </tr>\n",
       "    <tr>\n",
       "      <th>financing_source</th>\n",
       "      <th></th>\n",
       "      <th></th>\n",
       "      <th></th>\n",
       "      <th></th>\n",
       "      <th></th>\n",
       "    </tr>\n",
       "  </thead>\n",
       "  <tbody>\n",
       "    <tr>\n",
       "      <td>Министерство культуры</td>\n",
       "      <td>5,311,155,868.1</td>\n",
       "      <td>11,040,693,528.0</td>\n",
       "      <td>-5,169,587,380.9</td>\n",
       "      <td>6.1</td>\n",
       "      <td>155</td>\n",
       "    </tr>\n",
       "    <tr>\n",
       "      <td>Министерство культуры, Фонд кино</td>\n",
       "      <td>702,253,121.6</td>\n",
       "      <td>2,272,810,650.0</td>\n",
       "      <td>-1,570,557,528.4</td>\n",
       "      <td>6.4</td>\n",
       "      <td>19</td>\n",
       "    </tr>\n",
       "    <tr>\n",
       "      <td>Фонд кино</td>\n",
       "      <td>35,062,356,033.4</td>\n",
       "      <td>28,760,811,053.0</td>\n",
       "      <td>7,395,692,482.4</td>\n",
       "      <td>5.8</td>\n",
       "      <td>140</td>\n",
       "    </tr>\n",
       "    <tr>\n",
       "      <td>TOTAL</td>\n",
       "      <td>39,592,908,318.4</td>\n",
       "      <td>39,368,700,974.0</td>\n",
       "      <td>224,207,344.4</td>\n",
       "      <td>6.0</td>\n",
       "      <td>284</td>\n",
       "    </tr>\n",
       "  </tbody>\n",
       "</table>\n",
       "</div>"
      ],
      "text/plain": [
       "                                       box_office           budget  \\\n",
       "financing_source                                                     \n",
       "Министерство культуры             5,311,155,868.1 11,040,693,528.0   \n",
       "Министерство культуры, Фонд кино    702,253,121.6  2,272,810,650.0   \n",
       "Фонд кино                        35,062,356,033.4 28,760,811,053.0   \n",
       "TOTAL                            39,592,908,318.4 39,368,700,974.0   \n",
       "\n",
       "                                           profit  ratings  title  \n",
       "financing_source                                                   \n",
       "Министерство культуры            -5,169,587,380.9      6.1    155  \n",
       "Министерство культуры, Фонд кино -1,570,557,528.4      6.4     19  \n",
       "Фонд кино                         7,395,692,482.4      5.8    140  \n",
       "TOTAL                               224,207,344.4      6.0    284  "
      ]
     },
     "execution_count": 53,
     "metadata": {},
     "output_type": "execute_result"
    }
   ],
   "source": [
    "df_mk.pivot_table(index = 'financing_source',\n",
    "                  values = ['box_office', 'budget', 'profit', 'ratings', 'title'],\n",
    "                  margins = True,\n",
    "                  margins_name = 'TOTAL',\n",
    "                  aggfunc = {\n",
    "                      'box_office': sum,\n",
    "                      'budget': sum,\n",
    "                      'profit': sum,\n",
    "                      'ratings': 'mean',\n",
    "                      'title': 'count'\n",
    "                  })"
   ]
  },
  {
   "cell_type": "markdown",
   "metadata": {},
   "source": [
    "Фонд кино и Министерство культуры дотировали примерно одинаковое количество фильмов в период с 2015-ог по 2019-ый годы. При этом фильмы, получившие поддержку от Министерства культуры имеют чуть более высокий средний рейтинг - 6.1, при этом они сильно убыточны - сборы 5 млрд против 11 млрд бюджета (расходов). \n",
    "\n",
    "Фильмы поддержанные Фонодом кино имеют средний рейтинг 5.8, при этом их экономическая эффективность сильно выше. Такие фильмы заработали за все время 7.4 млрд прибыли, это 21% от общей суммы всех сборов.\n",
    "\n",
    "Составим топ-10 список наиболее успешных фильмов по показателям прибыли и среднего рейтинга фильма"
   ]
  },
  {
   "cell_type": "code",
   "execution_count": 54,
   "metadata": {},
   "outputs": [
    {
     "name": "stdout",
     "output_type": "stream",
     "text": [
      "Топ-10 фильмов по прибыли\n"
     ]
    },
    {
     "data": {
      "text/html": [
       "<div>\n",
       "<style scoped>\n",
       "    .dataframe tbody tr th:only-of-type {\n",
       "        vertical-align: middle;\n",
       "    }\n",
       "\n",
       "    .dataframe tbody tr th {\n",
       "        vertical-align: top;\n",
       "    }\n",
       "\n",
       "    .dataframe thead th {\n",
       "        text-align: right;\n",
       "    }\n",
       "</style>\n",
       "<table border=\"1\" class=\"dataframe\">\n",
       "  <thead>\n",
       "    <tr style=\"text-align: right;\">\n",
       "      <th></th>\n",
       "      <th>title</th>\n",
       "      <th>type</th>\n",
       "      <th>film_studio</th>\n",
       "      <th>producer</th>\n",
       "      <th>age_restriction</th>\n",
       "      <th>refundable_support</th>\n",
       "      <th>nonrefundable_support</th>\n",
       "      <th>budget</th>\n",
       "      <th>financing_source</th>\n",
       "      <th>ratings</th>\n",
       "      <th>box_office</th>\n",
       "      <th>year</th>\n",
       "      <th>main_genre</th>\n",
       "      <th>main_director</th>\n",
       "      <th>support_ratio</th>\n",
       "      <th>profit</th>\n",
       "      <th>profit%</th>\n",
       "    </tr>\n",
       "  </thead>\n",
       "  <tbody>\n",
       "    <tr>\n",
       "      <td>7456</td>\n",
       "      <td>Холоп</td>\n",
       "      <td>Художественный</td>\n",
       "      <td>ООО \"МЕМ-МЕДИА\" по заказу АО \"ВБД Груп\"</td>\n",
       "      <td>Э.Илоян, Д.Жалинский, В.Дусмухаметов, Т.Бадзие...</td>\n",
       "      <td>12+</td>\n",
       "      <td>25,000,000.0</td>\n",
       "      <td>35,000,000.0</td>\n",
       "      <td>160,000,000.0</td>\n",
       "      <td>Фонд кино</td>\n",
       "      <td>6.8</td>\n",
       "      <td>3,073,568,690.8</td>\n",
       "      <td>2019</td>\n",
       "      <td>комедия</td>\n",
       "      <td>К.Шипенко</td>\n",
       "      <td>37.5</td>\n",
       "      <td>2,913,568,690.8</td>\n",
       "      <td>94.8</td>\n",
       "    </tr>\n",
       "    <tr>\n",
       "      <td>5653</td>\n",
       "      <td>Движение вверх</td>\n",
       "      <td>Художественный</td>\n",
       "      <td>ООО \"Студия \"ТРИТЭ\" Никиты Михалкова\"</td>\n",
       "      <td>Л.Верещагин, А.Златопольский, Н.Михалков, ООО ...</td>\n",
       "      <td>6+</td>\n",
       "      <td>0.0</td>\n",
       "      <td>400,000,000.0</td>\n",
       "      <td>590,192,191.0</td>\n",
       "      <td>Фонд кино</td>\n",
       "      <td>7.5</td>\n",
       "      <td>2,779,686,144.0</td>\n",
       "      <td>2017</td>\n",
       "      <td>спорт</td>\n",
       "      <td>А.Мегердичев</td>\n",
       "      <td>67.8</td>\n",
       "      <td>2,189,493,953.0</td>\n",
       "      <td>78.8</td>\n",
       "    </tr>\n",
       "    <tr>\n",
       "      <td>6549</td>\n",
       "      <td>Т-34</td>\n",
       "      <td>Художественный</td>\n",
       "      <td>ООО \"Кинокомпания МАРС-фильм\" по заказу ООО \"М...</td>\n",
       "      <td>А.Златопольский, Р.Дишдишян, Л.Блаватник, Н.Яр...</td>\n",
       "      <td>12+</td>\n",
       "      <td>60,000,000.0</td>\n",
       "      <td>120,000,000.0</td>\n",
       "      <td>563,784,717.0</td>\n",
       "      <td>Фонд кино</td>\n",
       "      <td>6.5</td>\n",
       "      <td>2,271,754,004.5</td>\n",
       "      <td>2018</td>\n",
       "      <td>драма</td>\n",
       "      <td>А.Сидоров</td>\n",
       "      <td>31.9</td>\n",
       "      <td>1,707,969,287.5</td>\n",
       "      <td>75.2</td>\n",
       "    </tr>\n",
       "    <tr>\n",
       "      <td>5505</td>\n",
       "      <td>Последний богатырь</td>\n",
       "      <td>Художественный</td>\n",
       "      <td>ООО \"Киностудия \"Слово\" по заказу ООО \"Уолт Ди...</td>\n",
       "      <td>Э.Илоян, Д.Жалинский, М.Озкан, А.Троцюк, В.Шляппо</td>\n",
       "      <td>12+</td>\n",
       "      <td>50,000,000.0</td>\n",
       "      <td>50,000,000.0</td>\n",
       "      <td>352,477,575.0</td>\n",
       "      <td>Фонд кино</td>\n",
       "      <td>6.8</td>\n",
       "      <td>1,655,037,688.0</td>\n",
       "      <td>2017</td>\n",
       "      <td>комедия</td>\n",
       "      <td>Д.Дьяченко</td>\n",
       "      <td>28.4</td>\n",
       "      <td>1,302,560,113.0</td>\n",
       "      <td>78.7</td>\n",
       "    </tr>\n",
       "    <tr>\n",
       "      <td>5708</td>\n",
       "      <td>Лёд</td>\n",
       "      <td>Художественный</td>\n",
       "      <td>ООО \"Водород 2011\", ООО \"Арт Пикчерс Студия\", ...</td>\n",
       "      <td>М.Врубель, А.Андрющенко, Ф.Бондарчук, Д.Рудовс...</td>\n",
       "      <td>12+</td>\n",
       "      <td>25,000,000.0</td>\n",
       "      <td>60,000,000.0</td>\n",
       "      <td>148,585,222.0</td>\n",
       "      <td>Фонд кино</td>\n",
       "      <td>nan</td>\n",
       "      <td>1,445,731,797.9</td>\n",
       "      <td>2018</td>\n",
       "      <td>no_info</td>\n",
       "      <td>О.Трофим</td>\n",
       "      <td>57.2</td>\n",
       "      <td>1,297,146,575.9</td>\n",
       "      <td>89.7</td>\n",
       "    </tr>\n",
       "    <tr>\n",
       "      <td>3565</td>\n",
       "      <td>Притяжение (2016)</td>\n",
       "      <td>Художественный</td>\n",
       "      <td>ООО \"Водород 2011\",  ООО \"Арт Пикчерс Студия\"</td>\n",
       "      <td>ООО \"Арт Пикчерс Студия\"</td>\n",
       "      <td>12+</td>\n",
       "      <td>0.0</td>\n",
       "      <td>250,000,000.0</td>\n",
       "      <td>250,000,000.0</td>\n",
       "      <td>Фонд кино</td>\n",
       "      <td>5.6</td>\n",
       "      <td>1,038,321,489.0</td>\n",
       "      <td>2016</td>\n",
       "      <td>фантастика</td>\n",
       "      <td>Ф.Бондарчук</td>\n",
       "      <td>100.0</td>\n",
       "      <td>788,321,489.0</td>\n",
       "      <td>75.9</td>\n",
       "    </tr>\n",
       "    <tr>\n",
       "      <td>2920</td>\n",
       "      <td>Экипаж .</td>\n",
       "      <td>Художественный</td>\n",
       "      <td>ООО \"Студия \"ТРИТЭ\" Никиты Михалкова\"</td>\n",
       "      <td>Л.Верещагин, А.Златопольский, Н.Михалков, ООО ...</td>\n",
       "      <td>6+</td>\n",
       "      <td>50,000,000.0</td>\n",
       "      <td>392,104,482.0</td>\n",
       "      <td>635,283,867.0</td>\n",
       "      <td>Фонд кино</td>\n",
       "      <td>7.6</td>\n",
       "      <td>1,402,255,390.0</td>\n",
       "      <td>2016</td>\n",
       "      <td>драма</td>\n",
       "      <td>Н.Лебедев</td>\n",
       "      <td>69.6</td>\n",
       "      <td>766,971,523.0</td>\n",
       "      <td>54.7</td>\n",
       "    </tr>\n",
       "    <tr>\n",
       "      <td>5641</td>\n",
       "      <td>Ёлки Новые</td>\n",
       "      <td>Художественный</td>\n",
       "      <td>ООО \"ТаББаК\"</td>\n",
       "      <td>Т.Бекмамбетов, Г.Стрижевская</td>\n",
       "      <td>6+</td>\n",
       "      <td>50,000,000.0</td>\n",
       "      <td>50,000,000.0</td>\n",
       "      <td>174,381,922.0</td>\n",
       "      <td>Фонд кино</td>\n",
       "      <td>5.8</td>\n",
       "      <td>855,451,052.0</td>\n",
       "      <td>2017</td>\n",
       "      <td>комедия</td>\n",
       "      <td>Д.Киселев</td>\n",
       "      <td>57.3</td>\n",
       "      <td>681,069,130.0</td>\n",
       "      <td>79.6</td>\n",
       "    </tr>\n",
       "    <tr>\n",
       "      <td>5659</td>\n",
       "      <td>Три богатыря и принцесса Египта</td>\n",
       "      <td>Анимационный</td>\n",
       "      <td>ООО \"Студия анимационного кино \"Мельница\"</td>\n",
       "      <td>С.Сельянов, А.Боярский</td>\n",
       "      <td>6+</td>\n",
       "      <td>50,000,000.0</td>\n",
       "      <td>0.0</td>\n",
       "      <td>174,464,395.0</td>\n",
       "      <td>Фонд кино</td>\n",
       "      <td>5.5</td>\n",
       "      <td>759,226,773.0</td>\n",
       "      <td>2017</td>\n",
       "      <td>мультфильм</td>\n",
       "      <td>К.Феоктистов</td>\n",
       "      <td>28.7</td>\n",
       "      <td>584,762,378.0</td>\n",
       "      <td>77.0</td>\n",
       "    </tr>\n",
       "    <tr>\n",
       "      <td>2701</td>\n",
       "      <td>Самый Лучший День</td>\n",
       "      <td>Художественный</td>\n",
       "      <td>ООО \"ТаББаК\"</td>\n",
       "      <td>Т.Бекмамбетов, А.Першин (псевдоним Ж.Крыжовник...</td>\n",
       "      <td>16+</td>\n",
       "      <td>29,000,000.0</td>\n",
       "      <td>34,000,000.0</td>\n",
       "      <td>130,619,336.0</td>\n",
       "      <td>Фонд кино</td>\n",
       "      <td>4.7</td>\n",
       "      <td>683,029,061.4</td>\n",
       "      <td>2015</td>\n",
       "      <td>комедия</td>\n",
       "      <td>А.Першин (псевдоним Ж.Крыжовников)</td>\n",
       "      <td>48.2</td>\n",
       "      <td>552,409,725.4</td>\n",
       "      <td>80.9</td>\n",
       "    </tr>\n",
       "  </tbody>\n",
       "</table>\n",
       "</div>"
      ],
      "text/plain": [
       "                                title            type  \\\n",
       "7456                            Холоп  Художественный   \n",
       "5653                   Движение вверх  Художественный   \n",
       "6549                             Т-34  Художественный   \n",
       "5505               Последний богатырь  Художественный   \n",
       "5708                              Лёд  Художественный   \n",
       "3565                Притяжение (2016)  Художественный   \n",
       "2920                         Экипаж .  Художественный   \n",
       "5641                       Ёлки Новые  Художественный   \n",
       "5659  Три богатыря и принцесса Египта    Анимационный   \n",
       "2701                Самый Лучший День  Художественный   \n",
       "\n",
       "                                            film_studio  \\\n",
       "7456            ООО \"МЕМ-МЕДИА\" по заказу АО \"ВБД Груп\"   \n",
       "5653              ООО \"Студия \"ТРИТЭ\" Никиты Михалкова\"   \n",
       "6549  ООО \"Кинокомпания МАРС-фильм\" по заказу ООО \"М...   \n",
       "5505  ООО \"Киностудия \"Слово\" по заказу ООО \"Уолт Ди...   \n",
       "5708  ООО \"Водород 2011\", ООО \"Арт Пикчерс Студия\", ...   \n",
       "3565      ООО \"Водород 2011\",  ООО \"Арт Пикчерс Студия\"   \n",
       "2920              ООО \"Студия \"ТРИТЭ\" Никиты Михалкова\"   \n",
       "5641                                       ООО \"ТаББаК\"   \n",
       "5659          ООО \"Студия анимационного кино \"Мельница\"   \n",
       "2701                                       ООО \"ТаББаК\"   \n",
       "\n",
       "                                               producer age_restriction  \\\n",
       "7456  Э.Илоян, Д.Жалинский, В.Дусмухаметов, Т.Бадзие...             12+   \n",
       "5653  Л.Верещагин, А.Златопольский, Н.Михалков, ООО ...              6+   \n",
       "6549  А.Златопольский, Р.Дишдишян, Л.Блаватник, Н.Яр...             12+   \n",
       "5505  Э.Илоян, Д.Жалинский, М.Озкан, А.Троцюк, В.Шляппо             12+   \n",
       "5708  М.Врубель, А.Андрющенко, Ф.Бондарчук, Д.Рудовс...             12+   \n",
       "3565                           ООО \"Арт Пикчерс Студия\"             12+   \n",
       "2920  Л.Верещагин, А.Златопольский, Н.Михалков, ООО ...              6+   \n",
       "5641                       Т.Бекмамбетов, Г.Стрижевская              6+   \n",
       "5659                             С.Сельянов, А.Боярский              6+   \n",
       "2701  Т.Бекмамбетов, А.Першин (псевдоним Ж.Крыжовник...             16+   \n",
       "\n",
       "      refundable_support  nonrefundable_support        budget  \\\n",
       "7456        25,000,000.0           35,000,000.0 160,000,000.0   \n",
       "5653                 0.0          400,000,000.0 590,192,191.0   \n",
       "6549        60,000,000.0          120,000,000.0 563,784,717.0   \n",
       "5505        50,000,000.0           50,000,000.0 352,477,575.0   \n",
       "5708        25,000,000.0           60,000,000.0 148,585,222.0   \n",
       "3565                 0.0          250,000,000.0 250,000,000.0   \n",
       "2920        50,000,000.0          392,104,482.0 635,283,867.0   \n",
       "5641        50,000,000.0           50,000,000.0 174,381,922.0   \n",
       "5659        50,000,000.0                    0.0 174,464,395.0   \n",
       "2701        29,000,000.0           34,000,000.0 130,619,336.0   \n",
       "\n",
       "     financing_source  ratings      box_office  year  main_genre  \\\n",
       "7456        Фонд кино      6.8 3,073,568,690.8  2019     комедия   \n",
       "5653        Фонд кино      7.5 2,779,686,144.0  2017       спорт   \n",
       "6549        Фонд кино      6.5 2,271,754,004.5  2018       драма   \n",
       "5505        Фонд кино      6.8 1,655,037,688.0  2017     комедия   \n",
       "5708        Фонд кино      nan 1,445,731,797.9  2018     no_info   \n",
       "3565        Фонд кино      5.6 1,038,321,489.0  2016  фантастика   \n",
       "2920        Фонд кино      7.6 1,402,255,390.0  2016       драма   \n",
       "5641        Фонд кино      5.8   855,451,052.0  2017     комедия   \n",
       "5659        Фонд кино      5.5   759,226,773.0  2017  мультфильм   \n",
       "2701        Фонд кино      4.7   683,029,061.4  2015     комедия   \n",
       "\n",
       "                           main_director  support_ratio          profit  \\\n",
       "7456                           К.Шипенко           37.5 2,913,568,690.8   \n",
       "5653                        А.Мегердичев           67.8 2,189,493,953.0   \n",
       "6549                           А.Сидоров           31.9 1,707,969,287.5   \n",
       "5505                          Д.Дьяченко           28.4 1,302,560,113.0   \n",
       "5708                            О.Трофим           57.2 1,297,146,575.9   \n",
       "3565                         Ф.Бондарчук          100.0   788,321,489.0   \n",
       "2920                           Н.Лебедев           69.6   766,971,523.0   \n",
       "5641                           Д.Киселев           57.3   681,069,130.0   \n",
       "5659                        К.Феоктистов           28.7   584,762,378.0   \n",
       "2701  А.Першин (псевдоним Ж.Крыжовников)           48.2   552,409,725.4   \n",
       "\n",
       "      profit%  \n",
       "7456     94.8  \n",
       "5653     78.8  \n",
       "6549     75.2  \n",
       "5505     78.7  \n",
       "5708     89.7  \n",
       "3565     75.9  \n",
       "2920     54.7  \n",
       "5641     79.6  \n",
       "5659     77.0  \n",
       "2701     80.9  "
      ]
     },
     "metadata": {},
     "output_type": "display_data"
    },
    {
     "name": "stdout",
     "output_type": "stream",
     "text": [
      "Топ-10 фильмов по рейтингу\n"
     ]
    },
    {
     "data": {
      "text/html": [
       "<div>\n",
       "<style scoped>\n",
       "    .dataframe tbody tr th:only-of-type {\n",
       "        vertical-align: middle;\n",
       "    }\n",
       "\n",
       "    .dataframe tbody tr th {\n",
       "        vertical-align: top;\n",
       "    }\n",
       "\n",
       "    .dataframe thead th {\n",
       "        text-align: right;\n",
       "    }\n",
       "</style>\n",
       "<table border=\"1\" class=\"dataframe\">\n",
       "  <thead>\n",
       "    <tr style=\"text-align: right;\">\n",
       "      <th></th>\n",
       "      <th>title</th>\n",
       "      <th>type</th>\n",
       "      <th>film_studio</th>\n",
       "      <th>producer</th>\n",
       "      <th>age_restriction</th>\n",
       "      <th>refundable_support</th>\n",
       "      <th>nonrefundable_support</th>\n",
       "      <th>budget</th>\n",
       "      <th>financing_source</th>\n",
       "      <th>ratings</th>\n",
       "      <th>box_office</th>\n",
       "      <th>year</th>\n",
       "      <th>main_genre</th>\n",
       "      <th>main_director</th>\n",
       "      <th>support_ratio</th>\n",
       "      <th>profit</th>\n",
       "      <th>profit%</th>\n",
       "    </tr>\n",
       "  </thead>\n",
       "  <tbody>\n",
       "    <tr>\n",
       "      <td>3627</td>\n",
       "      <td>БОЛЬШОЙ</td>\n",
       "      <td>Художественный</td>\n",
       "      <td>ЗАО \"ПРОДЮСЕРСКАЯ КОМПАНИЯ ВАЛЕРИЯ ТОДОРОВСКОГО\"</td>\n",
       "      <td>В.Тодоровский, А.Златопольский</td>\n",
       "      <td>12+</td>\n",
       "      <td>10,000,000.0</td>\n",
       "      <td>200,000,000.0</td>\n",
       "      <td>320,000,000.0</td>\n",
       "      <td>Фонд кино</td>\n",
       "      <td>8.5</td>\n",
       "      <td>228,578,204.0</td>\n",
       "      <td>2016</td>\n",
       "      <td>криминал</td>\n",
       "      <td>В.Тодоровский</td>\n",
       "      <td>65.6</td>\n",
       "      <td>-91,421,796.0</td>\n",
       "      <td>-40.0</td>\n",
       "    </tr>\n",
       "    <tr>\n",
       "      <td>1870</td>\n",
       "      <td>А зори здесь тихие..._</td>\n",
       "      <td>Художественный</td>\n",
       "      <td>ООО \"Компания \"Реал-Дакота\"</td>\n",
       "      <td>no_info</td>\n",
       "      <td>12+</td>\n",
       "      <td>50,000,000.0</td>\n",
       "      <td>100,000,000.0</td>\n",
       "      <td>220,588,394.0</td>\n",
       "      <td>Фонд кино</td>\n",
       "      <td>8.5</td>\n",
       "      <td>249,166,767.7</td>\n",
       "      <td>2015</td>\n",
       "      <td>драма</td>\n",
       "      <td>Р.Давлетьяров</td>\n",
       "      <td>68.0</td>\n",
       "      <td>28,578,373.7</td>\n",
       "      <td>11.5</td>\n",
       "    </tr>\n",
       "    <tr>\n",
       "      <td>6855</td>\n",
       "      <td>Миллиард</td>\n",
       "      <td>Художественный</td>\n",
       "      <td>ООО \"Медиа Юниверсал Ивент\"</td>\n",
       "      <td>В.Маслов, В.Верещагин, Б.Анисимов</td>\n",
       "      <td>12+</td>\n",
       "      <td>0.0</td>\n",
       "      <td>140,000,000.0</td>\n",
       "      <td>240,041,307.0</td>\n",
       "      <td>Фонд кино</td>\n",
       "      <td>8.2</td>\n",
       "      <td>408,646,665.7</td>\n",
       "      <td>2019</td>\n",
       "      <td>драма</td>\n",
       "      <td>Р.Прыгунов</td>\n",
       "      <td>58.3</td>\n",
       "      <td>168,605,358.7</td>\n",
       "      <td>41.3</td>\n",
       "    </tr>\n",
       "    <tr>\n",
       "      <td>7180</td>\n",
       "      <td>Байкал - Сердце мира 3D</td>\n",
       "      <td>Документальный</td>\n",
       "      <td>ООО \"Продюсерский центр \"Новое Время\"</td>\n",
       "      <td>И.Добровольский, А.Разуваева, Ю.Перкуль</td>\n",
       "      <td>0+</td>\n",
       "      <td>0.0</td>\n",
       "      <td>3,000,000.0</td>\n",
       "      <td>33,000,000.0</td>\n",
       "      <td>Министерство культуры</td>\n",
       "      <td>8.0</td>\n",
       "      <td>nan</td>\n",
       "      <td>2019</td>\n",
       "      <td>семейный</td>\n",
       "      <td>А.Попова</td>\n",
       "      <td>9.1</td>\n",
       "      <td>nan</td>\n",
       "      <td>nan</td>\n",
       "    </tr>\n",
       "    <tr>\n",
       "      <td>3782</td>\n",
       "      <td>Мотылёк.</td>\n",
       "      <td>Художественный</td>\n",
       "      <td>ООО \"Кинокомпания КИТ\"</td>\n",
       "      <td>Е.Бабенко, В.Ремизов</td>\n",
       "      <td>18+</td>\n",
       "      <td>7,346,881.0</td>\n",
       "      <td>30,000,000.0</td>\n",
       "      <td>63,170,000.0</td>\n",
       "      <td>Министерство культуры, Фонд кино</td>\n",
       "      <td>8.0</td>\n",
       "      <td>410,058.0</td>\n",
       "      <td>2017</td>\n",
       "      <td>драма</td>\n",
       "      <td>К.Худяков</td>\n",
       "      <td>59.1</td>\n",
       "      <td>-62,759,942.0</td>\n",
       "      <td>-15,305.1</td>\n",
       "    </tr>\n",
       "    <tr>\n",
       "      <td>2482</td>\n",
       "      <td>Однажды._</td>\n",
       "      <td>Художественный</td>\n",
       "      <td>ООО \"Компания \"РЕАЛ-ДАКОТА\", НП \"Интерфест\"</td>\n",
       "      <td>Р.Давлетьяров, А.Котелевский</td>\n",
       "      <td>16+</td>\n",
       "      <td>0.0</td>\n",
       "      <td>97,000,000.0</td>\n",
       "      <td>156,360,666.0</td>\n",
       "      <td>Фонд кино</td>\n",
       "      <td>7.9</td>\n",
       "      <td>12,748,398.3</td>\n",
       "      <td>2015</td>\n",
       "      <td>драма</td>\n",
       "      <td>Р.Давлетьяров</td>\n",
       "      <td>62.0</td>\n",
       "      <td>-143,612,267.7</td>\n",
       "      <td>-1,126.5</td>\n",
       "    </tr>\n",
       "    <tr>\n",
       "      <td>7254</td>\n",
       "      <td>Герой</td>\n",
       "      <td>Художественный</td>\n",
       "      <td>ООО \"Карго\"</td>\n",
       "      <td>К.Оганисян</td>\n",
       "      <td>12+</td>\n",
       "      <td>20,000,000.0</td>\n",
       "      <td>100,000,000.0</td>\n",
       "      <td>250,000,000.0</td>\n",
       "      <td>Фонд кино</td>\n",
       "      <td>7.9</td>\n",
       "      <td>172,871,342.0</td>\n",
       "      <td>2019</td>\n",
       "      <td>фэнтези</td>\n",
       "      <td>К.Оганисян</td>\n",
       "      <td>48.0</td>\n",
       "      <td>-77,128,658.0</td>\n",
       "      <td>-44.6</td>\n",
       "    </tr>\n",
       "    <tr>\n",
       "      <td>3657</td>\n",
       "      <td>Простая история .</td>\n",
       "      <td>Художественный</td>\n",
       "      <td>ООО \"КИНОБЮРО\"</td>\n",
       "      <td>Ю.Бахшиев</td>\n",
       "      <td>16+</td>\n",
       "      <td>0.0</td>\n",
       "      <td>64,000,000.0</td>\n",
       "      <td>180,000,000.0</td>\n",
       "      <td>Фонд кино</td>\n",
       "      <td>7.8</td>\n",
       "      <td>58,720.0</td>\n",
       "      <td>2016</td>\n",
       "      <td>драма</td>\n",
       "      <td>В.Татарский</td>\n",
       "      <td>35.6</td>\n",
       "      <td>-179,941,280.0</td>\n",
       "      <td>-306,439.5</td>\n",
       "    </tr>\n",
       "    <tr>\n",
       "      <td>7322</td>\n",
       "      <td>Успех</td>\n",
       "      <td>Художественный</td>\n",
       "      <td>ООО \"Кинодом\"</td>\n",
       "      <td>С.Бобза, Г.Малков, В.Поляков, М.Кучмент</td>\n",
       "      <td>12+</td>\n",
       "      <td>5,000,000.0</td>\n",
       "      <td>20,000,000.0</td>\n",
       "      <td>75,000,000.0</td>\n",
       "      <td>Фонд кино</td>\n",
       "      <td>7.8</td>\n",
       "      <td>3,181,218.0</td>\n",
       "      <td>2019</td>\n",
       "      <td>драма</td>\n",
       "      <td>П.Руминов</td>\n",
       "      <td>33.3</td>\n",
       "      <td>-71,818,782.0</td>\n",
       "      <td>-2,257.6</td>\n",
       "    </tr>\n",
       "    <tr>\n",
       "      <td>2472</td>\n",
       "      <td>Воин (2015)</td>\n",
       "      <td>Художественный</td>\n",
       "      <td>ООО \"Форпост Продакшн\", ООО \"Арт Пикчерс Студия\"</td>\n",
       "      <td>ООО \"Арт Пикчерс Студия\"</td>\n",
       "      <td>12+</td>\n",
       "      <td>10,000,000.0</td>\n",
       "      <td>70,000,000.0</td>\n",
       "      <td>80,000,000.0</td>\n",
       "      <td>Фонд кино</td>\n",
       "      <td>7.8</td>\n",
       "      <td>196,572,438.4</td>\n",
       "      <td>2015</td>\n",
       "      <td>боевик</td>\n",
       "      <td>А.Андрианов</td>\n",
       "      <td>100.0</td>\n",
       "      <td>116,572,438.4</td>\n",
       "      <td>59.3</td>\n",
       "    </tr>\n",
       "  </tbody>\n",
       "</table>\n",
       "</div>"
      ],
      "text/plain": [
       "                        title            type  \\\n",
       "3627                  БОЛЬШОЙ  Художественный   \n",
       "1870   А зори здесь тихие..._  Художественный   \n",
       "6855                 Миллиард  Художественный   \n",
       "7180  Байкал - Сердце мира 3D  Документальный   \n",
       "3782                 Мотылёк.  Художественный   \n",
       "2482                Однажды._  Художественный   \n",
       "7254                    Герой  Художественный   \n",
       "3657        Простая история .  Художественный   \n",
       "7322                    Успех  Художественный   \n",
       "2472              Воин (2015)  Художественный   \n",
       "\n",
       "                                           film_studio  \\\n",
       "3627  ЗАО \"ПРОДЮСЕРСКАЯ КОМПАНИЯ ВАЛЕРИЯ ТОДОРОВСКОГО\"   \n",
       "1870                       ООО \"Компания \"Реал-Дакота\"   \n",
       "6855                       ООО \"Медиа Юниверсал Ивент\"   \n",
       "7180             ООО \"Продюсерский центр \"Новое Время\"   \n",
       "3782                            ООО \"Кинокомпания КИТ\"   \n",
       "2482       ООО \"Компания \"РЕАЛ-ДАКОТА\", НП \"Интерфест\"   \n",
       "7254                                       ООО \"Карго\"   \n",
       "3657                                    ООО \"КИНОБЮРО\"   \n",
       "7322                                     ООО \"Кинодом\"   \n",
       "2472  ООО \"Форпост Продакшн\", ООО \"Арт Пикчерс Студия\"   \n",
       "\n",
       "                                     producer age_restriction  \\\n",
       "3627           В.Тодоровский, А.Златопольский             12+   \n",
       "1870                                  no_info             12+   \n",
       "6855        В.Маслов, В.Верещагин, Б.Анисимов             12+   \n",
       "7180  И.Добровольский, А.Разуваева, Ю.Перкуль              0+   \n",
       "3782                     Е.Бабенко, В.Ремизов             18+   \n",
       "2482             Р.Давлетьяров, А.Котелевский             16+   \n",
       "7254                               К.Оганисян             12+   \n",
       "3657                                Ю.Бахшиев             16+   \n",
       "7322  С.Бобза, Г.Малков, В.Поляков, М.Кучмент             12+   \n",
       "2472                 ООО \"Арт Пикчерс Студия\"             12+   \n",
       "\n",
       "      refundable_support  nonrefundable_support        budget  \\\n",
       "3627        10,000,000.0          200,000,000.0 320,000,000.0   \n",
       "1870        50,000,000.0          100,000,000.0 220,588,394.0   \n",
       "6855                 0.0          140,000,000.0 240,041,307.0   \n",
       "7180                 0.0            3,000,000.0  33,000,000.0   \n",
       "3782         7,346,881.0           30,000,000.0  63,170,000.0   \n",
       "2482                 0.0           97,000,000.0 156,360,666.0   \n",
       "7254        20,000,000.0          100,000,000.0 250,000,000.0   \n",
       "3657                 0.0           64,000,000.0 180,000,000.0   \n",
       "7322         5,000,000.0           20,000,000.0  75,000,000.0   \n",
       "2472        10,000,000.0           70,000,000.0  80,000,000.0   \n",
       "\n",
       "                      financing_source  ratings    box_office  year  \\\n",
       "3627                         Фонд кино      8.5 228,578,204.0  2016   \n",
       "1870                         Фонд кино      8.5 249,166,767.7  2015   \n",
       "6855                         Фонд кино      8.2 408,646,665.7  2019   \n",
       "7180             Министерство культуры      8.0           nan  2019   \n",
       "3782  Министерство культуры, Фонд кино      8.0     410,058.0  2017   \n",
       "2482                         Фонд кино      7.9  12,748,398.3  2015   \n",
       "7254                         Фонд кино      7.9 172,871,342.0  2019   \n",
       "3657                         Фонд кино      7.8      58,720.0  2016   \n",
       "7322                         Фонд кино      7.8   3,181,218.0  2019   \n",
       "2472                         Фонд кино      7.8 196,572,438.4  2015   \n",
       "\n",
       "     main_genre  main_director  support_ratio         profit    profit%  \n",
       "3627   криминал  В.Тодоровский           65.6  -91,421,796.0      -40.0  \n",
       "1870      драма  Р.Давлетьяров           68.0   28,578,373.7       11.5  \n",
       "6855      драма     Р.Прыгунов           58.3  168,605,358.7       41.3  \n",
       "7180   семейный       А.Попова            9.1            nan        nan  \n",
       "3782      драма      К.Худяков           59.1  -62,759,942.0  -15,305.1  \n",
       "2482      драма  Р.Давлетьяров           62.0 -143,612,267.7   -1,126.5  \n",
       "7254    фэнтези     К.Оганисян           48.0  -77,128,658.0      -44.6  \n",
       "3657      драма    В.Татарский           35.6 -179,941,280.0 -306,439.5  \n",
       "7322      драма      П.Руминов           33.3  -71,818,782.0   -2,257.6  \n",
       "2472     боевик    А.Андрианов          100.0  116,572,438.4       59.3  "
      ]
     },
     "execution_count": 54,
     "metadata": {},
     "output_type": "execute_result"
    }
   ],
   "source": [
    "print('Топ-10 фильмов по прибыли')\n",
    "display(df_mk.sort_values(by = 'profit', ascending = False).head(10))\n",
    "print('Топ-10 фильмов по рейтингу')\n",
    "df_mk.sort_values(by = 'ratings', ascending = False).head(10)"
   ]
  },
  {
   "cell_type": "markdown",
   "metadata": {},
   "source": [
    "В обоих списках топ-3 фильмов поддержаны Фондом кино, как по прибыли, так и по рейтингу. Фильмов поддержанных Министерством культуры в списке топ-10 по прибыли нет в принципе, в списке топ-10 по рейтингу только один фильм поддержан Министерством культуры, а еще один имеет совместную поддержку.\n",
    "\n",
    "В топ-10 по прибыли чаще всего встречаются фильмы в комедийном жанре, в топ-10 по рейтинг - драмы. \n",
    "\n",
    "Исследуем данные на предмет корреляций."
   ]
  },
  {
   "cell_type": "code",
   "execution_count": 55,
   "metadata": {},
   "outputs": [
    {
     "data": {
      "text/html": [
       "<div>\n",
       "<style scoped>\n",
       "    .dataframe tbody tr th:only-of-type {\n",
       "        vertical-align: middle;\n",
       "    }\n",
       "\n",
       "    .dataframe tbody tr th {\n",
       "        vertical-align: top;\n",
       "    }\n",
       "\n",
       "    .dataframe thead th {\n",
       "        text-align: right;\n",
       "    }\n",
       "</style>\n",
       "<table border=\"1\" class=\"dataframe\">\n",
       "  <thead>\n",
       "    <tr style=\"text-align: right;\">\n",
       "      <th></th>\n",
       "      <th>budget</th>\n",
       "      <th>box_office</th>\n",
       "      <th>ratings</th>\n",
       "      <th>profit</th>\n",
       "    </tr>\n",
       "  </thead>\n",
       "  <tbody>\n",
       "    <tr>\n",
       "      <td>budget</td>\n",
       "      <td>1.0</td>\n",
       "      <td>0.4</td>\n",
       "      <td>0.1</td>\n",
       "      <td>-0.2</td>\n",
       "    </tr>\n",
       "    <tr>\n",
       "      <td>box_office</td>\n",
       "      <td>0.4</td>\n",
       "      <td>1.0</td>\n",
       "      <td>0.2</td>\n",
       "      <td>0.8</td>\n",
       "    </tr>\n",
       "    <tr>\n",
       "      <td>ratings</td>\n",
       "      <td>0.1</td>\n",
       "      <td>0.2</td>\n",
       "      <td>1.0</td>\n",
       "      <td>0.1</td>\n",
       "    </tr>\n",
       "    <tr>\n",
       "      <td>profit</td>\n",
       "      <td>-0.2</td>\n",
       "      <td>0.8</td>\n",
       "      <td>0.1</td>\n",
       "      <td>1.0</td>\n",
       "    </tr>\n",
       "  </tbody>\n",
       "</table>\n",
       "</div>"
      ],
      "text/plain": [
       "            budget  box_office  ratings  profit\n",
       "budget         1.0         0.4      0.1    -0.2\n",
       "box_office     0.4         1.0      0.2     0.8\n",
       "ratings        0.1         0.2      1.0     0.1\n",
       "profit        -0.2         0.8      0.1     1.0"
      ]
     },
     "metadata": {},
     "output_type": "display_data"
    },
    {
     "data": {
      "text/plain": [
       "array([[<matplotlib.axes._subplots.AxesSubplot object at 0x7f82e80ee8d0>,\n",
       "        <matplotlib.axes._subplots.AxesSubplot object at 0x7f82e80bc9d0>,\n",
       "        <matplotlib.axes._subplots.AxesSubplot object at 0x7f82e8073d50>,\n",
       "        <matplotlib.axes._subplots.AxesSubplot object at 0x7f82e8028a10>],\n",
       "       [<matplotlib.axes._subplots.AxesSubplot object at 0x7f82e7fe4d90>,\n",
       "        <matplotlib.axes._subplots.AxesSubplot object at 0x7f82e7f9ba50>,\n",
       "        <matplotlib.axes._subplots.AxesSubplot object at 0x7f82e7f57e50>,\n",
       "        <matplotlib.axes._subplots.AxesSubplot object at 0x7f82e7f0fa10>],\n",
       "       [<matplotlib.axes._subplots.AxesSubplot object at 0x7f82e7f19590>,\n",
       "        <matplotlib.axes._subplots.AxesSubplot object at 0x7f82e7ecef10>,\n",
       "        <matplotlib.axes._subplots.AxesSubplot object at 0x7f82e7e43dd0>,\n",
       "        <matplotlib.axes._subplots.AxesSubplot object at 0x7f82e7e7aa90>],\n",
       "       [<matplotlib.axes._subplots.AxesSubplot object at 0x7f82dfb98e10>,\n",
       "        <matplotlib.axes._subplots.AxesSubplot object at 0x7f82dfb4dad0>,\n",
       "        <matplotlib.axes._subplots.AxesSubplot object at 0x7f82dfb0de50>,\n",
       "        <matplotlib.axes._subplots.AxesSubplot object at 0x7f82dfac2b10>]],\n",
       "      dtype=object)"
      ]
     },
     "execution_count": 55,
     "metadata": {},
     "output_type": "execute_result"
    },
    {
     "data": {
      "image/png": "[encoded data removed]",
      "text/plain": [
       "<Figure size 648x648 with 16 Axes>"
      ]
     },
     "metadata": {
      "needs_background": "light"
     },
     "output_type": "display_data"
    }
   ],
   "source": [
    "display(df_mk[['budget', 'box_office', 'ratings', 'profit']].corr())\n",
    "pd.plotting.scatter_matrix(df_mk[['budget', 'box_office', 'ratings', 'profit']], figsize=(9, 9)) "
   ]
  },
  {
   "cell_type": "markdown",
   "metadata": {},
   "source": [
    "Значительной корреляции между данными не обнаружено. Для анализа важен факт того, что рейтинг никак не связан со сборами и прибылью фильма. Чем выше сборы, тем выше прибыль, это ожидамый вывод.\n",
    "\n",
    "Посмотрим на то, какой тип и жанр чаще всего встречается в выборке."
   ]
  },
  {
   "cell_type": "code",
   "execution_count": 56,
   "metadata": {},
   "outputs": [
    {
     "name": "stdout",
     "output_type": "stream",
     "text": [
      "Типы фильмов\n"
     ]
    },
    {
     "data": {
      "text/html": [
       "<div>\n",
       "<style scoped>\n",
       "    .dataframe tbody tr th:only-of-type {\n",
       "        vertical-align: middle;\n",
       "    }\n",
       "\n",
       "    .dataframe tbody tr th {\n",
       "        vertical-align: top;\n",
       "    }\n",
       "\n",
       "    .dataframe thead th {\n",
       "        text-align: right;\n",
       "    }\n",
       "</style>\n",
       "<table border=\"1\" class=\"dataframe\">\n",
       "  <thead>\n",
       "    <tr style=\"text-align: right;\">\n",
       "      <th></th>\n",
       "      <th>box_office</th>\n",
       "      <th>budget</th>\n",
       "      <th>profit</th>\n",
       "      <th>ratings</th>\n",
       "      <th>title</th>\n",
       "      <th>profit%</th>\n",
       "      <th>count_ratio</th>\n",
       "    </tr>\n",
       "    <tr>\n",
       "      <th>type</th>\n",
       "      <th></th>\n",
       "      <th></th>\n",
       "      <th></th>\n",
       "      <th></th>\n",
       "      <th></th>\n",
       "      <th></th>\n",
       "      <th></th>\n",
       "    </tr>\n",
       "  </thead>\n",
       "  <tbody>\n",
       "    <tr>\n",
       "      <td>Художественный</td>\n",
       "      <td>35,765,961,720.5</td>\n",
       "      <td>36,384,380,920.0</td>\n",
       "      <td>983,972,501.5</td>\n",
       "      <td>6.0</td>\n",
       "      <td>283</td>\n",
       "      <td>2.8</td>\n",
       "      <td>90.1</td>\n",
       "    </tr>\n",
       "    <tr>\n",
       "      <td>Анимационный</td>\n",
       "      <td>5,309,803,302.6</td>\n",
       "      <td>5,656,934,311.0</td>\n",
       "      <td>-328,424,928.4</td>\n",
       "      <td>5.7</td>\n",
       "      <td>30</td>\n",
       "      <td>-6.2</td>\n",
       "      <td>9.6</td>\n",
       "    </tr>\n",
       "    <tr>\n",
       "      <td>Документальный</td>\n",
       "      <td>0.0</td>\n",
       "      <td>33,000,000.0</td>\n",
       "      <td>0.0</td>\n",
       "      <td>8.0</td>\n",
       "      <td>1</td>\n",
       "      <td>nan</td>\n",
       "      <td>0.3</td>\n",
       "    </tr>\n",
       "  </tbody>\n",
       "</table>\n",
       "</div>"
      ],
      "text/plain": [
       "                     box_office           budget         profit  ratings  \\\n",
       "type                                                                       \n",
       "Художественный 35,765,961,720.5 36,384,380,920.0  983,972,501.5      6.0   \n",
       "Анимационный    5,309,803,302.6  5,656,934,311.0 -328,424,928.4      5.7   \n",
       "Документальный              0.0     33,000,000.0            0.0      8.0   \n",
       "\n",
       "                title  profit%  count_ratio  \n",
       "type                                         \n",
       "Художественный    283      2.8         90.1  \n",
       "Анимационный       30     -6.2          9.6  \n",
       "Документальный      1      nan          0.3  "
      ]
     },
     "metadata": {},
     "output_type": "display_data"
    },
    {
     "name": "stdout",
     "output_type": "stream",
     "text": [
      "\n",
      "Жанры фильмов\n"
     ]
    },
    {
     "data": {
      "text/html": [
       "<div>\n",
       "<style scoped>\n",
       "    .dataframe tbody tr th:only-of-type {\n",
       "        vertical-align: middle;\n",
       "    }\n",
       "\n",
       "    .dataframe tbody tr th {\n",
       "        vertical-align: top;\n",
       "    }\n",
       "\n",
       "    .dataframe thead th {\n",
       "        text-align: right;\n",
       "    }\n",
       "</style>\n",
       "<table border=\"1\" class=\"dataframe\">\n",
       "  <thead>\n",
       "    <tr style=\"text-align: right;\">\n",
       "      <th></th>\n",
       "      <th>box_office</th>\n",
       "      <th>budget</th>\n",
       "      <th>profit</th>\n",
       "      <th>ratings</th>\n",
       "      <th>title</th>\n",
       "      <th>profit%</th>\n",
       "      <th>count_ratio</th>\n",
       "    </tr>\n",
       "    <tr>\n",
       "      <th>main_genre</th>\n",
       "      <th></th>\n",
       "      <th></th>\n",
       "      <th></th>\n",
       "      <th></th>\n",
       "      <th></th>\n",
       "      <th></th>\n",
       "      <th></th>\n",
       "    </tr>\n",
       "  </thead>\n",
       "  <tbody>\n",
       "    <tr>\n",
       "      <td>драма</td>\n",
       "      <td>9,393,990,547.8</td>\n",
       "      <td>10,487,189,856.0</td>\n",
       "      <td>-796,165,159.2</td>\n",
       "      <td>6.4</td>\n",
       "      <td>85</td>\n",
       "      <td>-8.5</td>\n",
       "      <td>27.1</td>\n",
       "    </tr>\n",
       "    <tr>\n",
       "      <td>комедия</td>\n",
       "      <td>12,060,398,000.3</td>\n",
       "      <td>5,822,251,639.0</td>\n",
       "      <td>6,388,293,863.3</td>\n",
       "      <td>5.5</td>\n",
       "      <td>71</td>\n",
       "      <td>53.0</td>\n",
       "      <td>22.6</td>\n",
       "    </tr>\n",
       "    <tr>\n",
       "      <td>мультфильм</td>\n",
       "      <td>5,308,524,288.2</td>\n",
       "      <td>5,563,009,896.0</td>\n",
       "      <td>-235,779,527.8</td>\n",
       "      <td>5.8</td>\n",
       "      <td>30</td>\n",
       "      <td>-4.4</td>\n",
       "      <td>9.6</td>\n",
       "    </tr>\n",
       "    <tr>\n",
       "      <td>no_info</td>\n",
       "      <td>1,481,720,584.6</td>\n",
       "      <td>1,044,788,062.0</td>\n",
       "      <td>484,666,572.6</td>\n",
       "      <td>nan</td>\n",
       "      <td>15</td>\n",
       "      <td>32.7</td>\n",
       "      <td>4.8</td>\n",
       "    </tr>\n",
       "    <tr>\n",
       "      <td>триллер</td>\n",
       "      <td>700,450,190.1</td>\n",
       "      <td>1,350,960,940.0</td>\n",
       "      <td>-650,510,749.9</td>\n",
       "      <td>5.7</td>\n",
       "      <td>15</td>\n",
       "      <td>-92.9</td>\n",
       "      <td>4.8</td>\n",
       "    </tr>\n",
       "    <tr>\n",
       "      <td>мелодрама</td>\n",
       "      <td>44,000,699.1</td>\n",
       "      <td>881,745,834.0</td>\n",
       "      <td>-776,745,134.9</td>\n",
       "      <td>5.8</td>\n",
       "      <td>13</td>\n",
       "      <td>-1,765.3</td>\n",
       "      <td>4.1</td>\n",
       "    </tr>\n",
       "    <tr>\n",
       "      <td>фэнтези</td>\n",
       "      <td>995,836,608.0</td>\n",
       "      <td>2,340,123,765.0</td>\n",
       "      <td>-1,344,287,157.0</td>\n",
       "      <td>6.1</td>\n",
       "      <td>11</td>\n",
       "      <td>-135.0</td>\n",
       "      <td>3.5</td>\n",
       "    </tr>\n",
       "    <tr>\n",
       "      <td>ужасы</td>\n",
       "      <td>710,123,189.3</td>\n",
       "      <td>563,877,625.0</td>\n",
       "      <td>146,245,564.3</td>\n",
       "      <td>5.2</td>\n",
       "      <td>10</td>\n",
       "      <td>20.6</td>\n",
       "      <td>3.2</td>\n",
       "    </tr>\n",
       "    <tr>\n",
       "      <td>фантастика</td>\n",
       "      <td>1,674,669,432.3</td>\n",
       "      <td>2,372,224,643.0</td>\n",
       "      <td>246,444,789.3</td>\n",
       "      <td>5.7</td>\n",
       "      <td>10</td>\n",
       "      <td>14.7</td>\n",
       "      <td>3.2</td>\n",
       "    </tr>\n",
       "    <tr>\n",
       "      <td>военный</td>\n",
       "      <td>1,017,670,471.8</td>\n",
       "      <td>1,285,906,825.0</td>\n",
       "      <td>-268,236,353.2</td>\n",
       "      <td>6.5</td>\n",
       "      <td>9</td>\n",
       "      <td>-26.4</td>\n",
       "      <td>2.9</td>\n",
       "    </tr>\n",
       "    <tr>\n",
       "      <td>приключения</td>\n",
       "      <td>1,205,596,976.6</td>\n",
       "      <td>3,374,742,189.0</td>\n",
       "      <td>-2,111,269,212.4</td>\n",
       "      <td>5.9</td>\n",
       "      <td>7</td>\n",
       "      <td>-175.1</td>\n",
       "      <td>2.2</td>\n",
       "    </tr>\n",
       "    <tr>\n",
       "      <td>боевик</td>\n",
       "      <td>595,928,934.5</td>\n",
       "      <td>683,436,808.0</td>\n",
       "      <td>-87,507,873.5</td>\n",
       "      <td>6.6</td>\n",
       "      <td>6</td>\n",
       "      <td>-14.7</td>\n",
       "      <td>1.9</td>\n",
       "    </tr>\n",
       "    <tr>\n",
       "      <td>детектив</td>\n",
       "      <td>138,547,511.4</td>\n",
       "      <td>1,198,222,297.0</td>\n",
       "      <td>-1,059,674,785.6</td>\n",
       "      <td>6.8</td>\n",
       "      <td>5</td>\n",
       "      <td>-764.8</td>\n",
       "      <td>1.6</td>\n",
       "    </tr>\n",
       "    <tr>\n",
       "      <td>семейный</td>\n",
       "      <td>430,954,305.9</td>\n",
       "      <td>466,679,787.0</td>\n",
       "      <td>-2,725,481.2</td>\n",
       "      <td>5.8</td>\n",
       "      <td>5</td>\n",
       "      <td>-0.6</td>\n",
       "      <td>1.6</td>\n",
       "    </tr>\n",
       "    <tr>\n",
       "      <td>детский</td>\n",
       "      <td>3,013,652.0</td>\n",
       "      <td>183,898,004.0</td>\n",
       "      <td>-136,284,352.0</td>\n",
       "      <td>7.1</td>\n",
       "      <td>4</td>\n",
       "      <td>-4,522.2</td>\n",
       "      <td>1.3</td>\n",
       "    </tr>\n",
       "    <tr>\n",
       "      <td>история</td>\n",
       "      <td>1,455,468,234.6</td>\n",
       "      <td>2,145,062,206.0</td>\n",
       "      <td>-689,593,971.4</td>\n",
       "      <td>5.3</td>\n",
       "      <td>4</td>\n",
       "      <td>-47.4</td>\n",
       "      <td>1.3</td>\n",
       "    </tr>\n",
       "    <tr>\n",
       "      <td>мюзикл</td>\n",
       "      <td>101,705,005.0</td>\n",
       "      <td>564,197,472.0</td>\n",
       "      <td>-462,492,467.0</td>\n",
       "      <td>6.5</td>\n",
       "      <td>4</td>\n",
       "      <td>-454.7</td>\n",
       "      <td>1.3</td>\n",
       "    </tr>\n",
       "    <tr>\n",
       "      <td>криминал</td>\n",
       "      <td>239,793,863.0</td>\n",
       "      <td>426,594,781.0</td>\n",
       "      <td>-186,800,918.0</td>\n",
       "      <td>7.5</td>\n",
       "      <td>3</td>\n",
       "      <td>-77.9</td>\n",
       "      <td>1.0</td>\n",
       "    </tr>\n",
       "    <tr>\n",
       "      <td>биография</td>\n",
       "      <td>516,883,037.6</td>\n",
       "      <td>528,933,637.0</td>\n",
       "      <td>-12,050,599.4</td>\n",
       "      <td>6.9</td>\n",
       "      <td>3</td>\n",
       "      <td>-2.3</td>\n",
       "      <td>1.0</td>\n",
       "    </tr>\n",
       "    <tr>\n",
       "      <td>спорт</td>\n",
       "      <td>2,967,768,387.4</td>\n",
       "      <td>710,468,965.0</td>\n",
       "      <td>2,257,299,422.4</td>\n",
       "      <td>6.9</td>\n",
       "      <td>3</td>\n",
       "      <td>76.1</td>\n",
       "      <td>1.0</td>\n",
       "    </tr>\n",
       "    <tr>\n",
       "      <td>реальное ТВ</td>\n",
       "      <td>32,721,103.4</td>\n",
       "      <td>80,000,000.0</td>\n",
       "      <td>-47,278,896.6</td>\n",
       "      <td>5.6</td>\n",
       "      <td>1</td>\n",
       "      <td>-144.5</td>\n",
       "      <td>0.3</td>\n",
       "    </tr>\n",
       "  </tbody>\n",
       "</table>\n",
       "</div>"
      ],
      "text/plain": [
       "                  box_office           budget           profit  ratings  \\\n",
       "main_genre                                                                \n",
       "драма        9,393,990,547.8 10,487,189,856.0   -796,165,159.2      6.4   \n",
       "комедия     12,060,398,000.3  5,822,251,639.0  6,388,293,863.3      5.5   \n",
       "мультфильм   5,308,524,288.2  5,563,009,896.0   -235,779,527.8      5.8   \n",
       "no_info      1,481,720,584.6  1,044,788,062.0    484,666,572.6      nan   \n",
       "триллер        700,450,190.1  1,350,960,940.0   -650,510,749.9      5.7   \n",
       "мелодрама       44,000,699.1    881,745,834.0   -776,745,134.9      5.8   \n",
       "фэнтези        995,836,608.0  2,340,123,765.0 -1,344,287,157.0      6.1   \n",
       "ужасы          710,123,189.3    563,877,625.0    146,245,564.3      5.2   \n",
       "фантастика   1,674,669,432.3  2,372,224,643.0    246,444,789.3      5.7   \n",
       "военный      1,017,670,471.8  1,285,906,825.0   -268,236,353.2      6.5   \n",
       "приключения  1,205,596,976.6  3,374,742,189.0 -2,111,269,212.4      5.9   \n",
       "боевик         595,928,934.5    683,436,808.0    -87,507,873.5      6.6   \n",
       "детектив       138,547,511.4  1,198,222,297.0 -1,059,674,785.6      6.8   \n",
       "семейный       430,954,305.9    466,679,787.0     -2,725,481.2      5.8   \n",
       "детский          3,013,652.0    183,898,004.0   -136,284,352.0      7.1   \n",
       "история      1,455,468,234.6  2,145,062,206.0   -689,593,971.4      5.3   \n",
       "мюзикл         101,705,005.0    564,197,472.0   -462,492,467.0      6.5   \n",
       "криминал       239,793,863.0    426,594,781.0   -186,800,918.0      7.5   \n",
       "биография      516,883,037.6    528,933,637.0    -12,050,599.4      6.9   \n",
       "спорт        2,967,768,387.4    710,468,965.0  2,257,299,422.4      6.9   \n",
       "реальное ТВ     32,721,103.4     80,000,000.0    -47,278,896.6      5.6   \n",
       "\n",
       "             title  profit%  count_ratio  \n",
       "main_genre                                \n",
       "драма           85     -8.5         27.1  \n",
       "комедия         71     53.0         22.6  \n",
       "мультфильм      30     -4.4          9.6  \n",
       "no_info         15     32.7          4.8  \n",
       "триллер         15    -92.9          4.8  \n",
       "мелодрама       13 -1,765.3          4.1  \n",
       "фэнтези         11   -135.0          3.5  \n",
       "ужасы           10     20.6          3.2  \n",
       "фантастика      10     14.7          3.2  \n",
       "военный          9    -26.4          2.9  \n",
       "приключения      7   -175.1          2.2  \n",
       "боевик           6    -14.7          1.9  \n",
       "детектив         5   -764.8          1.6  \n",
       "семейный         5     -0.6          1.6  \n",
       "детский          4 -4,522.2          1.3  \n",
       "история          4    -47.4          1.3  \n",
       "мюзикл           4   -454.7          1.3  \n",
       "криминал         3    -77.9          1.0  \n",
       "биография        3     -2.3          1.0  \n",
       "спорт            3     76.1          1.0  \n",
       "реальное ТВ      1   -144.5          0.3  "
      ]
     },
     "execution_count": 56,
     "metadata": {},
     "output_type": "execute_result"
    }
   ],
   "source": [
    "print('Типы фильмов')\n",
    "\n",
    "df_type = df_mk.pivot_table(index = 'type', values = ['box_office', 'budget', 'profit', 'title', 'ratings'], aggfunc = {\n",
    "    'box_office': sum,\n",
    "    'budget': sum,\n",
    "    'profit': sum,\n",
    "    'ratings': 'mean',\n",
    "    'title': 'count'\n",
    "})\n",
    "df_type['profit%'] = df_type['profit'] / df_type['box_office'] * 100\n",
    "df_type['count_ratio'] = df_type['title'] / df_type['title'].sum() * 100\n",
    "display(df_type.sort_values(by = 'title', ascending = False))\n",
    "\n",
    "print()\n",
    "\n",
    "df_genre = df_mk.pivot_table(index = 'main_genre', values = ['box_office', 'budget', 'profit', 'title', 'ratings'], aggfunc = {\n",
    "    'box_office': sum,\n",
    "    'budget': sum,\n",
    "    'profit': sum,\n",
    "    'ratings': 'mean',\n",
    "    'title': 'count'\n",
    "})\n",
    "df_genre['profit%'] = df_genre['profit'] / df_genre['box_office'] * 100\n",
    "df_genre['count_ratio'] = df_genre['title'] / df_genre['title'].sum() * 100\n",
    "\n",
    "print('Жанры фильмов')\n",
    "df_genre.sort_values(by = 'title', ascending = False)"
   ]
  },
  {
   "cell_type": "markdown",
   "metadata": {},
   "source": [
    "Наименьший (второй с конца) рейтинг и наибольшие сборы и выручка видны у комедий. Комедии также составляет 22.6% от всех фильмов получивших поддержку. Драмы убыточны, но имею показатель рейтинга чуть выше среднего по выборке, также драмы является самым часто встречающимся жанром в выборке - 27.1%. В жанре спорта поддержано всего три фильма и все они оказались чрезвычайно успешными как с точки зрения прибыли, так и с точки зрения рейтинга. \n",
    "\n",
    "Художественные фильмы встречаются чаще всего, их 90% от всей выборки. Анимационных фильмов чуть меньше 10% и их показатели ниже средних, они убыточны и имеют рейтинг ниже среднего - 5.7"
   ]
  },
  {
   "cell_type": "markdown",
   "metadata": {},
   "source": [
    "#### Вывод"
   ]
  },
  {
   "cell_type": "markdown",
   "metadata": {},
   "source": [
    "- Только 2017-ый, 2018-ый и 2018-ый года показали прибыль, остальные уботочны. При этом за весь рассматриваемый период показал финансовый результат близкий к нулю, рентабельность ниже 1%. \n",
    "- Средний рейтинг фильмов держится на уровне 6 из 10 за весь период. Больше всего фильмов было поддержано в 2015-ом году, в этот же год наблюдается наибольший убыток, меньше всего в 2017-ом и в этот же год наблюдается наибольшая прибыль.\n",
    "- Фонд кино и Министерство культуры дотировали примерно одинаковое количество фильмов в период с 2015-ог по 2019-ый годы. При этом фильмы, получившие поддержку от Министерства культуры имеют чуть более высокий средний рейтинг - 6.1, при этом они сильно убыточны - сборы 5 млрд против 11 млрд бюджета (расходов).\n",
    "- Фильмы поддержанные Фонодом кино имеют средний рейтинг 5.8, при этом их экономическая эффективность сильно выше. Такие фильмы заработали за все время 7.4 млрд прибыли, это 21% от общей суммы всех сборов.\n",
    "- Фильмов поддержанных Министерством культуры в списке топ-10 по прибыли нет в принципе, в списке топ-10 по рейтингу только один фильм поддержан Министерством культуры, а еще один имеет совместную поддержку.\n",
    "- В топ-10 по прибыли чаще всего встречаются фильмы в комедийном жанре, в топ-10 по рейтинг - драмы.\n",
    "- Значительной корреляции между данными не обнаружено. Рейтинг никак не связан со сборами и прибылью фильма.\n",
    "- Наименьший (второй с конца) рейтинг и наибольшие сборы и выручка видны у комедий. Комедии также составляет 22.6% от всех фильмов получивших поддержку. \n",
    "- Драмы убыточны, но имею показатель рейтинга чуть выше среднего по выборке, также драмы является самым часто встречающимся жанром в выборке - 27.1%. \n",
    "- В жанре спорта поддержано всего три фильма и все они оказались чрезвычайно успешными как с точки зрения прибыли, так и с точки зрения рейтинга.\n",
    "- Художественные фильмы встречаются чаще всего, их 90% от всей выборки. Анимационных фильмов чуть меньше 10% и их показатели ниже средних, они убыточны и имеют рейтинг ниже среднего - 5.7"
   ]
  },
  {
   "cell_type": "markdown",
   "metadata": {
    "id": "V2gYwMcPgFyd"
   },
   "source": [
    "### Шаг 5. Напишите общий вывод"
   ]
  },
  {
   "cell_type": "markdown",
   "metadata": {
    "id": "AYRg3dzXgFye"
   },
   "source": [
    "**Важная информация:**\n",
    "- Судя по всему данные до 2014-ого года испорчены. Всего 25% фильмов имеют полную информацию о прокате против 50% для фильмов после 2014-ого года. Также судя по всему использовались разные способы учитывать сборы, до 2014-ого года сборы указывались в тысячах рублей, после в рублях. Большая часть анализа проведена по данным с 2015 по 2019-ый год\n",
    "\n",
    "**Исследование всей выборки:**\n",
    "- Больше всего прокатных удостоверений выдано в 2010-ом году, меньше всего в 2017-ом году\n",
    "- По среднему и медиане экономическую эффективность проката можно градировать так: \n",
    "\n",
    "1-ое место 2017-ый\n",
    "\n",
    "2-ое место 2018-ый\n",
    "\n",
    "3-е место 2016-ый и 2019-ый\n",
    "\n",
    "4-ое место 2015-ый\n",
    "- Максимальная сумма сборов наблюдалась в 2018-ом году 49.6 млрд, а минимальная в 2015-ом 39.5 млрд\n",
    "- Больше всего с 2015-ый по 2019-ый годы собрали фильмы с возврастным ограничением 16+ - 76 млрд или 32% от всех сборов, а меньше всего фильмы с ограничением 0+ всего 0.3%. Фильмы с ограничениями 6+ и 12+ имеют похожие сборы 24% и 26% соответственно. Фильмы с ограничением 18+ сорали 17.4% или 40 млрд. \n",
    "- Самой стабильной категорией оказалась категория 6+. С 2016-ого года сборы ни разу не падали ниже 10 млрд и они держатся на уровне 10 - 12 млрд на протяжении всех лет.\n",
    "- Сборы фильмов 18+ стабильно растут с 5 млрд в 2015-ом до 10 млрд в 2019-ом \n",
    "- Сборы фильмов 0+ наоброт, стабильно падают. С почти 400 млн в 2015-ом к 17 млн в 2019-ом\n",
    "- Фильмы категории 12+ имеют более менее стабильный показатель в 12 - 14 млрд в год, за исключением 2017-ого, где показатель составляет 7 млрд\n",
    "- Фильмы категории 16+ имели наибольшие сборы в период с 2016-ого по 2018-ый, при этом самый большой показатель из всей выборки почти 19 млрд эта категория показала в 2017-ом. Возможно мы имеем дело с сериалом по типу \"Мстителей\" или \"Пратов Карбиского Моря\" где один из фильмов получил другое возрастное ограничение, чем обычно\n",
    "\n",
    "**Исследование фильмов получивших поддержку:**\n",
    "\n",
    "- Только 2017-ый, 2018-ый и 2018-ый года показали прибыль, остальные уботочны. При этом за весь рассматриваемый период показал финансовый результат близкий к нулю, рентабельность ниже 1%. \n",
    "- Средний рейтинг фильмов держится на уровне 6 из 10 за весь период. Больше всего фильмов было поддержано в 2015-ом году, в этот же год наблюдается наибольший убыток, меньше всего в 2017-ом и в этот же год наблюдается наибольшая прибыль.\n",
    "- Фонд кино и Министерство культуры дотировали примерно одинаковое количество фильмов в период с 2015-ог по 2019-ый годы. При этом фильмы, получившие поддержку от Министерства культуры имеют чуть более высокий средний рейтинг - 6.1, при этом они сильно убыточны - сборы 5 млрд против 11 млрд бюджета (расходов).\n",
    "- Фильмы поддержанные Фонодом кино имеют средний рейтинг 5.8, при этом их экономическая эффективность сильно выше. Такие фильмы заработали за все время 7.4 млрд прибыли, это 21% от общей суммы всех сборов.\n",
    "- Фильмов поддержанных Министерством культуры в списке топ-10 по прибыли нет в принципе, в списке топ-10 по рейтингу только один фильм поддержан Министерством культуры, а еще один имеет совместную поддержку.\n",
    "- В топ-10 по прибыли чаще всего встречаются фильмы в комедийном жанре, в топ-10 по рейтинг - драмы.\n",
    "- Значительной корреляции между данными не обнаружено. Рейтинг никак не связан со сборами и прибылью фильма.\n",
    "- Наименьший (второй с конца) рейтинг и наибольшие сборы и выручка видны у комедий. Комедии также составляет 22.6% от всех фильмов получивших поддержку. \n",
    "- Драмы убыточны, но имею показатель рейтинга чуть выше среднего по выборке, также драмы является самым часто встречающимся жанром в выборке - 27.1%. \n",
    "- В жанре спорта поддержано всего три фильма и все они оказались чрезвычайно успешными как с точки зрения прибыли, так и с точки зрения рейтинга.\n",
    "- Художественные фильмы встречаются чаще всего, их 90% от всей выборки. Анимационных фильмов чуть меньше 10% и их показатели ниже средних, они убыточны и имеют рейтинг ниже среднего - 5.7"
   ]
  }
 ],
 "metadata": {
  "ExecuteTimeLog": [
   {
    "duration": 537,
    "start_time": "2021-07-07T10:12:08.634Z"
   },
   {
    "duration": 206,
    "start_time": "2021-07-07T10:12:30.191Z"
   },
   {
    "duration": 227,
    "start_time": "2021-07-07T10:12:33.078Z"
   },
   {
    "duration": 153,
    "start_time": "2021-07-07T10:13:42.146Z"
   },
   {
    "duration": 233,
    "start_time": "2021-07-07T10:30:09.252Z"
   },
   {
    "duration": 19,
    "start_time": "2021-07-07T10:30:15.577Z"
   },
   {
    "duration": 18,
    "start_time": "2021-07-07T10:30:57.348Z"
   },
   {
    "duration": 19,
    "start_time": "2021-07-07T10:31:17.452Z"
   },
   {
    "duration": 21,
    "start_time": "2021-07-07T10:31:32.227Z"
   },
   {
    "duration": 27,
    "start_time": "2021-07-07T10:32:06.588Z"
   },
   {
    "duration": 23,
    "start_time": "2021-07-07T10:32:43.645Z"
   },
   {
    "duration": 24,
    "start_time": "2021-07-07T10:33:06.948Z"
   },
   {
    "duration": 7,
    "start_time": "2021-07-07T10:33:28.558Z"
   },
   {
    "duration": 23,
    "start_time": "2021-07-07T10:33:43.761Z"
   },
   {
    "duration": 28,
    "start_time": "2021-07-07T10:34:13.466Z"
   },
   {
    "duration": 23,
    "start_time": "2021-07-07T10:35:56.187Z"
   },
   {
    "duration": 6,
    "start_time": "2021-07-07T10:36:48.182Z"
   },
   {
    "duration": 14,
    "start_time": "2021-07-07T10:37:49.641Z"
   },
   {
    "duration": 6,
    "start_time": "2021-07-07T10:38:06.694Z"
   },
   {
    "duration": 6,
    "start_time": "2021-07-07T10:38:13.493Z"
   },
   {
    "duration": 19,
    "start_time": "2021-07-07T10:38:44.056Z"
   },
   {
    "duration": 186,
    "start_time": "2021-07-07T10:48:35.618Z"
   },
   {
    "duration": 24,
    "start_time": "2021-07-07T10:48:51.498Z"
   },
   {
    "duration": 20,
    "start_time": "2021-07-07T10:48:59.415Z"
   },
   {
    "duration": 20,
    "start_time": "2021-07-07T10:53:02.195Z"
   },
   {
    "duration": 188,
    "start_time": "2021-07-07T10:54:40.486Z"
   },
   {
    "duration": 115,
    "start_time": "2021-07-07T10:54:52.552Z"
   },
   {
    "duration": 214,
    "start_time": "2021-07-07T10:54:56.354Z"
   },
   {
    "duration": 47,
    "start_time": "2021-07-07T10:54:58.282Z"
   },
   {
    "duration": 217,
    "start_time": "2021-07-07T10:59:16.075Z"
   },
   {
    "duration": 51,
    "start_time": "2021-07-07T10:59:16.243Z"
   },
   {
    "duration": 578,
    "start_time": "2021-07-07T10:59:18.774Z"
   },
   {
    "duration": 161,
    "start_time": "2021-07-07T10:59:21.238Z"
   },
   {
    "duration": 59,
    "start_time": "2021-07-07T10:59:21.453Z"
   },
   {
    "duration": 3,
    "start_time": "2021-07-07T11:02:10.786Z"
   },
   {
    "duration": 13,
    "start_time": "2021-07-07T11:07:07.722Z"
   },
   {
    "duration": 26,
    "start_time": "2021-07-07T11:07:17.958Z"
   },
   {
    "duration": 22,
    "start_time": "2021-07-07T11:08:17.939Z"
   },
   {
    "duration": 212,
    "start_time": "2021-07-07T11:08:19.665Z"
   },
   {
    "duration": 21,
    "start_time": "2021-07-07T11:08:29.945Z"
   },
   {
    "duration": 31,
    "start_time": "2021-07-07T11:08:38.899Z"
   },
   {
    "duration": 23,
    "start_time": "2021-07-07T11:08:54.527Z"
   },
   {
    "duration": 8,
    "start_time": "2021-07-07T11:18:55.974Z"
   },
   {
    "duration": 7,
    "start_time": "2021-07-07T11:19:03.639Z"
   },
   {
    "duration": 7,
    "start_time": "2021-07-07T11:19:06.444Z"
   },
   {
    "duration": 578,
    "start_time": "2021-07-07T12:09:59.576Z"
   },
   {
    "duration": 195,
    "start_time": "2021-07-07T12:10:00.156Z"
   },
   {
    "duration": 115,
    "start_time": "2021-07-07T12:10:00.353Z"
   },
   {
    "duration": 3,
    "start_time": "2021-07-07T12:10:00.470Z"
   },
   {
    "duration": 32,
    "start_time": "2021-07-07T12:10:00.474Z"
   },
   {
    "duration": 23,
    "start_time": "2021-07-07T12:10:00.508Z"
   },
   {
    "duration": 19,
    "start_time": "2021-07-07T12:10:00.533Z"
   },
   {
    "duration": 44,
    "start_time": "2021-07-07T12:10:00.553Z"
   },
   {
    "duration": 7,
    "start_time": "2021-07-07T12:10:00.600Z"
   },
   {
    "duration": 7,
    "start_time": "2021-07-07T12:19:45.761Z"
   },
   {
    "duration": 21,
    "start_time": "2021-07-07T12:21:35.482Z"
   },
   {
    "duration": 21,
    "start_time": "2021-07-07T12:29:23.569Z"
   },
   {
    "duration": 525,
    "start_time": "2021-07-07T12:29:44.542Z"
   },
   {
    "duration": 214,
    "start_time": "2021-07-07T12:29:45.069Z"
   },
   {
    "duration": 92,
    "start_time": "2021-07-07T12:29:45.285Z"
   },
   {
    "duration": 3,
    "start_time": "2021-07-07T12:29:45.379Z"
   },
   {
    "duration": 28,
    "start_time": "2021-07-07T12:29:45.384Z"
   },
   {
    "duration": 23,
    "start_time": "2021-07-07T12:29:45.413Z"
   },
   {
    "duration": 21,
    "start_time": "2021-07-07T12:29:45.437Z"
   },
   {
    "duration": 41,
    "start_time": "2021-07-07T12:29:45.460Z"
   },
   {
    "duration": 7,
    "start_time": "2021-07-07T12:29:45.502Z"
   },
   {
    "duration": 20,
    "start_time": "2021-07-07T12:29:45.511Z"
   },
   {
    "duration": 12,
    "start_time": "2021-07-07T12:34:02.800Z"
   },
   {
    "duration": 7,
    "start_time": "2021-07-07T12:35:10.479Z"
   },
   {
    "duration": 8,
    "start_time": "2021-07-07T12:35:22.440Z"
   },
   {
    "duration": 6,
    "start_time": "2021-07-07T12:35:35.649Z"
   },
   {
    "duration": 6,
    "start_time": "2021-07-07T12:35:43.107Z"
   },
   {
    "duration": 22,
    "start_time": "2021-07-07T12:38:03.029Z"
   },
   {
    "duration": 10,
    "start_time": "2021-07-07T12:38:06.592Z"
   },
   {
    "duration": 563,
    "start_time": "2021-07-07T12:38:46.493Z"
   },
   {
    "duration": 265,
    "start_time": "2021-07-07T12:38:47.058Z"
   },
   {
    "duration": 94,
    "start_time": "2021-07-07T12:38:47.325Z"
   },
   {
    "duration": 3,
    "start_time": "2021-07-07T12:38:47.422Z"
   },
   {
    "duration": 30,
    "start_time": "2021-07-07T12:38:47.427Z"
   },
   {
    "duration": 16,
    "start_time": "2021-07-07T12:38:53.305Z"
   },
   {
    "duration": 10,
    "start_time": "2021-07-07T12:38:53.499Z"
   },
   {
    "duration": 8,
    "start_time": "2021-07-07T12:39:48.161Z"
   },
   {
    "duration": 27,
    "start_time": "2021-07-07T12:41:17.629Z"
   },
   {
    "duration": 17,
    "start_time": "2021-07-07T12:41:17.867Z"
   },
   {
    "duration": 21,
    "start_time": "2021-07-07T12:41:19.310Z"
   },
   {
    "duration": 7,
    "start_time": "2021-07-07T12:41:19.544Z"
   },
   {
    "duration": 20,
    "start_time": "2021-07-07T12:41:20.504Z"
   },
   {
    "duration": 554,
    "start_time": "2021-07-07T12:56:23.696Z"
   },
   {
    "duration": 200,
    "start_time": "2021-07-07T12:56:25.234Z"
   },
   {
    "duration": 119,
    "start_time": "2021-07-07T12:56:25.480Z"
   },
   {
    "duration": 4,
    "start_time": "2021-07-07T12:56:25.762Z"
   },
   {
    "duration": 26,
    "start_time": "2021-07-07T12:56:27.172Z"
   },
   {
    "duration": 12,
    "start_time": "2021-07-07T12:56:29.051Z"
   },
   {
    "duration": 10,
    "start_time": "2021-07-07T12:56:29.291Z"
   },
   {
    "duration": 8,
    "start_time": "2021-07-07T12:56:29.623Z"
   },
   {
    "duration": 28,
    "start_time": "2021-07-07T12:56:32.137Z"
   },
   {
    "duration": 19,
    "start_time": "2021-07-07T12:56:39.785Z"
   },
   {
    "duration": 20,
    "start_time": "2021-07-07T12:56:44.297Z"
   },
   {
    "duration": 7,
    "start_time": "2021-07-07T12:56:45.392Z"
   },
   {
    "duration": 23,
    "start_time": "2021-07-07T12:56:46.615Z"
   },
   {
    "duration": 4,
    "start_time": "2021-07-07T12:57:06.625Z"
   },
   {
    "duration": 32,
    "start_time": "2021-07-07T12:57:36.690Z"
   },
   {
    "duration": 18,
    "start_time": "2021-07-07T12:58:00.149Z"
   },
   {
    "duration": 15,
    "start_time": "2021-07-07T12:59:16.793Z"
   },
   {
    "duration": 7,
    "start_time": "2021-07-07T13:19:22.624Z"
   },
   {
    "duration": 6,
    "start_time": "2021-07-07T14:17:33.527Z"
   },
   {
    "duration": 9,
    "start_time": "2021-07-07T14:17:48.409Z"
   },
   {
    "duration": 8,
    "start_time": "2021-07-07T14:20:13.060Z"
   },
   {
    "duration": 8,
    "start_time": "2021-07-07T14:20:37.957Z"
   },
   {
    "duration": 8,
    "start_time": "2021-07-07T14:20:47.470Z"
   },
   {
    "duration": 9,
    "start_time": "2021-07-07T14:20:54.503Z"
   },
   {
    "duration": 10,
    "start_time": "2021-07-07T14:28:57.763Z"
   },
   {
    "duration": 3,
    "start_time": "2021-07-07T14:30:23.377Z"
   },
   {
    "duration": 3,
    "start_time": "2021-07-07T14:30:36.489Z"
   },
   {
    "duration": 103,
    "start_time": "2021-07-07T14:30:52.351Z"
   },
   {
    "duration": 8,
    "start_time": "2021-07-07T14:30:54.763Z"
   },
   {
    "duration": 8,
    "start_time": "2021-07-07T14:31:29.301Z"
   },
   {
    "duration": 13,
    "start_time": "2021-07-07T14:31:44.516Z"
   },
   {
    "duration": 7,
    "start_time": "2021-07-07T14:33:10.972Z"
   },
   {
    "duration": 11,
    "start_time": "2021-07-07T14:33:27.780Z"
   },
   {
    "duration": 8,
    "start_time": "2021-07-07T14:34:44.588Z"
   },
   {
    "duration": 57,
    "start_time": "2021-07-07T14:35:59.042Z"
   },
   {
    "duration": 3,
    "start_time": "2021-07-07T14:36:28.168Z"
   },
   {
    "duration": 5,
    "start_time": "2021-07-07T14:36:46.254Z"
   },
   {
    "duration": 4,
    "start_time": "2021-07-07T14:36:52.714Z"
   },
   {
    "duration": 3,
    "start_time": "2021-07-07T14:36:56.612Z"
   },
   {
    "duration": 4,
    "start_time": "2021-07-07T14:36:57.049Z"
   },
   {
    "duration": 3,
    "start_time": "2021-07-07T14:39:21.214Z"
   },
   {
    "duration": 7,
    "start_time": "2021-07-07T14:39:52.406Z"
   },
   {
    "duration": 11,
    "start_time": "2021-07-07T14:39:58.576Z"
   },
   {
    "duration": 9,
    "start_time": "2021-07-07T14:40:26.301Z"
   },
   {
    "duration": 10,
    "start_time": "2021-07-07T14:40:31.704Z"
   },
   {
    "duration": 11,
    "start_time": "2021-07-07T14:40:36.249Z"
   },
   {
    "duration": 10,
    "start_time": "2021-07-07T14:40:39.783Z"
   },
   {
    "duration": 9,
    "start_time": "2021-07-07T14:40:48.558Z"
   },
   {
    "duration": 10,
    "start_time": "2021-07-07T14:40:57.143Z"
   },
   {
    "duration": 9,
    "start_time": "2021-07-07T14:41:06.074Z"
   },
   {
    "duration": 4324,
    "start_time": "2021-07-07T14:41:22.004Z"
   },
   {
    "duration": 11,
    "start_time": "2021-07-07T14:41:33.392Z"
   },
   {
    "duration": 9,
    "start_time": "2021-07-07T14:41:39.288Z"
   },
   {
    "duration": 569,
    "start_time": "2021-07-07T14:42:14.387Z"
   },
   {
    "duration": 197,
    "start_time": "2021-07-07T14:42:14.959Z"
   },
   {
    "duration": 84,
    "start_time": "2021-07-07T14:42:16.052Z"
   },
   {
    "duration": 4,
    "start_time": "2021-07-07T14:42:16.900Z"
   },
   {
    "duration": 27,
    "start_time": "2021-07-07T14:42:19.898Z"
   },
   {
    "duration": 12,
    "start_time": "2021-07-07T14:42:21.577Z"
   },
   {
    "duration": 9,
    "start_time": "2021-07-07T14:42:21.813Z"
   },
   {
    "duration": 9,
    "start_time": "2021-07-07T14:42:22.569Z"
   },
   {
    "duration": 29,
    "start_time": "2021-07-07T14:42:25.837Z"
   },
   {
    "duration": 20,
    "start_time": "2021-07-07T14:42:27.003Z"
   },
   {
    "duration": 21,
    "start_time": "2021-07-07T14:42:28.767Z"
   },
   {
    "duration": 7,
    "start_time": "2021-07-07T14:42:29.838Z"
   },
   {
    "duration": 4,
    "start_time": "2021-07-07T14:43:25.493Z"
   },
   {
    "duration": 7,
    "start_time": "2021-07-07T14:43:26.573Z"
   },
   {
    "duration": 10,
    "start_time": "2021-07-07T14:43:31.639Z"
   },
   {
    "duration": 9,
    "start_time": "2021-07-07T14:43:32.046Z"
   },
   {
    "duration": 10,
    "start_time": "2021-07-07T14:43:33.301Z"
   },
   {
    "duration": 12,
    "start_time": "2021-07-07T14:43:33.658Z"
   },
   {
    "duration": 8,
    "start_time": "2021-07-07T14:43:34.552Z"
   },
   {
    "duration": 9,
    "start_time": "2021-07-07T14:43:35.058Z"
   },
   {
    "duration": 12,
    "start_time": "2021-07-07T14:43:35.914Z"
   },
   {
    "duration": 17,
    "start_time": "2021-07-07T14:45:34.368Z"
   },
   {
    "duration": 512,
    "start_time": "2021-07-07T14:51:58.236Z"
   },
   {
    "duration": 223,
    "start_time": "2021-07-07T14:51:58.750Z"
   },
   {
    "duration": 93,
    "start_time": "2021-07-07T14:51:58.977Z"
   },
   {
    "duration": 4,
    "start_time": "2021-07-07T14:51:59.071Z"
   },
   {
    "duration": 37,
    "start_time": "2021-07-07T14:51:59.077Z"
   },
   {
    "duration": 18,
    "start_time": "2021-07-07T14:51:59.116Z"
   },
   {
    "duration": 10,
    "start_time": "2021-07-07T14:51:59.137Z"
   },
   {
    "duration": 8,
    "start_time": "2021-07-07T14:51:59.149Z"
   },
   {
    "duration": 54,
    "start_time": "2021-07-07T14:51:59.158Z"
   },
   {
    "duration": 18,
    "start_time": "2021-07-07T14:51:59.213Z"
   },
   {
    "duration": 22,
    "start_time": "2021-07-07T14:51:59.232Z"
   },
   {
    "duration": 36,
    "start_time": "2021-07-07T14:51:59.255Z"
   },
   {
    "duration": 7,
    "start_time": "2021-07-07T14:51:59.293Z"
   },
   {
    "duration": 10,
    "start_time": "2021-07-07T14:51:59.302Z"
   },
   {
    "duration": 9,
    "start_time": "2021-07-07T14:51:59.313Z"
   },
   {
    "duration": 11,
    "start_time": "2021-07-07T14:51:59.324Z"
   },
   {
    "duration": 8,
    "start_time": "2021-07-07T14:51:59.337Z"
   },
   {
    "duration": 46,
    "start_time": "2021-07-07T14:51:59.347Z"
   },
   {
    "duration": 22,
    "start_time": "2021-07-07T14:51:59.395Z"
   },
   {
    "duration": 24,
    "start_time": "2021-07-07T14:57:32.911Z"
   },
   {
    "duration": 7,
    "start_time": "2021-07-07T14:58:22.070Z"
   },
   {
    "duration": 4,
    "start_time": "2021-07-07T14:59:11.239Z"
   },
   {
    "duration": 25,
    "start_time": "2021-07-07T15:07:22.208Z"
   },
   {
    "duration": 16,
    "start_time": "2021-07-07T15:08:25.560Z"
   },
   {
    "duration": 15,
    "start_time": "2021-07-07T15:08:40.647Z"
   },
   {
    "duration": 14,
    "start_time": "2021-07-07T15:08:46.669Z"
   },
   {
    "duration": 533,
    "start_time": "2021-07-07T15:18:07.440Z"
   },
   {
    "duration": 173,
    "start_time": "2021-07-07T15:18:07.974Z"
   },
   {
    "duration": 84,
    "start_time": "2021-07-07T15:18:08.149Z"
   },
   {
    "duration": 3,
    "start_time": "2021-07-07T15:18:08.235Z"
   },
   {
    "duration": 30,
    "start_time": "2021-07-07T15:18:08.240Z"
   },
   {
    "duration": 22,
    "start_time": "2021-07-07T15:18:08.272Z"
   },
   {
    "duration": 11,
    "start_time": "2021-07-07T15:18:08.295Z"
   },
   {
    "duration": 11,
    "start_time": "2021-07-07T15:18:08.309Z"
   },
   {
    "duration": 40,
    "start_time": "2021-07-07T15:18:08.322Z"
   },
   {
    "duration": 42,
    "start_time": "2021-07-07T15:18:08.364Z"
   },
   {
    "duration": 22,
    "start_time": "2021-07-07T15:18:08.408Z"
   },
   {
    "duration": 5,
    "start_time": "2021-07-07T15:18:08.432Z"
   },
   {
    "duration": 13,
    "start_time": "2021-07-07T15:18:08.439Z"
   },
   {
    "duration": 9,
    "start_time": "2021-07-07T15:18:08.454Z"
   },
   {
    "duration": 32,
    "start_time": "2021-07-07T15:18:08.465Z"
   },
   {
    "duration": 10,
    "start_time": "2021-07-07T15:18:08.501Z"
   },
   {
    "duration": 7,
    "start_time": "2021-07-07T15:18:08.513Z"
   },
   {
    "duration": 11,
    "start_time": "2021-07-07T15:18:08.521Z"
   },
   {
    "duration": 17,
    "start_time": "2021-07-07T15:18:08.534Z"
   },
   {
    "duration": 44,
    "start_time": "2021-07-07T15:18:08.553Z"
   },
   {
    "duration": 22,
    "start_time": "2021-07-07T15:18:08.599Z"
   },
   {
    "duration": 61,
    "start_time": "2021-07-07T15:18:08.622Z"
   },
   {
    "duration": 7,
    "start_time": "2021-07-07T15:18:39.457Z"
   },
   {
    "duration": 5,
    "start_time": "2021-07-07T16:05:17.020Z"
   },
   {
    "duration": 5,
    "start_time": "2021-07-07T16:51:28.794Z"
   },
   {
    "duration": 546,
    "start_time": "2021-07-07T16:52:26.306Z"
   },
   {
    "duration": 203,
    "start_time": "2021-07-07T16:52:27.523Z"
   },
   {
    "duration": 85,
    "start_time": "2021-07-07T16:52:27.736Z"
   },
   {
    "duration": 4,
    "start_time": "2021-07-07T16:52:27.899Z"
   },
   {
    "duration": 25,
    "start_time": "2021-07-07T16:52:28.674Z"
   },
   {
    "duration": 8,
    "start_time": "2021-07-07T16:52:32.956Z"
   },
   {
    "duration": 18,
    "start_time": "2021-07-07T16:52:35.616Z"
   },
   {
    "duration": 6,
    "start_time": "2021-07-07T16:52:36.913Z"
   },
   {
    "duration": 11,
    "start_time": "2021-07-07T16:52:40.258Z"
   },
   {
    "duration": 10,
    "start_time": "2021-07-07T16:52:46.251Z"
   },
   {
    "duration": 8,
    "start_time": "2021-07-07T16:52:47.182Z"
   },
   {
    "duration": 27,
    "start_time": "2021-07-07T16:53:20.391Z"
   },
   {
    "duration": 20,
    "start_time": "2021-07-07T16:53:22.022Z"
   },
   {
    "duration": 23,
    "start_time": "2021-07-07T16:53:23.690Z"
   },
   {
    "duration": 8,
    "start_time": "2021-07-07T16:53:24.261Z"
   },
   {
    "duration": 4,
    "start_time": "2021-07-07T16:53:38.733Z"
   },
   {
    "duration": 7,
    "start_time": "2021-07-07T16:53:40.445Z"
   },
   {
    "duration": 11,
    "start_time": "2021-07-07T16:53:41.348Z"
   },
   {
    "duration": 13,
    "start_time": "2021-07-07T16:53:45.250Z"
   },
   {
    "duration": 12,
    "start_time": "2021-07-07T16:53:45.467Z"
   },
   {
    "duration": 4,
    "start_time": "2021-07-07T16:55:32.704Z"
   },
   {
    "duration": 12,
    "start_time": "2021-07-07T16:55:49.012Z"
   },
   {
    "duration": 18,
    "start_time": "2021-07-07T16:55:49.547Z"
   },
   {
    "duration": 611,
    "start_time": "2021-07-07T16:58:35.156Z"
   },
   {
    "duration": 200,
    "start_time": "2021-07-07T16:58:35.770Z"
   },
   {
    "duration": 86,
    "start_time": "2021-07-07T16:58:35.972Z"
   },
   {
    "duration": 3,
    "start_time": "2021-07-07T16:58:36.060Z"
   },
   {
    "duration": 27,
    "start_time": "2021-07-07T16:58:36.065Z"
   },
   {
    "duration": 8,
    "start_time": "2021-07-07T16:58:36.094Z"
   },
   {
    "duration": 17,
    "start_time": "2021-07-07T16:58:36.103Z"
   },
   {
    "duration": 5,
    "start_time": "2021-07-07T16:58:36.123Z"
   },
   {
    "duration": 11,
    "start_time": "2021-07-07T16:58:36.130Z"
   },
   {
    "duration": 7,
    "start_time": "2021-07-07T16:58:36.143Z"
   },
   {
    "duration": 37,
    "start_time": "2021-07-07T16:58:36.152Z"
   },
   {
    "duration": 27,
    "start_time": "2021-07-07T16:58:36.191Z"
   },
   {
    "duration": 19,
    "start_time": "2021-07-07T16:58:36.219Z"
   },
   {
    "duration": 49,
    "start_time": "2021-07-07T16:58:36.240Z"
   },
   {
    "duration": 6,
    "start_time": "2021-07-07T16:58:36.291Z"
   },
   {
    "duration": 3,
    "start_time": "2021-07-07T16:58:36.299Z"
   },
   {
    "duration": 13,
    "start_time": "2021-07-07T16:58:36.304Z"
   },
   {
    "duration": 10,
    "start_time": "2021-07-07T16:58:36.319Z"
   },
   {
    "duration": 10,
    "start_time": "2021-07-07T16:58:36.331Z"
   },
   {
    "duration": 44,
    "start_time": "2021-07-07T16:58:36.343Z"
   },
   {
    "duration": 4,
    "start_time": "2021-07-07T16:58:36.388Z"
   },
   {
    "duration": 13,
    "start_time": "2021-07-07T16:58:36.394Z"
   },
   {
    "duration": 16,
    "start_time": "2021-07-07T16:58:36.410Z"
   },
   {
    "duration": 8,
    "start_time": "2021-07-07T17:02:31.629Z"
   },
   {
    "duration": 8,
    "start_time": "2021-07-07T17:02:34.308Z"
   },
   {
    "duration": 6,
    "start_time": "2021-07-07T17:05:13.483Z"
   },
   {
    "duration": 17,
    "start_time": "2021-07-07T17:05:20.606Z"
   },
   {
    "duration": 7,
    "start_time": "2021-07-07T17:05:34.638Z"
   },
   {
    "duration": 3,
    "start_time": "2021-07-07T17:06:31.883Z"
   },
   {
    "duration": 570,
    "start_time": "2021-07-07T17:06:37.165Z"
   },
   {
    "duration": 174,
    "start_time": "2021-07-07T17:06:37.737Z"
   },
   {
    "duration": 47,
    "start_time": "2021-07-07T17:06:37.913Z"
   },
   {
    "duration": 3,
    "start_time": "2021-07-07T17:06:37.962Z"
   },
   {
    "duration": 27,
    "start_time": "2021-07-07T17:06:37.967Z"
   },
   {
    "duration": 7,
    "start_time": "2021-07-07T17:06:37.996Z"
   },
   {
    "duration": 16,
    "start_time": "2021-07-07T17:06:38.005Z"
   },
   {
    "duration": 6,
    "start_time": "2021-07-07T17:06:38.024Z"
   },
   {
    "duration": 12,
    "start_time": "2021-07-07T17:06:38.031Z"
   },
   {
    "duration": 41,
    "start_time": "2021-07-07T17:06:38.045Z"
   },
   {
    "duration": 8,
    "start_time": "2021-07-07T17:06:38.088Z"
   },
   {
    "duration": 26,
    "start_time": "2021-07-07T17:06:38.098Z"
   },
   {
    "duration": 17,
    "start_time": "2021-07-07T17:06:38.126Z"
   },
   {
    "duration": 43,
    "start_time": "2021-07-07T17:06:38.144Z"
   },
   {
    "duration": 6,
    "start_time": "2021-07-07T17:06:38.188Z"
   },
   {
    "duration": 5,
    "start_time": "2021-07-07T17:06:38.195Z"
   },
   {
    "duration": 9,
    "start_time": "2021-07-07T17:06:38.201Z"
   },
   {
    "duration": 12,
    "start_time": "2021-07-07T17:06:38.212Z"
   },
   {
    "duration": 11,
    "start_time": "2021-07-07T17:06:38.226Z"
   },
   {
    "duration": 47,
    "start_time": "2021-07-07T17:06:38.239Z"
   },
   {
    "duration": 4,
    "start_time": "2021-07-07T17:06:38.288Z"
   },
   {
    "duration": 13,
    "start_time": "2021-07-07T17:06:38.293Z"
   },
   {
    "duration": 5,
    "start_time": "2021-07-07T17:06:38.309Z"
   },
   {
    "duration": 18,
    "start_time": "2021-07-07T17:06:38.325Z"
   },
   {
    "duration": 20,
    "start_time": "2021-07-07T17:07:02.805Z"
   },
   {
    "duration": 19,
    "start_time": "2021-07-07T17:07:08.527Z"
   },
   {
    "duration": 19,
    "start_time": "2021-07-07T17:07:12.758Z"
   },
   {
    "duration": 22,
    "start_time": "2021-07-07T17:07:17.497Z"
   },
   {
    "duration": 19,
    "start_time": "2021-07-07T17:07:19.645Z"
   },
   {
    "duration": 10,
    "start_time": "2021-07-07T17:07:34.239Z"
   },
   {
    "duration": 17,
    "start_time": "2021-07-07T17:07:54.144Z"
   },
   {
    "duration": 14,
    "start_time": "2021-07-07T17:08:14.357Z"
   },
   {
    "duration": 616,
    "start_time": "2021-07-07T17:08:45.254Z"
   },
   {
    "duration": 178,
    "start_time": "2021-07-07T17:08:45.872Z"
   },
   {
    "duration": 60,
    "start_time": "2021-07-07T17:08:46.054Z"
   },
   {
    "duration": 3,
    "start_time": "2021-07-07T17:08:46.116Z"
   },
   {
    "duration": 26,
    "start_time": "2021-07-07T17:08:46.121Z"
   },
   {
    "duration": 7,
    "start_time": "2021-07-07T17:08:46.149Z"
   },
   {
    "duration": 17,
    "start_time": "2021-07-07T17:08:46.158Z"
   },
   {
    "duration": 14,
    "start_time": "2021-07-07T17:08:46.176Z"
   },
   {
    "duration": 17,
    "start_time": "2021-07-07T17:08:46.193Z"
   },
   {
    "duration": 9,
    "start_time": "2021-07-07T17:08:46.211Z"
   },
   {
    "duration": 21,
    "start_time": "2021-07-07T17:08:46.221Z"
   },
   {
    "duration": 49,
    "start_time": "2021-07-07T17:08:46.244Z"
   },
   {
    "duration": 24,
    "start_time": "2021-07-07T17:08:46.295Z"
   },
   {
    "duration": 22,
    "start_time": "2021-07-07T17:08:46.321Z"
   },
   {
    "duration": 6,
    "start_time": "2021-07-07T17:08:46.345Z"
   },
   {
    "duration": 5,
    "start_time": "2021-07-07T17:08:46.353Z"
   },
   {
    "duration": 13,
    "start_time": "2021-07-07T17:08:46.386Z"
   },
   {
    "duration": 12,
    "start_time": "2021-07-07T17:08:46.402Z"
   },
   {
    "duration": 10,
    "start_time": "2021-07-07T17:08:46.415Z"
   },
   {
    "duration": 7,
    "start_time": "2021-07-07T17:08:46.427Z"
   },
   {
    "duration": 8,
    "start_time": "2021-07-07T17:08:46.435Z"
   },
   {
    "duration": 68,
    "start_time": "2021-07-07T17:08:46.446Z"
   },
   {
    "duration": 13,
    "start_time": "2021-07-07T17:08:46.516Z"
   },
   {
    "duration": 78,
    "start_time": "2021-07-07T17:08:46.530Z"
   },
   {
    "duration": 40,
    "start_time": "2021-07-07T17:09:08.185Z"
   },
   {
    "duration": 16,
    "start_time": "2021-07-07T17:09:19.324Z"
   },
   {
    "duration": 21,
    "start_time": "2021-07-07T17:09:23.290Z"
   },
   {
    "duration": 13,
    "start_time": "2021-07-07T17:09:54.812Z"
   },
   {
    "duration": 13,
    "start_time": "2021-07-07T17:10:02.039Z"
   },
   {
    "duration": 10,
    "start_time": "2021-07-07T17:10:29.632Z"
   },
   {
    "duration": 13,
    "start_time": "2021-07-07T17:10:52.372Z"
   },
   {
    "duration": 13,
    "start_time": "2021-07-07T17:11:17.270Z"
   },
   {
    "duration": 13,
    "start_time": "2021-07-07T17:14:59.284Z"
   },
   {
    "duration": 547,
    "start_time": "2021-07-07T17:18:52.403Z"
   },
   {
    "duration": 163,
    "start_time": "2021-07-07T17:18:52.952Z"
   },
   {
    "duration": 44,
    "start_time": "2021-07-07T17:18:53.117Z"
   },
   {
    "duration": 3,
    "start_time": "2021-07-07T17:18:53.162Z"
   },
   {
    "duration": 26,
    "start_time": "2021-07-07T17:18:53.167Z"
   },
   {
    "duration": 6,
    "start_time": "2021-07-07T17:18:53.195Z"
   },
   {
    "duration": 15,
    "start_time": "2021-07-07T17:18:53.203Z"
   },
   {
    "duration": 5,
    "start_time": "2021-07-07T17:18:53.220Z"
   },
   {
    "duration": 11,
    "start_time": "2021-07-07T17:18:53.228Z"
   },
   {
    "duration": 9,
    "start_time": "2021-07-07T17:18:53.241Z"
   },
   {
    "duration": 41,
    "start_time": "2021-07-07T17:18:53.252Z"
   },
   {
    "duration": 33,
    "start_time": "2021-07-07T17:18:53.295Z"
   },
   {
    "duration": 19,
    "start_time": "2021-07-07T17:18:53.330Z"
   },
   {
    "duration": 49,
    "start_time": "2021-07-07T17:18:53.350Z"
   },
   {
    "duration": 5,
    "start_time": "2021-07-07T17:18:53.401Z"
   },
   {
    "duration": 5,
    "start_time": "2021-07-07T17:18:53.408Z"
   },
   {
    "duration": 11,
    "start_time": "2021-07-07T17:18:53.414Z"
   },
   {
    "duration": 9,
    "start_time": "2021-07-07T17:18:53.427Z"
   },
   {
    "duration": 10,
    "start_time": "2021-07-07T17:18:53.437Z"
   },
   {
    "duration": 39,
    "start_time": "2021-07-07T17:18:53.448Z"
   },
   {
    "duration": 26,
    "start_time": "2021-07-07T17:18:55.799Z"
   },
   {
    "duration": 598,
    "start_time": "2021-07-07T17:20:17.862Z"
   },
   {
    "duration": 161,
    "start_time": "2021-07-07T17:20:18.462Z"
   },
   {
    "duration": 45,
    "start_time": "2021-07-07T17:20:18.626Z"
   },
   {
    "duration": 4,
    "start_time": "2021-07-07T17:20:18.673Z"
   },
   {
    "duration": 38,
    "start_time": "2021-07-07T17:20:26.877Z"
   },
   {
    "duration": 7,
    "start_time": "2021-07-07T17:20:37.405Z"
   },
   {
    "duration": 19,
    "start_time": "2021-07-07T17:20:51.534Z"
   },
   {
    "duration": 5,
    "start_time": "2021-07-07T17:20:57.228Z"
   },
   {
    "duration": 7,
    "start_time": "2021-07-07T17:21:08.235Z"
   },
   {
    "duration": 19,
    "start_time": "2021-07-07T17:21:42.158Z"
   },
   {
    "duration": 14,
    "start_time": "2021-07-07T17:21:50.225Z"
   },
   {
    "duration": 22,
    "start_time": "2021-07-07T17:22:54.104Z"
   },
   {
    "duration": 5,
    "start_time": "2021-07-07T17:22:56.371Z"
   },
   {
    "duration": 14,
    "start_time": "2021-07-07T17:22:58.316Z"
   },
   {
    "duration": 5,
    "start_time": "2021-07-07T17:22:58.493Z"
   },
   {
    "duration": 35,
    "start_time": "2021-07-07T17:22:59.666Z"
   },
   {
    "duration": 6,
    "start_time": "2021-07-07T17:23:02.410Z"
   },
   {
    "duration": 611,
    "start_time": "2021-07-07T17:24:59.664Z"
   },
   {
    "duration": 178,
    "start_time": "2021-07-07T17:25:01.945Z"
   },
   {
    "duration": 47,
    "start_time": "2021-07-07T17:25:02.125Z"
   },
   {
    "duration": 2,
    "start_time": "2021-07-07T17:25:07.903Z"
   },
   {
    "duration": 254,
    "start_time": "2021-07-07T17:25:08.232Z"
   },
   {
    "duration": 182,
    "start_time": "2021-07-07T17:25:08.671Z"
   },
   {
    "duration": 6,
    "start_time": "2021-07-07T17:25:13.104Z"
   },
   {
    "duration": 36,
    "start_time": "2021-07-07T17:25:13.662Z"
   },
   {
    "duration": 7,
    "start_time": "2021-07-07T17:25:14.528Z"
   },
   {
    "duration": 24,
    "start_time": "2021-07-07T17:25:27.982Z"
   },
   {
    "duration": 3,
    "start_time": "2021-07-07T17:25:48.982Z"
   },
   {
    "duration": 165,
    "start_time": "2021-07-07T17:25:48.987Z"
   },
   {
    "duration": 50,
    "start_time": "2021-07-07T17:25:49.154Z"
   },
   {
    "duration": 4,
    "start_time": "2021-07-07T17:25:49.206Z"
   },
   {
    "duration": 26,
    "start_time": "2021-07-07T17:25:49.212Z"
   },
   {
    "duration": 7,
    "start_time": "2021-07-07T17:25:49.240Z"
   },
   {
    "duration": 16,
    "start_time": "2021-07-07T17:25:49.249Z"
   },
   {
    "duration": 22,
    "start_time": "2021-07-07T17:25:49.266Z"
   },
   {
    "duration": 16,
    "start_time": "2021-07-07T17:25:49.291Z"
   },
   {
    "duration": 9,
    "start_time": "2021-07-07T17:25:49.309Z"
   },
   {
    "duration": 7,
    "start_time": "2021-07-07T17:25:49.319Z"
   },
   {
    "duration": 28,
    "start_time": "2021-07-07T17:25:49.328Z"
   },
   {
    "duration": 44,
    "start_time": "2021-07-07T17:25:49.357Z"
   },
   {
    "duration": 22,
    "start_time": "2021-07-07T17:25:49.403Z"
   },
   {
    "duration": 7,
    "start_time": "2021-07-07T17:25:49.427Z"
   },
   {
    "duration": 3,
    "start_time": "2021-07-07T17:25:49.436Z"
   },
   {
    "duration": 44,
    "start_time": "2021-07-07T17:25:49.441Z"
   },
   {
    "duration": 12,
    "start_time": "2021-07-07T17:25:49.488Z"
   },
   {
    "duration": 13,
    "start_time": "2021-07-07T17:25:49.502Z"
   },
   {
    "duration": 10,
    "start_time": "2021-07-07T17:25:49.516Z"
   },
   {
    "duration": 62,
    "start_time": "2021-07-07T17:25:49.527Z"
   },
   {
    "duration": 26,
    "start_time": "2021-07-07T17:26:51.809Z"
   },
   {
    "duration": 26,
    "start_time": "2021-07-07T17:26:55.759Z"
   },
   {
    "duration": 26,
    "start_time": "2021-07-07T17:27:04.501Z"
   },
   {
    "duration": 25,
    "start_time": "2021-07-07T17:28:24.859Z"
   },
   {
    "duration": 21,
    "start_time": "2021-07-07T17:28:55.250Z"
   },
   {
    "duration": 21,
    "start_time": "2021-07-07T17:28:58.885Z"
   },
   {
    "duration": 7,
    "start_time": "2021-07-07T17:45:40.972Z"
   },
   {
    "duration": 13,
    "start_time": "2021-07-07T17:45:42.529Z"
   },
   {
    "duration": 27,
    "start_time": "2021-07-07T17:45:51.026Z"
   },
   {
    "duration": 518,
    "start_time": "2021-07-07T17:46:15.532Z"
   },
   {
    "duration": 235,
    "start_time": "2021-07-07T17:46:16.053Z"
   },
   {
    "duration": 80,
    "start_time": "2021-07-07T17:46:16.292Z"
   },
   {
    "duration": 5,
    "start_time": "2021-07-07T17:46:16.373Z"
   },
   {
    "duration": 26,
    "start_time": "2021-07-07T17:46:16.380Z"
   },
   {
    "duration": 7,
    "start_time": "2021-07-07T17:46:16.408Z"
   },
   {
    "duration": 16,
    "start_time": "2021-07-07T17:46:16.418Z"
   },
   {
    "duration": 5,
    "start_time": "2021-07-07T17:46:16.436Z"
   },
   {
    "duration": 13,
    "start_time": "2021-07-07T17:46:16.442Z"
   },
   {
    "duration": 35,
    "start_time": "2021-07-07T17:46:16.456Z"
   },
   {
    "duration": 8,
    "start_time": "2021-07-07T17:46:16.493Z"
   },
   {
    "duration": 28,
    "start_time": "2021-07-07T17:46:16.502Z"
   },
   {
    "duration": 17,
    "start_time": "2021-07-07T17:46:16.532Z"
   },
   {
    "duration": 44,
    "start_time": "2021-07-07T17:46:16.551Z"
   },
   {
    "duration": 6,
    "start_time": "2021-07-07T17:46:16.597Z"
   },
   {
    "duration": 4,
    "start_time": "2021-07-07T17:46:16.605Z"
   },
   {
    "duration": 9,
    "start_time": "2021-07-07T17:46:16.610Z"
   },
   {
    "duration": 9,
    "start_time": "2021-07-07T17:46:16.621Z"
   },
   {
    "duration": 10,
    "start_time": "2021-07-07T17:46:16.632Z"
   },
   {
    "duration": 43,
    "start_time": "2021-07-07T17:46:16.644Z"
   },
   {
    "duration": 26,
    "start_time": "2021-07-07T17:46:16.689Z"
   },
   {
    "duration": 19,
    "start_time": "2021-07-07T17:46:16.718Z"
   },
   {
    "duration": 8,
    "start_time": "2021-07-07T17:46:16.738Z"
   },
   {
    "duration": 43,
    "start_time": "2021-07-07T17:46:16.747Z"
   },
   {
    "duration": 19,
    "start_time": "2021-07-07T17:46:16.791Z"
   },
   {
    "duration": 9,
    "start_time": "2021-07-07T17:46:16.812Z"
   },
   {
    "duration": 60,
    "start_time": "2021-07-07T17:46:16.822Z"
   },
   {
    "duration": -8,
    "start_time": "2021-07-07T17:46:16.892Z"
   },
   {
    "duration": 12,
    "start_time": "2021-07-07T17:48:47.707Z"
   },
   {
    "duration": 553,
    "start_time": "2021-07-07T18:10:09.350Z"
   },
   {
    "duration": 230,
    "start_time": "2021-07-07T18:10:09.905Z"
   },
   {
    "duration": 97,
    "start_time": "2021-07-07T18:10:10.137Z"
   },
   {
    "duration": 5,
    "start_time": "2021-07-07T18:10:10.236Z"
   },
   {
    "duration": 29,
    "start_time": "2021-07-07T18:10:10.242Z"
   },
   {
    "duration": 7,
    "start_time": "2021-07-07T18:10:10.272Z"
   },
   {
    "duration": 15,
    "start_time": "2021-07-07T18:10:10.281Z"
   },
   {
    "duration": 4,
    "start_time": "2021-07-07T18:10:10.299Z"
   },
   {
    "duration": 14,
    "start_time": "2021-07-07T18:10:10.305Z"
   },
   {
    "duration": 8,
    "start_time": "2021-07-07T18:10:10.321Z"
   },
   {
    "duration": 8,
    "start_time": "2021-07-07T18:10:10.331Z"
   },
   {
    "duration": 56,
    "start_time": "2021-07-07T18:10:10.341Z"
   },
   {
    "duration": 19,
    "start_time": "2021-07-07T18:10:10.399Z"
   },
   {
    "duration": 23,
    "start_time": "2021-07-07T18:10:10.419Z"
   },
   {
    "duration": 6,
    "start_time": "2021-07-07T18:10:10.444Z"
   },
   {
    "duration": 9,
    "start_time": "2021-07-07T18:10:10.451Z"
   },
   {
    "duration": 30,
    "start_time": "2021-07-07T18:10:10.462Z"
   },
   {
    "duration": 9,
    "start_time": "2021-07-07T18:10:10.494Z"
   },
   {
    "duration": 14,
    "start_time": "2021-07-07T18:10:10.505Z"
   },
   {
    "duration": 7,
    "start_time": "2021-07-07T18:10:10.521Z"
   },
   {
    "duration": 26,
    "start_time": "2021-07-07T18:10:10.530Z"
   },
   {
    "duration": 44,
    "start_time": "2021-07-07T18:10:10.558Z"
   },
   {
    "duration": 7,
    "start_time": "2021-07-07T18:10:10.605Z"
   },
   {
    "duration": 11,
    "start_time": "2021-07-07T18:10:10.614Z"
   },
   {
    "duration": 19,
    "start_time": "2021-07-07T18:10:10.626Z"
   },
   {
    "duration": 44,
    "start_time": "2021-07-07T18:10:10.646Z"
   },
   {
    "duration": 516,
    "start_time": "2021-07-07T18:14:00.826Z"
   },
   {
    "duration": 230,
    "start_time": "2021-07-07T18:14:01.344Z"
   },
   {
    "duration": 105,
    "start_time": "2021-07-07T18:14:01.576Z"
   },
   {
    "duration": 5,
    "start_time": "2021-07-07T18:14:01.683Z"
   },
   {
    "duration": 46,
    "start_time": "2021-07-07T18:14:01.690Z"
   },
   {
    "duration": 7,
    "start_time": "2021-07-07T18:14:01.738Z"
   },
   {
    "duration": 20,
    "start_time": "2021-07-07T18:14:01.747Z"
   },
   {
    "duration": 16,
    "start_time": "2021-07-07T18:14:01.769Z"
   },
   {
    "duration": 14,
    "start_time": "2021-07-07T18:14:01.787Z"
   },
   {
    "duration": 15,
    "start_time": "2021-07-07T18:14:01.803Z"
   },
   {
    "duration": 12,
    "start_time": "2021-07-07T18:14:01.820Z"
   },
   {
    "duration": 35,
    "start_time": "2021-07-07T18:14:01.833Z"
   },
   {
    "duration": 31,
    "start_time": "2021-07-07T18:14:01.869Z"
   },
   {
    "duration": 37,
    "start_time": "2021-07-07T18:14:01.902Z"
   },
   {
    "duration": 8,
    "start_time": "2021-07-07T18:14:01.942Z"
   },
   {
    "duration": 16,
    "start_time": "2021-07-07T18:14:01.952Z"
   },
   {
    "duration": 13,
    "start_time": "2021-07-07T18:14:01.970Z"
   },
   {
    "duration": 32,
    "start_time": "2021-07-07T18:14:01.985Z"
   },
   {
    "duration": 11,
    "start_time": "2021-07-07T18:14:02.019Z"
   },
   {
    "duration": 22,
    "start_time": "2021-07-07T18:14:02.031Z"
   },
   {
    "duration": 27,
    "start_time": "2021-07-07T18:14:02.055Z"
   },
   {
    "duration": 18,
    "start_time": "2021-07-07T18:14:02.084Z"
   },
   {
    "duration": 18,
    "start_time": "2021-07-07T18:14:02.106Z"
   },
   {
    "duration": 11,
    "start_time": "2021-07-07T18:14:02.126Z"
   },
   {
    "duration": 21,
    "start_time": "2021-07-07T18:14:02.138Z"
   },
   {
    "duration": 32,
    "start_time": "2021-07-07T18:14:02.161Z"
   },
   {
    "duration": 28,
    "start_time": "2021-07-07T18:14:44.295Z"
   },
   {
    "duration": 6,
    "start_time": "2021-07-07T18:15:05.834Z"
   },
   {
    "duration": 511,
    "start_time": "2021-07-07T18:15:41.541Z"
   },
   {
    "duration": 183,
    "start_time": "2021-07-07T18:15:42.054Z"
   },
   {
    "duration": 50,
    "start_time": "2021-07-07T18:15:42.239Z"
   },
   {
    "duration": 5,
    "start_time": "2021-07-07T18:15:42.291Z"
   },
   {
    "duration": 48,
    "start_time": "2021-07-07T18:15:42.297Z"
   },
   {
    "duration": 8,
    "start_time": "2021-07-07T18:15:42.346Z"
   },
   {
    "duration": 17,
    "start_time": "2021-07-07T18:15:42.356Z"
   },
   {
    "duration": 15,
    "start_time": "2021-07-07T18:15:42.375Z"
   },
   {
    "duration": 12,
    "start_time": "2021-07-07T18:15:42.392Z"
   },
   {
    "duration": 7,
    "start_time": "2021-07-07T18:15:42.406Z"
   },
   {
    "duration": 7,
    "start_time": "2021-07-07T18:15:42.415Z"
   },
   {
    "duration": 29,
    "start_time": "2021-07-07T18:15:42.423Z"
   },
   {
    "duration": 43,
    "start_time": "2021-07-07T18:15:42.453Z"
   },
   {
    "duration": 18,
    "start_time": "2021-07-07T18:15:42.497Z"
   },
   {
    "duration": 6,
    "start_time": "2021-07-07T18:15:42.516Z"
   },
   {
    "duration": 3,
    "start_time": "2021-07-07T18:15:42.523Z"
   },
   {
    "duration": 18,
    "start_time": "2021-07-07T18:15:42.528Z"
   },
   {
    "duration": 10,
    "start_time": "2021-07-07T18:15:42.547Z"
   },
   {
    "duration": 36,
    "start_time": "2021-07-07T18:15:42.559Z"
   },
   {
    "duration": 8,
    "start_time": "2021-07-07T18:15:42.597Z"
   },
   {
    "duration": 28,
    "start_time": "2021-07-07T18:15:42.606Z"
   },
   {
    "duration": 52,
    "start_time": "2021-07-07T18:15:42.635Z"
   },
   {
    "duration": 7,
    "start_time": "2021-07-07T18:15:42.690Z"
   },
   {
    "duration": 10,
    "start_time": "2021-07-07T18:15:42.699Z"
   },
   {
    "duration": 19,
    "start_time": "2021-07-07T18:15:42.711Z"
   },
   {
    "duration": 9,
    "start_time": "2021-07-07T18:15:42.732Z"
   },
   {
    "duration": 5,
    "start_time": "2021-07-07T18:15:42.743Z"
   },
   {
    "duration": 1450,
    "start_time": "2021-07-07T18:15:51.984Z"
   },
   {
    "duration": 161,
    "start_time": "2021-07-07T18:15:53.435Z"
   },
   {
    "duration": 124,
    "start_time": "2021-07-07T18:15:53.598Z"
   },
   {
    "duration": 5,
    "start_time": "2021-07-07T18:15:53.724Z"
   },
   {
    "duration": 34,
    "start_time": "2021-07-07T18:15:53.730Z"
   },
   {
    "duration": 7,
    "start_time": "2021-07-07T18:15:53.765Z"
   },
   {
    "duration": 15,
    "start_time": "2021-07-07T18:15:53.773Z"
   },
   {
    "duration": 5,
    "start_time": "2021-07-07T18:15:53.791Z"
   },
   {
    "duration": 19,
    "start_time": "2021-07-07T18:15:53.798Z"
   },
   {
    "duration": 9,
    "start_time": "2021-07-07T18:15:53.818Z"
   },
   {
    "duration": 19,
    "start_time": "2021-07-07T18:15:53.828Z"
   },
   {
    "duration": 27,
    "start_time": "2021-07-07T18:15:53.848Z"
   },
   {
    "duration": 16,
    "start_time": "2021-07-07T18:15:53.884Z"
   },
   {
    "duration": 29,
    "start_time": "2021-07-07T18:15:53.901Z"
   },
   {
    "duration": 5,
    "start_time": "2021-07-07T18:15:53.932Z"
   },
   {
    "duration": 15,
    "start_time": "2021-07-07T18:15:53.939Z"
   },
   {
    "duration": 13,
    "start_time": "2021-07-07T18:15:53.956Z"
   },
   {
    "duration": 20,
    "start_time": "2021-07-07T18:15:53.971Z"
   },
   {
    "duration": 14,
    "start_time": "2021-07-07T18:15:53.992Z"
   },
   {
    "duration": 9,
    "start_time": "2021-07-07T18:15:54.009Z"
   },
   {
    "duration": 28,
    "start_time": "2021-07-07T18:15:54.020Z"
   },
   {
    "duration": 50,
    "start_time": "2021-07-07T18:15:54.051Z"
   },
   {
    "duration": 8,
    "start_time": "2021-07-07T18:15:54.105Z"
   },
   {
    "duration": 11,
    "start_time": "2021-07-07T18:15:54.115Z"
   },
   {
    "duration": 20,
    "start_time": "2021-07-07T18:15:54.128Z"
   },
   {
    "duration": 13,
    "start_time": "2021-07-07T18:15:54.184Z"
   },
   {
    "duration": 7,
    "start_time": "2021-07-07T18:15:54.199Z"
   },
   {
    "duration": 7,
    "start_time": "2021-07-07T18:17:08.042Z"
   },
   {
    "duration": 8,
    "start_time": "2021-07-07T18:17:21.008Z"
   },
   {
    "duration": 7,
    "start_time": "2021-07-07T18:17:29.003Z"
   },
   {
    "duration": 8,
    "start_time": "2021-07-07T18:17:32.492Z"
   },
   {
    "duration": 9,
    "start_time": "2021-07-07T18:17:41.758Z"
   },
   {
    "duration": 255,
    "start_time": "2021-07-07T18:20:20.897Z"
   },
   {
    "duration": 173,
    "start_time": "2021-07-07T18:20:26.636Z"
   },
   {
    "duration": 7,
    "start_time": "2021-07-07T18:21:47.164Z"
   },
   {
    "duration": 254,
    "start_time": "2021-07-07T18:23:08.703Z"
   },
   {
    "duration": 21,
    "start_time": "2021-07-07T18:23:22.506Z"
   },
   {
    "duration": 315,
    "start_time": "2021-07-07T18:25:54.801Z"
   },
   {
    "duration": 34,
    "start_time": "2021-07-07T18:26:51.817Z"
   },
   {
    "duration": 327,
    "start_time": "2021-07-07T18:26:56.147Z"
   },
   {
    "duration": 342,
    "start_time": "2021-07-07T18:27:15.887Z"
   },
   {
    "duration": 302,
    "start_time": "2021-07-07T18:28:18.569Z"
   },
   {
    "duration": 226,
    "start_time": "2021-07-07T18:29:20.879Z"
   },
   {
    "duration": 207,
    "start_time": "2021-07-07T18:29:58.114Z"
   },
   {
    "duration": 140,
    "start_time": "2021-07-07T18:32:04.372Z"
   },
   {
    "duration": 158,
    "start_time": "2021-07-07T18:32:32.508Z"
   },
   {
    "duration": 145,
    "start_time": "2021-07-07T18:32:41.365Z"
   },
   {
    "duration": 132,
    "start_time": "2021-07-07T18:32:45.199Z"
   },
   {
    "duration": 11,
    "start_time": "2021-07-07T18:35:24.679Z"
   },
   {
    "duration": 268,
    "start_time": "2021-07-07T18:36:16.145Z"
   },
   {
    "duration": 227,
    "start_time": "2021-07-07T18:37:04.918Z"
   },
   {
    "duration": 3,
    "start_time": "2021-07-07T18:37:33.012Z"
   },
   {
    "duration": 671,
    "start_time": "2021-07-07T18:37:38.295Z"
   },
   {
    "duration": 54,
    "start_time": "2021-07-07T18:37:53.406Z"
   },
   {
    "duration": 631,
    "start_time": "2021-07-07T18:37:56.463Z"
   },
   {
    "duration": 19,
    "start_time": "2021-07-07T18:39:40.535Z"
   },
   {
    "duration": 20,
    "start_time": "2021-07-07T18:40:12.236Z"
   },
   {
    "duration": 633,
    "start_time": "2021-07-07T18:42:00.398Z"
   },
   {
    "duration": 218,
    "start_time": "2021-07-07T18:42:01.033Z"
   },
   {
    "duration": 49,
    "start_time": "2021-07-07T18:42:01.253Z"
   },
   {
    "duration": 5,
    "start_time": "2021-07-07T18:42:01.303Z"
   },
   {
    "duration": 27,
    "start_time": "2021-07-07T18:42:01.310Z"
   },
   {
    "duration": 8,
    "start_time": "2021-07-07T18:42:01.339Z"
   },
   {
    "duration": 20,
    "start_time": "2021-07-07T18:42:01.348Z"
   },
   {
    "duration": 6,
    "start_time": "2021-07-07T18:42:01.386Z"
   },
   {
    "duration": 16,
    "start_time": "2021-07-07T18:42:01.394Z"
   },
   {
    "duration": 9,
    "start_time": "2021-07-07T18:42:01.411Z"
   },
   {
    "duration": 11,
    "start_time": "2021-07-07T18:42:01.421Z"
   },
   {
    "duration": 31,
    "start_time": "2021-07-07T18:42:01.434Z"
   },
   {
    "duration": 18,
    "start_time": "2021-07-07T18:42:01.485Z"
   },
   {
    "duration": 23,
    "start_time": "2021-07-07T18:42:01.505Z"
   },
   {
    "duration": 6,
    "start_time": "2021-07-07T18:42:01.530Z"
   },
   {
    "duration": 10,
    "start_time": "2021-07-07T18:42:01.538Z"
   },
   {
    "duration": 13,
    "start_time": "2021-07-07T18:42:01.550Z"
   },
   {
    "duration": 24,
    "start_time": "2021-07-07T18:42:01.564Z"
   },
   {
    "duration": 20,
    "start_time": "2021-07-07T18:42:01.590Z"
   },
   {
    "duration": 8,
    "start_time": "2021-07-07T18:42:01.611Z"
   },
   {
    "duration": 31,
    "start_time": "2021-07-07T18:42:01.620Z"
   },
   {
    "duration": 39,
    "start_time": "2021-07-07T18:42:01.653Z"
   },
   {
    "duration": 8,
    "start_time": "2021-07-07T18:42:01.696Z"
   },
   {
    "duration": 13,
    "start_time": "2021-07-07T18:42:01.705Z"
   },
   {
    "duration": 20,
    "start_time": "2021-07-07T18:42:01.720Z"
   },
   {
    "duration": 12,
    "start_time": "2021-07-07T18:42:01.741Z"
   },
   {
    "duration": 35,
    "start_time": "2021-07-07T18:42:01.755Z"
   },
   {
    "duration": 14,
    "start_time": "2021-07-07T18:42:01.792Z"
   },
   {
    "duration": 188,
    "start_time": "2021-07-07T18:42:01.808Z"
   },
   {
    "duration": 19,
    "start_time": "2021-07-07T18:42:01.998Z"
   },
   {
    "duration": 175,
    "start_time": "2021-07-07T18:42:02.019Z"
   },
   {
    "duration": 134,
    "start_time": "2021-07-07T18:42:02.196Z"
   },
   {
    "duration": 10,
    "start_time": "2021-07-07T18:42:02.331Z"
   },
   {
    "duration": 19,
    "start_time": "2021-07-07T18:42:02.343Z"
   },
   {
    "duration": 628,
    "start_time": "2021-07-07T18:46:30.701Z"
   },
   {
    "duration": 183,
    "start_time": "2021-07-07T18:46:31.331Z"
   },
   {
    "duration": 48,
    "start_time": "2021-07-07T18:46:31.516Z"
   },
   {
    "duration": 5,
    "start_time": "2021-07-07T18:46:31.566Z"
   },
   {
    "duration": 28,
    "start_time": "2021-07-07T18:46:31.572Z"
   },
   {
    "duration": 8,
    "start_time": "2021-07-07T18:46:31.602Z"
   },
   {
    "duration": 19,
    "start_time": "2021-07-07T18:46:31.611Z"
   },
   {
    "duration": 6,
    "start_time": "2021-07-07T18:46:31.633Z"
   },
   {
    "duration": 17,
    "start_time": "2021-07-07T18:46:31.642Z"
   },
   {
    "duration": 10,
    "start_time": "2021-07-07T18:46:31.684Z"
   },
   {
    "duration": 9,
    "start_time": "2021-07-07T18:46:31.695Z"
   },
   {
    "duration": 28,
    "start_time": "2021-07-07T18:46:31.705Z"
   },
   {
    "duration": 18,
    "start_time": "2021-07-07T18:46:31.735Z"
   },
   {
    "duration": 48,
    "start_time": "2021-07-07T18:46:31.755Z"
   },
   {
    "duration": 6,
    "start_time": "2021-07-07T18:46:31.804Z"
   },
   {
    "duration": 4,
    "start_time": "2021-07-07T18:46:31.812Z"
   },
   {
    "duration": 9,
    "start_time": "2021-07-07T18:46:31.817Z"
   },
   {
    "duration": 10,
    "start_time": "2021-07-07T18:46:31.827Z"
   },
   {
    "duration": 12,
    "start_time": "2021-07-07T18:46:31.838Z"
   },
   {
    "duration": 39,
    "start_time": "2021-07-07T18:46:31.851Z"
   },
   {
    "duration": 24,
    "start_time": "2021-07-07T18:46:31.892Z"
   },
   {
    "duration": 15,
    "start_time": "2021-07-07T18:46:31.918Z"
   },
   {
    "duration": 7,
    "start_time": "2021-07-07T18:46:31.936Z"
   },
   {
    "duration": 8,
    "start_time": "2021-07-07T18:46:31.944Z"
   },
   {
    "duration": 19,
    "start_time": "2021-07-07T18:46:31.984Z"
   },
   {
    "duration": 10,
    "start_time": "2021-07-07T18:46:32.004Z"
   },
   {
    "duration": 5,
    "start_time": "2021-07-07T18:46:32.016Z"
   },
   {
    "duration": 9,
    "start_time": "2021-07-07T18:46:32.023Z"
   },
   {
    "duration": 199,
    "start_time": "2021-07-07T18:46:32.033Z"
   },
   {
    "duration": 19,
    "start_time": "2021-07-07T18:46:32.234Z"
   },
   {
    "duration": 159,
    "start_time": "2021-07-07T18:46:32.255Z"
   },
   {
    "duration": 134,
    "start_time": "2021-07-07T18:46:32.416Z"
   },
   {
    "duration": 10,
    "start_time": "2021-07-07T18:46:32.552Z"
   },
   {
    "duration": 34,
    "start_time": "2021-07-07T18:46:32.563Z"
   },
   {
    "duration": 1039,
    "start_time": "2021-07-08T08:41:09.419Z"
   },
   {
    "duration": 333,
    "start_time": "2021-07-08T08:41:10.459Z"
   },
   {
    "duration": 173,
    "start_time": "2021-07-08T08:41:10.794Z"
   },
   {
    "duration": 5,
    "start_time": "2021-07-08T08:41:10.968Z"
   },
   {
    "duration": 25,
    "start_time": "2021-07-08T08:41:10.975Z"
   },
   {
    "duration": 9,
    "start_time": "2021-07-08T08:41:11.002Z"
   },
   {
    "duration": 18,
    "start_time": "2021-07-08T08:41:11.013Z"
   },
   {
    "duration": 6,
    "start_time": "2021-07-08T08:41:11.033Z"
   },
   {
    "duration": 44,
    "start_time": "2021-07-08T08:41:11.042Z"
   },
   {
    "duration": 10,
    "start_time": "2021-07-08T08:41:11.088Z"
   },
   {
    "duration": 9,
    "start_time": "2021-07-08T08:41:11.100Z"
   },
   {
    "duration": 27,
    "start_time": "2021-07-08T08:41:11.111Z"
   },
   {
    "duration": 46,
    "start_time": "2021-07-08T08:41:11.140Z"
   },
   {
    "duration": 17,
    "start_time": "2021-07-08T08:41:11.187Z"
   },
   {
    "duration": 6,
    "start_time": "2021-07-08T08:41:11.206Z"
   },
   {
    "duration": 5,
    "start_time": "2021-07-08T08:41:11.213Z"
   },
   {
    "duration": 10,
    "start_time": "2021-07-08T08:41:11.219Z"
   },
   {
    "duration": 9,
    "start_time": "2021-07-08T08:41:11.230Z"
   },
   {
    "duration": 45,
    "start_time": "2021-07-08T08:41:11.241Z"
   },
   {
    "duration": 7,
    "start_time": "2021-07-08T08:41:11.287Z"
   },
   {
    "duration": 24,
    "start_time": "2021-07-08T08:41:11.296Z"
   },
   {
    "duration": 16,
    "start_time": "2021-07-08T08:41:11.322Z"
   },
   {
    "duration": 7,
    "start_time": "2021-07-08T08:41:11.341Z"
   },
   {
    "duration": 41,
    "start_time": "2021-07-08T08:41:11.349Z"
   },
   {
    "duration": 17,
    "start_time": "2021-07-08T08:41:11.391Z"
   },
   {
    "duration": 9,
    "start_time": "2021-07-08T08:41:11.410Z"
   },
   {
    "duration": 5,
    "start_time": "2021-07-08T08:41:11.421Z"
   },
   {
    "duration": 6,
    "start_time": "2021-07-08T08:41:11.428Z"
   },
   {
    "duration": 198,
    "start_time": "2021-07-08T08:41:11.435Z"
   },
   {
    "duration": 18,
    "start_time": "2021-07-08T08:41:11.635Z"
   },
   {
    "duration": 155,
    "start_time": "2021-07-08T08:41:11.655Z"
   },
   {
    "duration": 138,
    "start_time": "2021-07-08T08:41:11.811Z"
   },
   {
    "duration": 10,
    "start_time": "2021-07-08T08:41:11.950Z"
   },
   {
    "duration": 29,
    "start_time": "2021-07-08T08:41:11.961Z"
   },
   {
    "duration": 171,
    "start_time": "2021-07-08T08:47:44.522Z"
   },
   {
    "duration": 124,
    "start_time": "2021-07-08T08:47:46.872Z"
   },
   {
    "duration": 191,
    "start_time": "2021-07-08T08:47:58.148Z"
   },
   {
    "duration": 191,
    "start_time": "2021-07-08T08:48:07.412Z"
   },
   {
    "duration": 261,
    "start_time": "2021-07-08T08:48:10.385Z"
   },
   {
    "duration": 255,
    "start_time": "2021-07-08T08:48:14.494Z"
   },
   {
    "duration": 219,
    "start_time": "2021-07-08T08:48:22.752Z"
   },
   {
    "duration": 173,
    "start_time": "2021-07-08T08:49:06.395Z"
   },
   {
    "duration": 180,
    "start_time": "2021-07-08T08:49:21.011Z"
   },
   {
    "duration": 6,
    "start_time": "2021-07-08T08:50:31.697Z"
   },
   {
    "duration": 10,
    "start_time": "2021-07-08T08:50:47.394Z"
   },
   {
    "duration": 11,
    "start_time": "2021-07-08T08:53:49.332Z"
   },
   {
    "duration": 171,
    "start_time": "2021-07-08T08:54:28.408Z"
   },
   {
    "duration": 636,
    "start_time": "2021-07-08T09:02:48.385Z"
   },
   {
    "duration": 227,
    "start_time": "2021-07-08T09:02:49.023Z"
   },
   {
    "duration": 104,
    "start_time": "2021-07-08T09:02:49.252Z"
   },
   {
    "duration": 5,
    "start_time": "2021-07-08T09:02:49.358Z"
   },
   {
    "duration": 27,
    "start_time": "2021-07-08T09:02:49.365Z"
   },
   {
    "duration": 8,
    "start_time": "2021-07-08T09:02:49.394Z"
   },
   {
    "duration": 18,
    "start_time": "2021-07-08T09:02:49.404Z"
   },
   {
    "duration": 6,
    "start_time": "2021-07-08T09:02:49.424Z"
   },
   {
    "duration": 11,
    "start_time": "2021-07-08T09:02:49.433Z"
   },
   {
    "duration": 13,
    "start_time": "2021-07-08T09:02:49.485Z"
   },
   {
    "duration": 9,
    "start_time": "2021-07-08T09:02:49.500Z"
   },
   {
    "duration": 38,
    "start_time": "2021-07-08T09:02:49.511Z"
   },
   {
    "duration": 42,
    "start_time": "2021-07-08T09:02:49.551Z"
   },
   {
    "duration": 21,
    "start_time": "2021-07-08T09:02:49.594Z"
   },
   {
    "duration": 6,
    "start_time": "2021-07-08T09:02:49.616Z"
   },
   {
    "duration": 3,
    "start_time": "2021-07-08T09:02:49.623Z"
   },
   {
    "duration": 9,
    "start_time": "2021-07-08T09:02:49.628Z"
   },
   {
    "duration": 52,
    "start_time": "2021-07-08T09:02:49.638Z"
   },
   {
    "duration": 11,
    "start_time": "2021-07-08T09:02:49.692Z"
   },
   {
    "duration": 8,
    "start_time": "2021-07-08T09:02:49.704Z"
   },
   {
    "duration": 27,
    "start_time": "2021-07-08T09:02:49.713Z"
   },
   {
    "duration": 59,
    "start_time": "2021-07-08T09:02:49.741Z"
   },
   {
    "duration": 8,
    "start_time": "2021-07-08T09:02:49.803Z"
   },
   {
    "duration": 14,
    "start_time": "2021-07-08T09:02:49.813Z"
   },
   {
    "duration": 20,
    "start_time": "2021-07-08T09:02:49.829Z"
   },
   {
    "duration": 44,
    "start_time": "2021-07-08T09:02:49.851Z"
   },
   {
    "duration": 14,
    "start_time": "2021-07-08T09:02:49.896Z"
   },
   {
    "duration": 221,
    "start_time": "2021-07-08T09:02:49.912Z"
   },
   {
    "duration": 6,
    "start_time": "2021-07-08T09:02:50.134Z"
   },
   {
    "duration": 206,
    "start_time": "2021-07-08T09:02:50.142Z"
   },
   {
    "duration": 19,
    "start_time": "2021-07-08T09:02:50.350Z"
   },
   {
    "duration": 21,
    "start_time": "2021-07-08T09:02:50.370Z"
   },
   {
    "duration": 20,
    "start_time": "2021-07-08T09:02:50.393Z"
   },
   {
    "duration": 5,
    "start_time": "2021-07-08T09:02:50.414Z"
   },
   {
    "duration": 5,
    "start_time": "2021-07-08T09:03:34.173Z"
   },
   {
    "duration": 6,
    "start_time": "2021-07-08T09:04:49.062Z"
   },
   {
    "duration": 9,
    "start_time": "2021-07-08T09:04:50.118Z"
   },
   {
    "duration": 14,
    "start_time": "2021-07-08T09:04:58.512Z"
   },
   {
    "duration": 9,
    "start_time": "2021-07-08T09:05:10.988Z"
   },
   {
    "duration": 11,
    "start_time": "2021-07-08T09:05:11.743Z"
   },
   {
    "duration": 7,
    "start_time": "2021-07-08T09:05:25.677Z"
   },
   {
    "duration": 13,
    "start_time": "2021-07-08T09:05:47.189Z"
   },
   {
    "duration": 13,
    "start_time": "2021-07-08T09:05:54.755Z"
   },
   {
    "duration": 4,
    "start_time": "2021-07-08T09:06:29.189Z"
   },
   {
    "duration": 244,
    "start_time": "2021-07-08T09:06:29.195Z"
   },
   {
    "duration": 91,
    "start_time": "2021-07-08T09:06:29.441Z"
   },
   {
    "duration": 4,
    "start_time": "2021-07-08T09:06:29.534Z"
   },
   {
    "duration": 28,
    "start_time": "2021-07-08T09:06:29.540Z"
   },
   {
    "duration": 6,
    "start_time": "2021-07-08T09:06:29.570Z"
   },
   {
    "duration": 18,
    "start_time": "2021-07-08T09:06:29.578Z"
   },
   {
    "duration": 5,
    "start_time": "2021-07-08T09:06:29.597Z"
   },
   {
    "duration": 13,
    "start_time": "2021-07-08T09:06:29.605Z"
   },
   {
    "duration": 8,
    "start_time": "2021-07-08T09:06:29.620Z"
   },
   {
    "duration": 7,
    "start_time": "2021-07-08T09:06:29.630Z"
   },
   {
    "duration": 63,
    "start_time": "2021-07-08T09:06:29.639Z"
   },
   {
    "duration": 17,
    "start_time": "2021-07-08T09:06:29.704Z"
   },
   {
    "duration": 20,
    "start_time": "2021-07-08T09:06:29.723Z"
   },
   {
    "duration": 6,
    "start_time": "2021-07-08T09:06:29.745Z"
   },
   {
    "duration": 3,
    "start_time": "2021-07-08T09:06:29.752Z"
   },
   {
    "duration": 7,
    "start_time": "2021-07-08T09:06:29.785Z"
   },
   {
    "duration": 11,
    "start_time": "2021-07-08T09:06:29.794Z"
   },
   {
    "duration": 15,
    "start_time": "2021-07-08T09:06:29.807Z"
   },
   {
    "duration": 8,
    "start_time": "2021-07-08T09:06:29.823Z"
   },
   {
    "duration": 70,
    "start_time": "2021-07-08T09:06:29.832Z"
   },
   {
    "duration": 17,
    "start_time": "2021-07-08T09:06:29.903Z"
   },
   {
    "duration": 9,
    "start_time": "2021-07-08T09:06:29.921Z"
   },
   {
    "duration": 9,
    "start_time": "2021-07-08T09:06:29.932Z"
   },
   {
    "duration": 57,
    "start_time": "2021-07-08T09:06:29.942Z"
   },
   {
    "duration": 11,
    "start_time": "2021-07-08T09:06:30.001Z"
   },
   {
    "duration": 19,
    "start_time": "2021-07-08T09:06:30.016Z"
   },
   {
    "duration": 217,
    "start_time": "2021-07-08T09:06:30.037Z"
   },
   {
    "duration": 6,
    "start_time": "2021-07-08T09:06:30.255Z"
   },
   {
    "duration": 205,
    "start_time": "2021-07-08T09:06:30.263Z"
   },
   {
    "duration": 27,
    "start_time": "2021-07-08T09:06:30.470Z"
   },
   {
    "duration": 11,
    "start_time": "2021-07-08T09:06:30.500Z"
   },
   {
    "duration": 31,
    "start_time": "2021-07-08T09:06:30.513Z"
   },
   {
    "duration": 18,
    "start_time": "2021-07-08T09:06:30.546Z"
   },
   {
    "duration": 11,
    "start_time": "2021-07-08T09:06:30.566Z"
   },
   {
    "duration": 19,
    "start_time": "2021-07-08T09:06:30.579Z"
   },
   {
    "duration": 20,
    "start_time": "2021-07-08T09:06:49.466Z"
   },
   {
    "duration": 9,
    "start_time": "2021-07-08T09:06:51.994Z"
   },
   {
    "duration": 20,
    "start_time": "2021-07-08T09:06:52.273Z"
   },
   {
    "duration": 246,
    "start_time": "2021-07-08T09:10:21.272Z"
   },
   {
    "duration": 84,
    "start_time": "2021-07-08T09:10:21.436Z"
   },
   {
    "duration": 7,
    "start_time": "2021-07-08T09:10:37.608Z"
   },
   {
    "duration": 189,
    "start_time": "2021-07-08T09:10:38.573Z"
   },
   {
    "duration": 185,
    "start_time": "2021-07-08T09:10:53.181Z"
   },
   {
    "duration": 11,
    "start_time": "2021-07-08T09:10:59.549Z"
   },
   {
    "duration": 42,
    "start_time": "2021-07-08T09:10:59.709Z"
   },
   {
    "duration": 12,
    "start_time": "2021-07-08T09:11:02.857Z"
   },
   {
    "duration": 28,
    "start_time": "2021-07-08T09:11:10.062Z"
   },
   {
    "duration": 249,
    "start_time": "2021-07-08T09:11:37.388Z"
   },
   {
    "duration": 232,
    "start_time": "2021-07-08T09:11:49.485Z"
   },
   {
    "duration": 453,
    "start_time": "2021-07-08T09:12:01.546Z"
   },
   {
    "duration": 440,
    "start_time": "2021-07-08T09:12:12.347Z"
   },
   {
    "duration": 213,
    "start_time": "2021-07-08T09:13:32.196Z"
   },
   {
    "duration": 172,
    "start_time": "2021-07-08T09:14:07.400Z"
   },
   {
    "duration": 185,
    "start_time": "2021-07-08T09:14:14.905Z"
   },
   {
    "duration": 209,
    "start_time": "2021-07-08T09:14:40.109Z"
   },
   {
    "duration": 201,
    "start_time": "2021-07-08T09:14:54.506Z"
   },
   {
    "duration": 622,
    "start_time": "2021-07-08T09:18:14.497Z"
   },
   {
    "duration": 220,
    "start_time": "2021-07-08T09:18:15.121Z"
   },
   {
    "duration": 79,
    "start_time": "2021-07-08T09:18:15.343Z"
   },
   {
    "duration": 4,
    "start_time": "2021-07-08T09:18:15.425Z"
   },
   {
    "duration": 24,
    "start_time": "2021-07-08T09:18:15.431Z"
   },
   {
    "duration": 8,
    "start_time": "2021-07-08T09:18:15.457Z"
   },
   {
    "duration": 16,
    "start_time": "2021-07-08T09:18:15.466Z"
   },
   {
    "duration": 5,
    "start_time": "2021-07-08T09:18:15.484Z"
   },
   {
    "duration": 10,
    "start_time": "2021-07-08T09:18:15.493Z"
   },
   {
    "duration": 8,
    "start_time": "2021-07-08T09:18:15.504Z"
   },
   {
    "duration": 7,
    "start_time": "2021-07-08T09:18:15.513Z"
   },
   {
    "duration": 26,
    "start_time": "2021-07-08T09:18:15.522Z"
   },
   {
    "duration": 49,
    "start_time": "2021-07-08T09:18:15.550Z"
   },
   {
    "duration": 21,
    "start_time": "2021-07-08T09:18:15.601Z"
   },
   {
    "duration": 8,
    "start_time": "2021-07-08T09:18:15.624Z"
   },
   {
    "duration": 3,
    "start_time": "2021-07-08T09:18:15.634Z"
   },
   {
    "duration": 8,
    "start_time": "2021-07-08T09:18:15.639Z"
   },
   {
    "duration": 45,
    "start_time": "2021-07-08T09:18:15.649Z"
   },
   {
    "duration": 13,
    "start_time": "2021-07-08T09:18:15.696Z"
   },
   {
    "duration": 10,
    "start_time": "2021-07-08T09:18:15.711Z"
   },
   {
    "duration": 64,
    "start_time": "2021-07-08T09:18:15.722Z"
   },
   {
    "duration": 19,
    "start_time": "2021-07-08T09:18:15.788Z"
   },
   {
    "duration": 9,
    "start_time": "2021-07-08T09:18:15.809Z"
   },
   {
    "duration": 9,
    "start_time": "2021-07-08T09:18:15.820Z"
   },
   {
    "duration": 18,
    "start_time": "2021-07-08T09:18:15.831Z"
   },
   {
    "duration": 43,
    "start_time": "2021-07-08T09:18:15.851Z"
   },
   {
    "duration": 12,
    "start_time": "2021-07-08T09:18:15.897Z"
   },
   {
    "duration": 219,
    "start_time": "2021-07-08T09:18:15.911Z"
   },
   {
    "duration": 8,
    "start_time": "2021-07-08T09:18:16.132Z"
   },
   {
    "duration": 199,
    "start_time": "2021-07-08T09:18:16.141Z"
   },
   {
    "duration": 18,
    "start_time": "2021-07-08T09:18:16.341Z"
   },
   {
    "duration": 24,
    "start_time": "2021-07-08T09:18:16.361Z"
   },
   {
    "duration": 24,
    "start_time": "2021-07-08T09:18:16.387Z"
   },
   {
    "duration": 211,
    "start_time": "2021-07-08T09:18:16.413Z"
   },
   {
    "duration": 18,
    "start_time": "2021-07-08T09:18:16.626Z"
   },
   {
    "duration": 596,
    "start_time": "2021-07-08T10:06:33.623Z"
   },
   {
    "duration": 181,
    "start_time": "2021-07-08T10:06:34.221Z"
   },
   {
    "duration": 176,
    "start_time": "2021-07-08T10:06:34.635Z"
   },
   {
    "duration": 239,
    "start_time": "2021-07-08T10:06:55.572Z"
   },
   {
    "duration": 6,
    "start_time": "2021-07-08T10:06:57.687Z"
   },
   {
    "duration": 4,
    "start_time": "2021-07-08T10:07:03.956Z"
   },
   {
    "duration": 4,
    "start_time": "2021-07-08T10:07:10.376Z"
   },
   {
    "duration": 4,
    "start_time": "2021-07-08T10:17:19.889Z"
   },
   {
    "duration": 3,
    "start_time": "2021-07-08T10:19:19.407Z"
   },
   {
    "duration": 197,
    "start_time": "2021-07-08T10:19:19.412Z"
   },
   {
    "duration": 127,
    "start_time": "2021-07-08T10:19:19.611Z"
   },
   {
    "duration": 4,
    "start_time": "2021-07-08T10:19:19.740Z"
   },
   {
    "duration": 27,
    "start_time": "2021-07-08T10:19:19.746Z"
   },
   {
    "duration": 7,
    "start_time": "2021-07-08T10:19:19.775Z"
   },
   {
    "duration": 30,
    "start_time": "2021-07-08T10:19:19.784Z"
   },
   {
    "duration": 7,
    "start_time": "2021-07-08T10:19:19.817Z"
   },
   {
    "duration": 26,
    "start_time": "2021-07-08T10:19:19.826Z"
   },
   {
    "duration": 18,
    "start_time": "2021-07-08T10:19:19.854Z"
   },
   {
    "duration": 14,
    "start_time": "2021-07-08T10:19:19.874Z"
   },
   {
    "duration": 48,
    "start_time": "2021-07-08T10:19:19.890Z"
   },
   {
    "duration": 17,
    "start_time": "2021-07-08T10:19:19.940Z"
   },
   {
    "duration": 38,
    "start_time": "2021-07-08T10:19:19.959Z"
   },
   {
    "duration": 8,
    "start_time": "2021-07-08T10:19:19.999Z"
   },
   {
    "duration": 15,
    "start_time": "2021-07-08T10:19:20.009Z"
   },
   {
    "duration": 22,
    "start_time": "2021-07-08T10:19:20.026Z"
   },
   {
    "duration": 10,
    "start_time": "2021-07-08T10:19:20.050Z"
   },
   {
    "duration": 10,
    "start_time": "2021-07-08T10:19:20.062Z"
   },
   {
    "duration": 20,
    "start_time": "2021-07-08T10:19:20.073Z"
   },
   {
    "duration": 29,
    "start_time": "2021-07-08T10:19:20.095Z"
   },
   {
    "duration": 17,
    "start_time": "2021-07-08T10:19:20.126Z"
   },
   {
    "duration": 40,
    "start_time": "2021-07-08T10:19:20.146Z"
   },
   {
    "duration": 15,
    "start_time": "2021-07-08T10:19:20.189Z"
   },
   {
    "duration": 19,
    "start_time": "2021-07-08T10:19:20.206Z"
   },
   {
    "duration": 10,
    "start_time": "2021-07-08T10:19:20.226Z"
   },
   {
    "duration": 11,
    "start_time": "2021-07-08T10:19:20.238Z"
   },
   {
    "duration": 297,
    "start_time": "2021-07-08T10:19:20.250Z"
   },
   {
    "duration": 6,
    "start_time": "2021-07-08T10:19:20.549Z"
   },
   {
    "duration": 191,
    "start_time": "2021-07-08T10:19:20.557Z"
   },
   {
    "duration": 19,
    "start_time": "2021-07-08T10:19:20.750Z"
   },
   {
    "duration": 20,
    "start_time": "2021-07-08T10:19:20.771Z"
   },
   {
    "duration": 15,
    "start_time": "2021-07-08T10:19:20.793Z"
   },
   {
    "duration": 222,
    "start_time": "2021-07-08T10:19:20.809Z"
   },
   {
    "duration": 20,
    "start_time": "2021-07-08T10:19:21.033Z"
   },
   {
    "duration": 27,
    "start_time": "2021-07-08T10:45:04.055Z"
   },
   {
    "duration": 8,
    "start_time": "2021-07-08T10:45:08.478Z"
   },
   {
    "duration": 8,
    "start_time": "2021-07-08T10:45:31.982Z"
   },
   {
    "duration": 10,
    "start_time": "2021-07-08T10:46:01.221Z"
   },
   {
    "duration": 17,
    "start_time": "2021-07-08T10:46:40.011Z"
   },
   {
    "duration": 193,
    "start_time": "2021-07-08T10:48:19.471Z"
   },
   {
    "duration": 225,
    "start_time": "2021-07-08T10:49:26.480Z"
   },
   {
    "duration": 204,
    "start_time": "2021-07-08T10:49:59.992Z"
   },
   {
    "duration": 435,
    "start_time": "2021-07-08T10:50:06.779Z"
   },
   {
    "duration": 199,
    "start_time": "2021-07-08T10:50:14.891Z"
   },
   {
    "duration": 204,
    "start_time": "2021-07-08T10:50:18.501Z"
   },
   {
    "duration": 244,
    "start_time": "2021-07-08T10:50:23.359Z"
   },
   {
    "duration": 192,
    "start_time": "2021-07-08T10:50:29.135Z"
   },
   {
    "duration": 218,
    "start_time": "2021-07-08T10:50:33.092Z"
   },
   {
    "duration": 207,
    "start_time": "2021-07-08T10:52:45.381Z"
   },
   {
    "duration": 5,
    "start_time": "2021-07-08T10:53:34.641Z"
   },
   {
    "duration": 196,
    "start_time": "2021-07-08T10:53:41.478Z"
   },
   {
    "duration": 43,
    "start_time": "2021-07-08T10:53:50.335Z"
   },
   {
    "duration": 32,
    "start_time": "2021-07-08T10:53:55.294Z"
   },
   {
    "duration": 55,
    "start_time": "2021-07-08T10:54:09.675Z"
   },
   {
    "duration": 16,
    "start_time": "2021-07-08T10:54:12.260Z"
   },
   {
    "duration": 15,
    "start_time": "2021-07-08T10:54:49.150Z"
   },
   {
    "duration": 20,
    "start_time": "2021-07-08T10:56:07.596Z"
   },
   {
    "duration": 16,
    "start_time": "2021-07-08T10:58:26.276Z"
   },
   {
    "duration": 22,
    "start_time": "2021-07-08T10:59:00.486Z"
   },
   {
    "duration": 18,
    "start_time": "2021-07-08T11:02:09.653Z"
   },
   {
    "duration": 10,
    "start_time": "2021-07-08T11:03:44.331Z"
   },
   {
    "duration": 10,
    "start_time": "2021-07-08T11:03:54.055Z"
   },
   {
    "duration": 12,
    "start_time": "2021-07-08T11:04:41.967Z"
   },
   {
    "duration": 24,
    "start_time": "2021-07-08T11:07:30.732Z"
   },
   {
    "duration": 6,
    "start_time": "2021-07-08T11:07:37.364Z"
   },
   {
    "duration": 16,
    "start_time": "2021-07-08T11:08:01.819Z"
   },
   {
    "duration": 17,
    "start_time": "2021-07-08T11:09:47.488Z"
   },
   {
    "duration": 246,
    "start_time": "2021-07-08T11:10:00.830Z"
   },
   {
    "duration": 18,
    "start_time": "2021-07-08T11:13:55.195Z"
   },
   {
    "duration": 204,
    "start_time": "2021-07-08T11:14:04.951Z"
   },
   {
    "duration": 19,
    "start_time": "2021-07-08T11:15:10.613Z"
   },
   {
    "duration": 680,
    "start_time": "2021-07-08T11:16:25.793Z"
   },
   {
    "duration": 451,
    "start_time": "2021-07-08T11:16:40.313Z"
   },
   {
    "duration": 469,
    "start_time": "2021-07-08T11:17:21.286Z"
   },
   {
    "duration": 20,
    "start_time": "2021-07-08T11:19:12.554Z"
   },
   {
    "duration": 35,
    "start_time": "2021-07-08T11:20:05.484Z"
   },
   {
    "duration": 53,
    "start_time": "2021-07-08T11:21:40.050Z"
   },
   {
    "duration": 13,
    "start_time": "2021-07-08T11:22:26.059Z"
   },
   {
    "duration": 19,
    "start_time": "2021-07-08T11:22:47.419Z"
   },
   {
    "duration": 25,
    "start_time": "2021-07-08T11:23:19.958Z"
   },
   {
    "duration": 29,
    "start_time": "2021-07-08T11:23:25.415Z"
   },
   {
    "duration": 10,
    "start_time": "2021-07-08T11:24:45.138Z"
   },
   {
    "duration": 19,
    "start_time": "2021-07-08T11:24:54.498Z"
   },
   {
    "duration": 12,
    "start_time": "2021-07-08T11:25:32.225Z"
   },
   {
    "duration": 19,
    "start_time": "2021-07-08T11:25:37.092Z"
   },
   {
    "duration": 17,
    "start_time": "2021-07-08T11:25:58.116Z"
   },
   {
    "duration": 15,
    "start_time": "2021-07-08T11:26:02.258Z"
   },
   {
    "duration": 8,
    "start_time": "2021-07-08T11:26:59.682Z"
   },
   {
    "duration": 184,
    "start_time": "2021-07-08T11:27:21.894Z"
   },
   {
    "duration": 8,
    "start_time": "2021-07-08T11:27:23.824Z"
   },
   {
    "duration": 202,
    "start_time": "2021-07-08T11:27:23.962Z"
   },
   {
    "duration": 360,
    "start_time": "2021-07-08T11:28:33.215Z"
   },
   {
    "duration": 231,
    "start_time": "2021-07-08T11:32:05.542Z"
   },
   {
    "duration": 607,
    "start_time": "2021-07-08T11:36:27.854Z"
   },
   {
    "duration": 241,
    "start_time": "2021-07-08T11:36:28.463Z"
   },
   {
    "duration": 67,
    "start_time": "2021-07-08T11:36:28.709Z"
   },
   {
    "duration": 5,
    "start_time": "2021-07-08T11:36:28.778Z"
   },
   {
    "duration": 32,
    "start_time": "2021-07-08T11:36:28.784Z"
   },
   {
    "duration": 11,
    "start_time": "2021-07-08T11:36:28.819Z"
   },
   {
    "duration": 20,
    "start_time": "2021-07-08T11:36:28.834Z"
   },
   {
    "duration": 36,
    "start_time": "2021-07-08T11:36:28.857Z"
   },
   {
    "duration": 16,
    "start_time": "2021-07-08T11:36:28.895Z"
   },
   {
    "duration": 14,
    "start_time": "2021-07-08T11:36:28.913Z"
   },
   {
    "duration": 9,
    "start_time": "2021-07-08T11:36:28.930Z"
   },
   {
    "duration": 55,
    "start_time": "2021-07-08T11:36:28.941Z"
   },
   {
    "duration": 27,
    "start_time": "2021-07-08T11:36:28.999Z"
   },
   {
    "duration": 30,
    "start_time": "2021-07-08T11:36:29.028Z"
   },
   {
    "duration": 31,
    "start_time": "2021-07-08T11:36:29.060Z"
   },
   {
    "duration": 3,
    "start_time": "2021-07-08T11:36:29.093Z"
   },
   {
    "duration": 12,
    "start_time": "2021-07-08T11:36:29.099Z"
   },
   {
    "duration": 11,
    "start_time": "2021-07-08T11:36:29.112Z"
   },
   {
    "duration": 12,
    "start_time": "2021-07-08T11:36:29.125Z"
   },
   {
    "duration": 9,
    "start_time": "2021-07-08T11:36:29.139Z"
   },
   {
    "duration": 31,
    "start_time": "2021-07-08T11:36:29.191Z"
   },
   {
    "duration": 17,
    "start_time": "2021-07-08T11:36:29.226Z"
   },
   {
    "duration": 7,
    "start_time": "2021-07-08T11:36:29.245Z"
   },
   {
    "duration": 10,
    "start_time": "2021-07-08T11:36:29.254Z"
   },
   {
    "duration": 30,
    "start_time": "2021-07-08T11:36:29.292Z"
   },
   {
    "duration": 11,
    "start_time": "2021-07-08T11:36:29.324Z"
   },
   {
    "duration": 11,
    "start_time": "2021-07-08T11:36:29.337Z"
   },
   {
    "duration": 230,
    "start_time": "2021-07-08T11:36:29.349Z"
   },
   {
    "duration": 13,
    "start_time": "2021-07-08T11:36:29.588Z"
   },
   {
    "duration": 205,
    "start_time": "2021-07-08T11:36:29.603Z"
   },
   {
    "duration": 20,
    "start_time": "2021-07-08T11:36:29.810Z"
   },
   {
    "duration": 9,
    "start_time": "2021-07-08T11:36:29.832Z"
   },
   {
    "duration": 16,
    "start_time": "2021-07-08T11:36:29.843Z"
   },
   {
    "duration": 283,
    "start_time": "2021-07-08T11:36:29.861Z"
   },
   {
    "duration": 50,
    "start_time": "2021-07-08T11:36:30.146Z"
   },
   {
    "duration": 14,
    "start_time": "2021-07-08T11:36:30.198Z"
   },
   {
    "duration": 11,
    "start_time": "2021-07-08T11:36:30.214Z"
   },
   {
    "duration": 245,
    "start_time": "2021-07-08T11:36:30.227Z"
   },
   {
    "duration": 439,
    "start_time": "2021-07-08T11:36:30.474Z"
   },
   {
    "duration": 210,
    "start_time": "2021-07-08T11:36:30.915Z"
   },
   {
    "duration": 15,
    "start_time": "2021-07-08T11:36:31.127Z"
   },
   {
    "duration": 17,
    "start_time": "2021-07-08T11:38:20.451Z"
   },
   {
    "duration": 642,
    "start_time": "2021-07-08T11:46:17.881Z"
   },
   {
    "duration": 210,
    "start_time": "2021-07-08T11:46:18.525Z"
   },
   {
    "duration": 104,
    "start_time": "2021-07-08T11:46:18.741Z"
   },
   {
    "duration": 8,
    "start_time": "2021-07-08T11:46:18.847Z"
   },
   {
    "duration": 25,
    "start_time": "2021-07-08T11:46:18.857Z"
   },
   {
    "duration": 14,
    "start_time": "2021-07-08T11:46:18.884Z"
   },
   {
    "duration": 22,
    "start_time": "2021-07-08T11:46:18.900Z"
   },
   {
    "duration": 5,
    "start_time": "2021-07-08T11:46:18.924Z"
   },
   {
    "duration": 13,
    "start_time": "2021-07-08T11:46:18.931Z"
   },
   {
    "duration": 45,
    "start_time": "2021-07-08T11:46:18.946Z"
   },
   {
    "duration": 12,
    "start_time": "2021-07-08T11:46:18.993Z"
   },
   {
    "duration": 38,
    "start_time": "2021-07-08T11:46:19.006Z"
   },
   {
    "duration": 50,
    "start_time": "2021-07-08T11:46:19.046Z"
   },
   {
    "duration": 29,
    "start_time": "2021-07-08T11:46:19.099Z"
   },
   {
    "duration": 7,
    "start_time": "2021-07-08T11:46:19.130Z"
   },
   {
    "duration": 3,
    "start_time": "2021-07-08T11:46:19.139Z"
   },
   {
    "duration": 11,
    "start_time": "2021-07-08T11:46:19.144Z"
   },
   {
    "duration": 40,
    "start_time": "2021-07-08T11:46:19.157Z"
   },
   {
    "duration": 15,
    "start_time": "2021-07-08T11:46:19.199Z"
   },
   {
    "duration": 10,
    "start_time": "2021-07-08T11:46:19.217Z"
   },
   {
    "duration": 68,
    "start_time": "2021-07-08T11:46:19.230Z"
   },
   {
    "duration": 17,
    "start_time": "2021-07-08T11:46:19.301Z"
   },
   {
    "duration": 7,
    "start_time": "2021-07-08T11:46:19.321Z"
   },
   {
    "duration": 11,
    "start_time": "2021-07-08T11:46:19.330Z"
   },
   {
    "duration": 59,
    "start_time": "2021-07-08T11:46:19.343Z"
   },
   {
    "duration": 17,
    "start_time": "2021-07-08T11:46:19.405Z"
   },
   {
    "duration": 16,
    "start_time": "2021-07-08T11:46:19.424Z"
   },
   {
    "duration": 252,
    "start_time": "2021-07-08T11:46:19.443Z"
   },
   {
    "duration": 9,
    "start_time": "2021-07-08T11:46:19.697Z"
   },
   {
    "duration": 224,
    "start_time": "2021-07-08T11:46:19.708Z"
   },
   {
    "duration": 21,
    "start_time": "2021-07-08T11:46:19.934Z"
   },
   {
    "duration": 9,
    "start_time": "2021-07-08T11:46:19.956Z"
   },
   {
    "duration": 32,
    "start_time": "2021-07-08T11:46:19.967Z"
   },
   {
    "duration": 288,
    "start_time": "2021-07-08T11:46:20.004Z"
   },
   {
    "duration": 23,
    "start_time": "2021-07-08T11:46:20.300Z"
   },
   {
    "duration": 11,
    "start_time": "2021-07-08T11:46:20.325Z"
   },
   {
    "duration": 11,
    "start_time": "2021-07-08T11:46:20.339Z"
   },
   {
    "duration": 259,
    "start_time": "2021-07-08T11:46:20.352Z"
   },
   {
    "duration": 438,
    "start_time": "2021-07-08T11:46:20.613Z"
   },
   {
    "duration": 207,
    "start_time": "2021-07-08T11:46:21.054Z"
   },
   {
    "duration": 27,
    "start_time": "2021-07-08T11:46:21.262Z"
   },
   {
    "duration": 19,
    "start_time": "2021-07-08T11:46:21.291Z"
   },
   {
    "duration": 820,
    "start_time": "2021-07-08T11:49:01.655Z"
   },
   {
    "duration": 372,
    "start_time": "2021-07-08T11:49:02.478Z"
   },
   {
    "duration": 98,
    "start_time": "2021-07-08T11:49:02.853Z"
   },
   {
    "duration": 6,
    "start_time": "2021-07-08T11:49:02.953Z"
   },
   {
    "duration": 39,
    "start_time": "2021-07-08T11:49:02.960Z"
   },
   {
    "duration": 9,
    "start_time": "2021-07-08T11:49:03.003Z"
   },
   {
    "duration": 23,
    "start_time": "2021-07-08T11:49:03.014Z"
   },
   {
    "duration": 6,
    "start_time": "2021-07-08T11:49:03.041Z"
   },
   {
    "duration": 20,
    "start_time": "2021-07-08T11:49:03.049Z"
   },
   {
    "duration": 18,
    "start_time": "2021-07-08T11:49:03.084Z"
   },
   {
    "duration": 14,
    "start_time": "2021-07-08T11:49:03.104Z"
   },
   {
    "duration": 39,
    "start_time": "2021-07-08T11:49:03.119Z"
   },
   {
    "duration": 38,
    "start_time": "2021-07-08T11:49:03.160Z"
   },
   {
    "duration": 26,
    "start_time": "2021-07-08T11:49:03.200Z"
   },
   {
    "duration": 7,
    "start_time": "2021-07-08T11:49:03.227Z"
   },
   {
    "duration": 4,
    "start_time": "2021-07-08T11:49:03.236Z"
   },
   {
    "duration": 15,
    "start_time": "2021-07-08T11:49:03.243Z"
   },
   {
    "duration": 21,
    "start_time": "2021-07-08T11:49:03.285Z"
   },
   {
    "duration": 17,
    "start_time": "2021-07-08T11:49:03.309Z"
   },
   {
    "duration": 10,
    "start_time": "2021-07-08T11:49:03.328Z"
   },
   {
    "duration": 65,
    "start_time": "2021-07-08T11:49:03.340Z"
   },
   {
    "duration": 18,
    "start_time": "2021-07-08T11:49:03.407Z"
   },
   {
    "duration": 8,
    "start_time": "2021-07-08T11:49:03.428Z"
   },
   {
    "duration": 15,
    "start_time": "2021-07-08T11:49:03.438Z"
   },
   {
    "duration": 40,
    "start_time": "2021-07-08T11:49:03.455Z"
   },
   {
    "duration": 12,
    "start_time": "2021-07-08T11:49:03.497Z"
   },
   {
    "duration": 29,
    "start_time": "2021-07-08T11:49:03.511Z"
   },
   {
    "duration": 285,
    "start_time": "2021-07-08T11:49:03.542Z"
   },
   {
    "duration": 8,
    "start_time": "2021-07-08T11:49:03.829Z"
   },
   {
    "duration": 227,
    "start_time": "2021-07-08T11:49:03.838Z"
   },
   {
    "duration": 40,
    "start_time": "2021-07-08T11:49:04.066Z"
   },
   {
    "duration": 10,
    "start_time": "2021-07-08T11:49:04.108Z"
   },
   {
    "duration": 26,
    "start_time": "2021-07-08T11:49:04.121Z"
   },
   {
    "duration": 290,
    "start_time": "2021-07-08T11:49:04.149Z"
   },
   {
    "duration": 26,
    "start_time": "2021-07-08T11:49:04.441Z"
   },
   {
    "duration": 31,
    "start_time": "2021-07-08T11:49:04.470Z"
   },
   {
    "duration": 14,
    "start_time": "2021-07-08T11:49:04.503Z"
   },
   {
    "duration": 259,
    "start_time": "2021-07-08T11:49:04.521Z"
   },
   {
    "duration": 480,
    "start_time": "2021-07-08T11:49:04.782Z"
   },
   {
    "duration": 225,
    "start_time": "2021-07-08T11:49:05.264Z"
   },
   {
    "duration": 22,
    "start_time": "2021-07-08T11:49:05.491Z"
   },
   {
    "duration": 24,
    "start_time": "2021-07-08T11:49:05.515Z"
   },
   {
    "duration": 634,
    "start_time": "2021-07-08T11:52:24.960Z"
   },
   {
    "duration": 199,
    "start_time": "2021-07-08T11:52:25.599Z"
   },
   {
    "duration": 106,
    "start_time": "2021-07-08T11:52:25.803Z"
   },
   {
    "duration": 7,
    "start_time": "2021-07-08T11:52:25.911Z"
   },
   {
    "duration": 29,
    "start_time": "2021-07-08T11:52:25.920Z"
   },
   {
    "duration": 7,
    "start_time": "2021-07-08T11:52:25.951Z"
   },
   {
    "duration": 26,
    "start_time": "2021-07-08T11:52:25.961Z"
   },
   {
    "duration": 11,
    "start_time": "2021-07-08T11:52:25.990Z"
   },
   {
    "duration": 29,
    "start_time": "2021-07-08T11:52:26.005Z"
   },
   {
    "duration": 9,
    "start_time": "2021-07-08T11:52:26.036Z"
   },
   {
    "duration": 8,
    "start_time": "2021-07-08T11:52:26.047Z"
   },
   {
    "duration": 63,
    "start_time": "2021-07-08T11:52:26.057Z"
   },
   {
    "duration": 17,
    "start_time": "2021-07-08T11:52:26.122Z"
   },
   {
    "duration": 43,
    "start_time": "2021-07-08T11:52:26.142Z"
   },
   {
    "duration": 17,
    "start_time": "2021-07-08T11:52:26.187Z"
   },
   {
    "duration": 5,
    "start_time": "2021-07-08T11:52:26.206Z"
   },
   {
    "duration": 12,
    "start_time": "2021-07-08T11:52:26.212Z"
   },
   {
    "duration": 11,
    "start_time": "2021-07-08T11:52:26.226Z"
   },
   {
    "duration": 12,
    "start_time": "2021-07-08T11:52:26.238Z"
   },
   {
    "duration": 38,
    "start_time": "2021-07-08T11:52:26.252Z"
   },
   {
    "duration": 40,
    "start_time": "2021-07-08T11:52:26.292Z"
   },
   {
    "duration": 17,
    "start_time": "2021-07-08T11:52:26.336Z"
   },
   {
    "duration": 39,
    "start_time": "2021-07-08T11:52:26.355Z"
   },
   {
    "duration": 11,
    "start_time": "2021-07-08T11:52:26.395Z"
   },
   {
    "duration": 23,
    "start_time": "2021-07-08T11:52:26.408Z"
   },
   {
    "duration": 12,
    "start_time": "2021-07-08T11:52:26.432Z"
   },
   {
    "duration": 41,
    "start_time": "2021-07-08T11:52:26.446Z"
   },
   {
    "duration": 215,
    "start_time": "2021-07-08T11:52:26.493Z"
   },
   {
    "duration": 8,
    "start_time": "2021-07-08T11:52:26.710Z"
   },
   {
    "duration": 228,
    "start_time": "2021-07-08T11:52:26.720Z"
   },
   {
    "duration": 18,
    "start_time": "2021-07-08T11:52:26.950Z"
   },
   {
    "duration": 35,
    "start_time": "2021-07-08T11:52:26.969Z"
   },
   {
    "duration": 23,
    "start_time": "2021-07-08T11:52:27.006Z"
   },
   {
    "duration": 258,
    "start_time": "2021-07-08T11:52:27.030Z"
   },
   {
    "duration": 24,
    "start_time": "2021-07-08T11:52:27.290Z"
   },
   {
    "duration": 12,
    "start_time": "2021-07-08T11:52:27.316Z"
   },
   {
    "duration": 10,
    "start_time": "2021-07-08T11:52:27.329Z"
   },
   {
    "duration": 298,
    "start_time": "2021-07-08T11:52:27.341Z"
   },
   {
    "duration": 436,
    "start_time": "2021-07-08T11:52:27.641Z"
   },
   {
    "duration": 216,
    "start_time": "2021-07-08T11:52:28.079Z"
   },
   {
    "duration": 20,
    "start_time": "2021-07-08T11:52:28.297Z"
   },
   {
    "duration": 17,
    "start_time": "2021-07-08T11:52:28.319Z"
   },
   {
    "duration": 734,
    "start_time": "2022-02-19T07:55:05.408Z"
   },
   {
    "duration": 760,
    "start_time": "2022-02-19T07:57:11.594Z"
   },
   {
    "duration": 27,
    "start_time": "2022-02-19T07:57:50.360Z"
   },
   {
    "duration": 8,
    "start_time": "2022-02-19T07:58:10.118Z"
   },
   {
    "duration": 14,
    "start_time": "2022-02-19T08:02:10.059Z"
   },
   {
    "duration": 11,
    "start_time": "2022-02-19T08:02:25.073Z"
   },
   {
    "duration": 21,
    "start_time": "2022-02-19T08:02:46.652Z"
   },
   {
    "duration": 22,
    "start_time": "2022-02-19T08:14:45.421Z"
   },
   {
    "duration": 6,
    "start_time": "2022-02-19T08:15:18.936Z"
   },
   {
    "duration": 56,
    "start_time": "2022-02-19T08:15:40.714Z"
   },
   {
    "duration": 15,
    "start_time": "2022-02-19T08:16:00.688Z"
   },
   {
    "duration": 9,
    "start_time": "2022-02-19T08:17:13.053Z"
   },
   {
    "duration": 244,
    "start_time": "2022-02-19T19:08:27.350Z"
   },
   {
    "duration": 661,
    "start_time": "2022-02-19T19:08:32.661Z"
   },
   {
    "duration": 121,
    "start_time": "2022-02-19T19:08:33.324Z"
   },
   {
    "duration": 30,
    "start_time": "2022-02-19T19:08:33.448Z"
   },
   {
    "duration": 11,
    "start_time": "2022-02-19T19:08:33.480Z"
   },
   {
    "duration": 19,
    "start_time": "2022-02-19T19:08:33.493Z"
   },
   {
    "duration": 13,
    "start_time": "2022-02-19T19:08:33.514Z"
   },
   {
    "duration": 25,
    "start_time": "2022-02-19T19:08:33.529Z"
   },
   {
    "duration": 7,
    "start_time": "2022-02-19T19:08:33.556Z"
   },
   {
    "duration": 21,
    "start_time": "2022-02-19T19:08:33.565Z"
   },
   {
    "duration": 17,
    "start_time": "2022-02-19T19:08:33.588Z"
   },
   {
    "duration": 14,
    "start_time": "2022-02-19T19:08:33.606Z"
   },
   {
    "duration": 22,
    "start_time": "2022-02-19T19:08:33.621Z"
   },
   {
    "duration": 23,
    "start_time": "2022-02-19T19:08:51.980Z"
   },
   {
    "duration": 19,
    "start_time": "2022-02-19T19:09:24.652Z"
   },
   {
    "duration": 21,
    "start_time": "2022-02-19T19:09:32.937Z"
   },
   {
    "duration": 18,
    "start_time": "2022-02-19T19:09:37.119Z"
   },
   {
    "duration": 24,
    "start_time": "2022-02-19T19:10:22.274Z"
   },
   {
    "duration": 10,
    "start_time": "2022-02-19T19:11:00.472Z"
   },
   {
    "duration": 77,
    "start_time": "2022-02-19T19:11:54.602Z"
   },
   {
    "duration": 68,
    "start_time": "2022-02-19T19:12:05.933Z"
   },
   {
    "duration": 79,
    "start_time": "2022-02-19T19:12:07.972Z"
   },
   {
    "duration": 87,
    "start_time": "2022-02-19T19:12:16.634Z"
   },
   {
    "duration": 64,
    "start_time": "2022-02-19T19:12:20.246Z"
   },
   {
    "duration": 65,
    "start_time": "2022-02-19T19:12:27.239Z"
   },
   {
    "duration": 67,
    "start_time": "2022-02-19T19:13:01.050Z"
   },
   {
    "duration": 18,
    "start_time": "2022-02-19T19:13:20.517Z"
   },
   {
    "duration": 14,
    "start_time": "2022-02-19T19:13:41.858Z"
   },
   {
    "duration": 20,
    "start_time": "2022-02-19T19:13:50.090Z"
   },
   {
    "duration": 22,
    "start_time": "2022-02-19T19:14:01.512Z"
   },
   {
    "duration": 6,
    "start_time": "2022-02-19T19:36:28.007Z"
   },
   {
    "duration": 64,
    "start_time": "2022-02-19T19:36:43.637Z"
   },
   {
    "duration": 7,
    "start_time": "2022-02-19T19:37:38.694Z"
   },
   {
    "duration": 9,
    "start_time": "2022-02-19T19:38:47.948Z"
   },
   {
    "duration": 10,
    "start_time": "2022-02-19T19:38:54.479Z"
   },
   {
    "duration": 10,
    "start_time": "2022-02-19T19:47:57.283Z"
   },
   {
    "duration": 9,
    "start_time": "2022-02-19T19:48:17.081Z"
   },
   {
    "duration": 8,
    "start_time": "2022-02-19T19:48:20.697Z"
   },
   {
    "duration": 7,
    "start_time": "2022-02-19T19:48:51.257Z"
   },
   {
    "duration": 32,
    "start_time": "2022-02-19T19:50:43.011Z"
   },
   {
    "duration": 14,
    "start_time": "2022-02-19T19:50:57.329Z"
   },
   {
    "duration": 12,
    "start_time": "2022-02-19T19:51:11.760Z"
   },
   {
    "duration": 30,
    "start_time": "2022-02-19T19:51:26.493Z"
   },
   {
    "duration": 272,
    "start_time": "2022-02-20T08:23:45.091Z"
   },
   {
    "duration": 570,
    "start_time": "2022-02-20T08:23:51.635Z"
   },
   {
    "duration": 202,
    "start_time": "2022-02-20T08:23:52.207Z"
   },
   {
    "duration": 29,
    "start_time": "2022-02-20T08:23:52.411Z"
   },
   {
    "duration": 10,
    "start_time": "2022-02-20T08:23:52.442Z"
   },
   {
    "duration": 25,
    "start_time": "2022-02-20T08:23:52.454Z"
   },
   {
    "duration": 11,
    "start_time": "2022-02-20T08:23:52.481Z"
   },
   {
    "duration": 40,
    "start_time": "2022-02-20T08:23:52.494Z"
   },
   {
    "duration": 4,
    "start_time": "2022-02-20T08:23:52.537Z"
   },
   {
    "duration": 18,
    "start_time": "2022-02-20T08:23:52.543Z"
   },
   {
    "duration": 14,
    "start_time": "2022-02-20T08:23:52.563Z"
   },
   {
    "duration": 9,
    "start_time": "2022-02-20T08:23:52.579Z"
   },
   {
    "duration": 24,
    "start_time": "2022-02-20T08:23:52.618Z"
   },
   {
    "duration": 9,
    "start_time": "2022-02-20T08:23:52.644Z"
   },
   {
    "duration": 17,
    "start_time": "2022-02-20T08:23:52.654Z"
   },
   {
    "duration": 6,
    "start_time": "2022-02-20T08:23:52.673Z"
   },
   {
    "duration": 89,
    "start_time": "2022-02-20T08:23:52.681Z"
   },
   {
    "duration": 6,
    "start_time": "2022-02-20T08:23:52.772Z"
   },
   {
    "duration": 11,
    "start_time": "2022-02-20T08:23:52.780Z"
   },
   {
    "duration": 7,
    "start_time": "2022-02-20T08:23:52.792Z"
   },
   {
    "duration": 29,
    "start_time": "2022-02-20T08:23:52.818Z"
   },
   {
    "duration": 662,
    "start_time": "2022-02-20T08:26:34.023Z"
   },
   {
    "duration": 80,
    "start_time": "2022-02-20T08:26:34.687Z"
   },
   {
    "duration": 30,
    "start_time": "2022-02-20T08:26:34.769Z"
   },
   {
    "duration": 10,
    "start_time": "2022-02-20T08:26:34.802Z"
   },
   {
    "duration": 18,
    "start_time": "2022-02-20T08:26:34.814Z"
   },
   {
    "duration": 12,
    "start_time": "2022-02-20T08:26:34.834Z"
   },
   {
    "duration": 5,
    "start_time": "2022-02-20T08:26:38.116Z"
   },
   {
    "duration": 26,
    "start_time": "2022-02-20T08:26:48.739Z"
   },
   {
    "duration": 6,
    "start_time": "2022-02-20T08:26:50.859Z"
   },
   {
    "duration": 53,
    "start_time": "2022-02-20T08:32:10.263Z"
   },
   {
    "duration": 10,
    "start_time": "2022-02-20T08:32:49.469Z"
   },
   {
    "duration": 27,
    "start_time": "2022-02-20T08:33:11.097Z"
   },
   {
    "duration": 277,
    "start_time": "2022-02-20T08:39:40.871Z"
   },
   {
    "duration": 293,
    "start_time": "2022-02-20T08:39:45.449Z"
   },
   {
    "duration": 19,
    "start_time": "2022-02-20T08:49:19.954Z"
   },
   {
    "duration": 22,
    "start_time": "2022-02-20T08:50:26.265Z"
   },
   {
    "duration": 10,
    "start_time": "2022-02-20T09:01:57.445Z"
   },
   {
    "duration": 27,
    "start_time": "2022-02-20T09:01:59.294Z"
   },
   {
    "duration": 9,
    "start_time": "2022-02-20T09:06:00.222Z"
   },
   {
    "duration": 33,
    "start_time": "2022-02-20T09:06:18.288Z"
   },
   {
    "duration": 8,
    "start_time": "2022-02-20T09:07:35.897Z"
   },
   {
    "duration": 7,
    "start_time": "2022-02-20T09:08:46.040Z"
   },
   {
    "duration": 25,
    "start_time": "2022-02-20T09:12:18.011Z"
   },
   {
    "duration": 9,
    "start_time": "2022-02-20T09:12:54.811Z"
   },
   {
    "duration": 5208,
    "start_time": "2022-02-20T09:14:24.127Z"
   },
   {
    "duration": 29,
    "start_time": "2022-02-20T09:14:48.471Z"
   },
   {
    "duration": 27,
    "start_time": "2022-02-20T09:15:07.383Z"
   },
   {
    "duration": 7,
    "start_time": "2022-02-20T09:15:33.034Z"
   },
   {
    "duration": 17,
    "start_time": "2022-02-20T09:16:15.176Z"
   },
   {
    "duration": 7,
    "start_time": "2022-02-20T09:17:06.086Z"
   },
   {
    "duration": 7,
    "start_time": "2022-02-20T09:17:22.419Z"
   },
   {
    "duration": 8,
    "start_time": "2022-02-20T09:17:29.158Z"
   },
   {
    "duration": 4,
    "start_time": "2022-02-20T09:17:55.600Z"
   },
   {
    "duration": 5,
    "start_time": "2022-02-20T09:18:21.587Z"
   },
   {
    "duration": 267,
    "start_time": "2022-02-20T09:18:40.153Z"
   },
   {
    "duration": 187,
    "start_time": "2022-02-20T09:18:50.547Z"
   },
   {
    "duration": 165,
    "start_time": "2022-02-20T09:18:53.287Z"
   },
   {
    "duration": 220,
    "start_time": "2022-02-20T09:18:59.545Z"
   },
   {
    "duration": 175,
    "start_time": "2022-02-20T09:19:02.504Z"
   },
   {
    "duration": 177,
    "start_time": "2022-02-20T09:19:22.331Z"
   },
   {
    "duration": 4,
    "start_time": "2022-02-20T09:19:37.897Z"
   },
   {
    "duration": 6,
    "start_time": "2022-02-20T09:19:49.567Z"
   },
   {
    "duration": 5,
    "start_time": "2022-02-20T09:20:00.962Z"
   },
   {
    "duration": 8,
    "start_time": "2022-02-20T09:54:00.940Z"
   },
   {
    "duration": 133,
    "start_time": "2022-02-20T09:54:29.613Z"
   },
   {
    "duration": 121,
    "start_time": "2022-02-20T09:54:31.331Z"
   },
   {
    "duration": 5,
    "start_time": "2022-02-20T09:54:38.584Z"
   },
   {
    "duration": 7,
    "start_time": "2022-02-20T09:56:14.745Z"
   },
   {
    "duration": 11,
    "start_time": "2022-02-20T09:56:30.245Z"
   },
   {
    "duration": 9,
    "start_time": "2022-02-20T09:56:39.679Z"
   },
   {
    "duration": 11,
    "start_time": "2022-02-20T09:57:21.818Z"
   },
   {
    "duration": 202,
    "start_time": "2022-02-20T09:57:46.705Z"
   },
   {
    "duration": 191,
    "start_time": "2022-02-20T09:58:04.384Z"
   },
   {
    "duration": 206,
    "start_time": "2022-02-20T09:58:09.880Z"
   },
   {
    "duration": 186,
    "start_time": "2022-02-20T09:58:16.651Z"
   },
   {
    "duration": 186,
    "start_time": "2022-02-20T09:58:21.530Z"
   },
   {
    "duration": 373,
    "start_time": "2022-02-20T09:58:28.403Z"
   },
   {
    "duration": 261,
    "start_time": "2022-02-20T09:58:32.707Z"
   },
   {
    "duration": 253,
    "start_time": "2022-02-20T09:58:56.910Z"
   },
   {
    "duration": 318,
    "start_time": "2022-02-20T09:59:17.105Z"
   },
   {
    "duration": 268,
    "start_time": "2022-02-20T09:59:36.615Z"
   },
   {
    "duration": 264,
    "start_time": "2022-02-20T09:59:41.647Z"
   },
   {
    "duration": 437,
    "start_time": "2022-02-20T18:58:09.269Z"
   },
   {
    "duration": 1031,
    "start_time": "2022-02-20T18:58:14.795Z"
   },
   {
    "duration": 233,
    "start_time": "2022-02-20T18:58:15.830Z"
   },
   {
    "duration": 49,
    "start_time": "2022-02-20T18:58:16.068Z"
   },
   {
    "duration": 15,
    "start_time": "2022-02-20T18:58:16.120Z"
   },
   {
    "duration": 37,
    "start_time": "2022-02-20T18:58:16.138Z"
   },
   {
    "duration": 21,
    "start_time": "2022-02-20T18:58:16.179Z"
   },
   {
    "duration": 66,
    "start_time": "2022-02-20T18:58:16.203Z"
   },
   {
    "duration": 8,
    "start_time": "2022-02-20T18:58:16.271Z"
   },
   {
    "duration": 58,
    "start_time": "2022-02-20T18:58:16.285Z"
   },
   {
    "duration": 30,
    "start_time": "2022-02-20T18:58:16.348Z"
   },
   {
    "duration": 46,
    "start_time": "2022-02-20T18:58:16.381Z"
   },
   {
    "duration": 57,
    "start_time": "2022-02-20T18:58:16.431Z"
   },
   {
    "duration": 44,
    "start_time": "2022-02-20T18:58:16.491Z"
   },
   {
    "duration": 40,
    "start_time": "2022-02-20T18:58:16.538Z"
   },
   {
    "duration": 73,
    "start_time": "2022-02-20T18:58:16.581Z"
   },
   {
    "duration": 47,
    "start_time": "2022-02-20T18:58:16.657Z"
   },
   {
    "duration": 68,
    "start_time": "2022-02-20T18:58:16.707Z"
   },
   {
    "duration": 62,
    "start_time": "2022-02-20T18:58:16.779Z"
   },
   {
    "duration": 12,
    "start_time": "2022-02-20T18:58:16.844Z"
   },
   {
    "duration": 124,
    "start_time": "2022-02-20T18:58:16.859Z"
   },
   {
    "duration": 10,
    "start_time": "2022-02-20T18:58:16.986Z"
   },
   {
    "duration": 37,
    "start_time": "2022-02-20T18:58:16.999Z"
   },
   {
    "duration": 14,
    "start_time": "2022-02-20T18:58:17.039Z"
   },
   {
    "duration": 70,
    "start_time": "2022-02-20T18:58:17.056Z"
   },
   {
    "duration": 41,
    "start_time": "2022-02-20T18:58:17.129Z"
   },
   {
    "duration": 23,
    "start_time": "2022-02-20T18:58:17.173Z"
   },
   {
    "duration": 14,
    "start_time": "2022-02-20T18:58:17.231Z"
   },
   {
    "duration": 47,
    "start_time": "2022-02-20T19:00:27.670Z"
   },
   {
    "duration": 19,
    "start_time": "2022-02-20T19:03:18.218Z"
   },
   {
    "duration": 13,
    "start_time": "2022-02-20T19:03:35.173Z"
   },
   {
    "duration": 46,
    "start_time": "2022-02-20T19:04:06.153Z"
   },
   {
    "duration": 110,
    "start_time": "2022-02-20T19:07:05.916Z"
   },
   {
    "duration": 117,
    "start_time": "2022-02-20T19:07:13.210Z"
   },
   {
    "duration": 250,
    "start_time": "2022-02-20T19:08:05.222Z"
   },
   {
    "duration": 233,
    "start_time": "2022-02-20T19:09:13.679Z"
   },
   {
    "duration": 286,
    "start_time": "2022-02-20T19:09:18.778Z"
   },
   {
    "duration": 228,
    "start_time": "2022-02-20T19:09:26.400Z"
   },
   {
    "duration": 230,
    "start_time": "2022-02-20T19:09:37.339Z"
   },
   {
    "duration": 260,
    "start_time": "2022-02-20T19:09:43.409Z"
   },
   {
    "duration": 230,
    "start_time": "2022-02-20T19:09:52.272Z"
   },
   {
    "duration": 218,
    "start_time": "2022-02-20T19:09:56.057Z"
   },
   {
    "duration": 225,
    "start_time": "2022-02-20T19:10:00.349Z"
   },
   {
    "duration": 245,
    "start_time": "2022-02-20T19:10:10.283Z"
   },
   {
    "duration": 308,
    "start_time": "2022-02-20T19:10:13.699Z"
   },
   {
    "duration": 238,
    "start_time": "2022-02-20T19:10:17.429Z"
   },
   {
    "duration": 64,
    "start_time": "2022-02-20T19:13:35.231Z"
   },
   {
    "duration": 18,
    "start_time": "2022-02-20T19:13:53.351Z"
   },
   {
    "duration": 18,
    "start_time": "2022-02-20T19:14:17.052Z"
   },
   {
    "duration": 55,
    "start_time": "2022-02-20T19:14:26.663Z"
   },
   {
    "duration": 40,
    "start_time": "2022-02-20T19:25:03.365Z"
   },
   {
    "duration": 6,
    "start_time": "2022-02-20T19:29:16.316Z"
   },
   {
    "duration": 363,
    "start_time": "2022-02-20T19:29:52.912Z"
   },
   {
    "duration": 8,
    "start_time": "2022-02-20T19:30:55.399Z"
   },
   {
    "duration": 6,
    "start_time": "2022-02-20T19:31:04.226Z"
   },
   {
    "duration": 7,
    "start_time": "2022-02-20T19:31:39.614Z"
   },
   {
    "duration": 6,
    "start_time": "2022-02-20T19:31:48.618Z"
   },
   {
    "duration": 13,
    "start_time": "2022-02-20T19:32:37.502Z"
   },
   {
    "duration": 315,
    "start_time": "2022-02-20T19:35:00.849Z"
   },
   {
    "duration": 1375,
    "start_time": "2022-02-20T19:57:16.423Z"
   },
   {
    "duration": 1403,
    "start_time": "2022-02-20T19:58:40.902Z"
   },
   {
    "duration": 1372,
    "start_time": "2022-02-20T20:03:50.136Z"
   },
   {
    "duration": 1773,
    "start_time": "2022-02-20T20:04:24.593Z"
   },
   {
    "duration": 126,
    "start_time": "2022-02-20T20:05:39.866Z"
   },
   {
    "duration": 106,
    "start_time": "2022-02-20T20:05:43.870Z"
   },
   {
    "duration": 1403,
    "start_time": "2022-02-20T20:06:35.216Z"
   },
   {
    "duration": 315,
    "start_time": "2022-02-20T20:07:12.528Z"
   },
   {
    "duration": 32,
    "start_time": "2022-02-20T20:07:19.149Z"
   },
   {
    "duration": 24,
    "start_time": "2022-02-20T20:11:21.667Z"
   },
   {
    "duration": 10,
    "start_time": "2022-02-20T20:12:04.258Z"
   },
   {
    "duration": 28,
    "start_time": "2022-02-20T20:12:15.785Z"
   },
   {
    "duration": 33,
    "start_time": "2022-02-20T20:13:37.782Z"
   },
   {
    "duration": 120,
    "start_time": "2022-02-20T20:15:54.560Z"
   },
   {
    "duration": 6,
    "start_time": "2022-02-20T20:16:02.710Z"
   },
   {
    "duration": 53,
    "start_time": "2022-02-20T20:16:30.004Z"
   },
   {
    "duration": 47,
    "start_time": "2022-02-20T20:16:38.209Z"
   },
   {
    "duration": 48,
    "start_time": "2022-02-20T20:17:41.821Z"
   },
   {
    "duration": 7,
    "start_time": "2022-02-20T20:19:31.333Z"
   },
   {
    "duration": 34,
    "start_time": "2022-02-20T20:19:56.128Z"
   },
   {
    "duration": 535,
    "start_time": "2022-02-20T20:21:23.652Z"
   },
   {
    "duration": 316,
    "start_time": "2022-02-20T20:21:36.540Z"
   },
   {
    "duration": 8,
    "start_time": "2022-02-20T20:21:56.010Z"
   },
   {
    "duration": 293,
    "start_time": "2022-02-20T20:22:06.682Z"
   },
   {
    "duration": 298,
    "start_time": "2022-02-20T20:22:10.803Z"
   },
   {
    "duration": 356,
    "start_time": "2022-02-20T20:22:24.362Z"
   },
   {
    "duration": 347,
    "start_time": "2022-02-20T20:22:30.274Z"
   },
   {
    "duration": 303,
    "start_time": "2022-02-20T20:23:18.013Z"
   },
   {
    "duration": 360,
    "start_time": "2022-02-20T20:23:26.543Z"
   },
   {
    "duration": 6,
    "start_time": "2022-02-20T20:23:49.380Z"
   },
   {
    "duration": 17,
    "start_time": "2022-02-20T20:43:08.081Z"
   },
   {
    "duration": 363,
    "start_time": "2022-02-20T20:51:49.608Z"
   },
   {
    "duration": 338,
    "start_time": "2022-02-20T20:52:48.181Z"
   },
   {
    "duration": 21,
    "start_time": "2022-02-20T20:53:32.762Z"
   },
   {
    "duration": 322,
    "start_time": "2022-02-20T20:53:48.577Z"
   },
   {
    "duration": 13,
    "start_time": "2022-02-20T20:53:56.893Z"
   },
   {
    "duration": 14,
    "start_time": "2022-02-20T20:54:20.759Z"
   },
   {
    "duration": 13,
    "start_time": "2022-02-20T20:54:40.925Z"
   },
   {
    "duration": 11,
    "start_time": "2022-02-20T20:55:31.566Z"
   },
   {
    "duration": 12,
    "start_time": "2022-02-20T20:56:45.710Z"
   },
   {
    "duration": 12,
    "start_time": "2022-02-20T20:56:52.979Z"
   },
   {
    "duration": 12,
    "start_time": "2022-02-20T20:57:44.755Z"
   },
   {
    "duration": 15,
    "start_time": "2022-02-20T20:58:16.828Z"
   },
   {
    "duration": 13,
    "start_time": "2022-02-20T20:58:38.712Z"
   },
   {
    "duration": 347,
    "start_time": "2022-02-20T20:58:52.829Z"
   },
   {
    "duration": 298,
    "start_time": "2022-02-20T20:58:55.794Z"
   },
   {
    "duration": 36,
    "start_time": "2022-02-20T20:59:11.942Z"
   },
   {
    "duration": 40,
    "start_time": "2022-02-20T20:59:29.135Z"
   },
   {
    "duration": 21,
    "start_time": "2022-02-20T20:59:40.198Z"
   },
   {
    "duration": 1052,
    "start_time": "2022-02-20T21:00:01.810Z"
   },
   {
    "duration": 135,
    "start_time": "2022-02-20T21:00:02.865Z"
   },
   {
    "duration": 45,
    "start_time": "2022-02-20T21:00:03.003Z"
   },
   {
    "duration": 16,
    "start_time": "2022-02-20T21:00:03.051Z"
   },
   {
    "duration": 29,
    "start_time": "2022-02-20T21:00:03.069Z"
   },
   {
    "duration": 41,
    "start_time": "2022-02-20T21:00:03.102Z"
   },
   {
    "duration": 45,
    "start_time": "2022-02-20T21:00:03.146Z"
   },
   {
    "duration": 8,
    "start_time": "2022-02-20T21:00:03.195Z"
   },
   {
    "duration": 52,
    "start_time": "2022-02-20T21:00:03.226Z"
   },
   {
    "duration": 25,
    "start_time": "2022-02-20T21:00:03.280Z"
   },
   {
    "duration": 39,
    "start_time": "2022-02-20T21:00:03.308Z"
   },
   {
    "duration": 25,
    "start_time": "2022-02-20T21:00:03.350Z"
   },
   {
    "duration": 75,
    "start_time": "2022-02-20T21:00:03.377Z"
   },
   {
    "duration": 15,
    "start_time": "2022-02-20T21:00:03.454Z"
   },
   {
    "duration": 56,
    "start_time": "2022-02-20T21:00:03.471Z"
   },
   {
    "duration": 42,
    "start_time": "2022-02-20T21:00:03.530Z"
   },
   {
    "duration": 53,
    "start_time": "2022-02-20T21:00:03.575Z"
   },
   {
    "duration": 98,
    "start_time": "2022-02-20T21:00:03.631Z"
   },
   {
    "duration": 42,
    "start_time": "2022-02-20T21:00:03.731Z"
   },
   {
    "duration": 10,
    "start_time": "2022-02-20T21:00:03.775Z"
   },
   {
    "duration": 117,
    "start_time": "2022-02-20T21:00:03.787Z"
   },
   {
    "duration": 21,
    "start_time": "2022-02-20T21:00:03.906Z"
   },
   {
    "duration": 20,
    "start_time": "2022-02-20T21:00:03.932Z"
   },
   {
    "duration": 62,
    "start_time": "2022-02-20T21:00:03.954Z"
   },
   {
    "duration": 50,
    "start_time": "2022-02-20T21:00:04.019Z"
   },
   {
    "duration": 83,
    "start_time": "2022-02-20T21:00:04.071Z"
   },
   {
    "duration": 24,
    "start_time": "2022-02-20T21:00:04.157Z"
   },
   {
    "duration": 78,
    "start_time": "2022-02-20T21:00:04.183Z"
   },
   {
    "duration": 433,
    "start_time": "2022-02-20T21:00:04.265Z"
   },
   {
    "duration": -1379,
    "start_time": "2022-02-20T21:00:06.080Z"
   },
   {
    "duration": -1379,
    "start_time": "2022-02-20T21:00:06.082Z"
   },
   {
    "duration": -1383,
    "start_time": "2022-02-20T21:00:06.087Z"
   },
   {
    "duration": -1384,
    "start_time": "2022-02-20T21:00:06.090Z"
   },
   {
    "duration": -1386,
    "start_time": "2022-02-20T21:00:06.094Z"
   },
   {
    "duration": 343,
    "start_time": "2022-02-20T21:00:13.751Z"
   },
   {
    "duration": 320,
    "start_time": "2022-02-20T21:00:30.264Z"
   },
   {
    "duration": 15,
    "start_time": "2022-02-20T21:00:38.629Z"
   },
   {
    "duration": 898,
    "start_time": "2022-02-20T21:01:12.760Z"
   },
   {
    "duration": 109,
    "start_time": "2022-02-20T21:01:13.661Z"
   },
   {
    "duration": 42,
    "start_time": "2022-02-20T21:01:13.774Z"
   },
   {
    "duration": 13,
    "start_time": "2022-02-20T21:01:13.819Z"
   },
   {
    "duration": 25,
    "start_time": "2022-02-20T21:01:13.836Z"
   },
   {
    "duration": 19,
    "start_time": "2022-02-20T21:01:13.863Z"
   },
   {
    "duration": 69,
    "start_time": "2022-02-20T21:01:13.885Z"
   },
   {
    "duration": 7,
    "start_time": "2022-02-20T21:01:13.956Z"
   },
   {
    "duration": 37,
    "start_time": "2022-02-20T21:01:13.967Z"
   },
   {
    "duration": 34,
    "start_time": "2022-02-20T21:01:14.008Z"
   },
   {
    "duration": 14,
    "start_time": "2022-02-20T21:01:14.045Z"
   },
   {
    "duration": 21,
    "start_time": "2022-02-20T21:01:14.062Z"
   },
   {
    "duration": 79,
    "start_time": "2022-02-20T21:01:14.085Z"
   },
   {
    "duration": 14,
    "start_time": "2022-02-20T21:01:14.166Z"
   },
   {
    "duration": 51,
    "start_time": "2022-02-20T21:01:14.182Z"
   },
   {
    "duration": 36,
    "start_time": "2022-02-20T21:01:14.235Z"
   },
   {
    "duration": 53,
    "start_time": "2022-02-20T21:01:14.273Z"
   },
   {
    "duration": 34,
    "start_time": "2022-02-20T21:01:14.328Z"
   },
   {
    "duration": 64,
    "start_time": "2022-02-20T21:01:14.364Z"
   },
   {
    "duration": 9,
    "start_time": "2022-02-20T21:01:14.430Z"
   },
   {
    "duration": 103,
    "start_time": "2022-02-20T21:01:14.441Z"
   },
   {
    "duration": 9,
    "start_time": "2022-02-20T21:01:14.546Z"
   },
   {
    "duration": 20,
    "start_time": "2022-02-20T21:01:14.558Z"
   },
   {
    "duration": 16,
    "start_time": "2022-02-20T21:01:14.582Z"
   },
   {
    "duration": 41,
    "start_time": "2022-02-20T21:01:14.627Z"
   },
   {
    "duration": 66,
    "start_time": "2022-02-20T21:01:14.671Z"
   },
   {
    "duration": 18,
    "start_time": "2022-02-20T21:01:14.741Z"
   },
   {
    "duration": 67,
    "start_time": "2022-02-20T21:01:14.762Z"
   },
   {
    "duration": 3,
    "start_time": "2022-02-20T21:01:14.832Z"
   },
   {
    "duration": 48,
    "start_time": "2022-02-20T21:01:14.837Z"
   },
   {
    "duration": 46,
    "start_time": "2022-02-20T21:01:14.887Z"
   },
   {
    "duration": 53,
    "start_time": "2022-02-20T21:01:14.935Z"
   },
   {
    "duration": 36,
    "start_time": "2022-02-20T21:01:14.990Z"
   },
   {
    "duration": 30,
    "start_time": "2022-02-20T21:01:15.029Z"
   },
   {
    "duration": 29,
    "start_time": "2022-02-20T21:01:32.311Z"
   },
   {
    "duration": 12,
    "start_time": "2022-02-20T21:01:53.782Z"
   },
   {
    "duration": 412,
    "start_time": "2022-02-20T21:02:01.260Z"
   },
   {
    "duration": 36,
    "start_time": "2022-02-20T21:02:19.209Z"
   },
   {
    "duration": 19,
    "start_time": "2022-02-20T21:02:35.875Z"
   },
   {
    "duration": 32,
    "start_time": "2022-02-20T21:02:40.381Z"
   },
   {
    "duration": 8527,
    "start_time": "2022-02-20T21:02:47.387Z"
   },
   {
    "duration": 26,
    "start_time": "2022-02-20T21:02:57.076Z"
   },
   {
    "duration": 27,
    "start_time": "2022-02-20T21:03:10.784Z"
   },
   {
    "duration": 33,
    "start_time": "2022-02-20T21:03:22.014Z"
   },
   {
    "duration": 20,
    "start_time": "2022-02-20T21:04:41.967Z"
   },
   {
    "duration": 390,
    "start_time": "2022-02-20T21:05:49.786Z"
   },
   {
    "duration": 544,
    "start_time": "2022-02-20T21:08:26.475Z"
   },
   {
    "duration": 53,
    "start_time": "2022-02-20T21:09:12.607Z"
   },
   {
    "duration": 45,
    "start_time": "2022-02-20T21:09:24.480Z"
   },
   {
    "duration": 13,
    "start_time": "2022-02-20T21:10:09.890Z"
   },
   {
    "duration": 340,
    "start_time": "2022-02-20T21:10:43.363Z"
   },
   {
    "duration": 916,
    "start_time": "2022-02-20T21:10:48.717Z"
   },
   {
    "duration": 97,
    "start_time": "2022-02-20T21:10:49.636Z"
   },
   {
    "duration": 39,
    "start_time": "2022-02-20T21:10:49.736Z"
   },
   {
    "duration": 14,
    "start_time": "2022-02-20T21:10:49.778Z"
   },
   {
    "duration": 53,
    "start_time": "2022-02-20T21:10:49.795Z"
   },
   {
    "duration": 19,
    "start_time": "2022-02-20T21:10:49.851Z"
   },
   {
    "duration": 65,
    "start_time": "2022-02-20T21:10:49.873Z"
   },
   {
    "duration": 6,
    "start_time": "2022-02-20T21:10:49.940Z"
   },
   {
    "duration": 21,
    "start_time": "2022-02-20T21:10:49.953Z"
   },
   {
    "duration": 55,
    "start_time": "2022-02-20T21:10:49.979Z"
   },
   {
    "duration": 23,
    "start_time": "2022-02-20T21:10:50.036Z"
   },
   {
    "duration": 21,
    "start_time": "2022-02-20T21:10:50.062Z"
   },
   {
    "duration": 71,
    "start_time": "2022-02-20T21:10:50.086Z"
   },
   {
    "duration": 15,
    "start_time": "2022-02-20T21:10:50.159Z"
   },
   {
    "duration": 53,
    "start_time": "2022-02-20T21:10:50.176Z"
   },
   {
    "duration": 35,
    "start_time": "2022-02-20T21:10:50.232Z"
   },
   {
    "duration": 59,
    "start_time": "2022-02-20T21:10:50.269Z"
   },
   {
    "duration": 34,
    "start_time": "2022-02-20T21:10:50.330Z"
   },
   {
    "duration": 62,
    "start_time": "2022-02-20T21:10:50.366Z"
   },
   {
    "duration": 9,
    "start_time": "2022-02-20T21:10:50.430Z"
   },
   {
    "duration": 106,
    "start_time": "2022-02-20T21:10:50.441Z"
   },
   {
    "duration": 8,
    "start_time": "2022-02-20T21:10:50.549Z"
   },
   {
    "duration": 13,
    "start_time": "2022-02-20T21:10:50.559Z"
   },
   {
    "duration": 11,
    "start_time": "2022-02-20T21:10:50.574Z"
   },
   {
    "duration": 72,
    "start_time": "2022-02-20T21:10:50.587Z"
   },
   {
    "duration": 41,
    "start_time": "2022-02-20T21:10:50.661Z"
   },
   {
    "duration": 18,
    "start_time": "2022-02-20T21:10:50.730Z"
   },
   {
    "duration": 45,
    "start_time": "2022-02-20T21:10:50.750Z"
   },
   {
    "duration": 30,
    "start_time": "2022-02-20T21:10:50.797Z"
   },
   {
    "duration": 32,
    "start_time": "2022-02-20T21:10:50.830Z"
   },
   {
    "duration": 65,
    "start_time": "2022-02-20T21:10:50.864Z"
   },
   {
    "duration": 42,
    "start_time": "2022-02-20T21:10:50.932Z"
   },
   {
    "duration": 16,
    "start_time": "2022-02-20T21:10:50.977Z"
   },
   {
    "duration": 19,
    "start_time": "2022-02-20T21:10:51.027Z"
   },
   {
    "duration": 30,
    "start_time": "2022-02-20T21:11:45.572Z"
   },
   {
    "duration": 361,
    "start_time": "2022-02-20T21:12:00.356Z"
   },
   {
    "duration": 325,
    "start_time": "2022-02-20T21:12:07.451Z"
   },
   {
    "duration": 20,
    "start_time": "2022-02-20T21:12:12.292Z"
   },
   {
    "duration": 8,
    "start_time": "2022-02-20T21:19:44.430Z"
   },
   {
    "duration": 853,
    "start_time": "2022-02-21T09:17:48.110Z"
   },
   {
    "duration": 151,
    "start_time": "2022-02-21T09:17:48.965Z"
   },
   {
    "duration": 36,
    "start_time": "2022-02-21T09:17:49.119Z"
   },
   {
    "duration": 13,
    "start_time": "2022-02-21T09:17:49.158Z"
   },
   {
    "duration": 29,
    "start_time": "2022-02-21T09:17:49.173Z"
   },
   {
    "duration": 17,
    "start_time": "2022-02-21T09:17:49.205Z"
   },
   {
    "duration": 35,
    "start_time": "2022-02-21T09:17:49.225Z"
   },
   {
    "duration": 33,
    "start_time": "2022-02-21T09:17:49.263Z"
   },
   {
    "duration": 20,
    "start_time": "2022-02-21T09:17:49.299Z"
   },
   {
    "duration": 21,
    "start_time": "2022-02-21T09:17:49.321Z"
   },
   {
    "duration": 14,
    "start_time": "2022-02-21T09:17:49.344Z"
   },
   {
    "duration": 53,
    "start_time": "2022-02-21T09:17:49.360Z"
   },
   {
    "duration": 40,
    "start_time": "2022-02-21T09:17:49.416Z"
   },
   {
    "duration": 40,
    "start_time": "2022-02-21T09:17:49.459Z"
   },
   {
    "duration": 28,
    "start_time": "2022-02-21T09:17:49.501Z"
   },
   {
    "duration": 32,
    "start_time": "2022-02-21T09:17:49.531Z"
   },
   {
    "duration": 31,
    "start_time": "2022-02-21T09:17:49.593Z"
   },
   {
    "duration": 34,
    "start_time": "2022-02-21T09:17:49.627Z"
   },
   {
    "duration": 63,
    "start_time": "2022-02-21T09:17:49.663Z"
   },
   {
    "duration": 9,
    "start_time": "2022-02-21T09:17:49.729Z"
   },
   {
    "duration": 117,
    "start_time": "2022-02-21T09:17:49.741Z"
   },
   {
    "duration": 9,
    "start_time": "2022-02-21T09:17:49.860Z"
   },
   {
    "duration": 24,
    "start_time": "2022-02-21T09:17:49.873Z"
   },
   {
    "duration": 17,
    "start_time": "2022-02-21T09:17:49.900Z"
   },
   {
    "duration": 40,
    "start_time": "2022-02-21T09:17:49.920Z"
   },
   {
    "duration": 64,
    "start_time": "2022-02-21T09:17:49.962Z"
   },
   {
    "duration": 16,
    "start_time": "2022-02-21T09:17:50.028Z"
   },
   {
    "duration": 67,
    "start_time": "2022-02-21T09:17:50.046Z"
   },
   {
    "duration": 4,
    "start_time": "2022-02-21T09:17:50.116Z"
   },
   {
    "duration": 38,
    "start_time": "2022-02-21T09:17:50.123Z"
   },
   {
    "duration": 64,
    "start_time": "2022-02-21T09:17:50.164Z"
   },
   {
    "duration": 64,
    "start_time": "2022-02-21T09:17:50.231Z"
   },
   {
    "duration": 16,
    "start_time": "2022-02-21T09:17:50.297Z"
   },
   {
    "duration": 5,
    "start_time": "2022-02-21T09:19:54.000Z"
   },
   {
    "duration": 436,
    "start_time": "2022-02-21T09:20:00.650Z"
   },
   {
    "duration": 5,
    "start_time": "2022-02-21T09:20:29.754Z"
   },
   {
    "duration": 12,
    "start_time": "2022-02-21T09:42:40.546Z"
   },
   {
    "duration": 10,
    "start_time": "2022-02-21T09:46:23.094Z"
   },
   {
    "duration": 369,
    "start_time": "2022-02-21T09:48:30.857Z"
   },
   {
    "duration": 3,
    "start_time": "2022-02-21T09:48:35.094Z"
   },
   {
    "duration": 180,
    "start_time": "2022-02-21T09:48:36.606Z"
   },
   {
    "duration": 117,
    "start_time": "2022-02-21T09:49:02.758Z"
   },
   {
    "duration": 97,
    "start_time": "2022-02-21T09:49:14.987Z"
   },
   {
    "duration": 5,
    "start_time": "2022-02-21T10:53:07.025Z"
   },
   {
    "duration": 5,
    "start_time": "2022-02-21T10:53:11.907Z"
   },
   {
    "duration": 22,
    "start_time": "2022-02-21T10:59:17.598Z"
   },
   {
    "duration": 20,
    "start_time": "2022-02-21T10:59:34.907Z"
   },
   {
    "duration": 21,
    "start_time": "2022-02-21T10:59:53.172Z"
   },
   {
    "duration": 20,
    "start_time": "2022-02-21T11:00:06.894Z"
   },
   {
    "duration": 7174,
    "start_time": "2022-02-21T11:00:33.142Z"
   },
   {
    "duration": 292,
    "start_time": "2022-02-21T11:00:59.144Z"
   },
   {
    "duration": 17,
    "start_time": "2022-02-21T11:01:08.250Z"
   },
   {
    "duration": 471,
    "start_time": "2022-02-21T11:01:40.505Z"
   },
   {
    "duration": 19,
    "start_time": "2022-02-21T11:02:52.301Z"
   },
   {
    "duration": 7,
    "start_time": "2022-02-21T11:03:21.567Z"
   },
   {
    "duration": 5,
    "start_time": "2022-02-21T11:03:25.951Z"
   },
   {
    "duration": 6,
    "start_time": "2022-02-21T11:03:29.775Z"
   },
   {
    "duration": 5,
    "start_time": "2022-02-21T11:03:33.595Z"
   },
   {
    "duration": 6,
    "start_time": "2022-02-21T11:03:36.601Z"
   },
   {
    "duration": 6,
    "start_time": "2022-02-21T11:03:40.421Z"
   },
   {
    "duration": 301,
    "start_time": "2022-02-21T11:03:43.647Z"
   },
   {
    "duration": 6,
    "start_time": "2022-02-21T11:03:48.394Z"
   },
   {
    "duration": 6,
    "start_time": "2022-02-21T11:03:55.659Z"
   },
   {
    "duration": 6,
    "start_time": "2022-02-21T11:04:02.398Z"
   },
   {
    "duration": 6,
    "start_time": "2022-02-21T11:04:12.679Z"
   },
   {
    "duration": 349,
    "start_time": "2022-02-21T11:04:23.297Z"
   },
   {
    "duration": 7,
    "start_time": "2022-02-21T11:04:28.221Z"
   },
   {
    "duration": 14,
    "start_time": "2022-02-21T12:51:12.187Z"
   },
   {
    "duration": 7,
    "start_time": "2022-02-21T12:51:23.636Z"
   },
   {
    "duration": 7,
    "start_time": "2022-02-21T12:51:41.699Z"
   },
   {
    "duration": 334,
    "start_time": "2022-02-21T12:52:03.542Z"
   },
   {
    "duration": 7,
    "start_time": "2022-02-21T12:52:14.419Z"
   },
   {
    "duration": 14,
    "start_time": "2022-02-21T12:52:19.603Z"
   },
   {
    "duration": 11,
    "start_time": "2022-02-21T12:52:52.083Z"
   },
   {
    "duration": 7,
    "start_time": "2022-02-21T12:53:18.171Z"
   },
   {
    "duration": 15,
    "start_time": "2022-02-21T12:53:21.518Z"
   },
   {
    "duration": 11,
    "start_time": "2022-02-21T12:53:41.472Z"
   },
   {
    "duration": 14,
    "start_time": "2022-02-21T12:53:44.117Z"
   },
   {
    "duration": 17,
    "start_time": "2022-02-21T12:56:00.856Z"
   },
   {
    "duration": 18,
    "start_time": "2022-02-21T12:56:22.397Z"
   },
   {
    "duration": 19,
    "start_time": "2022-02-21T12:56:26.369Z"
   },
   {
    "duration": 29,
    "start_time": "2022-02-21T12:59:11.377Z"
   },
   {
    "duration": 26,
    "start_time": "2022-02-21T12:59:54.582Z"
   },
   {
    "duration": 26,
    "start_time": "2022-02-21T13:00:28.583Z"
   },
   {
    "duration": 6901,
    "start_time": "2022-02-21T13:01:23.243Z"
   },
   {
    "duration": 6635,
    "start_time": "2022-02-21T14:08:06.884Z"
   },
   {
    "duration": 17,
    "start_time": "2022-02-21T14:08:18.911Z"
   },
   {
    "duration": 13,
    "start_time": "2022-02-21T14:08:49.597Z"
   },
   {
    "duration": 17,
    "start_time": "2022-02-21T14:09:02.403Z"
   },
   {
    "duration": 14,
    "start_time": "2022-02-21T14:26:05.060Z"
   },
   {
    "duration": 20,
    "start_time": "2022-02-21T14:26:15.741Z"
   },
   {
    "duration": 13,
    "start_time": "2022-02-21T14:26:34.283Z"
   },
   {
    "duration": 12,
    "start_time": "2022-02-21T14:26:40.719Z"
   },
   {
    "duration": 15,
    "start_time": "2022-02-21T14:26:44.974Z"
   },
   {
    "duration": 22,
    "start_time": "2022-02-21T14:27:27.469Z"
   },
   {
    "duration": 24,
    "start_time": "2022-02-21T14:27:36.723Z"
   },
   {
    "duration": 24,
    "start_time": "2022-02-21T14:27:43.119Z"
   },
   {
    "duration": 18,
    "start_time": "2022-02-21T14:28:17.442Z"
   },
   {
    "duration": 28,
    "start_time": "2022-02-21T14:28:23.277Z"
   },
   {
    "duration": 26,
    "start_time": "2022-02-21T14:28:28.845Z"
   },
   {
    "duration": 20,
    "start_time": "2022-02-21T14:29:48.665Z"
   },
   {
    "duration": 45,
    "start_time": "2022-02-21T14:30:00.320Z"
   },
   {
    "duration": 29,
    "start_time": "2022-02-21T14:30:11.800Z"
   },
   {
    "duration": 395,
    "start_time": "2022-02-21T14:34:22.551Z"
   },
   {
    "duration": 9,
    "start_time": "2022-02-21T14:34:31.186Z"
   },
   {
    "duration": 34,
    "start_time": "2022-02-21T14:35:01.899Z"
   },
   {
    "duration": 18,
    "start_time": "2022-02-21T14:35:09.855Z"
   },
   {
    "duration": 356,
    "start_time": "2022-02-21T14:35:23.309Z"
   },
   {
    "duration": 35,
    "start_time": "2022-02-21T14:35:30.608Z"
   },
   {
    "duration": 35,
    "start_time": "2022-02-21T14:36:11.343Z"
   },
   {
    "duration": 304,
    "start_time": "2022-02-21T14:36:37.752Z"
   },
   {
    "duration": 303,
    "start_time": "2022-02-21T14:37:30.358Z"
   },
   {
    "duration": 36,
    "start_time": "2022-02-21T14:57:06.224Z"
   },
   {
    "duration": 54,
    "start_time": "2022-02-21T14:57:12.425Z"
   },
   {
    "duration": 320,
    "start_time": "2022-02-21T14:57:44.284Z"
   },
   {
    "duration": 659,
    "start_time": "2022-02-21T14:58:02.354Z"
   },
   {
    "duration": 60213,
    "start_time": "2022-02-21T14:58:10.425Z"
   },
   {
    "duration": 74528,
    "start_time": "2022-02-21T15:00:25.636Z"
   },
   {
    "duration": 317,
    "start_time": "2022-02-21T15:02:36.562Z"
   },
   {
    "duration": 34,
    "start_time": "2022-02-21T15:02:45.400Z"
   },
   {
    "duration": 289,
    "start_time": "2022-02-21T15:02:57.559Z"
   },
   {
    "duration": 59,
    "start_time": "2022-02-21T15:03:21.975Z"
   },
   {
    "duration": 422,
    "start_time": "2022-02-21T15:03:36.609Z"
   },
   {
    "duration": 435,
    "start_time": "2022-02-21T15:03:50.103Z"
   },
   {
    "duration": 637,
    "start_time": "2022-02-21T15:04:18.486Z"
   },
   {
    "duration": 554,
    "start_time": "2022-02-21T15:04:23.403Z"
   },
   {
    "duration": 717,
    "start_time": "2022-02-21T15:06:44.396Z"
   },
   {
    "duration": 701,
    "start_time": "2022-02-21T15:07:23.306Z"
   },
   {
    "duration": 599,
    "start_time": "2022-02-21T15:07:50.457Z"
   },
   {
    "duration": 609,
    "start_time": "2022-02-21T15:08:21.630Z"
   },
   {
    "duration": 406,
    "start_time": "2022-02-21T15:08:52.694Z"
   },
   {
    "duration": 442,
    "start_time": "2022-02-21T15:13:23.741Z"
   },
   {
    "duration": 418,
    "start_time": "2022-02-21T15:13:39.029Z"
   },
   {
    "duration": 359,
    "start_time": "2022-02-21T15:15:13.624Z"
   },
   {
    "duration": 379,
    "start_time": "2022-02-21T15:15:18.989Z"
   },
   {
    "duration": 376,
    "start_time": "2022-02-21T15:16:03.288Z"
   },
   {
    "duration": 358,
    "start_time": "2022-02-21T15:16:40.117Z"
   },
   {
    "duration": 192,
    "start_time": "2022-02-21T17:11:24.373Z"
   },
   {
    "duration": 628,
    "start_time": "2022-02-21T17:11:32.268Z"
   },
   {
    "duration": 81,
    "start_time": "2022-02-21T17:11:32.898Z"
   },
   {
    "duration": 27,
    "start_time": "2022-02-21T17:11:32.982Z"
   },
   {
    "duration": 10,
    "start_time": "2022-02-21T17:11:33.010Z"
   },
   {
    "duration": 38,
    "start_time": "2022-02-21T17:11:33.022Z"
   },
   {
    "duration": 12,
    "start_time": "2022-02-21T17:11:33.062Z"
   },
   {
    "duration": 25,
    "start_time": "2022-02-21T17:11:33.076Z"
   },
   {
    "duration": 5,
    "start_time": "2022-02-21T17:11:33.105Z"
   },
   {
    "duration": 14,
    "start_time": "2022-02-21T17:11:33.113Z"
   },
   {
    "duration": 44,
    "start_time": "2022-02-21T17:11:33.128Z"
   },
   {
    "duration": 12,
    "start_time": "2022-02-21T17:11:33.174Z"
   },
   {
    "duration": 16,
    "start_time": "2022-02-21T17:11:33.188Z"
   },
   {
    "duration": 60,
    "start_time": "2022-02-21T17:11:33.205Z"
   },
   {
    "duration": 9,
    "start_time": "2022-02-21T17:11:33.266Z"
   },
   {
    "duration": 26,
    "start_time": "2022-02-21T17:11:33.277Z"
   },
   {
    "duration": 20,
    "start_time": "2022-02-21T17:11:33.304Z"
   },
   {
    "duration": 37,
    "start_time": "2022-02-21T17:11:33.326Z"
   },
   {
    "duration": 22,
    "start_time": "2022-02-21T17:11:33.365Z"
   },
   {
    "duration": 26,
    "start_time": "2022-02-21T17:11:33.389Z"
   },
   {
    "duration": 6,
    "start_time": "2022-02-21T17:11:33.417Z"
   },
   {
    "duration": 83,
    "start_time": "2022-02-21T17:11:33.424Z"
   },
   {
    "duration": 6,
    "start_time": "2022-02-21T17:11:33.509Z"
   },
   {
    "duration": 11,
    "start_time": "2022-02-21T17:11:33.517Z"
   },
   {
    "duration": 11,
    "start_time": "2022-02-21T17:11:33.530Z"
   },
   {
    "duration": 37,
    "start_time": "2022-02-21T17:11:33.543Z"
   },
   {
    "duration": 28,
    "start_time": "2022-02-21T17:11:33.582Z"
   },
   {
    "duration": 11,
    "start_time": "2022-02-21T17:11:33.612Z"
   },
   {
    "duration": 53,
    "start_time": "2022-02-21T17:11:33.625Z"
   },
   {
    "duration": 2,
    "start_time": "2022-02-21T17:11:33.679Z"
   },
   {
    "duration": 19,
    "start_time": "2022-02-21T17:11:33.683Z"
   },
   {
    "duration": 25,
    "start_time": "2022-02-21T17:11:33.704Z"
   },
   {
    "duration": 56,
    "start_time": "2022-02-21T17:11:33.730Z"
   },
   {
    "duration": 288,
    "start_time": "2022-02-21T17:11:33.788Z"
   },
   {
    "duration": 237,
    "start_time": "2022-02-21T17:11:34.077Z"
   },
   {
    "duration": 234,
    "start_time": "2022-02-21T17:11:34.316Z"
   },
   {
    "duration": 21,
    "start_time": "2022-02-21T17:11:53.186Z"
   },
   {
    "duration": 32,
    "start_time": "2022-02-21T17:14:06.450Z"
   },
   {
    "duration": 312,
    "start_time": "2022-02-21T17:15:23.419Z"
   },
   {
    "duration": 10,
    "start_time": "2022-02-21T17:17:47.056Z"
   },
   {
    "duration": 9,
    "start_time": "2022-02-21T17:20:22.402Z"
   },
   {
    "duration": 10,
    "start_time": "2022-02-21T17:21:14.550Z"
   },
   {
    "duration": 187,
    "start_time": "2022-02-21T17:21:35.562Z"
   },
   {
    "duration": 196,
    "start_time": "2022-02-21T17:21:54.928Z"
   },
   {
    "duration": 205,
    "start_time": "2022-02-21T17:21:58.858Z"
   },
   {
    "duration": 10,
    "start_time": "2022-02-21T17:22:10.172Z"
   },
   {
    "duration": 657,
    "start_time": "2022-02-21T17:22:30.660Z"
   },
   {
    "duration": 79,
    "start_time": "2022-02-21T17:22:31.319Z"
   },
   {
    "duration": 27,
    "start_time": "2022-02-21T17:22:31.400Z"
   },
   {
    "duration": 10,
    "start_time": "2022-02-21T17:22:31.429Z"
   },
   {
    "duration": 24,
    "start_time": "2022-02-21T17:22:31.441Z"
   },
   {
    "duration": 20,
    "start_time": "2022-02-21T17:22:31.467Z"
   },
   {
    "duration": 50,
    "start_time": "2022-02-21T17:22:31.489Z"
   },
   {
    "duration": 6,
    "start_time": "2022-02-21T17:22:31.541Z"
   },
   {
    "duration": 15,
    "start_time": "2022-02-21T17:22:31.551Z"
   },
   {
    "duration": 18,
    "start_time": "2022-02-21T17:22:31.568Z"
   },
   {
    "duration": 24,
    "start_time": "2022-02-21T17:22:31.588Z"
   },
   {
    "duration": 37,
    "start_time": "2022-02-21T17:22:31.615Z"
   },
   {
    "duration": 31,
    "start_time": "2022-02-21T17:22:31.655Z"
   },
   {
    "duration": 11,
    "start_time": "2022-02-21T17:22:31.688Z"
   },
   {
    "duration": 34,
    "start_time": "2022-02-21T17:22:31.702Z"
   },
   {
    "duration": 36,
    "start_time": "2022-02-21T17:22:31.739Z"
   },
   {
    "duration": 21,
    "start_time": "2022-02-21T17:22:31.776Z"
   },
   {
    "duration": 21,
    "start_time": "2022-02-21T17:22:31.799Z"
   },
   {
    "duration": 47,
    "start_time": "2022-02-21T17:22:31.822Z"
   },
   {
    "duration": 8,
    "start_time": "2022-02-21T17:22:31.871Z"
   },
   {
    "duration": 80,
    "start_time": "2022-02-21T17:22:31.880Z"
   },
   {
    "duration": 7,
    "start_time": "2022-02-21T17:22:31.962Z"
   },
   {
    "duration": 19,
    "start_time": "2022-02-21T17:22:31.970Z"
   },
   {
    "duration": 14,
    "start_time": "2022-02-21T17:22:31.991Z"
   },
   {
    "duration": 26,
    "start_time": "2022-02-21T17:22:32.007Z"
   },
   {
    "duration": 47,
    "start_time": "2022-02-21T17:22:32.035Z"
   },
   {
    "duration": 16,
    "start_time": "2022-02-21T17:22:32.085Z"
   },
   {
    "duration": 8,
    "start_time": "2022-02-21T17:22:38.854Z"
   },
   {
    "duration": 182,
    "start_time": "2022-02-21T17:22:51.982Z"
   },
   {
    "duration": 198,
    "start_time": "2022-02-21T17:23:26.287Z"
   },
   {
    "duration": 194,
    "start_time": "2022-02-21T17:23:37.005Z"
   },
   {
    "duration": 245,
    "start_time": "2022-02-21T17:23:58.788Z"
   },
   {
    "duration": 226,
    "start_time": "2022-02-21T17:24:01.562Z"
   },
   {
    "duration": 223,
    "start_time": "2022-02-21T17:24:11.858Z"
   },
   {
    "duration": 281,
    "start_time": "2022-02-21T17:24:20.757Z"
   },
   {
    "duration": 231,
    "start_time": "2022-02-21T17:24:24.997Z"
   },
   {
    "duration": 211,
    "start_time": "2022-02-21T17:24:30.767Z"
   },
   {
    "duration": 224,
    "start_time": "2022-02-21T17:24:39.025Z"
   },
   {
    "duration": 208,
    "start_time": "2022-02-21T17:24:43.329Z"
   },
   {
    "duration": 251,
    "start_time": "2022-02-21T17:25:21.564Z"
   },
   {
    "duration": 10,
    "start_time": "2022-02-21T17:26:00.370Z"
   },
   {
    "duration": 8,
    "start_time": "2022-02-21T17:26:07.809Z"
   },
   {
    "duration": 30,
    "start_time": "2022-02-21T17:27:49.866Z"
   },
   {
    "duration": 27,
    "start_time": "2022-02-21T17:32:24.475Z"
   },
   {
    "duration": 909,
    "start_time": "2022-02-21T18:56:39.587Z"
   },
   {
    "duration": 426,
    "start_time": "2022-02-21T18:56:40.499Z"
   },
   {
    "duration": 38,
    "start_time": "2022-02-21T18:56:40.927Z"
   },
   {
    "duration": 14,
    "start_time": "2022-02-21T18:56:40.968Z"
   },
   {
    "duration": 43,
    "start_time": "2022-02-21T18:56:40.985Z"
   },
   {
    "duration": 16,
    "start_time": "2022-02-21T18:56:41.031Z"
   },
   {
    "duration": 61,
    "start_time": "2022-02-21T18:56:41.050Z"
   },
   {
    "duration": 7,
    "start_time": "2022-02-21T18:56:41.115Z"
   },
   {
    "duration": 23,
    "start_time": "2022-02-21T18:56:41.125Z"
   },
   {
    "duration": 24,
    "start_time": "2022-02-21T18:56:41.150Z"
   },
   {
    "duration": 42,
    "start_time": "2022-02-21T18:56:41.177Z"
   },
   {
    "duration": 19,
    "start_time": "2022-02-21T18:56:41.222Z"
   },
   {
    "duration": 69,
    "start_time": "2022-02-21T18:56:41.244Z"
   },
   {
    "duration": 13,
    "start_time": "2022-02-21T18:56:41.316Z"
   },
   {
    "duration": 28,
    "start_time": "2022-02-21T18:56:41.331Z"
   },
   {
    "duration": 65,
    "start_time": "2022-02-21T18:56:41.361Z"
   },
   {
    "duration": 31,
    "start_time": "2022-02-21T18:56:41.428Z"
   },
   {
    "duration": 58,
    "start_time": "2022-02-21T18:56:41.462Z"
   },
   {
    "duration": 35,
    "start_time": "2022-02-21T18:56:41.522Z"
   },
   {
    "duration": 9,
    "start_time": "2022-02-21T18:56:41.560Z"
   },
   {
    "duration": 116,
    "start_time": "2022-02-21T18:56:41.571Z"
   },
   {
    "duration": 20,
    "start_time": "2022-02-21T18:56:41.690Z"
   },
   {
    "duration": 13,
    "start_time": "2022-02-21T18:56:41.714Z"
   },
   {
    "duration": 16,
    "start_time": "2022-02-21T18:56:41.729Z"
   },
   {
    "duration": 38,
    "start_time": "2022-02-21T18:56:41.747Z"
   },
   {
    "duration": 63,
    "start_time": "2022-02-21T18:56:41.787Z"
   },
   {
    "duration": 16,
    "start_time": "2022-02-21T18:56:41.852Z"
   },
   {
    "duration": 100,
    "start_time": "2022-02-21T18:56:41.871Z"
   },
   {
    "duration": 61,
    "start_time": "2022-02-21T18:56:41.974Z"
   },
   {
    "duration": 35,
    "start_time": "2022-02-21T18:56:42.037Z"
   },
   {
    "duration": 63,
    "start_time": "2022-02-21T18:56:42.074Z"
   },
   {
    "duration": 43,
    "start_time": "2022-02-21T18:56:42.140Z"
   },
   {
    "duration": 433,
    "start_time": "2022-02-21T18:56:42.185Z"
   },
   {
    "duration": 3765,
    "start_time": "2022-02-21T18:56:38.856Z"
   },
   {
    "duration": 3762,
    "start_time": "2022-02-21T18:56:38.861Z"
   },
   {
    "duration": 884,
    "start_time": "2022-02-21T18:57:30.260Z"
   },
   {
    "duration": 120,
    "start_time": "2022-02-21T18:57:31.147Z"
   },
   {
    "duration": 39,
    "start_time": "2022-02-21T18:57:31.270Z"
   },
   {
    "duration": 14,
    "start_time": "2022-02-21T18:57:31.311Z"
   },
   {
    "duration": 27,
    "start_time": "2022-02-21T18:57:31.328Z"
   },
   {
    "duration": 28,
    "start_time": "2022-02-21T18:57:31.357Z"
   },
   {
    "duration": 57,
    "start_time": "2022-02-21T18:57:31.388Z"
   },
   {
    "duration": 7,
    "start_time": "2022-02-21T18:57:31.449Z"
   },
   {
    "duration": 24,
    "start_time": "2022-02-21T18:57:31.460Z"
   },
   {
    "duration": 22,
    "start_time": "2022-02-21T18:57:31.511Z"
   },
   {
    "duration": 18,
    "start_time": "2022-02-21T18:57:31.536Z"
   },
   {
    "duration": 55,
    "start_time": "2022-02-21T18:57:31.556Z"
   },
   {
    "duration": 46,
    "start_time": "2022-02-21T18:57:31.613Z"
   },
   {
    "duration": 14,
    "start_time": "2022-02-21T18:57:31.662Z"
   },
   {
    "duration": 59,
    "start_time": "2022-02-21T18:57:31.678Z"
   },
   {
    "duration": 36,
    "start_time": "2022-02-21T18:57:31.739Z"
   },
   {
    "duration": 57,
    "start_time": "2022-02-21T18:57:31.778Z"
   },
   {
    "duration": 35,
    "start_time": "2022-02-21T18:57:31.837Z"
   },
   {
    "duration": 63,
    "start_time": "2022-02-21T18:57:31.874Z"
   },
   {
    "duration": 8,
    "start_time": "2022-02-21T18:57:31.939Z"
   },
   {
    "duration": 112,
    "start_time": "2022-02-21T18:57:31.949Z"
   },
   {
    "duration": 8,
    "start_time": "2022-02-21T18:57:32.063Z"
   },
   {
    "duration": 34,
    "start_time": "2022-02-21T18:57:32.075Z"
   },
   {
    "duration": 13,
    "start_time": "2022-02-21T18:57:32.113Z"
   },
   {
    "duration": 37,
    "start_time": "2022-02-21T18:57:32.129Z"
   },
   {
    "duration": 117,
    "start_time": "2022-02-21T18:57:32.169Z"
   },
   {
    "duration": 80,
    "start_time": "2022-02-21T18:57:32.295Z"
   },
   {
    "duration": 96,
    "start_time": "2022-02-21T18:57:32.378Z"
   },
   {
    "duration": 75,
    "start_time": "2022-02-21T18:57:32.477Z"
   },
   {
    "duration": 49,
    "start_time": "2022-02-21T18:57:32.556Z"
   },
   {
    "duration": 118,
    "start_time": "2022-02-21T18:57:32.608Z"
   },
   {
    "duration": 111,
    "start_time": "2022-02-21T18:57:32.729Z"
   },
   {
    "duration": 477,
    "start_time": "2022-02-21T18:57:32.843Z"
   },
   {
    "duration": 367,
    "start_time": "2022-02-21T18:57:33.323Z"
   },
   {
    "duration": 64,
    "start_time": "2022-02-21T18:57:33.693Z"
   },
   {
    "duration": 57,
    "start_time": "2022-02-21T19:00:36.280Z"
   },
   {
    "duration": 884,
    "start_time": "2022-02-21T19:01:38.733Z"
   },
   {
    "duration": 117,
    "start_time": "2022-02-21T19:01:39.620Z"
   },
   {
    "duration": 37,
    "start_time": "2022-02-21T19:01:39.740Z"
   },
   {
    "duration": 14,
    "start_time": "2022-02-21T19:01:39.781Z"
   },
   {
    "duration": 32,
    "start_time": "2022-02-21T19:01:39.797Z"
   },
   {
    "duration": 18,
    "start_time": "2022-02-21T19:01:39.831Z"
   },
   {
    "duration": 65,
    "start_time": "2022-02-21T19:01:39.852Z"
   },
   {
    "duration": 7,
    "start_time": "2022-02-21T19:01:39.922Z"
   },
   {
    "duration": 27,
    "start_time": "2022-02-21T19:01:39.933Z"
   },
   {
    "duration": 59,
    "start_time": "2022-02-21T19:01:39.963Z"
   },
   {
    "duration": 17,
    "start_time": "2022-02-21T19:01:40.025Z"
   },
   {
    "duration": 22,
    "start_time": "2022-02-21T19:01:40.045Z"
   },
   {
    "duration": 80,
    "start_time": "2022-02-21T19:01:40.071Z"
   },
   {
    "duration": 46,
    "start_time": "2022-02-21T19:01:54.719Z"
   },
   {
    "duration": 17,
    "start_time": "2022-02-21T19:02:54.124Z"
   },
   {
    "duration": 7,
    "start_time": "2022-02-21T19:10:11.756Z"
   },
   {
    "duration": 7,
    "start_time": "2022-02-21T19:10:33.358Z"
   },
   {
    "duration": 110,
    "start_time": "2022-02-21T19:16:05.436Z"
   },
   {
    "duration": 108,
    "start_time": "2022-02-21T19:17:14.628Z"
   },
   {
    "duration": 113,
    "start_time": "2022-02-21T19:17:36.794Z"
   },
   {
    "duration": 429,
    "start_time": "2022-02-21T19:17:49.433Z"
   },
   {
    "duration": 9863,
    "start_time": "2022-02-21T19:18:30.169Z"
   },
   {
    "duration": 3335,
    "start_time": "2022-02-21T19:20:12.103Z"
   },
   {
    "duration": 5,
    "start_time": "2022-02-21T19:22:26.376Z"
   },
   {
    "duration": 4,
    "start_time": "2022-02-21T19:22:36.020Z"
   },
   {
    "duration": 6,
    "start_time": "2022-02-21T19:22:38.324Z"
   },
   {
    "duration": 33,
    "start_time": "2022-02-21T19:25:23.441Z"
   },
   {
    "duration": 2267,
    "start_time": "2022-02-21T19:25:55.055Z"
   },
   {
    "duration": 8520,
    "start_time": "2022-02-21T19:26:21.583Z"
   },
   {
    "duration": 94,
    "start_time": "2022-02-21T19:26:43.363Z"
   },
   {
    "duration": 65,
    "start_time": "2022-02-21T19:27:44.880Z"
   },
   {
    "duration": 66,
    "start_time": "2022-02-21T19:28:51.733Z"
   },
   {
    "duration": 94,
    "start_time": "2022-02-21T19:28:57.260Z"
   },
   {
    "duration": 520,
    "start_time": "2022-02-21T19:29:21.774Z"
   },
   {
    "duration": 64,
    "start_time": "2022-02-21T19:29:30.188Z"
   },
   {
    "duration": 98,
    "start_time": "2022-02-21T19:29:35.240Z"
   },
   {
    "duration": 85,
    "start_time": "2022-02-21T19:30:02.897Z"
   },
   {
    "duration": 86,
    "start_time": "2022-02-21T19:30:27.959Z"
   },
   {
    "duration": 9,
    "start_time": "2022-02-21T19:31:16.306Z"
   },
   {
    "duration": 89,
    "start_time": "2022-02-21T19:31:18.973Z"
   },
   {
    "duration": 10,
    "start_time": "2022-02-21T19:31:22.661Z"
   },
   {
    "duration": 13,
    "start_time": "2022-02-21T19:31:25.109Z"
   },
   {
    "duration": 11,
    "start_time": "2022-02-21T19:31:30.057Z"
   },
   {
    "duration": 38,
    "start_time": "2022-02-21T19:31:36.080Z"
   },
   {
    "duration": 42,
    "start_time": "2022-02-21T19:31:45.841Z"
   },
   {
    "duration": 4,
    "start_time": "2022-02-21T19:52:48.053Z"
   },
   {
    "duration": 121,
    "start_time": "2022-02-21T19:52:48.061Z"
   },
   {
    "duration": 51,
    "start_time": "2022-02-21T19:52:48.187Z"
   },
   {
    "duration": 19,
    "start_time": "2022-02-21T19:52:48.241Z"
   },
   {
    "duration": 52,
    "start_time": "2022-02-21T19:52:48.263Z"
   },
   {
    "duration": 20,
    "start_time": "2022-02-21T19:52:48.318Z"
   },
   {
    "duration": 39,
    "start_time": "2022-02-21T19:52:48.341Z"
   },
   {
    "duration": 31,
    "start_time": "2022-02-21T19:52:48.384Z"
   },
   {
    "duration": 23,
    "start_time": "2022-02-21T19:52:48.419Z"
   },
   {
    "duration": 22,
    "start_time": "2022-02-21T19:52:48.445Z"
   },
   {
    "duration": 58,
    "start_time": "2022-02-21T19:52:48.469Z"
   },
   {
    "duration": 22,
    "start_time": "2022-02-21T19:52:48.531Z"
   },
   {
    "duration": 84,
    "start_time": "2022-02-21T19:52:48.556Z"
   },
   {
    "duration": 17,
    "start_time": "2022-02-21T19:52:48.644Z"
   },
   {
    "duration": 452,
    "start_time": "2022-02-21T19:52:50.832Z"
   },
   {
    "duration": 844,
    "start_time": "2022-02-21T19:53:02.750Z"
   },
   {
    "duration": 119,
    "start_time": "2022-02-21T19:53:03.596Z"
   },
   {
    "duration": 38,
    "start_time": "2022-02-21T19:53:03.718Z"
   },
   {
    "duration": 13,
    "start_time": "2022-02-21T19:53:03.759Z"
   },
   {
    "duration": 53,
    "start_time": "2022-02-21T19:53:03.775Z"
   },
   {
    "duration": 16,
    "start_time": "2022-02-21T19:53:03.831Z"
   },
   {
    "duration": 37,
    "start_time": "2022-02-21T19:53:03.849Z"
   },
   {
    "duration": 27,
    "start_time": "2022-02-21T19:53:03.889Z"
   },
   {
    "duration": 25,
    "start_time": "2022-02-21T19:53:03.919Z"
   },
   {
    "duration": 22,
    "start_time": "2022-02-21T19:53:03.947Z"
   },
   {
    "duration": 48,
    "start_time": "2022-02-21T19:53:03.971Z"
   },
   {
    "duration": 23,
    "start_time": "2022-02-21T19:53:04.021Z"
   },
   {
    "duration": 67,
    "start_time": "2022-02-21T19:53:04.047Z"
   },
   {
    "duration": 16,
    "start_time": "2022-02-21T19:53:04.116Z"
   },
   {
    "duration": 514,
    "start_time": "2022-02-21T19:53:05.487Z"
   },
   {
    "duration": 86,
    "start_time": "2022-02-21T19:53:28.618Z"
   },
   {
    "duration": 866,
    "start_time": "2022-02-21T19:53:55.544Z"
   },
   {
    "duration": 122,
    "start_time": "2022-02-21T19:53:56.413Z"
   },
   {
    "duration": 47,
    "start_time": "2022-02-21T19:53:56.538Z"
   },
   {
    "duration": 15,
    "start_time": "2022-02-21T19:53:56.588Z"
   },
   {
    "duration": 28,
    "start_time": "2022-02-21T19:53:56.611Z"
   },
   {
    "duration": 19,
    "start_time": "2022-02-21T19:53:56.642Z"
   },
   {
    "duration": 68,
    "start_time": "2022-02-21T19:53:56.664Z"
   },
   {
    "duration": 7,
    "start_time": "2022-02-21T19:53:56.735Z"
   },
   {
    "duration": 29,
    "start_time": "2022-02-21T19:53:56.744Z"
   },
   {
    "duration": 43,
    "start_time": "2022-02-21T19:53:56.776Z"
   },
   {
    "duration": 16,
    "start_time": "2022-02-21T19:53:56.822Z"
   },
   {
    "duration": 22,
    "start_time": "2022-02-21T19:53:56.841Z"
   },
   {
    "duration": 79,
    "start_time": "2022-02-21T19:53:56.865Z"
   },
   {
    "duration": 16,
    "start_time": "2022-02-21T19:53:56.947Z"
   },
   {
    "duration": 87,
    "start_time": "2022-02-21T19:53:58.796Z"
   },
   {
    "duration": 447,
    "start_time": "2022-02-21T19:57:21.643Z"
   },
   {
    "duration": 875,
    "start_time": "2022-02-21T19:57:44.867Z"
   },
   {
    "duration": 117,
    "start_time": "2022-02-21T19:57:45.745Z"
   },
   {
    "duration": 38,
    "start_time": "2022-02-21T19:57:45.865Z"
   },
   {
    "duration": 14,
    "start_time": "2022-02-21T19:57:45.906Z"
   },
   {
    "duration": 22,
    "start_time": "2022-02-21T19:57:45.923Z"
   },
   {
    "duration": 17,
    "start_time": "2022-02-21T19:57:45.948Z"
   },
   {
    "duration": 66,
    "start_time": "2022-02-21T19:57:45.968Z"
   },
   {
    "duration": 8,
    "start_time": "2022-02-21T19:57:46.037Z"
   },
   {
    "duration": 21,
    "start_time": "2022-02-21T19:57:46.050Z"
   },
   {
    "duration": 55,
    "start_time": "2022-02-21T19:57:46.075Z"
   },
   {
    "duration": 14,
    "start_time": "2022-02-21T19:57:46.132Z"
   },
   {
    "duration": 20,
    "start_time": "2022-02-21T19:57:46.149Z"
   },
   {
    "duration": 76,
    "start_time": "2022-02-21T19:57:46.171Z"
   },
   {
    "duration": 15,
    "start_time": "2022-02-21T19:57:46.250Z"
   },
   {
    "duration": 89,
    "start_time": "2022-02-21T19:57:48.147Z"
   },
   {
    "duration": 17,
    "start_time": "2022-02-21T19:58:44.943Z"
   },
   {
    "duration": 895,
    "start_time": "2022-02-21T20:00:03.487Z"
   },
   {
    "duration": 120,
    "start_time": "2022-02-21T20:00:04.385Z"
   },
   {
    "duration": 40,
    "start_time": "2022-02-21T20:00:04.508Z"
   },
   {
    "duration": 15,
    "start_time": "2022-02-21T20:00:04.552Z"
   },
   {
    "duration": 59,
    "start_time": "2022-02-21T20:00:04.570Z"
   },
   {
    "duration": 17,
    "start_time": "2022-02-21T20:00:04.631Z"
   },
   {
    "duration": 60,
    "start_time": "2022-02-21T20:00:04.650Z"
   },
   {
    "duration": 8,
    "start_time": "2022-02-21T20:00:04.715Z"
   },
   {
    "duration": 22,
    "start_time": "2022-02-21T20:00:04.726Z"
   },
   {
    "duration": 61,
    "start_time": "2022-02-21T20:00:04.751Z"
   },
   {
    "duration": 17,
    "start_time": "2022-02-21T20:00:04.814Z"
   },
   {
    "duration": 23,
    "start_time": "2022-02-21T20:00:04.833Z"
   },
   {
    "duration": 80,
    "start_time": "2022-02-21T20:00:04.859Z"
   },
   {
    "duration": 18,
    "start_time": "2022-02-21T20:00:04.941Z"
   },
   {
    "duration": 99,
    "start_time": "2022-02-21T20:00:05.842Z"
   },
   {
    "duration": 102,
    "start_time": "2022-02-21T20:00:39.513Z"
   },
   {
    "duration": 78,
    "start_time": "2022-02-21T20:01:06.458Z"
   },
   {
    "duration": 75,
    "start_time": "2022-02-21T20:01:41.665Z"
   },
   {
    "duration": 10,
    "start_time": "2022-02-21T20:01:51.768Z"
   },
   {
    "duration": 117,
    "start_time": "2022-02-21T20:01:53.118Z"
   },
   {
    "duration": 10,
    "start_time": "2022-02-21T20:01:55.938Z"
   },
   {
    "duration": 14,
    "start_time": "2022-02-21T20:01:56.994Z"
   },
   {
    "duration": 10,
    "start_time": "2022-02-21T20:01:59.354Z"
   },
   {
    "duration": 51,
    "start_time": "2022-02-21T20:02:03.581Z"
   },
   {
    "duration": 44,
    "start_time": "2022-02-21T20:02:09.372Z"
   },
   {
    "duration": 20,
    "start_time": "2022-02-21T20:02:17.518Z"
   },
   {
    "duration": 54,
    "start_time": "2022-02-21T20:02:23.541Z"
   },
   {
    "duration": 48,
    "start_time": "2022-02-21T20:02:57.690Z"
   },
   {
    "duration": 45,
    "start_time": "2022-02-21T20:03:16.739Z"
   },
   {
    "duration": 56,
    "start_time": "2022-02-21T20:03:30.862Z"
   },
   {
    "duration": 29,
    "start_time": "2022-02-21T20:03:33.870Z"
   },
   {
    "duration": 43,
    "start_time": "2022-02-21T20:03:48.283Z"
   },
   {
    "duration": 35,
    "start_time": "2022-02-21T20:04:14.397Z"
   },
   {
    "duration": 419,
    "start_time": "2022-02-21T20:04:32.353Z"
   },
   {
    "duration": 1039,
    "start_time": "2022-02-21T20:08:33.164Z"
   },
   {
    "duration": 116,
    "start_time": "2022-02-21T20:08:34.210Z"
   },
   {
    "duration": 37,
    "start_time": "2022-02-21T20:08:34.329Z"
   },
   {
    "duration": 14,
    "start_time": "2022-02-21T20:08:34.369Z"
   },
   {
    "duration": 41,
    "start_time": "2022-02-21T20:08:34.385Z"
   },
   {
    "duration": 26,
    "start_time": "2022-02-21T20:08:34.429Z"
   },
   {
    "duration": 70,
    "start_time": "2022-02-21T20:08:34.459Z"
   },
   {
    "duration": 7,
    "start_time": "2022-02-21T20:08:34.532Z"
   },
   {
    "duration": 27,
    "start_time": "2022-02-21T20:08:34.542Z"
   },
   {
    "duration": 43,
    "start_time": "2022-02-21T20:08:34.572Z"
   },
   {
    "duration": 14,
    "start_time": "2022-02-21T20:08:34.618Z"
   },
   {
    "duration": 19,
    "start_time": "2022-02-21T20:08:34.634Z"
   },
   {
    "duration": 78,
    "start_time": "2022-02-21T20:08:34.656Z"
   },
   {
    "duration": 15,
    "start_time": "2022-02-21T20:08:34.737Z"
   },
   {
    "duration": 76,
    "start_time": "2022-02-21T20:08:36.417Z"
   },
   {
    "duration": 41,
    "start_time": "2022-02-21T20:08:43.980Z"
   },
   {
    "duration": 42,
    "start_time": "2022-02-21T20:08:55.092Z"
   },
   {
    "duration": 40,
    "start_time": "2022-02-21T20:09:13.340Z"
   },
   {
    "duration": 1076,
    "start_time": "2022-02-21T20:11:35.654Z"
   },
   {
    "duration": 17,
    "start_time": "2022-02-21T20:12:17.789Z"
   },
   {
    "duration": 78,
    "start_time": "2022-02-21T20:12:34.026Z"
   },
   {
    "duration": 42,
    "start_time": "2022-02-21T20:12:37.569Z"
   },
   {
    "duration": 18,
    "start_time": "2022-02-21T20:13:32.011Z"
   },
   {
    "duration": 326,
    "start_time": "2022-02-21T20:14:03.379Z"
   },
   {
    "duration": 14,
    "start_time": "2022-02-21T20:14:11.084Z"
   },
   {
    "duration": 18,
    "start_time": "2022-02-21T20:14:37.434Z"
   },
   {
    "duration": 4,
    "start_time": "2022-02-21T20:15:31.404Z"
   },
   {
    "duration": 28,
    "start_time": "2022-02-21T20:15:51.540Z"
   },
   {
    "duration": 26,
    "start_time": "2022-02-21T20:16:08.159Z"
   },
   {
    "duration": 26,
    "start_time": "2022-02-21T20:16:15.213Z"
   },
   {
    "duration": 24,
    "start_time": "2022-02-21T20:16:29.881Z"
   },
   {
    "duration": 39,
    "start_time": "2022-02-21T20:16:37.940Z"
   },
   {
    "duration": 50,
    "start_time": "2022-02-21T20:16:41.354Z"
   },
   {
    "duration": 45,
    "start_time": "2022-02-21T20:17:38.959Z"
   },
   {
    "duration": 423,
    "start_time": "2022-02-21T20:18:20.000Z"
   },
   {
    "duration": 355,
    "start_time": "2022-02-21T20:18:28.075Z"
   },
   {
    "duration": 6,
    "start_time": "2022-02-21T20:18:51.283Z"
   },
   {
    "duration": 6,
    "start_time": "2022-02-21T20:18:57.754Z"
   },
   {
    "duration": 6,
    "start_time": "2022-02-21T20:19:01.601Z"
   },
   {
    "duration": 6,
    "start_time": "2022-02-21T20:19:06.089Z"
   },
   {
    "duration": 6,
    "start_time": "2022-02-21T20:19:10.449Z"
   },
   {
    "duration": 8,
    "start_time": "2022-02-21T20:19:14.621Z"
   },
   {
    "duration": 44,
    "start_time": "2022-02-21T20:19:44.464Z"
   },
   {
    "duration": 44,
    "start_time": "2022-02-21T20:23:31.061Z"
   },
   {
    "duration": 1132,
    "start_time": "2022-02-21T20:23:52.910Z"
   },
   {
    "duration": 46,
    "start_time": "2022-02-21T20:24:03.516Z"
   },
   {
    "duration": 55,
    "start_time": "2022-02-21T20:24:35.583Z"
   },
   {
    "duration": 21,
    "start_time": "2022-02-21T20:25:01.683Z"
   },
   {
    "duration": 563,
    "start_time": "2022-02-21T20:25:16.494Z"
   },
   {
    "duration": 16,
    "start_time": "2022-02-21T20:25:33.999Z"
   },
   {
    "duration": 15,
    "start_time": "2022-02-21T20:26:13.072Z"
   },
   {
    "duration": 4,
    "start_time": "2022-02-21T20:42:21.634Z"
   },
   {
    "duration": 1028,
    "start_time": "2022-02-21T20:42:27.329Z"
   },
   {
    "duration": 131,
    "start_time": "2022-02-21T20:42:28.968Z"
   },
   {
    "duration": 38,
    "start_time": "2022-02-21T20:42:31.638Z"
   },
   {
    "duration": 15,
    "start_time": "2022-02-21T20:42:37.368Z"
   },
   {
    "duration": 23,
    "start_time": "2022-02-21T20:42:41.870Z"
   },
   {
    "duration": 19,
    "start_time": "2022-02-21T20:42:44.741Z"
   },
   {
    "duration": 39,
    "start_time": "2022-02-21T20:42:46.887Z"
   },
   {
    "duration": 9,
    "start_time": "2022-02-21T20:42:50.178Z"
   },
   {
    "duration": 24,
    "start_time": "2022-02-21T20:42:52.880Z"
   },
   {
    "duration": 23,
    "start_time": "2022-02-21T20:42:55.281Z"
   },
   {
    "duration": 14,
    "start_time": "2022-02-21T20:42:59.832Z"
   },
   {
    "duration": 21,
    "start_time": "2022-02-21T20:43:02.263Z"
   },
   {
    "duration": 45,
    "start_time": "2022-02-21T20:43:08.415Z"
   },
   {
    "duration": 15,
    "start_time": "2022-02-21T20:43:36.602Z"
   },
   {
    "duration": 15,
    "start_time": "2022-02-21T20:43:46.529Z"
   },
   {
    "duration": 13,
    "start_time": "2022-02-21T20:43:52.380Z"
   },
   {
    "duration": 15,
    "start_time": "2022-02-21T20:43:56.153Z"
   },
   {
    "duration": 263,
    "start_time": "2022-02-21T20:44:31.738Z"
   },
   {
    "duration": 42,
    "start_time": "2022-02-21T20:44:39.813Z"
   },
   {
    "duration": 28,
    "start_time": "2022-02-21T20:45:13.518Z"
   },
   {
    "duration": 28,
    "start_time": "2022-02-21T20:45:34.121Z"
   },
   {
    "duration": 18,
    "start_time": "2022-02-21T20:46:28.652Z"
   },
   {
    "duration": 40,
    "start_time": "2022-02-21T20:47:48.898Z"
   },
   {
    "duration": 18,
    "start_time": "2022-02-21T20:48:20.140Z"
   },
   {
    "duration": 28,
    "start_time": "2022-02-21T20:48:27.335Z"
   },
   {
    "duration": 18,
    "start_time": "2022-02-21T20:49:21.622Z"
   },
   {
    "duration": 24,
    "start_time": "2022-02-21T20:49:25.758Z"
   },
   {
    "duration": 9,
    "start_time": "2022-02-21T20:49:38.280Z"
   },
   {
    "duration": 150,
    "start_time": "2022-02-21T20:49:47.944Z"
   },
   {
    "duration": 9,
    "start_time": "2022-02-21T20:50:00.164Z"
   },
   {
    "duration": 13,
    "start_time": "2022-02-21T20:50:11.243Z"
   },
   {
    "duration": 11,
    "start_time": "2022-02-21T20:50:19.904Z"
   },
   {
    "duration": 42,
    "start_time": "2022-02-21T20:50:24.277Z"
   },
   {
    "duration": 43,
    "start_time": "2022-02-21T20:50:30.532Z"
   },
   {
    "duration": 17,
    "start_time": "2022-02-21T20:50:36.072Z"
   },
   {
    "duration": 47,
    "start_time": "2022-02-21T20:50:57.715Z"
   },
   {
    "duration": 44,
    "start_time": "2022-02-21T20:51:13.015Z"
   },
   {
    "duration": 862,
    "start_time": "2022-02-21T20:53:38.242Z"
   },
   {
    "duration": 864,
    "start_time": "2022-02-21T20:54:03.436Z"
   },
   {
    "duration": 896,
    "start_time": "2022-02-21T20:54:13.741Z"
   },
   {
    "duration": 42,
    "start_time": "2022-02-21T20:54:52.892Z"
   },
   {
    "duration": 284,
    "start_time": "2022-02-21T20:55:04.389Z"
   },
   {
    "duration": 35392,
    "start_time": "2022-02-21T20:55:10.834Z"
   },
   {
    "duration": 42,
    "start_time": "2022-02-21T20:56:12.602Z"
   },
   {
    "duration": 30,
    "start_time": "2022-02-21T20:57:17.914Z"
   },
   {
    "duration": 29,
    "start_time": "2022-02-21T20:57:58.597Z"
   },
   {
    "duration": 449,
    "start_time": "2022-02-21T20:58:07.848Z"
   },
   {
    "duration": 36,
    "start_time": "2022-02-21T20:58:10.587Z"
   },
   {
    "duration": 40,
    "start_time": "2022-02-21T20:58:28.102Z"
   },
   {
    "duration": 350,
    "start_time": "2022-02-21T20:59:40.405Z"
   },
   {
    "duration": 41,
    "start_time": "2022-02-21T20:59:47.037Z"
   },
   {
    "duration": 45,
    "start_time": "2022-02-21T20:59:58.563Z"
   },
   {
    "duration": 427,
    "start_time": "2022-02-21T21:02:06.866Z"
   },
   {
    "duration": 44,
    "start_time": "2022-02-21T21:02:19.495Z"
   },
   {
    "duration": 361,
    "start_time": "2022-02-21T21:03:42.954Z"
   },
   {
    "duration": 9848,
    "start_time": "2022-02-21T21:04:29.594Z"
   },
   {
    "duration": 387,
    "start_time": "2022-02-21T21:05:51.893Z"
   },
   {
    "duration": 43,
    "start_time": "2022-02-21T21:06:10.149Z"
   },
   {
    "duration": 27,
    "start_time": "2022-02-21T21:06:44.670Z"
   },
   {
    "duration": 63,
    "start_time": "2022-02-21T21:06:48.583Z"
   },
   {
    "duration": 46,
    "start_time": "2022-02-21T21:06:53.359Z"
   },
   {
    "duration": 437,
    "start_time": "2022-02-21T21:07:01.236Z"
   },
   {
    "duration": 659,
    "start_time": "2022-02-21T21:07:11.401Z"
   },
   {
    "duration": 555,
    "start_time": "2022-02-21T21:07:22.698Z"
   },
   {
    "duration": 318,
    "start_time": "2022-02-21T21:08:06.563Z"
   },
   {
    "duration": 318,
    "start_time": "2022-02-21T21:08:27.315Z"
   },
   {
    "duration": 565,
    "start_time": "2022-02-21T21:09:00.191Z"
   },
   {
    "duration": 353,
    "start_time": "2022-02-21T21:09:08.900Z"
   },
   {
    "duration": 376,
    "start_time": "2022-02-21T21:09:22.737Z"
   },
   {
    "duration": 340,
    "start_time": "2022-02-21T21:09:28.777Z"
   },
   {
    "duration": 552,
    "start_time": "2022-02-21T21:09:38.127Z"
   },
   {
    "duration": 45,
    "start_time": "2022-02-21T21:10:31.645Z"
   },
   {
    "duration": 554,
    "start_time": "2022-02-21T21:12:03.528Z"
   },
   {
    "duration": 31,
    "start_time": "2022-02-21T21:12:21.296Z"
   },
   {
    "duration": 857,
    "start_time": "2022-02-21T21:15:53.660Z"
   },
   {
    "duration": 335,
    "start_time": "2022-02-21T21:16:21.858Z"
   },
   {
    "duration": 533,
    "start_time": "2022-02-21T21:16:32.963Z"
   },
   {
    "duration": 513,
    "start_time": "2022-02-22T16:42:18.934Z"
   },
   {
    "duration": 618,
    "start_time": "2022-02-22T16:42:26.627Z"
   },
   {
    "duration": 128,
    "start_time": "2022-02-22T16:42:27.246Z"
   },
   {
    "duration": 21,
    "start_time": "2022-02-22T16:42:27.376Z"
   },
   {
    "duration": 10,
    "start_time": "2022-02-22T16:42:27.399Z"
   },
   {
    "duration": 15,
    "start_time": "2022-02-22T16:42:27.410Z"
   },
   {
    "duration": 12,
    "start_time": "2022-02-22T16:42:27.426Z"
   },
   {
    "duration": 19,
    "start_time": "2022-02-22T16:42:27.440Z"
   },
   {
    "duration": 4,
    "start_time": "2022-02-22T16:42:27.462Z"
   },
   {
    "duration": 11,
    "start_time": "2022-02-22T16:42:27.467Z"
   },
   {
    "duration": 11,
    "start_time": "2022-02-22T16:42:27.480Z"
   },
   {
    "duration": 8,
    "start_time": "2022-02-22T16:42:27.492Z"
   },
   {
    "duration": 11,
    "start_time": "2022-02-22T16:42:27.502Z"
   },
   {
    "duration": 51,
    "start_time": "2022-02-22T16:42:27.514Z"
   },
   {
    "duration": 10,
    "start_time": "2022-02-22T16:42:31.437Z"
   },
   {
    "duration": 8,
    "start_time": "2022-02-22T16:42:35.696Z"
   },
   {
    "duration": 8,
    "start_time": "2022-02-22T16:42:42.553Z"
   },
   {
    "duration": 9,
    "start_time": "2022-02-22T16:42:57.124Z"
   },
   {
    "duration": 8,
    "start_time": "2022-02-22T16:43:03.009Z"
   },
   {
    "duration": 9,
    "start_time": "2022-02-22T16:43:06.141Z"
   },
   {
    "duration": 9,
    "start_time": "2022-02-22T16:43:18.010Z"
   },
   {
    "duration": 12,
    "start_time": "2022-02-22T16:43:37.520Z"
   },
   {
    "duration": 315,
    "start_time": "2022-02-22T16:43:59.069Z"
   },
   {
    "duration": 12,
    "start_time": "2022-02-22T16:44:01.959Z"
   },
   {
    "duration": 12,
    "start_time": "2022-02-22T16:44:09.460Z"
   },
   {
    "duration": 12,
    "start_time": "2022-02-22T16:44:15.467Z"
   },
   {
    "duration": 95,
    "start_time": "2022-02-22T16:44:22.289Z"
   },
   {
    "duration": 16,
    "start_time": "2022-02-22T16:44:24.617Z"
   },
   {
    "duration": 281,
    "start_time": "2022-02-22T16:45:49.162Z"
   },
   {
    "duration": 13,
    "start_time": "2022-02-22T16:46:01.158Z"
   },
   {
    "duration": 13,
    "start_time": "2022-02-22T16:46:22.246Z"
   },
   {
    "duration": 8,
    "start_time": "2022-02-22T16:48:53.952Z"
   },
   {
    "duration": 17,
    "start_time": "2022-02-22T16:50:46.627Z"
   },
   {
    "duration": 589,
    "start_time": "2022-02-22T16:51:16.186Z"
   },
   {
    "duration": 119,
    "start_time": "2022-02-22T16:51:16.777Z"
   },
   {
    "duration": 21,
    "start_time": "2022-02-22T16:51:16.898Z"
   },
   {
    "duration": 7,
    "start_time": "2022-02-22T16:51:16.921Z"
   },
   {
    "duration": 15,
    "start_time": "2022-02-22T16:51:16.929Z"
   },
   {
    "duration": 10,
    "start_time": "2022-02-22T16:51:16.946Z"
   },
   {
    "duration": 20,
    "start_time": "2022-02-22T16:51:16.957Z"
   },
   {
    "duration": 4,
    "start_time": "2022-02-22T16:51:16.978Z"
   },
   {
    "duration": 10,
    "start_time": "2022-02-22T16:51:16.984Z"
   },
   {
    "duration": 12,
    "start_time": "2022-02-22T16:51:16.996Z"
   },
   {
    "duration": 37,
    "start_time": "2022-02-22T16:51:17.009Z"
   },
   {
    "duration": 12,
    "start_time": "2022-02-22T16:51:17.047Z"
   },
   {
    "duration": 24,
    "start_time": "2022-02-22T16:51:17.061Z"
   },
   {
    "duration": 8,
    "start_time": "2022-02-22T16:51:17.087Z"
   },
   {
    "duration": 17,
    "start_time": "2022-02-22T16:51:17.096Z"
   },
   {
    "duration": 33,
    "start_time": "2022-02-22T16:51:17.114Z"
   },
   {
    "duration": 17,
    "start_time": "2022-02-22T16:51:17.148Z"
   },
   {
    "duration": 10,
    "start_time": "2022-02-22T16:51:17.166Z"
   },
   {
    "duration": 5,
    "start_time": "2022-02-22T16:51:17.177Z"
   },
   {
    "duration": 77,
    "start_time": "2022-02-22T16:51:17.183Z"
   },
   {
    "duration": 5,
    "start_time": "2022-02-22T16:51:17.262Z"
   },
   {
    "duration": 11,
    "start_time": "2022-02-22T16:51:17.268Z"
   },
   {
    "duration": 16,
    "start_time": "2022-02-22T16:51:17.280Z"
   },
   {
    "duration": 26,
    "start_time": "2022-02-22T16:51:17.297Z"
   },
   {
    "duration": 24,
    "start_time": "2022-02-22T16:51:17.325Z"
   },
   {
    "duration": 11,
    "start_time": "2022-02-22T16:51:17.351Z"
   },
   {
    "duration": 30,
    "start_time": "2022-02-22T16:51:17.364Z"
   },
   {
    "duration": 21,
    "start_time": "2022-02-22T16:51:17.396Z"
   },
   {
    "duration": 37,
    "start_time": "2022-02-22T16:51:17.418Z"
   },
   {
    "duration": 14,
    "start_time": "2022-02-22T16:51:17.456Z"
   },
   {
    "duration": 20,
    "start_time": "2022-02-22T16:51:17.471Z"
   },
   {
    "duration": 31,
    "start_time": "2022-02-22T16:51:17.492Z"
   },
   {
    "duration": 245,
    "start_time": "2022-02-22T16:51:17.524Z"
   },
   {
    "duration": 201,
    "start_time": "2022-02-22T16:51:17.770Z"
   },
   {
    "duration": 209,
    "start_time": "2022-02-22T16:51:17.972Z"
   },
   {
    "duration": 19,
    "start_time": "2022-02-22T16:51:18.183Z"
   },
   {
    "duration": 243,
    "start_time": "2022-02-22T16:51:18.203Z"
   },
   {
    "duration": 4,
    "start_time": "2022-02-22T16:53:10.880Z"
   },
   {
    "duration": 5,
    "start_time": "2022-02-22T16:53:23.361Z"
   },
   {
    "duration": 91,
    "start_time": "2022-02-22T16:53:39.519Z"
   },
   {
    "duration": 3,
    "start_time": "2022-02-22T16:53:44.685Z"
   },
   {
    "duration": 11,
    "start_time": "2022-02-22T16:54:37.853Z"
   },
   {
    "duration": 554,
    "start_time": "2022-02-22T16:55:41.030Z"
   },
   {
    "duration": 12,
    "start_time": "2022-02-22T16:56:10.994Z"
   },
   {
    "duration": 11,
    "start_time": "2022-02-22T16:56:55.758Z"
   },
   {
    "duration": 8,
    "start_time": "2022-02-22T16:57:12.022Z"
   },
   {
    "duration": 11,
    "start_time": "2022-02-22T16:57:16.028Z"
   },
   {
    "duration": 479,
    "start_time": "2022-02-22T16:57:26.852Z"
   },
   {
    "duration": 61,
    "start_time": "2022-02-22T16:57:49.178Z"
   },
   {
    "duration": 43,
    "start_time": "2022-02-22T16:58:59.071Z"
   },
   {
    "duration": 2161,
    "start_time": "2022-02-22T17:03:01.767Z"
   },
   {
    "duration": 324,
    "start_time": "2022-02-22T17:03:59.054Z"
   },
   {
    "duration": 43,
    "start_time": "2022-02-22T17:04:07.533Z"
   },
   {
    "duration": 48,
    "start_time": "2022-02-22T17:05:40.269Z"
   },
   {
    "duration": 262,
    "start_time": "2022-02-22T17:05:51.245Z"
   },
   {
    "duration": 277,
    "start_time": "2022-02-22T17:06:58.584Z"
   },
   {
    "duration": 210,
    "start_time": "2022-02-22T17:08:21.357Z"
   },
   {
    "duration": 1725,
    "start_time": "2022-02-22T17:24:49.231Z"
   },
   {
    "duration": 1204,
    "start_time": "2022-02-22T17:25:14.714Z"
   },
   {
    "duration": 1310,
    "start_time": "2022-02-22T17:25:50.783Z"
   },
   {
    "duration": 1147,
    "start_time": "2022-02-22T17:26:02.783Z"
   },
   {
    "duration": 19,
    "start_time": "2022-02-22T17:26:20.933Z"
   },
   {
    "duration": 302,
    "start_time": "2022-02-22T17:26:30.564Z"
   },
   {
    "duration": 480,
    "start_time": "2022-02-22T17:26:48.117Z"
   },
   {
    "duration": 298,
    "start_time": "2022-02-22T17:27:00.160Z"
   },
   {
    "duration": 18,
    "start_time": "2022-02-22T17:27:27.590Z"
   },
   {
    "duration": 652,
    "start_time": "2022-02-23T14:29:48.907Z"
   },
   {
    "duration": 370,
    "start_time": "2022-02-23T14:29:49.560Z"
   },
   {
    "duration": 22,
    "start_time": "2022-02-23T14:29:49.932Z"
   },
   {
    "duration": 8,
    "start_time": "2022-02-23T14:29:49.955Z"
   },
   {
    "duration": 15,
    "start_time": "2022-02-23T14:29:49.965Z"
   },
   {
    "duration": 10,
    "start_time": "2022-02-23T14:29:49.981Z"
   },
   {
    "duration": 20,
    "start_time": "2022-02-23T14:29:49.992Z"
   },
   {
    "duration": 33,
    "start_time": "2022-02-23T14:29:50.013Z"
   },
   {
    "duration": 19,
    "start_time": "2022-02-23T14:30:08.090Z"
   },
   {
    "duration": 14,
    "start_time": "2022-02-23T14:30:44.091Z"
   },
   {
    "duration": 14,
    "start_time": "2022-02-23T14:31:00.200Z"
   },
   {
    "duration": 10,
    "start_time": "2022-02-23T14:31:23.275Z"
   },
   {
    "duration": 343,
    "start_time": "2022-02-23T14:32:10.022Z"
   },
   {
    "duration": 276,
    "start_time": "2022-02-23T14:32:45.614Z"
   },
   {
    "duration": 288,
    "start_time": "2022-02-23T14:32:52.116Z"
   },
   {
    "duration": 90,
    "start_time": "2022-02-23T14:33:17.414Z"
   },
   {
    "duration": 295,
    "start_time": "2022-02-23T14:33:21.375Z"
   },
   {
    "duration": 4,
    "start_time": "2022-02-23T14:37:21.628Z"
   },
   {
    "duration": 4,
    "start_time": "2022-02-23T14:37:27.740Z"
   },
   {
    "duration": 1309,
    "start_time": "2022-02-23T14:38:05.146Z"
   },
   {
    "duration": 1433,
    "start_time": "2022-02-23T14:38:35.809Z"
   },
   {
    "duration": 259,
    "start_time": "2022-02-23T14:39:14.014Z"
   },
   {
    "duration": 3,
    "start_time": "2022-02-23T14:39:21.692Z"
   },
   {
    "duration": 3,
    "start_time": "2022-02-23T14:39:28.076Z"
   },
   {
    "duration": 6,
    "start_time": "2022-02-23T14:39:46.593Z"
   },
   {
    "duration": 4,
    "start_time": "2022-02-23T14:39:51.740Z"
   },
   {
    "duration": 340,
    "start_time": "2022-02-23T14:41:56.853Z"
   },
   {
    "duration": 8,
    "start_time": "2022-02-23T14:42:04.152Z"
   },
   {
    "duration": 313,
    "start_time": "2022-02-23T14:42:19.028Z"
   },
   {
    "duration": 279,
    "start_time": "2022-02-23T14:43:02.962Z"
   },
   {
    "duration": 8,
    "start_time": "2022-02-23T14:43:15.846Z"
   },
   {
    "duration": 28,
    "start_time": "2022-02-23T14:44:08.252Z"
   },
   {
    "duration": 28,
    "start_time": "2022-02-23T14:51:34.517Z"
   },
   {
    "duration": 87,
    "start_time": "2022-02-23T14:58:06.180Z"
   },
   {
    "duration": 16,
    "start_time": "2022-02-23T14:58:26.626Z"
   },
   {
    "duration": 14,
    "start_time": "2022-02-23T15:05:18.384Z"
   },
   {
    "duration": 14,
    "start_time": "2022-02-23T15:05:23.016Z"
   },
   {
    "duration": 9,
    "start_time": "2022-02-23T15:39:54.421Z"
   },
   {
    "duration": 9,
    "start_time": "2022-02-23T15:40:18.574Z"
   },
   {
    "duration": 8,
    "start_time": "2022-02-23T15:40:28.935Z"
   },
   {
    "duration": 5,
    "start_time": "2022-02-23T15:40:45.593Z"
   },
   {
    "duration": 621,
    "start_time": "2022-02-23T15:58:37.387Z"
   },
   {
    "duration": 399,
    "start_time": "2022-02-23T15:58:38.010Z"
   },
   {
    "duration": 25,
    "start_time": "2022-02-23T15:58:38.411Z"
   },
   {
    "duration": 9,
    "start_time": "2022-02-23T15:58:38.437Z"
   },
   {
    "duration": 16,
    "start_time": "2022-02-23T15:58:38.447Z"
   },
   {
    "duration": 11,
    "start_time": "2022-02-23T15:58:38.465Z"
   },
   {
    "duration": 22,
    "start_time": "2022-02-23T15:58:38.478Z"
   },
   {
    "duration": 4,
    "start_time": "2022-02-23T15:58:38.503Z"
   },
   {
    "duration": 54,
    "start_time": "2022-02-23T15:58:38.509Z"
   },
   {
    "duration": 17,
    "start_time": "2022-02-23T15:58:38.565Z"
   },
   {
    "duration": 9,
    "start_time": "2022-02-23T15:58:38.583Z"
   },
   {
    "duration": 12,
    "start_time": "2022-02-23T15:58:38.594Z"
   },
   {
    "duration": 54,
    "start_time": "2022-02-23T15:58:38.608Z"
   },
   {
    "duration": 8,
    "start_time": "2022-02-23T15:58:38.664Z"
   },
   {
    "duration": 11,
    "start_time": "2022-02-23T15:58:38.673Z"
   },
   {
    "duration": 19,
    "start_time": "2022-02-23T15:58:38.685Z"
   },
   {
    "duration": 9,
    "start_time": "2022-02-23T15:58:38.706Z"
   },
   {
    "duration": 30,
    "start_time": "2022-02-23T15:58:38.716Z"
   },
   {
    "duration": 5,
    "start_time": "2022-02-23T15:58:38.747Z"
   },
   {
    "duration": 58,
    "start_time": "2022-02-23T15:58:38.754Z"
   },
   {
    "duration": 6,
    "start_time": "2022-02-23T15:58:38.813Z"
   },
   {
    "duration": 30,
    "start_time": "2022-02-23T15:58:38.821Z"
   },
   {
    "duration": 7,
    "start_time": "2022-02-23T15:58:38.853Z"
   },
   {
    "duration": 21,
    "start_time": "2022-02-23T15:58:38.862Z"
   },
   {
    "duration": 24,
    "start_time": "2022-02-23T15:58:38.884Z"
   },
   {
    "duration": 27,
    "start_time": "2022-02-23T15:58:41.597Z"
   },
   {
    "duration": 21,
    "start_time": "2022-02-23T16:03:04.041Z"
   },
   {
    "duration": 34,
    "start_time": "2022-02-23T16:09:32.029Z"
   },
   {
    "duration": 22,
    "start_time": "2022-02-23T16:13:32.338Z"
   },
   {
    "duration": 184,
    "start_time": "2022-02-23T16:15:45.358Z"
   },
   {
    "duration": 150,
    "start_time": "2022-02-23T16:16:07.121Z"
   },
   {
    "duration": 525,
    "start_time": "2022-02-23T16:16:47.985Z"
   },
   {
    "duration": 176,
    "start_time": "2022-02-23T16:17:02.127Z"
   },
   {
    "duration": 178,
    "start_time": "2022-02-23T16:17:37.300Z"
   },
   {
    "duration": 181,
    "start_time": "2022-02-23T16:17:53.415Z"
   },
   {
    "duration": 24,
    "start_time": "2022-02-23T16:19:14.087Z"
   },
   {
    "duration": 22,
    "start_time": "2022-02-23T16:20:49.935Z"
   },
   {
    "duration": 22,
    "start_time": "2022-02-23T16:29:32.293Z"
   },
   {
    "duration": 646,
    "start_time": "2022-02-23T16:29:58.614Z"
   },
   {
    "duration": 1029,
    "start_time": "2022-02-23T16:29:59.262Z"
   },
   {
    "duration": 26,
    "start_time": "2022-02-23T16:30:00.293Z"
   },
   {
    "duration": 9,
    "start_time": "2022-02-23T16:30:00.321Z"
   },
   {
    "duration": 16,
    "start_time": "2022-02-23T16:30:00.331Z"
   },
   {
    "duration": 11,
    "start_time": "2022-02-23T16:30:00.349Z"
   },
   {
    "duration": 21,
    "start_time": "2022-02-23T16:30:00.362Z"
   },
   {
    "duration": 4,
    "start_time": "2022-02-23T16:30:00.385Z"
   },
   {
    "duration": 33,
    "start_time": "2022-02-23T16:30:00.392Z"
   },
   {
    "duration": 32,
    "start_time": "2022-02-23T16:30:00.427Z"
   },
   {
    "duration": 34,
    "start_time": "2022-02-23T16:30:00.461Z"
   },
   {
    "duration": 16,
    "start_time": "2022-02-23T16:30:00.497Z"
   },
   {
    "duration": 40,
    "start_time": "2022-02-23T16:30:00.515Z"
   },
   {
    "duration": 12,
    "start_time": "2022-02-23T16:30:00.557Z"
   },
   {
    "duration": 20,
    "start_time": "2022-02-23T16:30:00.571Z"
   },
   {
    "duration": 34,
    "start_time": "2022-02-23T16:30:00.593Z"
   },
   {
    "duration": 21,
    "start_time": "2022-02-23T16:30:00.629Z"
   },
   {
    "duration": 10,
    "start_time": "2022-02-23T16:30:00.652Z"
   },
   {
    "duration": 9,
    "start_time": "2022-02-23T16:30:00.664Z"
   },
   {
    "duration": 90,
    "start_time": "2022-02-23T16:30:00.674Z"
   },
   {
    "duration": 8,
    "start_time": "2022-02-23T16:30:00.766Z"
   },
   {
    "duration": 20,
    "start_time": "2022-02-23T16:30:00.776Z"
   },
   {
    "duration": 10,
    "start_time": "2022-02-23T16:30:00.798Z"
   },
   {
    "duration": 40,
    "start_time": "2022-02-23T16:30:00.810Z"
   },
   {
    "duration": 36,
    "start_time": "2022-02-23T16:30:00.852Z"
   },
   {
    "duration": 29,
    "start_time": "2022-02-23T16:30:00.890Z"
   },
   {
    "duration": 52,
    "start_time": "2022-02-23T16:30:00.924Z"
   },
   {
    "duration": 40,
    "start_time": "2022-02-23T16:30:00.978Z"
   },
   {
    "duration": 57,
    "start_time": "2022-02-23T16:30:01.020Z"
   },
   {
    "duration": 27,
    "start_time": "2022-02-23T16:30:01.078Z"
   },
   {
    "duration": 580,
    "start_time": "2022-02-23T16:34:49.190Z"
   },
   {
    "duration": 107,
    "start_time": "2022-02-23T16:34:49.772Z"
   },
   {
    "duration": 23,
    "start_time": "2022-02-23T16:34:49.881Z"
   },
   {
    "duration": 9,
    "start_time": "2022-02-23T16:34:49.905Z"
   },
   {
    "duration": 16,
    "start_time": "2022-02-23T16:34:49.915Z"
   },
   {
    "duration": 10,
    "start_time": "2022-02-23T16:34:49.933Z"
   },
   {
    "duration": 20,
    "start_time": "2022-02-23T16:34:49.944Z"
   },
   {
    "duration": 5,
    "start_time": "2022-02-23T16:34:49.966Z"
   },
   {
    "duration": 33,
    "start_time": "2022-02-23T16:34:49.972Z"
   },
   {
    "duration": 15,
    "start_time": "2022-02-23T16:34:50.007Z"
   },
   {
    "duration": 29,
    "start_time": "2022-02-23T16:34:50.023Z"
   },
   {
    "duration": 13,
    "start_time": "2022-02-23T16:34:50.054Z"
   },
   {
    "duration": 29,
    "start_time": "2022-02-23T16:34:50.069Z"
   },
   {
    "duration": 9,
    "start_time": "2022-02-23T16:34:50.100Z"
   },
   {
    "duration": 15,
    "start_time": "2022-02-23T16:34:50.111Z"
   },
   {
    "duration": 31,
    "start_time": "2022-02-23T16:34:50.127Z"
   },
   {
    "duration": 11,
    "start_time": "2022-02-23T16:34:50.159Z"
   },
   {
    "duration": 8,
    "start_time": "2022-02-23T16:34:50.171Z"
   },
   {
    "duration": 5,
    "start_time": "2022-02-23T16:34:50.181Z"
   },
   {
    "duration": 84,
    "start_time": "2022-02-23T16:34:50.188Z"
   },
   {
    "duration": 5,
    "start_time": "2022-02-23T16:34:50.274Z"
   },
   {
    "duration": 10,
    "start_time": "2022-02-23T16:34:50.280Z"
   },
   {
    "duration": 7,
    "start_time": "2022-02-23T16:34:50.293Z"
   },
   {
    "duration": 21,
    "start_time": "2022-02-23T16:34:50.301Z"
   },
   {
    "duration": 42,
    "start_time": "2022-02-23T16:34:50.323Z"
   },
   {
    "duration": 27,
    "start_time": "2022-02-23T16:34:50.367Z"
   },
   {
    "duration": 19,
    "start_time": "2022-02-23T16:34:50.395Z"
   },
   {
    "duration": 43,
    "start_time": "2022-02-23T16:34:50.416Z"
   },
   {
    "duration": 21,
    "start_time": "2022-02-23T16:34:50.461Z"
   },
   {
    "duration": 22,
    "start_time": "2022-02-23T16:34:50.483Z"
   },
   {
    "duration": 13,
    "start_time": "2022-02-23T16:34:50.506Z"
   },
   {
    "duration": 22,
    "start_time": "2022-02-23T16:34:50.546Z"
   },
   {
    "duration": 24,
    "start_time": "2022-02-23T16:34:51.634Z"
   },
   {
    "duration": 11,
    "start_time": "2022-02-23T16:38:15.103Z"
   },
   {
    "duration": 91,
    "start_time": "2022-02-23T16:39:42.925Z"
   },
   {
    "duration": 639,
    "start_time": "2022-02-23T16:50:17.349Z"
   },
   {
    "duration": 149,
    "start_time": "2022-02-23T16:50:17.990Z"
   },
   {
    "duration": 22,
    "start_time": "2022-02-23T16:50:18.141Z"
   },
   {
    "duration": 8,
    "start_time": "2022-02-23T16:50:18.165Z"
   },
   {
    "duration": 15,
    "start_time": "2022-02-23T16:50:18.174Z"
   },
   {
    "duration": 10,
    "start_time": "2022-02-23T16:50:18.191Z"
   },
   {
    "duration": 21,
    "start_time": "2022-02-23T16:50:18.202Z"
   },
   {
    "duration": 23,
    "start_time": "2022-02-23T16:50:18.225Z"
   },
   {
    "duration": 28,
    "start_time": "2022-02-23T16:50:18.250Z"
   },
   {
    "duration": 15,
    "start_time": "2022-02-23T16:50:18.280Z"
   },
   {
    "duration": 10,
    "start_time": "2022-02-23T16:50:18.296Z"
   },
   {
    "duration": 44,
    "start_time": "2022-02-23T16:50:18.307Z"
   },
   {
    "duration": 27,
    "start_time": "2022-02-23T16:50:18.353Z"
   },
   {
    "duration": 10,
    "start_time": "2022-02-23T16:50:18.381Z"
   },
   {
    "duration": 29,
    "start_time": "2022-02-23T16:50:18.392Z"
   },
   {
    "duration": 30,
    "start_time": "2022-02-23T16:50:18.422Z"
   },
   {
    "duration": 10,
    "start_time": "2022-02-23T16:50:18.454Z"
   },
   {
    "duration": 22,
    "start_time": "2022-02-23T16:50:18.465Z"
   },
   {
    "duration": 16,
    "start_time": "2022-02-23T16:50:18.489Z"
   },
   {
    "duration": 62,
    "start_time": "2022-02-23T16:50:18.507Z"
   },
   {
    "duration": 5,
    "start_time": "2022-02-23T16:50:18.571Z"
   },
   {
    "duration": 31,
    "start_time": "2022-02-23T16:50:18.578Z"
   },
   {
    "duration": 16,
    "start_time": "2022-02-23T16:50:18.610Z"
   },
   {
    "duration": 41,
    "start_time": "2022-02-23T16:50:18.628Z"
   },
   {
    "duration": 36,
    "start_time": "2022-02-23T16:50:18.671Z"
   },
   {
    "duration": 25,
    "start_time": "2022-02-23T16:50:18.709Z"
   },
   {
    "duration": 22,
    "start_time": "2022-02-23T16:50:18.736Z"
   },
   {
    "duration": 22,
    "start_time": "2022-02-23T16:50:18.759Z"
   },
   {
    "duration": 19,
    "start_time": "2022-02-23T16:50:18.782Z"
   },
   {
    "duration": 33,
    "start_time": "2022-02-23T16:50:18.802Z"
   },
   {
    "duration": 21,
    "start_time": "2022-02-23T16:50:18.836Z"
   },
   {
    "duration": 19,
    "start_time": "2022-02-23T16:50:18.859Z"
   },
   {
    "duration": 24,
    "start_time": "2022-02-23T16:50:18.879Z"
   },
   {
    "duration": 248,
    "start_time": "2022-02-23T16:50:18.904Z"
   },
   {
    "duration": 198,
    "start_time": "2022-02-23T16:50:19.154Z"
   },
   {
    "duration": 10,
    "start_time": "2022-02-23T16:51:05.227Z"
   },
   {
    "duration": 93,
    "start_time": "2022-02-23T16:51:44.473Z"
   },
   {
    "duration": 207,
    "start_time": "2022-02-23T16:51:53.975Z"
   },
   {
    "duration": 162,
    "start_time": "2022-02-23T16:51:57.034Z"
   },
   {
    "duration": 11,
    "start_time": "2022-02-23T16:52:29.378Z"
   },
   {
    "duration": 11,
    "start_time": "2022-02-23T16:52:56.856Z"
   },
   {
    "duration": 11,
    "start_time": "2022-02-23T16:53:12.507Z"
   },
   {
    "duration": 10,
    "start_time": "2022-02-23T16:53:26.836Z"
   },
   {
    "duration": 204,
    "start_time": "2022-02-23T16:54:09.509Z"
   },
   {
    "duration": 164,
    "start_time": "2022-02-23T16:54:18.071Z"
   },
   {
    "duration": 220,
    "start_time": "2022-02-23T16:55:00.865Z"
   },
   {
    "duration": 696,
    "start_time": "2022-02-23T16:55:51.492Z"
   },
   {
    "duration": 693,
    "start_time": "2022-02-23T16:56:02.507Z"
   },
   {
    "duration": 249,
    "start_time": "2022-02-23T16:56:13.643Z"
   },
   {
    "duration": 236,
    "start_time": "2022-02-23T16:56:46.817Z"
   },
   {
    "duration": 26,
    "start_time": "2022-02-23T16:58:33.494Z"
   },
   {
    "duration": 25,
    "start_time": "2022-02-23T16:59:03.312Z"
   },
   {
    "duration": 10,
    "start_time": "2022-02-23T16:59:14.918Z"
   },
   {
    "duration": 28,
    "start_time": "2022-02-23T17:06:46.923Z"
   },
   {
    "duration": 26,
    "start_time": "2022-02-23T17:07:08.627Z"
   },
   {
    "duration": 28,
    "start_time": "2022-02-23T17:07:25.984Z"
   },
   {
    "duration": 36,
    "start_time": "2022-02-23T17:07:51.030Z"
   },
   {
    "duration": 334,
    "start_time": "2022-02-23T17:11:32.261Z"
   },
   {
    "duration": 30,
    "start_time": "2022-02-23T17:11:41.834Z"
   },
   {
    "duration": 31,
    "start_time": "2022-02-23T17:12:05.052Z"
   },
   {
    "duration": 32,
    "start_time": "2022-02-23T17:12:30.685Z"
   },
   {
    "duration": 151,
    "start_time": "2022-02-23T17:14:05.608Z"
   },
   {
    "duration": 162,
    "start_time": "2022-02-23T17:14:27.105Z"
   },
   {
    "duration": 157,
    "start_time": "2022-02-23T17:14:41.504Z"
   },
   {
    "duration": 165,
    "start_time": "2022-02-23T17:14:55.340Z"
   },
   {
    "duration": 210,
    "start_time": "2022-02-23T17:15:05.895Z"
   },
   {
    "duration": 168,
    "start_time": "2022-02-23T17:15:24.908Z"
   },
   {
    "duration": 210,
    "start_time": "2022-02-23T17:15:42.442Z"
   },
   {
    "duration": 479,
    "start_time": "2022-02-23T17:16:24.257Z"
   },
   {
    "duration": 188,
    "start_time": "2022-02-23T17:16:34.046Z"
   },
   {
    "duration": 187,
    "start_time": "2022-02-23T17:16:43.889Z"
   },
   {
    "duration": 184,
    "start_time": "2022-02-23T17:16:59.113Z"
   },
   {
    "duration": 183,
    "start_time": "2022-02-23T17:17:04.629Z"
   },
   {
    "duration": 167,
    "start_time": "2022-02-23T17:19:47.037Z"
   },
   {
    "duration": 14,
    "start_time": "2022-02-23T17:21:05.665Z"
   },
   {
    "duration": 17,
    "start_time": "2022-02-23T17:22:04.301Z"
   },
   {
    "duration": 19,
    "start_time": "2022-02-23T17:23:23.534Z"
   },
   {
    "duration": 22,
    "start_time": "2022-02-23T17:23:53.567Z"
   },
   {
    "duration": 18,
    "start_time": "2022-02-23T17:24:25.570Z"
   },
   {
    "duration": 20,
    "start_time": "2022-02-23T17:26:37.978Z"
   },
   {
    "duration": 19,
    "start_time": "2022-02-23T17:26:48.078Z"
   },
   {
    "duration": 16,
    "start_time": "2022-02-23T17:27:21.630Z"
   },
   {
    "duration": 20,
    "start_time": "2022-02-23T17:27:31.685Z"
   },
   {
    "duration": 20,
    "start_time": "2022-02-23T17:27:59.487Z"
   },
   {
    "duration": 16,
    "start_time": "2022-02-23T17:35:28.700Z"
   },
   {
    "duration": 616,
    "start_time": "2022-02-23T19:28:16.844Z"
   },
   {
    "duration": 368,
    "start_time": "2022-02-23T19:28:17.462Z"
   },
   {
    "duration": 25,
    "start_time": "2022-02-23T19:28:17.833Z"
   },
   {
    "duration": 9,
    "start_time": "2022-02-23T19:28:17.860Z"
   },
   {
    "duration": 17,
    "start_time": "2022-02-23T19:28:17.871Z"
   },
   {
    "duration": 41,
    "start_time": "2022-02-23T19:28:17.889Z"
   },
   {
    "duration": 23,
    "start_time": "2022-02-23T19:28:17.932Z"
   },
   {
    "duration": 5,
    "start_time": "2022-02-23T19:28:17.957Z"
   },
   {
    "duration": 32,
    "start_time": "2022-02-23T19:28:17.964Z"
   },
   {
    "duration": 45,
    "start_time": "2022-02-23T19:28:17.998Z"
   },
   {
    "duration": 10,
    "start_time": "2022-02-23T19:28:18.044Z"
   },
   {
    "duration": 18,
    "start_time": "2022-02-23T19:28:18.056Z"
   },
   {
    "duration": 29,
    "start_time": "2022-02-23T19:28:18.076Z"
   },
   {
    "duration": 10,
    "start_time": "2022-02-23T19:28:18.131Z"
   },
   {
    "duration": 17,
    "start_time": "2022-02-23T19:28:18.143Z"
   },
   {
    "duration": 25,
    "start_time": "2022-02-23T19:28:18.162Z"
   },
   {
    "duration": 11,
    "start_time": "2022-02-23T19:28:18.188Z"
   },
   {
    "duration": 35,
    "start_time": "2022-02-23T19:28:18.201Z"
   },
   {
    "duration": 8,
    "start_time": "2022-02-23T19:28:18.238Z"
   },
   {
    "duration": 112,
    "start_time": "2022-02-23T19:28:18.247Z"
   },
   {
    "duration": 8,
    "start_time": "2022-02-23T19:28:18.360Z"
   },
   {
    "duration": 10,
    "start_time": "2022-02-23T19:28:18.370Z"
   },
   {
    "duration": 7,
    "start_time": "2022-02-23T19:28:18.383Z"
   },
   {
    "duration": 50,
    "start_time": "2022-02-23T19:28:18.392Z"
   },
   {
    "duration": 29,
    "start_time": "2022-02-23T19:28:18.443Z"
   },
   {
    "duration": 26,
    "start_time": "2022-02-23T19:28:18.474Z"
   },
   {
    "duration": 43,
    "start_time": "2022-02-23T19:28:18.501Z"
   },
   {
    "duration": 24,
    "start_time": "2022-02-23T19:28:18.545Z"
   },
   {
    "duration": 22,
    "start_time": "2022-02-23T19:28:18.570Z"
   },
   {
    "duration": 55,
    "start_time": "2022-02-23T19:28:18.593Z"
   },
   {
    "duration": 14,
    "start_time": "2022-02-23T19:28:18.649Z"
   },
   {
    "duration": 22,
    "start_time": "2022-02-23T19:28:18.665Z"
   },
   {
    "duration": 46,
    "start_time": "2022-02-23T19:28:18.688Z"
   },
   {
    "duration": 288,
    "start_time": "2022-02-23T19:28:18.736Z"
   },
   {
    "duration": 216,
    "start_time": "2022-02-23T19:28:19.025Z"
   },
   {
    "duration": 11,
    "start_time": "2022-02-23T19:28:19.243Z"
   },
   {
    "duration": 11,
    "start_time": "2022-02-23T19:28:19.255Z"
   },
   {
    "duration": 16,
    "start_time": "2022-02-23T19:28:19.267Z"
   },
   {
    "duration": 90,
    "start_time": "2022-02-23T19:28:19.284Z"
   },
   {
    "duration": 253,
    "start_time": "2022-02-23T19:29:42.917Z"
   },
   {
    "duration": 110,
    "start_time": "2022-02-23T19:32:10.181Z"
   },
   {
    "duration": 41,
    "start_time": "2022-02-23T19:32:42.693Z"
   },
   {
    "duration": 182,
    "start_time": "2022-02-23T19:32:46.215Z"
   },
   {
    "duration": 107,
    "start_time": "2022-02-23T19:32:55.553Z"
   },
   {
    "duration": 147,
    "start_time": "2022-02-23T19:33:07.526Z"
   },
   {
    "duration": 150,
    "start_time": "2022-02-23T19:34:49.983Z"
   },
   {
    "duration": 154,
    "start_time": "2022-02-23T19:36:34.088Z"
   },
   {
    "duration": 157,
    "start_time": "2022-02-23T19:36:54.943Z"
   },
   {
    "duration": 156,
    "start_time": "2022-02-23T19:37:39.054Z"
   },
   {
    "duration": 149,
    "start_time": "2022-02-23T19:39:29.014Z"
   },
   {
    "duration": 289,
    "start_time": "2022-02-23T19:40:09.756Z"
   },
   {
    "duration": 148,
    "start_time": "2022-02-23T19:40:13.012Z"
   },
   {
    "duration": 206,
    "start_time": "2022-02-23T19:40:18.581Z"
   },
   {
    "duration": 259,
    "start_time": "2022-02-23T19:50:30.971Z"
   },
   {
    "duration": 258,
    "start_time": "2022-02-23T19:50:52.941Z"
   },
   {
    "duration": 265,
    "start_time": "2022-02-23T19:51:02.225Z"
   },
   {
    "duration": 249,
    "start_time": "2022-02-23T19:52:03.741Z"
   },
   {
    "duration": 250,
    "start_time": "2022-02-23T19:54:20.297Z"
   },
   {
    "duration": 263,
    "start_time": "2022-02-23T19:54:29.889Z"
   },
   {
    "duration": 257,
    "start_time": "2022-02-23T19:54:48.428Z"
   },
   {
    "duration": 370,
    "start_time": "2022-02-23T19:56:54.635Z"
   },
   {
    "duration": 291,
    "start_time": "2022-02-23T19:57:01.230Z"
   },
   {
    "duration": 264,
    "start_time": "2022-02-23T19:57:17.719Z"
   },
   {
    "duration": 335,
    "start_time": "2022-02-23T19:57:47.679Z"
   },
   {
    "duration": 266,
    "start_time": "2022-02-23T19:58:10.824Z"
   },
   {
    "duration": 248,
    "start_time": "2022-02-23T19:59:01.047Z"
   },
   {
    "duration": 263,
    "start_time": "2022-02-23T19:59:08.369Z"
   },
   {
    "duration": 260,
    "start_time": "2022-02-23T19:59:14.252Z"
   },
   {
    "duration": 4,
    "start_time": "2022-02-23T20:00:14.505Z"
   },
   {
    "duration": 3,
    "start_time": "2022-02-23T20:00:42.558Z"
   },
   {
    "duration": 272,
    "start_time": "2022-02-23T20:02:01.260Z"
   },
   {
    "duration": 271,
    "start_time": "2022-02-23T20:02:10.052Z"
   },
   {
    "duration": 259,
    "start_time": "2022-02-23T20:04:36.291Z"
   },
   {
    "duration": 256,
    "start_time": "2022-02-23T20:04:45.664Z"
   },
   {
    "duration": 49,
    "start_time": "2022-02-23T20:12:32.667Z"
   },
   {
    "duration": 41,
    "start_time": "2022-02-23T20:12:35.035Z"
   },
   {
    "duration": 30,
    "start_time": "2022-02-23T20:12:41.352Z"
   },
   {
    "duration": 30,
    "start_time": "2022-02-23T20:13:01.694Z"
   },
   {
    "duration": 31,
    "start_time": "2022-02-23T20:13:18.851Z"
   },
   {
    "duration": 20,
    "start_time": "2022-02-23T20:13:30.137Z"
   },
   {
    "duration": 29,
    "start_time": "2022-02-23T20:14:17.150Z"
   },
   {
    "duration": 23,
    "start_time": "2022-02-23T20:14:48.656Z"
   },
   {
    "duration": 29,
    "start_time": "2022-02-23T20:15:39.533Z"
   },
   {
    "duration": 24,
    "start_time": "2022-02-23T20:16:13.841Z"
   },
   {
    "duration": 14,
    "start_time": "2022-02-23T20:17:08.061Z"
   },
   {
    "duration": 12,
    "start_time": "2022-02-23T20:37:11.758Z"
   },
   {
    "duration": 5,
    "start_time": "2022-02-23T20:38:59.450Z"
   },
   {
    "duration": 6,
    "start_time": "2022-02-23T20:39:30.720Z"
   },
   {
    "duration": 5,
    "start_time": "2022-02-23T20:40:14.471Z"
   },
   {
    "duration": 4,
    "start_time": "2022-02-23T20:40:35.801Z"
   },
   {
    "duration": 7,
    "start_time": "2022-02-23T20:40:55.937Z"
   },
   {
    "duration": 151,
    "start_time": "2022-02-23T20:41:04.531Z"
   },
   {
    "duration": 8,
    "start_time": "2022-02-23T20:41:12.585Z"
   },
   {
    "duration": 7,
    "start_time": "2022-02-23T20:41:17.723Z"
   },
   {
    "duration": 7,
    "start_time": "2022-02-23T20:41:49.526Z"
   },
   {
    "duration": 132,
    "start_time": "2022-02-23T20:44:38.930Z"
   },
   {
    "duration": 6,
    "start_time": "2022-02-23T20:44:51.210Z"
   },
   {
    "duration": 607,
    "start_time": "2022-02-24T07:29:17.396Z"
   },
   {
    "duration": 75,
    "start_time": "2022-02-24T07:29:18.005Z"
   },
   {
    "duration": 26,
    "start_time": "2022-02-24T07:29:18.082Z"
   },
   {
    "duration": 8,
    "start_time": "2022-02-24T07:29:18.109Z"
   },
   {
    "duration": 21,
    "start_time": "2022-02-24T07:29:18.119Z"
   },
   {
    "duration": 13,
    "start_time": "2022-02-24T07:29:18.141Z"
   },
   {
    "duration": 24,
    "start_time": "2022-02-24T07:29:18.156Z"
   },
   {
    "duration": 5,
    "start_time": "2022-02-24T07:29:18.183Z"
   },
   {
    "duration": 56,
    "start_time": "2022-02-24T07:29:18.190Z"
   },
   {
    "duration": 17,
    "start_time": "2022-02-24T07:29:18.247Z"
   },
   {
    "duration": 9,
    "start_time": "2022-02-24T07:29:18.266Z"
   },
   {
    "duration": 14,
    "start_time": "2022-02-24T07:29:18.277Z"
   },
   {
    "duration": 55,
    "start_time": "2022-02-24T07:29:18.293Z"
   },
   {
    "duration": 9,
    "start_time": "2022-02-24T07:29:18.350Z"
   },
   {
    "duration": 8,
    "start_time": "2022-02-24T07:29:18.361Z"
   },
   {
    "duration": 16,
    "start_time": "2022-02-24T07:29:18.371Z"
   },
   {
    "duration": 42,
    "start_time": "2022-02-24T07:29:18.389Z"
   },
   {
    "duration": 12,
    "start_time": "2022-02-24T07:29:18.433Z"
   },
   {
    "duration": 6,
    "start_time": "2022-02-24T07:29:18.447Z"
   },
   {
    "duration": 59,
    "start_time": "2022-02-24T07:29:18.454Z"
   },
   {
    "duration": 6,
    "start_time": "2022-02-24T07:29:18.530Z"
   },
   {
    "duration": 9,
    "start_time": "2022-02-24T07:29:18.538Z"
   },
   {
    "duration": 7,
    "start_time": "2022-02-24T07:29:18.551Z"
   },
   {
    "duration": 23,
    "start_time": "2022-02-24T07:29:18.560Z"
   },
   {
    "duration": 55,
    "start_time": "2022-02-24T07:29:18.584Z"
   },
   {
    "duration": 28,
    "start_time": "2022-02-24T07:29:18.641Z"
   },
   {
    "duration": 24,
    "start_time": "2022-02-24T07:29:18.671Z"
   },
   {
    "duration": 49,
    "start_time": "2022-02-24T07:29:18.697Z"
   },
   {
    "duration": 24,
    "start_time": "2022-02-24T07:29:18.748Z"
   },
   {
    "duration": 23,
    "start_time": "2022-02-24T07:29:18.774Z"
   },
   {
    "duration": 43,
    "start_time": "2022-02-24T07:29:18.799Z"
   },
   {
    "duration": 23,
    "start_time": "2022-02-24T07:29:18.843Z"
   },
   {
    "duration": 28,
    "start_time": "2022-02-24T07:29:18.868Z"
   },
   {
    "duration": 303,
    "start_time": "2022-02-24T07:29:18.898Z"
   },
   {
    "duration": 221,
    "start_time": "2022-02-24T07:29:19.203Z"
   },
   {
    "duration": 12,
    "start_time": "2022-02-24T07:29:19.429Z"
   },
   {
    "duration": 13,
    "start_time": "2022-02-24T07:29:19.442Z"
   },
   {
    "duration": 14,
    "start_time": "2022-02-24T07:29:19.457Z"
   },
   {
    "duration": 73,
    "start_time": "2022-02-24T07:29:19.473Z"
   },
   {
    "duration": 160,
    "start_time": "2022-02-24T07:29:19.548Z"
   },
   {
    "duration": 273,
    "start_time": "2022-02-24T07:29:19.710Z"
   },
   {
    "duration": 11,
    "start_time": "2022-02-24T07:29:19.984Z"
   },
   {
    "duration": 5,
    "start_time": "2022-02-24T07:29:19.996Z"
   },
   {
    "duration": 27,
    "start_time": "2022-02-24T07:29:20.003Z"
   },
   {
    "duration": 11,
    "start_time": "2022-02-24T07:29:20.032Z"
   },
   {
    "duration": 11,
    "start_time": "2022-02-24T07:29:20.044Z"
   },
   {
    "duration": 16,
    "start_time": "2022-02-24T07:29:20.057Z"
   },
   {
    "duration": 6,
    "start_time": "2022-02-24T07:30:18.683Z"
   },
   {
    "duration": 25,
    "start_time": "2022-02-24T07:36:20.185Z"
   },
   {
    "duration": 10,
    "start_time": "2022-02-24T07:37:12.725Z"
   },
   {
    "duration": 198,
    "start_time": "2022-02-24T07:40:22.689Z"
   },
   {
    "duration": 18,
    "start_time": "2022-02-24T07:40:38.743Z"
   },
   {
    "duration": 141,
    "start_time": "2022-02-24T07:46:30.857Z"
   },
   {
    "duration": 68,
    "start_time": "2022-02-24T07:46:42.661Z"
   },
   {
    "duration": 23,
    "start_time": "2022-02-24T07:47:11.165Z"
   },
   {
    "duration": 634,
    "start_time": "2022-02-24T09:49:54.982Z"
   },
   {
    "duration": 766,
    "start_time": "2022-02-24T09:49:55.617Z"
   },
   {
    "duration": 23,
    "start_time": "2022-02-24T09:49:56.386Z"
   },
   {
    "duration": 8,
    "start_time": "2022-02-24T09:49:56.411Z"
   },
   {
    "duration": 15,
    "start_time": "2022-02-24T09:49:56.421Z"
   },
   {
    "duration": 10,
    "start_time": "2022-02-24T09:49:56.437Z"
   },
   {
    "duration": 21,
    "start_time": "2022-02-24T09:49:56.448Z"
   },
   {
    "duration": 4,
    "start_time": "2022-02-24T09:49:56.472Z"
   },
   {
    "duration": 55,
    "start_time": "2022-02-24T09:49:56.478Z"
   },
   {
    "duration": 16,
    "start_time": "2022-02-24T09:49:56.535Z"
   },
   {
    "duration": 9,
    "start_time": "2022-02-24T09:49:56.552Z"
   },
   {
    "duration": 12,
    "start_time": "2022-02-24T09:49:56.562Z"
   },
   {
    "duration": 56,
    "start_time": "2022-02-24T09:49:56.575Z"
   },
   {
    "duration": 10,
    "start_time": "2022-02-24T09:49:56.633Z"
   },
   {
    "duration": 9,
    "start_time": "2022-02-24T09:49:56.645Z"
   },
   {
    "duration": 116,
    "start_time": "2022-02-24T09:49:56.655Z"
   },
   {
    "duration": 11,
    "start_time": "2022-02-24T09:49:56.772Z"
   },
   {
    "duration": 9,
    "start_time": "2022-02-24T09:49:56.784Z"
   },
   {
    "duration": 6,
    "start_time": "2022-02-24T09:49:56.794Z"
   },
   {
    "duration": 54,
    "start_time": "2022-02-24T09:49:56.802Z"
   },
   {
    "duration": 6,
    "start_time": "2022-02-24T09:49:56.857Z"
   },
   {
    "duration": 9,
    "start_time": "2022-02-24T09:49:56.864Z"
   },
   {
    "duration": 6,
    "start_time": "2022-02-24T09:49:56.876Z"
   },
   {
    "duration": 22,
    "start_time": "2022-02-24T09:49:56.884Z"
   },
   {
    "duration": 24,
    "start_time": "2022-02-24T09:49:56.932Z"
   },
   {
    "duration": 29,
    "start_time": "2022-02-24T09:49:56.957Z"
   },
   {
    "duration": 46,
    "start_time": "2022-02-24T09:49:56.987Z"
   },
   {
    "duration": 24,
    "start_time": "2022-02-24T09:49:57.034Z"
   },
   {
    "duration": 21,
    "start_time": "2022-02-24T09:49:57.060Z"
   },
   {
    "duration": 21,
    "start_time": "2022-02-24T09:49:57.083Z"
   },
   {
    "duration": 38,
    "start_time": "2022-02-24T09:49:57.106Z"
   },
   {
    "duration": 22,
    "start_time": "2022-02-24T09:49:57.146Z"
   },
   {
    "duration": 21,
    "start_time": "2022-02-24T09:49:57.170Z"
   },
   {
    "duration": 295,
    "start_time": "2022-02-24T09:49:57.193Z"
   },
   {
    "duration": 206,
    "start_time": "2022-02-24T09:49:57.490Z"
   },
   {
    "duration": 11,
    "start_time": "2022-02-24T09:49:57.698Z"
   },
   {
    "duration": 21,
    "start_time": "2022-02-24T09:49:57.711Z"
   },
   {
    "duration": 13,
    "start_time": "2022-02-24T09:49:57.734Z"
   },
   {
    "duration": 56,
    "start_time": "2022-02-24T09:49:57.748Z"
   },
   {
    "duration": 160,
    "start_time": "2022-02-24T09:49:57.805Z"
   },
   {
    "duration": 278,
    "start_time": "2022-02-24T09:49:57.966Z"
   },
   {
    "duration": 10,
    "start_time": "2022-02-24T09:49:58.247Z"
   },
   {
    "duration": 6,
    "start_time": "2022-02-24T09:49:58.259Z"
   },
   {
    "duration": 9,
    "start_time": "2022-02-24T09:49:58.267Z"
   },
   {
    "duration": 9,
    "start_time": "2022-02-24T09:49:58.278Z"
   },
   {
    "duration": 20,
    "start_time": "2022-02-24T09:49:58.288Z"
   },
   {
    "duration": 45,
    "start_time": "2022-02-24T09:49:58.309Z"
   },
   {
    "duration": 5,
    "start_time": "2022-02-24T09:49:58.355Z"
   },
   {
    "duration": 9,
    "start_time": "2022-02-24T09:49:58.362Z"
   },
   {
    "duration": 7,
    "start_time": "2022-02-24T09:49:58.372Z"
   },
   {
    "duration": 20,
    "start_time": "2022-02-24T09:51:19.746Z"
   },
   {
    "duration": 706,
    "start_time": "2022-02-24T09:54:03.799Z"
   },
   {
    "duration": 479,
    "start_time": "2022-02-24T09:54:48.947Z"
   },
   {
    "duration": 619,
    "start_time": "2022-02-24T09:54:57.971Z"
   },
   {
    "duration": 28,
    "start_time": "2022-02-24T09:56:07.004Z"
   },
   {
    "duration": 27,
    "start_time": "2022-02-24T09:59:33.783Z"
   },
   {
    "duration": 279,
    "start_time": "2022-02-24T11:48:40.982Z"
   },
   {
    "duration": 637,
    "start_time": "2022-02-24T11:48:47.772Z"
   },
   {
    "duration": 85,
    "start_time": "2022-02-24T11:48:48.410Z"
   },
   {
    "duration": 25,
    "start_time": "2022-02-24T11:48:48.497Z"
   },
   {
    "duration": 9,
    "start_time": "2022-02-24T11:48:48.524Z"
   },
   {
    "duration": 16,
    "start_time": "2022-02-24T11:48:48.535Z"
   },
   {
    "duration": 11,
    "start_time": "2022-02-24T11:48:48.553Z"
   },
   {
    "duration": 23,
    "start_time": "2022-02-24T11:48:48.566Z"
   },
   {
    "duration": 30,
    "start_time": "2022-02-24T11:48:48.591Z"
   },
   {
    "duration": 33,
    "start_time": "2022-02-24T11:48:48.624Z"
   },
   {
    "duration": 18,
    "start_time": "2022-02-24T11:48:48.659Z"
   },
   {
    "duration": 41,
    "start_time": "2022-02-24T11:48:48.679Z"
   },
   {
    "duration": 15,
    "start_time": "2022-02-24T11:48:48.722Z"
   },
   {
    "duration": 29,
    "start_time": "2022-02-24T11:48:48.738Z"
   },
   {
    "duration": 9,
    "start_time": "2022-02-24T11:48:48.769Z"
   },
   {
    "duration": 40,
    "start_time": "2022-02-24T11:48:48.780Z"
   },
   {
    "duration": 21,
    "start_time": "2022-02-24T11:48:48.822Z"
   },
   {
    "duration": 12,
    "start_time": "2022-02-24T11:48:48.845Z"
   },
   {
    "duration": 11,
    "start_time": "2022-02-24T11:48:48.859Z"
   },
   {
    "duration": 5,
    "start_time": "2022-02-24T11:48:48.872Z"
   },
   {
    "duration": 93,
    "start_time": "2022-02-24T11:48:48.879Z"
   },
   {
    "duration": 7,
    "start_time": "2022-02-24T11:48:48.973Z"
   },
   {
    "duration": 10,
    "start_time": "2022-02-24T11:48:48.982Z"
   },
   {
    "duration": 29,
    "start_time": "2022-02-24T11:48:48.996Z"
   },
   {
    "duration": 25,
    "start_time": "2022-02-24T11:48:49.027Z"
   },
   {
    "duration": 26,
    "start_time": "2022-02-24T11:48:49.054Z"
   },
   {
    "duration": 64,
    "start_time": "2022-02-24T11:48:49.082Z"
   },
   {
    "duration": 24,
    "start_time": "2022-02-24T11:48:49.148Z"
   },
   {
    "duration": 46,
    "start_time": "2022-02-24T11:48:49.174Z"
   },
   {
    "duration": 23,
    "start_time": "2022-02-24T11:48:49.221Z"
   },
   {
    "duration": 23,
    "start_time": "2022-02-24T11:48:49.245Z"
   },
   {
    "duration": 14,
    "start_time": "2022-02-24T11:48:49.270Z"
   },
   {
    "duration": 59,
    "start_time": "2022-02-24T11:48:49.286Z"
   },
   {
    "duration": 25,
    "start_time": "2022-02-24T11:48:49.347Z"
   },
   {
    "duration": 334,
    "start_time": "2022-02-24T11:48:49.373Z"
   },
   {
    "duration": 263,
    "start_time": "2022-02-24T11:48:49.709Z"
   },
   {
    "duration": 12,
    "start_time": "2022-02-24T11:48:49.974Z"
   },
   {
    "duration": 11,
    "start_time": "2022-02-24T11:48:49.987Z"
   },
   {
    "duration": 33,
    "start_time": "2022-02-24T11:48:50.000Z"
   },
   {
    "duration": 72,
    "start_time": "2022-02-24T11:48:50.035Z"
   },
   {
    "duration": 178,
    "start_time": "2022-02-24T11:48:50.108Z"
   },
   {
    "duration": 337,
    "start_time": "2022-02-24T11:48:50.288Z"
   },
   {
    "duration": 15,
    "start_time": "2022-02-24T11:48:50.627Z"
   },
   {
    "duration": 6,
    "start_time": "2022-02-24T11:48:50.645Z"
   },
   {
    "duration": 8,
    "start_time": "2022-02-24T11:48:50.653Z"
   },
   {
    "duration": 9,
    "start_time": "2022-02-24T11:48:50.663Z"
   },
   {
    "duration": 53,
    "start_time": "2022-02-24T11:48:50.673Z"
   },
   {
    "duration": 27,
    "start_time": "2022-02-24T11:48:50.728Z"
   },
   {
    "duration": 28,
    "start_time": "2022-02-24T11:48:50.757Z"
   },
   {
    "duration": 15,
    "start_time": "2022-02-24T11:48:51.572Z"
   },
   {
    "duration": 16,
    "start_time": "2022-02-24T11:49:04.544Z"
   },
   {
    "duration": 83,
    "start_time": "2022-02-24T11:49:10.807Z"
   },
   {
    "duration": 16,
    "start_time": "2022-02-24T11:49:18.763Z"
   },
   {
    "duration": 14,
    "start_time": "2022-02-24T11:49:23.729Z"
   },
   {
    "duration": 14,
    "start_time": "2022-02-24T11:49:29.523Z"
   },
   {
    "duration": 318,
    "start_time": "2022-02-24T11:49:50.025Z"
   },
   {
    "duration": 14,
    "start_time": "2022-02-24T11:49:56.099Z"
   },
   {
    "duration": 15,
    "start_time": "2022-02-24T11:50:03.128Z"
   },
   {
    "duration": 14,
    "start_time": "2022-02-24T11:50:31.143Z"
   },
   {
    "duration": 17,
    "start_time": "2022-02-24T11:51:07.082Z"
   },
   {
    "duration": 15,
    "start_time": "2022-02-24T11:51:37.511Z"
   },
   {
    "duration": 24,
    "start_time": "2022-02-24T11:52:55.871Z"
   },
   {
    "duration": 17,
    "start_time": "2022-02-24T11:53:08.850Z"
   },
   {
    "duration": 20,
    "start_time": "2022-02-24T11:53:12.902Z"
   },
   {
    "duration": 31,
    "start_time": "2022-02-24T11:56:31.290Z"
   },
   {
    "duration": 291,
    "start_time": "2022-02-24T12:01:44.504Z"
   },
   {
    "duration": 666,
    "start_time": "2022-02-24T12:01:55.165Z"
   },
   {
    "duration": 78,
    "start_time": "2022-02-24T12:01:55.832Z"
   },
   {
    "duration": 26,
    "start_time": "2022-02-24T12:01:55.912Z"
   },
   {
    "duration": 10,
    "start_time": "2022-02-24T12:01:55.940Z"
   },
   {
    "duration": 17,
    "start_time": "2022-02-24T12:01:55.951Z"
   },
   {
    "duration": 13,
    "start_time": "2022-02-24T12:01:55.970Z"
   },
   {
    "duration": 51,
    "start_time": "2022-02-24T12:01:55.984Z"
   },
   {
    "duration": 5,
    "start_time": "2022-02-24T12:01:56.038Z"
   },
   {
    "duration": 35,
    "start_time": "2022-02-24T12:01:56.045Z"
   },
   {
    "duration": 38,
    "start_time": "2022-02-24T12:01:56.082Z"
   },
   {
    "duration": 11,
    "start_time": "2022-02-24T12:01:56.122Z"
   },
   {
    "duration": 15,
    "start_time": "2022-02-24T12:01:56.135Z"
   },
   {
    "duration": 29,
    "start_time": "2022-02-24T12:01:56.152Z"
   },
   {
    "duration": 37,
    "start_time": "2022-02-24T12:01:56.183Z"
   },
   {
    "duration": 9,
    "start_time": "2022-02-24T12:01:56.222Z"
   },
   {
    "duration": 19,
    "start_time": "2022-02-24T12:01:56.233Z"
   },
   {
    "duration": 12,
    "start_time": "2022-02-24T12:01:56.254Z"
   },
   {
    "duration": 10,
    "start_time": "2022-02-24T12:01:56.268Z"
   },
   {
    "duration": 44,
    "start_time": "2022-02-24T12:01:56.280Z"
   },
   {
    "duration": 70,
    "start_time": "2022-02-24T12:01:56.326Z"
   },
   {
    "duration": 6,
    "start_time": "2022-02-24T12:01:56.398Z"
   },
   {
    "duration": 28,
    "start_time": "2022-02-24T12:01:56.405Z"
   },
   {
    "duration": 15,
    "start_time": "2022-02-24T12:01:56.436Z"
   },
   {
    "duration": 24,
    "start_time": "2022-02-24T12:01:56.453Z"
   },
   {
    "duration": 30,
    "start_time": "2022-02-24T12:01:56.479Z"
   },
   {
    "duration": 30,
    "start_time": "2022-02-24T12:01:56.518Z"
   },
   {
    "duration": 28,
    "start_time": "2022-02-24T12:01:56.549Z"
   },
   {
    "duration": 47,
    "start_time": "2022-02-24T12:01:56.579Z"
   },
   {
    "duration": 26,
    "start_time": "2022-02-24T12:01:56.630Z"
   },
   {
    "duration": 44,
    "start_time": "2022-02-24T12:01:56.658Z"
   },
   {
    "duration": 32,
    "start_time": "2022-02-24T12:01:56.704Z"
   },
   {
    "duration": 38,
    "start_time": "2022-02-24T12:01:56.737Z"
   },
   {
    "duration": 40,
    "start_time": "2022-02-24T12:01:56.777Z"
   },
   {
    "duration": 321,
    "start_time": "2022-02-24T12:01:56.818Z"
   },
   {
    "duration": 336,
    "start_time": "2022-02-24T12:01:57.141Z"
   },
   {
    "duration": 10,
    "start_time": "2022-02-24T12:01:57.479Z"
   },
   {
    "duration": 10,
    "start_time": "2022-02-24T12:01:57.491Z"
   },
   {
    "duration": 55,
    "start_time": "2022-02-24T12:01:57.503Z"
   },
   {
    "duration": 62,
    "start_time": "2022-02-24T12:01:57.559Z"
   },
   {
    "duration": 168,
    "start_time": "2022-02-24T12:01:57.622Z"
   },
   {
    "duration": 309,
    "start_time": "2022-02-24T12:01:57.791Z"
   },
   {
    "duration": 17,
    "start_time": "2022-02-24T12:01:58.102Z"
   },
   {
    "duration": 7,
    "start_time": "2022-02-24T12:01:58.121Z"
   },
   {
    "duration": 5,
    "start_time": "2022-02-24T12:01:58.130Z"
   },
   {
    "duration": 7,
    "start_time": "2022-02-24T12:01:58.137Z"
   },
   {
    "duration": 20,
    "start_time": "2022-02-24T12:01:58.146Z"
   },
   {
    "duration": 27,
    "start_time": "2022-02-24T12:01:58.168Z"
   },
   {
    "duration": 28,
    "start_time": "2022-02-24T12:01:58.197Z"
   },
   {
    "duration": 33,
    "start_time": "2022-02-24T12:01:58.227Z"
   },
   {
    "duration": 5,
    "start_time": "2022-02-24T12:01:58.262Z"
   },
   {
    "duration": 7,
    "start_time": "2022-02-24T12:01:58.269Z"
   },
   {
    "duration": 7,
    "start_time": "2022-02-24T12:01:58.278Z"
   },
   {
    "duration": 737,
    "start_time": "2022-02-25T20:55:37.954Z"
   },
   {
    "duration": 137,
    "start_time": "2022-02-25T20:55:38.693Z"
   },
   {
    "duration": 27,
    "start_time": "2022-02-25T20:55:38.832Z"
   },
   {
    "duration": 16,
    "start_time": "2022-02-25T20:55:38.861Z"
   },
   {
    "duration": 24,
    "start_time": "2022-02-25T20:55:38.878Z"
   },
   {
    "duration": 20,
    "start_time": "2022-02-25T20:55:38.904Z"
   },
   {
    "duration": 27,
    "start_time": "2022-02-25T20:55:38.926Z"
   },
   {
    "duration": 16,
    "start_time": "2022-02-25T20:55:38.956Z"
   },
   {
    "duration": 47,
    "start_time": "2022-02-25T20:55:38.974Z"
   },
   {
    "duration": 19,
    "start_time": "2022-02-25T20:55:39.023Z"
   },
   {
    "duration": 28,
    "start_time": "2022-02-25T20:55:39.043Z"
   },
   {
    "duration": 16,
    "start_time": "2022-02-25T20:55:39.073Z"
   },
   {
    "duration": 40,
    "start_time": "2022-02-25T20:55:39.091Z"
   },
   {
    "duration": 11,
    "start_time": "2022-02-25T20:55:39.133Z"
   },
   {
    "duration": 31,
    "start_time": "2022-02-25T20:55:39.146Z"
   },
   {
    "duration": 38,
    "start_time": "2022-02-25T20:55:39.179Z"
   },
   {
    "duration": 14,
    "start_time": "2022-02-25T20:55:39.219Z"
   },
   {
    "duration": 12,
    "start_time": "2022-02-25T20:55:39.235Z"
   },
   {
    "duration": 23,
    "start_time": "2022-02-25T20:55:39.249Z"
   },
   {
    "duration": 83,
    "start_time": "2022-02-25T20:55:39.274Z"
   },
   {
    "duration": 7,
    "start_time": "2022-02-25T20:55:39.358Z"
   },
   {
    "duration": 39,
    "start_time": "2022-02-25T20:55:39.367Z"
   },
   {
    "duration": 16,
    "start_time": "2022-02-25T20:55:39.410Z"
   },
   {
    "duration": 54,
    "start_time": "2022-02-25T20:55:39.428Z"
   },
   {
    "duration": 35,
    "start_time": "2022-02-25T20:55:39.484Z"
   },
   {
    "duration": 31,
    "start_time": "2022-02-25T20:55:39.521Z"
   },
   {
    "duration": 43,
    "start_time": "2022-02-25T20:55:39.554Z"
   },
   {
    "duration": 38,
    "start_time": "2022-02-25T20:55:39.599Z"
   },
   {
    "duration": 32,
    "start_time": "2022-02-25T20:55:39.638Z"
   },
   {
    "duration": 28,
    "start_time": "2022-02-25T20:55:39.672Z"
   },
   {
    "duration": 17,
    "start_time": "2022-02-25T20:55:39.702Z"
   },
   {
    "duration": 53,
    "start_time": "2022-02-25T20:55:39.722Z"
   },
   {
    "duration": 28,
    "start_time": "2022-02-25T20:55:39.777Z"
   },
   {
    "duration": 390,
    "start_time": "2022-02-25T20:55:39.807Z"
   },
   {
    "duration": 290,
    "start_time": "2022-02-25T20:55:40.199Z"
   },
   {
    "duration": 14,
    "start_time": "2022-02-25T20:55:40.491Z"
   },
   {
    "duration": 35,
    "start_time": "2022-02-25T20:55:40.508Z"
   },
   {
    "duration": 20,
    "start_time": "2022-02-25T20:55:40.546Z"
   },
   {
    "duration": 85,
    "start_time": "2022-02-25T20:55:40.569Z"
   },
   {
    "duration": 178,
    "start_time": "2022-02-25T20:55:40.656Z"
   },
   {
    "duration": 341,
    "start_time": "2022-02-25T20:55:40.836Z"
   },
   {
    "duration": 12,
    "start_time": "2022-02-25T20:55:41.179Z"
   },
   {
    "duration": 20,
    "start_time": "2022-02-25T20:55:41.193Z"
   },
   {
    "duration": 10,
    "start_time": "2022-02-25T20:55:41.215Z"
   },
   {
    "duration": 24,
    "start_time": "2022-02-25T20:55:41.226Z"
   },
   {
    "duration": 28,
    "start_time": "2022-02-25T20:55:41.252Z"
   },
   {
    "duration": 47,
    "start_time": "2022-02-25T20:55:41.281Z"
   },
   {
    "duration": 29,
    "start_time": "2022-02-25T20:55:41.330Z"
   },
   {
    "duration": 36,
    "start_time": "2022-02-25T20:55:41.361Z"
   },
   {
    "duration": 7,
    "start_time": "2022-02-25T20:55:41.400Z"
   },
   {
    "duration": 27,
    "start_time": "2022-02-25T20:55:41.408Z"
   },
   {
    "duration": 32,
    "start_time": "2022-02-25T20:55:41.437Z"
   },
   {
    "duration": 11,
    "start_time": "2022-02-25T20:55:49.252Z"
   },
   {
    "duration": 9,
    "start_time": "2022-02-25T20:57:13.212Z"
   },
   {
    "duration": 11,
    "start_time": "2022-02-25T20:57:24.365Z"
   },
   {
    "duration": 5764,
    "start_time": "2022-02-25T20:58:57.540Z"
   },
   {
    "duration": 7,
    "start_time": "2022-02-25T20:59:32.461Z"
   },
   {
    "duration": 12,
    "start_time": "2022-02-25T20:59:41.049Z"
   },
   {
    "duration": 14,
    "start_time": "2022-02-25T21:00:04.771Z"
   },
   {
    "duration": 11,
    "start_time": "2022-02-25T21:00:08.154Z"
   },
   {
    "duration": 1589,
    "start_time": "2022-02-25T21:00:15.691Z"
   },
   {
    "duration": 1723,
    "start_time": "2022-02-25T21:00:28.727Z"
   },
   {
    "duration": 23,
    "start_time": "2022-02-25T21:09:37.874Z"
   },
   {
    "duration": 24,
    "start_time": "2022-02-25T21:10:34.917Z"
   },
   {
    "duration": 99,
    "start_time": "2022-02-25T21:11:58.936Z"
   },
   {
    "duration": 326,
    "start_time": "2022-02-25T21:12:03.377Z"
   },
   {
    "duration": 54,
    "start_time": "2022-02-25T21:12:19.390Z"
   },
   {
    "duration": 45,
    "start_time": "2022-02-25T21:12:34.086Z"
   },
   {
    "duration": 224,
    "start_time": "2022-02-25T21:14:39.312Z"
   },
   {
    "duration": 47,
    "start_time": "2022-02-25T21:14:52.977Z"
   },
   {
    "duration": 338,
    "start_time": "2022-02-25T21:31:01.456Z"
   },
   {
    "duration": 722,
    "start_time": "2022-02-27T11:20:40.826Z"
   },
   {
    "duration": 72,
    "start_time": "2022-02-27T11:20:41.550Z"
   },
   {
    "duration": 26,
    "start_time": "2022-02-27T11:20:41.624Z"
   },
   {
    "duration": 13,
    "start_time": "2022-02-27T11:20:41.652Z"
   },
   {
    "duration": 17,
    "start_time": "2022-02-27T11:20:41.667Z"
   },
   {
    "duration": 12,
    "start_time": "2022-02-27T11:20:41.686Z"
   },
   {
    "duration": 25,
    "start_time": "2022-02-27T11:20:41.699Z"
   },
   {
    "duration": 5,
    "start_time": "2022-02-27T11:20:41.725Z"
   },
   {
    "duration": 60,
    "start_time": "2022-02-27T11:20:41.732Z"
   },
   {
    "duration": 16,
    "start_time": "2022-02-27T11:20:41.795Z"
   },
   {
    "duration": 9,
    "start_time": "2022-02-27T11:20:41.813Z"
   },
   {
    "duration": 42,
    "start_time": "2022-02-27T11:20:41.824Z"
   },
   {
    "duration": 29,
    "start_time": "2022-02-27T11:20:41.868Z"
   },
   {
    "duration": 9,
    "start_time": "2022-02-27T11:20:41.898Z"
   },
   {
    "duration": 12,
    "start_time": "2022-02-27T11:20:41.909Z"
   },
   {
    "duration": 44,
    "start_time": "2022-02-27T11:20:41.923Z"
   },
   {
    "duration": 12,
    "start_time": "2022-02-27T11:20:41.969Z"
   },
   {
    "duration": 9,
    "start_time": "2022-02-27T11:20:41.983Z"
   },
   {
    "duration": 6,
    "start_time": "2022-02-27T11:20:41.994Z"
   },
   {
    "duration": 89,
    "start_time": "2022-02-27T11:20:42.002Z"
   },
   {
    "duration": 6,
    "start_time": "2022-02-27T11:20:42.093Z"
   },
   {
    "duration": 10,
    "start_time": "2022-02-27T11:20:42.101Z"
   },
   {
    "duration": 10,
    "start_time": "2022-02-27T11:20:42.113Z"
   },
   {
    "duration": 49,
    "start_time": "2022-02-27T11:20:42.124Z"
   },
   {
    "duration": 30,
    "start_time": "2022-02-27T11:20:42.174Z"
   },
   {
    "duration": 29,
    "start_time": "2022-02-27T11:20:42.205Z"
   },
   {
    "duration": 43,
    "start_time": "2022-02-27T11:20:42.238Z"
   },
   {
    "duration": 23,
    "start_time": "2022-02-27T11:20:42.284Z"
   },
   {
    "duration": 22,
    "start_time": "2022-02-27T11:20:42.309Z"
   },
   {
    "duration": 48,
    "start_time": "2022-02-27T11:20:42.333Z"
   },
   {
    "duration": 16,
    "start_time": "2022-02-27T11:20:42.383Z"
   },
   {
    "duration": 23,
    "start_time": "2022-02-27T11:20:42.401Z"
   },
   {
    "duration": 54,
    "start_time": "2022-02-27T11:20:42.426Z"
   },
   {
    "duration": 294,
    "start_time": "2022-02-27T11:20:42.482Z"
   },
   {
    "duration": 225,
    "start_time": "2022-02-27T11:20:42.778Z"
   },
   {
    "duration": 12,
    "start_time": "2022-02-27T11:20:43.004Z"
   },
   {
    "duration": 10,
    "start_time": "2022-02-27T11:20:43.018Z"
   },
   {
    "duration": 35,
    "start_time": "2022-02-27T11:20:43.030Z"
   },
   {
    "duration": 65,
    "start_time": "2022-02-27T11:20:43.066Z"
   },
   {
    "duration": 164,
    "start_time": "2022-02-27T11:20:43.132Z"
   },
   {
    "duration": 284,
    "start_time": "2022-02-27T11:20:43.297Z"
   },
   {
    "duration": 11,
    "start_time": "2022-02-27T11:20:43.583Z"
   },
   {
    "duration": 6,
    "start_time": "2022-02-27T11:20:43.596Z"
   },
   {
    "duration": 10,
    "start_time": "2022-02-27T11:20:43.603Z"
   },
   {
    "duration": 8,
    "start_time": "2022-02-27T11:20:43.617Z"
   },
   {
    "duration": 37,
    "start_time": "2022-02-27T11:20:43.627Z"
   },
   {
    "duration": 26,
    "start_time": "2022-02-27T11:20:43.666Z"
   },
   {
    "duration": 26,
    "start_time": "2022-02-27T11:20:43.693Z"
   },
   {
    "duration": 50,
    "start_time": "2022-02-27T11:20:43.721Z"
   },
   {
    "duration": 1487,
    "start_time": "2022-02-27T11:20:43.772Z"
   },
   {
    "duration": 43,
    "start_time": "2022-02-27T11:20:45.260Z"
   },
   {
    "duration": 31,
    "start_time": "2022-02-27T12:35:19.637Z"
   },
   {
    "duration": 30,
    "start_time": "2022-02-27T12:35:34.681Z"
   },
   {
    "duration": 301,
    "start_time": "2022-02-28T06:55:33.540Z"
   },
   {
    "duration": 636,
    "start_time": "2022-02-28T06:55:43.192Z"
   },
   {
    "duration": 447,
    "start_time": "2022-02-28T06:55:43.830Z"
   },
   {
    "duration": 22,
    "start_time": "2022-02-28T06:55:44.279Z"
   },
   {
    "duration": 8,
    "start_time": "2022-02-28T06:55:44.302Z"
   },
   {
    "duration": 14,
    "start_time": "2022-02-28T06:55:44.311Z"
   },
   {
    "duration": 10,
    "start_time": "2022-02-28T06:55:44.326Z"
   },
   {
    "duration": 19,
    "start_time": "2022-02-28T06:55:44.337Z"
   },
   {
    "duration": 4,
    "start_time": "2022-02-28T06:55:44.358Z"
   },
   {
    "duration": 48,
    "start_time": "2022-02-28T06:55:44.364Z"
   },
   {
    "duration": 14,
    "start_time": "2022-02-28T06:55:44.413Z"
   },
   {
    "duration": 8,
    "start_time": "2022-02-28T06:55:44.429Z"
   },
   {
    "duration": 12,
    "start_time": "2022-02-28T06:55:44.439Z"
   },
   {
    "duration": 23,
    "start_time": "2022-02-28T06:55:44.452Z"
   },
   {
    "duration": 34,
    "start_time": "2022-02-28T06:55:44.477Z"
   },
   {
    "duration": 8,
    "start_time": "2022-02-28T06:55:44.512Z"
   },
   {
    "duration": 17,
    "start_time": "2022-02-28T06:55:44.521Z"
   },
   {
    "duration": 10,
    "start_time": "2022-02-28T06:55:44.539Z"
   },
   {
    "duration": 8,
    "start_time": "2022-02-28T06:55:44.550Z"
   },
   {
    "duration": 5,
    "start_time": "2022-02-28T06:55:44.559Z"
   },
   {
    "duration": 84,
    "start_time": "2022-02-28T06:55:44.566Z"
   },
   {
    "duration": 5,
    "start_time": "2022-02-28T06:55:44.652Z"
   },
   {
    "duration": 9,
    "start_time": "2022-02-28T06:55:44.658Z"
   },
   {
    "duration": 6,
    "start_time": "2022-02-28T06:55:44.669Z"
   },
   {
    "duration": 40,
    "start_time": "2022-02-28T06:55:44.677Z"
   },
   {
    "duration": 21,
    "start_time": "2022-02-28T06:55:44.718Z"
   },
   {
    "duration": 23,
    "start_time": "2022-02-28T06:55:44.741Z"
   },
   {
    "duration": 40,
    "start_time": "2022-02-28T06:55:44.766Z"
   },
   {
    "duration": 22,
    "start_time": "2022-02-28T06:55:44.807Z"
   },
   {
    "duration": 20,
    "start_time": "2022-02-28T06:55:44.830Z"
   },
   {
    "duration": 21,
    "start_time": "2022-02-28T06:55:44.851Z"
   },
   {
    "duration": 41,
    "start_time": "2022-02-28T06:55:44.873Z"
   },
   {
    "duration": 20,
    "start_time": "2022-02-28T06:55:44.915Z"
   },
   {
    "duration": 21,
    "start_time": "2022-02-28T06:55:44.937Z"
   },
   {
    "duration": 11,
    "start_time": "2022-02-28T06:55:44.959Z"
   },
   {
    "duration": 272,
    "start_time": "2022-02-28T06:55:44.972Z"
   },
   {
    "duration": 197,
    "start_time": "2022-02-28T06:55:45.247Z"
   },
   {
    "duration": 9,
    "start_time": "2022-02-28T06:55:45.445Z"
   },
   {
    "duration": 12,
    "start_time": "2022-02-28T06:55:45.456Z"
   },
   {
    "duration": 16,
    "start_time": "2022-02-28T06:55:45.469Z"
   },
   {
    "duration": 62,
    "start_time": "2022-02-28T06:55:45.487Z"
   },
   {
    "duration": 134,
    "start_time": "2022-02-28T06:55:45.551Z"
   },
   {
    "duration": 242,
    "start_time": "2022-02-28T06:55:45.686Z"
   },
   {
    "duration": 9,
    "start_time": "2022-02-28T06:55:45.929Z"
   },
   {
    "duration": 6,
    "start_time": "2022-02-28T06:55:45.939Z"
   },
   {
    "duration": 6,
    "start_time": "2022-02-28T06:55:45.946Z"
   },
   {
    "duration": 9,
    "start_time": "2022-02-28T06:55:45.953Z"
   },
   {
    "duration": 14,
    "start_time": "2022-02-28T06:55:45.963Z"
   },
   {
    "duration": 45,
    "start_time": "2022-02-28T06:55:45.979Z"
   },
   {
    "duration": 21,
    "start_time": "2022-02-28T06:55:46.026Z"
   },
   {
    "duration": 25,
    "start_time": "2022-02-28T06:55:46.050Z"
   },
   {
    "duration": 1110,
    "start_time": "2022-02-28T06:55:46.076Z"
   },
   {
    "duration": 41,
    "start_time": "2022-02-28T06:55:47.188Z"
   },
   {
    "duration": 4,
    "start_time": "2022-02-28T07:01:30.453Z"
   },
   {
    "duration": 18,
    "start_time": "2022-02-28T07:03:16.381Z"
   },
   {
    "duration": 18,
    "start_time": "2022-02-28T07:05:08.357Z"
   },
   {
    "duration": 17,
    "start_time": "2022-02-28T07:05:46.924Z"
   },
   {
    "duration": 584,
    "start_time": "2022-02-28T08:48:54.764Z"
   },
   {
    "duration": 129,
    "start_time": "2022-02-28T08:48:55.350Z"
   },
   {
    "duration": 21,
    "start_time": "2022-02-28T08:48:55.481Z"
   },
   {
    "duration": 8,
    "start_time": "2022-02-28T08:48:55.503Z"
   },
   {
    "duration": 13,
    "start_time": "2022-02-28T08:48:55.513Z"
   },
   {
    "duration": 10,
    "start_time": "2022-02-28T08:48:55.528Z"
   },
   {
    "duration": 18,
    "start_time": "2022-02-28T08:48:55.539Z"
   },
   {
    "duration": 4,
    "start_time": "2022-02-28T08:48:55.559Z"
   },
   {
    "duration": 56,
    "start_time": "2022-02-28T08:48:55.565Z"
   },
   {
    "duration": 16,
    "start_time": "2022-02-28T08:48:55.622Z"
   },
   {
    "duration": 8,
    "start_time": "2022-02-28T08:48:55.639Z"
   },
   {
    "duration": 12,
    "start_time": "2022-02-28T08:48:55.649Z"
   },
   {
    "duration": 49,
    "start_time": "2022-02-28T08:48:55.663Z"
   },
   {
    "duration": 9,
    "start_time": "2022-02-28T08:48:55.713Z"
   },
   {
    "duration": 8,
    "start_time": "2022-02-28T08:48:55.723Z"
   },
   {
    "duration": 16,
    "start_time": "2022-02-28T08:48:55.733Z"
   },
   {
    "duration": 10,
    "start_time": "2022-02-28T08:48:55.750Z"
   },
   {
    "duration": 7,
    "start_time": "2022-02-28T08:48:55.762Z"
   },
   {
    "duration": 38,
    "start_time": "2022-02-28T08:48:55.771Z"
   },
   {
    "duration": 52,
    "start_time": "2022-02-28T08:48:55.811Z"
   },
   {
    "duration": 6,
    "start_time": "2022-02-28T08:48:55.865Z"
   },
   {
    "duration": 15,
    "start_time": "2022-02-28T08:48:55.872Z"
   },
   {
    "duration": 6,
    "start_time": "2022-02-28T08:48:55.907Z"
   },
   {
    "duration": 21,
    "start_time": "2022-02-28T08:48:55.915Z"
   },
   {
    "duration": 23,
    "start_time": "2022-02-28T08:48:55.938Z"
   },
   {
    "duration": 54,
    "start_time": "2022-02-28T08:48:55.962Z"
   },
   {
    "duration": 20,
    "start_time": "2022-02-28T08:48:56.018Z"
   },
   {
    "duration": 22,
    "start_time": "2022-02-28T08:48:56.039Z"
   },
   {
    "duration": 21,
    "start_time": "2022-02-28T08:48:56.062Z"
   },
   {
    "duration": 22,
    "start_time": "2022-02-28T08:48:56.106Z"
   },
   {
    "duration": 13,
    "start_time": "2022-02-28T08:48:56.129Z"
   },
   {
    "duration": 20,
    "start_time": "2022-02-28T08:48:56.143Z"
   },
   {
    "duration": 46,
    "start_time": "2022-02-28T08:48:56.165Z"
   },
   {
    "duration": 258,
    "start_time": "2022-02-28T08:48:56.212Z"
   },
   {
    "duration": 195,
    "start_time": "2022-02-28T08:48:56.472Z"
   },
   {
    "duration": 10,
    "start_time": "2022-02-28T08:48:56.669Z"
   },
   {
    "duration": 9,
    "start_time": "2022-02-28T08:48:56.680Z"
   },
   {
    "duration": 23,
    "start_time": "2022-02-28T08:48:56.690Z"
   },
   {
    "duration": 58,
    "start_time": "2022-02-28T08:48:56.714Z"
   },
   {
    "duration": 154,
    "start_time": "2022-02-28T08:48:56.774Z"
   },
   {
    "duration": 260,
    "start_time": "2022-02-28T08:48:56.930Z"
   },
   {
    "duration": 15,
    "start_time": "2022-02-28T08:48:57.191Z"
   },
   {
    "duration": 12,
    "start_time": "2022-02-28T08:48:57.208Z"
   },
   {
    "duration": 5,
    "start_time": "2022-02-28T08:48:57.222Z"
   },
   {
    "duration": 7,
    "start_time": "2022-02-28T08:48:57.228Z"
   },
   {
    "duration": 15,
    "start_time": "2022-02-28T08:48:57.236Z"
   },
   {
    "duration": 22,
    "start_time": "2022-02-28T08:48:57.253Z"
   },
   {
    "duration": 50,
    "start_time": "2022-02-28T08:48:57.277Z"
   },
   {
    "duration": 26,
    "start_time": "2022-02-28T08:48:57.328Z"
   },
   {
    "duration": 1446,
    "start_time": "2022-02-28T08:48:57.355Z"
   },
   {
    "duration": 39,
    "start_time": "2022-02-28T08:48:58.803Z"
   },
   {
    "duration": 332,
    "start_time": "2022-02-28T19:38:42.512Z"
   },
   {
    "duration": 1164,
    "start_time": "2022-02-28T19:38:47.058Z"
   },
   {
    "duration": 170,
    "start_time": "2022-02-28T19:38:48.224Z"
   },
   {
    "duration": 36,
    "start_time": "2022-02-28T19:38:48.397Z"
   },
   {
    "duration": 14,
    "start_time": "2022-02-28T19:38:48.435Z"
   },
   {
    "duration": 29,
    "start_time": "2022-02-28T19:38:48.451Z"
   },
   {
    "duration": 16,
    "start_time": "2022-02-28T19:38:48.483Z"
   },
   {
    "duration": 12,
    "start_time": "2022-02-28T19:38:48.501Z"
   },
   {
    "duration": 35,
    "start_time": "2022-02-28T19:38:48.553Z"
   },
   {
    "duration": 6,
    "start_time": "2022-02-28T19:38:48.591Z"
   },
   {
    "duration": 75,
    "start_time": "2022-02-28T19:38:48.600Z"
   },
   {
    "duration": 25,
    "start_time": "2022-02-28T19:38:48.677Z"
   },
   {
    "duration": 14,
    "start_time": "2022-02-28T19:38:48.704Z"
   },
   {
    "duration": 20,
    "start_time": "2022-02-28T19:38:48.752Z"
   },
   {
    "duration": 45,
    "start_time": "2022-02-28T19:38:48.774Z"
   },
   {
    "duration": 35,
    "start_time": "2022-02-28T19:38:48.821Z"
   },
   {
    "duration": 14,
    "start_time": "2022-02-28T19:38:48.858Z"
   },
   {
    "duration": 31,
    "start_time": "2022-02-28T19:38:48.875Z"
   },
   {
    "duration": 54,
    "start_time": "2022-02-28T19:38:48.908Z"
   },
   {
    "duration": 14,
    "start_time": "2022-02-28T19:38:48.965Z"
   },
   {
    "duration": 11,
    "start_time": "2022-02-28T19:38:48.981Z"
   },
   {
    "duration": 118,
    "start_time": "2022-02-28T19:38:48.994Z"
   },
   {
    "duration": 8,
    "start_time": "2022-02-28T19:38:49.115Z"
   },
   {
    "duration": 30,
    "start_time": "2022-02-28T19:38:49.129Z"
   },
   {
    "duration": 11,
    "start_time": "2022-02-28T19:38:49.162Z"
   },
   {
    "duration": 41,
    "start_time": "2022-02-28T19:38:49.175Z"
   },
   {
    "duration": 68,
    "start_time": "2022-02-28T19:38:49.218Z"
   },
   {
    "duration": 64,
    "start_time": "2022-02-28T19:38:49.288Z"
   },
   {
    "duration": 35,
    "start_time": "2022-02-28T19:38:49.354Z"
   },
   {
    "duration": 38,
    "start_time": "2022-02-28T19:38:49.391Z"
   },
   {
    "duration": 37,
    "start_time": "2022-02-28T19:38:49.451Z"
   },
   {
    "duration": 63,
    "start_time": "2022-02-28T19:38:49.490Z"
   },
   {
    "duration": 22,
    "start_time": "2022-02-28T19:38:49.555Z"
   },
   {
    "duration": 36,
    "start_time": "2022-02-28T19:38:49.580Z"
   },
   {
    "duration": 66,
    "start_time": "2022-02-28T19:38:49.618Z"
   },
   {
    "duration": 828,
    "start_time": "2022-02-28T19:38:49.687Z"
   },
   {
    "duration": 374,
    "start_time": "2022-02-28T19:38:50.518Z"
   },
   {
    "duration": 15,
    "start_time": "2022-02-28T19:38:50.895Z"
   },
   {
    "duration": 41,
    "start_time": "2022-02-28T19:38:50.913Z"
   },
   {
    "duration": 24,
    "start_time": "2022-02-28T19:38:50.957Z"
   },
   {
    "duration": 84,
    "start_time": "2022-02-28T19:38:50.983Z"
   },
   {
    "duration": 357,
    "start_time": "2022-02-28T19:38:51.071Z"
   },
   {
    "duration": 485,
    "start_time": "2022-02-28T19:38:51.431Z"
   },
   {
    "duration": 15,
    "start_time": "2022-02-28T19:38:51.919Z"
   },
   {
    "duration": 21,
    "start_time": "2022-02-28T19:38:51.953Z"
   },
   {
    "duration": 17,
    "start_time": "2022-02-28T19:38:51.976Z"
   },
   {
    "duration": 26,
    "start_time": "2022-02-28T19:38:51.995Z"
   },
   {
    "duration": 60,
    "start_time": "2022-02-28T19:38:52.024Z"
   },
   {
    "duration": 53,
    "start_time": "2022-02-28T19:38:52.086Z"
   },
   {
    "duration": 54,
    "start_time": "2022-02-28T19:38:52.142Z"
   },
   {
    "duration": 70,
    "start_time": "2022-02-28T19:38:52.199Z"
   },
   {
    "duration": 2387,
    "start_time": "2022-02-28T19:38:52.272Z"
   },
   {
    "duration": 95,
    "start_time": "2022-02-28T19:38:54.662Z"
   },
   {
    "duration": 832,
    "start_time": "2022-03-01T16:39:53.532Z"
   },
   {
    "duration": 233,
    "start_time": "2022-03-01T16:39:54.366Z"
   },
   {
    "duration": 43,
    "start_time": "2022-03-01T16:39:54.603Z"
   },
   {
    "duration": 15,
    "start_time": "2022-03-01T16:39:54.648Z"
   },
   {
    "duration": 41,
    "start_time": "2022-03-01T16:39:54.665Z"
   },
   {
    "duration": 20,
    "start_time": "2022-03-01T16:39:54.709Z"
   },
   {
    "duration": 15,
    "start_time": "2022-03-01T16:39:54.732Z"
   },
   {
    "duration": 42,
    "start_time": "2022-03-01T16:39:54.785Z"
   },
   {
    "duration": 6,
    "start_time": "2022-03-01T16:39:54.830Z"
   },
   {
    "duration": 88,
    "start_time": "2022-03-01T16:39:54.839Z"
   },
   {
    "duration": 26,
    "start_time": "2022-03-01T16:39:54.930Z"
   },
   {
    "duration": 39,
    "start_time": "2022-03-01T16:39:54.959Z"
   },
   {
    "duration": 25,
    "start_time": "2022-03-01T16:39:55.001Z"
   },
   {
    "duration": 79,
    "start_time": "2022-03-01T16:39:55.028Z"
   },
   {
    "duration": 17,
    "start_time": "2022-03-01T16:39:55.110Z"
   },
   {
    "duration": 15,
    "start_time": "2022-03-01T16:39:55.130Z"
   },
   {
    "duration": 62,
    "start_time": "2022-03-01T16:39:55.148Z"
   },
   {
    "duration": 18,
    "start_time": "2022-03-01T16:39:55.212Z"
   },
   {
    "duration": 12,
    "start_time": "2022-03-01T16:39:55.232Z"
   },
   {
    "duration": 43,
    "start_time": "2022-03-01T16:39:55.246Z"
   },
   {
    "duration": 111,
    "start_time": "2022-03-01T16:39:55.292Z"
   },
   {
    "duration": 9,
    "start_time": "2022-03-01T16:39:55.406Z"
   },
   {
    "duration": 19,
    "start_time": "2022-03-01T16:39:55.422Z"
   },
   {
    "duration": 12,
    "start_time": "2022-03-01T16:39:55.444Z"
   },
   {
    "duration": 46,
    "start_time": "2022-03-01T16:39:55.483Z"
   },
   {
    "duration": 67,
    "start_time": "2022-03-01T16:39:55.532Z"
   },
   {
    "duration": 48,
    "start_time": "2022-03-01T16:39:55.601Z"
   },
   {
    "duration": 65,
    "start_time": "2022-03-01T16:39:55.651Z"
   },
   {
    "duration": 42,
    "start_time": "2022-03-01T16:39:55.719Z"
   },
   {
    "duration": 61,
    "start_time": "2022-03-01T16:39:55.763Z"
   },
   {
    "duration": 72,
    "start_time": "2022-03-01T16:39:55.827Z"
   },
   {
    "duration": 28,
    "start_time": "2022-03-01T16:39:55.902Z"
   },
   {
    "duration": 58,
    "start_time": "2022-03-01T16:39:55.932Z"
   },
   {
    "duration": 44,
    "start_time": "2022-03-01T16:39:55.993Z"
   },
   {
    "duration": 965,
    "start_time": "2022-03-01T16:39:56.039Z"
   },
   {
    "duration": 437,
    "start_time": "2022-03-01T16:39:57.008Z"
   },
   {
    "duration": 36,
    "start_time": "2022-03-01T16:39:57.448Z"
   },
   {
    "duration": 19,
    "start_time": "2022-03-01T16:39:57.487Z"
   },
   {
    "duration": 28,
    "start_time": "2022-03-01T16:39:57.509Z"
   },
   {
    "duration": 103,
    "start_time": "2022-03-01T16:39:57.539Z"
   },
   {
    "duration": 274,
    "start_time": "2022-03-01T16:39:57.645Z"
   },
   {
    "duration": 489,
    "start_time": "2022-03-01T16:39:57.922Z"
   },
   {
    "duration": 19,
    "start_time": "2022-03-01T16:39:58.414Z"
   },
   {
    "duration": 11,
    "start_time": "2022-03-01T16:39:58.436Z"
   },
   {
    "duration": 38,
    "start_time": "2022-03-01T16:39:58.449Z"
   },
   {
    "duration": 17,
    "start_time": "2022-03-01T16:39:58.490Z"
   },
   {
    "duration": 32,
    "start_time": "2022-03-01T16:39:58.510Z"
   },
   {
    "duration": 76,
    "start_time": "2022-03-01T16:39:58.544Z"
   },
   {
    "duration": 61,
    "start_time": "2022-03-01T16:39:58.623Z"
   },
   {
    "duration": 56,
    "start_time": "2022-03-01T16:39:58.687Z"
   },
   {
    "duration": 2261,
    "start_time": "2022-03-01T16:39:58.746Z"
   },
   {
    "duration": 86,
    "start_time": "2022-03-01T16:40:01.011Z"
   },
   {
    "duration": 833,
    "start_time": "2022-03-01T16:43:23.435Z"
   },
   {
    "duration": 94,
    "start_time": "2022-03-01T16:43:24.270Z"
   },
   {
    "duration": 39,
    "start_time": "2022-03-01T16:43:24.367Z"
   },
   {
    "duration": 17,
    "start_time": "2022-03-01T16:43:24.410Z"
   },
   {
    "duration": 27,
    "start_time": "2022-03-01T16:43:24.429Z"
   },
   {
    "duration": 43,
    "start_time": "2022-03-01T16:43:24.458Z"
   },
   {
    "duration": 16,
    "start_time": "2022-03-01T16:43:24.504Z"
   },
   {
    "duration": 63,
    "start_time": "2022-03-01T16:43:24.524Z"
   },
   {
    "duration": 8,
    "start_time": "2022-03-01T16:43:24.590Z"
   },
   {
    "duration": 57,
    "start_time": "2022-03-01T16:43:24.601Z"
   },
   {
    "duration": 19,
    "start_time": "2022-03-01T16:43:26.398Z"
   },
   {
    "duration": 894,
    "start_time": "2022-03-01T16:46:01.200Z"
   },
   {
    "duration": 110,
    "start_time": "2022-03-01T16:46:02.097Z"
   },
   {
    "duration": 42,
    "start_time": "2022-03-01T16:46:02.215Z"
   },
   {
    "duration": 24,
    "start_time": "2022-03-01T16:46:02.261Z"
   },
   {
    "duration": 61,
    "start_time": "2022-03-01T16:46:02.288Z"
   },
   {
    "duration": 48,
    "start_time": "2022-03-01T16:46:02.352Z"
   },
   {
    "duration": 50,
    "start_time": "2022-03-01T16:46:02.404Z"
   },
   {
    "duration": 74,
    "start_time": "2022-03-01T16:46:02.458Z"
   },
   {
    "duration": 8,
    "start_time": "2022-03-01T16:46:02.536Z"
   },
   {
    "duration": 87,
    "start_time": "2022-03-01T16:46:02.547Z"
   },
   {
    "duration": 17,
    "start_time": "2022-03-01T16:46:02.637Z"
   },
   {
    "duration": 61,
    "start_time": "2022-03-01T16:46:02.656Z"
   },
   {
    "duration": 61,
    "start_time": "2022-03-01T16:46:02.720Z"
   },
   {
    "duration": 53,
    "start_time": "2022-03-01T16:46:02.784Z"
   },
   {
    "duration": 13,
    "start_time": "2022-03-01T16:46:02.840Z"
   },
   {
    "duration": 45,
    "start_time": "2022-03-01T16:46:02.856Z"
   },
   {
    "duration": 37,
    "start_time": "2022-03-01T16:46:02.904Z"
   },
   {
    "duration": 40,
    "start_time": "2022-03-01T16:46:02.944Z"
   },
   {
    "duration": 21,
    "start_time": "2022-03-01T16:46:02.987Z"
   },
   {
    "duration": 15,
    "start_time": "2022-03-01T16:46:03.011Z"
   },
   {
    "duration": 120,
    "start_time": "2022-03-01T16:46:03.029Z"
   },
   {
    "duration": 9,
    "start_time": "2022-03-01T16:46:03.151Z"
   },
   {
    "duration": 9,
    "start_time": "2022-03-01T16:51:02.347Z"
   },
   {
    "duration": 12,
    "start_time": "2022-03-01T16:51:36.960Z"
   },
   {
    "duration": 13,
    "start_time": "2022-03-01T16:51:44.247Z"
   },
   {
    "duration": 11,
    "start_time": "2022-03-01T16:52:01.021Z"
   },
   {
    "duration": 12,
    "start_time": "2022-03-01T16:52:15.957Z"
   },
   {
    "duration": 14,
    "start_time": "2022-03-01T16:52:28.644Z"
   },
   {
    "duration": 8,
    "start_time": "2022-03-01T16:52:38.040Z"
   },
   {
    "duration": 787,
    "start_time": "2022-03-01T16:59:27.938Z"
   },
   {
    "duration": 98,
    "start_time": "2022-03-01T16:59:28.727Z"
   },
   {
    "duration": 54,
    "start_time": "2022-03-01T16:59:28.828Z"
   },
   {
    "duration": 17,
    "start_time": "2022-03-01T16:59:28.885Z"
   },
   {
    "duration": 28,
    "start_time": "2022-03-01T16:59:28.905Z"
   },
   {
    "duration": 50,
    "start_time": "2022-03-01T16:59:28.935Z"
   },
   {
    "duration": 16,
    "start_time": "2022-03-01T16:59:28.988Z"
   },
   {
    "duration": 34,
    "start_time": "2022-03-01T16:59:29.007Z"
   },
   {
    "duration": 40,
    "start_time": "2022-03-01T16:59:29.044Z"
   },
   {
    "duration": 63,
    "start_time": "2022-03-01T16:59:29.088Z"
   },
   {
    "duration": 44,
    "start_time": "2022-03-01T16:59:29.155Z"
   },
   {
    "duration": 14,
    "start_time": "2022-03-01T16:59:29.202Z"
   },
   {
    "duration": 19,
    "start_time": "2022-03-01T16:59:29.218Z"
   },
   {
    "duration": 72,
    "start_time": "2022-03-01T16:59:29.239Z"
   },
   {
    "duration": 13,
    "start_time": "2022-03-01T16:59:29.314Z"
   },
   {
    "duration": 14,
    "start_time": "2022-03-01T16:59:29.330Z"
   },
   {
    "duration": 54,
    "start_time": "2022-03-01T16:59:29.347Z"
   },
   {
    "duration": 16,
    "start_time": "2022-03-01T16:59:29.403Z"
   },
   {
    "duration": 15,
    "start_time": "2022-03-01T16:59:29.421Z"
   },
   {
    "duration": 8,
    "start_time": "2022-03-01T16:59:29.439Z"
   },
   {
    "duration": 113,
    "start_time": "2022-03-01T16:59:29.449Z"
   },
   {
    "duration": 11,
    "start_time": "2022-03-01T16:59:29.581Z"
   },
   {
    "duration": 12,
    "start_time": "2022-03-01T16:59:29.597Z"
   },
   {
    "duration": 9,
    "start_time": "2022-03-01T16:59:29.611Z"
   },
   {
    "duration": 11,
    "start_time": "2022-03-01T16:59:29.622Z"
   },
   {
    "duration": 54,
    "start_time": "2022-03-01T16:59:29.635Z"
   },
   {
    "duration": 57,
    "start_time": "2022-03-01T16:59:29.692Z"
   },
   {
    "duration": 63,
    "start_time": "2022-03-01T16:59:29.753Z"
   },
   {
    "duration": 67,
    "start_time": "2022-03-01T16:59:29.819Z"
   },
   {
    "duration": 36,
    "start_time": "2022-03-01T16:59:29.889Z"
   },
   {
    "duration": 70,
    "start_time": "2022-03-01T16:59:29.928Z"
   },
   {
    "duration": 42,
    "start_time": "2022-03-01T16:59:30.000Z"
   },
   {
    "duration": 70,
    "start_time": "2022-03-01T16:59:30.044Z"
   },
   {
    "duration": 24,
    "start_time": "2022-03-01T16:59:30.116Z"
   },
   {
    "duration": 79,
    "start_time": "2022-03-01T16:59:30.142Z"
   },
   {
    "duration": 61,
    "start_time": "2022-03-01T16:59:30.225Z"
   },
   {
    "duration": 456,
    "start_time": "2022-03-01T16:59:32.033Z"
   },
   {
    "duration": 4,
    "start_time": "2022-03-01T17:01:47.226Z"
   },
   {
    "duration": 438,
    "start_time": "2022-03-01T17:02:30.939Z"
   },
   {
    "duration": 273,
    "start_time": "2022-03-01T17:13:16.982Z"
   },
   {
    "duration": 18,
    "start_time": "2022-03-01T17:13:27.609Z"
   },
   {
    "duration": 350,
    "start_time": "2022-03-01T17:13:47.015Z"
   },
   {
    "duration": 58,
    "start_time": "2022-03-01T17:14:12.877Z"
   },
   {
    "duration": 485,
    "start_time": "2022-03-01T17:14:15.557Z"
   },
   {
    "duration": 19,
    "start_time": "2022-03-01T17:14:23.894Z"
   },
   {
    "duration": 22,
    "start_time": "2022-03-01T17:14:28.411Z"
   },
   {
    "duration": 345,
    "start_time": "2022-03-01T17:19:15.624Z"
   },
   {
    "duration": 348,
    "start_time": "2022-03-01T17:19:37.065Z"
   },
   {
    "duration": 349,
    "start_time": "2022-03-01T17:20:09.227Z"
   },
   {
    "duration": 462,
    "start_time": "2022-03-01T17:20:21.083Z"
   },
   {
    "duration": 63,
    "start_time": "2022-03-01T17:20:45.551Z"
   },
   {
    "duration": 44,
    "start_time": "2022-03-01T17:21:43.028Z"
   },
   {
    "duration": 195,
    "start_time": "2022-03-01T17:22:07.603Z"
   },
   {
    "duration": 12,
    "start_time": "2022-03-01T17:22:22.666Z"
   },
   {
    "duration": 47,
    "start_time": "2022-03-01T17:23:06.930Z"
   },
   {
    "duration": 43,
    "start_time": "2022-03-01T17:24:06.434Z"
   },
   {
    "duration": 33,
    "start_time": "2022-03-01T17:24:19.819Z"
   },
   {
    "duration": 46,
    "start_time": "2022-03-01T17:27:35.169Z"
   },
   {
    "duration": 789,
    "start_time": "2022-03-01T21:07:53.718Z"
   },
   {
    "duration": 78,
    "start_time": "2022-03-01T21:07:54.509Z"
   },
   {
    "duration": 29,
    "start_time": "2022-03-01T21:07:54.589Z"
   },
   {
    "duration": 9,
    "start_time": "2022-03-01T21:07:54.620Z"
   },
   {
    "duration": 20,
    "start_time": "2022-03-01T21:07:54.631Z"
   },
   {
    "duration": 14,
    "start_time": "2022-03-01T21:07:54.653Z"
   },
   {
    "duration": 37,
    "start_time": "2022-03-01T21:07:54.668Z"
   },
   {
    "duration": 25,
    "start_time": "2022-03-01T21:07:54.708Z"
   },
   {
    "duration": 6,
    "start_time": "2022-03-01T21:07:54.736Z"
   },
   {
    "duration": 63,
    "start_time": "2022-03-01T21:07:54.744Z"
   },
   {
    "duration": 11,
    "start_time": "2022-03-01T21:07:54.809Z"
   },
   {
    "duration": 10,
    "start_time": "2022-03-01T21:07:54.822Z"
   },
   {
    "duration": 16,
    "start_time": "2022-03-01T21:07:54.834Z"
   },
   {
    "duration": 61,
    "start_time": "2022-03-01T21:07:54.852Z"
   },
   {
    "duration": 11,
    "start_time": "2022-03-01T21:07:54.914Z"
   },
   {
    "duration": 12,
    "start_time": "2022-03-01T21:07:54.927Z"
   },
   {
    "duration": 23,
    "start_time": "2022-03-01T21:07:54.941Z"
   },
   {
    "duration": 37,
    "start_time": "2022-03-01T21:07:54.966Z"
   },
   {
    "duration": 12,
    "start_time": "2022-03-01T21:07:55.005Z"
   },
   {
    "duration": 7,
    "start_time": "2022-03-01T21:07:55.019Z"
   },
   {
    "duration": 88,
    "start_time": "2022-03-01T21:07:55.028Z"
   },
   {
    "duration": 7,
    "start_time": "2022-03-01T21:07:55.118Z"
   },
   {
    "duration": 9,
    "start_time": "2022-03-01T21:07:55.129Z"
   },
   {
    "duration": 9,
    "start_time": "2022-03-01T21:07:55.141Z"
   },
   {
    "duration": 8,
    "start_time": "2022-03-01T21:07:55.152Z"
   },
   {
    "duration": 43,
    "start_time": "2022-03-01T21:07:55.162Z"
   },
   {
    "duration": 27,
    "start_time": "2022-03-01T21:07:55.207Z"
   },
   {
    "duration": 31,
    "start_time": "2022-03-01T21:07:55.236Z"
   },
   {
    "duration": 59,
    "start_time": "2022-03-01T21:07:55.269Z"
   },
   {
    "duration": 25,
    "start_time": "2022-03-01T21:07:55.330Z"
   },
   {
    "duration": 48,
    "start_time": "2022-03-01T21:07:55.357Z"
   },
   {
    "duration": 24,
    "start_time": "2022-03-01T21:07:55.407Z"
   },
   {
    "duration": 26,
    "start_time": "2022-03-01T21:07:55.433Z"
   },
   {
    "duration": 50,
    "start_time": "2022-03-01T21:07:55.461Z"
   },
   {
    "duration": 25,
    "start_time": "2022-03-01T21:07:55.512Z"
   },
   {
    "duration": 26,
    "start_time": "2022-03-01T21:07:55.538Z"
   },
   {
    "duration": 312,
    "start_time": "2022-03-01T21:07:55.566Z"
   },
   {
    "duration": 27,
    "start_time": "2022-03-01T21:07:55.880Z"
   },
   {
    "duration": 235,
    "start_time": "2022-03-01T21:07:55.909Z"
   },
   {
    "duration": 13,
    "start_time": "2022-03-01T21:07:56.146Z"
   },
   {
    "duration": 11,
    "start_time": "2022-03-01T21:07:56.161Z"
   },
   {
    "duration": 36,
    "start_time": "2022-03-01T21:07:56.174Z"
   },
   {
    "duration": 70,
    "start_time": "2022-03-01T21:07:56.212Z"
   },
   {
    "duration": 177,
    "start_time": "2022-03-01T21:07:56.284Z"
   },
   {
    "duration": 302,
    "start_time": "2022-03-01T21:07:56.463Z"
   },
   {
    "duration": 12,
    "start_time": "2022-03-01T21:07:56.767Z"
   },
   {
    "duration": 28,
    "start_time": "2022-03-01T21:07:56.781Z"
   },
   {
    "duration": 24,
    "start_time": "2022-03-01T21:07:56.810Z"
   },
   {
    "duration": 24,
    "start_time": "2022-03-01T21:07:56.836Z"
   },
   {
    "duration": 30,
    "start_time": "2022-03-01T21:07:56.862Z"
   },
   {
    "duration": 43,
    "start_time": "2022-03-01T21:07:56.894Z"
   },
   {
    "duration": 29,
    "start_time": "2022-03-01T21:07:56.939Z"
   },
   {
    "duration": 41,
    "start_time": "2022-03-01T21:07:56.970Z"
   },
   {
    "duration": 1515,
    "start_time": "2022-03-01T21:07:57.013Z"
   },
   {
    "duration": 43,
    "start_time": "2022-03-01T21:07:58.530Z"
   },
   {
    "duration": 680,
    "start_time": "2022-03-03T14:40:39.157Z"
   },
   {
    "duration": 848,
    "start_time": "2022-03-03T14:40:43.146Z"
   },
   {
    "duration": 121,
    "start_time": "2022-03-03T14:40:43.997Z"
   },
   {
    "duration": 41,
    "start_time": "2022-03-03T14:40:44.121Z"
   },
   {
    "duration": 15,
    "start_time": "2022-03-03T14:40:44.165Z"
   },
   {
    "duration": 50,
    "start_time": "2022-03-03T14:40:44.183Z"
   },
   {
    "duration": 20,
    "start_time": "2022-03-03T14:40:44.236Z"
   },
   {
    "duration": 17,
    "start_time": "2022-03-03T14:40:44.259Z"
   },
   {
    "duration": 84,
    "start_time": "2022-03-03T14:40:44.281Z"
   },
   {
    "duration": 8,
    "start_time": "2022-03-03T14:40:44.369Z"
   },
   {
    "duration": 96,
    "start_time": "2022-03-03T14:40:44.380Z"
   },
   {
    "duration": 15,
    "start_time": "2022-03-03T14:40:44.478Z"
   },
   {
    "duration": 49,
    "start_time": "2022-03-03T14:40:44.495Z"
   },
   {
    "duration": 32,
    "start_time": "2022-03-03T14:40:44.547Z"
   },
   {
    "duration": 54,
    "start_time": "2022-03-03T14:40:44.582Z"
   },
   {
    "duration": 18,
    "start_time": "2022-03-03T14:40:44.639Z"
   },
   {
    "duration": 18,
    "start_time": "2022-03-03T14:40:44.660Z"
   },
   {
    "duration": 76,
    "start_time": "2022-03-03T14:40:44.680Z"
   },
   {
    "duration": 18,
    "start_time": "2022-03-03T14:40:44.758Z"
   },
   {
    "duration": 15,
    "start_time": "2022-03-03T14:40:44.779Z"
   },
   {
    "duration": 45,
    "start_time": "2022-03-03T14:40:44.796Z"
   },
   {
    "duration": 151,
    "start_time": "2022-03-03T14:40:44.844Z"
   },
   {
    "duration": 8,
    "start_time": "2022-03-03T14:40:44.998Z"
   },
   {
    "duration": 37,
    "start_time": "2022-03-03T14:40:45.011Z"
   },
   {
    "duration": 32,
    "start_time": "2022-03-03T14:40:45.051Z"
   },
   {
    "duration": 29,
    "start_time": "2022-03-03T14:40:45.087Z"
   },
   {
    "duration": 22,
    "start_time": "2022-03-03T14:40:45.119Z"
   },
   {
    "duration": 57,
    "start_time": "2022-03-03T14:40:45.144Z"
   },
   {
    "duration": 57,
    "start_time": "2022-03-03T14:40:45.204Z"
   },
   {
    "duration": 48,
    "start_time": "2022-03-03T14:40:45.264Z"
   },
   {
    "duration": 57,
    "start_time": "2022-03-03T14:40:45.315Z"
   },
   {
    "duration": 39,
    "start_time": "2022-03-03T14:40:45.374Z"
   },
   {
    "duration": 40,
    "start_time": "2022-03-03T14:40:45.433Z"
   },
   {
    "duration": 77,
    "start_time": "2022-03-03T14:40:45.475Z"
   },
   {
    "duration": 37,
    "start_time": "2022-03-03T14:40:45.555Z"
   },
   {
    "duration": 61,
    "start_time": "2022-03-03T14:40:45.595Z"
   },
   {
    "duration": 56,
    "start_time": "2022-03-03T14:40:45.661Z"
   },
   {
    "duration": 741,
    "start_time": "2022-03-03T14:40:45.720Z"
   },
   {
    "duration": 33,
    "start_time": "2022-03-03T14:40:46.464Z"
   },
   {
    "duration": 44,
    "start_time": "2022-03-03T14:40:47.098Z"
   },
   {
    "duration": 26,
    "start_time": "2022-03-03T14:41:05.970Z"
   },
   {
    "duration": 322,
    "start_time": "2022-03-03T14:42:17.427Z"
   },
   {
    "duration": 23,
    "start_time": "2022-03-03T14:42:31.861Z"
   },
   {
    "duration": 27,
    "start_time": "2022-03-03T14:42:34.284Z"
   },
   {
    "duration": 538,
    "start_time": "2022-03-03T14:42:47.841Z"
   },
   {
    "duration": 336,
    "start_time": "2022-03-03T14:42:56.300Z"
   },
   {
    "duration": 954,
    "start_time": "2022-03-03T14:45:38.458Z"
   },
   {
    "duration": 134,
    "start_time": "2022-03-03T14:45:39.415Z"
   },
   {
    "duration": 38,
    "start_time": "2022-03-03T14:45:39.552Z"
   },
   {
    "duration": 14,
    "start_time": "2022-03-03T14:45:39.593Z"
   },
   {
    "duration": 46,
    "start_time": "2022-03-03T14:45:39.609Z"
   },
   {
    "duration": 26,
    "start_time": "2022-03-03T14:45:39.659Z"
   },
   {
    "duration": 13,
    "start_time": "2022-03-03T14:45:39.688Z"
   },
   {
    "duration": 78,
    "start_time": "2022-03-03T14:45:39.704Z"
   },
   {
    "duration": 7,
    "start_time": "2022-03-03T14:45:39.787Z"
   },
   {
    "duration": 90,
    "start_time": "2022-03-03T14:45:39.797Z"
   },
   {
    "duration": 24,
    "start_time": "2022-03-03T14:45:39.890Z"
   },
   {
    "duration": 43,
    "start_time": "2022-03-03T14:45:39.917Z"
   },
   {
    "duration": 31,
    "start_time": "2022-03-03T14:45:39.963Z"
   },
   {
    "duration": 75,
    "start_time": "2022-03-03T14:45:39.997Z"
   },
   {
    "duration": 20,
    "start_time": "2022-03-03T14:45:40.077Z"
   },
   {
    "duration": 13,
    "start_time": "2022-03-03T14:45:40.099Z"
   },
   {
    "duration": 63,
    "start_time": "2022-03-03T14:45:40.114Z"
   },
   {
    "duration": 22,
    "start_time": "2022-03-03T14:45:40.181Z"
   },
   {
    "duration": 44,
    "start_time": "2022-03-03T14:45:40.206Z"
   },
   {
    "duration": 12,
    "start_time": "2022-03-03T14:45:40.253Z"
   },
   {
    "duration": 109,
    "start_time": "2022-03-03T14:45:40.268Z"
   },
   {
    "duration": 9,
    "start_time": "2022-03-03T14:45:40.379Z"
   },
   {
    "duration": 41,
    "start_time": "2022-03-03T14:45:40.391Z"
   },
   {
    "duration": 9,
    "start_time": "2022-03-03T14:45:40.435Z"
   },
   {
    "duration": 20,
    "start_time": "2022-03-03T14:45:40.446Z"
   },
   {
    "duration": 11,
    "start_time": "2022-03-03T14:45:40.468Z"
   },
   {
    "duration": 84,
    "start_time": "2022-03-03T14:45:40.493Z"
   },
   {
    "duration": 92,
    "start_time": "2022-03-03T14:45:40.580Z"
   },
   {
    "duration": 101,
    "start_time": "2022-03-03T14:45:40.674Z"
   },
   {
    "duration": 53,
    "start_time": "2022-03-03T14:45:40.832Z"
   },
   {
    "duration": 99,
    "start_time": "2022-03-03T14:45:40.887Z"
   },
   {
    "duration": 86,
    "start_time": "2022-03-03T14:45:40.988Z"
   },
   {
    "duration": 170,
    "start_time": "2022-03-03T14:45:41.076Z"
   },
   {
    "duration": 90,
    "start_time": "2022-03-03T14:45:41.253Z"
   },
   {
    "duration": 112,
    "start_time": "2022-03-03T14:45:41.346Z"
   },
   {
    "duration": 108,
    "start_time": "2022-03-03T14:45:41.461Z"
   },
   {
    "duration": 617,
    "start_time": "2022-03-03T14:45:41.572Z"
   },
   {
    "duration": 22,
    "start_time": "2022-03-03T14:45:42.192Z"
   },
   {
    "duration": 366,
    "start_time": "2022-03-03T14:45:42.233Z"
   },
   {
    "duration": 444,
    "start_time": "2022-03-03T14:45:42.601Z"
   },
   {
    "duration": 22,
    "start_time": "2022-03-03T14:45:43.049Z"
   },
   {
    "duration": 21,
    "start_time": "2022-03-03T14:45:43.074Z"
   },
   {
    "duration": 69,
    "start_time": "2022-03-03T14:45:43.097Z"
   },
   {
    "duration": 33,
    "start_time": "2022-03-03T14:45:43.169Z"
   },
   {
    "duration": 355,
    "start_time": "2022-03-03T14:45:43.204Z"
   },
   {
    "duration": 645,
    "start_time": "2022-03-03T14:45:43.562Z"
   },
   {
    "duration": 37,
    "start_time": "2022-03-03T14:45:44.210Z"
   },
   {
    "duration": 29,
    "start_time": "2022-03-03T14:45:44.249Z"
   },
   {
    "duration": 28,
    "start_time": "2022-03-03T14:45:44.281Z"
   },
   {
    "duration": 21,
    "start_time": "2022-03-03T14:45:44.311Z"
   },
   {
    "duration": 43,
    "start_time": "2022-03-03T14:45:44.334Z"
   },
   {
    "duration": 41,
    "start_time": "2022-03-03T14:45:44.380Z"
   },
   {
    "duration": 47,
    "start_time": "2022-03-03T14:45:44.424Z"
   },
   {
    "duration": 83,
    "start_time": "2022-03-03T14:45:44.474Z"
   },
   {
    "duration": 3089,
    "start_time": "2022-03-03T14:45:44.561Z"
   },
   {
    "duration": 100,
    "start_time": "2022-03-03T14:45:47.653Z"
   }
  ],
  "colab": {
   "name": "DA+. Сборный проект 1. Шаблон (1).ipynb",
   "provenance": []
  },
  "kernelspec": {
   "display_name": "Python 3 (ipykernel)",
   "language": "python",
   "name": "python3"
  },
  "language_info": {
   "codemirror_mode": {
    "name": "ipython",
    "version": 3
   },
   "file_extension": ".py",
   "mimetype": "text/x-python",
   "name": "python",
   "nbconvert_exporter": "python",
   "pygments_lexer": "ipython3",
   "version": "3.10.1"
  },
  "toc": {
   "base_numbering": 1,
   "nav_menu": {
    "height": "295px",
    "width": "502px"
   },
   "number_sections": true,
   "sideBar": true,
   "skip_h1_title": true,
   "title_cell": "Оглавление",
   "title_sidebar": "Contents",
   "toc_cell": true,
   "toc_position": {
    "height": "calc(100% - 180px)",
    "left": "10px",
    "top": "150px",
    "width": "269px"
   },
   "toc_section_display": true,
   "toc_window_display": true
  }
 },
 "nbformat": 4,
 "nbformat_minor": 1
}
