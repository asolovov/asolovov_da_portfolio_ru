{
 "cells": [
  {
   "cell_type": "markdown",
   "id": "9b2aa4ec",
   "metadata": {},
   "source": [
    "# Исследования результатов опроса по определнию лояльности клиентов"
   ]
  },
  {
   "cell_type": "markdown",
   "id": "1f44a458",
   "metadata": {},
   "source": [
    "Заказчик этого исследования — большая телекоммуникационная компания, которая оказывает услуги на территории всего СНГ. Перед компанией стоит задача определить текущий уровень потребительской лояльности, или NPS (от англ. Net Promoter Score), среди клиентов из России.\n",
    "\n",
    "Чтобы определить уровень лояльности, клиентам задавали классический вопрос: «Оцените по шкале от 1 до 10 вероятность того, что вы порекомендуете компанию друзьям и знакомым».\n",
    "\n",
    "Компания провела опрос и попросила вас подготовить дашборд с его итогами. Большую базу данных для такой задачи разворачивать не стали и выгрузили данные в SQLite."
   ]
  },
  {
   "cell_type": "markdown",
   "id": "df565c4b",
   "metadata": {
    "toc": true
   },
   "source": [
    "<h1>Оглавление<span class=\"tocSkip\"></span></h1>\n",
    "<div class=\"toc\"><ul class=\"toc-item\"><li><span><a href=\"#Знакомство-с-данными\" data-toc-modified-id=\"Знакомство-с-данными-1\"><span class=\"toc-item-num\">1&nbsp;&nbsp;</span>Знакомство с данными</a></span><ul class=\"toc-item\"><li><span><a href=\"#Таблица-user\" data-toc-modified-id=\"Таблица-user-1.1\"><span class=\"toc-item-num\">1.1&nbsp;&nbsp;</span>Таблица user</a></span></li><li><span><a href=\"#Таблица-location\" data-toc-modified-id=\"Таблица-location-1.2\"><span class=\"toc-item-num\">1.2&nbsp;&nbsp;</span>Таблица location</a></span></li><li><span><a href=\"#Таблица-age_segment\" data-toc-modified-id=\"Таблица-age_segment-1.3\"><span class=\"toc-item-num\">1.3&nbsp;&nbsp;</span>Таблица age_segment</a></span></li><li><span><a href=\"#Таблица-traffic_segment\" data-toc-modified-id=\"Таблица-traffic_segment-1.4\"><span class=\"toc-item-num\">1.4&nbsp;&nbsp;</span>Таблица traffic_segment</a></span></li><li><span><a href=\"#Таблица-lifetime_segment\" data-toc-modified-id=\"Таблица-lifetime_segment-1.5\"><span class=\"toc-item-num\">1.5&nbsp;&nbsp;</span>Таблица lifetime_segment</a></span></li><li><span><a href=\"#Выводы\" data-toc-modified-id=\"Выводы-1.6\"><span class=\"toc-item-num\">1.6&nbsp;&nbsp;</span>Выводы</a></span></li></ul></li><li><span><a href=\"#Формирование-SQL-запроса\" data-toc-modified-id=\"Формирование-SQL-запроса-2\"><span class=\"toc-item-num\">2&nbsp;&nbsp;</span>Формирование SQL запроса</a></span></li><li><span><a href=\"#Дэшборд-Tablaeu\" data-toc-modified-id=\"Дэшборд-Tablaeu-3\"><span class=\"toc-item-num\">3&nbsp;&nbsp;</span>Дэшборд Tablaeu</a></span></li><li><span><a href=\"#Презентация\" data-toc-modified-id=\"Презентация-4\"><span class=\"toc-item-num\">4&nbsp;&nbsp;</span>Презентация</a></span></li></ul></div>"
   ]
  },
  {
   "cell_type": "markdown",
   "id": "69077bc7",
   "metadata": {},
   "source": [
    "## Знакомство с данными"
   ]
  },
  {
   "cell_type": "code",
   "execution_count": 1,
   "id": "66df671d",
   "metadata": {
    "tags": [
     "aa81075c-062f-4de0-b5fe-14c73dc7468e"
    ]
   },
   "outputs": [],
   "source": [
    "import pandas as pd\n",
    "import numpy as np\n",
    "from sqlalchemy import create_engine"
   ]
  },
  {
   "cell_type": "markdown",
   "id": "36716c03",
   "metadata": {},
   "source": [
    "Данные находятся в SQL базе `telecomm_csi.db`. Откроем ее и посмотрим на таблицы"
   ]
  },
  {
   "cell_type": "code",
   "execution_count": 2,
   "id": "013b988e",
   "metadata": {},
   "outputs": [],
   "source": [
    "path_to_db = '/datasets/telecomm_csi.db'\n",
    "engine = create_engine(f'sqlite:///{path_to_db}', echo = False)"
   ]
  },
  {
   "cell_type": "markdown",
   "id": "21d15361",
   "metadata": {},
   "source": [
    "### Таблица user"
   ]
  },
  {
   "cell_type": "markdown",
   "id": "2875abc3",
   "metadata": {},
   "source": [
    "Сначала посмотрим на таблицу `user`"
   ]
  },
  {
   "cell_type": "code",
   "execution_count": 3,
   "id": "eda39d24",
   "metadata": {},
   "outputs": [
    {
     "data": {
      "text/html": [
       "<div>\n",
       "<style scoped>\n",
       "    .dataframe tbody tr th:only-of-type {\n",
       "        vertical-align: middle;\n",
       "    }\n",
       "\n",
       "    .dataframe tbody tr th {\n",
       "        vertical-align: top;\n",
       "    }\n",
       "\n",
       "    .dataframe thead th {\n",
       "        text-align: right;\n",
       "    }\n",
       "</style>\n",
       "<table border=\"1\" class=\"dataframe\">\n",
       "  <thead>\n",
       "    <tr style=\"text-align: right;\">\n",
       "      <th></th>\n",
       "      <th>user_id</th>\n",
       "      <th>lt_day</th>\n",
       "      <th>age</th>\n",
       "      <th>gender_segment</th>\n",
       "      <th>os_name</th>\n",
       "      <th>cpe_type_name</th>\n",
       "      <th>location_id</th>\n",
       "      <th>age_gr_id</th>\n",
       "      <th>tr_gr_id</th>\n",
       "      <th>lt_gr_id</th>\n",
       "      <th>nps_score</th>\n",
       "    </tr>\n",
       "  </thead>\n",
       "  <tbody>\n",
       "    <tr>\n",
       "      <th>0</th>\n",
       "      <td>A001A2</td>\n",
       "      <td>2320</td>\n",
       "      <td>45.0</td>\n",
       "      <td>1.0</td>\n",
       "      <td>ANDROID</td>\n",
       "      <td>SMARTPHONE</td>\n",
       "      <td>55</td>\n",
       "      <td>5</td>\n",
       "      <td>5</td>\n",
       "      <td>8</td>\n",
       "      <td>10</td>\n",
       "    </tr>\n",
       "    <tr>\n",
       "      <th>1</th>\n",
       "      <td>A001WF</td>\n",
       "      <td>2344</td>\n",
       "      <td>53.0</td>\n",
       "      <td>0.0</td>\n",
       "      <td>ANDROID</td>\n",
       "      <td>SMARTPHONE</td>\n",
       "      <td>21</td>\n",
       "      <td>5</td>\n",
       "      <td>5</td>\n",
       "      <td>8</td>\n",
       "      <td>10</td>\n",
       "    </tr>\n",
       "    <tr>\n",
       "      <th>2</th>\n",
       "      <td>A003Q7</td>\n",
       "      <td>467</td>\n",
       "      <td>57.0</td>\n",
       "      <td>0.0</td>\n",
       "      <td>ANDROID</td>\n",
       "      <td>SMARTPHONE</td>\n",
       "      <td>28</td>\n",
       "      <td>6</td>\n",
       "      <td>9</td>\n",
       "      <td>6</td>\n",
       "      <td>10</td>\n",
       "    </tr>\n",
       "    <tr>\n",
       "      <th>3</th>\n",
       "      <td>A004TB</td>\n",
       "      <td>4190</td>\n",
       "      <td>44.0</td>\n",
       "      <td>1.0</td>\n",
       "      <td>IOS</td>\n",
       "      <td>SMARTPHONE</td>\n",
       "      <td>38</td>\n",
       "      <td>4</td>\n",
       "      <td>4</td>\n",
       "      <td>8</td>\n",
       "      <td>10</td>\n",
       "    </tr>\n",
       "    <tr>\n",
       "      <th>4</th>\n",
       "      <td>A004XT</td>\n",
       "      <td>1163</td>\n",
       "      <td>24.0</td>\n",
       "      <td>0.0</td>\n",
       "      <td>ANDROID</td>\n",
       "      <td>SMARTPHONE</td>\n",
       "      <td>39</td>\n",
       "      <td>2</td>\n",
       "      <td>6</td>\n",
       "      <td>8</td>\n",
       "      <td>10</td>\n",
       "    </tr>\n",
       "    <tr>\n",
       "      <th>5</th>\n",
       "      <td>A005O0</td>\n",
       "      <td>5501</td>\n",
       "      <td>42.0</td>\n",
       "      <td>1.0</td>\n",
       "      <td>ANDROID</td>\n",
       "      <td>SMARTPHONE</td>\n",
       "      <td>34</td>\n",
       "      <td>4</td>\n",
       "      <td>6</td>\n",
       "      <td>8</td>\n",
       "      <td>6</td>\n",
       "    </tr>\n",
       "    <tr>\n",
       "      <th>6</th>\n",
       "      <td>A0061R</td>\n",
       "      <td>1236</td>\n",
       "      <td>45.0</td>\n",
       "      <td>0.0</td>\n",
       "      <td>ANDROID</td>\n",
       "      <td>SMARTPHONE</td>\n",
       "      <td>55</td>\n",
       "      <td>5</td>\n",
       "      <td>7</td>\n",
       "      <td>8</td>\n",
       "      <td>10</td>\n",
       "    </tr>\n",
       "    <tr>\n",
       "      <th>7</th>\n",
       "      <td>A009KS</td>\n",
       "      <td>313</td>\n",
       "      <td>35.0</td>\n",
       "      <td>0.0</td>\n",
       "      <td>ANDROID</td>\n",
       "      <td>SMARTPHONE</td>\n",
       "      <td>28</td>\n",
       "      <td>4</td>\n",
       "      <td>14</td>\n",
       "      <td>5</td>\n",
       "      <td>10</td>\n",
       "    </tr>\n",
       "    <tr>\n",
       "      <th>8</th>\n",
       "      <td>A00AES</td>\n",
       "      <td>3238</td>\n",
       "      <td>36.0</td>\n",
       "      <td>1.0</td>\n",
       "      <td>ANDROID</td>\n",
       "      <td>SMARTPHONE</td>\n",
       "      <td>41</td>\n",
       "      <td>4</td>\n",
       "      <td>5</td>\n",
       "      <td>8</td>\n",
       "      <td>10</td>\n",
       "    </tr>\n",
       "    <tr>\n",
       "      <th>9</th>\n",
       "      <td>A00F70</td>\n",
       "      <td>4479</td>\n",
       "      <td>54.0</td>\n",
       "      <td>1.0</td>\n",
       "      <td>ANDROID</td>\n",
       "      <td>SMARTPHONE</td>\n",
       "      <td>9</td>\n",
       "      <td>5</td>\n",
       "      <td>8</td>\n",
       "      <td>8</td>\n",
       "      <td>9</td>\n",
       "    </tr>\n",
       "  </tbody>\n",
       "</table>\n",
       "</div>"
      ],
      "text/plain": [
       "  user_id  lt_day   age  gender_segment  os_name cpe_type_name  location_id  \\\n",
       "0  A001A2    2320  45.0             1.0  ANDROID    SMARTPHONE           55   \n",
       "1  A001WF    2344  53.0             0.0  ANDROID    SMARTPHONE           21   \n",
       "2  A003Q7     467  57.0             0.0  ANDROID    SMARTPHONE           28   \n",
       "3  A004TB    4190  44.0             1.0      IOS    SMARTPHONE           38   \n",
       "4  A004XT    1163  24.0             0.0  ANDROID    SMARTPHONE           39   \n",
       "5  A005O0    5501  42.0             1.0  ANDROID    SMARTPHONE           34   \n",
       "6  A0061R    1236  45.0             0.0  ANDROID    SMARTPHONE           55   \n",
       "7  A009KS     313  35.0             0.0  ANDROID    SMARTPHONE           28   \n",
       "8  A00AES    3238  36.0             1.0  ANDROID    SMARTPHONE           41   \n",
       "9  A00F70    4479  54.0             1.0  ANDROID    SMARTPHONE            9   \n",
       "\n",
       "   age_gr_id  tr_gr_id  lt_gr_id  nps_score  \n",
       "0          5         5         8         10  \n",
       "1          5         5         8         10  \n",
       "2          6         9         6         10  \n",
       "3          4         4         8         10  \n",
       "4          2         6         8         10  \n",
       "5          4         6         8          6  \n",
       "6          5         7         8         10  \n",
       "7          4        14         5         10  \n",
       "8          4         5         8         10  \n",
       "9          5         8         8          9  "
      ]
     },
     "execution_count": 3,
     "metadata": {},
     "output_type": "execute_result"
    }
   ],
   "source": [
    "user = pd.read_sql('SELECT * FROM user;', engine)\n",
    "user.head(10)"
   ]
  },
  {
   "cell_type": "markdown",
   "id": "76595534",
   "metadata": {},
   "source": [
    "Это основная таблица, с которой мы будем работать. Она содержит информацию о показателе `nps_score` который нам необходимо исследовать, остальные таблицы дают нам информацию о расшифровке столбцов с `_id` в названии и с помощью запроса будут присоединены к основной.\n",
    "\n",
    "Посмотрим обшую информацию\n",
    "\n",
    "Техническим задание требуется расшифровать заначения столбца `gender_segment` для лучшей читабельности. В описании к базе данных сказано, что 1 означает \"женщина\", а 2 \"мужчина\". Проверим, что в столбце нет лишних значений"
   ]
  },
  {
   "cell_type": "code",
   "execution_count": 4,
   "id": "3f6abcd0",
   "metadata": {},
   "outputs": [
    {
     "name": "stdout",
     "output_type": "stream",
     "text": [
      "<class 'pandas.core.frame.DataFrame'>\n",
      "RangeIndex: 502493 entries, 0 to 502492\n",
      "Data columns (total 11 columns):\n",
      " #   Column          Non-Null Count   Dtype  \n",
      "---  ------          --------------   -----  \n",
      " 0   user_id         502493 non-null  object \n",
      " 1   lt_day          502493 non-null  int64  \n",
      " 2   age             501939 non-null  float64\n",
      " 3   gender_segment  501192 non-null  float64\n",
      " 4   os_name         502493 non-null  object \n",
      " 5   cpe_type_name   502493 non-null  object \n",
      " 6   location_id     502493 non-null  int64  \n",
      " 7   age_gr_id       502493 non-null  int64  \n",
      " 8   tr_gr_id        502493 non-null  int64  \n",
      " 9   lt_gr_id        502493 non-null  int64  \n",
      " 10  nps_score       502493 non-null  int64  \n",
      "dtypes: float64(2), int64(6), object(3)\n",
      "memory usage: 42.2+ MB\n"
     ]
    },
    {
     "data": {
      "text/html": [
       "<div>\n",
       "<style scoped>\n",
       "    .dataframe tbody tr th:only-of-type {\n",
       "        vertical-align: middle;\n",
       "    }\n",
       "\n",
       "    .dataframe tbody tr th {\n",
       "        vertical-align: top;\n",
       "    }\n",
       "\n",
       "    .dataframe thead th {\n",
       "        text-align: right;\n",
       "    }\n",
       "</style>\n",
       "<table border=\"1\" class=\"dataframe\">\n",
       "  <thead>\n",
       "    <tr style=\"text-align: right;\">\n",
       "      <th></th>\n",
       "      <th>count</th>\n",
       "      <th>mean</th>\n",
       "      <th>std</th>\n",
       "      <th>min</th>\n",
       "      <th>25%</th>\n",
       "      <th>50%</th>\n",
       "      <th>75%</th>\n",
       "      <th>max</th>\n",
       "    </tr>\n",
       "  </thead>\n",
       "  <tbody>\n",
       "    <tr>\n",
       "      <th>lt_day</th>\n",
       "      <td>502493.0</td>\n",
       "      <td>1868.841439</td>\n",
       "      <td>1683.701762</td>\n",
       "      <td>-21.0</td>\n",
       "      <td>533.0</td>\n",
       "      <td>1239.0</td>\n",
       "      <td>3064.0</td>\n",
       "      <td>9162.0</td>\n",
       "    </tr>\n",
       "    <tr>\n",
       "      <th>age</th>\n",
       "      <td>501939.0</td>\n",
       "      <td>39.621946</td>\n",
       "      <td>11.188249</td>\n",
       "      <td>10.0</td>\n",
       "      <td>31.0</td>\n",
       "      <td>38.0</td>\n",
       "      <td>47.0</td>\n",
       "      <td>89.0</td>\n",
       "    </tr>\n",
       "    <tr>\n",
       "      <th>gender_segment</th>\n",
       "      <td>501192.0</td>\n",
       "      <td>0.543588</td>\n",
       "      <td>0.498097</td>\n",
       "      <td>0.0</td>\n",
       "      <td>0.0</td>\n",
       "      <td>1.0</td>\n",
       "      <td>1.0</td>\n",
       "      <td>1.0</td>\n",
       "    </tr>\n",
       "    <tr>\n",
       "      <th>location_id</th>\n",
       "      <td>502493.0</td>\n",
       "      <td>31.237321</td>\n",
       "      <td>15.175477</td>\n",
       "      <td>1.0</td>\n",
       "      <td>20.0</td>\n",
       "      <td>30.0</td>\n",
       "      <td>41.0</td>\n",
       "      <td>62.0</td>\n",
       "    </tr>\n",
       "    <tr>\n",
       "      <th>age_gr_id</th>\n",
       "      <td>502493.0</td>\n",
       "      <td>4.011045</td>\n",
       "      <td>1.159203</td>\n",
       "      <td>1.0</td>\n",
       "      <td>3.0</td>\n",
       "      <td>4.0</td>\n",
       "      <td>5.0</td>\n",
       "      <td>8.0</td>\n",
       "    </tr>\n",
       "    <tr>\n",
       "      <th>tr_gr_id</th>\n",
       "      <td>502493.0</td>\n",
       "      <td>8.518290</td>\n",
       "      <td>4.645900</td>\n",
       "      <td>1.0</td>\n",
       "      <td>5.0</td>\n",
       "      <td>7.0</td>\n",
       "      <td>10.0</td>\n",
       "      <td>25.0</td>\n",
       "    </tr>\n",
       "    <tr>\n",
       "      <th>lt_gr_id</th>\n",
       "      <td>502493.0</td>\n",
       "      <td>6.890339</td>\n",
       "      <td>1.525189</td>\n",
       "      <td>1.0</td>\n",
       "      <td>6.0</td>\n",
       "      <td>8.0</td>\n",
       "      <td>8.0</td>\n",
       "      <td>8.0</td>\n",
       "    </tr>\n",
       "    <tr>\n",
       "      <th>nps_score</th>\n",
       "      <td>502493.0</td>\n",
       "      <td>7.508562</td>\n",
       "      <td>3.020378</td>\n",
       "      <td>1.0</td>\n",
       "      <td>5.0</td>\n",
       "      <td>9.0</td>\n",
       "      <td>10.0</td>\n",
       "      <td>10.0</td>\n",
       "    </tr>\n",
       "  </tbody>\n",
       "</table>\n",
       "</div>"
      ],
      "text/plain": [
       "                   count         mean          std   min    25%     50%  \\\n",
       "lt_day          502493.0  1868.841439  1683.701762 -21.0  533.0  1239.0   \n",
       "age             501939.0    39.621946    11.188249  10.0   31.0    38.0   \n",
       "gender_segment  501192.0     0.543588     0.498097   0.0    0.0     1.0   \n",
       "location_id     502493.0    31.237321    15.175477   1.0   20.0    30.0   \n",
       "age_gr_id       502493.0     4.011045     1.159203   1.0    3.0     4.0   \n",
       "tr_gr_id        502493.0     8.518290     4.645900   1.0    5.0     7.0   \n",
       "lt_gr_id        502493.0     6.890339     1.525189   1.0    6.0     8.0   \n",
       "nps_score       502493.0     7.508562     3.020378   1.0    5.0     9.0   \n",
       "\n",
       "                   75%     max  \n",
       "lt_day          3064.0  9162.0  \n",
       "age               47.0    89.0  \n",
       "gender_segment     1.0     1.0  \n",
       "location_id       41.0    62.0  \n",
       "age_gr_id          5.0     8.0  \n",
       "tr_gr_id          10.0    25.0  \n",
       "lt_gr_id           8.0     8.0  \n",
       "nps_score         10.0    10.0  "
      ]
     },
     "execution_count": 4,
     "metadata": {},
     "output_type": "execute_result"
    }
   ],
   "source": [
    "user.info()\n",
    "user.describe().T"
   ]
  },
  {
   "cell_type": "markdown",
   "id": "53359dbf",
   "metadata": {},
   "source": [
    "Присутствуют пропуски в столбцах `age` и `gender_segment`. Первое для нас не критично, так как сегментацию по возрасту мы будем смотреть через поле `age_gr_id` в таблице `age_segment`. \n",
    "\n",
    "В процессе формирования SQL запроса необходимо учесть, что в поле `gender_segment` помимо очевидных \"мужчина\" и \"женщина\" есть значение \"нет данных\". Таких значений менее 1% от всей выборки. Для анализа эти данные вряд ли пригодяться, поэтому принимаем решение удалить их. Проверим, нет ли других значений в этом столбце."
   ]
  },
  {
   "cell_type": "code",
   "execution_count": 5,
   "id": "1612865c",
   "metadata": {},
   "outputs": [
    {
     "data": {
      "text/plain": [
       "1.0    272442\n",
       "0.0    228750\n",
       "Name: gender_segment, dtype: int64"
      ]
     },
     "execution_count": 5,
     "metadata": {},
     "output_type": "execute_result"
    }
   ],
   "source": [
    "user.gender_segment.value_counts()"
   ]
  },
  {
   "cell_type": "markdown",
   "id": "66595880",
   "metadata": {},
   "source": [
    "Все в порядке. А еще мы знаем, что женщин и мужчин примерно поровну с небольшим преимуществом у первых.\n",
    "\n",
    "Также с помощью `.describe()` в поле `lt_day` обнаружены отрицательные значения. Техническим заданием к исследованию запрещается использовать python для преобразования данных, но для принятия решения, что делать с этими данными, необходимо понять сколько их. Посмотрим на столбец."
   ]
  },
  {
   "cell_type": "code",
   "execution_count": 6,
   "id": "4f6b12fb",
   "metadata": {
    "scrolled": false
   },
   "outputs": [
    {
     "data": {
      "text/html": [
       "<div>\n",
       "<style scoped>\n",
       "    .dataframe tbody tr th:only-of-type {\n",
       "        vertical-align: middle;\n",
       "    }\n",
       "\n",
       "    .dataframe tbody tr th {\n",
       "        vertical-align: top;\n",
       "    }\n",
       "\n",
       "    .dataframe thead th {\n",
       "        text-align: right;\n",
       "    }\n",
       "</style>\n",
       "<table border=\"1\" class=\"dataframe\">\n",
       "  <thead>\n",
       "    <tr style=\"text-align: right;\">\n",
       "      <th></th>\n",
       "      <th>user_id</th>\n",
       "      <th>lt_day</th>\n",
       "      <th>age</th>\n",
       "      <th>gender_segment</th>\n",
       "      <th>os_name</th>\n",
       "      <th>cpe_type_name</th>\n",
       "      <th>location_id</th>\n",
       "      <th>age_gr_id</th>\n",
       "      <th>tr_gr_id</th>\n",
       "      <th>lt_gr_id</th>\n",
       "      <th>nps_score</th>\n",
       "    </tr>\n",
       "  </thead>\n",
       "  <tbody>\n",
       "    <tr>\n",
       "      <th>7666</th>\n",
       "      <td>AEAC2R</td>\n",
       "      <td>-8</td>\n",
       "      <td>NaN</td>\n",
       "      <td>NaN</td>\n",
       "      <td>ANDROID</td>\n",
       "      <td>SMARTPHONE</td>\n",
       "      <td>50</td>\n",
       "      <td>8</td>\n",
       "      <td>8</td>\n",
       "      <td>8</td>\n",
       "      <td>1</td>\n",
       "    </tr>\n",
       "    <tr>\n",
       "      <th>53997</th>\n",
       "      <td>CS0HF8</td>\n",
       "      <td>-2</td>\n",
       "      <td>NaN</td>\n",
       "      <td>NaN</td>\n",
       "      <td>ANDROID</td>\n",
       "      <td>SMARTPHONE</td>\n",
       "      <td>15</td>\n",
       "      <td>8</td>\n",
       "      <td>9</td>\n",
       "      <td>8</td>\n",
       "      <td>10</td>\n",
       "    </tr>\n",
       "    <tr>\n",
       "      <th>71577</th>\n",
       "      <td>DORPT2</td>\n",
       "      <td>-4</td>\n",
       "      <td>NaN</td>\n",
       "      <td>NaN</td>\n",
       "      <td>ANDROID</td>\n",
       "      <td>SMARTPHONE</td>\n",
       "      <td>28</td>\n",
       "      <td>8</td>\n",
       "      <td>9</td>\n",
       "      <td>8</td>\n",
       "      <td>4</td>\n",
       "    </tr>\n",
       "    <tr>\n",
       "      <th>100152</th>\n",
       "      <td>F5O3CG</td>\n",
       "      <td>-21</td>\n",
       "      <td>NaN</td>\n",
       "      <td>NaN</td>\n",
       "      <td>ANDROID</td>\n",
       "      <td>SMARTPHONE</td>\n",
       "      <td>60</td>\n",
       "      <td>8</td>\n",
       "      <td>12</td>\n",
       "      <td>8</td>\n",
       "      <td>7</td>\n",
       "    </tr>\n",
       "    <tr>\n",
       "      <th>228087</th>\n",
       "      <td>LSE939</td>\n",
       "      <td>-13</td>\n",
       "      <td>NaN</td>\n",
       "      <td>NaN</td>\n",
       "      <td>ANDROID</td>\n",
       "      <td>SMARTPHONE</td>\n",
       "      <td>22</td>\n",
       "      <td>8</td>\n",
       "      <td>8</td>\n",
       "      <td>8</td>\n",
       "      <td>1</td>\n",
       "    </tr>\n",
       "    <tr>\n",
       "      <th>325212</th>\n",
       "      <td>QTT7IR</td>\n",
       "      <td>-13</td>\n",
       "      <td>NaN</td>\n",
       "      <td>NaN</td>\n",
       "      <td>IOS</td>\n",
       "      <td>SMARTPHONE</td>\n",
       "      <td>28</td>\n",
       "      <td>8</td>\n",
       "      <td>7</td>\n",
       "      <td>8</td>\n",
       "      <td>7</td>\n",
       "    </tr>\n",
       "    <tr>\n",
       "      <th>347784</th>\n",
       "      <td>RZUS6H</td>\n",
       "      <td>-6</td>\n",
       "      <td>NaN</td>\n",
       "      <td>NaN</td>\n",
       "      <td>ANDROID</td>\n",
       "      <td>SMARTPHONE</td>\n",
       "      <td>23</td>\n",
       "      <td>8</td>\n",
       "      <td>11</td>\n",
       "      <td>8</td>\n",
       "      <td>3</td>\n",
       "    </tr>\n",
       "    <tr>\n",
       "      <th>385897</th>\n",
       "      <td>TYWQW4</td>\n",
       "      <td>-12</td>\n",
       "      <td>NaN</td>\n",
       "      <td>NaN</td>\n",
       "      <td>IOS</td>\n",
       "      <td>SMARTPHONE</td>\n",
       "      <td>33</td>\n",
       "      <td>8</td>\n",
       "      <td>5</td>\n",
       "      <td>8</td>\n",
       "      <td>5</td>\n",
       "    </tr>\n",
       "    <tr>\n",
       "      <th>401226</th>\n",
       "      <td>URKAFI</td>\n",
       "      <td>-11</td>\n",
       "      <td>NaN</td>\n",
       "      <td>NaN</td>\n",
       "      <td>ANDROID</td>\n",
       "      <td>SMARTPHONE</td>\n",
       "      <td>30</td>\n",
       "      <td>8</td>\n",
       "      <td>7</td>\n",
       "      <td>8</td>\n",
       "      <td>8</td>\n",
       "    </tr>\n",
       "    <tr>\n",
       "      <th>407160</th>\n",
       "      <td>V2GNK2</td>\n",
       "      <td>-13</td>\n",
       "      <td>NaN</td>\n",
       "      <td>NaN</td>\n",
       "      <td>IOS</td>\n",
       "      <td>SMARTPHONE</td>\n",
       "      <td>38</td>\n",
       "      <td>8</td>\n",
       "      <td>8</td>\n",
       "      <td>8</td>\n",
       "      <td>5</td>\n",
       "    </tr>\n",
       "    <tr>\n",
       "      <th>425927</th>\n",
       "      <td>W17RFH</td>\n",
       "      <td>-1</td>\n",
       "      <td>NaN</td>\n",
       "      <td>NaN</td>\n",
       "      <td>ANDROID</td>\n",
       "      <td>SMARTPHONE</td>\n",
       "      <td>28</td>\n",
       "      <td>8</td>\n",
       "      <td>5</td>\n",
       "      <td>8</td>\n",
       "      <td>5</td>\n",
       "    </tr>\n",
       "    <tr>\n",
       "      <th>455359</th>\n",
       "      <td>XKF9SN</td>\n",
       "      <td>-12</td>\n",
       "      <td>NaN</td>\n",
       "      <td>NaN</td>\n",
       "      <td>ANDROID</td>\n",
       "      <td>SMARTPHONE</td>\n",
       "      <td>55</td>\n",
       "      <td>8</td>\n",
       "      <td>25</td>\n",
       "      <td>8</td>\n",
       "      <td>9</td>\n",
       "    </tr>\n",
       "    <tr>\n",
       "      <th>492382</th>\n",
       "      <td>ZGUUY9</td>\n",
       "      <td>-7</td>\n",
       "      <td>NaN</td>\n",
       "      <td>NaN</td>\n",
       "      <td>ANDROID</td>\n",
       "      <td>SMARTPHONE</td>\n",
       "      <td>23</td>\n",
       "      <td>8</td>\n",
       "      <td>6</td>\n",
       "      <td>8</td>\n",
       "      <td>8</td>\n",
       "    </tr>\n",
       "  </tbody>\n",
       "</table>\n",
       "</div>"
      ],
      "text/plain": [
       "       user_id  lt_day  age  gender_segment  os_name cpe_type_name  \\\n",
       "7666    AEAC2R      -8  NaN             NaN  ANDROID    SMARTPHONE   \n",
       "53997   CS0HF8      -2  NaN             NaN  ANDROID    SMARTPHONE   \n",
       "71577   DORPT2      -4  NaN             NaN  ANDROID    SMARTPHONE   \n",
       "100152  F5O3CG     -21  NaN             NaN  ANDROID    SMARTPHONE   \n",
       "228087  LSE939     -13  NaN             NaN  ANDROID    SMARTPHONE   \n",
       "325212  QTT7IR     -13  NaN             NaN      IOS    SMARTPHONE   \n",
       "347784  RZUS6H      -6  NaN             NaN  ANDROID    SMARTPHONE   \n",
       "385897  TYWQW4     -12  NaN             NaN      IOS    SMARTPHONE   \n",
       "401226  URKAFI     -11  NaN             NaN  ANDROID    SMARTPHONE   \n",
       "407160  V2GNK2     -13  NaN             NaN      IOS    SMARTPHONE   \n",
       "425927  W17RFH      -1  NaN             NaN  ANDROID    SMARTPHONE   \n",
       "455359  XKF9SN     -12  NaN             NaN  ANDROID    SMARTPHONE   \n",
       "492382  ZGUUY9      -7  NaN             NaN  ANDROID    SMARTPHONE   \n",
       "\n",
       "        location_id  age_gr_id  tr_gr_id  lt_gr_id  nps_score  \n",
       "7666             50          8         8         8          1  \n",
       "53997            15          8         9         8         10  \n",
       "71577            28          8         9         8          4  \n",
       "100152           60          8        12         8          7  \n",
       "228087           22          8         8         8          1  \n",
       "325212           28          8         7         8          7  \n",
       "347784           23          8        11         8          3  \n",
       "385897           33          8         5         8          5  \n",
       "401226           30          8         7         8          8  \n",
       "407160           38          8         8         8          5  \n",
       "425927           28          8         5         8          5  \n",
       "455359           55          8        25         8          9  \n",
       "492382           23          8         6         8          8  "
      ]
     },
     "execution_count": 6,
     "metadata": {},
     "output_type": "execute_result"
    }
   ],
   "source": [
    "user.query('lt_day < 0')"
   ]
  },
  {
   "cell_type": "markdown",
   "id": "a7e9a516",
   "metadata": {},
   "source": [
    "Всего 11 значений. В процессе формирования SQL запроса избавимся от них."
   ]
  },
  {
   "cell_type": "markdown",
   "id": "d015ded5",
   "metadata": {},
   "source": [
    "### Таблица location"
   ]
  },
  {
   "cell_type": "code",
   "execution_count": 7,
   "id": "771f93d2",
   "metadata": {},
   "outputs": [
    {
     "data": {
      "text/html": [
       "<div>\n",
       "<style scoped>\n",
       "    .dataframe tbody tr th:only-of-type {\n",
       "        vertical-align: middle;\n",
       "    }\n",
       "\n",
       "    .dataframe tbody tr th {\n",
       "        vertical-align: top;\n",
       "    }\n",
       "\n",
       "    .dataframe thead th {\n",
       "        text-align: right;\n",
       "    }\n",
       "</style>\n",
       "<table border=\"1\" class=\"dataframe\">\n",
       "  <thead>\n",
       "    <tr style=\"text-align: right;\">\n",
       "      <th></th>\n",
       "      <th>location_id</th>\n",
       "      <th>city</th>\n",
       "      <th>country</th>\n",
       "    </tr>\n",
       "  </thead>\n",
       "  <tbody>\n",
       "    <tr>\n",
       "      <th>0</th>\n",
       "      <td>1</td>\n",
       "      <td>Архангельск</td>\n",
       "      <td>Россия</td>\n",
       "    </tr>\n",
       "    <tr>\n",
       "      <th>1</th>\n",
       "      <td>2</td>\n",
       "      <td>Астрахань</td>\n",
       "      <td>Россия</td>\n",
       "    </tr>\n",
       "    <tr>\n",
       "      <th>2</th>\n",
       "      <td>3</td>\n",
       "      <td>Балашиха</td>\n",
       "      <td>Россия</td>\n",
       "    </tr>\n",
       "    <tr>\n",
       "      <th>3</th>\n",
       "      <td>4</td>\n",
       "      <td>Барнаул</td>\n",
       "      <td>Россия</td>\n",
       "    </tr>\n",
       "    <tr>\n",
       "      <th>4</th>\n",
       "      <td>5</td>\n",
       "      <td>Белгород</td>\n",
       "      <td>Россия</td>\n",
       "    </tr>\n",
       "    <tr>\n",
       "      <th>5</th>\n",
       "      <td>6</td>\n",
       "      <td>Брянск</td>\n",
       "      <td>Россия</td>\n",
       "    </tr>\n",
       "    <tr>\n",
       "      <th>6</th>\n",
       "      <td>7</td>\n",
       "      <td>Владивосток</td>\n",
       "      <td>Россия</td>\n",
       "    </tr>\n",
       "    <tr>\n",
       "      <th>7</th>\n",
       "      <td>8</td>\n",
       "      <td>Владимир</td>\n",
       "      <td>Россия</td>\n",
       "    </tr>\n",
       "    <tr>\n",
       "      <th>8</th>\n",
       "      <td>9</td>\n",
       "      <td>Волгоград</td>\n",
       "      <td>Россия</td>\n",
       "    </tr>\n",
       "    <tr>\n",
       "      <th>9</th>\n",
       "      <td>10</td>\n",
       "      <td>Волжский</td>\n",
       "      <td>Россия</td>\n",
       "    </tr>\n",
       "  </tbody>\n",
       "</table>\n",
       "</div>"
      ],
      "text/plain": [
       "   location_id         city country\n",
       "0            1  Архангельск  Россия\n",
       "1            2    Астрахань  Россия\n",
       "2            3     Балашиха  Россия\n",
       "3            4      Барнаул  Россия\n",
       "4            5     Белгород  Россия\n",
       "5            6       Брянск  Россия\n",
       "6            7  Владивосток  Россия\n",
       "7            8     Владимир  Россия\n",
       "8            9    Волгоград  Россия\n",
       "9           10     Волжский  Россия"
      ]
     },
     "execution_count": 7,
     "metadata": {},
     "output_type": "execute_result"
    }
   ],
   "source": [
    "location = pd.read_sql('SELECT * FROM location;', engine)\n",
    "location.head(10)"
   ]
  },
  {
   "cell_type": "markdown",
   "id": "5835c501",
   "metadata": {},
   "source": [
    "Название город и стран, все понятно. Посмотрим, в каких странах проводили опрос"
   ]
  },
  {
   "cell_type": "code",
   "execution_count": 8,
   "id": "09ec8be5",
   "metadata": {},
   "outputs": [
    {
     "data": {
      "text/plain": [
       "Россия    62\n",
       "Name: country, dtype: int64"
      ]
     },
     "execution_count": 8,
     "metadata": {},
     "output_type": "execute_result"
    }
   ],
   "source": [
    "location.country.value_counts()"
   ]
  },
  {
   "cell_type": "markdown",
   "id": "c3fa8e81",
   "metadata": {},
   "source": [
    "Теперь мы знаем, что опрос проводили только в России в 62 городах. Посмотрим на таблицу с возрастными категориями."
   ]
  },
  {
   "cell_type": "markdown",
   "id": "19d426ec",
   "metadata": {},
   "source": [
    "### Таблица age_segment"
   ]
  },
  {
   "cell_type": "code",
   "execution_count": 9,
   "id": "9d959e0f",
   "metadata": {},
   "outputs": [
    {
     "data": {
      "text/html": [
       "<div>\n",
       "<style scoped>\n",
       "    .dataframe tbody tr th:only-of-type {\n",
       "        vertical-align: middle;\n",
       "    }\n",
       "\n",
       "    .dataframe tbody tr th {\n",
       "        vertical-align: top;\n",
       "    }\n",
       "\n",
       "    .dataframe thead th {\n",
       "        text-align: right;\n",
       "    }\n",
       "</style>\n",
       "<table border=\"1\" class=\"dataframe\">\n",
       "  <thead>\n",
       "    <tr style=\"text-align: right;\">\n",
       "      <th></th>\n",
       "      <th>age_gr_id</th>\n",
       "      <th>bucket_min</th>\n",
       "      <th>bucket_max</th>\n",
       "      <th>title</th>\n",
       "    </tr>\n",
       "  </thead>\n",
       "  <tbody>\n",
       "    <tr>\n",
       "      <th>0</th>\n",
       "      <td>1</td>\n",
       "      <td>NaN</td>\n",
       "      <td>15.0</td>\n",
       "      <td>01 до 16</td>\n",
       "    </tr>\n",
       "    <tr>\n",
       "      <th>1</th>\n",
       "      <td>2</td>\n",
       "      <td>16.0</td>\n",
       "      <td>24.0</td>\n",
       "      <td>02 16-24</td>\n",
       "    </tr>\n",
       "    <tr>\n",
       "      <th>2</th>\n",
       "      <td>3</td>\n",
       "      <td>25.0</td>\n",
       "      <td>34.0</td>\n",
       "      <td>03 25-34</td>\n",
       "    </tr>\n",
       "    <tr>\n",
       "      <th>3</th>\n",
       "      <td>4</td>\n",
       "      <td>35.0</td>\n",
       "      <td>44.0</td>\n",
       "      <td>04 35-44</td>\n",
       "    </tr>\n",
       "    <tr>\n",
       "      <th>4</th>\n",
       "      <td>5</td>\n",
       "      <td>45.0</td>\n",
       "      <td>54.0</td>\n",
       "      <td>05 45-54</td>\n",
       "    </tr>\n",
       "    <tr>\n",
       "      <th>5</th>\n",
       "      <td>6</td>\n",
       "      <td>55.0</td>\n",
       "      <td>64.0</td>\n",
       "      <td>06 55-64</td>\n",
       "    </tr>\n",
       "    <tr>\n",
       "      <th>6</th>\n",
       "      <td>7</td>\n",
       "      <td>66.0</td>\n",
       "      <td>NaN</td>\n",
       "      <td>07 66 +</td>\n",
       "    </tr>\n",
       "    <tr>\n",
       "      <th>7</th>\n",
       "      <td>8</td>\n",
       "      <td>NaN</td>\n",
       "      <td>NaN</td>\n",
       "      <td>08 n/a</td>\n",
       "    </tr>\n",
       "  </tbody>\n",
       "</table>\n",
       "</div>"
      ],
      "text/plain": [
       "   age_gr_id  bucket_min  bucket_max     title\n",
       "0          1         NaN        15.0  01 до 16\n",
       "1          2        16.0        24.0  02 16-24\n",
       "2          3        25.0        34.0  03 25-34\n",
       "3          4        35.0        44.0  04 35-44\n",
       "4          5        45.0        54.0  05 45-54\n",
       "5          6        55.0        64.0  06 55-64\n",
       "6          7        66.0         NaN   07 66 +\n",
       "7          8         NaN         NaN    08 n/a"
      ]
     },
     "execution_count": 9,
     "metadata": {},
     "output_type": "execute_result"
    }
   ],
   "source": [
    "age_segment = pd.read_sql('SELECT * FROM age_segment;', engine)\n",
    "age_segment.head(10)"
   ]
  },
  {
   "cell_type": "markdown",
   "id": "0e9be363",
   "metadata": {},
   "source": [
    "Логика понятна, `bucket_min` это от какого возраста начинается категория, а `bucket_max` на каком возрасте она заканчиается. Интересно куда делись люди от 64 до 66 лет, но задать этот вопрос нам некому.\n",
    "\n",
    "Названия категорий нечитабельны, будем переписывать. Посмотрим на таблицу с сегментацией по потребляемому трафику"
   ]
  },
  {
   "cell_type": "markdown",
   "id": "6f5c732f",
   "metadata": {},
   "source": [
    "### Таблица traffic_segment"
   ]
  },
  {
   "cell_type": "code",
   "execution_count": 10,
   "id": "b04c9300",
   "metadata": {},
   "outputs": [
    {
     "data": {
      "text/html": [
       "<div>\n",
       "<style scoped>\n",
       "    .dataframe tbody tr th:only-of-type {\n",
       "        vertical-align: middle;\n",
       "    }\n",
       "\n",
       "    .dataframe tbody tr th {\n",
       "        vertical-align: top;\n",
       "    }\n",
       "\n",
       "    .dataframe thead th {\n",
       "        text-align: right;\n",
       "    }\n",
       "</style>\n",
       "<table border=\"1\" class=\"dataframe\">\n",
       "  <thead>\n",
       "    <tr style=\"text-align: right;\">\n",
       "      <th></th>\n",
       "      <th>tr_gr_id</th>\n",
       "      <th>bucket_min</th>\n",
       "      <th>bucket_max</th>\n",
       "      <th>title</th>\n",
       "    </tr>\n",
       "  </thead>\n",
       "  <tbody>\n",
       "    <tr>\n",
       "      <th>0</th>\n",
       "      <td>1</td>\n",
       "      <td>0.00</td>\n",
       "      <td>0.00</td>\n",
       "      <td>01 0</td>\n",
       "    </tr>\n",
       "    <tr>\n",
       "      <th>1</th>\n",
       "      <td>2</td>\n",
       "      <td>0.00</td>\n",
       "      <td>0.01</td>\n",
       "      <td>01 0-0.01</td>\n",
       "    </tr>\n",
       "    <tr>\n",
       "      <th>2</th>\n",
       "      <td>3</td>\n",
       "      <td>0.01</td>\n",
       "      <td>0.10</td>\n",
       "      <td>02 0.01-0.1</td>\n",
       "    </tr>\n",
       "    <tr>\n",
       "      <th>3</th>\n",
       "      <td>4</td>\n",
       "      <td>0.10</td>\n",
       "      <td>1.00</td>\n",
       "      <td>03 0.1-1</td>\n",
       "    </tr>\n",
       "    <tr>\n",
       "      <th>4</th>\n",
       "      <td>5</td>\n",
       "      <td>1.00</td>\n",
       "      <td>5.00</td>\n",
       "      <td>04 1-5</td>\n",
       "    </tr>\n",
       "    <tr>\n",
       "      <th>5</th>\n",
       "      <td>6</td>\n",
       "      <td>5.00</td>\n",
       "      <td>10.00</td>\n",
       "      <td>05 5-10</td>\n",
       "    </tr>\n",
       "    <tr>\n",
       "      <th>6</th>\n",
       "      <td>7</td>\n",
       "      <td>10.00</td>\n",
       "      <td>15.00</td>\n",
       "      <td>06 10-15</td>\n",
       "    </tr>\n",
       "    <tr>\n",
       "      <th>7</th>\n",
       "      <td>8</td>\n",
       "      <td>15.00</td>\n",
       "      <td>20.00</td>\n",
       "      <td>07 15-20</td>\n",
       "    </tr>\n",
       "    <tr>\n",
       "      <th>8</th>\n",
       "      <td>9</td>\n",
       "      <td>20.00</td>\n",
       "      <td>25.00</td>\n",
       "      <td>08 20-25</td>\n",
       "    </tr>\n",
       "    <tr>\n",
       "      <th>9</th>\n",
       "      <td>10</td>\n",
       "      <td>25.00</td>\n",
       "      <td>30.00</td>\n",
       "      <td>09 25-30</td>\n",
       "    </tr>\n",
       "    <tr>\n",
       "      <th>10</th>\n",
       "      <td>11</td>\n",
       "      <td>30.00</td>\n",
       "      <td>35.00</td>\n",
       "      <td>10 30-35</td>\n",
       "    </tr>\n",
       "    <tr>\n",
       "      <th>11</th>\n",
       "      <td>12</td>\n",
       "      <td>35.00</td>\n",
       "      <td>40.00</td>\n",
       "      <td>11 35-40</td>\n",
       "    </tr>\n",
       "    <tr>\n",
       "      <th>12</th>\n",
       "      <td>13</td>\n",
       "      <td>40.00</td>\n",
       "      <td>45.00</td>\n",
       "      <td>12 40-45</td>\n",
       "    </tr>\n",
       "    <tr>\n",
       "      <th>13</th>\n",
       "      <td>14</td>\n",
       "      <td>45.00</td>\n",
       "      <td>50.00</td>\n",
       "      <td>13 45-50</td>\n",
       "    </tr>\n",
       "    <tr>\n",
       "      <th>14</th>\n",
       "      <td>15</td>\n",
       "      <td>50.00</td>\n",
       "      <td>55.00</td>\n",
       "      <td>14 50-55</td>\n",
       "    </tr>\n",
       "    <tr>\n",
       "      <th>15</th>\n",
       "      <td>16</td>\n",
       "      <td>55.00</td>\n",
       "      <td>60.00</td>\n",
       "      <td>15 55-60</td>\n",
       "    </tr>\n",
       "    <tr>\n",
       "      <th>16</th>\n",
       "      <td>17</td>\n",
       "      <td>60.00</td>\n",
       "      <td>65.00</td>\n",
       "      <td>16 60-65</td>\n",
       "    </tr>\n",
       "    <tr>\n",
       "      <th>17</th>\n",
       "      <td>18</td>\n",
       "      <td>65.00</td>\n",
       "      <td>70.00</td>\n",
       "      <td>17 65-70</td>\n",
       "    </tr>\n",
       "    <tr>\n",
       "      <th>18</th>\n",
       "      <td>19</td>\n",
       "      <td>70.00</td>\n",
       "      <td>75.00</td>\n",
       "      <td>18 70-75</td>\n",
       "    </tr>\n",
       "    <tr>\n",
       "      <th>19</th>\n",
       "      <td>20</td>\n",
       "      <td>75.00</td>\n",
       "      <td>80.00</td>\n",
       "      <td>19 75-80</td>\n",
       "    </tr>\n",
       "    <tr>\n",
       "      <th>20</th>\n",
       "      <td>21</td>\n",
       "      <td>80.00</td>\n",
       "      <td>85.00</td>\n",
       "      <td>20 80-85</td>\n",
       "    </tr>\n",
       "    <tr>\n",
       "      <th>21</th>\n",
       "      <td>22</td>\n",
       "      <td>85.00</td>\n",
       "      <td>90.00</td>\n",
       "      <td>21 85-90</td>\n",
       "    </tr>\n",
       "    <tr>\n",
       "      <th>22</th>\n",
       "      <td>23</td>\n",
       "      <td>90.00</td>\n",
       "      <td>95.00</td>\n",
       "      <td>22 90-95</td>\n",
       "    </tr>\n",
       "    <tr>\n",
       "      <th>23</th>\n",
       "      <td>24</td>\n",
       "      <td>95.00</td>\n",
       "      <td>100.00</td>\n",
       "      <td>23 95-100</td>\n",
       "    </tr>\n",
       "    <tr>\n",
       "      <th>24</th>\n",
       "      <td>25</td>\n",
       "      <td>100.00</td>\n",
       "      <td>NaN</td>\n",
       "      <td>24 100+</td>\n",
       "    </tr>\n",
       "  </tbody>\n",
       "</table>\n",
       "</div>"
      ],
      "text/plain": [
       "    tr_gr_id  bucket_min  bucket_max        title\n",
       "0          1        0.00        0.00         01 0\n",
       "1          2        0.00        0.01    01 0-0.01\n",
       "2          3        0.01        0.10  02 0.01-0.1\n",
       "3          4        0.10        1.00     03 0.1-1\n",
       "4          5        1.00        5.00       04 1-5\n",
       "5          6        5.00       10.00      05 5-10\n",
       "6          7       10.00       15.00     06 10-15\n",
       "7          8       15.00       20.00     07 15-20\n",
       "8          9       20.00       25.00     08 20-25\n",
       "9         10       25.00       30.00     09 25-30\n",
       "10        11       30.00       35.00     10 30-35\n",
       "11        12       35.00       40.00     11 35-40\n",
       "12        13       40.00       45.00     12 40-45\n",
       "13        14       45.00       50.00     13 45-50\n",
       "14        15       50.00       55.00     14 50-55\n",
       "15        16       55.00       60.00     15 55-60\n",
       "16        17       60.00       65.00     16 60-65\n",
       "17        18       65.00       70.00     17 65-70\n",
       "18        19       70.00       75.00     18 70-75\n",
       "19        20       75.00       80.00     19 75-80\n",
       "20        21       80.00       85.00     20 80-85\n",
       "21        22       85.00       90.00     21 85-90\n",
       "22        23       90.00       95.00     22 90-95\n",
       "23        24       95.00      100.00    23 95-100\n",
       "24        25      100.00         NaN      24 100+"
      ]
     },
     "execution_count": 10,
     "metadata": {},
     "output_type": "execute_result"
    }
   ],
   "source": [
    "traffic_segment = pd.read_sql('SELECT * FROM traffic_segment;', engine)\n",
    "traffic_segment"
   ]
  },
  {
   "cell_type": "markdown",
   "id": "ce7f0a98",
   "metadata": {},
   "source": [
    "Логика та-же, что и в предыдущей таблице и такие же проблемы с названиями. Посмотрим на последнюю таблицу по лайвтайму."
   ]
  },
  {
   "cell_type": "markdown",
   "id": "6ea630a3",
   "metadata": {},
   "source": [
    "### Таблица lifetime_segment"
   ]
  },
  {
   "cell_type": "code",
   "execution_count": 11,
   "id": "9a8012a6",
   "metadata": {},
   "outputs": [
    {
     "data": {
      "text/html": [
       "<div>\n",
       "<style scoped>\n",
       "    .dataframe tbody tr th:only-of-type {\n",
       "        vertical-align: middle;\n",
       "    }\n",
       "\n",
       "    .dataframe tbody tr th {\n",
       "        vertical-align: top;\n",
       "    }\n",
       "\n",
       "    .dataframe thead th {\n",
       "        text-align: right;\n",
       "    }\n",
       "</style>\n",
       "<table border=\"1\" class=\"dataframe\">\n",
       "  <thead>\n",
       "    <tr style=\"text-align: right;\">\n",
       "      <th></th>\n",
       "      <th>lt_gr_id</th>\n",
       "      <th>bucket_min</th>\n",
       "      <th>bucket_max</th>\n",
       "      <th>title</th>\n",
       "    </tr>\n",
       "  </thead>\n",
       "  <tbody>\n",
       "    <tr>\n",
       "      <th>0</th>\n",
       "      <td>1</td>\n",
       "      <td>1.0</td>\n",
       "      <td>1.0</td>\n",
       "      <td>01 1</td>\n",
       "    </tr>\n",
       "    <tr>\n",
       "      <th>1</th>\n",
       "      <td>2</td>\n",
       "      <td>2.0</td>\n",
       "      <td>2.0</td>\n",
       "      <td>02 2</td>\n",
       "    </tr>\n",
       "    <tr>\n",
       "      <th>2</th>\n",
       "      <td>3</td>\n",
       "      <td>3.0</td>\n",
       "      <td>3.0</td>\n",
       "      <td>03 3</td>\n",
       "    </tr>\n",
       "    <tr>\n",
       "      <th>3</th>\n",
       "      <td>4</td>\n",
       "      <td>4.0</td>\n",
       "      <td>6.0</td>\n",
       "      <td>04 4-6</td>\n",
       "    </tr>\n",
       "    <tr>\n",
       "      <th>4</th>\n",
       "      <td>5</td>\n",
       "      <td>7.0</td>\n",
       "      <td>12.0</td>\n",
       "      <td>05 7-12</td>\n",
       "    </tr>\n",
       "    <tr>\n",
       "      <th>5</th>\n",
       "      <td>6</td>\n",
       "      <td>13.0</td>\n",
       "      <td>24.0</td>\n",
       "      <td>06 13-24</td>\n",
       "    </tr>\n",
       "    <tr>\n",
       "      <th>6</th>\n",
       "      <td>7</td>\n",
       "      <td>25.0</td>\n",
       "      <td>36.0</td>\n",
       "      <td>07 25-36</td>\n",
       "    </tr>\n",
       "    <tr>\n",
       "      <th>7</th>\n",
       "      <td>8</td>\n",
       "      <td>36.0</td>\n",
       "      <td>NaN</td>\n",
       "      <td>08 36+</td>\n",
       "    </tr>\n",
       "  </tbody>\n",
       "</table>\n",
       "</div>"
      ],
      "text/plain": [
       "   lt_gr_id  bucket_min  bucket_max     title\n",
       "0         1         1.0         1.0      01 1\n",
       "1         2         2.0         2.0      02 2\n",
       "2         3         3.0         3.0      03 3\n",
       "3         4         4.0         6.0    04 4-6\n",
       "4         5         7.0        12.0   05 7-12\n",
       "5         6        13.0        24.0  06 13-24\n",
       "6         7        25.0        36.0  07 25-36\n",
       "7         8        36.0         NaN    08 36+"
      ]
     },
     "execution_count": 11,
     "metadata": {},
     "output_type": "execute_result"
    }
   ],
   "source": [
    "lifetime_segment = pd.read_sql('SELECT * FROM lifetime_segment;', engine)\n",
    "lifetime_segment"
   ]
  },
  {
   "cell_type": "markdown",
   "id": "e4175217",
   "metadata": {},
   "source": [
    "Все ясно, приступим к формированию SQL запроса."
   ]
  },
  {
   "cell_type": "markdown",
   "id": "a6b5fe6b",
   "metadata": {},
   "source": [
    "### Выводы"
   ]
  },
  {
   "cell_type": "markdown",
   "id": "9cdc2ba6",
   "metadata": {},
   "source": [
    "- Таблица user является ключевой, ее будем объединять с остальными по `_id` в других таблицах\n",
    "- В столбце `age_segment` таблицы `user` только три значения - `1`,  `0` и `NaN`. От последнего принято решение избавиться.\n",
    "- В столбце `lt_day` 11 отрицательных значений. Принято решение избавиться от них во время формирования SQL запроса.\n",
    "- Из таблицы `location` узнали, что опрос проходил только в России в 62 городах\n",
    "- Таблицы `age_segment`, `traffic_segment` и `lifetime_segment` имеют схожую структуру, во всех них требуется переименовать название категорий"
   ]
  },
  {
   "cell_type": "markdown",
   "id": "c3d6407b",
   "metadata": {},
   "source": [
    "## Формирование SQL запроса"
   ]
  },
  {
   "cell_type": "markdown",
   "id": "4b8e2eb8",
   "metadata": {},
   "source": [
    "По условиям технического задания к исследованию, создание витрины должны быть осуществлено только с ипользованием SQL запроса. В витрине должны быть следующие поля: \n",
    "\n",
    "\n",
    "Название |Описание |\n",
    ":--------|:--------|\n",
    "user_id|Идентификатор клиента|\n",
    "lt_day|Количество дней «жизни» клиента|\n",
    "is_new|Поле хранит информацию о том, является ли клиент новым|\n",
    "age|Возраст|\n",
    "gender_segment|Пол (для удобства работы с полем преобразуйте значения в текстовый вид)|\n",
    "os_name|Тип операционной системы|\n",
    "cpe_type_name|Тип устройства|\n",
    "country|Страна проживания|\n",
    "city|Город проживания|\n",
    "age_segment|Возрастной сегмент|\n",
    "traffic_segment|Сегмент по объёму потребляемого трафика|\n",
    "lifetime_segment|Сегмент по количеству дней «жизни»|\n",
    "nps_score|Оценка клиента в NPS-опросе|\n",
    "nps_group|Поле хранит информацию о том, к какой группе относится оценка клиента в опросе|\n",
    "\n",
    "Также добавим поле `total_nps` для упрощения расчета NPS в Tableau"
   ]
  },
  {
   "cell_type": "code",
   "execution_count": 12,
   "id": "bee52066",
   "metadata": {},
   "outputs": [],
   "source": [
    "query = \"\"\"\n",
    "WITH\n",
    "new_users AS (SELECT user_id,\n",
    "                     CASE\n",
    "                         WHEN lt_day <= 365 THEN 'Новый клиент'\n",
    "                         ELSE 'Старый клиент'\n",
    "                     END AS is_new\n",
    "              FROM user),\n",
    "              \n",
    "gender AS (SELECT user_id,\n",
    "                  CASE\n",
    "                      WHEN gender_segment = 1 THEN 'Женщина'\n",
    "                      WHEN gender_segment = 0 THEN 'Мужчина'\n",
    "                      ELSE 'Нет данных'\n",
    "                  END AS gender_segment_norm\n",
    "           FROM user),\n",
    "           \n",
    "group_nps AS (SELECT user_id,\n",
    "                     CASE\n",
    "                         WHEN nps_score BETWEEN 0 AND 6 THEN 'Критики'\n",
    "                         WHEN nps_score BETWEEN 7 AND 8 THEN 'Нейтралы'\n",
    "                         WHEN nps_score BETWEEN 9 AND 10 THEN 'Сторонники'\n",
    "                     END AS nps_group\n",
    "              FROM user),\n",
    "              \n",
    "total_nps AS (SELECT user_id,\n",
    "                     CASE\n",
    "                         WHEN nps_score BETWEEN 0 AND 6 THEN -1\n",
    "                         WHEN nps_score BETWEEN 7 AND 8 THEN 0\n",
    "                         WHEN nps_score BETWEEN 9 AND 10 THEN 1\n",
    "                     END AS nps_total\n",
    "              FROM user),\n",
    "              \n",
    "lifitime_segment_normal AS (SELECT lt_gr_id,\n",
    "                                   CASE\n",
    "                                       WHEN lt_gr_id = 1 THEN '1 месяц'\n",
    "                                       WHEN lt_gr_id = 2 THEN '2 месяца'\n",
    "                                       WHEN lt_gr_id = 3 THEN '3 месяца'\n",
    "                                       WHEN lt_gr_id = 4 THEN '4-6 месяцев'\n",
    "                                       WHEN lt_gr_id = 5 THEN '7-12 месяцев'\n",
    "                                       WHEN lt_gr_id = 6 THEN '13-24 месяцев'\n",
    "                                       WHEN lt_gr_id = 7 THEN '25-36 месяцев'\n",
    "                                       WHEN lt_gr_id = 8 THEN 'более 36 месяцев'\n",
    "                                    END AS title_normal\n",
    "                            FROM lifetime_segment),\n",
    "                            \n",
    "age_segment_normal AS (SELECT age_gr_id,\n",
    "                                   CASE\n",
    "                                       WHEN age_gr_id = 1 THEN 'до 16 лет'\n",
    "                                       WHEN age_gr_id = 2 THEN 'от 16 до 24 лет'\n",
    "                                       WHEN age_gr_id = 3 THEN 'от 25 до 34 лет'\n",
    "                                       WHEN age_gr_id = 4 THEN 'от 35 до 44 лет'\n",
    "                                       WHEN age_gr_id = 5 THEN 'от 45 до 54 лет'\n",
    "                                       WHEN age_gr_id = 6 THEN 'от 55 до 64 лет'\n",
    "                                       WHEN age_gr_id = 7 THEN 'более 66 лет'\n",
    "                                       WHEN age_gr_id = 8 THEN 'нет данных'\n",
    "                                    END AS title_normal\n",
    "                            FROM age_segment),\n",
    "                            \n",
    "traffic_segment_normal AS (SELECT tr_gr_id,\n",
    "                                   CASE\n",
    "                                       WHEN tr_gr_id = 1 THEN '0'\n",
    "                                       WHEN tr_gr_id = 2 THEN 'от 0 до 0.01'\n",
    "                                       WHEN tr_gr_id = 3 THEN 'от 0.01 до 0.1'\n",
    "                                       WHEN tr_gr_id = 4 THEN 'от 0.1 до 1'\n",
    "                                       WHEN tr_gr_id = 5 THEN 'от 1 до 5'\n",
    "                                       WHEN tr_gr_id = 6 THEN 'от 5 до 10'\n",
    "                                       WHEN tr_gr_id = 7 THEN 'от 10 до 15'\n",
    "                                       WHEN tr_gr_id = 8 THEN 'от 15 до 20'\n",
    "                                       WHEN tr_gr_id = 9 THEN 'от 20 до 25'\n",
    "                                       WHEN tr_gr_id = 10 THEN 'от 25 до 30'\n",
    "                                       WHEN tr_gr_id = 11 THEN 'от 30 до 35'\n",
    "                                       WHEN tr_gr_id = 12 THEN 'от 35 до 40'\n",
    "                                       WHEN tr_gr_id = 13 THEN 'от 40 до 45'\n",
    "                                       WHEN tr_gr_id = 14 THEN 'от 45 до 50'\n",
    "                                       WHEN tr_gr_id = 15 THEN 'от 50 до 55'\n",
    "                                       WHEN tr_gr_id = 16 THEN 'от 55 до 60'\n",
    "                                       WHEN tr_gr_id = 17 THEN 'от 60 до 65'\n",
    "                                       WHEN tr_gr_id = 18 THEN 'от 65 до 70'\n",
    "                                       WHEN tr_gr_id = 19 THEN 'от 70 до 75'\n",
    "                                       WHEN tr_gr_id = 20 THEN 'от 75 до 80'\n",
    "                                       WHEN tr_gr_id = 21 THEN 'от 80 до 85'\n",
    "                                       WHEN tr_gr_id = 22 THEN 'от 85 до 90'\n",
    "                                       WHEN tr_gr_id = 23 THEN 'от 90 до 95'\n",
    "                                       WHEN tr_gr_id = 24 THEN 'от 95 до 100'\n",
    "                                       WHEN tr_gr_id = 25 THEN '100+'\n",
    "                                    END AS title_normal\n",
    "                            FROM traffic_segment)\n",
    "              \n",
    "              \n",
    "SELECT u.user_id,\n",
    "       u.lt_day,\n",
    "       nu.is_new,\n",
    "       u.age,\n",
    "       g.gender_segment_norm AS gender_segment,       \n",
    "       u.os_name,\n",
    "       u.cpe_type_name,\n",
    "       l.country,\n",
    "       l.city,\n",
    "       ags.title_normal AS age_segment,\n",
    "       ts.title_normal AS traffic_segment,\n",
    "       ls.title_normal AS lifetime_segment,\n",
    "       u.nps_score,\n",
    "       gn.nps_group,\n",
    "       tn.nps_total\n",
    "       \n",
    "FROM user AS u\n",
    "JOIN new_users AS nu ON u.user_id = nu.user_id\n",
    "JOIN gender AS g ON u.user_id = g.user_id\n",
    "JOIN location AS l ON u.location_id = l.location_id\n",
    "JOIN age_segment_normal AS ags ON u.age_gr_id = ags.age_gr_id\n",
    "JOIN traffic_segment_normal AS ts ON u.tr_gr_id = ts.tr_gr_id\n",
    "JOIN lifitime_segment_normal AS ls ON u.lt_gr_id = ls.lt_gr_id\n",
    "JOIN group_nps AS gn ON u.user_id = gn.user_id\n",
    "JOIN total_nps AS tn ON u.user_id = tn.user_id\n",
    "WHERE u.lt_day >= 0 AND\n",
    "      u.gender_segment IS NOT NULL;\n",
    "\n",
    "\"\"\""
   ]
  },
  {
   "cell_type": "markdown",
   "id": "06e6a764",
   "metadata": {},
   "source": [
    "Посмотрим на результат запроса"
   ]
  },
  {
   "cell_type": "code",
   "execution_count": 13,
   "id": "19e1cdea",
   "metadata": {},
   "outputs": [
    {
     "data": {
      "text/html": [
       "<div>\n",
       "<style scoped>\n",
       "    .dataframe tbody tr th:only-of-type {\n",
       "        vertical-align: middle;\n",
       "    }\n",
       "\n",
       "    .dataframe tbody tr th {\n",
       "        vertical-align: top;\n",
       "    }\n",
       "\n",
       "    .dataframe thead th {\n",
       "        text-align: right;\n",
       "    }\n",
       "</style>\n",
       "<table border=\"1\" class=\"dataframe\">\n",
       "  <thead>\n",
       "    <tr style=\"text-align: right;\">\n",
       "      <th></th>\n",
       "      <th>user_id</th>\n",
       "      <th>lt_day</th>\n",
       "      <th>is_new</th>\n",
       "      <th>age</th>\n",
       "      <th>gender_segment</th>\n",
       "      <th>os_name</th>\n",
       "      <th>cpe_type_name</th>\n",
       "      <th>country</th>\n",
       "      <th>city</th>\n",
       "      <th>age_segment</th>\n",
       "      <th>traffic_segment</th>\n",
       "      <th>lifetime_segment</th>\n",
       "      <th>nps_score</th>\n",
       "      <th>nps_group</th>\n",
       "      <th>nps_total</th>\n",
       "    </tr>\n",
       "  </thead>\n",
       "  <tbody>\n",
       "    <tr>\n",
       "      <th>0</th>\n",
       "      <td>A001A2</td>\n",
       "      <td>2320</td>\n",
       "      <td>Старый клиент</td>\n",
       "      <td>45.0</td>\n",
       "      <td>Женщина</td>\n",
       "      <td>ANDROID</td>\n",
       "      <td>SMARTPHONE</td>\n",
       "      <td>Россия</td>\n",
       "      <td>Уфа</td>\n",
       "      <td>от 45 до 54 лет</td>\n",
       "      <td>от 1 до 5</td>\n",
       "      <td>более 36 месяцев</td>\n",
       "      <td>10</td>\n",
       "      <td>Сторонники</td>\n",
       "      <td>1</td>\n",
       "    </tr>\n",
       "    <tr>\n",
       "      <th>1</th>\n",
       "      <td>A001WF</td>\n",
       "      <td>2344</td>\n",
       "      <td>Старый клиент</td>\n",
       "      <td>53.0</td>\n",
       "      <td>Мужчина</td>\n",
       "      <td>ANDROID</td>\n",
       "      <td>SMARTPHONE</td>\n",
       "      <td>Россия</td>\n",
       "      <td>Киров</td>\n",
       "      <td>от 45 до 54 лет</td>\n",
       "      <td>от 1 до 5</td>\n",
       "      <td>более 36 месяцев</td>\n",
       "      <td>10</td>\n",
       "      <td>Сторонники</td>\n",
       "      <td>1</td>\n",
       "    </tr>\n",
       "    <tr>\n",
       "      <th>2</th>\n",
       "      <td>A003Q7</td>\n",
       "      <td>467</td>\n",
       "      <td>Старый клиент</td>\n",
       "      <td>57.0</td>\n",
       "      <td>Мужчина</td>\n",
       "      <td>ANDROID</td>\n",
       "      <td>SMARTPHONE</td>\n",
       "      <td>Россия</td>\n",
       "      <td>Москва</td>\n",
       "      <td>от 55 до 64 лет</td>\n",
       "      <td>от 20 до 25</td>\n",
       "      <td>13-24 месяцев</td>\n",
       "      <td>10</td>\n",
       "      <td>Сторонники</td>\n",
       "      <td>1</td>\n",
       "    </tr>\n",
       "    <tr>\n",
       "      <th>3</th>\n",
       "      <td>A004TB</td>\n",
       "      <td>4190</td>\n",
       "      <td>Старый клиент</td>\n",
       "      <td>44.0</td>\n",
       "      <td>Женщина</td>\n",
       "      <td>IOS</td>\n",
       "      <td>SMARTPHONE</td>\n",
       "      <td>Россия</td>\n",
       "      <td>РостовнаДону</td>\n",
       "      <td>от 35 до 44 лет</td>\n",
       "      <td>от 0.1 до 1</td>\n",
       "      <td>более 36 месяцев</td>\n",
       "      <td>10</td>\n",
       "      <td>Сторонники</td>\n",
       "      <td>1</td>\n",
       "    </tr>\n",
       "    <tr>\n",
       "      <th>4</th>\n",
       "      <td>A004XT</td>\n",
       "      <td>1163</td>\n",
       "      <td>Старый клиент</td>\n",
       "      <td>24.0</td>\n",
       "      <td>Мужчина</td>\n",
       "      <td>ANDROID</td>\n",
       "      <td>SMARTPHONE</td>\n",
       "      <td>Россия</td>\n",
       "      <td>Рязань</td>\n",
       "      <td>от 16 до 24 лет</td>\n",
       "      <td>от 5 до 10</td>\n",
       "      <td>более 36 месяцев</td>\n",
       "      <td>10</td>\n",
       "      <td>Сторонники</td>\n",
       "      <td>1</td>\n",
       "    </tr>\n",
       "    <tr>\n",
       "      <th>5</th>\n",
       "      <td>A005O0</td>\n",
       "      <td>5501</td>\n",
       "      <td>Старый клиент</td>\n",
       "      <td>42.0</td>\n",
       "      <td>Женщина</td>\n",
       "      <td>ANDROID</td>\n",
       "      <td>SMARTPHONE</td>\n",
       "      <td>Россия</td>\n",
       "      <td>Омск</td>\n",
       "      <td>от 35 до 44 лет</td>\n",
       "      <td>от 5 до 10</td>\n",
       "      <td>более 36 месяцев</td>\n",
       "      <td>6</td>\n",
       "      <td>Критики</td>\n",
       "      <td>-1</td>\n",
       "    </tr>\n",
       "    <tr>\n",
       "      <th>6</th>\n",
       "      <td>A0061R</td>\n",
       "      <td>1236</td>\n",
       "      <td>Старый клиент</td>\n",
       "      <td>45.0</td>\n",
       "      <td>Мужчина</td>\n",
       "      <td>ANDROID</td>\n",
       "      <td>SMARTPHONE</td>\n",
       "      <td>Россия</td>\n",
       "      <td>Уфа</td>\n",
       "      <td>от 45 до 54 лет</td>\n",
       "      <td>от 10 до 15</td>\n",
       "      <td>более 36 месяцев</td>\n",
       "      <td>10</td>\n",
       "      <td>Сторонники</td>\n",
       "      <td>1</td>\n",
       "    </tr>\n",
       "    <tr>\n",
       "      <th>7</th>\n",
       "      <td>A009KS</td>\n",
       "      <td>313</td>\n",
       "      <td>Новый клиент</td>\n",
       "      <td>35.0</td>\n",
       "      <td>Мужчина</td>\n",
       "      <td>ANDROID</td>\n",
       "      <td>SMARTPHONE</td>\n",
       "      <td>Россия</td>\n",
       "      <td>Москва</td>\n",
       "      <td>от 35 до 44 лет</td>\n",
       "      <td>от 45 до 50</td>\n",
       "      <td>7-12 месяцев</td>\n",
       "      <td>10</td>\n",
       "      <td>Сторонники</td>\n",
       "      <td>1</td>\n",
       "    </tr>\n",
       "    <tr>\n",
       "      <th>8</th>\n",
       "      <td>A00AES</td>\n",
       "      <td>3238</td>\n",
       "      <td>Старый клиент</td>\n",
       "      <td>36.0</td>\n",
       "      <td>Женщина</td>\n",
       "      <td>ANDROID</td>\n",
       "      <td>SMARTPHONE</td>\n",
       "      <td>Россия</td>\n",
       "      <td>СанктПетербург</td>\n",
       "      <td>от 35 до 44 лет</td>\n",
       "      <td>от 1 до 5</td>\n",
       "      <td>более 36 месяцев</td>\n",
       "      <td>10</td>\n",
       "      <td>Сторонники</td>\n",
       "      <td>1</td>\n",
       "    </tr>\n",
       "    <tr>\n",
       "      <th>9</th>\n",
       "      <td>A00F70</td>\n",
       "      <td>4479</td>\n",
       "      <td>Старый клиент</td>\n",
       "      <td>54.0</td>\n",
       "      <td>Женщина</td>\n",
       "      <td>ANDROID</td>\n",
       "      <td>SMARTPHONE</td>\n",
       "      <td>Россия</td>\n",
       "      <td>Волгоград</td>\n",
       "      <td>от 45 до 54 лет</td>\n",
       "      <td>от 15 до 20</td>\n",
       "      <td>более 36 месяцев</td>\n",
       "      <td>9</td>\n",
       "      <td>Сторонники</td>\n",
       "      <td>1</td>\n",
       "    </tr>\n",
       "  </tbody>\n",
       "</table>\n",
       "</div>"
      ],
      "text/plain": [
       "  user_id  lt_day         is_new   age gender_segment  os_name cpe_type_name  \\\n",
       "0  A001A2    2320  Старый клиент  45.0        Женщина  ANDROID    SMARTPHONE   \n",
       "1  A001WF    2344  Старый клиент  53.0        Мужчина  ANDROID    SMARTPHONE   \n",
       "2  A003Q7     467  Старый клиент  57.0        Мужчина  ANDROID    SMARTPHONE   \n",
       "3  A004TB    4190  Старый клиент  44.0        Женщина      IOS    SMARTPHONE   \n",
       "4  A004XT    1163  Старый клиент  24.0        Мужчина  ANDROID    SMARTPHONE   \n",
       "5  A005O0    5501  Старый клиент  42.0        Женщина  ANDROID    SMARTPHONE   \n",
       "6  A0061R    1236  Старый клиент  45.0        Мужчина  ANDROID    SMARTPHONE   \n",
       "7  A009KS     313   Новый клиент  35.0        Мужчина  ANDROID    SMARTPHONE   \n",
       "8  A00AES    3238  Старый клиент  36.0        Женщина  ANDROID    SMARTPHONE   \n",
       "9  A00F70    4479  Старый клиент  54.0        Женщина  ANDROID    SMARTPHONE   \n",
       "\n",
       "  country            city      age_segment traffic_segment  lifetime_segment  \\\n",
       "0  Россия             Уфа  от 45 до 54 лет       от 1 до 5  более 36 месяцев   \n",
       "1  Россия           Киров  от 45 до 54 лет       от 1 до 5  более 36 месяцев   \n",
       "2  Россия          Москва  от 55 до 64 лет     от 20 до 25     13-24 месяцев   \n",
       "3  Россия    РостовнаДону  от 35 до 44 лет     от 0.1 до 1  более 36 месяцев   \n",
       "4  Россия          Рязань  от 16 до 24 лет      от 5 до 10  более 36 месяцев   \n",
       "5  Россия            Омск  от 35 до 44 лет      от 5 до 10  более 36 месяцев   \n",
       "6  Россия             Уфа  от 45 до 54 лет     от 10 до 15  более 36 месяцев   \n",
       "7  Россия          Москва  от 35 до 44 лет     от 45 до 50      7-12 месяцев   \n",
       "8  Россия  СанктПетербург  от 35 до 44 лет       от 1 до 5  более 36 месяцев   \n",
       "9  Россия       Волгоград  от 45 до 54 лет     от 15 до 20  более 36 месяцев   \n",
       "\n",
       "   nps_score   nps_group  nps_total  \n",
       "0         10  Сторонники          1  \n",
       "1         10  Сторонники          1  \n",
       "2         10  Сторонники          1  \n",
       "3         10  Сторонники          1  \n",
       "4         10  Сторонники          1  \n",
       "5          6     Критики         -1  \n",
       "6         10  Сторонники          1  \n",
       "7         10  Сторонники          1  \n",
       "8         10  Сторонники          1  \n",
       "9          9  Сторонники          1  "
      ]
     },
     "execution_count": 13,
     "metadata": {},
     "output_type": "execute_result"
    }
   ],
   "source": [
    "df = pd.read_sql(query, engine)\n",
    "df.head(10)"
   ]
  },
  {
   "cell_type": "markdown",
   "id": "c59fb4be",
   "metadata": {},
   "source": [
    "Проверим, все ли сработало верно"
   ]
  },
  {
   "cell_type": "code",
   "execution_count": 14,
   "id": "f3bc9cbf",
   "metadata": {},
   "outputs": [
    {
     "name": "stdout",
     "output_type": "stream",
     "text": [
      "<class 'pandas.core.frame.DataFrame'>\n",
      "RangeIndex: 501192 entries, 0 to 501191\n",
      "Data columns (total 15 columns):\n",
      " #   Column            Non-Null Count   Dtype  \n",
      "---  ------            --------------   -----  \n",
      " 0   user_id           501192 non-null  object \n",
      " 1   lt_day            501192 non-null  int64  \n",
      " 2   is_new            501192 non-null  object \n",
      " 3   age               501152 non-null  float64\n",
      " 4   gender_segment    501192 non-null  object \n",
      " 5   os_name           501192 non-null  object \n",
      " 6   cpe_type_name     501192 non-null  object \n",
      " 7   country           501192 non-null  object \n",
      " 8   city              501192 non-null  object \n",
      " 9   age_segment       501192 non-null  object \n",
      " 10  traffic_segment   501192 non-null  object \n",
      " 11  lifetime_segment  501192 non-null  object \n",
      " 12  nps_score         501192 non-null  int64  \n",
      " 13  nps_group         501192 non-null  object \n",
      " 14  nps_total         501192 non-null  int64  \n",
      "dtypes: float64(1), int64(3), object(11)\n",
      "memory usage: 57.4+ MB\n"
     ]
    },
    {
     "data": {
      "text/plain": [
       "Женщина    272442\n",
       "Мужчина    228750\n",
       "Name: gender_segment, dtype: int64"
      ]
     },
     "metadata": {},
     "output_type": "display_data"
    }
   ],
   "source": [
    "df.info()\n",
    "df.describe().T\n",
    "display(df.gender_segment.value_counts())"
   ]
  },
  {
   "cell_type": "markdown",
   "id": "87ba4d34",
   "metadata": {},
   "source": [
    "Все сработало как и ожидалось. Выгрузим файл в `.csv` и приступим к построению дэшборда и анализу"
   ]
  },
  {
   "cell_type": "code",
   "execution_count": 15,
   "id": "998377ed",
   "metadata": {},
   "outputs": [],
   "source": [
    "df.to_csv('telecomm_csi_tableau.csv', index=False)"
   ]
  },
  {
   "cell_type": "markdown",
   "id": "2dc23071",
   "metadata": {},
   "source": [
    "## Дэшборд Tablaeu"
   ]
  },
  {
   "cell_type": "markdown",
   "id": "3955c82b",
   "metadata": {},
   "source": [
    "https://public.tableau.com/app/profile/andrei5358/viz/yandex_telec_nps/sheet10?publish=yes"
   ]
  },
  {
   "cell_type": "markdown",
   "id": "d58e6bde",
   "metadata": {},
   "source": [
    "## Презентация"
   ]
  },
  {
   "cell_type": "markdown",
   "id": "ec6f5250",
   "metadata": {},
   "source": [
    "https://drive.google.com/file/d/1lScf2JI9Ffdt1Ed-Dm0QEkcX3WgFBr_1/view?usp=sharing"
   ]
  }
 ],
 "metadata": {
  "ExecuteTimeLog": [
   {
    "duration": 752,
    "start_time": "2021-10-03T17:40:52.731Z"
   },
   {
    "duration": 20,
    "start_time": "2021-10-03T17:40:53.486Z"
   },
   {
    "duration": 4,
    "start_time": "2021-10-03T17:41:04.638Z"
   },
   {
    "duration": 461,
    "start_time": "2021-10-03T17:41:04.912Z"
   },
   {
    "duration": 284,
    "start_time": "2021-10-03T17:41:05.376Z"
   },
   {
    "duration": 574,
    "start_time": "2021-10-06T07:55:05.029Z"
   },
   {
    "duration": 6,
    "start_time": "2021-10-06T07:55:05.605Z"
   },
   {
    "duration": 3,
    "start_time": "2021-10-06T07:55:14.685Z"
   },
   {
    "duration": 406,
    "start_time": "2021-10-06T07:55:15.522Z"
   },
   {
    "duration": 67,
    "start_time": "2021-10-06T07:55:15.929Z"
   },
   {
    "duration": 840,
    "start_time": "2021-10-07T07:54:04.647Z"
   },
   {
    "duration": 10,
    "start_time": "2021-10-07T07:54:05.490Z"
   },
   {
    "duration": 4,
    "start_time": "2021-10-07T07:54:05.544Z"
   },
   {
    "duration": 391,
    "start_time": "2021-10-07T07:54:06.237Z"
   },
   {
    "duration": 293,
    "start_time": "2021-10-07T07:54:06.654Z"
   },
   {
    "duration": 461,
    "start_time": "2022-05-12T08:10:30.024Z"
   },
   {
    "duration": 20,
    "start_time": "2022-05-12T08:10:31.892Z"
   },
   {
    "duration": 3,
    "start_time": "2022-05-12T08:21:15.007Z"
   },
   {
    "duration": 259,
    "start_time": "2022-05-12T08:21:15.806Z"
   },
   {
    "duration": 3,
    "start_time": "2022-05-12T08:56:17.683Z"
   },
   {
    "duration": 407,
    "start_time": "2022-05-12T08:56:24.991Z"
   },
   {
    "duration": 2,
    "start_time": "2022-05-12T08:57:04.611Z"
   },
   {
    "duration": 357,
    "start_time": "2022-05-12T08:57:05.258Z"
   },
   {
    "duration": 3,
    "start_time": "2022-05-12T08:57:37.346Z"
   },
   {
    "duration": 347,
    "start_time": "2022-05-12T08:57:37.827Z"
   },
   {
    "duration": 2,
    "start_time": "2022-05-12T08:58:29.028Z"
   },
   {
    "duration": 2284,
    "start_time": "2022-05-12T08:58:29.505Z"
   },
   {
    "duration": 2229,
    "start_time": "2022-05-12T08:58:53.888Z"
   },
   {
    "duration": 3,
    "start_time": "2022-05-12T09:07:50.918Z"
   },
   {
    "duration": 360,
    "start_time": "2022-05-12T09:07:52.255Z"
   },
   {
    "duration": 3,
    "start_time": "2022-05-12T09:08:50.735Z"
   },
   {
    "duration": 3197,
    "start_time": "2022-05-12T09:08:51.336Z"
   },
   {
    "duration": 3,
    "start_time": "2022-05-12T09:13:05.011Z"
   },
   {
    "duration": 410,
    "start_time": "2022-05-12T09:13:05.596Z"
   },
   {
    "duration": 3,
    "start_time": "2022-05-12T09:13:35.052Z"
   },
   {
    "duration": 4655,
    "start_time": "2022-05-12T09:13:35.491Z"
   },
   {
    "duration": 3,
    "start_time": "2022-05-12T09:18:07.195Z"
   },
   {
    "duration": 6256,
    "start_time": "2022-05-12T09:18:07.753Z"
   },
   {
    "duration": 3,
    "start_time": "2022-05-12T09:22:52.711Z"
   },
   {
    "duration": 228,
    "start_time": "2022-05-12T09:22:53.814Z"
   },
   {
    "duration": 3,
    "start_time": "2022-05-12T09:23:22.143Z"
   },
   {
    "duration": 340,
    "start_time": "2022-05-12T09:23:22.667Z"
   },
   {
    "duration": 5,
    "start_time": "2022-05-12T09:24:32.785Z"
   },
   {
    "duration": 7017,
    "start_time": "2022-05-12T09:24:33.334Z"
   },
   {
    "duration": 4,
    "start_time": "2022-05-12T09:32:58.269Z"
   },
   {
    "duration": 8157,
    "start_time": "2022-05-12T09:32:59.007Z"
   },
   {
    "duration": 5,
    "start_time": "2022-05-12T09:52:36.430Z"
   },
   {
    "duration": 8936,
    "start_time": "2022-05-12T09:52:36.859Z"
   },
   {
    "duration": 3,
    "start_time": "2022-05-12T09:55:08.337Z"
   },
   {
    "duration": 3587,
    "start_time": "2022-05-12T09:55:09.389Z"
   },
   {
    "duration": 3617,
    "start_time": "2022-05-12T09:55:41.408Z"
   },
   {
    "duration": 4,
    "start_time": "2022-05-12T09:56:58.955Z"
   },
   {
    "duration": 9172,
    "start_time": "2022-05-12T09:56:59.343Z"
   },
   {
    "duration": 3,
    "start_time": "2022-05-12T09:57:57.373Z"
   },
   {
    "duration": 264,
    "start_time": "2022-05-12T09:57:58.141Z"
   },
   {
    "duration": 225,
    "start_time": "2022-05-12T09:58:03.234Z"
   },
   {
    "duration": 2,
    "start_time": "2022-05-12T09:59:08.684Z"
   },
   {
    "duration": 224,
    "start_time": "2022-05-12T09:59:09.182Z"
   },
   {
    "duration": 6,
    "start_time": "2022-05-12T10:03:56.476Z"
   },
   {
    "duration": 337,
    "start_time": "2022-05-12T10:03:57.685Z"
   },
   {
    "duration": 8,
    "start_time": "2022-05-12T10:04:28.581Z"
   },
   {
    "duration": 550,
    "start_time": "2022-05-12T10:04:49.599Z"
   },
   {
    "duration": 19,
    "start_time": "2022-05-12T10:04:52.405Z"
   },
   {
    "duration": 3,
    "start_time": "2022-05-12T10:04:54.142Z"
   },
   {
    "duration": 270,
    "start_time": "2022-05-12T10:04:54.718Z"
   },
   {
    "duration": 6,
    "start_time": "2022-05-12T10:04:59.879Z"
   },
   {
    "duration": 8589,
    "start_time": "2022-05-12T10:05:02.789Z"
   },
   {
    "duration": 2,
    "start_time": "2022-05-12T10:06:18.057Z"
   },
   {
    "duration": 248,
    "start_time": "2022-05-12T10:06:18.491Z"
   },
   {
    "duration": 6,
    "start_time": "2022-05-12T10:14:10.441Z"
   },
   {
    "duration": 9319,
    "start_time": "2022-05-12T10:14:11.211Z"
   },
   {
    "duration": 8,
    "start_time": "2022-05-12T10:14:43.398Z"
   },
   {
    "duration": 9149,
    "start_time": "2022-05-12T10:14:44.124Z"
   },
   {
    "duration": 7198,
    "start_time": "2022-05-12T10:15:59.852Z"
   },
   {
    "duration": 793,
    "start_time": "2022-05-26T12:01:07.790Z"
   },
   {
    "duration": 34,
    "start_time": "2022-05-26T12:01:09.451Z"
   },
   {
    "duration": 6,
    "start_time": "2022-05-26T12:01:14.754Z"
   },
   {
    "duration": 813,
    "start_time": "2022-05-26T12:01:17.878Z"
   },
   {
    "duration": 6,
    "start_time": "2022-05-26T12:01:57.386Z"
   },
   {
    "duration": 12148,
    "start_time": "2022-05-26T12:01:58.551Z"
   },
   {
    "duration": 5,
    "start_time": "2022-05-26T12:03:19.773Z"
   },
   {
    "duration": 9841,
    "start_time": "2022-05-26T12:03:20.310Z"
   },
   {
    "duration": 7419,
    "start_time": "2022-05-26T12:03:46.553Z"
   },
   {
    "duration": 557,
    "start_time": "2022-05-27T04:19:12.173Z"
   },
   {
    "duration": 8,
    "start_time": "2022-05-27T04:19:12.732Z"
   },
   {
    "duration": 5,
    "start_time": "2022-05-27T04:19:12.742Z"
   },
   {
    "duration": 11881,
    "start_time": "2022-05-27T04:19:12.762Z"
   },
   {
    "duration": 9674,
    "start_time": "2022-05-27T04:19:24.645Z"
   },
   {
    "duration": 854,
    "start_time": "2022-05-27T11:21:41.093Z"
   },
   {
    "duration": 36,
    "start_time": "2022-05-27T11:21:42.517Z"
   },
   {
    "duration": 3737,
    "start_time": "2022-05-27T11:21:43.289Z"
   },
   {
    "duration": 3295,
    "start_time": "2022-05-27T11:21:51.947Z"
   },
   {
    "duration": 3466,
    "start_time": "2022-05-27T11:29:02.589Z"
   },
   {
    "duration": 12,
    "start_time": "2022-05-27T11:30:57.425Z"
   },
   {
    "duration": 620,
    "start_time": "2022-05-27T11:33:53.001Z"
   },
   {
    "duration": 586,
    "start_time": "2022-05-27T11:34:44.350Z"
   },
   {
    "duration": 4,
    "start_time": "2022-05-27T11:34:52.938Z"
   },
   {
    "duration": 71,
    "start_time": "2022-05-27T11:35:13.909Z"
   },
   {
    "duration": 5,
    "start_time": "2022-05-27T11:35:19.096Z"
   },
   {
    "duration": 597,
    "start_time": "2022-05-27T11:37:38.898Z"
   },
   {
    "duration": 579,
    "start_time": "2022-05-27T11:41:07.976Z"
   },
   {
    "duration": 583,
    "start_time": "2022-05-27T11:41:12.455Z"
   },
   {
    "duration": 586,
    "start_time": "2022-05-27T11:42:27.764Z"
   },
   {
    "duration": 628,
    "start_time": "2022-05-27T12:52:07.486Z"
   },
   {
    "duration": 351,
    "start_time": "2022-05-27T12:52:21.081Z"
   },
   {
    "duration": 20,
    "start_time": "2022-05-27T12:52:41.427Z"
   },
   {
    "duration": 20,
    "start_time": "2022-05-27T12:53:49.945Z"
   },
   {
    "duration": 17,
    "start_time": "2022-05-27T12:54:24.579Z"
   },
   {
    "duration": 5,
    "start_time": "2022-05-27T12:56:20.697Z"
   },
   {
    "duration": 8874,
    "start_time": "2022-05-27T12:56:22.569Z"
   },
   {
    "duration": 29,
    "start_time": "2022-05-27T12:56:39.697Z"
   },
   {
    "duration": 209,
    "start_time": "2022-05-27T12:59:39.371Z"
   },
   {
    "duration": 264,
    "start_time": "2022-05-27T13:01:15.919Z"
   },
   {
    "duration": 112,
    "start_time": "2022-05-27T13:01:28.873Z"
   },
   {
    "duration": 12,
    "start_time": "2022-05-27T13:03:49.500Z"
   },
   {
    "duration": 12,
    "start_time": "2022-05-27T13:03:58.494Z"
   },
   {
    "duration": 66,
    "start_time": "2022-05-27T14:35:59.917Z"
   },
   {
    "duration": 551,
    "start_time": "2022-05-27T14:36:07.712Z"
   },
   {
    "duration": 21,
    "start_time": "2022-05-27T14:36:09.038Z"
   },
   {
    "duration": 3864,
    "start_time": "2022-05-27T14:36:11.179Z"
   },
   {
    "duration": 132,
    "start_time": "2022-05-27T14:36:15.045Z"
   },
   {
    "duration": 310,
    "start_time": "2022-05-27T14:36:47.150Z"
   },
   {
    "duration": 275,
    "start_time": "2022-05-27T14:36:54.781Z"
   },
   {
    "duration": 29,
    "start_time": "2022-05-27T14:37:39.824Z"
   },
   {
    "duration": 12,
    "start_time": "2022-05-27T14:37:51.663Z"
   },
   {
    "duration": 12,
    "start_time": "2022-05-27T14:41:12.688Z"
   },
   {
    "duration": 281,
    "start_time": "2022-05-27T14:45:17.077Z"
   },
   {
    "duration": 5,
    "start_time": "2022-05-27T14:54:36.969Z"
   },
   {
    "duration": 9138,
    "start_time": "2022-05-27T14:54:39.663Z"
   },
   {
    "duration": 138,
    "start_time": "2022-05-27T14:54:59.920Z"
   },
   {
    "duration": 574,
    "start_time": "2022-05-27T14:55:08.411Z"
   },
   {
    "duration": 653,
    "start_time": "2022-05-27T14:55:26.866Z"
   },
   {
    "duration": 681,
    "start_time": "2022-05-27T14:55:30.156Z"
   },
   {
    "duration": 670,
    "start_time": "2022-05-27T14:55:35.760Z"
   },
   {
    "duration": 683,
    "start_time": "2022-05-27T14:56:19.777Z"
   },
   {
    "duration": 781,
    "start_time": "2022-05-27T14:56:28.973Z"
   },
   {
    "duration": 6229,
    "start_time": "2022-05-27T14:58:50.263Z"
   },
   {
    "duration": 476,
    "start_time": "2022-05-28T04:34:36.174Z"
   },
   {
    "duration": 23,
    "start_time": "2022-05-28T04:34:36.652Z"
   },
   {
    "duration": 4255,
    "start_time": "2022-05-28T04:34:36.676Z"
   },
   {
    "duration": 294,
    "start_time": "2022-05-28T04:34:40.934Z"
   },
   {
    "duration": 12,
    "start_time": "2022-05-28T04:34:41.230Z"
   },
   {
    "duration": 17,
    "start_time": "2022-05-28T04:34:41.252Z"
   },
   {
    "duration": 492,
    "start_time": "2022-05-28T04:34:41.270Z"
   },
   {
    "duration": 5,
    "start_time": "2022-05-28T04:34:41.763Z"
   },
   {
    "duration": 476,
    "start_time": "2022-05-28T04:34:41.770Z"
   },
   {
    "duration": 510,
    "start_time": "2022-05-28T04:34:42.248Z"
   },
   {
    "duration": 479,
    "start_time": "2022-05-28T04:34:42.759Z"
   },
   {
    "duration": 6,
    "start_time": "2022-05-28T04:34:43.240Z"
   },
   {
    "duration": 8514,
    "start_time": "2022-05-28T04:34:43.248Z"
   },
   {
    "duration": 799,
    "start_time": "2022-05-28T04:34:51.764Z"
   },
   {
    "duration": 5406,
    "start_time": "2022-05-28T04:34:52.566Z"
   }
  ],
  "kernelspec": {
   "display_name": "Python 3 (ipykernel)",
   "language": "python",
   "name": "python3"
  },
  "language_info": {
   "codemirror_mode": {
    "name": "ipython",
    "version": 3
   },
   "file_extension": ".py",
   "mimetype": "text/x-python",
   "name": "python",
   "nbconvert_exporter": "python",
   "pygments_lexer": "ipython3",
   "version": "3.9.7"
  },
  "toc": {
   "base_numbering": 1,
   "nav_menu": {},
   "number_sections": true,
   "sideBar": true,
   "skip_h1_title": true,
   "title_cell": "Оглавление",
   "title_sidebar": "Оглавление",
   "toc_cell": true,
   "toc_position": {},
   "toc_section_display": true,
   "toc_window_display": true
  }
 },
 "nbformat": 4,
 "nbformat_minor": 5
}
