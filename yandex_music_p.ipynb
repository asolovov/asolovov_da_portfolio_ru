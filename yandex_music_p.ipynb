{
 "cells": [
  {
   "cell_type": "markdown",
   "metadata": {
    "id": "E0vqbgi9ay0H"
   },
   "source": [
    "# Яндекс.Музыка"
   ]
  },
  {
   "cell_type": "markdown",
   "metadata": {
    "id": "VUC88oWjTJw2"
   },
   "source": [
    "Сравнение Москвы и Петербурга окружено мифами. Например:\n",
    " * Москва — мегаполис, подчинённый жёсткому ритму рабочей недели;\n",
    " * Петербург — культурная столица, со своими вкусами.\n",
    "\n",
    "На данных Яндекс.Музыки вы сравните поведение пользователей двух столиц.\n",
    "\n",
    "**Цель исследования** — проверьте три гипотезы:\n",
    "1. Активность пользователей зависит от дня недели. Причём в Москве и Петербурге это проявляется по-разному.\n",
    "2. В понедельник утром в Москве преобладают одни жанры, а в Петербурге — другие. Так же и вечером пятницы преобладают разные жанры — в зависимости от города. \n",
    "3. Москва и Петербург предпочитают разные жанры музыки. В Москве чаще слушают поп-музыку, в Петербурге — русский рэп."
   ]
  },
  {
   "cell_type": "code",
   "execution_count": 1,
   "metadata": {
    "id": "AXN7PHPN_Zcs"
   },
   "outputs": [],
   "source": [
    "import pandas as pd"
   ]
  },
  {
   "cell_type": "code",
   "execution_count": 2,
   "metadata": {
    "id": "fFVu7vqh_Zct"
   },
   "outputs": [
    {
     "data": {
      "text/html": [
       "<div>\n",
       "<style scoped>\n",
       "    .dataframe tbody tr th:only-of-type {\n",
       "        vertical-align: middle;\n",
       "    }\n",
       "\n",
       "    .dataframe tbody tr th {\n",
       "        vertical-align: top;\n",
       "    }\n",
       "\n",
       "    .dataframe thead th {\n",
       "        text-align: right;\n",
       "    }\n",
       "</style>\n",
       "<table border=\"1\" class=\"dataframe\">\n",
       "  <thead>\n",
       "    <tr style=\"text-align: right;\">\n",
       "      <th></th>\n",
       "      <th>userID</th>\n",
       "      <th>Track</th>\n",
       "      <th>artist</th>\n",
       "      <th>genre</th>\n",
       "      <th>City</th>\n",
       "      <th>time</th>\n",
       "      <th>Day</th>\n",
       "    </tr>\n",
       "  </thead>\n",
       "  <tbody>\n",
       "    <tr>\n",
       "      <th>0</th>\n",
       "      <td>FFB692EC</td>\n",
       "      <td>Kamigata To Boots</td>\n",
       "      <td>The Mass Missile</td>\n",
       "      <td>rock</td>\n",
       "      <td>Saint-Petersburg</td>\n",
       "      <td>20:28:33</td>\n",
       "      <td>Wednesday</td>\n",
       "    </tr>\n",
       "    <tr>\n",
       "      <th>1</th>\n",
       "      <td>55204538</td>\n",
       "      <td>Delayed Because of Accident</td>\n",
       "      <td>Andreas Rönnberg</td>\n",
       "      <td>rock</td>\n",
       "      <td>Moscow</td>\n",
       "      <td>14:07:09</td>\n",
       "      <td>Friday</td>\n",
       "    </tr>\n",
       "    <tr>\n",
       "      <th>2</th>\n",
       "      <td>20EC38</td>\n",
       "      <td>Funiculì funiculà</td>\n",
       "      <td>Mario Lanza</td>\n",
       "      <td>pop</td>\n",
       "      <td>Saint-Petersburg</td>\n",
       "      <td>20:58:07</td>\n",
       "      <td>Wednesday</td>\n",
       "    </tr>\n",
       "    <tr>\n",
       "      <th>3</th>\n",
       "      <td>A3DD03C9</td>\n",
       "      <td>Dragons in the Sunset</td>\n",
       "      <td>Fire + Ice</td>\n",
       "      <td>folk</td>\n",
       "      <td>Saint-Petersburg</td>\n",
       "      <td>08:37:09</td>\n",
       "      <td>Monday</td>\n",
       "    </tr>\n",
       "    <tr>\n",
       "      <th>4</th>\n",
       "      <td>E2DC1FAE</td>\n",
       "      <td>Soul People</td>\n",
       "      <td>Space Echo</td>\n",
       "      <td>dance</td>\n",
       "      <td>Moscow</td>\n",
       "      <td>08:34:34</td>\n",
       "      <td>Monday</td>\n",
       "    </tr>\n",
       "    <tr>\n",
       "      <th>5</th>\n",
       "      <td>842029A1</td>\n",
       "      <td>Преданная</td>\n",
       "      <td>IMPERVTOR</td>\n",
       "      <td>rusrap</td>\n",
       "      <td>Saint-Petersburg</td>\n",
       "      <td>13:09:41</td>\n",
       "      <td>Friday</td>\n",
       "    </tr>\n",
       "    <tr>\n",
       "      <th>6</th>\n",
       "      <td>4CB90AA5</td>\n",
       "      <td>True</td>\n",
       "      <td>Roman Messer</td>\n",
       "      <td>dance</td>\n",
       "      <td>Moscow</td>\n",
       "      <td>13:00:07</td>\n",
       "      <td>Wednesday</td>\n",
       "    </tr>\n",
       "    <tr>\n",
       "      <th>7</th>\n",
       "      <td>F03E1C1F</td>\n",
       "      <td>Feeling This Way</td>\n",
       "      <td>Polina Griffith</td>\n",
       "      <td>dance</td>\n",
       "      <td>Moscow</td>\n",
       "      <td>20:47:49</td>\n",
       "      <td>Wednesday</td>\n",
       "    </tr>\n",
       "    <tr>\n",
       "      <th>8</th>\n",
       "      <td>8FA1D3BE</td>\n",
       "      <td>И вновь продолжается бой</td>\n",
       "      <td>NaN</td>\n",
       "      <td>ruspop</td>\n",
       "      <td>Moscow</td>\n",
       "      <td>09:17:40</td>\n",
       "      <td>Friday</td>\n",
       "    </tr>\n",
       "    <tr>\n",
       "      <th>9</th>\n",
       "      <td>E772D5C0</td>\n",
       "      <td>Pessimist</td>\n",
       "      <td>NaN</td>\n",
       "      <td>dance</td>\n",
       "      <td>Saint-Petersburg</td>\n",
       "      <td>21:20:49</td>\n",
       "      <td>Wednesday</td>\n",
       "    </tr>\n",
       "  </tbody>\n",
       "</table>\n",
       "</div>"
      ],
      "text/plain": [
       "     userID                        Track            artist   genre  \\\n",
       "0  FFB692EC            Kamigata To Boots  The Mass Missile    rock   \n",
       "1  55204538  Delayed Because of Accident  Andreas Rönnberg    rock   \n",
       "2    20EC38            Funiculì funiculà       Mario Lanza     pop   \n",
       "3  A3DD03C9        Dragons in the Sunset        Fire + Ice    folk   \n",
       "4  E2DC1FAE                  Soul People        Space Echo   dance   \n",
       "5  842029A1                    Преданная         IMPERVTOR  rusrap   \n",
       "6  4CB90AA5                         True      Roman Messer   dance   \n",
       "7  F03E1C1F             Feeling This Way   Polina Griffith   dance   \n",
       "8  8FA1D3BE     И вновь продолжается бой               NaN  ruspop   \n",
       "9  E772D5C0                    Pessimist               NaN   dance   \n",
       "\n",
       "             City        time        Day  \n",
       "0  Saint-Petersburg  20:28:33  Wednesday  \n",
       "1            Moscow  14:07:09     Friday  \n",
       "2  Saint-Petersburg  20:58:07  Wednesday  \n",
       "3  Saint-Petersburg  08:37:09     Monday  \n",
       "4            Moscow  08:34:34     Monday  \n",
       "5  Saint-Petersburg  13:09:41     Friday  \n",
       "6            Moscow  13:00:07  Wednesday  \n",
       "7            Moscow  20:47:49  Wednesday  \n",
       "8            Moscow  09:17:40     Friday  \n",
       "9  Saint-Petersburg  21:20:49  Wednesday  "
      ]
     },
     "execution_count": 2,
     "metadata": {},
     "output_type": "execute_result"
    }
   ],
   "source": [
    "df = pd.read_csv('yandex_music_project.csv')\n",
    "df.head(10)"
   ]
  },
  {
   "cell_type": "code",
   "execution_count": 3,
   "metadata": {
    "id": "DSf2kIb-_Zct"
   },
   "outputs": [
    {
     "name": "stdout",
     "output_type": "stream",
     "text": [
      "<class 'pandas.core.frame.DataFrame'>\n",
      "RangeIndex: 65079 entries, 0 to 65078\n",
      "Data columns (total 7 columns):\n",
      " #   Column    Non-Null Count  Dtype \n",
      "---  ------    --------------  ----- \n",
      " 0     userID  65079 non-null  object\n",
      " 1   Track     63848 non-null  object\n",
      " 2   artist    57876 non-null  object\n",
      " 3   genre     63881 non-null  object\n",
      " 4     City    65079 non-null  object\n",
      " 5   time      65079 non-null  object\n",
      " 6   Day       65079 non-null  object\n",
      "dtypes: object(7)\n",
      "memory usage: 3.5+ MB\n"
     ]
    }
   ],
   "source": [
    "df.info()"
   ]
  },
  {
   "cell_type": "markdown",
   "metadata": {
    "id": "TaQ2Iwbr_Zct"
   },
   "source": [
    "Итак, в таблице семь столбцов. Тип данных во всех столбцах — `object`.\n",
    "\n",
    "Согласно документации к данным:\n",
    "* `userID` — идентификатор пользователя;\n",
    "* `Track` — название трека;  \n",
    "* `artist` — имя исполнителя;\n",
    "* `genre` — название жанра;\n",
    "* `City` — город пользователя;\n",
    "* `time` — время начала прослушивания;\n",
    "* `Day` — день недели.\n",
    "\n",
    "В названиях колонок видны три нарушения стиля:\n",
    "1. Строчные буквы сочетаются с прописными.\n",
    "2. Встречаются пробелы.\n",
    "3. Найдите ещё одну проблему в названии колонок и опишите её в этом пункте.\n",
    "\n",
    "\n",
    "\n",
    "Количество значений в столбцах различается. Значит, в данных есть пропущенные значения.\n"
   ]
  },
  {
   "cell_type": "markdown",
   "metadata": {
    "id": "MCB6-dXG_Zct"
   },
   "source": [
    "**Выводы**\n",
    "\n",
    "В каждой строке таблицы — данные о прослушанном треке. Часть колонок описывает саму композицию: название, исполнителя и жанр. Остальные данные рассказывают о пользователе: из какого он города, когда он слушал музыку. \n",
    "\n",
    "Предварительно можно утверждать, что, данных достаточно для проверки гипотез. Но встречаются пропуски в данных, а в названиях колонок — расхождения с хорошим стилем.\n",
    "\n",
    "Чтобы двигаться дальше, нужно устранить проблемы в данных."
   ]
  },
  {
   "cell_type": "markdown",
   "metadata": {
    "id": "SjYF6Ub9_Zct"
   },
   "source": [
    "## Предобработка данных"
   ]
  },
  {
   "cell_type": "markdown",
   "metadata": {
    "id": "dIaKXr29_Zct"
   },
   "source": [
    "### Стиль заголовков"
   ]
  },
  {
   "cell_type": "markdown",
   "metadata": {},
   "source": [
    "Посмотрим на названия заголовков"
   ]
  },
  {
   "cell_type": "code",
   "execution_count": 4,
   "metadata": {
    "id": "oKOTdF_Q_Zct"
   },
   "outputs": [
    {
     "data": {
      "text/plain": [
       "Index(['  userID', 'Track', 'artist', 'genre', '  City  ', 'time', 'Day'], dtype='object')"
      ]
     },
     "execution_count": 4,
     "metadata": {},
     "output_type": "execute_result"
    }
   ],
   "source": [
    "df.columns"
   ]
  },
  {
   "cell_type": "markdown",
   "metadata": {
    "id": "zj5534cv_Zct"
   },
   "source": [
    "Очевидны проблемы со стилем, что может затруднить дальнейшую работу. Переименуем названия столбцов следующим образом:\n",
    "\n",
    "* `'  userID'` → `'user_id'`;\n",
    "* `'Track'` → `'track'`;\n",
    "* `'  City  '` → `'city'`;\n",
    "* `'Day'` → `'day'`."
   ]
  },
  {
   "cell_type": "code",
   "execution_count": 5,
   "metadata": {
    "id": "ISlFqs5y_Zct"
   },
   "outputs": [],
   "source": [
    "df = df.rename(columns={'  userID': 'user_id', 'Track': 'track', '  City  ': 'city', 'Day': 'day'})"
   ]
  },
  {
   "cell_type": "markdown",
   "metadata": {
    "id": "1dqbh00J_Zct"
   },
   "source": [
    "Проверим результаты"
   ]
  },
  {
   "cell_type": "code",
   "execution_count": 6,
   "metadata": {
    "id": "d4NOAmTW_Zct"
   },
   "outputs": [
    {
     "data": {
      "text/plain": [
       "Index(['user_id', 'track', 'artist', 'genre', 'city', 'time', 'day'], dtype='object')"
      ]
     },
     "execution_count": 6,
     "metadata": {},
     "output_type": "execute_result"
    }
   ],
   "source": [
    "df.columns"
   ]
  },
  {
   "cell_type": "markdown",
   "metadata": {
    "id": "5ISfbcfY_Zct"
   },
   "source": [
    "### Пропуски значений"
   ]
  },
  {
   "cell_type": "markdown",
   "metadata": {},
   "source": [
    "Посчитаем количество пропусков"
   ]
  },
  {
   "cell_type": "code",
   "execution_count": 7,
   "metadata": {
    "id": "RskX29qr_Zct"
   },
   "outputs": [
    {
     "data": {
      "text/plain": [
       "user_id       0\n",
       "track      1231\n",
       "artist     7203\n",
       "genre      1198\n",
       "city          0\n",
       "time          0\n",
       "day           0\n",
       "dtype: int64"
      ]
     },
     "execution_count": 7,
     "metadata": {},
     "output_type": "execute_result"
    }
   ],
   "source": [
    "df.isna().sum()"
   ]
  },
  {
   "cell_type": "markdown",
   "metadata": {
    "id": "qubhgnlO_Zct"
   },
   "source": [
    "Не все пропущенные значения влияют на исследование. Так в `track` и `artist` пропуски не важны для работы. Достаточно заменить их явными обозначениями.\n",
    "\n",
    "Но пропуски в `genre` могут помешать сравнению музыкальных вкусов в Москве и Санкт-Петербурге. Необходимо:\n",
    "* заполнить и эти пропуски явными обозначениями,\n",
    "* оценить, насколько они повредят расчётам. "
   ]
  },
  {
   "cell_type": "code",
   "execution_count": 8,
   "metadata": {
    "id": "KplB5qWs_Zct"
   },
   "outputs": [],
   "source": [
    "columns_to_replace = ['track', 'artist', 'genre']\n",
    "for column in columns_to_replace:\n",
    "    df[column] = df[column].fillna('unknown')"
   ]
  },
  {
   "cell_type": "markdown",
   "metadata": {
    "id": "Ilsm-MZo_Zct"
   },
   "source": [
    "Проверяем"
   ]
  },
  {
   "cell_type": "code",
   "execution_count": 9,
   "metadata": {
    "id": "Tq4nYRX4_Zct"
   },
   "outputs": [
    {
     "data": {
      "text/plain": [
       "user_id    0\n",
       "track      0\n",
       "artist     0\n",
       "genre      0\n",
       "city       0\n",
       "time       0\n",
       "day        0\n",
       "dtype: int64"
      ]
     },
     "execution_count": 9,
     "metadata": {},
     "output_type": "execute_result"
    }
   ],
   "source": [
    "df.isna().sum()"
   ]
  },
  {
   "cell_type": "markdown",
   "metadata": {
    "id": "BWKRtBJ3_Zct"
   },
   "source": [
    "### Дубликаты"
   ]
  },
  {
   "cell_type": "markdown",
   "metadata": {},
   "source": [
    "Посчитаем дубликаты"
   ]
  },
  {
   "cell_type": "code",
   "execution_count": 10,
   "metadata": {
    "id": "36eES_S0_Zct"
   },
   "outputs": [
    {
     "data": {
      "text/plain": [
       "3826"
      ]
     },
     "execution_count": 10,
     "metadata": {},
     "output_type": "execute_result"
    }
   ],
   "source": [
    "df.duplicated().sum()"
   ]
  },
  {
   "cell_type": "markdown",
   "metadata": {
    "id": "Ot25h6XR_Zct"
   },
   "source": [
    "Удалим дубликаты"
   ]
  },
  {
   "cell_type": "code",
   "execution_count": 11,
   "metadata": {
    "id": "exFHq6tt_Zct"
   },
   "outputs": [],
   "source": [
    "df = df.drop_duplicates().reset_index(drop=True)"
   ]
  },
  {
   "cell_type": "markdown",
   "metadata": {
    "id": "Im2YwBEG_Zct"
   },
   "source": [
    "Проверяем"
   ]
  },
  {
   "cell_type": "code",
   "execution_count": 12,
   "metadata": {
    "id": "-8PuNWQ0_Zct"
   },
   "outputs": [
    {
     "data": {
      "text/plain": [
       "0"
      ]
     },
     "execution_count": 12,
     "metadata": {},
     "output_type": "execute_result"
    }
   ],
   "source": [
    "df.duplicated().sum()"
   ]
  },
  {
   "cell_type": "markdown",
   "metadata": {
    "id": "QlFBsxAr_Zct"
   },
   "source": [
    "По условиям технического задания к исследованию, проверим неявные дубликаты в столбце `genre`."
   ]
  },
  {
   "cell_type": "code",
   "execution_count": 13,
   "metadata": {
    "id": "JIUcqzZN_Zct"
   },
   "outputs": [
    {
     "data": {
      "text/plain": [
       "array(['acid', 'acoustic', 'action', 'adult', 'africa', 'afrikaans',\n",
       "       'alternative', 'alternativepunk', 'ambient', 'americana',\n",
       "       'animated', 'anime', 'arabesk', 'arabic', 'arena',\n",
       "       'argentinetango', 'art', 'audiobook', 'author', 'avantgarde',\n",
       "       'axé', 'baile', 'balkan', 'beats', 'bigroom', 'black', 'bluegrass',\n",
       "       'blues', 'bollywood', 'bossa', 'brazilian', 'breakbeat', 'breaks',\n",
       "       'broadway', 'cantautori', 'cantopop', 'canzone', 'caribbean',\n",
       "       'caucasian', 'celtic', 'chamber', 'chanson', 'children', 'chill',\n",
       "       'chinese', 'choral', 'christian', 'christmas', 'classical',\n",
       "       'classicmetal', 'club', 'colombian', 'comedy', 'conjazz',\n",
       "       'contemporary', 'country', 'cuban', 'dance', 'dancehall',\n",
       "       'dancepop', 'dark', 'death', 'deep', 'deutschrock', 'deutschspr',\n",
       "       'dirty', 'disco', 'dnb', 'documentary', 'downbeat', 'downtempo',\n",
       "       'drum', 'dub', 'dubstep', 'eastern', 'easy', 'electronic',\n",
       "       'electropop', 'emo', 'entehno', 'epicmetal', 'estrada', 'ethnic',\n",
       "       'eurofolk', 'european', 'experimental', 'extrememetal', 'fado',\n",
       "       'fairytail', 'film', 'fitness', 'flamenco', 'folk', 'folklore',\n",
       "       'folkmetal', 'folkrock', 'folktronica', 'forró', 'frankreich',\n",
       "       'französisch', 'french', 'funk', 'future', 'gangsta', 'garage',\n",
       "       'german', 'ghazal', 'gitarre', 'glitch', 'gospel', 'gothic',\n",
       "       'grime', 'grunge', 'gypsy', 'handsup', \"hard'n'heavy\", 'hardcore',\n",
       "       'hardstyle', 'hardtechno', 'hip', 'hip-hop', 'hiphop',\n",
       "       'historisch', 'holiday', 'hop', 'horror', 'house', 'hymn', 'idm',\n",
       "       'independent', 'indian', 'indie', 'indipop', 'industrial',\n",
       "       'inspirational', 'instrumental', 'international', 'irish', 'jam',\n",
       "       'japanese', 'jazz', 'jewish', 'jpop', 'jungle', 'k-pop',\n",
       "       'karadeniz', 'karaoke', 'kayokyoku', 'korean', 'laiko', 'latin',\n",
       "       'latino', 'leftfield', 'local', 'lounge', 'loungeelectronic',\n",
       "       'lovers', 'malaysian', 'mandopop', 'marschmusik', 'meditative',\n",
       "       'mediterranean', 'melodic', 'metal', 'metalcore', 'mexican',\n",
       "       'middle', 'minimal', 'miscellaneous', 'modern', 'mood', 'mpb',\n",
       "       'muslim', 'native', 'neoklassik', 'neue', 'new', 'newage',\n",
       "       'newwave', 'nu', 'nujazz', 'numetal', 'oceania', 'old', 'opera',\n",
       "       'orchestral', 'other', 'piano', 'podcasts', 'pop', 'popdance',\n",
       "       'popelectronic', 'popeurodance', 'poprussian', 'post',\n",
       "       'posthardcore', 'postrock', 'power', 'progmetal', 'progressive',\n",
       "       'psychedelic', 'punjabi', 'punk', 'quebecois', 'ragga', 'ram',\n",
       "       'rancheras', 'rap', 'rave', 'reggae', 'reggaeton', 'regional',\n",
       "       'relax', 'religious', 'retro', 'rhythm', 'rnb', 'rnr', 'rock',\n",
       "       'rockabilly', 'rockalternative', 'rockindie', 'rockother',\n",
       "       'romance', 'roots', 'ruspop', 'rusrap', 'rusrock', 'russian',\n",
       "       'salsa', 'samba', 'scenic', 'schlager', 'self', 'sertanejo',\n",
       "       'shanson', 'shoegazing', 'showtunes', 'singer', 'ska', 'skarock',\n",
       "       'slow', 'smooth', 'soft', 'soul', 'soulful', 'sound', 'soundtrack',\n",
       "       'southern', 'specialty', 'speech', 'spiritual', 'sport',\n",
       "       'stonerrock', 'surf', 'swing', 'synthpop', 'synthrock',\n",
       "       'sängerportrait', 'tango', 'tanzorchester', 'taraftar', 'tatar',\n",
       "       'tech', 'techno', 'teen', 'thrash', 'top', 'traditional',\n",
       "       'tradjazz', 'trance', 'tribal', 'trip', 'triphop', 'tropical',\n",
       "       'türk', 'türkçe', 'ukrrock', 'unknown', 'urban', 'uzbek',\n",
       "       'variété', 'vi', 'videogame', 'vocal', 'western', 'world',\n",
       "       'worldbeat', 'ïîï', 'электроника'], dtype=object)"
      ]
     },
     "execution_count": 13,
     "metadata": {},
     "output_type": "execute_result"
    }
   ],
   "source": [
    "df['genre'].sort_values().unique()"
   ]
  },
  {
   "cell_type": "markdown",
   "metadata": {
    "id": "qej-Qmuo_Zct"
   },
   "source": [
    "По условиям технического задания к исследованию, изучим неявные дубликаты значения `hiphop`.\n",
    "\n",
    "Обнаружены следующие неявные дубликаты:\n",
    "* *hip*,\n",
    "* *hop*,\n",
    "* *hip-hop*.\n",
    "\n",
    "По условиям технического задания к исследованию, заменим дубликаты с помощью функции `replace_wrong_genres()`."
   ]
  },
  {
   "cell_type": "code",
   "execution_count": 14,
   "metadata": {
    "id": "ErNDkmns_Zct"
   },
   "outputs": [],
   "source": [
    "def replace_wrong_genres(wrong_genres, correct_genre):\n",
    "    for wrong_genre in wrong_genres:\n",
    "        df['genre'] = df['genre'].replace(wrong_genre, correct_genre)"
   ]
  },
  {
   "cell_type": "markdown",
   "metadata": {
    "id": "aDoBJxbA_Zct"
   },
   "source": [
    "Применим функцию"
   ]
  },
  {
   "cell_type": "code",
   "execution_count": 15,
   "metadata": {
    "id": "YN5i2hpmSo09"
   },
   "outputs": [],
   "source": [
    "replace_wrong_genres(['hip', 'hop', 'hip-hop'], 'hiphop')"
   ]
  },
  {
   "cell_type": "markdown",
   "metadata": {
    "id": "zQKF16_RG15m"
   },
   "source": [
    "Проверяем"
   ]
  },
  {
   "cell_type": "code",
   "execution_count": 16,
   "metadata": {
    "id": "wvixALnFG15m"
   },
   "outputs": [
    {
     "data": {
      "text/plain": [
       "array(['acid', 'acoustic', 'action', 'adult', 'africa', 'afrikaans',\n",
       "       'alternative', 'alternativepunk', 'ambient', 'americana',\n",
       "       'animated', 'anime', 'arabesk', 'arabic', 'arena',\n",
       "       'argentinetango', 'art', 'audiobook', 'author', 'avantgarde',\n",
       "       'axé', 'baile', 'balkan', 'beats', 'bigroom', 'black', 'bluegrass',\n",
       "       'blues', 'bollywood', 'bossa', 'brazilian', 'breakbeat', 'breaks',\n",
       "       'broadway', 'cantautori', 'cantopop', 'canzone', 'caribbean',\n",
       "       'caucasian', 'celtic', 'chamber', 'chanson', 'children', 'chill',\n",
       "       'chinese', 'choral', 'christian', 'christmas', 'classical',\n",
       "       'classicmetal', 'club', 'colombian', 'comedy', 'conjazz',\n",
       "       'contemporary', 'country', 'cuban', 'dance', 'dancehall',\n",
       "       'dancepop', 'dark', 'death', 'deep', 'deutschrock', 'deutschspr',\n",
       "       'dirty', 'disco', 'dnb', 'documentary', 'downbeat', 'downtempo',\n",
       "       'drum', 'dub', 'dubstep', 'eastern', 'easy', 'electronic',\n",
       "       'electropop', 'emo', 'entehno', 'epicmetal', 'estrada', 'ethnic',\n",
       "       'eurofolk', 'european', 'experimental', 'extrememetal', 'fado',\n",
       "       'fairytail', 'film', 'fitness', 'flamenco', 'folk', 'folklore',\n",
       "       'folkmetal', 'folkrock', 'folktronica', 'forró', 'frankreich',\n",
       "       'französisch', 'french', 'funk', 'future', 'gangsta', 'garage',\n",
       "       'german', 'ghazal', 'gitarre', 'glitch', 'gospel', 'gothic',\n",
       "       'grime', 'grunge', 'gypsy', 'handsup', \"hard'n'heavy\", 'hardcore',\n",
       "       'hardstyle', 'hardtechno', 'hiphop', 'historisch', 'holiday',\n",
       "       'horror', 'house', 'hymn', 'idm', 'independent', 'indian', 'indie',\n",
       "       'indipop', 'industrial', 'inspirational', 'instrumental',\n",
       "       'international', 'irish', 'jam', 'japanese', 'jazz', 'jewish',\n",
       "       'jpop', 'jungle', 'k-pop', 'karadeniz', 'karaoke', 'kayokyoku',\n",
       "       'korean', 'laiko', 'latin', 'latino', 'leftfield', 'local',\n",
       "       'lounge', 'loungeelectronic', 'lovers', 'malaysian', 'mandopop',\n",
       "       'marschmusik', 'meditative', 'mediterranean', 'melodic', 'metal',\n",
       "       'metalcore', 'mexican', 'middle', 'minimal', 'miscellaneous',\n",
       "       'modern', 'mood', 'mpb', 'muslim', 'native', 'neoklassik', 'neue',\n",
       "       'new', 'newage', 'newwave', 'nu', 'nujazz', 'numetal', 'oceania',\n",
       "       'old', 'opera', 'orchestral', 'other', 'piano', 'podcasts', 'pop',\n",
       "       'popdance', 'popelectronic', 'popeurodance', 'poprussian', 'post',\n",
       "       'posthardcore', 'postrock', 'power', 'progmetal', 'progressive',\n",
       "       'psychedelic', 'punjabi', 'punk', 'quebecois', 'ragga', 'ram',\n",
       "       'rancheras', 'rap', 'rave', 'reggae', 'reggaeton', 'regional',\n",
       "       'relax', 'religious', 'retro', 'rhythm', 'rnb', 'rnr', 'rock',\n",
       "       'rockabilly', 'rockalternative', 'rockindie', 'rockother',\n",
       "       'romance', 'roots', 'ruspop', 'rusrap', 'rusrock', 'russian',\n",
       "       'salsa', 'samba', 'scenic', 'schlager', 'self', 'sertanejo',\n",
       "       'shanson', 'shoegazing', 'showtunes', 'singer', 'ska', 'skarock',\n",
       "       'slow', 'smooth', 'soft', 'soul', 'soulful', 'sound', 'soundtrack',\n",
       "       'southern', 'specialty', 'speech', 'spiritual', 'sport',\n",
       "       'stonerrock', 'surf', 'swing', 'synthpop', 'synthrock',\n",
       "       'sängerportrait', 'tango', 'tanzorchester', 'taraftar', 'tatar',\n",
       "       'tech', 'techno', 'teen', 'thrash', 'top', 'traditional',\n",
       "       'tradjazz', 'trance', 'tribal', 'trip', 'triphop', 'tropical',\n",
       "       'türk', 'türkçe', 'ukrrock', 'unknown', 'urban', 'uzbek',\n",
       "       'variété', 'vi', 'videogame', 'vocal', 'western', 'world',\n",
       "       'worldbeat', 'ïîï', 'электроника'], dtype=object)"
      ]
     },
     "execution_count": 16,
     "metadata": {},
     "output_type": "execute_result"
    }
   ],
   "source": [
    "df['genre'].sort_values().unique()"
   ]
  },
  {
   "cell_type": "markdown",
   "metadata": {
    "id": "jz6a9-7HQUDd"
   },
   "source": [
    "**Выводы**\n",
    "\n",
    "Предобработка обнаружила три проблемы в данных:\n",
    "\n",
    "- нарушения в стиле заголовков,\n",
    "- пропущенные значения,\n",
    "- дубликаты — явные и неявные.\n",
    "\n",
    "Вы исправили заголовки, чтобы упростить работу с таблицей. Без дубликатов исследование станет более точным.\n",
    "\n",
    "Пропущенные значения вы заменили на `'unknown'`. Ещё предстоит увидеть, не повредят ли исследованию пропуски в колонке `genre`.\n",
    "\n",
    "Теперь можно перейти к проверке гипотез. "
   ]
  },
  {
   "cell_type": "markdown",
   "metadata": {
    "id": "WttZHXH0SqKk"
   },
   "source": [
    "## Проверка гипотез"
   ]
  },
  {
   "cell_type": "markdown",
   "metadata": {
    "id": "Im936VVi_Zcu"
   },
   "source": [
    "### Сравнение поведения пользователей двух столиц"
   ]
  },
  {
   "cell_type": "markdown",
   "metadata": {
    "id": "nwt_MuaL_Zcu"
   },
   "source": [
    "Первая гипотеза утверждает, что пользователи по-разному слушают музыку в Москве и Санкт-Петербурге. Проверьте это предположение по данным о трёх днях недели — понедельнике, среде и пятнице. Для этого:\n",
    "\n",
    "* Разделим пользователей Москвы и Санкт-Петербурга\n",
    "* Сравним, сколько треков послушала каждая группа пользователей в понедельник, среду и пятницу.\n"
   ]
  },
  {
   "cell_type": "code",
   "execution_count": 17,
   "metadata": {
    "id": "0_Qs96oh_Zcu"
   },
   "outputs": [
    {
     "data": {
      "text/plain": [
       "city\n",
       "Moscow              42741\n",
       "Saint-Petersburg    18512\n",
       "Name: user_id, dtype: int64"
      ]
     },
     "execution_count": 17,
     "metadata": {},
     "output_type": "execute_result"
    }
   ],
   "source": [
    "df.groupby('city')['user_id'].count()"
   ]
  },
  {
   "cell_type": "markdown",
   "metadata": {
    "id": "dzli3w8o_Zcu"
   },
   "source": [
    "В Москве прослушиваний больше, чем в Петербурге. Из этого не следует, что московские пользователи чаще слушают музыку. Просто самих пользователей в Москве больше.\n",
    "\n",
    "Теперь сгруппируем данные по дню недели и подсчитаем прослушивания в понедельник, среду и пятницу.\n"
   ]
  },
  {
   "cell_type": "code",
   "execution_count": 18,
   "metadata": {
    "id": "uZMKjiJz_Zcu"
   },
   "outputs": [
    {
     "data": {
      "text/plain": [
       "day\n",
       "Friday       21840\n",
       "Monday       21354\n",
       "Wednesday    18059\n",
       "Name: user_id, dtype: int64"
      ]
     },
     "execution_count": 18,
     "metadata": {},
     "output_type": "execute_result"
    }
   ],
   "source": [
    "df.groupby('day')['user_id'].count()"
   ]
  },
  {
   "cell_type": "markdown",
   "metadata": {
    "id": "cC2tNrlL_Zcu"
   },
   "source": [
    "В среднем пользователи из двух городов менее активны по средам. Но картина может измениться, если рассмотреть каждый город в отдельности."
   ]
  },
  {
   "cell_type": "markdown",
   "metadata": {
    "id": "POzs8bGa_Zcu"
   },
   "source": [
    "По условиям технического задания к исследованию создадим функцию `number_tracks()`, которая посчитает прослушивания для заданного дня и города. "
   ]
  },
  {
   "cell_type": "code",
   "execution_count": 19,
   "metadata": {
    "id": "Nz3GdQB1_Zcu"
   },
   "outputs": [],
   "source": [
    "def number_tracks(day, city):\n",
    "    track_list = df[(df['day'] == day) & (df['city'] == city)]\n",
    "    track_list_count = track_list['user_id'].count()\n",
    "    return track_list_count\n"
   ]
  },
  {
   "cell_type": "markdown",
   "metadata": {
    "id": "ytf7xFrFJQ2r"
   },
   "source": [
    "Посмотрим на данные по дням недели и городам"
   ]
  },
  {
   "cell_type": "code",
   "execution_count": 20,
   "metadata": {
    "id": "rJcRATNQ_Zcu"
   },
   "outputs": [
    {
     "name": "stdout",
     "output_type": "stream",
     "text": [
      "Количество прослушиваний в Москве по понедельникам: 15740\n"
     ]
    }
   ],
   "source": [
    "print('Количество прослушиваний в Москве по понедельникам:', number_tracks('Monday', 'Moscow'))"
   ]
  },
  {
   "cell_type": "code",
   "execution_count": 21,
   "metadata": {
    "id": "hq_ncZ5T_Zcu"
   },
   "outputs": [
    {
     "name": "stdout",
     "output_type": "stream",
     "text": [
      "Количество прослушиваний в Санкт-Петербурге по понедельникам: 5614\n"
     ]
    }
   ],
   "source": [
    "print('Количество прослушиваний в Санкт-Петербурге по понедельникам:', number_tracks('Monday', 'Saint-Petersburg'))"
   ]
  },
  {
   "cell_type": "code",
   "execution_count": 22,
   "metadata": {
    "id": "_NTy2VPU_Zcu"
   },
   "outputs": [
    {
     "name": "stdout",
     "output_type": "stream",
     "text": [
      "Количество прослушиваний в Москве по средам: 11056\n"
     ]
    }
   ],
   "source": [
    "print('Количество прослушиваний в Москве по средам:', number_tracks('Wednesday', 'Moscow'))"
   ]
  },
  {
   "cell_type": "code",
   "execution_count": 23,
   "metadata": {
    "id": "j2y3TAwo_Zcu"
   },
   "outputs": [
    {
     "name": "stdout",
     "output_type": "stream",
     "text": [
      "Количество прослушиваний в Санкт-Петербурге по средам: 7003\n"
     ]
    }
   ],
   "source": [
    "print('Количество прослушиваний в Санкт-Петербурге по средам:', number_tracks('Wednesday', 'Saint-Petersburg'))"
   ]
  },
  {
   "cell_type": "code",
   "execution_count": 24,
   "metadata": {
    "id": "vYDw5u_K_Zcu"
   },
   "outputs": [
    {
     "name": "stdout",
     "output_type": "stream",
     "text": [
      "Количество прослушиваний в Москве по пятницам: 15945\n"
     ]
    }
   ],
   "source": [
    "print('Количество прослушиваний в Москве по пятницам:', number_tracks('Friday', 'Moscow'))"
   ]
  },
  {
   "cell_type": "code",
   "execution_count": 25,
   "metadata": {
    "id": "8_yzFtW3_Zcu"
   },
   "outputs": [
    {
     "name": "stdout",
     "output_type": "stream",
     "text": [
      "Количество прослушиваний в Санкт-Петербурге по пятницам: 5895\n"
     ]
    }
   ],
   "source": [
    "print('Количество прослушиваний в Санкт-Петербурге по пятницам:', number_tracks('Friday', 'Saint-Petersburg'))"
   ]
  },
  {
   "cell_type": "markdown",
   "metadata": {
    "id": "7QXffbO-_Zcu"
   },
   "source": [
    "Создадим таблицу, где\n",
    "* названия колонок — `['city', 'monday', 'wednesday', 'friday']`;\n",
    "* данные — результаты, которые вы получили с помощью `number_tracks`."
   ]
  },
  {
   "cell_type": "code",
   "execution_count": 26,
   "metadata": {
    "id": "APAcLpOr_Zcu"
   },
   "outputs": [
    {
     "data": {
      "text/html": [
       "<div>\n",
       "<style scoped>\n",
       "    .dataframe tbody tr th:only-of-type {\n",
       "        vertical-align: middle;\n",
       "    }\n",
       "\n",
       "    .dataframe tbody tr th {\n",
       "        vertical-align: top;\n",
       "    }\n",
       "\n",
       "    .dataframe thead th {\n",
       "        text-align: right;\n",
       "    }\n",
       "</style>\n",
       "<table border=\"1\" class=\"dataframe\">\n",
       "  <thead>\n",
       "    <tr style=\"text-align: right;\">\n",
       "      <th></th>\n",
       "      <th>city</th>\n",
       "      <th>monday</th>\n",
       "      <th>wednesday</th>\n",
       "      <th>friday</th>\n",
       "    </tr>\n",
       "  </thead>\n",
       "  <tbody>\n",
       "    <tr>\n",
       "      <th>0</th>\n",
       "      <td>Moscow</td>\n",
       "      <td>15740</td>\n",
       "      <td>11056</td>\n",
       "      <td>15945</td>\n",
       "    </tr>\n",
       "    <tr>\n",
       "      <th>1</th>\n",
       "      <td>Saint-Petersburg</td>\n",
       "      <td>5614</td>\n",
       "      <td>7003</td>\n",
       "      <td>5895</td>\n",
       "    </tr>\n",
       "  </tbody>\n",
       "</table>\n",
       "</div>"
      ],
      "text/plain": [
       "               city  monday  wednesday  friday\n",
       "0            Moscow   15740      11056   15945\n",
       "1  Saint-Petersburg    5614       7003    5895"
      ]
     },
     "execution_count": 26,
     "metadata": {},
     "output_type": "execute_result"
    }
   ],
   "source": [
    "cities = ['Moscow', 'Saint-Petersburg']\n",
    "days = ['Monday', 'Wednesday', 'Friday']\n",
    "data = []\n",
    "columns = ['city', 'monday', 'wednesday', 'friday']\n",
    "\n",
    "#наполняем data данными\n",
    "for i in range(len(cities)):\n",
    "    data_row = []\n",
    "    data_row.append(cities[i])\n",
    "    for day in days:\n",
    "        data_row.append(number_tracks(day, cities[i]))\n",
    "    data.append(data_row)\n",
    "\n",
    "# Таблица с результатами\n",
    "pd.DataFrame(data = data, columns = columns)\n",
    "        "
   ]
  },
  {
   "cell_type": "markdown",
   "metadata": {
    "id": "-EgPIHYu_Zcu"
   },
   "source": [
    "**Выводы**\n",
    "\n",
    "Данные показывают разницу поведения пользователей:\n",
    "\n",
    "- В Москве пик прослушиваний приходится на понедельник и пятницу, а в среду заметен спад.\n",
    "- В Петербурге, наоборот, больше слушают музыку по средам. Активность в понедельник и пятницу здесь почти в равной мере уступает среде.\n",
    "\n",
    "Значит, данные говорят в пользу первой гипотезы."
   ]
  },
  {
   "cell_type": "markdown",
   "metadata": {
    "id": "atZAxtq4_Zcu"
   },
   "source": [
    "### Музыка в начале и в конце недели"
   ]
  },
  {
   "cell_type": "markdown",
   "metadata": {
    "id": "eXrQqXFH_Zcu"
   },
   "source": [
    "Согласно второй гипотезе, утром в понедельник в Москве преобладают одни жанры, а в Петербурге — другие. Так же и вечером пятницы преобладают разные жанры — в зависимости от города."
   ]
  },
  {
   "cell_type": "markdown",
   "metadata": {
    "id": "S8UcW6Hw_Zcu"
   },
   "source": [
    "Сохраним таблицы с данными в две переменные:\n",
    "* по Москве — в `moscow_general`;\n",
    "* по Санкт-Петербургу — в `spb_general`."
   ]
  },
  {
   "cell_type": "code",
   "execution_count": 27,
   "metadata": {
    "id": "qeaFfM_P_Zcu"
   },
   "outputs": [],
   "source": [
    "moscow_general = df[df['city'] == 'Moscow']"
   ]
  },
  {
   "cell_type": "code",
   "execution_count": 28,
   "metadata": {
    "id": "ORaVRKto_Zcu"
   },
   "outputs": [],
   "source": [
    "spb_general = df[df['city'] == 'Saint-Petersburg']"
   ]
  },
  {
   "cell_type": "markdown",
   "metadata": {
    "id": "MEJV-CX2_Zcu"
   },
   "source": [
    "По условиям технического задания к исследованию создадим функцию `genre_weekday()` с четырьмя параметрами:\n",
    "* таблица (датафрейм) с данными,\n",
    "* день недели,\n",
    "* начальная временная метка в формате 'hh:mm', \n",
    "* последняя временная метка в формате 'hh:mm'.\n",
    "\n",
    "Функция должна вернуть информацию о топ-10 жанров тех треков, которые прослушивали в указанный день, в промежутке между двумя отметками времени."
   ]
  },
  {
   "cell_type": "code",
   "execution_count": 29,
   "metadata": {
    "id": "laJT9BYl_Zcu"
   },
   "outputs": [],
   "source": [
    "def genre_weekday(table, day, time1, time2):\n",
    "    genre_df = table[table['day'] == day]\n",
    "    genre_df = genre_df[genre_df['time'] > time1]\n",
    "    genre_df = genre_df[genre_df['time'] < time2]\n",
    "    \n",
    "    genre_df_count = genre_df.groupby('genre')['user_id'].count()\n",
    "    genre_df_sorted = genre_df_count.sort_values(ascending = False)\n",
    "    return genre_df_sorted.head(10)\n"
   ]
  },
  {
   "cell_type": "markdown",
   "metadata": {
    "id": "la2s2_PF_Zcu"
   },
   "source": [
    "Cравним результаты функции `genre_weekday()` для Москвы и Санкт-Петербурга в понедельник утром (с 7:00 до 11:00) и в пятницу вечером (с 17:00 до 23:00):"
   ]
  },
  {
   "cell_type": "code",
   "execution_count": 30,
   "metadata": {
    "id": "yz7itPUQ_Zcu"
   },
   "outputs": [
    {
     "name": "stdout",
     "output_type": "stream",
     "text": [
      "Топ-10 прослушанных жанров для утра понедельника в Москве:\n",
      "genre\n",
      "pop            781\n",
      "dance          549\n",
      "electronic     480\n",
      "rock           474\n",
      "hiphop         286\n",
      "ruspop         186\n",
      "world          181\n",
      "rusrap         175\n",
      "alternative    164\n",
      "unknown        161\n",
      "Name: user_id, dtype: int64\n"
     ]
    }
   ],
   "source": [
    "print('Топ-10 прослушанных жанров для утра понедельника в Москве:')\n",
    "print(genre_weekday(moscow_general, 'Monday', '07:00', '11:00'))"
   ]
  },
  {
   "cell_type": "code",
   "execution_count": 31,
   "metadata": {
    "id": "kwUcHPdy_Zcu"
   },
   "outputs": [
    {
     "name": "stdout",
     "output_type": "stream",
     "text": [
      "Топ-10 прослушанных жанров для утра понедельника в Санкт-Петербурге:\n",
      "genre\n",
      "pop            218\n",
      "dance          182\n",
      "rock           162\n",
      "electronic     147\n",
      "hiphop          80\n",
      "ruspop          64\n",
      "alternative     58\n",
      "rusrap          55\n",
      "jazz            44\n",
      "classical       40\n",
      "Name: user_id, dtype: int64\n"
     ]
    }
   ],
   "source": [
    "print('Топ-10 прослушанных жанров для утра понедельника в Санкт-Петербурге:')\n",
    "print(genre_weekday(spb_general, 'Monday', '07:00', '11:00'))"
   ]
  },
  {
   "cell_type": "code",
   "execution_count": 32,
   "metadata": {
    "id": "EzXVRE1o_Zcu"
   },
   "outputs": [
    {
     "name": "stdout",
     "output_type": "stream",
     "text": [
      "Топ-10 прослушанных жанров для вечера пятницы в Москве:\n",
      "genre\n",
      "pop            713\n",
      "rock           517\n",
      "dance          495\n",
      "electronic     482\n",
      "hiphop         273\n",
      "world          208\n",
      "ruspop         170\n",
      "alternative    163\n",
      "classical      163\n",
      "rusrap         142\n",
      "Name: user_id, dtype: int64\n"
     ]
    }
   ],
   "source": [
    "print('Топ-10 прослушанных жанров для вечера пятницы в Москве:')\n",
    "print(genre_weekday(moscow_general, 'Friday', '17:00', '23:00'))"
   ]
  },
  {
   "cell_type": "code",
   "execution_count": 33,
   "metadata": {
    "id": "JZaEKu5v_Zcu"
   },
   "outputs": [
    {
     "name": "stdout",
     "output_type": "stream",
     "text": [
      "Топ-10 прослушанных жанров для вечера пятницы в Санкт-Петербурге:\n",
      "genre\n",
      "pop            256\n",
      "electronic     216\n",
      "rock           216\n",
      "dance          210\n",
      "hiphop          97\n",
      "alternative     63\n",
      "jazz            61\n",
      "classical       60\n",
      "rusrap          59\n",
      "world           54\n",
      "Name: user_id, dtype: int64\n"
     ]
    }
   ],
   "source": [
    "print('Топ-10 прослушанных жанров для вечера пятницы в Санкт-Петербурге:')\n",
    "print(genre_weekday(spb_general, 'Friday', '17:00', '23:00'))"
   ]
  },
  {
   "cell_type": "markdown",
   "metadata": {
    "id": "wrCe4MNX_Zcu"
   },
   "source": [
    "**Выводы**\n",
    "\n",
    "Если сравнить топ-10 жанров в понедельник утром, можно сделать такие выводы:\n",
    "\n",
    "1. В Москве и Петербурге слушают похожую музыку. Единственное отличие — в московский рейтинг вошёл жанр “world”, а в петербургский — джаз и классика.\n",
    "\n",
    "2. В Москве пропущенных значений оказалось так много, что значение `'unknown'` заняло десятое место среди самых популярных жанров. Значит, пропущенные значения занимают существенную долю в данных и угрожают достоверности исследования.\n",
    "\n",
    "Вечер пятницы не меняет эту картину. Некоторые жанры поднимаются немного выше, другие спускаются, но в целом топ-10 остаётся тем же самым.\n",
    "\n",
    "Таким образом, вторая гипотеза подтвердилась лишь частично:\n",
    "* Пользователи слушают похожую музыку в начале недели и в конце.\n",
    "* Разница между Москвой и Петербургом не слишком выражена. В Москве чаще слушают русскую популярную музыку, в Петербурге — джаз.\n",
    "\n",
    "Однако пропуски в данных ставят под сомнение этот результат. В Москве их так много, что рейтинг топ-10 мог бы выглядеть иначе, если бы не утерянные  данные о жанрах."
   ]
  },
  {
   "cell_type": "markdown",
   "metadata": {
    "id": "JolODAqr_Zcu"
   },
   "source": [
    "### Жанровые предпочтения в Москве и Петербурге\n",
    "\n",
    "Гипотеза: Петербург — столица рэпа, музыку этого жанра там слушают чаще, чем в Москве.  А Москва — город контрастов, в котором, тем не менее, преобладает поп-музыка."
   ]
  },
  {
   "cell_type": "markdown",
   "metadata": {
    "id": "DlegSvaT_Zcu"
   },
   "source": [
    "Сгруппируем таблицу `moscow_general` по жанру и посчитаем прослушивания треков каждого жанра методом `count()`. Затем отсортируем результат в порядке убывания и сохраните его в таблице `moscow_genres`."
   ]
  },
  {
   "cell_type": "code",
   "execution_count": 34,
   "metadata": {
    "id": "r19lIPke_Zcu"
   },
   "outputs": [],
   "source": [
    "moscow_genres = moscow_general.groupby('genre')['genre'].count().sort_values(ascending = False)"
   ]
  },
  {
   "cell_type": "code",
   "execution_count": 35,
   "metadata": {
    "id": "WhCSooF8_Zcv"
   },
   "outputs": [
    {
     "name": "stdout",
     "output_type": "stream",
     "text": [
      "Топ-10 жанровых предпочтений в Москве:\n",
      "genre\n",
      "pop            5892\n",
      "dance          4435\n",
      "rock           3965\n",
      "electronic     3786\n",
      "hiphop         2096\n",
      "classical      1616\n",
      "world          1432\n",
      "alternative    1379\n",
      "ruspop         1372\n",
      "rusrap         1161\n",
      "Name: genre, dtype: int64\n"
     ]
    }
   ],
   "source": [
    "print('Топ-10 жанровых предпочтений в Москве:')\n",
    "print(moscow_genres.head(10))"
   ]
  },
  {
   "cell_type": "markdown",
   "metadata": {
    "id": "cnPG2vnN_Zcv"
   },
   "source": [
    "Теперь повторим то же и для Петербурга."
   ]
  },
  {
   "cell_type": "code",
   "execution_count": 36,
   "metadata": {
    "id": "gluLIpE7_Zcv"
   },
   "outputs": [],
   "source": [
    "spb_genres = spb_general.groupby('genre')['genre'].count().sort_values(ascending = False)"
   ]
  },
  {
   "cell_type": "code",
   "execution_count": 37,
   "metadata": {
    "id": "uaGJHjVU_Zcv"
   },
   "outputs": [
    {
     "name": "stdout",
     "output_type": "stream",
     "text": [
      "Топ-10 жанровых предпочтений в Санкт-Петербурге:\n",
      "genre\n",
      "pop            2431\n",
      "dance          1932\n",
      "rock           1879\n",
      "electronic     1736\n",
      "hiphop          960\n",
      "alternative     649\n",
      "classical       646\n",
      "rusrap          564\n",
      "ruspop          538\n",
      "world           515\n",
      "Name: genre, dtype: int64\n"
     ]
    }
   ],
   "source": [
    "print('Топ-10 жанровых предпочтений в Санкт-Петербурге:')\n",
    "print(spb_genres.head(10))"
   ]
  },
  {
   "cell_type": "markdown",
   "metadata": {
    "id": "RY51YJYu_Zcv"
   },
   "source": [
    "**Выводы**"
   ]
  },
  {
   "cell_type": "markdown",
   "metadata": {
    "id": "nVhnJEm__Zcv"
   },
   "source": [
    "Гипотеза частично подтвердилась:\n",
    "* Поп-музыка — самый популярный жанр в Москве, как и предполагала гипотеза. Более того, в топ-10 жанров встречается близкий жанр — русская популярная музыка.\n",
    "* Вопреки ожиданиям, рэп одинаково популярен в Москве и Петербурге. \n"
   ]
  },
  {
   "cell_type": "markdown",
   "metadata": {
    "id": "ykKQ0N65_Zcv"
   },
   "source": [
    "## Итоги исследования"
   ]
  },
  {
   "cell_type": "markdown",
   "metadata": {
    "id": "tjUwbHb3_Zcv"
   },
   "source": [
    "Мы проверили три гипотезы и установили:\n",
    "\n",
    "1. День недели по-разному влияет на активность пользователей в Москве и Петербурге. \n",
    "\n",
    "Первая гипотеза полностью подтвердилась.\n",
    "\n",
    "2. Музыкальные предпочтения не сильно меняются в течение недели — будь то Москва или Петербург. Небольшие различия заметны в начале недели, по понедельникам:\n",
    "* в Москве слушают музыку жанра “world”,\n",
    "* в Петербурге — джаз и классику.\n",
    "\n",
    "Таким образом, вторая гипотеза подтвердилась лишь отчасти. Этот результат мог оказаться иным, если бы не пропуски в данных.\n",
    "\n",
    "3. Во вкусах пользователей Москвы и Петербурга больше общего чем различий. Вопреки ожиданиям, предпочтения жанров в Петербурге напоминают московские.\n",
    "\n",
    "Третья гипотеза не подтвердилась. Если различия в предпочтениях и существуют, на основной массе пользователей они незаметны."
   ]
  }
 ],
 "metadata": {
  "ExecuteTimeLog": [
   {
    "duration": 869,
    "start_time": "2021-12-14T20:52:50.704Z"
   },
   {
    "duration": 351,
    "start_time": "2021-12-14T20:53:28.044Z"
   },
   {
    "duration": 26,
    "start_time": "2021-12-14T20:53:56.126Z"
   },
   {
    "duration": 35,
    "start_time": "2021-12-14T20:55:09.093Z"
   },
   {
    "duration": 4,
    "start_time": "2021-12-14T20:57:25.852Z"
   },
   {
    "duration": 6,
    "start_time": "2021-12-14T20:57:33.270Z"
   },
   {
    "duration": 5,
    "start_time": "2021-12-14T20:57:38.882Z"
   },
   {
    "duration": 35,
    "start_time": "2021-12-14T20:57:44.630Z"
   },
   {
    "duration": 4,
    "start_time": "2021-12-14T20:57:47.598Z"
   },
   {
    "duration": 30,
    "start_time": "2021-12-14T20:59:55.985Z"
   },
   {
    "duration": 4,
    "start_time": "2021-12-14T21:00:06.646Z"
   },
   {
    "duration": 29,
    "start_time": "2021-12-14T21:01:38.208Z"
   },
   {
    "duration": 4,
    "start_time": "2021-12-14T21:01:40.838Z"
   },
   {
    "duration": 40,
    "start_time": "2021-12-14T21:03:20.940Z"
   },
   {
    "duration": 25,
    "start_time": "2021-12-14T21:06:36.712Z"
   },
   {
    "duration": 29,
    "start_time": "2021-12-14T21:06:46.873Z"
   },
   {
    "duration": 87,
    "start_time": "2021-12-14T21:07:25.463Z"
   },
   {
    "duration": 100,
    "start_time": "2021-12-14T21:08:57.586Z"
   },
   {
    "duration": 4,
    "start_time": "2021-12-14T21:09:02.634Z"
   },
   {
    "duration": 3,
    "start_time": "2021-12-14T21:09:04.653Z"
   },
   {
    "duration": 87,
    "start_time": "2021-12-14T21:09:07.541Z"
   },
   {
    "duration": 62,
    "start_time": "2021-12-14T21:13:34.104Z"
   },
   {
    "duration": 71,
    "start_time": "2021-12-14T21:17:04.222Z"
   },
   {
    "duration": 57,
    "start_time": "2021-12-14T21:17:09.678Z"
   },
   {
    "duration": 5,
    "start_time": "2021-12-14T21:20:38.002Z"
   },
   {
    "duration": 15,
    "start_time": "2021-12-14T21:22:16.690Z"
   },
   {
    "duration": 13,
    "start_time": "2021-12-14T21:22:45.221Z"
   },
   {
    "duration": 66,
    "start_time": "2021-12-14T21:23:16.373Z"
   },
   {
    "duration": 545,
    "start_time": "2021-12-14T21:24:55.441Z"
   },
   {
    "duration": 62,
    "start_time": "2021-12-14T21:25:07.091Z"
   },
   {
    "duration": 831,
    "start_time": "2021-12-14T21:25:48.231Z"
   },
   {
    "duration": 218,
    "start_time": "2021-12-14T21:25:50.812Z"
   },
   {
    "duration": 27,
    "start_time": "2021-12-14T21:25:53.473Z"
   },
   {
    "duration": 34,
    "start_time": "2021-12-14T21:25:56.795Z"
   },
   {
    "duration": 6,
    "start_time": "2021-12-14T21:26:00.256Z"
   },
   {
    "duration": 27,
    "start_time": "2021-12-14T21:26:02.520Z"
   },
   {
    "duration": 5,
    "start_time": "2021-12-14T21:26:04.316Z"
   },
   {
    "duration": 28,
    "start_time": "2021-12-14T21:26:06.512Z"
   },
   {
    "duration": 22,
    "start_time": "2021-12-14T21:26:09.535Z"
   },
   {
    "duration": 36,
    "start_time": "2021-12-14T21:26:11.535Z"
   },
   {
    "duration": 102,
    "start_time": "2021-12-14T21:26:14.077Z"
   },
   {
    "duration": 126,
    "start_time": "2021-12-14T21:26:16.309Z"
   },
   {
    "duration": 90,
    "start_time": "2021-12-14T21:26:18.508Z"
   },
   {
    "duration": 64,
    "start_time": "2021-12-14T21:26:20.906Z"
   },
   {
    "duration": 5,
    "start_time": "2021-12-14T21:26:25.175Z"
   },
   {
    "duration": 15,
    "start_time": "2021-12-14T21:26:27.295Z"
   },
   {
    "duration": 60,
    "start_time": "2021-12-14T21:26:30.373Z"
   },
   {
    "duration": 45,
    "start_time": "2021-12-14T21:32:55.156Z"
   },
   {
    "duration": 44,
    "start_time": "2021-12-14T21:33:18.708Z"
   },
   {
    "duration": 15,
    "start_time": "2021-12-14T21:33:34.703Z"
   },
   {
    "duration": 14,
    "start_time": "2021-12-14T21:33:49.628Z"
   },
   {
    "duration": 14,
    "start_time": "2021-12-14T21:34:19.542Z"
   },
   {
    "duration": 52,
    "start_time": "2021-12-14T21:35:06.702Z"
   },
   {
    "duration": 14,
    "start_time": "2021-12-14T21:35:19.515Z"
   },
   {
    "duration": 14,
    "start_time": "2021-12-14T21:35:25.762Z"
   },
   {
    "duration": 451,
    "start_time": "2021-12-14T21:47:01.812Z"
   },
   {
    "duration": 6,
    "start_time": "2021-12-14T21:48:20.016Z"
   },
   {
    "duration": 29,
    "start_time": "2021-12-14T21:48:21.929Z"
   },
   {
    "duration": 29,
    "start_time": "2021-12-14T21:48:44.276Z"
   },
   {
    "duration": 30,
    "start_time": "2021-12-14T21:48:49.373Z"
   },
   {
    "duration": 27,
    "start_time": "2021-12-14T21:50:02.475Z"
   },
   {
    "duration": 31,
    "start_time": "2021-12-14T21:50:07.648Z"
   },
   {
    "duration": 26,
    "start_time": "2021-12-14T21:50:32.456Z"
   },
   {
    "duration": 32,
    "start_time": "2021-12-14T21:50:50.183Z"
   },
   {
    "duration": 6,
    "start_time": "2021-12-14T21:52:08.694Z"
   },
   {
    "duration": 21,
    "start_time": "2021-12-14T21:52:10.802Z"
   },
   {
    "duration": 19,
    "start_time": "2021-12-14T21:52:13.071Z"
   },
   {
    "duration": 19,
    "start_time": "2021-12-14T21:52:14.821Z"
   },
   {
    "duration": 19,
    "start_time": "2021-12-14T21:52:40.361Z"
   },
   {
    "duration": 22,
    "start_time": "2021-12-14T21:53:00.254Z"
   },
   {
    "duration": 3,
    "start_time": "2021-12-14T21:53:03.456Z"
   },
   {
    "duration": 20,
    "start_time": "2021-12-14T21:53:25.526Z"
   },
   {
    "duration": 531,
    "start_time": "2021-12-14T22:08:23.439Z"
   },
   {
    "duration": 80,
    "start_time": "2021-12-14T22:09:18.509Z"
   },
   {
    "duration": 102,
    "start_time": "2021-12-14T22:09:43.718Z"
   },
   {
    "duration": 93,
    "start_time": "2021-12-14T22:10:02.073Z"
   },
   {
    "duration": 91,
    "start_time": "2021-12-14T22:10:25.246Z"
   },
   {
    "duration": 14,
    "start_time": "2021-12-14T22:37:39.995Z"
   },
   {
    "duration": 31,
    "start_time": "2021-12-14T22:37:55.647Z"
   },
   {
    "duration": 17,
    "start_time": "2021-12-14T22:38:01.074Z"
   },
   {
    "duration": 12,
    "start_time": "2021-12-14T22:38:19.193Z"
   },
   {
    "duration": 7,
    "start_time": "2021-12-14T22:43:38.085Z"
   },
   {
    "duration": 778,
    "start_time": "2021-12-14T22:44:26.762Z"
   },
   {
    "duration": 6,
    "start_time": "2021-12-14T22:45:26.044Z"
   },
   {
    "duration": 5,
    "start_time": "2021-12-14T22:45:39.869Z"
   },
   {
    "duration": 32,
    "start_time": "2021-12-14T22:45:47.389Z"
   },
   {
    "duration": 32,
    "start_time": "2021-12-14T22:46:10.734Z"
   },
   {
    "duration": 32,
    "start_time": "2021-12-14T22:46:21.618Z"
   },
   {
    "duration": 32,
    "start_time": "2021-12-14T22:46:40.932Z"
   },
   {
    "duration": 30,
    "start_time": "2021-12-14T22:47:10.685Z"
   },
   {
    "duration": 3,
    "start_time": "2021-12-14T22:47:55.347Z"
   },
   {
    "duration": 24,
    "start_time": "2021-12-14T22:48:23.113Z"
   },
   {
    "duration": 23,
    "start_time": "2021-12-14T22:49:40.895Z"
   },
   {
    "duration": 24,
    "start_time": "2021-12-14T22:49:42.582Z"
   },
   {
    "duration": 31,
    "start_time": "2021-12-14T22:49:54.354Z"
   },
   {
    "duration": 31,
    "start_time": "2021-12-14T22:49:56.133Z"
   },
   {
    "duration": 24,
    "start_time": "2021-12-14T22:49:58.256Z"
   },
   {
    "duration": 25,
    "start_time": "2021-12-14T22:49:59.333Z"
   },
   {
    "duration": 7,
    "start_time": "2021-12-14T22:50:01.881Z"
   },
   {
    "duration": 32,
    "start_time": "2021-12-14T22:50:05.057Z"
   },
   {
    "duration": 29,
    "start_time": "2021-12-14T22:50:07.087Z"
   },
   {
    "duration": 27,
    "start_time": "2021-12-14T22:50:09.296Z"
   },
   {
    "duration": 26,
    "start_time": "2021-12-14T22:50:11.260Z"
   },
   {
    "duration": 6,
    "start_time": "2021-12-14T22:50:49.689Z"
   },
   {
    "duration": 24,
    "start_time": "2021-12-14T22:50:52.702Z"
   },
   {
    "duration": 18,
    "start_time": "2021-12-14T22:50:54.790Z"
   },
   {
    "duration": 33,
    "start_time": "2021-12-14T22:51:00.999Z"
   },
   {
    "duration": 16,
    "start_time": "2021-12-14T22:51:02.575Z"
   },
   {
    "duration": 6,
    "start_time": "2021-12-14T22:52:24.832Z"
   },
   {
    "duration": 26,
    "start_time": "2021-12-14T22:52:29.174Z"
   },
   {
    "duration": 18,
    "start_time": "2021-12-14T22:52:31.228Z"
   },
   {
    "duration": 24,
    "start_time": "2021-12-14T22:52:37.239Z"
   },
   {
    "duration": 17,
    "start_time": "2021-12-14T22:52:39.378Z"
   },
   {
    "duration": 17,
    "start_time": "2021-12-14T22:53:56.178Z"
   },
   {
    "duration": 33,
    "start_time": "2021-12-14T22:53:58.595Z"
   },
   {
    "duration": 16,
    "start_time": "2021-12-14T22:54:02.305Z"
   },
   {
    "duration": 25,
    "start_time": "2021-12-14T22:54:05.090Z"
   },
   {
    "duration": 13,
    "start_time": "2021-12-14T22:58:15.925Z"
   },
   {
    "duration": 12,
    "start_time": "2021-12-14T22:58:46.042Z"
   },
   {
    "duration": 5,
    "start_time": "2021-12-14T22:59:03.420Z"
   },
   {
    "duration": 9,
    "start_time": "2021-12-14T22:59:27.776Z"
   },
   {
    "duration": 5,
    "start_time": "2021-12-14T22:59:37.839Z"
   },
   {
    "duration": 5,
    "start_time": "2021-12-14T23:04:20.467Z"
   },
   {
    "duration": 9,
    "start_time": "2021-12-14T23:04:25.635Z"
   },
   {
    "duration": 5,
    "start_time": "2021-12-14T23:04:42.134Z"
   },
   {
    "duration": 441,
    "start_time": "2021-12-14T23:05:04.478Z"
   },
   {
    "duration": 766,
    "start_time": "2021-12-14T23:05:42.320Z"
   },
   {
    "duration": 178,
    "start_time": "2021-12-14T23:05:43.089Z"
   },
   {
    "duration": 25,
    "start_time": "2021-12-14T23:05:43.270Z"
   },
   {
    "duration": 33,
    "start_time": "2021-12-14T23:05:43.298Z"
   },
   {
    "duration": 26,
    "start_time": "2021-12-14T23:05:43.333Z"
   },
   {
    "duration": 27,
    "start_time": "2021-12-14T23:05:43.362Z"
   },
   {
    "duration": 7,
    "start_time": "2021-12-14T23:05:43.391Z"
   },
   {
    "duration": 34,
    "start_time": "2021-12-14T23:05:43.400Z"
   },
   {
    "duration": 23,
    "start_time": "2021-12-14T23:05:43.461Z"
   },
   {
    "duration": 28,
    "start_time": "2021-12-14T23:05:43.487Z"
   },
   {
    "duration": 109,
    "start_time": "2021-12-14T23:05:43.517Z"
   },
   {
    "duration": 105,
    "start_time": "2021-12-14T23:05:43.628Z"
   },
   {
    "duration": 90,
    "start_time": "2021-12-14T23:05:43.736Z"
   },
   {
    "duration": 65,
    "start_time": "2021-12-14T23:05:43.829Z"
   },
   {
    "duration": 5,
    "start_time": "2021-12-14T23:05:43.897Z"
   },
   {
    "duration": 14,
    "start_time": "2021-12-14T23:05:43.905Z"
   },
   {
    "duration": 86,
    "start_time": "2021-12-14T23:05:43.921Z"
   },
   {
    "duration": 14,
    "start_time": "2021-12-14T23:05:44.009Z"
   },
   {
    "duration": 35,
    "start_time": "2021-12-14T23:05:44.025Z"
   },
   {
    "duration": 4,
    "start_time": "2021-12-14T23:05:44.063Z"
   },
   {
    "duration": 25,
    "start_time": "2021-12-14T23:05:44.069Z"
   },
   {
    "duration": 18,
    "start_time": "2021-12-14T23:05:44.097Z"
   },
   {
    "duration": 51,
    "start_time": "2021-12-14T23:05:44.118Z"
   },
   {
    "duration": 17,
    "start_time": "2021-12-14T23:05:44.171Z"
   },
   {
    "duration": 20,
    "start_time": "2021-12-14T23:05:44.191Z"
   },
   {
    "duration": 57,
    "start_time": "2021-12-14T23:05:44.213Z"
   },
   {
    "duration": 102,
    "start_time": "2021-12-14T23:05:44.275Z"
   },
   {
    "duration": 13,
    "start_time": "2021-12-14T23:05:44.380Z"
   },
   {
    "duration": 11,
    "start_time": "2021-12-14T23:05:44.396Z"
   },
   {
    "duration": 6,
    "start_time": "2021-12-14T23:05:44.410Z"
   },
   {
    "duration": 58,
    "start_time": "2021-12-14T23:05:44.418Z"
   },
   {
    "duration": 16,
    "start_time": "2021-12-14T23:05:44.478Z"
   },
   {
    "duration": 22,
    "start_time": "2021-12-14T23:05:44.496Z"
   },
   {
    "duration": 48,
    "start_time": "2021-12-14T23:05:44.520Z"
   },
   {
    "duration": 10,
    "start_time": "2021-12-14T23:05:44.571Z"
   },
   {
    "duration": 6,
    "start_time": "2021-12-14T23:05:44.583Z"
   },
   {
    "duration": 9,
    "start_time": "2021-12-14T23:05:44.591Z"
   },
   {
    "duration": 6,
    "start_time": "2021-12-14T23:05:44.602Z"
   },
   {
    "duration": 5,
    "start_time": "2021-12-14T23:05:55.595Z"
   },
   {
    "duration": 6,
    "start_time": "2021-12-14T23:06:02.378Z"
   },
   {
    "duration": 576,
    "start_time": "2021-12-15T19:02:28.471Z"
   },
   {
    "duration": 133,
    "start_time": "2021-12-15T19:02:29.878Z"
   },
   {
    "duration": 17,
    "start_time": "2021-12-15T19:02:31.759Z"
   },
   {
    "duration": 25,
    "start_time": "2021-12-15T19:09:08.217Z"
   },
   {
    "duration": 4,
    "start_time": "2021-12-15T19:09:13.099Z"
   },
   {
    "duration": 65,
    "start_time": "2021-12-15T19:09:45.916Z"
   },
   {
    "duration": 23,
    "start_time": "2021-12-15T19:10:01.479Z"
   },
   {
    "duration": 6,
    "start_time": "2021-12-15T19:10:09.513Z"
   },
   {
    "duration": 24,
    "start_time": "2021-12-15T19:10:21.714Z"
   },
   {
    "duration": 19,
    "start_time": "2021-12-15T19:10:27.504Z"
   },
   {
    "duration": 23,
    "start_time": "2021-12-15T19:10:36.846Z"
   },
   {
    "duration": 57,
    "start_time": "2021-12-15T19:10:44.616Z"
   },
   {
    "duration": 65,
    "start_time": "2021-12-15T19:10:49.858Z"
   },
   {
    "duration": 49,
    "start_time": "2021-12-15T19:10:52.289Z"
   },
   {
    "duration": 46,
    "start_time": "2021-12-15T19:10:58.984Z"
   },
   {
    "duration": 38,
    "start_time": "2021-12-15T19:11:09.567Z"
   },
   {
    "duration": 3,
    "start_time": "2021-12-15T19:11:18.007Z"
   },
   {
    "duration": 9,
    "start_time": "2021-12-15T19:11:21.225Z"
   },
   {
    "duration": 36,
    "start_time": "2021-12-15T19:11:29.932Z"
   },
   {
    "duration": 15,
    "start_time": "2021-12-15T19:11:42.547Z"
   },
   {
    "duration": 16,
    "start_time": "2021-12-15T19:11:50.760Z"
   },
   {
    "duration": 5,
    "start_time": "2021-12-15T19:11:57.346Z"
   },
   {
    "duration": 11,
    "start_time": "2021-12-15T19:12:49.730Z"
   },
   {
    "duration": 3,
    "start_time": "2021-12-15T19:13:18.680Z"
   },
   {
    "duration": 2200,
    "start_time": "2021-12-15T19:13:42.880Z"
   },
   {
    "duration": 521,
    "start_time": "2021-12-15T19:14:07.403Z"
   },
   {
    "duration": 420,
    "start_time": "2021-12-15T19:14:55.605Z"
   },
   {
    "duration": 3,
    "start_time": "2021-12-15T19:15:00.058Z"
   },
   {
    "duration": 3,
    "start_time": "2021-12-15T19:15:24.521Z"
   },
   {
    "duration": 64,
    "start_time": "2021-12-15T19:15:27.468Z"
   },
   {
    "duration": 80,
    "start_time": "2021-12-15T19:15:36.372Z"
   },
   {
    "duration": 334,
    "start_time": "2021-12-15T19:18:30.140Z"
   },
   {
    "duration": 532,
    "start_time": "2021-12-15T19:18:47.120Z"
   },
   {
    "duration": 130,
    "start_time": "2021-12-15T19:18:49.137Z"
   },
   {
    "duration": 17,
    "start_time": "2021-12-15T19:18:50.332Z"
   },
   {
    "duration": 24,
    "start_time": "2021-12-15T19:18:52.888Z"
   },
   {
    "duration": 4,
    "start_time": "2021-12-15T19:18:56.089Z"
   },
   {
    "duration": 19,
    "start_time": "2021-12-15T19:18:57.822Z"
   },
   {
    "duration": 4,
    "start_time": "2021-12-15T19:18:58.643Z"
   },
   {
    "duration": 22,
    "start_time": "2021-12-15T19:19:00.634Z"
   },
   {
    "duration": 17,
    "start_time": "2021-12-15T19:19:02.453Z"
   },
   {
    "duration": 24,
    "start_time": "2021-12-15T19:19:03.881Z"
   },
   {
    "duration": 66,
    "start_time": "2021-12-15T19:19:05.477Z"
   },
   {
    "duration": 67,
    "start_time": "2021-12-15T19:19:07.018Z"
   },
   {
    "duration": 48,
    "start_time": "2021-12-15T19:19:08.173Z"
   },
   {
    "duration": 41,
    "start_time": "2021-12-15T19:19:10.070Z"
   },
   {
    "duration": 3,
    "start_time": "2021-12-15T19:19:12.678Z"
   },
   {
    "duration": 9,
    "start_time": "2021-12-15T19:19:14.007Z"
   },
   {
    "duration": 39,
    "start_time": "2021-12-15T19:19:16.045Z"
   },
   {
    "duration": 10,
    "start_time": "2021-12-15T19:19:19.399Z"
   },
   {
    "duration": 11,
    "start_time": "2021-12-15T19:19:21.018Z"
   },
   {
    "duration": 4,
    "start_time": "2021-12-15T19:19:22.877Z"
   },
   {
    "duration": 63,
    "start_time": "2021-12-15T19:19:27.773Z"
   },
   {
    "duration": 56,
    "start_time": "2021-12-15T19:50:18.635Z"
   },
   {
    "duration": 4,
    "start_time": "2021-12-15T19:50:44.940Z"
   }
  ],
  "colab": {
   "collapsed_sections": [
    "E0vqbgi9ay0H",
    "VUC88oWjTJw2"
   ],
   "name": "yandex_music_project_2021.2.ipynb",
   "provenance": []
  },
  "kernelspec": {
   "display_name": "Python 3 (ipykernel)",
   "language": "python",
   "name": "python3"
  },
  "language_info": {
   "codemirror_mode": {
    "name": "ipython",
    "version": 3
   },
   "file_extension": ".py",
   "mimetype": "text/x-python",
   "name": "python",
   "nbconvert_exporter": "python",
   "pygments_lexer": "ipython3",
   "version": "3.10.1"
  },
  "toc": {
   "base_numbering": 1,
   "nav_menu": {},
   "number_sections": true,
   "sideBar": true,
   "skip_h1_title": true,
   "title_cell": "Table of Contents",
   "title_sidebar": "Contents",
   "toc_cell": false,
   "toc_position": {},
   "toc_section_display": true,
   "toc_window_display": true
  }
 },
 "nbformat": 4,
 "nbformat_minor": 1
}
